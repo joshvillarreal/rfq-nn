{
 "cells": [
  {
   "cell_type": "code",
   "execution_count": 1,
   "metadata": {},
   "outputs": [],
   "source": [
    "import json\n",
    "import matplotlib.pyplot as plt\n",
    "import numpy as np\n",
    "import os\n",
    "import pandas as pd\n",
    "from scipy.optimize import minimize\n",
    "from sklearn.linear_model import LinearRegression\n",
    "from sklearn.model_selection import train_test_split\n",
    "from sklearn.preprocessing import PolynomialFeatures"
   ]
  },
  {
   "cell_type": "code",
   "execution_count": 2,
   "metadata": {},
   "outputs": [],
   "source": [
    "RANDOM_STATE = 42"
   ]
  },
  {
   "cell_type": "code",
   "execution_count": 3,
   "metadata": {},
   "outputs": [],
   "source": [
    "# read in data, configure dataframe\n",
    "target_directory = 'data/full_opt_15KeV'\n",
    "\n",
    "x_dictlist, y_dictlist = [], []\n",
    "\n",
    "for json_file in os.listdir(target_directory):\n",
    "    if json_file[-4:] != 'json':\n",
    "        continue\n",
    "\n",
    "    with open(f'{target_directory}/{json_file}') as f:\n",
    "        samples = json.load(f)['samples']\n",
    "        dvars = [samples[i]['dvar'] for i in samples.keys()]\n",
    "        objs = [samples[i]['obj'] for i in samples.keys()]\n",
    "        \n",
    "        x_dictlist += dvars\n",
    "        y_dictlist += objs\n",
    "        \n",
    "x_df = pd.DataFrame(x_dictlist).apply(pd.to_numeric)\n",
    "y_df = pd.DataFrame(y_dictlist).apply(pd.to_numeric)"
   ]
  },
  {
   "cell_type": "code",
   "execution_count": 6,
   "metadata": {},
   "outputs": [],
   "source": [
    "# important for later\n",
    "FEATURES = x_df.columns\n",
    "assert(' ' not in ''.join(FEATURES))\n",
    "assert('^' not in ''.join(FEATURES))"
   ]
  },
  {
   "cell_type": "markdown",
   "metadata": {},
   "source": [
    "## Fitting a polynomial regression\n",
    "\n",
    "I take this to degree 3."
   ]
  },
  {
   "cell_type": "code",
   "execution_count": 12,
   "metadata": {},
   "outputs": [],
   "source": [
    "# polynomialize data\n",
    "poly = PolynomialFeatures(3, include_bias=False)\n",
    "x_poly_values = poly.fit_transform(x_df)\n",
    "x_poly_df = pd.DataFrame(x_poly_values, columns=poly.get_feature_names_out())"
   ]
  },
  {
   "cell_type": "code",
   "execution_count": 13,
   "metadata": {},
   "outputs": [
    {
     "data": {
      "text/plain": [
       "(217293, 3059)"
      ]
     },
     "execution_count": 13,
     "metadata": {},
     "output_type": "execute_result"
    }
   ],
   "source": [
    "x_poly_df.shape"
   ]
  },
  {
   "cell_type": "code",
   "execution_count": 14,
   "metadata": {},
   "outputs": [],
   "source": [
    "x_train, x_test, y_train, y_test = train_test_split(\n",
    "    x_poly_df, y_df, test_size=0.15, random_state=RANDOM_STATE\n",
    ")"
   ]
  },
  {
   "cell_type": "code",
   "execution_count": 15,
   "metadata": {},
   "outputs": [
    {
     "name": "stdout",
     "output_type": "stream",
     "text": [
      "train set R^2:  0.8919795935858758\n",
      "test set R^2:  0.8679511409608528\n"
     ]
    }
   ],
   "source": [
    "reg = LinearRegression().fit(x_train, y_train)\n",
    "print('train set R^2: ', reg.score(x_train, y_train))\n",
    "print('test set R^2: ', reg.score(x_test, y_test))"
   ]
  },
  {
   "cell_type": "code",
   "execution_count": null,
   "metadata": {},
   "outputs": [],
   "source": []
  }
 ],
 "metadata": {
  "kernelspec": {
   "display_name": "Python 3 (ipykernel)",
   "language": "python",
   "name": "python3"
  },
  "language_info": {
   "codemirror_mode": {
    "name": "ipython",
    "version": 3
   },
   "file_extension": ".py",
   "mimetype": "text/x-python",
   "name": "python",
   "nbconvert_exporter": "python",
   "pygments_lexer": "ipython3",
   "version": "3.8.3"
  }
 },
 "nbformat": 4,
 "nbformat_minor": 4
}
