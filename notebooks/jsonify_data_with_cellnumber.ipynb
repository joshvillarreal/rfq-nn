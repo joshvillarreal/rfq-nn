{
 "cells": [
  {
   "cell_type": "code",
   "execution_count": 1,
   "metadata": {},
   "outputs": [],
   "source": [
    "import json\n",
    "import numpy as np\n",
    "import os\n",
    "import pandas as pd\n",
    "import re"
   ]
  },
  {
   "cell_type": "code",
   "execution_count": 2,
   "metadata": {},
   "outputs": [],
   "source": [
    "path_to_cellnumber_data = '../data/full_with_cellnumber/RFQopt_model_01_Dataset_05_217k-samples.txt'\n",
    "cellnumber_data_file = open(path_to_cellnumber_data, 'r')\n",
    "lines = cellnumber_data_file.readlines()\n",
    "\n",
    "lines_split = [re.split('\\s+', s) for s in lines][:-1]\n",
    "assert(all([len(lines_split[i]) == 23 for i in range(len(lines_split))]))"
   ]
  },
  {
   "cell_type": "code",
   "execution_count": 3,
   "metadata": {},
   "outputs": [],
   "source": [
    "columns = lines_split[0]\n",
    "data_raw = lines_split[1:]"
   ]
  },
  {
   "cell_type": "code",
   "execution_count": 4,
   "metadata": {},
   "outputs": [],
   "source": [
    "data_dict = {col: [entry[i] for entry in data_raw] for i, col in enumerate(columns) if col not in {'|', ''}}\n",
    "data_df = pd.DataFrame(data_dict)\n",
    "data_df = data_df.apply(pd.to_numeric)\n",
    "\n",
    "x_df = data_df[['Bmax', 'mX1', 'mX2', 'mY1', 'mY2', 'mtau1', 'mtau2', 'PhiY1', 'PhiY2',\n",
    "       'Phitau1', 'Phitau2', 'mY3ref', 'PhiY3ref', 'Eref']]\n",
    "y_df = data_df[['Transmission',\n",
    "       'Length', 'Energy', '#Cells', 'E_Long', 'E_X', 'E_Y']]"
   ]
  },
  {
   "cell_type": "markdown",
   "metadata": {},
   "source": [
    "Reminder of column mappings:\n",
    "```\n",
    "DVAR1: Bmax  [ 8.5, 12.0 ]\n",
    "DVAR2: mX1  [ 5, 140 ]\n",
    "DVAR3: mX2  [ 15, 160 ]\n",
    "DVAR4: mY1  [ 1.005, 1.7 ]\n",
    "DVAR5: mY2  [ 1.055, 1.85 ]\n",
    "DVAR6: mtau1  [ 1, 500 ]\n",
    "DVAR7: mtau2  [ 1, 500 ]\n",
    "DVAR8: PhiY1  [ -89.95, -30 ]\n",
    "DVAR9: PhiY2  [ -87.45, -25 ]\n",
    "DVAR10: Phitau1  [ 1, 500 ]\n",
    "DVAR11: Phitau2  [ 1, 500 ]\n",
    "DVAR12: mY3ref  [ 1.105, 2.0 ]\n",
    "DVAR13: PhiY3ref  [ -84.95, -20 ]\n",
    "DVAR14: Eref  [ 0.055, 0.075 ]\n",
    "\n",
    "\n",
    "OBJ definitions:\n",
    "----------------\n",
    "OBJ1: transmission [%]\n",
    "OBJ2: output energy [MeV]\n",
    "OBJ3: RFQ length [cm]\n",
    "OBJ4: longitudinal emittance [MeV*deg]\n",
    "OBJ5: x-emittance [cm*mrad]\n",
    "OBJ6: y-emittance [cm*mrad]\n",
    "```"
   ]
  },
  {
   "cell_type": "code",
   "execution_count": 5,
   "metadata": {},
   "outputs": [],
   "source": [
    "x_column_mapping = {x_col: f'DVAR{i+1}' for i, x_col in enumerate(x_df.columns)}\n",
    "y_column_mapping = {}\n",
    "i=1\n",
    "for y_col in y_df.columns:\n",
    "    if y_col != '#Cells':\n",
    "        y_column_mapping[y_col] = f\"OBJ{i}\"\n",
    "        i += 1\n",
    "    else:\n",
    "        y_column_mapping[y_col] = '#Cells'"
   ]
  },
  {
   "cell_type": "code",
   "execution_count": 6,
   "metadata": {},
   "outputs": [],
   "source": [
    "# rename columns\n",
    "x_df = x_df.rename(columns=x_column_mapping)\n",
    "y_df = y_df.rename(columns=y_column_mapping)"
   ]
  },
  {
   "cell_type": "code",
   "execution_count": 10,
   "metadata": {},
   "outputs": [],
   "source": [
    "# save as json file\n",
    "x_dict = x_df.to_dict('r')\n",
    "y_dict = y_df[[f\"OBJ{i}\" for i in range(1, 7)]].to_dict('r')\n",
    "numcells = y_df['#Cells']\n",
    "\n",
    "assert len(x_dict) == len(y_dict)\n",
    "\n",
    "out_dict = {\n",
    "    \"samples\": {\n",
    "        f\"{i}\": {\"dvar\": x_dict[i], \"obj\": y_dict[i], \"numcells\": numcells[i]} for i in range(len(x_dict))\n",
    "    }\n",
    "}"
   ]
  },
  {
   "cell_type": "code",
   "execution_count": 17,
   "metadata": {},
   "outputs": [],
   "source": [
    "class NpEncoder(json.JSONEncoder):\n",
    "    def default(self, obj):\n",
    "        if isinstance(obj, np.integer):\n",
    "            return int(obj)\n",
    "        if isinstance(obj, np.floating):\n",
    "            return float(obj)\n",
    "        if isinstance(obj, np.ndarray):\n",
    "            return obj.tolist()\n",
    "        return super(NpEncoder, self).default(obj)\n",
    "\n",
    "with open('../data/full_with_cellnumber/dataset.json', 'w') as file:\n",
    "    json.dump(out_dict, file, cls=NpEncoder, indent=4)"
   ]
  },
  {
   "cell_type": "code",
   "execution_count": null,
   "metadata": {},
   "outputs": [],
   "source": []
  }
 ],
 "metadata": {
  "kernelspec": {
   "display_name": "Python 3 (ipykernel)",
   "language": "python",
   "name": "python3"
  },
  "language_info": {
   "codemirror_mode": {
    "name": "ipython",
    "version": 3
   },
   "file_extension": ".py",
   "mimetype": "text/x-python",
   "name": "python",
   "nbconvert_exporter": "python",
   "pygments_lexer": "ipython3",
   "version": "3.8.3"
  }
 },
 "nbformat": 4,
 "nbformat_minor": 4
}
