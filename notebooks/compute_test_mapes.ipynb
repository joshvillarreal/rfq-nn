{
 "cells": [
  {
   "cell_type": "code",
   "execution_count": 1,
   "metadata": {},
   "outputs": [
    {
     "data": {
      "text/plain": [
       "main (generic function with 1 method)"
      ]
     },
     "execution_count": 1,
     "metadata": {},
     "output_type": "execute_result"
    }
   ],
   "source": [
    "using Plots\n",
    "using Statistics\n",
    "using Surrogates\n",
    "using CSV\n",
    "using DataFrames\n",
    "using Distributions\n",
    "using Flux\n",
    "import JSON\n",
    "using MLUtils\n",
    "using Plots\n",
    "using StatsBase\n",
    "using StatsPlots\n",
    "using Tables\n",
    "using HypothesisTests\n",
    "\n",
    "include(\"../scan_hyperparameters_withcellnum_functions.jl\")"
   ]
  },
  {
   "cell_type": "code",
   "execution_count": 2,
   "metadata": {},
   "outputs": [
    {
     "data": {
      "text/plain": [
       "predict (generic function with 1 method)"
      ]
     },
     "execution_count": 2,
     "metadata": {},
     "output_type": "execute_result"
    }
   ],
   "source": [
    "function model_id_to_nn(model_id, x_dim, y_dim)\n",
    "    model_params = Dict()\n",
    "    \n",
    "    for substring in split(model_id, \"_\")\n",
    "        if occursin(\"-\", substring)\n",
    "            continue\n",
    "        elseif occursin(\"w=\", substring)\n",
    "            model_params[\"width\"] = parse(Int, last(split(substring, \"=\")))\n",
    "        elseif occursin(\"d=\", substring)\n",
    "            model_params[\"depth\"] = parse(Int, last(split(substring, \"=\")))\n",
    "        elseif occursin(\"activation=\", substring)\n",
    "            activation_function_string = last(split(substring, \"=\"))\n",
    "            model_params[\"activation\"] = parseactivationfunctions([activation_function_string])[1]\n",
    "        elseif occursin(\"dr=\", substring)\n",
    "            model_params[\"dropout_rate\"] = parse(Float32, last(split(substring, \"=\")))\n",
    "        end\n",
    "    end\n",
    "    \n",
    "    neuralnetworkwithdropout(\n",
    "        x_dim, y_dim, model_params[\"width\"], model_params[\"depth\"],\n",
    "        model_params[\"dropout_rate\"], model_params[\"activation\"]\n",
    "    )\n",
    "end\n",
    "\n",
    "function predict(x_vec)\n",
    "    m([x_vec...])'\n",
    "end"
   ]
  },
  {
   "cell_type": "markdown",
   "metadata": {},
   "source": [
    "## RFQNet1: Without transmission cut, W100 d5"
   ]
  },
  {
   "cell_type": "code",
   "execution_count": 3,
   "metadata": {},
   "outputs": [
    {
     "name": "stdout",
     "output_type": "stream",
     "text": [
      "Formatting data...\n",
      "Decorrelating...\n",
      "- Using preexisting train and test sets from ../indexes/\n"
     ]
    },
    {
     "name": "stderr",
     "output_type": "stream",
     "text": [
      "WARNING: both Distributions and Surrogates export \"sample\"; uses of it in module Main must be qualified\n"
     ]
    }
   ],
   "source": [
    "target_directory = \"../data/full_with_cellnumber/\"\n",
    "\n",
    "println(\"Formatting data...\")\n",
    "x_raw_df, y_df, cellnumber_df = getrawdata_withcellnum(target_directory)\n",
    "\n",
    "# we are interested in whether cellnumber is odd or even\n",
    "cellnumber_df = cellnumber_df .% 2\n",
    "\n",
    "# how to process cellnumber, for now let's make it another dvar\n",
    "x_raw_df = hcat(x_raw_df, cellnumber_df)\n",
    "\n",
    "#= cutting transmission\n",
    "if cut_transmission\n",
    "    println(\"Cutting Transmission to 60-100 percent...\")\n",
    "    lower::Float32 = 60\n",
    "    upper::Float32 = 120\n",
    "    x_raw_df, y_df = applycut(x_raw_df, y_df, \"OBJ1\", lower, upper; with_numcells=true)\n",
    "end =#\n",
    "\n",
    "# decorrelating\n",
    "println(\"Decorrelating...\")\n",
    "x_df = decorrelatedvars(x_raw_df; with_numcells=true)\n",
    "\n",
    "# scaling\n",
    "x_scaled_df, x_scalers = minmaxscaledf(x_df)\n",
    "y_scaled_df, y_scalers = minmaxscaledf(y_df)\n",
    "\n",
    "# need to make sure that column names didn't switch orders\n",
    "@assert names(x_raw_df) == names(x_scaled_df)\n",
    "@assert names(y_df) == names(y_scaled_df)\n",
    "\n",
    "# hardcoding that we are using the same train / test indexes for everything\n",
    "x_train_df, x_test_df, y_train_df, y_test_df = traintestsplit(\n",
    "    x_scaled_df, y_scaled_df; read_in=true, path=\"../indexes/\", cut_transmission=false\n",
    ")\n",
    "\n",
    "x_train = Float32.(Matrix(x_train_df));\n",
    "x_test = Float32.(Matrix(x_test_df));\n",
    "y_train = Float32.(Matrix(y_train_df));\n",
    "y_test = Float32.(Matrix(y_test_df));"
   ]
  },
  {
   "cell_type": "code",
   "execution_count": 4,
   "metadata": {},
   "outputs": [],
   "source": [
    "# RFQ1 is D5 W100. Let's get that model\n",
    "model_id = \"2023-06-17_01-16-33_w=100_d=5_activation=sigmoid_bs=1024_lr=0.001_dr=0.0_1\"\n",
    "model_state = JLD2.load(\"../models/$model_id.jld2\", \"model_state\");\n",
    "m = model_id_to_nn(model_id, size(x_df)[2], size(y_df)[2]);\n",
    "Flux.loadmodel!(m, model_state);"
   ]
  },
  {
   "cell_type": "code",
   "execution_count": 5,
   "metadata": {},
   "outputs": [
    {
     "name": "stdout",
     "output_type": "stream",
     "text": [
      "OBJ1\n",
      "0.015064367592520542\n",
      "OBJ2\n",
      "0.018039971025603344\n",
      "OBJ3\n",
      "0.012843054362993565\n",
      "OBJ4\n",
      "0.06935988706256477\n",
      "OBJ5\n",
      "0.04776152641999147\n",
      "OBJ6\n",
      "0.04847033803329832\n"
     ]
    }
   ],
   "source": [
    "# compute MAPEs for each objective in test set\n",
    "test_preds = m(x_test')'\n",
    "\n",
    "for i in 1:6\n",
    "    println(\"OBJ$i\")\n",
    "    println(mape(y_test[:, i], test_preds[:, i], y_scalers[\"OBJ$i\"]))\n",
    "end"
   ]
  },
  {
   "cell_type": "code",
   "execution_count": 6,
   "metadata": {},
   "outputs": [
    {
     "name": "stdout",
     "output_type": "stream",
     "text": [
      "OBJ1\n",
      "Approximate two sample Kolmogorov-Smirnov test\n",
      "----------------------------------------------\n",
      "Population details:\n",
      "    parameter of interest:   Supremum of CDF differences\n",
      "    value under h_0:         0.0\n",
      "    point estimate:          0.00760502\n",
      "\n",
      "Test summary:\n",
      "    outcome with 95% confidence: reject h_0\n",
      "    two-sided p-value:           0.0363\n",
      "\n",
      "Details:\n",
      "    number of observations:   [173260,43316]\n",
      "    KS-statistic:              1.4156908752342232\n",
      "\n",
      "OBJ2\n",
      "Approximate two sample Kolmogorov-Smirnov test\n",
      "----------------------------------------------\n",
      "Population details:\n",
      "    parameter of interest:   Supremum of CDF differences\n",
      "    value under h_0:         0.0\n",
      "    point estimate:          0.00929977\n",
      "\n",
      "Test summary:\n",
      "    outcome with 95% confidence: reject h_0\n",
      "    two-sided p-value:           0.0050\n",
      "\n",
      "Details:\n",
      "    number of observations:   [173260,43316]\n",
      "    KS-statistic:              1.7311733907849716\n",
      "\n",
      "OBJ3\n",
      "Approximate two sample Kolmogorov-Smirnov test\n",
      "----------------------------------------------\n",
      "Population details:\n",
      "    parameter of interest:   Supremum of CDF differences\n",
      "    value under h_0:         0.0\n",
      "    point estimate:          0.00605123\n",
      "\n",
      "Test summary:\n",
      "    outcome with 95% confidence: fail to reject h_0\n",
      "    two-sided p-value:           0.1580\n",
      "\n",
      "Details:\n",
      "    number of observations:   [173260,43316]\n",
      "    KS-statistic:              1.1264492920526186\n",
      "\n",
      "OBJ4\n",
      "Approximate two sample Kolmogorov-Smirnov test\n",
      "----------------------------------------------\n",
      "Population details:\n",
      "    parameter of interest:   Supremum of CDF differences\n",
      "    value under h_0:         0.0\n",
      "    point estimate:          0.00559926\n",
      "\n",
      "Test summary:\n",
      "    outcome with 95% confidence: fail to reject h_0\n",
      "    two-sided p-value:           0.2274\n",
      "\n",
      "Details:\n",
      "    number of observations:   [173260,43316]\n",
      "    KS-statistic:              1.0423146616658236\n",
      "\n",
      "OBJ5\n",
      "Approximate two sample Kolmogorov-Smirnov test\n",
      "----------------------------------------------\n",
      "Population details:\n",
      "    parameter of interest:   Supremum of CDF differences\n",
      "    value under h_0:         0.0\n",
      "    point estimate:          0.0116565\n",
      "\n",
      "Test summary:\n",
      "    outcome with 95% confidence: reject h_0\n",
      "    two-sided p-value:           0.0002\n",
      "\n",
      "Details:\n",
      "    number of observations:   [173260,43316]\n",
      "    KS-statistic:              2.169884597898711\n",
      "\n",
      "OBJ6\n",
      "Approximate two sample Kolmogorov-Smirnov test\n",
      "----------------------------------------------\n",
      "Population details:\n",
      "    parameter of interest:   Supremum of CDF differences\n",
      "    value under h_0:         0.0\n",
      "    point estimate:          0.0105118\n",
      "\n",
      "Test summary:\n",
      "    outcome with 95% confidence: reject h_0\n",
      "    two-sided p-value:           0.0009\n",
      "\n",
      "Details:\n",
      "    number of observations:   [173260,43316]\n",
      "    KS-statistic:              1.9567936383137563\n",
      "\n"
     ]
    }
   ],
   "source": [
    "# check for overfitting\n",
    "train_preds = m(x_train')'\n",
    "train_resids = y_train .- train_preds; test_resids = y_test .- test_preds;\n",
    "\n",
    "for i in 1:6\n",
    "    println(\"OBJ$i\")\n",
    "    println(HypothesisTests.ApproximateTwoSampleKSTest(train_resids[:, i], test_resids[:, i]))\n",
    "end"
   ]
  },
  {
   "cell_type": "markdown",
   "metadata": {},
   "source": [
    "## RFQNet2: With transmission cut, w100 d6"
   ]
  },
  {
   "cell_type": "code",
   "execution_count": 12,
   "metadata": {},
   "outputs": [
    {
     "name": "stdout",
     "output_type": "stream",
     "text": [
      "Formatting data...\n",
      "Decorrelating...\n",
      "- Using preexisting train and test sets from ../indexes/transmission_above_60/\n"
     ]
    }
   ],
   "source": [
    "target_directory = \"../data/full_with_cellnumber/\"\n",
    "\n",
    "println(\"Formatting data...\")\n",
    "x_raw_cut_df, y_cut_df, cellnumber_cut_df = getrawdata_withcellnum(target_directory)\n",
    "\n",
    "# we are interested in whether cellnumber is odd or even\n",
    "cellnumber_cut_df = cellnumber_cut_df .% 2\n",
    "\n",
    "# how to process cellnumber, for now let's make it another dvar\n",
    "x_raw_cut_df = hcat(x_raw_cut_df, cellnumber_cut_df)\n",
    "\n",
    "#= cutting transmission\n",
    "if cut_transmission\n",
    "    println(\"Cutting Transmission to 60-100 percent...\")\n",
    "    lower::Float32 = 60\n",
    "    upper::Float32 = 120\n",
    "    x_raw_cut_df, y_cut_df = applycut(x_raw_cut_df, y_cut_df, \"OBJ1\", lower, upper; with_numcells=true)\n",
    "end =#\n",
    "\n",
    "# decorrelating\n",
    "println(\"Decorrelating...\")\n",
    "x_cut_df = decorrelatedvars(x_raw_cut_df; with_numcells=true)\n",
    "\n",
    "# scaling\n",
    "x_scaled_cut_df, x_scalers = minmaxscaledf(x_cut_df)\n",
    "y_scaled_cut_df, y_scalers = minmaxscaledf(y_cut_df)\n",
    "\n",
    "# need to make sure that column names didn't switch orders\n",
    "@assert names(x_raw_cut_df) == names(x_scaled_cut_df)\n",
    "@assert names(y_cut_df) == names(y_scaled_cut_df)\n",
    "\n",
    "# hardcoding that we are using the same train / test indexes for everything\n",
    "x_train_cut_df, x_test_cut_df, y_train_cut_df, y_test_cut_df = traintestsplit(\n",
    "    x_scaled_cut_df, y_scaled_cut_df; read_in=true, path=\"../indexes/\", cut_transmission=true\n",
    ")\n",
    "\n",
    "x_train_cut = Float32.(Matrix(x_train_cut_df));\n",
    "x_test_cut = Float32.(Matrix(x_test_cut_df));\n",
    "y_train_cut = Float32.(Matrix(y_train_cut_df));\n",
    "y_test_cut = Float32.(Matrix(y_test_cut_df));"
   ]
  },
  {
   "cell_type": "code",
   "execution_count": 17,
   "metadata": {},
   "outputs": [
    {
     "data": {
      "text/plain": [
       "Dict{String, MinMaxScaler} with 6 entries:\n",
       "  \"OBJ4\" => MinMaxScaler(0.00582, 1.34901)\n",
       "  \"OBJ6\" => MinMaxScaler(0.00697, 0.10912)\n",
       "  \"OBJ2\" => MinMaxScaler(0.0542, 0.087)\n",
       "  \"OBJ3\" => MinMaxScaler(35.05, 386.37)\n",
       "  \"OBJ5\" => MinMaxScaler(0.00731, 0.10398)\n",
       "  \"OBJ1\" => MinMaxScaler(1.53, 99.5)"
      ]
     },
     "execution_count": 17,
     "metadata": {},
     "output_type": "execute_result"
    }
   ],
   "source": [
    "y_scalers"
   ]
  },
  {
   "cell_type": "code",
   "execution_count": 13,
   "metadata": {},
   "outputs": [],
   "source": [
    "# RFQ2 is D6 W100. Let's get that model\n",
    "model_id = \"2023-06-16_19-27-42_w=100_d=6_activation=sigmoid_bs=1024_lr=0.001_dr=0.0_1\"\n",
    "model_state = JLD2.load(\"../models/$model_id.jld2\", \"model_state\");\n",
    "m = model_id_to_nn(model_id, size(x_df)[2], size(y_df)[2]);\n",
    "Flux.loadmodel!(m, model_state);"
   ]
  },
  {
   "cell_type": "code",
   "execution_count": 14,
   "metadata": {},
   "outputs": [
    {
     "name": "stdout",
     "output_type": "stream",
     "text": [
      "OBJ1\n",
      "0.009707415807886447\n",
      "OBJ2\n",
      "0.01786268787232915\n",
      "OBJ3\n",
      "0.01250091997066104\n",
      "OBJ4\n",
      "0.057817749745693786\n",
      "OBJ5\n",
      "0.040755643857710695\n",
      "OBJ6\n",
      "0.04047786215140378\n"
     ]
    }
   ],
   "source": [
    "# compute MAPEs for each objective in test set\n",
    "test_preds_cut = m(x_test_cut')'\n",
    "\n",
    "for i in 1:6\n",
    "    println(\"OBJ$i\")\n",
    "    println(mape(y_test_cut[:, i], test_preds_cut[:, i], y_scalers[\"OBJ$i\"]))\n",
    "end"
   ]
  },
  {
   "cell_type": "code",
   "execution_count": 15,
   "metadata": {},
   "outputs": [
    {
     "name": "stdout",
     "output_type": "stream",
     "text": [
      "OBJ1\n",
      "Approximate two sample Kolmogorov-Smirnov test\n",
      "----------------------------------------------\n",
      "Population details:\n",
      "    parameter of interest:   Supremum of CDF differences\n",
      "    value under h_0:         0.0\n",
      "    point estimate:          0.0109877\n",
      "\n",
      "Test summary:\n",
      "    outcome with 95% confidence: reject h_0\n",
      "    two-sided p-value:           0.0039\n",
      "\n",
      "Details:\n",
      "    number of observations:   [128677,32357]\n",
      "    KS-statistic:              1.7667789957857338\n",
      "\n",
      "OBJ2\n",
      "Approximate two sample Kolmogorov-Smirnov test\n",
      "----------------------------------------------\n",
      "Population details:\n",
      "    parameter of interest:   Supremum of CDF differences\n",
      "    value under h_0:         0.0\n",
      "    point estimate:          0.0132115\n",
      "\n",
      "Test summary:\n",
      "    outcome with 95% confidence: reject h_0\n",
      "    two-sided p-value:           0.0002\n",
      "\n",
      "Details:\n",
      "    number of observations:   [128677,32357]\n",
      "    KS-statistic:              2.1243534884653217\n",
      "\n",
      "OBJ3\n",
      "Approximate two sample Kolmogorov-Smirnov test\n",
      "----------------------------------------------\n",
      "Population details:\n",
      "    parameter of interest:   Supremum of CDF differences\n",
      "    value under h_0:         0.0\n",
      "    point estimate:          0.00927207\n",
      "\n",
      "Test summary:\n",
      "    outcome with 95% confidence: reject h_0\n",
      "    two-sided p-value:           0.0235\n",
      "\n",
      "Details:\n",
      "    number of observations:   [128677,32357]\n",
      "    KS-statistic:              1.4909138599802454\n",
      "\n",
      "OBJ4\n",
      "Approximate two sample Kolmogorov-Smirnov test\n",
      "----------------------------------------------\n",
      "Population details:\n",
      "    parameter of interest:   Supremum of CDF differences\n",
      "    value under h_0:         0.0\n",
      "    point estimate:          0.00690117\n",
      "\n",
      "Test summary:\n",
      "    outcome with 95% confidence: fail to reject h_0\n",
      "    two-sided p-value:           0.1703\n",
      "\n",
      "Details:\n",
      "    number of observations:   [128677,32357]\n",
      "    KS-statistic:              1.109681951213553\n",
      "\n",
      "OBJ5\n",
      "Approximate two sample Kolmogorov-Smirnov test\n",
      "----------------------------------------------\n",
      "Population details:\n",
      "    parameter of interest:   Supremum of CDF differences\n",
      "    value under h_0:         0.0\n",
      "    point estimate:          0.0164068\n",
      "\n",
      "Test summary:\n",
      "    outcome with 95% confidence: reject h_0\n",
      "    two-sided p-value:           <1e-05\n",
      "\n",
      "Details:\n",
      "    number of observations:   [128677,32357]\n",
      "    KS-statistic:              2.638143540660058\n",
      "\n",
      "OBJ6\n",
      "Approximate two sample Kolmogorov-Smirnov test\n",
      "----------------------------------------------\n",
      "Population details:\n",
      "    parameter of interest:   Supremum of CDF differences\n",
      "    value under h_0:         0.0\n",
      "    point estimate:          0.012531\n",
      "\n",
      "Test summary:\n",
      "    outcome with 95% confidence: reject h_0\n",
      "    two-sided p-value:           0.0006\n",
      "\n",
      "Details:\n",
      "    number of observations:   [128677,32357]\n",
      "    KS-statistic:              2.0149422499852325\n",
      "\n"
     ]
    }
   ],
   "source": [
    "# check for overfitting\n",
    "train_preds_cut = m(x_train_cut')'\n",
    "train_resids_cut = y_train_cut .- train_preds_cut; test_resids_cut = y_test_cut .- test_preds_cut;\n",
    "\n",
    "for i in 1:6\n",
    "    println(\"OBJ$i\")\n",
    "    println(HypothesisTests.ApproximateTwoSampleKSTest(train_resids_cut[:, i], test_resids_cut[:, i]))\n",
    "end"
   ]
  },
  {
   "cell_type": "code",
   "execution_count": 16,
   "metadata": {},
   "outputs": [
    {
     "name": "stdout",
     "output_type": "stream",
     "text": [
      "OBJ1\n",
      "0.193832157378058\n",
      "OBJ2\n",
      "0.020860344582082403\n",
      "OBJ3\n",
      "0.020385291669277862\n",
      "OBJ4\n",
      "0.15457395643437846\n",
      "OBJ5\n",
      "0.1095556414780649\n",
      "OBJ6\n",
      "0.10413224008120145\n"
     ]
    }
   ],
   "source": [
    "# compute MAPEs for each objective in FULL test set\n",
    "test_preds_full = m(x_test')'\n",
    "\n",
    "for i in 1:6\n",
    "    println(\"OBJ$i\")\n",
    "    println(mape(y_test[:, i], test_preds_full[:, i], y_scalers[\"OBJ$i\"]))\n",
    "end"
   ]
  },
  {
   "cell_type": "code",
   "execution_count": null,
   "metadata": {},
   "outputs": [],
   "source": []
  }
 ],
 "metadata": {
  "kernelspec": {
   "display_name": "Julia 1.8.0",
   "language": "julia",
   "name": "julia-1.8"
  },
  "language_info": {
   "file_extension": ".jl",
   "mimetype": "application/julia",
   "name": "julia",
   "version": "1.8.0"
  }
 },
 "nbformat": 4,
 "nbformat_minor": 4
}
