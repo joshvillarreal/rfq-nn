{
 "cells": [
  {
   "cell_type": "code",
   "execution_count": 1,
   "metadata": {},
   "outputs": [
    {
     "data": {
      "text/plain": [
       "main (generic function with 1 method)"
      ]
     },
     "execution_count": 1,
     "metadata": {},
     "output_type": "execute_result"
    }
   ],
   "source": [
    "using Plots\n",
    "using Statistics\n",
    "using Surrogates\n",
    "using CSV\n",
    "using DataFrames\n",
    "using Distributions\n",
    "using Flux\n",
    "import JSON\n",
    "using MLUtils\n",
    "using Plots\n",
    "using StatsBase\n",
    "using StatsPlots\n",
    "using Tables\n",
    "\n",
    "include(\"../../scan_hyperparameters_withcellnum_functions.jl\")"
   ]
  },
  {
   "cell_type": "markdown",
   "metadata": {},
   "source": [
    "### Loading data and making cuts for proper scaling"
   ]
  },
  {
   "cell_type": "code",
   "execution_count": 2,
   "metadata": {},
   "outputs": [
    {
     "name": "stdout",
     "output_type": "stream",
     "text": [
      "Formatting data...\n",
      "Cutting Transmission to 60-100 percent...\n",
      "x_raw shape: (217293, 15)\n",
      "y_raw shape: (217293, 6)\n",
      "x_new shape: (161574, 15)\n",
      "y_new shape: (161574, 6)\n",
      "Decorrelating...\n",
      "Done!\n"
     ]
    }
   ],
   "source": [
    "target_directory = \"../../data/full_with_cellnumber/\"\n",
    "\n",
    "println(\"Formatting data...\")\n",
    "x_raw_df, y_df, cellnumber_df = getrawdata_withcellnum(target_directory)\n",
    "\n",
    "# how to process cellnumber, for now let's make it another dvar\n",
    "x_raw_df = hcat(x_raw_df, cellnumber_df)\n",
    "\n",
    "# cutting\n",
    "println(\"Cutting Transmission to 60-100 percent...\")\n",
    "lower::Float32 = 60\n",
    "upper::Float32 = 120\n",
    "x_raw_df, y_df = applycut(x_raw_df, y_df, \"OBJ1\", lower, upper; with_numcells=true)\n",
    "\n",
    "# decorrelating\n",
    "println(\"Decorrelating...\")\n",
    "x_df = decorrelatedvars(x_raw_df; with_numcells=true)\n",
    "\n",
    "x_scaled_df, x_scalers = minmaxscaledf(x_df);\n",
    "y_scaled_df, y_scalers = minmaxscaledf(y_df);\n",
    "\n",
    "println(\"Done!\")"
   ]
  },
  {
   "cell_type": "markdown",
   "metadata": {},
   "source": [
    "### Loading up previously trained model"
   ]
  },
  {
   "cell_type": "code",
   "execution_count": 3,
   "metadata": {},
   "outputs": [],
   "source": [
    "@load \"../../models/2023-05-09_09-30-08_w=100_d=5_activation=sigmoid_bs=1024_lr=0.001_dr=0.0_5.jld2\" m;"
   ]
  },
  {
   "cell_type": "markdown",
   "metadata": {},
   "source": [
    "```\n",
    "DVAR1: Bmax  [ 8.5, 12.0 ]\n",
    "DVAR2: mX1  [ 5, 140 ]\n",
    "DVAR3: mX2  [ 15, 160 ]\n",
    "DVAR4: mY1  [ 1.005, 1.7 ]\n",
    "DVAR5: mY2  [ 1.055, 1.85 ]\n",
    "DVAR6: mtau1  [ 1, 500 ]\n",
    "DVAR7: mtau2  [ 1, 500 ]\n",
    "DVAR8: PhiY1  [ -89.95, -30 ]\n",
    "DVAR9: PhiY2  [ -87.45, -25 ]\n",
    "DVAR10: Phitau1  [ 1, 500 ]\n",
    "DVAR11: Phitau2  [ 1, 500 ]\n",
    "DVAR12: mY3ref  [ 1.105, 2.0 ]\n",
    "DVAR13: PhiY3ref  [ -84.95, -20 ]\n",
    "DVAR14: Eref  [ 0.055, 0.075 ]\n",
    "```"
   ]
  },
  {
   "cell_type": "markdown",
   "metadata": {},
   "source": [
    "### Sampling for init of acquisition function"
   ]
  },
  {
   "cell_type": "code",
   "execution_count": 4,
   "metadata": {},
   "outputs": [],
   "source": [
    "# bounds of DVARS\n",
    "lower_bound = repeat([-1.], 14); upper_bound = repeat([1.], 14)\n",
    "\n",
    "# smapling to instantiate acquisition function\n",
    "n_samples = 1000\n",
    "initial_samples = Surrogates.sample(n_samples, lower_bound, upper_bound, SobolSample());"
   ]
  },
  {
   "cell_type": "code",
   "execution_count": 5,
   "metadata": {},
   "outputs": [],
   "source": [
    "# sampling of odd/even cell number\n",
    "cellnumber_samples = Float64.(rand(Bernoulli(0.5), n_samples) .* 2 .- 1);\n",
    "initial_samples_with_cellnumber = []\n",
    "for i in 1:n_samples\n",
    "    push!(initial_samples_with_cellnumber, (initial_samples[i]..., cellnumber_samples[i]))\n",
    "end"
   ]
  },
  {
   "cell_type": "code",
   "execution_count": 6,
   "metadata": {},
   "outputs": [
    {
     "data": {
      "text/plain": [
       "predict (generic function with 1 method)"
      ]
     },
     "execution_count": 6,
     "metadata": {},
     "output_type": "execute_result"
    }
   ],
   "source": [
    "# decorrelating design variables\n",
    "function getdvarprimesing(data_to_transform, dynamic_lower_bound, strict_upper_bound)\n",
    "    (data_to_transform - dynamic_lower_bound) / (strict_upper_bound - dynamic_lower_bound)\n",
    "end\n",
    "\n",
    "function decorr(vec)\n",
    "    maxes = Dict(\n",
    "        \"DVAR3\"=>160.,\n",
    "        \"DVAR5\"=>1.85,\n",
    "        \"DVAR9\"=>-25.,\n",
    "        \"DVAR12\"=>2.,\n",
    "        \"DVAR13\"=>-20.\n",
    "    )\n",
    "    etas = Dict(\n",
    "        \"DVAR3\"=>10.,\n",
    "        \"DVAR5\"=>0.05,\n",
    "        \"DVAR9\"=>2.5,\n",
    "        \"DVAR12\"=>0.05,\n",
    "        \"DVAR13\"=>2.5\n",
    "    )\n",
    "    \n",
    "    decorred_vec = []\n",
    "    \n",
    "    for i in 1:14\n",
    "        if i == 3\n",
    "            append!(decorred_vec, getdvarprimesing(vec[3], etas[\"DVAR3\"] + vec[2], maxes[\"DVAR3\"]))\n",
    "        elseif i == 5\n",
    "            append!(decorred_vec, getdvarprimesing(vec[5], etas[\"DVAR5\"] + vec[4], maxes[\"DVAR5\"]))\n",
    "        elseif i == 9\n",
    "            append!(decorred_vec, getdvarprimesing(vec[9], etas[\"DVAR9\"] + vec[8], maxes[\"DVAR9\"]))\n",
    "        elseif i == 12\n",
    "            append!(decorred_vec, getdvarprimesing(vec[12], etas[\"DVAR12\"] + vec[5], maxes[\"DVAR12\"]))\n",
    "        elseif i == 13\n",
    "            append!(decorred_vec, getdvarprimesing(vec[13], etas[\"DVAR13\"] + vec[9], maxes[\"DVAR13\"]))\n",
    "        else\n",
    "            append!(decorred_vec, vec[i])\n",
    "        end\n",
    "    end\n",
    "    \n",
    "    decorred_vec\n",
    "end\n",
    "\n",
    "function getvarsing(data_to_transform, dynamic_lower_bound, strict_upper_bound)\n",
    "    dynamic_lower_bound + data_to_transform*(strict_upper_bound - dynamic_lower_bound)\n",
    "end\n",
    "\n",
    "function recorr(vec)\n",
    "    maxes = Dict(\n",
    "        \"DVAR3\"=>160.,\n",
    "        \"DVAR5\"=>1.85,\n",
    "        \"DVAR9\"=>-25.,\n",
    "        \"DVAR12\"=>2.,\n",
    "        \"DVAR13\"=>-20.\n",
    "    )\n",
    "    etas = Dict(\n",
    "        \"DVAR3\"=>10.,\n",
    "        \"DVAR5\"=>0.05,\n",
    "        \"DVAR9\"=>2.5,\n",
    "        \"DVAR12\"=>0.05,\n",
    "        \"DVAR13\"=>2.5\n",
    "    )\n",
    "    dvarmap = Dict(\n",
    "        3=>2,\n",
    "        5=>4,\n",
    "        9=>8,\n",
    "        12=>5,\n",
    "        13=>9\n",
    "    )\n",
    "    \n",
    "    recorred_vec = []\n",
    "    \n",
    "    for i in 1:14\n",
    "        if i ∈ [3, 5, 9]\n",
    "            append!(recorred_vec, getvarsing(vec[i], etas[\"DVAR$i\"] + vec[dvarmap[i]], maxes[\"DVAR$i\"]))\n",
    "        elseif i ∈ [12, 13]\n",
    "            append!(recorred_vec, getvarsing(vec[i], etas[\"DVAR$i\"] + recorred_vec[dvarmap[i]], maxes[\"DVAR$i\"]))\n",
    "        else\n",
    "            append!(recorred_vec, vec[i])\n",
    "        end\n",
    "    end\n",
    "    \n",
    "    recorred_vec\n",
    "end\n",
    "\n",
    "function minmaxscale(vec; var=\"x\", inverse=false)\n",
    "    scaled_vec = []\n",
    "    \n",
    "    transform_fun(scaler, x) = inverse ? inverse_transform(scaler, x) : transform(scaler, x)\n",
    "    \n",
    "    if var == \"x\"\n",
    "        for i in 1:14\n",
    "            scaler = x_scalers[\"DVAR$i\"]\n",
    "            append!(scaled_vec, transform_fun(scaler, vec[i]))\n",
    "        end\n",
    "    elseif var == \"y\"\n",
    "        for i in 1:6\n",
    "            scaler = y_scalers[\"OBJ$i\"]\n",
    "            append!(scaled_vec, transform_fun(scaler, vec[i]))\n",
    "        end\n",
    "    end\n",
    "    \n",
    "    return Tuple(scaled_vec)\n",
    "end\n",
    "\n",
    "function predict(x_vec)\n",
    "    m([x for x in x_vec])'\n",
    "end"
   ]
  },
  {
   "cell_type": "code",
   "execution_count": 15,
   "metadata": {},
   "outputs": [
    {
     "name": "stdout",
     "output_type": "stream",
     "text": [
      "\u001b[1mDataFrameRow\u001b[0m\n",
      "\u001b[1m Row \u001b[0m│\u001b[1m DVAR1    \u001b[0m\u001b[1m DVAR10    \u001b[0m\u001b[1m DVAR11   \u001b[0m\u001b[1m DVAR12   \u001b[0m\u001b[1m DVAR13   \u001b[0m\u001b[1m DVAR14    \u001b[0m\u001b[1m DVAR2     \u001b[0m\u001b[1m DVAR3    \u001b[0m\u001b[1m DVAR4    \u001b[0m\u001b[1m DVAR5    \u001b[0m\u001b[1m DVAR6     \u001b[0m\u001b[1m DVAR7     \u001b[0m\u001b[1m DVAR8     \u001b[0m\u001b[1m DVAR9    \u001b[0m\u001b[1m cellnumber \u001b[0m\n",
      "\u001b[1m     \u001b[0m│\u001b[90m Any      \u001b[0m\u001b[90m Any       \u001b[0m\u001b[90m Any      \u001b[0m\u001b[90m Any      \u001b[0m\u001b[90m Any      \u001b[0m\u001b[90m Any       \u001b[0m\u001b[90m Any       \u001b[0m\u001b[90m Any      \u001b[0m\u001b[90m Any      \u001b[0m\u001b[90m Any      \u001b[0m\u001b[90m Any       \u001b[0m\u001b[90m Any       \u001b[0m\u001b[90m Any       \u001b[0m\u001b[90m Any      \u001b[0m\u001b[90m Any        \u001b[0m\n",
      "─────┼──────────────────────────────────────────────────────────────────────────────────────────────────────────────────────────────────────────────────────────────\n",
      "   1 │ 0.289202  -0.447758  0.404934  0.171099  0.357681  -0.434087  -0.313747  0.147541  0.668876  0.553479  -0.784712  -0.816006  -0.451444  0.331384  -1.0\n",
      "(0.28920162f0, -0.44775814f0, 0.4049338f0, 0.17109923841804942, 0.3576814045090202, -0.43408716f0, -0.3137467f0, 0.1475414222175786, 0.6688763f0, 0.5534791401182384, -0.7847122f0, -0.8160064f0, -0.45144355f0, 0.3313838669893703, -1.0f0)\n",
      "Prediction:\n",
      "[0.5421043518299267 -0.4837618505197945 -0.47046635609522464 -0.47913499524829156 0.18222684274896145 -0.19850086515371218]\n",
      "True:\n",
      "\u001b[1mDataFrameRow\u001b[0m\n",
      "\u001b[1m Row \u001b[0m│\u001b[1m OBJ1    \u001b[0m\u001b[1m OBJ2      \u001b[0m\u001b[1m OBJ3      \u001b[0m\u001b[1m OBJ4      \u001b[0m\u001b[1m OBJ5     \u001b[0m\u001b[1m OBJ6      \u001b[0m\n",
      "\u001b[1m     \u001b[0m│\u001b[90m Any     \u001b[0m\u001b[90m Any       \u001b[0m\u001b[90m Any       \u001b[0m\u001b[90m Any       \u001b[0m\u001b[90m Any      \u001b[0m\u001b[90m Any       \u001b[0m\n",
      "─────┼───────────────────────────────────────────────────────────────\n",
      "   1 │ 0.56962  -0.494174  -0.495385  -0.463365  0.222158  -0.215965\n"
     ]
    }
   ],
   "source": [
    "# do i understand how the model predicts for a given x_vec?\n",
    "println(first(x_scaled_df))\n",
    "println(values(first(x_scaled_df)))\n",
    "\n",
    "println(\"Prediction:\")\n",
    "println(predict(values(first(x_scaled_df))))\n",
    "println(\"True:\")\n",
    "println(first(y_scaled_df))"
   ]
  },
  {
   "cell_type": "markdown",
   "metadata": {},
   "source": [
    "This means that the DVARs used as inputs to the model are out of order -- they don't run from DVAR1 to DVAR14, but instead run in alphabetical order, with cellnumber as a column appended in the end."
   ]
  },
  {
   "cell_type": "markdown",
   "metadata": {},
   "source": [
    "### Functionality to predict cellnumber"
   ]
  },
  {
   "cell_type": "code",
   "execution_count": null,
   "metadata": {},
   "outputs": [],
   "source": []
  },
  {
   "cell_type": "code",
   "execution_count": 11,
   "metadata": {},
   "outputs": [
    {
     "data": {
      "text/html": [
       "<p>DataFrameRow (15 columns)</p><table class=\"data-frame\"><thead><tr><th></th><th>DVAR1</th><th>DVAR10</th><th>DVAR11</th><th>DVAR12</th><th>DVAR13</th><th>DVAR14</th><th>DVAR2</th><th>DVAR3</th></tr><tr><th></th><th>Any</th><th>Any</th><th>Any</th><th>Any</th><th>Any</th><th>Any</th><th>Any</th><th>Any</th></tr></thead><tbody><tr><th>1</th><td>0.289202</td><td>-0.447758</td><td>0.404934</td><td>0.171099</td><td>0.357681</td><td>-0.434087</td><td>-0.313747</td><td>0.147541</td></tr></tbody></table>"
      ],
      "text/latex": [
       "\\begin{tabular}{r|ccccccccc}\n",
       "\t& DVAR1 & DVAR10 & DVAR11 & DVAR12 & DVAR13 & DVAR14 & DVAR2 & DVAR3 & \\\\\n",
       "\t\\hline\n",
       "\t& Any & Any & Any & Any & Any & Any & Any & Any & \\\\\n",
       "\t\\hline\n",
       "\t1 & 0.289202 & -0.447758 & 0.404934 & 0.171099 & 0.357681 & -0.434087 & -0.313747 & 0.147541 & $\\dots$ \\\\\n",
       "\\end{tabular}\n"
      ],
      "text/plain": [
       "\u001b[1mDataFrameRow\u001b[0m\n",
       "\u001b[1m Row \u001b[0m│\u001b[1m DVAR1    \u001b[0m\u001b[1m DVAR10    \u001b[0m\u001b[1m DVAR11   \u001b[0m\u001b[1m DVAR12   \u001b[0m\u001b[1m DVAR13   \u001b[0m\u001b[1m DVAR14    \u001b[0m\u001b[1m DVAR2    \u001b[0m ⋯\n",
       "\u001b[1m     \u001b[0m│\u001b[90m Any      \u001b[0m\u001b[90m Any       \u001b[0m\u001b[90m Any      \u001b[0m\u001b[90m Any      \u001b[0m\u001b[90m Any      \u001b[0m\u001b[90m Any       \u001b[0m\u001b[90m Any      \u001b[0m ⋯\n",
       "─────┼──────────────────────────────────────────────────────────────────────────\n",
       "   1 │ 0.289202  -0.447758  0.404934  0.171099  0.357681  -0.434087  -0.313747 ⋯\n",
       "\u001b[36m                                                               8 columns omitted\u001b[0m"
      ]
     },
     "execution_count": 11,
     "metadata": {},
     "output_type": "execute_result"
    }
   ],
   "source": [
    "first(x_scaled_df)"
   ]
  },
  {
   "cell_type": "markdown",
   "metadata": {},
   "source": [
    "### Final optimization\n",
    "- Maximize transmission (< 95%)\n",
    "- Output energy should be 70 KeV (0.070 MeV)\n",
    "- Minimize RFQ length\n",
    "- Minimize longitudinal emittance\n",
    "- Minimize transverse emittance"
   ]
  },
  {
   "cell_type": "code",
   "execution_count": 29,
   "metadata": {},
   "outputs": [
    {
     "data": {
      "text/plain": [
       "objective3 (generic function with 1 method)"
      ]
     },
     "execution_count": 29,
     "metadata": {},
     "output_type": "execute_result"
    }
   ],
   "source": [
    "function objective3(x_vec)\n",
    "    y = predict(x_vec)\n",
    "    target_energy_scaled = transform(y_scalers[\"OBJ2\"], 0.070)[1]\n",
    "    [-y[1], (y[2] - target_energy_scaled)^2, y[3], y[4], y[5], y[6]]\n",
    "end"
   ]
  },
  {
   "cell_type": "code",
   "execution_count": 30,
   "metadata": {},
   "outputs": [],
   "source": [
    "x3s = [sample for sample in initial_samples_with_cellnumber];\n",
    "x3s = unique(x3s)\n",
    "y3s = objective3.(x3s);"
   ]
  },
  {
   "cell_type": "code",
   "execution_count": 32,
   "metadata": {},
   "outputs": [
    {
     "data": {
      "text/plain": [
       "(::RadialBasis{Surrogates.var\"#1#2\", Int64, Vector{NTuple{15, Float64}}, Vector{Vector{Float64}}, Vector{Float64}, Vector{Float64}, Matrix{Float64}, Float64, Bool}) (generic function with 1 method)"
      ]
     },
     "execution_count": 32,
     "metadata": {},
     "output_type": "execute_result"
    }
   ],
   "source": [
    "if length(x3s) != length(unique(x3s))\n",
    "    print(\"Duplicate entries in x3\")\n",
    "end\n",
    "if length(x3s) != length(y3s)\n",
    "    print(\"Dimension mismatch between x3 and y\")\n",
    "end\n",
    "radial_basis_ego_3 = RadialBasis(x3s, y3s, repeat([-1.], 15), repeat([1.], 15))"
   ]
  },
  {
   "cell_type": "code",
   "execution_count": 35,
   "metadata": {},
   "outputs": [],
   "source": [
    "pareto_set_3, pareto_front_3 = surrogate_optimize(\n",
    "    objective3, SMB(), repeat([-1.], 15), repeat([1.], 15), radial_basis_ego_3, SobolSample();\n",
    "    maxiters = 100, n_new_look = 100\n",
    ");"
   ]
  },
  {
   "cell_type": "code",
   "execution_count": 36,
   "metadata": {},
   "outputs": [
    {
     "data": {
      "text/plain": [
       "6-element Vector{Vector{Float64}}:\n",
       " [63.90773682744614, 95.11441217259939, 96.00102484509253, 78.4978539172133, 65.2214162844422, 74.94593354046272, 68.68760943475563, 76.77794719654288, 55.812625647163635, 72.73669134311868  …  54.33054144506285, 57.09682906729952, 97.02513730213025, 55.953655258266835, 67.0458079807602, 57.54955260320244, 54.98440742731742, 61.45785754439095, 54.57009492883476, 58.518338893434866]\n",
       " [0.19417073157308737, 1.6312522980583302, 2.2373417092635286, 1.4948699694607173, 2.12485302304525, 1.2837304426223062, 1.2883649540256248, 0.8504104991332044, 0.36155244760090177, 0.47797529744472605  …  0.2817110047843377, 1.7295394315714017, 2.3685681959719265, 0.28152524163144316, 1.1520891861621052, 2.2483050440176204, 2.002347973583141, 2.1457874424614216, 2.352763212970679, 2.6793586564423095]\n",
       " [0.060235249562297505, 0.06265204024141866, 0.06813862999109634, 0.07302493411459171, 0.061572085727646386, 0.05714624606834008, 0.07465697899062922, 0.05991215051003009, 0.06771259508220309, 0.07265572474098092  …  0.07085479990604, 0.06088398097426988, 0.07403572639927286, 0.07674334319038537, 0.05703746585176429, 0.0664241392246194, 0.07326922665765655, 0.07339840132665916, 0.0676732742808756, 0.07487386279735073]\n",
       " [0.08726881431011568, 0.06065531906377483, 0.049280795156763424, 0.03878322228688108, 0.037889222017675306, 0.04517215155854609, 0.0361123216526279, 0.054196370070019664, 0.05188434870565201, 0.09053347504522823  …  0.0643547102500717, 0.01974342692853432, 0.056465547953523154, 0.08480989703637162, 0.08917147465061123, 0.032422188935754576, 0.018745152790021584, 0.04309870662819315, 0.03317031055337766, 0.0199810437007625]\n",
       " [0.032769294494609275, 0.039663466232400996, 0.025944679471193388, 0.024035991068840076, 0.02088823480661014, 0.023669777525711894, 0.026994611800127875, 0.024878863585954935, 0.0247206621634168, 0.026352525139768018  …  0.025467886714984247, 0.023799270038436713, 0.038614796021517434, 0.033763299820865934, 0.05917757484303621, 0.025933629204303612, 0.021463270306863146, 0.022774461084633296, 0.02035742780566675, 0.022412892602145552]\n",
       " [0.033981570724995656, 0.02973692345528296, 0.034579374186802826, 0.0317808447180475, 0.02632575749844534, 0.03390423319042188, 0.02324311150317629, 0.036395699802994466, 0.02115255300973163, 0.03148094648722429  …  0.035527967277871754, 0.029318517221502194, 0.031019937154670375, 0.025370141633986702, 0.05636908139231477, 0.024102219036517658, 0.0230403086154686, 0.023951895321752573, 0.025041325431387273, 0.025682414143968865]"
      ]
     },
     "execution_count": 36,
     "metadata": {},
     "output_type": "execute_result"
    }
   ],
   "source": [
    "obj1_3 = [inverse_transform(y_scalers[\"OBJ1\"], -item[1])[1] for item in pareto_front_3];\n",
    "dE_3 = [item[2] for item in pareto_front_3];\n",
    "obj3_3 = [inverse_transform(y_scalers[\"OBJ3\"], item[3])[1] for item in pareto_front_3];\n",
    "obj4_3 = [inverse_transform(y_scalers[\"OBJ4\"], item[4])[1] for item in pareto_front_3];\n",
    "obj5_3 = [inverse_transform(y_scalers[\"OBJ5\"], item[5])[1] for item in pareto_front_3];\n",
    "obj6_3 = [inverse_transform(y_scalers[\"OBJ6\"], item[6])[1] for item in pareto_front_3];\n",
    "\n",
    "unscaled_pareto_front_3 = [obj1_3, dE_3, obj3_3, obj4_3, obj5_3, obj6_3]"
   ]
  },
  {
   "cell_type": "code",
   "execution_count": 37,
   "metadata": {},
   "outputs": [
    {
     "data": {
      "text/plain": [
       "6"
      ]
     },
     "execution_count": 37,
     "metadata": {},
     "output_type": "execute_result"
    }
   ],
   "source": [
    "emit_cutoff = 0.04\n",
    "long_emit_mask = obj4_3 .< emit_cutoff; trans_emit_mask = obj5_3 .< emit_cutoff;\n",
    "\n",
    "\n",
    "transmission_cutoff = 90\n",
    "high_transmission_mask = obj1_3 .> 90\n",
    "\n",
    "sum(long_emit_mask .& trans_emit_mask .& high_transmission_mask)"
   ]
  },
  {
   "cell_type": "code",
   "execution_count": 38,
   "metadata": {},
   "outputs": [
    {
     "data": {
      "text/plain": [
       "6-element Vector{Int64}:\n",
       " 111\n",
       " 168\n",
       " 261\n",
       " 303\n",
       " 332\n",
       " 353"
      ]
     },
     "execution_count": 38,
     "metadata": {},
     "output_type": "execute_result"
    }
   ],
   "source": [
    "candidates = [i for i in 1:length(obj1_3)][long_emit_mask .& trans_emit_mask .& high_transmission_mask]"
   ]
  },
  {
   "cell_type": "code",
   "execution_count": 59,
   "metadata": {},
   "outputs": [
    {
     "name": "stdout",
     "output_type": "stream",
     "text": [
      "[0.7679930472923572 0.3380752670733307 -0.45640557252933145 -0.8362856137674357 -0.7435289543839798 -0.7734108778689787]\n",
      "[0.7866750186403212 0.3188235154034012 -0.4554849642937827 -0.826415742873267 -0.8345830277685841 -0.6575148567804928]\n"
     ]
    }
   ],
   "source": [
    "test_x_transformed = minmaxscale(\n",
    "    decorr([\n",
    "        11.312972997315228, 103.74379149079323, 149.3844627470438,\n",
    "        1.4468421232886612, 1.5137411917386079, 140.85678020119667,\n",
    "        473.1951289474964, -50.19836366921663, -43.642034931217914,\n",
    "        245.1396713256836, 245.14222234487534, 1.8956206666091737,\n",
    "        -37.693693497970166, 0.06037112592457561,\n",
    "    ]);\n",
    "    var=\"x\"\n",
    ")\n",
    "\n",
    "println(predict((test_x_transformed..., 0.)))\n",
    "println(predict((test_x_transformed..., 1.)))"
   ]
  },
  {
   "cell_type": "code",
   "execution_count": 39,
   "metadata": {},
   "outputs": [
    {
     "name": "stdout",
     "output_type": "stream",
     "text": [
      "candidate 111\n",
      "Any[11.312972997315228, 103.74379149079323, 149.3844627470438, 1.4468421232886612, 1.5137411917386079, 140.85678020119667, 473.1951289474964, -50.19836366921663, -43.642034931217914, 245.1396713256836, 245.14222234487534, 1.8956206666091737, -37.693693497970166, 0.06037112592457561]\n",
      "OBJ1: 95.28683161814637\n",
      "OBJ2: 2.809695989088585\n",
      "OBJ3: 0.06304837006663246\n",
      "OBJ4: 0.03855834786956841\n",
      "OBJ5: 0.024661802831386033\n",
      "OBJ6: 0.03333013285786453\n",
      " \n",
      "candidate 168\n",
      "Any[9.146016827784479, 64.984718054533, 76.2309538327026, 1.505210397299379, 1.790983624151413, 159.37423488497734, 287.04686722159386, -49.37874283641577, -44.208072484098636, 446.882479429245, 415.69542080163956, 1.9007704867739823, -38.63378069219178, 0.07181638060865225]\n",
      "OBJ1: 95.79925478867364\n",
      "OBJ2: 1.6381989708262623\n",
      "OBJ3: 0.06562014177207598\n",
      "OBJ4: 0.03444770569187049\n",
      "OBJ5: 0.028652583536487843\n",
      "OBJ6: 0.023653367517351667\n",
      " \n",
      "candidate 261\n",
      "Any[9.544203568715602, 125.43041591346264, 136.066503835052, 1.1370151804294437, 1.794641098681046, 227.35278563201427, 98.21846036612988, -61.292517084628344, -56.895034531228134, 452.9737477898598, 481.2365784943104, 1.902825253115568, -54.27672572999676, 0.06333009535228484]\n",
      "OBJ1: 91.4215332385524\n",
      "OBJ2: 1.198990699702173\n",
      "OBJ3: 0.0673340957500527\n",
      "OBJ4: 0.0347922178407194\n",
      "OBJ5: 0.032938081500117115\n",
      "OBJ6: 0.03621809898557891\n",
      " \n",
      "candidate 303\n",
      "Any[11.157458004076034, 77.97032599151134, 141.04285836967284, 1.4356435590889305, 1.5605427037644148, 153.2829668968916, 133.30399660766125, -73.93809564784169, -67.01661951023787, 441.2785125374794, 274.62356093525887, 1.8994020755277843, -60.53794672420554, 0.061611354034539545]\n",
      "OBJ1: 96.72706093126311\n",
      "OBJ2: 1.0058668668615598\n",
      "OBJ3: 0.06295983550035636\n",
      "OBJ4: 0.03929911995050303\n",
      "OBJ5: 0.03496871329779753\n",
      "OBJ6: 0.029022575911075175\n",
      " \n",
      "candidate 332\n",
      "Any[11.66330897109583, 18.381546422839165, 64.17898479553801, 1.2483221215661615, 1.4828425749530958, 471.00350515544415, 291.1889096945524, -34.36211829259992, -31.074738876837912, 404.24360090494156, 194.7072050869465, 1.5818879028100388, -28.243796378062168, 0.061533229429187486]\n",
      "OBJ1: 98.87124673142453\n",
      "OBJ2: 2.8540531486376475\n",
      "OBJ3: 0.07819670630053123\n",
      "OBJ4: 0.039885431731440955\n",
      "OBJ5: 0.036800687417015886\n",
      "OBJ6: 0.02959902647826307\n",
      " \n",
      "candidate 353\n",
      "Any[11.253159538377076, 51.076275035738945, 73.29769355747236, 1.2428925146814436, 1.387828901609222, 85.06076543033123, 388.6487325876951, -32.95705400779843, -29.532472328722342, 330.1737776398659, 112.84166982769966, 1.6329984394664039, -25.277679665064202, 0.06606445653960691]\n",
      "OBJ1: 90.54376034374172\n",
      "OBJ2: 2.223464904394245\n",
      "OBJ3: 0.06170126317578673\n",
      "OBJ4: 0.03637148279888943\n",
      "OBJ5: 0.02244051077362702\n",
      "OBJ6: 0.031448467115827855\n",
      " \n"
     ]
    }
   ],
   "source": [
    "for j in candidates\n",
    "    println(\"candidate $j\")\n",
    "    candidate_dvars = minmaxscale(pareto_set_3[j]; var=\"x\", inverse=true)\n",
    "    println(recorr(candidate_dvars))\n",
    "    for i in 1:6\n",
    "        println(\"OBJ$i: \", unscaled_pareto_front_3[i][j])\n",
    "    end\n",
    "    println(\" \")\n",
    "end"
   ]
  },
  {
   "cell_type": "markdown",
   "metadata": {},
   "source": [
    "Clearly, `138` is the winner."
   ]
  },
  {
   "cell_type": "code",
   "execution_count": 41,
   "metadata": {},
   "outputs": [
    {
     "data": {
      "text/plain": [
       "(9.14601474441588, 64.9847204387188, 0.014658961890745559)"
      ]
     },
     "execution_count": 41,
     "metadata": {},
     "output_type": "execute_result"
    }
   ],
   "source": [
    "candidate_dvars[[1, 2, 3]]"
   ]
  },
  {
   "cell_type": "code",
   "execution_count": 121,
   "metadata": {},
   "outputs": [
    {
     "data": {
      "text/plain": [
       "plot_pairwise_scatter (generic function with 3 methods)"
      ]
     },
     "execution_count": 121,
     "metadata": {},
     "output_type": "execute_result"
    }
   ],
   "source": [
    "function plot_pairwise_scatter(vec1, vec2, vec1label, vec2label, indexes, winner_index, incl_xticks, incl_yticks)\n",
    "    loser_indexes = [i for i in indexes if i != winner_index]\n",
    "    \n",
    "    \n",
    "    scatter(\n",
    "        [vec1[i] for i in loser_indexes], [vec2[i] for i in loser_indexes];\n",
    "        xlabel=vec1label, ylabel=vec2label, legend=false, markersize=3, markerstrokewidth=0.5,\n",
    "        xformatter = incl_xticks ? :auto : Returns(\"\"), yformatter = incl_yticks ? :auto : Returns(\"\") \n",
    "    )\n",
    "    \n",
    "    scatter!([vec1[winner_index]], [vec2[winner_index]]; markershape=:star5, markersize=10, markerstrokewidth=0.5)\n",
    "end"
   ]
  },
  {
   "cell_type": "code",
   "execution_count": 124,
   "metadata": {},
   "outputs": [],
   "source": [
    "labels = [\n",
    "    \"Transmission [%]\",\n",
    "    \"Scaled target/output\\nenergy squared error\",\n",
    "    \"RFQ length [cm]\",\n",
    "    \"Longitudinal emittance\\n[MeV deg]\",\n",
    "    \"Transverse (radial)\\nemittance [cm mrad]\"\n",
    "]\n",
    "indexes = [i for i in 1:length(pareto_front_3)]\n",
    "\n",
    "layout = @layout([ ° _ _ _ ; ° ° _ _ ; ° ° ° _ ; ° ° ° ° ])\n",
    "\n",
    "#plot(p1, p2, p3, layout = l)\n",
    "\n",
    "plots_dict = Dict()\n",
    "\n",
    "for i in 1:5\n",
    "    for j in 1:5\n",
    "        if i < j\n",
    "            p = plot_pairwise_scatter(\n",
    "                unscaled_pareto_front_3[i], unscaled_pareto_front_3[j],\n",
    "                j==5 ? labels[i] : \"\", i==1 ? labels[j] : \"\", indexes, 138, j==5, i==1\n",
    "            )\n",
    "            if i == 1\n",
    "                xflip!(true)\n",
    "            end\n",
    "            # display(p)\n",
    "            merge!(plots_dict, Dict(\"$i$j\"=>p))\n",
    "        end\n",
    "    end\n",
    "end\n",
    "\n",
    "pareto_plot = plot(\n",
    "    [plots_dict[\"$i$j\"] for j in 1:5 for i in 1:5 if i<j]...,\n",
    "    layout = layout, widths=(1/4,1/4,1/4,1/4), size=(1000,800), dpi=500\n",
    ")\n",
    "\n",
    "# savefig(pareto_plot,\"../../img/pareto_plot.png\")"
   ]
  },
  {
   "cell_type": "markdown",
   "metadata": {},
   "source": [
    "## CHECKING OPTIMAL ANSWER FROM ABOVE"
   ]
  },
  {
   "cell_type": "code",
   "execution_count": 30,
   "metadata": {},
   "outputs": [
    {
     "data": {
      "text/plain": [
       "(95.67445783296316, 0.06584600251118666, 147.91082243803984, 0.035490431684761965, 0.03885549528570143, 0.77829399178314)"
      ]
     },
     "execution_count": 30,
     "metadata": {},
     "output_type": "execute_result"
    }
   ],
   "source": [
    "optimal_dvars = [\n",
    "    9.14601474441588,\n",
    "    64.9847204387188,\n",
    "    76.2309561819387,\n",
    "    1.5052128004608676,\n",
    "    1.7909850165139312,\n",
    "    159.3742377460003,\n",
    "    287.0468702018261,\n",
    "    -49.37874272093177,\n",
    "    -44.20807974211494,\n",
    "    446.882483959198,\n",
    "    415.69541972875595,\n",
    "    1.9007708828235987,\n",
    "    -38.63379833969139,\n",
    "    0.07181640870840056,\n",
    "]\n",
    "\n",
    "optimal_dvars_decorr = decorr(optimal_dvars);\n",
    "optimal_dvars_decorred_scaled = minmaxscale(optimal_dvars_decorr);\n",
    "optimal_predicted_objs_scaled = predict(optimal_dvars_decorred_scaled);\n",
    "optimal_predicted_objs = minmaxscale(optimal_predicted_objs_scaled; var=\"y\", inverse=true)"
   ]
  },
  {
   "cell_type": "code",
   "execution_count": null,
   "metadata": {},
   "outputs": [],
   "source": []
  }
 ],
 "metadata": {
  "kernelspec": {
   "display_name": "Julia 1.8.0",
   "language": "julia",
   "name": "julia-1.8"
  },
  "language_info": {
   "file_extension": ".jl",
   "mimetype": "application/julia",
   "name": "julia",
   "version": "1.8.0"
  }
 },
 "nbformat": 4,
 "nbformat_minor": 4
}
