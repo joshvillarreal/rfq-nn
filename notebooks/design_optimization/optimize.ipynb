{
 "cells": [
  {
   "cell_type": "code",
   "execution_count": 1,
   "metadata": {},
   "outputs": [
    {
     "data": {
      "text/plain": [
       "main (generic function with 1 method)"
      ]
     },
     "execution_count": 1,
     "metadata": {},
     "output_type": "execute_result"
    }
   ],
   "source": [
    "using Plots\n",
    "using Statistics\n",
    "using Surrogates\n",
    "using CSV\n",
    "using DataFrames\n",
    "using Distributions\n",
    "using Flux\n",
    "import JSON\n",
    "using MLUtils\n",
    "using Plots\n",
    "using StatsBase\n",
    "using StatsPlots\n",
    "using Tables\n",
    "\n",
    "include(\"../../scan_hyperparameters_withcellnum_functions.jl\")"
   ]
  },
  {
   "cell_type": "markdown",
   "metadata": {},
   "source": [
    "### Loading data and making cuts for proper scaling"
   ]
  },
  {
   "cell_type": "code",
   "execution_count": 2,
   "metadata": {},
   "outputs": [
    {
     "name": "stdout",
     "output_type": "stream",
     "text": [
      "Formatting data...\n",
      "Decorrelating...\n",
      "Done!\n"
     ]
    }
   ],
   "source": [
    "target_directory = \"../../data/full_with_cellnumber/\"\n",
    "\n",
    "println(\"Formatting data...\")\n",
    "x_raw_df, y_df, cellnumber_df = getrawdata_withcellnum(target_directory)\n",
    "\n",
    "# how to process cellnumber, for now let's make it another dvar\n",
    "x_raw_origcn_df = hcat(x_raw_df, cellnumber_df)\n",
    "x_raw_df = hcat(x_raw_df, cellnumber_df .% 2)\n",
    "\n",
    "# cutting\n",
    "#= println(\"Cutting Transmission to 60-100 percent...\")\n",
    "lower::Float32 = 60\n",
    "upper::Float32 = 120\n",
    "x_raw_df, y_df = applycut(x_raw_df, y_df, \"OBJ1\", lower, upper; with_numcells=true) =#\n",
    "\n",
    "# decorrelating\n",
    "println(\"Decorrelating...\")\n",
    "x_df = decorrelatedvars(x_raw_df; with_numcells=true)\n",
    "\n",
    "x_scaled_df, x_scalers = minmaxscaledf(x_df);\n",
    "y_scaled_df, y_scalers = minmaxscaledf(y_df);\n",
    "\n",
    "println(\"Done!\")"
   ]
  },
  {
   "cell_type": "code",
   "execution_count": 3,
   "metadata": {},
   "outputs": [
    {
     "data": {
      "text/plain": [
       "Dict{String, MinMaxScaler} with 6 entries:\n",
       "  \"OBJ4\" => MinMaxScaler(0.00582, 1.34901)\n",
       "  \"OBJ6\" => MinMaxScaler(0.00697, 0.10912)\n",
       "  \"OBJ2\" => MinMaxScaler(0.0542, 0.087)\n",
       "  \"OBJ3\" => MinMaxScaler(35.05, 386.37)\n",
       "  \"OBJ5\" => MinMaxScaler(0.00731, 0.10398)\n",
       "  \"OBJ1\" => MinMaxScaler(1.53, 99.5)"
      ]
     },
     "execution_count": 3,
     "metadata": {},
     "output_type": "execute_result"
    }
   ],
   "source": [
    "y_scalers"
   ]
  },
  {
   "cell_type": "markdown",
   "metadata": {},
   "source": [
    "A sanity check since Julia alphabetizes column names:\n",
    "\n",
    "Recall that these are the original ranges of our DVARs\n",
    "\n",
    "```\n",
    "DVAR1: Bmax  [ 8.5, 12.0 ]\n",
    "DVAR2: mX1  [ 5, 140 ]\n",
    "DVAR3: mX2  [ 15, 160 ]\n",
    "DVAR4: mY1  [ 1.005, 1.7 ]\n",
    "DVAR5: mY2  [ 1.055, 1.85 ]\n",
    "DVAR6: mtau1  [ 1, 500 ]\n",
    "DVAR7: mtau2  [ 1, 500 ]\n",
    "DVAR8: PhiY1  [ -89.95, -30 ]\n",
    "DVAR9: PhiY2  [ -87.45, -25 ]\n",
    "DVAR10: Phitau1  [ 1, 500 ]\n",
    "DVAR11: Phitau2  [ 1, 500 ]\n",
    "DVAR12: mY3ref  [ 1.105, 2.0 ]\n",
    "DVAR13: PhiY3ref  [ -84.95, -20 ]\n",
    "DVAR14: Eref  [ 0.055, 0.075 ]\n",
    "```\n",
    "\n",
    "but recall also that we decorrelate `DVAR3`, `DVAR5`, `DVAR9`, `DVAR12`, `DVAR13`. This means that their unscaled values will fall between 0 and 1."
   ]
  },
  {
   "cell_type": "code",
   "execution_count": 4,
   "metadata": {},
   "outputs": [
    {
     "data": {
      "text/plain": [
       "Dict{String, MinMaxScaler} with 15 entries:\n",
       "  \"DVAR7\"      => MinMaxScaler(1.00229, 499.997)\n",
       "  \"DVAR5\"      => MinMaxScaler(-7.45177f-8, 0.999996)\n",
       "  \"DVAR12\"     => MinMaxScaler(7.62605f-6, 0.999995)\n",
       "  \"DVAR14\"     => MinMaxScaler(0.0550001, 0.075)\n",
       "  \"DVAR2\"      => MinMaxScaler(5.00044, 139.998)\n",
       "  \"DVAR10\"     => MinMaxScaler(1.00164, 499.998)\n",
       "  \"DVAR1\"      => MinMaxScaler(8.50002, 12.0)\n",
       "  \"DVAR3\"      => MinMaxScaler(1.07697f-5, 0.999996)\n",
       "  \"DVAR6\"      => MinMaxScaler(1.00127, 499.998)\n",
       "  \"DVAR4\"      => MinMaxScaler(1.005, 1.7)\n",
       "  \"DVAR8\"      => MinMaxScaler(-89.95, -30.0006)\n",
       "  \"DVAR13\"     => MinMaxScaler(2.18249f-5, 0.999996)\n",
       "  \"cellnumber\" => MinMaxScaler(0.0, 1.0)\n",
       "  \"DVAR11\"     => MinMaxScaler(1.00553, 499.997)\n",
       "  \"DVAR9\"      => MinMaxScaler(3.582f-7, 0.999995)"
      ]
     },
     "execution_count": 4,
     "metadata": {},
     "output_type": "execute_result"
    }
   ],
   "source": [
    "x_scalers # looks good"
   ]
  },
  {
   "cell_type": "code",
   "execution_count": 5,
   "metadata": {},
   "outputs": [
    {
     "name": "stdout",
     "output_type": "stream",
     "text": [
      "[\"DVAR1\", \"DVAR2\", \"DVAR3\", \"DVAR4\", \"DVAR5\", \"DVAR6\", \"DVAR7\", \"DVAR8\", \"DVAR9\", \"DVAR10\", \"DVAR11\", \"DVAR12\", \"DVAR13\", \"DVAR14\", \"cellnumber\"]\n",
      "[\"DVAR1\", \"DVAR2\", \"DVAR3\", \"DVAR4\", \"DVAR5\", \"DVAR6\", \"DVAR7\", \"DVAR8\", \"DVAR9\", \"DVAR10\", \"DVAR11\", \"DVAR12\", \"DVAR13\", \"DVAR14\", \"cellnumber\"]\n"
     ]
    }
   ],
   "source": [
    "println(names(x_df))\n",
    "println(names(x_scaled_df))"
   ]
  },
  {
   "cell_type": "code",
   "execution_count": 6,
   "metadata": {},
   "outputs": [],
   "source": [
    "@assert names(x_df) == names(x_scaled_df)"
   ]
  },
  {
   "cell_type": "code",
   "execution_count": 7,
   "metadata": {},
   "outputs": [
    {
     "data": {
      "text/plain": [
       "decorrelate_single (generic function with 1 method)"
      ]
     },
     "execution_count": 7,
     "metadata": {},
     "output_type": "execute_result"
    }
   ],
   "source": [
    "function decorrelate_single(data_to_transform, dynamic_lower_bound, strict_upper_bound; inverse=false)\n",
    "    if inverse\n",
    "        dynamic_lower_bound + data_to_transform*(strict_upper_bound - dynamic_lower_bound)\n",
    "    else\n",
    "        (data_to_transform - dynamic_lower_bound) / (strict_upper_bound - dynamic_lower_bound)\n",
    "    end\n",
    "end"
   ]
  },
  {
   "cell_type": "code",
   "execution_count": 8,
   "metadata": {},
   "outputs": [
    {
     "data": {
      "text/plain": [
       "minmaxscale (generic function with 1 method)"
      ]
     },
     "execution_count": 8,
     "metadata": {},
     "output_type": "execute_result"
    }
   ],
   "source": [
    "function decorr(vec)\n",
    "    # we are only decorrelating unscaled vectors, which means that these vectors have their DVARs in\n",
    "    # quasi-numerical order DVAR1, ... DVAR14, cellnumber\n",
    "    maxes = Dict(\n",
    "        \"DVAR3\"=>160.,\n",
    "        \"DVAR5\"=>1.85,\n",
    "        \"DVAR9\"=>-25.,\n",
    "        \"DVAR12\"=>2.,\n",
    "        \"DVAR13\"=>-20.\n",
    "    )\n",
    "    etas = Dict(\n",
    "        \"DVAR3\"=>10.,\n",
    "        \"DVAR5\"=>0.05,\n",
    "        \"DVAR9\"=>2.5,\n",
    "        \"DVAR12\"=>0.05,\n",
    "        \"DVAR13\"=>2.5\n",
    "    )\n",
    "    dvarmap = Dict(\n",
    "        3=>2, # DVAR3prime ∼ Uniform(DVAR2prime + δ3, u3) \n",
    "        5=>4,\n",
    "        9=>8,\n",
    "        12=>5,\n",
    "        13=>9\n",
    "    )\n",
    "    \n",
    "    decorred_vec = []\n",
    "    \n",
    "    for i in 1:15\n",
    "        dvar = (i == 15) ? \"cellnumber\" : \"DVAR$i\"\n",
    "        # transform?\n",
    "        if dvar ∈ keys(maxes)\n",
    "            dependent_dvar = deps[dvar]\n",
    "            append!(decorred_vec, getdvarprimesing(vec[i], etas[dvar] + vec[dvarmap[i]], maxes[dvar])) \n",
    "        else\n",
    "            append!(decorred_vec, vec[i])\n",
    "        end\n",
    "    end\n",
    "    decorred_vec\n",
    "end\n",
    "\n",
    "function recorr(vec)\n",
    "    # we are only recorrelating scaled vectors, which means that these vectors have their DVARs in\n",
    "    # quasi-alphabetical order DVAR1, DVAR10, ... DVAR2, ... DVAR9, cellnumber\n",
    "    maxes = Dict(\n",
    "        \"DVAR3\"=>160.,\n",
    "        \"DVAR5\"=>1.85,\n",
    "        \"DVAR9\"=>-25.,\n",
    "        \"DVAR12\"=>2.,\n",
    "        \"DVAR13\"=>-20.\n",
    "    )\n",
    "    etas = Dict(\n",
    "        \"DVAR3\"=>10.,\n",
    "        \"DVAR5\"=>0.05,\n",
    "        \"DVAR9\"=>2.5,\n",
    "        \"DVAR12\"=>0.05,\n",
    "        \"DVAR13\"=>2.5\n",
    "    )\n",
    "    dvarmap = Dict(\n",
    "        3=>2,\n",
    "        5=>4,\n",
    "        9=>8,\n",
    "        12=>5,\n",
    "        13=>9\n",
    "    )\n",
    "    \n",
    "    recorred_vec = []\n",
    "    \n",
    "    for i in 1:14\n",
    "        if i ∈ [3, 5, 9]\n",
    "            append!(\n",
    "                recorred_vec, decorrelate_single(vec[i], etas[\"DVAR$i\"] + vec[dvarmap[i]], maxes[\"DVAR$i\"]; inverse=true)\n",
    "            )\n",
    "        elseif i ∈ [12, 13]\n",
    "            append!(\n",
    "                recorred_vec,\n",
    "                decorrelate_single(\n",
    "                    vec[i], etas[\"DVAR$i\"] + recorred_vec[dvarmap[i]], maxes[\"DVAR$i\"]; inverse=true\n",
    "                )\n",
    "            )\n",
    "        else\n",
    "            append!(recorred_vec, vec[i])\n",
    "        end\n",
    "    end\n",
    "    \n",
    "    recorred_vec\n",
    "end\n",
    "\n",
    "function minmaxscale(vec; var=\"x\", inverse=false)\n",
    "    outvec = []\n",
    "    \n",
    "    transform_fun(scaler, x) = inverse ? inverse_transform(scaler, x) : transform(scaler, x)\n",
    "    \n",
    "    if var == \"x\"\n",
    "        for i in 1:14\n",
    "            scaler = x_scalers[\"DVAR$i\"]\n",
    "            append!(outvec, transform_fun(scaler, vec[i]))\n",
    "        end\n",
    "    elseif var == \"y\"\n",
    "        for i in 1:6\n",
    "            scaler = y_scalers[\"OBJ$i\"]\n",
    "            append!(outvec, transform_fun(scaler, vec[i]))\n",
    "        end\n",
    "    end\n",
    "    \n",
    "    return Tuple(outvec)\n",
    "end"
   ]
  },
  {
   "cell_type": "markdown",
   "metadata": {},
   "source": [
    "### Loading Model"
   ]
  },
  {
   "cell_type": "code",
   "execution_count": 9,
   "metadata": {},
   "outputs": [
    {
     "data": {
      "text/plain": [
       "model_id_to_nn (generic function with 1 method)"
      ]
     },
     "execution_count": 9,
     "metadata": {},
     "output_type": "execute_result"
    }
   ],
   "source": [
    "function model_id_to_nn(model_id, x_dim, y_dim)\n",
    "    model_params = Dict()\n",
    "    \n",
    "    for substring in split(model_id, \"_\")\n",
    "        if occursin(\"-\", substring)\n",
    "            continue\n",
    "        elseif occursin(\"w=\", substring)\n",
    "            model_params[\"width\"] = parse(Int, last(split(substring, \"=\")))\n",
    "        elseif occursin(\"d=\", substring)\n",
    "            model_params[\"depth\"] = parse(Int, last(split(substring, \"=\")))\n",
    "        elseif occursin(\"activation=\", substring)\n",
    "            activation_function_string = last(split(substring, \"=\"))\n",
    "            model_params[\"activation\"] = parseactivationfunctions([activation_function_string])[1]\n",
    "        elseif occursin(\"dr=\", substring)\n",
    "            model_params[\"dropout_rate\"] = parse(Float32, last(split(substring, \"=\")))\n",
    "        end\n",
    "    end\n",
    "    \n",
    "    neuralnetworkwithdropout(\n",
    "        x_dim, y_dim, model_params[\"width\"], model_params[\"depth\"],\n",
    "        model_params[\"dropout_rate\"], model_params[\"activation\"]\n",
    "    )\n",
    "end"
   ]
  },
  {
   "cell_type": "code",
   "execution_count": 10,
   "metadata": {},
   "outputs": [],
   "source": [
    "model_id = \"2023-06-16_19-27-42_w=100_d=6_activation=sigmoid_bs=1024_lr=0.001_dr=0.0_1\"\n",
    "model_state = JLD2.load(\"../../models/$model_id.jld2\", \"model_state\");\n",
    "m = model_id_to_nn(model_id, size(x_df)[2], size(y_df)[2]);\n",
    "Flux.loadmodel!(m, model_state);\n",
    "\n",
    "#@load \"../../models/2023-06-08_18-19-09_w=100_d=5_activation=sigmoid_bs=1024_lr=0.001_dr=0.0_1.jld2\" m; old way"
   ]
  },
  {
   "cell_type": "code",
   "execution_count": 11,
   "metadata": {},
   "outputs": [
    {
     "data": {
      "text/plain": [
       "predict (generic function with 1 method)"
      ]
     },
     "execution_count": 11,
     "metadata": {},
     "output_type": "execute_result"
    }
   ],
   "source": [
    "function predict(x_vec)\n",
    "    m([x_vec...])'\n",
    "end"
   ]
  },
  {
   "cell_type": "code",
   "execution_count": 12,
   "metadata": {},
   "outputs": [
    {
     "name": "stdout",
     "output_type": "stream",
     "text": [
      "(0.28919423f0, -0.3137467f0, 0.1475386862263235, 0.6688788f0, 0.5534791401182384, -0.7847122f0, -0.8160064f0, -0.45144355f0, 0.33135014022087317, -0.44775814f0, 0.4049362f0, 0.17109923841804942, 0.3576814045090202, -0.43408716f0, -1.0f0)\n",
      "Prediction:\n"
     ]
    },
    {
     "name": "stderr",
     "output_type": "stream",
     "text": [
      "\u001b[33m\u001b[1m┌ \u001b[22m\u001b[39m\u001b[33m\u001b[1mWarning: \u001b[22m\u001b[39mLayer with Float32 parameters got Float64 input.\n",
      "\u001b[33m\u001b[1m│ \u001b[22m\u001b[39m  The input will be converted, but any earlier layers may be very slow.\n",
      "\u001b[33m\u001b[1m│ \u001b[22m\u001b[39m  layer = Dense(15 => 100, #69)  \u001b[90m# 1_600 parameters\u001b[39m\n",
      "\u001b[33m\u001b[1m│ \u001b[22m\u001b[39m  summary(x) = \"15-element Vector{Float64}\"\n",
      "\u001b[33m\u001b[1m└ \u001b[22m\u001b[39m\u001b[90m@ Flux ~/.julia/packages/Flux/EHgZm/src/layers/stateless.jl:60\u001b[39m\n"
     ]
    },
    {
     "name": "stdout",
     "output_type": "stream",
     "text": [
      "Float32[0.8280521 -0.47372794 -0.63120365 -0.8962653 0.23376288 -0.08396596]\n",
      "True:\n",
      "\u001b[1mDataFrameRow\u001b[0m\n",
      "\u001b[1m Row \u001b[0m│\u001b[1m OBJ1     \u001b[0m\u001b[1m OBJ2 \u001b[0m\u001b[1m OBJ3      \u001b[0m\u001b[1m OBJ4      \u001b[0m\u001b[1m OBJ5     \u001b[0m\u001b[1m OBJ6       \u001b[0m\n",
      "     │\u001b[90m Any      \u001b[0m\u001b[90m Any  \u001b[0m\u001b[90m Any       \u001b[0m\u001b[90m Any       \u001b[0m\u001b[90m Any      \u001b[0m\u001b[90m Any        \u001b[0m\n",
      "─────┼────────────────────────────────────────────────────────────\n",
      "   1 │ 0.826478  -0.5  -0.634009  -0.894922  0.304231  -0.0885951\n"
     ]
    }
   ],
   "source": [
    "# do i understand how the model predicts for a given x_vec?\n",
    "println(values(first(x_scaled_df)))\n",
    "\n",
    "println(\"Prediction:\")\n",
    "println(predict(values(first(x_scaled_df))))\n",
    "println(\"True:\")\n",
    "println(first(y_scaled_df))"
   ]
  },
  {
   "cell_type": "markdown",
   "metadata": {},
   "source": [
    "### Functionality to predict cellnumber"
   ]
  },
  {
   "cell_type": "code",
   "execution_count": 13,
   "metadata": {},
   "outputs": [
    {
     "name": "stderr",
     "output_type": "stream",
     "text": [
      "\u001b[32m\u001b[1m    Building\u001b[22m\u001b[39m Conda ─→ `~/.julia/scratchspaces/44cfe95a-1eb2-52ea-b672-e2afdf69b78f/915ebe6f0e7302693bdd8eac985797dba1d25662/build.log`\n",
      "\u001b[32m\u001b[1m    Building\u001b[22m\u001b[39m PyCall → `~/.julia/scratchspaces/44cfe95a-1eb2-52ea-b672-e2afdf69b78f/62f417f6ad727987c755549e9cd88c46578da562/build.log`\n"
     ]
    },
    {
     "data": {
      "text/plain": [
       "PyObject <function compute_cellnumber at 0x1df27e290>"
      ]
     },
     "execution_count": 13,
     "metadata": {},
     "output_type": "execute_result"
    }
   ],
   "source": [
    "ENV[\"PYTHON\"] = \"\"                                                                                                                                   \n",
    "using Pkg\n",
    "Pkg.build(\"PyCall\")\n",
    "using PyCall\n",
    "\n",
    "# Julia uses a Python that is installed to a separte location than my current anaconda3 installation.\n",
    "# the following lines make sure that the correct Python packages are installed to read in the supplemental\n",
    "# Python script that computes cell number\n",
    "\n",
    "# using Conda\n",
    "# Conda.add(\"scipy\")\n",
    "# Conda.add(\"matplotlib\")\n",
    "\n",
    "py\"\"\"\n",
    "import sys\n",
    "sys.path.insert(0, \"./../../compute_cellnumber/\")\n",
    "\"\"\"\n",
    "\n",
    "compute_cellnumber = pyimport(\"compute_cellnumber\")[\"compute_cellnumber\"]"
   ]
  },
  {
   "cell_type": "code",
   "execution_count": 14,
   "metadata": {},
   "outputs": [
    {
     "data": {
      "text/plain": [
       "jl_row_to_py_row (generic function with 1 method)"
      ]
     },
     "execution_count": 14,
     "metadata": {},
     "output_type": "execute_result"
    }
   ],
   "source": [
    "# compute_cellnumber function uses different row keys\n",
    "# this is a nice sanity check to make sure we're passing in the data through the correct slots\n",
    "dvar_to_param = Dict(\n",
    "    \"DVAR1\" => \"Bmax\",\n",
    "    \"DVAR2\" => \"mX1\",\n",
    "    \"DVAR3\" => \"mX2\",\n",
    "    \"DVAR4\" => \"mY1\",\n",
    "    \"DVAR5\" => \"mY2\",\n",
    "    \"DVAR6\" => \"mtau1\",\n",
    "    \"DVAR7\" => \"mtau2\",\n",
    "    \"DVAR8\" => \"PhiY1\",\n",
    "    \"DVAR9\" => \"PhiY2\",\n",
    "    \"DVAR10\" => \"Phitau1\",\n",
    "    \"DVAR11\" => \"Phitau2\",\n",
    "    \"DVAR12\" => \"mY3ref\",\n",
    "    \"DVAR13\" => \"PhiY3ref\",\n",
    "    \"DVAR14\" => \"Eref\",\n",
    ")\n",
    "\n",
    "function jl_row_to_py_row(jl_row)\n",
    "    pyrow = Dict()\n",
    "    \n",
    "    for i in 1:14\n",
    "        pyrow[dvar_to_param[\"DVAR$i\"]] = jl_row[\"DVAR$i\"]\n",
    "    end\n",
    "    \n",
    "    pyrow\n",
    "end"
   ]
  },
  {
   "cell_type": "code",
   "execution_count": 15,
   "metadata": {},
   "outputs": [
    {
     "data": {
      "text/plain": [
       "(11.181179f0, 132.81548f0, 158.4179f0, 1.6692148f0, 1.7696925f0, 475.04153f0, 402.1113f0, -60.956318f0, -48.767296f0, 410.49042f0, 20.040588f0, 1.8951204f0, -40.988632f0, 0.070214f0, 1)"
      ]
     },
     "execution_count": 15,
     "metadata": {},
     "output_type": "execute_result"
    }
   ],
   "source": [
    "values(x_raw_df[10, :])"
   ]
  },
  {
   "cell_type": "code",
   "execution_count": 16,
   "metadata": {},
   "outputs": [
    {
     "data": {
      "text/plain": [
       "63"
      ]
     },
     "execution_count": 16,
     "metadata": {},
     "output_type": "execute_result"
    }
   ],
   "source": [
    "compute_cellnumber(jl_row_to_py_row(x_raw_df[10, :]))"
   ]
  },
  {
   "cell_type": "code",
   "execution_count": 17,
   "metadata": {},
   "outputs": [],
   "source": [
    "#= sanity check\n",
    "cns_pred = []\n",
    "cns_true = []\n",
    "\n",
    "problematic_idx = []\n",
    "\n",
    "for i in 1:size(x_raw_df)[1]\n",
    "    \n",
    "    if y_df[i, \"OBJ1\"] < 50\n",
    "        continue\n",
    "    else\n",
    "\n",
    "        try\n",
    "            cn = compute_cellnumber(jl_row_to_py_row(x_raw_df[i, :])) % 2\n",
    "            append!(cns_pred, cn)\n",
    "            append!(cns_true, x_raw_df[:, 15][i])\n",
    "        catch\n",
    "            append!(problematic_idx, i)\n",
    "            continue\n",
    "        end \n",
    "    end\n",
    "end\n",
    "\n",
    "histogram(cns_pred .- cns_true) =#"
   ]
  },
  {
   "cell_type": "markdown",
   "metadata": {},
   "source": [
    "### Final optimization\n",
    "- Maximize transmission (< 95%)\n",
    "- Output energy should be 70 KeV (0.070 MeV)\n",
    "- Minimize RFQ length\n",
    "- Minimize longitudinal emittance\n",
    "- Minimize transverse emittance"
   ]
  },
  {
   "cell_type": "code",
   "execution_count": 18,
   "metadata": {},
   "outputs": [],
   "source": [
    "# optimization initialization\n",
    "# bounds of scaled DVARS\n",
    "lower_bound = repeat([-1.], 14); upper_bound = repeat([1.], 14)\n",
    "\n",
    "# smapling to instantiate acquisition function\n",
    "n_samples = 1000\n",
    "initial_samples = Surrogates.sample(n_samples, lower_bound, upper_bound, SobolSample());"
   ]
  },
  {
   "cell_type": "code",
   "execution_count": 19,
   "metadata": {},
   "outputs": [
    {
     "data": {
      "text/plain": [
       "objective3 (generic function with 1 method)"
      ]
     },
     "execution_count": 19,
     "metadata": {},
     "output_type": "execute_result"
    }
   ],
   "source": [
    "function objective3(x_vec)\n",
    "    x_vec_unscaled = recorr(minmaxscale(x_vec; var=\"x\", inverse=true))\n",
    "    x_vec_unscaled_dict = Dict(\"DVAR$i\" => x_vec_unscaled[i] for i in 1:14)\n",
    "    local cellnumber\n",
    "    try\n",
    "        cellnumber = compute_cellnumber(jl_row_to_py_row(x_vec_unscaled_dict))\n",
    "    catch\n",
    "        cellnumber = 0\n",
    "    end\n",
    "    y = predict((x_vec..., (cellnumber % 2)*2 - 1.))\n",
    "    target_energy_scaled = transform(y_scalers[\"OBJ2\"], 0.07)[1]\n",
    "    [-y[1], (y[2] - target_energy_scaled)^2, y[3], y[4], y[5], y[6]]\n",
    "end"
   ]
  },
  {
   "cell_type": "code",
   "execution_count": 20,
   "metadata": {},
   "outputs": [],
   "source": [
    "x3s = [sample for sample in initial_samples];\n",
    "x3s = unique(x3s)\n",
    "y3s = objective3.(x3s);"
   ]
  },
  {
   "cell_type": "code",
   "execution_count": 21,
   "metadata": {},
   "outputs": [
    {
     "data": {
      "text/plain": [
       "(::RadialBasis{Surrogates.var\"#1#2\", Int64, Vector{NTuple{14, Float64}}, Vector{Vector{Float64}}, Vector{Float64}, Vector{Float64}, Matrix{Float64}, Float64, Bool}) (generic function with 1 method)"
      ]
     },
     "execution_count": 21,
     "metadata": {},
     "output_type": "execute_result"
    }
   ],
   "source": [
    "if length(x3s) != length(unique(x3s))\n",
    "    print(\"Duplicate entries in x3\")\n",
    "end\n",
    "if length(x3s) != length(y3s)\n",
    "    print(\"Dimension mismatch between x3 and y\")\n",
    "end\n",
    "radial_basis_ego_3 = RadialBasis(x3s, y3s, repeat([-1.], 14), repeat([1.], 14))"
   ]
  },
  {
   "cell_type": "code",
   "execution_count": 22,
   "metadata": {},
   "outputs": [],
   "source": [
    "pareto_set_3, pareto_front_3 = surrogate_optimize(\n",
    "    objective3, SMB(), repeat([-1.], 14), repeat([1.], 14), radial_basis_ego_3, SobolSample();\n",
    "    maxiters = 100, n_new_look = 100\n",
    ");"
   ]
  },
  {
   "cell_type": "code",
   "execution_count": 23,
   "metadata": {},
   "outputs": [],
   "source": [
    "obj1_3 = [inverse_transform(y_scalers[\"OBJ1\"], -item[1])[1] for item in pareto_front_3];\n",
    "dE_3 = [item[2] for item in pareto_front_3];\n",
    "obj3_3 = [inverse_transform(y_scalers[\"OBJ3\"], item[3])[1] for item in pareto_front_3];\n",
    "obj4_3 = [inverse_transform(y_scalers[\"OBJ4\"], item[4])[1] for item in pareto_front_3];\n",
    "obj5_3 = [inverse_transform(y_scalers[\"OBJ5\"], item[5])[1] for item in pareto_front_3];\n",
    "obj6_3 = [inverse_transform(y_scalers[\"OBJ6\"], item[6])[1] for item in pareto_front_3];\n",
    "\n",
    "unscaled_pareto_front_3 = [obj1_3, dE_3, obj3_3, obj4_3, obj5_3, obj6_3];"
   ]
  },
  {
   "cell_type": "code",
   "execution_count": 24,
   "metadata": {},
   "outputs": [
    {
     "data": {
      "text/plain": [
       "5"
      ]
     },
     "execution_count": 24,
     "metadata": {},
     "output_type": "execute_result"
    }
   ],
   "source": [
    "emit_cutoff = 0.04\n",
    "long_emit_mask = obj4_3 .< emit_cutoff; x_emit_mask = obj5_3 .< emit_cutoff; y_emit_mask = obj6_3 .< emit_cutoff;\n",
    "\n",
    "\n",
    "transmission_cutoff = 90\n",
    "high_transmission_mask = obj1_3 .> transmission_cutoff\n",
    "\n",
    "sum(long_emit_mask .& x_emit_mask .& y_emit_mask .& high_transmission_mask)"
   ]
  },
  {
   "cell_type": "code",
   "execution_count": 25,
   "metadata": {},
   "outputs": [
    {
     "data": {
      "text/plain": [
       "5-element Vector{Int64}:\n",
       "  20\n",
       " 103\n",
       " 297\n",
       " 399\n",
       " 514"
      ]
     },
     "execution_count": 25,
     "metadata": {},
     "output_type": "execute_result"
    }
   ],
   "source": [
    "candidates = [i for i in 1:length(obj1_3)][long_emit_mask .& x_emit_mask .& y_emit_mask .& high_transmission_mask]"
   ]
  },
  {
   "cell_type": "code",
   "execution_count": 26,
   "metadata": {},
   "outputs": [
    {
     "name": "stdout",
     "output_type": "stream",
     "text": [
      "candidate 20\n",
      "Any[8.89308809582144, 133.80184844136238, 156.97865025867986, 1.0966278220294043, 1.765510609608762, 150.60280898213387, 252.9359292089939, -85.09079340845346, -36.52964158344486, 169.12064218521118, 278.2774059474468, 1.8340688125928477, -33.440215182659706, 0.05935550605499884]\n",
      "(93.34453130741349, 0.06548147392463366, 181.52716563539616, 0.03907475192160348, 0.03488076614336233, 0.029135358963253033)\n",
      " \n",
      "candidate 103\n",
      "Any[9.016133998520672, 116.39981546998024, 128.13922440468656, 1.1644984319573268, 1.2647673688317604, 94.07584205269814, 145.73012402653694, -74.55281127244234, -53.35124360536949, 385.48249435424805, 42.42575964331627, 1.6433319988371824, -44.855218953155344, 0.062246116453025024]\n",
      "(90.15184353505538, 0.06374983255797773, 180.21827097863024, 0.03893252469185171, 0.029357717525449356, 0.02387355129610569)\n",
      " \n",
      "candidate 297\n",
      "Any[10.118420210201293, 84.29833798110485, 131.41610172082352, 1.0772846981999464, 1.8291769826105195, 363.797188565135, 78.72649578750134, -86.11531944945455, -40.48405003623282, 324.3261600136757, 407.16740687191486, 1.9404735467891332, -21.484066757702376, 0.0725487987838278]\n",
      "(97.03289640690491, 0.07687307765859996, 152.7550096183586, 0.037898705261632415, 0.029421946323981985, 0.025282593582798718)\n",
      " \n",
      "candidate 399\n",
      "Any[9.510026580188423, 51.33994220197201, 156.57935065039814, 1.046064217633102, 1.8061895698340895, 148.409952506423, 485.1339572519064, -88.57418194785714, -50.795665568334876, 54.36114627122879, 466.61761523783207, 1.863142349519235, -28.800830022772693, 0.07469722543100943]\n",
      "(97.23440473833034, 0.0795393465758587, 173.95120437520745, 0.03468788451905169, 0.03265118788989452, 0.036785084532018786)\n",
      " \n",
      "candidate 514\n",
      "Any[9.128926075994968, 46.13251566886902, 92.64902221358545, 1.0430100401863456, 1.4655896249619453, 425.9281220436096, 160.83639657497406, -82.92465263605118, -68.73355992420066, 199.82063472270966, 176.43237686157227, 1.6404787387120148, -56.480409869979695, 0.07234372169477865]\n",
      "(96.48617045819628, 0.07369650625315538, 166.52531180534788, 0.03742502814098714, 0.036649826734721724, 0.030539600377761822)\n",
      " \n"
     ]
    }
   ],
   "source": [
    "for j in candidates\n",
    "    println(\"candidate $j\")\n",
    "    # println(pareto_set_3[j])\n",
    "    candidate_dvars = minmaxscale(pareto_set_3[j]; var=\"x\", inverse=true)\n",
    "    println(recorr(candidate_dvars))\n",
    "    #= for i in 1:6\n",
    "        # println(\"OBJ$i: \", unscaled_pareto_front_3[i][j])\n",
    "    end =#\n",
    "    local cellnumber\n",
    "    try\n",
    "        cellnumber = compute_cellnumber(jl_row_to_py_row(Dict(\"DVAR$i\" => recorr(candidate_dvars)[i] for i in 1:14)))\n",
    "    catch\n",
    "        cellnumber = 0\n",
    "    end\n",
    "    println(minmaxscale(predict([pareto_set_3[j]..., (cellnumber % 2)*2 - 1]); var=\"y\", inverse=true))\n",
    "    println(\" \")\n",
    "end"
   ]
  },
  {
   "cell_type": "code",
   "execution_count": 27,
   "metadata": {},
   "outputs": [
    {
     "name": "stdout",
     "output_type": "stream",
     "text": [
      "(49.52150868250828, 0.08108371052660956, 235.92447451705812, 0.010485917866276395, 0.03213730564380746, 0.029083502237326364)\n",
      "(49.52186780973625, 0.08108326086921824, 235.89670767363714, 0.010481114244669243, 0.03211844956206367, 0.029074016176624973)\n",
      "(49.522101388421106, 0.08108290114330519, 235.87034383060018, 0.01047639068342221, 0.03210063927981155, 0.029065038515197372)\n"
     ]
    }
   ],
   "source": [
    "testvec = [8.913598815910518, 122.46416029334068, 138.35337080606638, 1.2527336771599948, 1.7169229509382598, 488.7900076806545, 4.413380831480026, -63.663563065230846, -38.80922526825233, 468.323744058609, 140.86112385988235, 1.8500028655174254, -21.576793326001052, 0.06533203836443136]\n",
    "println(minmaxscale(predict([testvec..., -1.]); var=\"y\", inverse=true))\n",
    "println(minmaxscale(predict([testvec..., 0.]); var=\"y\", inverse=true))\n",
    "println(minmaxscale(predict([testvec..., 1.]); var=\"y\", inverse=true))"
   ]
  },
  {
   "cell_type": "markdown",
   "metadata": {},
   "source": [
    "#### An example\n",
    "\n",
    "Earlier, I found the Pareto-optimal point\n",
    "```\n",
    "Any[9.621106587350368, 86.20992493629456, 151.5276411426766, 1.1407480351626873, 1.5461247062188697, 75.0710859298706, 90.66532409191132, -89.4816192984581, -57.44439364510753, 238.80475223064423, 402.53845977783203, 1.9589797589290225, -39.38285545256423, 0.056406302202958614]\n",
    "```\n",
    "Which is an RFQ with 87 cells. I predicted that this point would have the following OBJs\n",
    "```\n",
    "(99.11168172696327, 0.059405120364069454, 174.88078733049184, 0.03906433648567923, 0.033061393769183954, 0.0327312887736337)\n",
    "```\n",
    "The true values from PARMTEQM:\n",
    "```\n",
    "(97.72, 0.06190, 177.80, 0.07492, 0.04185, 0.04140)\n",
    "```\n",
    "With 87 cells. YAY!"
   ]
  },
  {
   "cell_type": "code",
   "execution_count": 28,
   "metadata": {},
   "outputs": [
    {
     "data": {
      "text/plain": [
       "plot_pairwise_scatter (generic function with 1 method)"
      ]
     },
     "execution_count": 28,
     "metadata": {},
     "output_type": "execute_result"
    }
   ],
   "source": [
    "function plot_pairwise_scatter(vec1, vec2, vec1label, vec2label, indexes, winner_index, incl_xticks, incl_yticks)\n",
    "    loser_indexes = [i for i in indexes if i != winner_index]\n",
    "    \n",
    "    \n",
    "    scatter(\n",
    "        [vec1[i] for i in loser_indexes], [vec2[i] for i in loser_indexes];\n",
    "        xlabel=vec1label, ylabel=vec2label, legend=false, markersize=3, markerstrokewidth=0.5,\n",
    "        xformatter = incl_xticks ? :auto : Returns(\"\"), yformatter = incl_yticks ? :auto : Returns(\"\") \n",
    "    )\n",
    "    \n",
    "    scatter!([vec1[winner_index]], [vec2[winner_index]]; markershape=:star5, markersize=10, markerstrokewidth=0.5)\n",
    "end"
   ]
  },
  {
   "cell_type": "code",
   "execution_count": null,
   "metadata": {},
   "outputs": [],
   "source": [
    "winner_index = 514\n",
    "\n",
    "labels = [\n",
    "    \"Transmission [%]\",\n",
    "    \"Scaled energy\\nsquared error\",\n",
    "    \"RFQ length [cm]\",\n",
    "    \"Longitudinal emit.\\n[MeV deg]\",\n",
    "    \"x-emit. [cm mrad]\",\n",
    "    \"y-emit. [cm mrad]\"\n",
    "]\n",
    "indexes = [i for i in 1:length(pareto_front_3)]\n",
    "\n",
    "layout = @layout([ ° _ _ _ _ ; ° ° _ _ _ ; ° ° ° _ _ ; ° ° ° ° _ ; ° ° ° ° ° ])\n",
    "\n",
    "#plot(p1, p2, p3, layout = l)\n",
    "\n",
    "plots_dict = Dict()\n",
    "\n",
    "for i in 1:(length(labels) - 1)\n",
    "    for j in 1:length(labels)\n",
    "        if i < j\n",
    "            p = plot_pairwise_scatter(\n",
    "                unscaled_pareto_front_3[i], unscaled_pareto_front_3[j],\n",
    "                j==length(labels) ? labels[i] : \"\", i==1 ? (\"\\n\" * labels[j]) : \"\", indexes, winner_index,\n",
    "                j==length(labels), i==1\n",
    "            )\n",
    "            if i == 1\n",
    "                xflip!(true)\n",
    "            end\n",
    "            # display(p)\n",
    "            merge!(plots_dict, Dict(\"$i$j\"=>p))\n",
    "        end\n",
    "    end\n",
    "end\n",
    "    \n",
    "pareto_plot = plot(\n",
    "    [plots_dict[\"$i$j\"] for j in 1:length(labels) for i in 1:length(labels) if i<j]...,\n",
    "    layout = layout, widths=(1/4,1/4,1/4,1/4), size=(1200,900), dpi=500\n",
    ")"
   ]
  },
  {
   "cell_type": "code",
   "execution_count": 38,
   "metadata": {},
   "outputs": [
    {
     "data": {
      "text/plain": [
       "\"/Users/Josh/Desktop/research/rfq-nn/img/pareto_plot.png\""
      ]
     },
     "execution_count": 38,
     "metadata": {},
     "output_type": "execute_result"
    }
   ],
   "source": [
    "savefig(pareto_plot,\"../../img/pareto_plot.png\")"
   ]
  },
  {
   "cell_type": "code",
   "execution_count": null,
   "metadata": {},
   "outputs": [],
   "source": []
  }
 ],
 "metadata": {
  "kernelspec": {
   "display_name": "Julia 1.8.0",
   "language": "julia",
   "name": "julia-1.8"
  },
  "language_info": {
   "file_extension": ".jl",
   "mimetype": "application/julia",
   "name": "julia",
   "version": "1.8.0"
  }
 },
 "nbformat": 4,
 "nbformat_minor": 4
}
