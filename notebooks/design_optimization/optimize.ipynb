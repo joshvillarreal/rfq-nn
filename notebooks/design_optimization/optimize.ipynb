{
 "cells": [
  {
   "cell_type": "code",
   "execution_count": 1,
   "metadata": {},
   "outputs": [
    {
     "data": {
      "text/plain": [
       "main (generic function with 1 method)"
      ]
     },
     "execution_count": 1,
     "metadata": {},
     "output_type": "execute_result"
    }
   ],
   "source": [
    "using Plots\n",
    "using Statistics\n",
    "using Surrogates\n",
    "using CSV\n",
    "using DataFrames\n",
    "using Distributions\n",
    "using Flux\n",
    "import JSON\n",
    "using MLUtils\n",
    "using Plots\n",
    "using StatsBase\n",
    "using StatsPlots\n",
    "using Tables\n",
    "\n",
    "include(\"../../scan_hyperparameters_withcellnum_functions.jl\")"
   ]
  },
  {
   "cell_type": "markdown",
   "metadata": {},
   "source": [
    "### Loading data and making cuts for proper scaling"
   ]
  },
  {
   "cell_type": "code",
   "execution_count": 2,
   "metadata": {},
   "outputs": [
    {
     "name": "stdout",
     "output_type": "stream",
     "text": [
      "Formatting data...\n",
      "Cutting Transmission to 60-100 percent...\n",
      "x_raw shape: (217293, 15)\n",
      "y_raw shape: (217293, 6)\n",
      "x_new shape: (161574, 15)\n",
      "y_new shape: (161574, 6)\n",
      "Decorrelating...\n",
      "Done!\n"
     ]
    }
   ],
   "source": [
    "target_directory = \"../../data/full_with_cellnumber/\"\n",
    "\n",
    "println(\"Formatting data...\")\n",
    "x_raw_df, y_df, cellnumber_df = getrawdata_withcellnum(target_directory)\n",
    "\n",
    "# how to process cellnumber, for now let's make it another dvar\n",
    "x_raw_origcn_df = hcat(x_raw_df, cellnumber_df)\n",
    "x_raw_df = hcat(x_raw_df, cellnumber_df .% 2)\n",
    "\n",
    "# cutting\n",
    "println(\"Cutting Transmission to 60-100 percent...\")\n",
    "lower::Float32 = 60\n",
    "upper::Float32 = 120\n",
    "x_raw_df, y_df = applycut(x_raw_df, y_df, \"OBJ1\", lower, upper; with_numcells=true)\n",
    "\n",
    "# decorrelating\n",
    "println(\"Decorrelating...\")\n",
    "x_df = decorrelatedvars(x_raw_df; with_numcells=true)\n",
    "\n",
    "x_scaled_df, x_scalers = minmaxscaledf(x_df);\n",
    "y_scaled_df, y_scalers = minmaxscaledf(y_df);\n",
    "\n",
    "println(\"Done!\")"
   ]
  },
  {
   "cell_type": "markdown",
   "metadata": {},
   "source": [
    "A sanity check since Julia alphabetizes column names:\n",
    "\n",
    "Recall that these are the original ranges of our DVARs\n",
    "\n",
    "```\n",
    "DVAR1: Bmax  [ 8.5, 12.0 ]\n",
    "DVAR2: mX1  [ 5, 140 ]\n",
    "DVAR3: mX2  [ 15, 160 ]\n",
    "DVAR4: mY1  [ 1.005, 1.7 ]\n",
    "DVAR5: mY2  [ 1.055, 1.85 ]\n",
    "DVAR6: mtau1  [ 1, 500 ]\n",
    "DVAR7: mtau2  [ 1, 500 ]\n",
    "DVAR8: PhiY1  [ -89.95, -30 ]\n",
    "DVAR9: PhiY2  [ -87.45, -25 ]\n",
    "DVAR10: Phitau1  [ 1, 500 ]\n",
    "DVAR11: Phitau2  [ 1, 500 ]\n",
    "DVAR12: mY3ref  [ 1.105, 2.0 ]\n",
    "DVAR13: PhiY3ref  [ -84.95, -20 ]\n",
    "DVAR14: Eref  [ 0.055, 0.075 ]\n",
    "```\n",
    "\n",
    "but recall also that we decorrelate `DVAR3`, `DVAR5`, `DVAR9`, `DVAR12`, `DVAR13`. This means that their unscaled values will fall between 0 and 1."
   ]
  },
  {
   "cell_type": "code",
   "execution_count": 3,
   "metadata": {},
   "outputs": [
    {
     "data": {
      "text/plain": [
       "Dict{String, MinMaxScaler} with 15 entries:\n",
       "  \"DVAR7\"      => MinMaxScaler(1.00229, 499.997)\n",
       "  \"DVAR5\"      => MinMaxScaler(-7.45177f-8, 0.999996)\n",
       "  \"DVAR12\"     => MinMaxScaler(7.62605f-6, 0.999995)\n",
       "  \"DVAR14\"     => MinMaxScaler(0.0550001, 0.075)\n",
       "  \"DVAR2\"      => MinMaxScaler(5.00044, 139.998)\n",
       "  \"DVAR10\"     => MinMaxScaler(1.00164, 499.998)\n",
       "  \"DVAR1\"      => MinMaxScaler(8.50003, 12.0)\n",
       "  \"DVAR3\"      => MinMaxScaler(1.07697f-5, 0.999994)\n",
       "  \"DVAR6\"      => MinMaxScaler(1.00127, 499.998)\n",
       "  \"DVAR4\"      => MinMaxScaler(1.00501, 1.7)\n",
       "  \"DVAR8\"      => MinMaxScaler(-89.95, -30.0006)\n",
       "  \"DVAR13\"     => MinMaxScaler(2.18249f-5, 0.999996)\n",
       "  \"cellnumber\" => MinMaxScaler(0.0, 1.0)\n",
       "  \"DVAR11\"     => MinMaxScaler(1.0075, 499.997)\n",
       "  \"DVAR9\"      => MinMaxScaler(3.582f-7, 0.999969)"
      ]
     },
     "execution_count": 3,
     "metadata": {},
     "output_type": "execute_result"
    }
   ],
   "source": [
    "x_scalers # looks good"
   ]
  },
  {
   "cell_type": "code",
   "execution_count": 4,
   "metadata": {},
   "outputs": [
    {
     "name": "stdout",
     "output_type": "stream",
     "text": [
      "[\"DVAR1\", \"DVAR2\", \"DVAR3\", \"DVAR4\", \"DVAR5\", \"DVAR6\", \"DVAR7\", \"DVAR8\", \"DVAR9\", \"DVAR10\", \"DVAR11\", \"DVAR12\", \"DVAR13\", \"DVAR14\", \"cellnumber\"]\n",
      "[\"DVAR1\", \"DVAR2\", \"DVAR3\", \"DVAR4\", \"DVAR5\", \"DVAR6\", \"DVAR7\", \"DVAR8\", \"DVAR9\", \"DVAR10\", \"DVAR11\", \"DVAR12\", \"DVAR13\", \"DVAR14\", \"cellnumber\"]\n"
     ]
    }
   ],
   "source": [
    "println(names(x_df))\n",
    "println(names(x_scaled_df))"
   ]
  },
  {
   "cell_type": "code",
   "execution_count": 5,
   "metadata": {},
   "outputs": [],
   "source": [
    "@assert names(x_df) == names(x_scaled_df)"
   ]
  },
  {
   "cell_type": "code",
   "execution_count": 6,
   "metadata": {},
   "outputs": [
    {
     "data": {
      "text/plain": [
       "decorrelate_single (generic function with 1 method)"
      ]
     },
     "execution_count": 6,
     "metadata": {},
     "output_type": "execute_result"
    }
   ],
   "source": [
    "function decorrelate_single(data_to_transform, dynamic_lower_bound, strict_upper_bound; inverse=false)\n",
    "    if inverse\n",
    "        dynamic_lower_bound + data_to_transform*(strict_upper_bound - dynamic_lower_bound)\n",
    "    else\n",
    "        (data_to_transform - dynamic_lower_bound) / (strict_upper_bound - dynamic_lower_bound)\n",
    "    end\n",
    "end"
   ]
  },
  {
   "cell_type": "code",
   "execution_count": 25,
   "metadata": {},
   "outputs": [
    {
     "data": {
      "text/plain": [
       "minmaxscale (generic function with 1 method)"
      ]
     },
     "execution_count": 25,
     "metadata": {},
     "output_type": "execute_result"
    }
   ],
   "source": [
    "function decorr(vec)\n",
    "    # we are only decorrelating unscaled vectors, which means that these vectors have their DVARs in\n",
    "    # quasi-numerical order DVAR1, ... DVAR14, cellnumber\n",
    "    maxes = Dict(\n",
    "        \"DVAR3\"=>160.,\n",
    "        \"DVAR5\"=>1.85,\n",
    "        \"DVAR9\"=>-25.,\n",
    "        \"DVAR12\"=>2.,\n",
    "        \"DVAR13\"=>-20.\n",
    "    )\n",
    "    etas = Dict(\n",
    "        \"DVAR3\"=>10.,\n",
    "        \"DVAR5\"=>0.05,\n",
    "        \"DVAR9\"=>2.5,\n",
    "        \"DVAR12\"=>0.05,\n",
    "        \"DVAR13\"=>2.5\n",
    "    )\n",
    "    dvarmap = Dict(\n",
    "        3=>2, # DVAR3prime ∼ Uniform(DVAR2prime + δ3, u3) \n",
    "        5=>4,\n",
    "        9=>8,\n",
    "        12=>5,\n",
    "        13=>9\n",
    "    )\n",
    "    \n",
    "    decorred_vec = []\n",
    "    \n",
    "    for i in 1:15\n",
    "        dvar = (i == 15) ? \"cellnumber\" : \"DVAR$i\"\n",
    "        # transform?\n",
    "        if dvar ∈ keys(maxes)\n",
    "            dependent_dvar = deps[dvar]\n",
    "            append!(decorred_vec, getdvarprimesing(vec[i], etas[dvar] + vec[dvarmap[i]], maxes[dvar])) \n",
    "        else\n",
    "            append!(decorred_vec, vec[i])\n",
    "        end\n",
    "    end\n",
    "    decorred_vec\n",
    "end\n",
    "\n",
    "function recorr(vec)\n",
    "    # we are only recorrelating scaled vectors, which means that these vectors have their DVARs in\n",
    "    # quasi-alphabetical order DVAR1, DVAR10, ... DVAR2, ... DVAR9, cellnumber\n",
    "    maxes = Dict(\n",
    "        \"DVAR3\"=>160.,\n",
    "        \"DVAR5\"=>1.85,\n",
    "        \"DVAR9\"=>-25.,\n",
    "        \"DVAR12\"=>2.,\n",
    "        \"DVAR13\"=>-20.\n",
    "    )\n",
    "    etas = Dict(\n",
    "        \"DVAR3\"=>10.,\n",
    "        \"DVAR5\"=>0.05,\n",
    "        \"DVAR9\"=>2.5,\n",
    "        \"DVAR12\"=>0.05,\n",
    "        \"DVAR13\"=>2.5\n",
    "    )\n",
    "    dvarmap = Dict(\n",
    "        3=>2,\n",
    "        5=>4,\n",
    "        9=>8,\n",
    "        12=>5,\n",
    "        13=>9\n",
    "    )\n",
    "    \n",
    "    recorred_vec = []\n",
    "    \n",
    "    for i in 1:14\n",
    "        if i ∈ [3, 5, 9]\n",
    "            append!(\n",
    "                recorred_vec, decorrelate_single(vec[i], etas[\"DVAR$i\"] + vec[dvarmap[i]], maxes[\"DVAR$i\"])\n",
    "            )\n",
    "        elseif i ∈ [12, 13]\n",
    "            append!(\n",
    "                recorred_vec,\n",
    "                decorrelate_single(\n",
    "                    vec[i], etas[\"DVAR$i\"] + recorred_vec[dvarmap[i]], maxes[\"DVAR$i\"]\n",
    "                )\n",
    "            )\n",
    "        else\n",
    "            append!(recorred_vec, vec[i])\n",
    "        end\n",
    "    end\n",
    "    \n",
    "    recorred_vec\n",
    "end\n",
    "\n",
    "function minmaxscale(vec; var=\"x\", inverse=false)\n",
    "    outvec = []\n",
    "    \n",
    "    transform_fun(scaler, x) = inverse ? inverse_transform(scaler, x) : transform(scaler, x)\n",
    "    \n",
    "    if var == \"x\"\n",
    "        for i in 1:14\n",
    "            scaler = x_scalers[\"DVAR$i\"]\n",
    "            append!(outvec, transform_fun(scaler, vec[i]))\n",
    "        end\n",
    "    elseif var == \"y\"\n",
    "        for i in 1:6\n",
    "            scaler = y_scalers[\"OBJ$i\"]\n",
    "            append!(outvec, transform_fun(scaler, vec[i]))\n",
    "        end\n",
    "    end\n",
    "    \n",
    "    return Tuple(outvec)\n",
    "end"
   ]
  },
  {
   "cell_type": "markdown",
   "metadata": {},
   "source": [
    "### Loading Model"
   ]
  },
  {
   "cell_type": "code",
   "execution_count": 10,
   "metadata": {},
   "outputs": [
    {
     "data": {
      "text/plain": [
       "model_id_to_nn (generic function with 1 method)"
      ]
     },
     "execution_count": 10,
     "metadata": {},
     "output_type": "execute_result"
    }
   ],
   "source": [
    "function model_id_to_nn(model_id, x_dim, y_dim)\n",
    "    model_params = Dict()\n",
    "    \n",
    "    for substring in split(model_id, \"_\")\n",
    "        if occursin(\"-\", substring)\n",
    "            continue\n",
    "        elseif occursin(\"w=\", substring)\n",
    "            model_params[\"width\"] = parse(Int, last(split(substring, \"=\")))\n",
    "        elseif occursin(\"d=\", substring)\n",
    "            model_params[\"depth\"] = parse(Int, last(split(substring, \"=\")))\n",
    "        elseif occursin(\"activation=\", substring)\n",
    "            activation_function_string = last(split(substring, \"=\"))\n",
    "            model_params[\"activation\"] = parseactivationfunctions([activation_function_string])[1]\n",
    "        elseif occursin(\"dr=\", substring)\n",
    "            model_params[\"dropout_rate\"] = parse(Float32, last(split(substring, \"=\")))\n",
    "        end\n",
    "    end\n",
    "    \n",
    "    neuralnetworkwithdropout(\n",
    "        x_dim, y_dim, model_params[\"width\"], model_params[\"depth\"],\n",
    "        model_params[\"dropout_rate\"], model_params[\"activation\"]\n",
    "    )\n",
    "end"
   ]
  },
  {
   "cell_type": "code",
   "execution_count": 11,
   "metadata": {},
   "outputs": [],
   "source": [
    "model_id = \"2023-06-09_16-51-56_w=100_d=5_activation=sigmoid_bs=1024_lr=0.001_dr=0.0_1\"\n",
    "model_state = JLD2.load(\"../../models/$model_id.jld2\", \"model_state\");\n",
    "m = model_id_to_nn(model_id, size(x_df)[2], size(y_df)[2]);\n",
    "Flux.loadmodel!(m, model_state);\n",
    "\n",
    "#@load \"../../models/2023-06-08_18-19-09_w=100_d=5_activation=sigmoid_bs=1024_lr=0.001_dr=0.0_1.jld2\" m; old way"
   ]
  },
  {
   "cell_type": "code",
   "execution_count": 12,
   "metadata": {},
   "outputs": [
    {
     "data": {
      "text/plain": [
       "predict (generic function with 1 method)"
      ]
     },
     "execution_count": 12,
     "metadata": {},
     "output_type": "execute_result"
    }
   ],
   "source": [
    "function predict(x_vec)\n",
    "    m([x_vec...])'\n",
    "end"
   ]
  },
  {
   "cell_type": "code",
   "execution_count": 13,
   "metadata": {},
   "outputs": [
    {
     "name": "stdout",
     "output_type": "stream",
     "text": [
      "(0.28920162f0, -0.3137467f0, 0.1475414222175786, 0.6688763f0, 0.5534791401182384, -0.7847122f0, -0.8160064f0, -0.45144355f0, 0.3313838669893703, -0.44775814f0, 0.4049338f0, 0.17109923841804942, 0.3576814045090202, -0.43408716f0, -1.0f0)\n",
      "Prediction:\n",
      "[0.5578821564812669 -0.43035188954754455 -0.4797973030578322 -0.464684724347858 0.1516217500128258 -0.22247154462093893]\n",
      "True:\n",
      "\u001b[1mDataFrameRow\u001b[0m\n",
      "\u001b[1m Row \u001b[0m│\u001b[1m OBJ1    \u001b[0m\u001b[1m OBJ2      \u001b[0m\u001b[1m OBJ3      \u001b[0m\u001b[1m OBJ4      \u001b[0m\u001b[1m OBJ5     \u001b[0m\u001b[1m OBJ6      \u001b[0m\n",
      "\u001b[1m     \u001b[0m│\u001b[90m Any     \u001b[0m\u001b[90m Any       \u001b[0m\u001b[90m Any       \u001b[0m\u001b[90m Any       \u001b[0m\u001b[90m Any      \u001b[0m\u001b[90m Any       \u001b[0m\n",
      "─────┼───────────────────────────────────────────────────────────────\n",
      "   1 │ 0.56962  -0.495385  -0.494174  -0.463365  0.222158  -0.215965\n"
     ]
    }
   ],
   "source": [
    "# do i understand how the model predicts for a given x_vec?\n",
    "println(values(first(x_scaled_df)))\n",
    "\n",
    "println(\"Prediction:\")\n",
    "println(predict(values(first(x_scaled_df))))\n",
    "println(\"True:\")\n",
    "println(first(y_scaled_df))"
   ]
  },
  {
   "cell_type": "markdown",
   "metadata": {},
   "source": [
    "### Functionality to predict cellnumber"
   ]
  },
  {
   "cell_type": "code",
   "execution_count": 14,
   "metadata": {},
   "outputs": [
    {
     "name": "stderr",
     "output_type": "stream",
     "text": [
      "\u001b[32m\u001b[1m    Building\u001b[22m\u001b[39m Conda ─→ `~/.julia/scratchspaces/44cfe95a-1eb2-52ea-b672-e2afdf69b78f/e32a90da027ca45d84678b826fffd3110bb3fc90/build.log`\n",
      "\u001b[32m\u001b[1m    Building\u001b[22m\u001b[39m PyCall → `~/.julia/scratchspaces/44cfe95a-1eb2-52ea-b672-e2afdf69b78f/62f417f6ad727987c755549e9cd88c46578da562/build.log`\n"
     ]
    },
    {
     "data": {
      "text/plain": [
       "PyObject <function compute_cellnumber at 0x2071b2290>"
      ]
     },
     "execution_count": 14,
     "metadata": {},
     "output_type": "execute_result"
    }
   ],
   "source": [
    "ENV[\"PYTHON\"] = \"\"                                                                                                                                   \n",
    "using Pkg\n",
    "Pkg.build(\"PyCall\")\n",
    "using PyCall\n",
    "\n",
    "# Julia uses a Python that is installed to a separte location than my current anaconda3 installation.\n",
    "# the following lines make sure that the correct Python packages are installed to read in the supplemental\n",
    "# Python script that computes cell number\n",
    "\n",
    "# using Conda\n",
    "# Conda.add(\"scipy\")\n",
    "# Conda.add(\"matplotlib\")\n",
    "\n",
    "py\"\"\"\n",
    "import sys\n",
    "sys.path.insert(0, \"./../../compute_cellnumber/\")\n",
    "\"\"\"\n",
    "\n",
    "compute_cellnumber = pyimport(\"compute_cellnumber\")[\"compute_cellnumber\"]"
   ]
  },
  {
   "cell_type": "code",
   "execution_count": 15,
   "metadata": {},
   "outputs": [
    {
     "data": {
      "text/plain": [
       "jl_row_to_py_row (generic function with 1 method)"
      ]
     },
     "execution_count": 15,
     "metadata": {},
     "output_type": "execute_result"
    }
   ],
   "source": [
    "# compute_cellnumber function uses different row keys\n",
    "# this is a nice sanity check to make sure we're passing in the data through the correct slots\n",
    "dvar_to_param = Dict(\n",
    "    \"DVAR1\" => \"Bmax\",\n",
    "    \"DVAR2\" => \"mX1\",\n",
    "    \"DVAR3\" => \"mX2\",\n",
    "    \"DVAR4\" => \"mY1\",\n",
    "    \"DVAR5\" => \"mY2\",\n",
    "    \"DVAR6\" => \"mtau1\",\n",
    "    \"DVAR7\" => \"mtau2\",\n",
    "    \"DVAR8\" => \"PhiY1\",\n",
    "    \"DVAR9\" => \"PhiY2\",\n",
    "    \"DVAR10\" => \"Phitau1\",\n",
    "    \"DVAR11\" => \"Phitau2\",\n",
    "    \"DVAR12\" => \"mY3ref\",\n",
    "    \"DVAR13\" => \"PhiY3ref\",\n",
    "    \"DVAR14\" => \"Eref\",\n",
    ")\n",
    "\n",
    "function jl_row_to_py_row(jl_row)\n",
    "    pyrow = Dict()\n",
    "    \n",
    "    for i in 1:14\n",
    "        pyrow[dvar_to_param[\"DVAR$i\"]] = jl_row[\"DVAR$i\"]\n",
    "    end\n",
    "    \n",
    "    pyrow\n",
    "end"
   ]
  },
  {
   "cell_type": "code",
   "execution_count": 16,
   "metadata": {},
   "outputs": [
    {
     "data": {
      "text/plain": [
       "(11.272526f0, 113.67641f0, 142.83572f0, 1.3236254f0, 1.7508091f0, 26.869146f0, 52.817062f0, -37.27841f0, -34.61879f0, 93.22662f0, 467.92874f0, 1.8544296f0, -29.753065f0, 0.07108371f0, 1)"
      ]
     },
     "execution_count": 16,
     "metadata": {},
     "output_type": "execute_result"
    }
   ],
   "source": [
    "values(x_raw_df[10, :])"
   ]
  },
  {
   "cell_type": "code",
   "execution_count": 17,
   "metadata": {},
   "outputs": [
    {
     "data": {
      "text/plain": [
       "59"
      ]
     },
     "execution_count": 17,
     "metadata": {},
     "output_type": "execute_result"
    }
   ],
   "source": [
    "compute_cellnumber(jl_row_to_py_row(x_raw_df[10, :]))"
   ]
  },
  {
   "cell_type": "code",
   "execution_count": 18,
   "metadata": {},
   "outputs": [],
   "source": [
    "# sanity check\n",
    "cns_pred = []\n",
    "cns_true = []\n",
    "\n",
    "problematic_idx = []\n",
    "\n",
    "for i in 1:size(x_raw_df)[1]\n",
    "    \n",
    "    if y_df[i, \"OBJ1\"] < 50\n",
    "        continue\n",
    "    else\n",
    "\n",
    "        try\n",
    "            cn = compute_cellnumber(jl_row_to_py_row(x_raw_df[i, :])) % 2\n",
    "            append!(cns_pred, cn)\n",
    "            append!(cns_true, x_raw_df[:, 15][i])\n",
    "        catch\n",
    "            append!(problematic_idx, i)\n",
    "            continue\n",
    "        end \n",
    "    end\n",
    "end"
   ]
  },
  {
   "cell_type": "code",
   "execution_count": 19,
   "metadata": {},
   "outputs": [
    {
     "data": {
      "image/svg+xml": [
       "<?xml version=\"1.0\" encoding=\"utf-8\"?>\n",
       "<svg xmlns=\"http://www.w3.org/2000/svg\" xmlns:xlink=\"http://www.w3.org/1999/xlink\" width=\"600\" height=\"400\" viewBox=\"0 0 2400 1600\">\n",
       "<defs>\n",
       "  <clipPath id=\"clip720\">\n",
       "    <rect x=\"0\" y=\"0\" width=\"2400\" height=\"1600\"/>\n",
       "  </clipPath>\n",
       "</defs>\n",
       "<path clip-path=\"url(#clip720)\" d=\"\n",
       "M0 1600 L2400 1600 L2400 0 L0 0  Z\n",
       "  \" fill=\"#ffffff\" fill-rule=\"evenodd\" fill-opacity=\"1\"/>\n",
       "<defs>\n",
       "  <clipPath id=\"clip721\">\n",
       "    <rect x=\"480\" y=\"0\" width=\"1681\" height=\"1600\"/>\n",
       "  </clipPath>\n",
       "</defs>\n",
       "<path clip-path=\"url(#clip720)\" d=\"\n",
       "M307.593 1486.45 L2352.76 1486.45 L2352.76 47.2441 L307.593 47.2441  Z\n",
       "  \" fill=\"#ffffff\" fill-rule=\"evenodd\" fill-opacity=\"1\"/>\n",
       "<defs>\n",
       "  <clipPath id=\"clip722\">\n",
       "    <rect x=\"307\" y=\"47\" width=\"2046\" height=\"1440\"/>\n",
       "  </clipPath>\n",
       "</defs>\n",
       "<polyline clip-path=\"url(#clip722)\" style=\"stroke:#000000; stroke-linecap:butt; stroke-linejoin:round; stroke-width:2; stroke-opacity:0.1; fill:none\" points=\"\n",
       "  420.08,1486.45 420.08,47.2441 \n",
       "  \"/>\n",
       "<polyline clip-path=\"url(#clip722)\" style=\"stroke:#000000; stroke-linecap:butt; stroke-linejoin:round; stroke-width:2; stroke-opacity:0.1; fill:none\" points=\"\n",
       "  864.029,1486.45 864.029,47.2441 \n",
       "  \"/>\n",
       "<polyline clip-path=\"url(#clip722)\" style=\"stroke:#000000; stroke-linecap:butt; stroke-linejoin:round; stroke-width:2; stroke-opacity:0.1; fill:none\" points=\"\n",
       "  1307.98,1486.45 1307.98,47.2441 \n",
       "  \"/>\n",
       "<polyline clip-path=\"url(#clip722)\" style=\"stroke:#000000; stroke-linecap:butt; stroke-linejoin:round; stroke-width:2; stroke-opacity:0.1; fill:none\" points=\"\n",
       "  1751.93,1486.45 1751.93,47.2441 \n",
       "  \"/>\n",
       "<polyline clip-path=\"url(#clip722)\" style=\"stroke:#000000; stroke-linecap:butt; stroke-linejoin:round; stroke-width:2; stroke-opacity:0.1; fill:none\" points=\"\n",
       "  2195.87,1486.45 2195.87,47.2441 \n",
       "  \"/>\n",
       "<polyline clip-path=\"url(#clip720)\" style=\"stroke:#000000; stroke-linecap:butt; stroke-linejoin:round; stroke-width:4; stroke-opacity:1; fill:none\" points=\"\n",
       "  307.593,1486.45 2352.76,1486.45 \n",
       "  \"/>\n",
       "<polyline clip-path=\"url(#clip720)\" style=\"stroke:#000000; stroke-linecap:butt; stroke-linejoin:round; stroke-width:4; stroke-opacity:1; fill:none\" points=\"\n",
       "  420.08,1486.45 420.08,1467.55 \n",
       "  \"/>\n",
       "<polyline clip-path=\"url(#clip720)\" style=\"stroke:#000000; stroke-linecap:butt; stroke-linejoin:round; stroke-width:4; stroke-opacity:1; fill:none\" points=\"\n",
       "  864.029,1486.45 864.029,1467.55 \n",
       "  \"/>\n",
       "<polyline clip-path=\"url(#clip720)\" style=\"stroke:#000000; stroke-linecap:butt; stroke-linejoin:round; stroke-width:4; stroke-opacity:1; fill:none\" points=\"\n",
       "  1307.98,1486.45 1307.98,1467.55 \n",
       "  \"/>\n",
       "<polyline clip-path=\"url(#clip720)\" style=\"stroke:#000000; stroke-linecap:butt; stroke-linejoin:round; stroke-width:4; stroke-opacity:1; fill:none\" points=\"\n",
       "  1751.93,1486.45 1751.93,1467.55 \n",
       "  \"/>\n",
       "<polyline clip-path=\"url(#clip720)\" style=\"stroke:#000000; stroke-linecap:butt; stroke-linejoin:round; stroke-width:4; stroke-opacity:1; fill:none\" points=\"\n",
       "  2195.87,1486.45 2195.87,1467.55 \n",
       "  \"/>\n",
       "<path clip-path=\"url(#clip720)\" d=\"M366.608 1532.02 L396.284 1532.02 L396.284 1535.95 L366.608 1535.95 L366.608 1532.02 Z\" fill=\"#000000\" fill-rule=\"evenodd\" fill-opacity=\"1\" /><path clip-path=\"url(#clip720)\" d=\"M407.187 1544.91 L414.826 1544.91 L414.826 1518.55 L406.516 1520.21 L406.516 1515.95 L414.78 1514.29 L419.455 1514.29 L419.455 1544.91 L427.094 1544.91 L427.094 1548.85 L407.187 1548.85 L407.187 1544.91 Z\" fill=\"#000000\" fill-rule=\"evenodd\" fill-opacity=\"1\" /><path clip-path=\"url(#clip720)\" d=\"M436.539 1542.97 L441.423 1542.97 L441.423 1548.85 L436.539 1548.85 L436.539 1542.97 Z\" fill=\"#000000\" fill-rule=\"evenodd\" fill-opacity=\"1\" /><path clip-path=\"url(#clip720)\" d=\"M461.608 1517.37 Q457.997 1517.37 456.168 1520.93 Q454.363 1524.47 454.363 1531.6 Q454.363 1538.71 456.168 1542.27 Q457.997 1545.82 461.608 1545.82 Q465.242 1545.82 467.048 1542.27 Q468.876 1538.71 468.876 1531.6 Q468.876 1524.47 467.048 1520.93 Q465.242 1517.37 461.608 1517.37 M461.608 1513.66 Q467.418 1513.66 470.474 1518.27 Q473.552 1522.85 473.552 1531.6 Q473.552 1540.33 470.474 1544.94 Q467.418 1549.52 461.608 1549.52 Q455.798 1549.52 452.719 1544.94 Q449.664 1540.33 449.664 1531.6 Q449.664 1522.85 452.719 1518.27 Q455.798 1513.66 461.608 1513.66 Z\" fill=\"#000000\" fill-rule=\"evenodd\" fill-opacity=\"1\" /><path clip-path=\"url(#clip720)\" d=\"M811.054 1532.02 L840.73 1532.02 L840.73 1535.95 L811.054 1535.95 L811.054 1532.02 Z\" fill=\"#000000\" fill-rule=\"evenodd\" fill-opacity=\"1\" /><path clip-path=\"url(#clip720)\" d=\"M860.823 1517.37 Q857.212 1517.37 855.383 1520.93 Q853.577 1524.47 853.577 1531.6 Q853.577 1538.71 855.383 1542.27 Q857.212 1545.82 860.823 1545.82 Q864.457 1545.82 866.262 1542.27 Q868.091 1538.71 868.091 1531.6 Q868.091 1524.47 866.262 1520.93 Q864.457 1517.37 860.823 1517.37 M860.823 1513.66 Q866.633 1513.66 869.688 1518.27 Q872.767 1522.85 872.767 1531.6 Q872.767 1540.33 869.688 1544.94 Q866.633 1549.52 860.823 1549.52 Q855.013 1549.52 851.934 1544.94 Q848.878 1540.33 848.878 1531.6 Q848.878 1522.85 851.934 1518.27 Q855.013 1513.66 860.823 1513.66 Z\" fill=\"#000000\" fill-rule=\"evenodd\" fill-opacity=\"1\" /><path clip-path=\"url(#clip720)\" d=\"M880.985 1542.97 L885.869 1542.97 L885.869 1548.85 L880.985 1548.85 L880.985 1542.97 Z\" fill=\"#000000\" fill-rule=\"evenodd\" fill-opacity=\"1\" /><path clip-path=\"url(#clip720)\" d=\"M896.1 1514.29 L914.457 1514.29 L914.457 1518.22 L900.383 1518.22 L900.383 1526.7 Q901.401 1526.35 902.42 1526.19 Q903.438 1526 904.457 1526 Q910.244 1526 913.623 1529.17 Q917.003 1532.34 917.003 1537.76 Q917.003 1543.34 913.531 1546.44 Q910.059 1549.52 903.739 1549.52 Q901.563 1549.52 899.295 1549.15 Q897.049 1548.78 894.642 1548.04 L894.642 1543.34 Q896.725 1544.47 898.947 1545.03 Q901.17 1545.58 903.647 1545.58 Q907.651 1545.58 909.989 1543.48 Q912.327 1541.37 912.327 1537.76 Q912.327 1534.15 909.989 1532.04 Q907.651 1529.94 903.647 1529.94 Q901.772 1529.94 899.897 1530.35 Q898.045 1530.77 896.1 1531.65 L896.1 1514.29 Z\" fill=\"#000000\" fill-rule=\"evenodd\" fill-opacity=\"1\" /><path clip-path=\"url(#clip720)\" d=\"M1285.36 1517.37 Q1281.75 1517.37 1279.92 1520.93 Q1278.12 1524.47 1278.12 1531.6 Q1278.12 1538.71 1279.92 1542.27 Q1281.75 1545.82 1285.36 1545.82 Q1289 1545.82 1290.8 1542.27 Q1292.63 1538.71 1292.63 1531.6 Q1292.63 1524.47 1290.8 1520.93 Q1289 1517.37 1285.36 1517.37 M1285.36 1513.66 Q1291.17 1513.66 1294.23 1518.27 Q1297.31 1522.85 1297.31 1531.6 Q1297.31 1540.33 1294.23 1544.94 Q1291.17 1549.52 1285.36 1549.52 Q1279.55 1549.52 1276.47 1544.94 Q1273.42 1540.33 1273.42 1531.6 Q1273.42 1522.85 1276.47 1518.27 Q1279.55 1513.66 1285.36 1513.66 Z\" fill=\"#000000\" fill-rule=\"evenodd\" fill-opacity=\"1\" /><path clip-path=\"url(#clip720)\" d=\"M1305.52 1542.97 L1310.41 1542.97 L1310.41 1548.85 L1305.52 1548.85 L1305.52 1542.97 Z\" fill=\"#000000\" fill-rule=\"evenodd\" fill-opacity=\"1\" /><path clip-path=\"url(#clip720)\" d=\"M1330.59 1517.37 Q1326.98 1517.37 1325.15 1520.93 Q1323.35 1524.47 1323.35 1531.6 Q1323.35 1538.71 1325.15 1542.27 Q1326.98 1545.82 1330.59 1545.82 Q1334.23 1545.82 1336.03 1542.27 Q1337.86 1538.71 1337.86 1531.6 Q1337.86 1524.47 1336.03 1520.93 Q1334.23 1517.37 1330.59 1517.37 M1330.59 1513.66 Q1336.4 1513.66 1339.46 1518.27 Q1342.54 1522.85 1342.54 1531.6 Q1342.54 1540.33 1339.46 1544.94 Q1336.4 1549.52 1330.59 1549.52 Q1324.78 1549.52 1321.7 1544.94 Q1318.65 1540.33 1318.65 1531.6 Q1318.65 1522.85 1321.7 1518.27 Q1324.78 1513.66 1330.59 1513.66 Z\" fill=\"#000000\" fill-rule=\"evenodd\" fill-opacity=\"1\" /><path clip-path=\"url(#clip720)\" d=\"M1729.81 1517.37 Q1726.2 1517.37 1724.37 1520.93 Q1722.56 1524.47 1722.56 1531.6 Q1722.56 1538.71 1724.37 1542.27 Q1726.2 1545.82 1729.81 1545.82 Q1733.44 1545.82 1735.25 1542.27 Q1737.08 1538.71 1737.08 1531.6 Q1737.08 1524.47 1735.25 1520.93 Q1733.44 1517.37 1729.81 1517.37 M1729.81 1513.66 Q1735.62 1513.66 1738.67 1518.27 Q1741.75 1522.85 1741.75 1531.6 Q1741.75 1540.33 1738.67 1544.94 Q1735.62 1549.52 1729.81 1549.52 Q1724 1549.52 1720.92 1544.94 Q1717.86 1540.33 1717.86 1531.6 Q1717.86 1522.85 1720.92 1518.27 Q1724 1513.66 1729.81 1513.66 Z\" fill=\"#000000\" fill-rule=\"evenodd\" fill-opacity=\"1\" /><path clip-path=\"url(#clip720)\" d=\"M1749.97 1542.97 L1754.85 1542.97 L1754.85 1548.85 L1749.97 1548.85 L1749.97 1542.97 Z\" fill=\"#000000\" fill-rule=\"evenodd\" fill-opacity=\"1\" /><path clip-path=\"url(#clip720)\" d=\"M1765.08 1514.29 L1783.44 1514.29 L1783.44 1518.22 L1769.37 1518.22 L1769.37 1526.7 Q1770.39 1526.35 1771.4 1526.19 Q1772.42 1526 1773.44 1526 Q1779.23 1526 1782.61 1529.17 Q1785.99 1532.34 1785.99 1537.76 Q1785.99 1543.34 1782.52 1546.44 Q1779.04 1549.52 1772.72 1549.52 Q1770.55 1549.52 1768.28 1549.15 Q1766.03 1548.78 1763.63 1548.04 L1763.63 1543.34 Q1765.71 1544.47 1767.93 1545.03 Q1770.15 1545.58 1772.63 1545.58 Q1776.64 1545.58 1778.97 1543.48 Q1781.31 1541.37 1781.31 1537.76 Q1781.31 1534.15 1778.97 1532.04 Q1776.64 1529.94 1772.63 1529.94 Q1770.76 1529.94 1768.88 1530.35 Q1767.03 1530.77 1765.08 1531.65 L1765.08 1514.29 Z\" fill=\"#000000\" fill-rule=\"evenodd\" fill-opacity=\"1\" /><path clip-path=\"url(#clip720)\" d=\"M2163.03 1544.91 L2170.67 1544.91 L2170.67 1518.55 L2162.36 1520.21 L2162.36 1515.95 L2170.62 1514.29 L2175.29 1514.29 L2175.29 1544.91 L2182.93 1544.91 L2182.93 1548.85 L2163.03 1548.85 L2163.03 1544.91 Z\" fill=\"#000000\" fill-rule=\"evenodd\" fill-opacity=\"1\" /><path clip-path=\"url(#clip720)\" d=\"M2192.38 1542.97 L2197.26 1542.97 L2197.26 1548.85 L2192.38 1548.85 L2192.38 1542.97 Z\" fill=\"#000000\" fill-rule=\"evenodd\" fill-opacity=\"1\" /><path clip-path=\"url(#clip720)\" d=\"M2217.45 1517.37 Q2213.84 1517.37 2212.01 1520.93 Q2210.2 1524.47 2210.2 1531.6 Q2210.2 1538.71 2212.01 1542.27 Q2213.84 1545.82 2217.45 1545.82 Q2221.08 1545.82 2222.89 1542.27 Q2224.72 1538.71 2224.72 1531.6 Q2224.72 1524.47 2222.89 1520.93 Q2221.08 1517.37 2217.45 1517.37 M2217.45 1513.66 Q2223.26 1513.66 2226.31 1518.27 Q2229.39 1522.85 2229.39 1531.6 Q2229.39 1540.33 2226.31 1544.94 Q2223.26 1549.52 2217.45 1549.52 Q2211.64 1549.52 2208.56 1544.94 Q2205.5 1540.33 2205.5 1531.6 Q2205.5 1522.85 2208.56 1518.27 Q2211.64 1513.66 2217.45 1513.66 Z\" fill=\"#000000\" fill-rule=\"evenodd\" fill-opacity=\"1\" /><polyline clip-path=\"url(#clip722)\" style=\"stroke:#000000; stroke-linecap:butt; stroke-linejoin:round; stroke-width:2; stroke-opacity:0.1; fill:none\" points=\"\n",
       "  307.593,1445.72 2352.76,1445.72 \n",
       "  \"/>\n",
       "<polyline clip-path=\"url(#clip722)\" style=\"stroke:#000000; stroke-linecap:butt; stroke-linejoin:round; stroke-width:2; stroke-opacity:0.1; fill:none\" points=\"\n",
       "  307.593,1245.01 2352.76,1245.01 \n",
       "  \"/>\n",
       "<polyline clip-path=\"url(#clip722)\" style=\"stroke:#000000; stroke-linecap:butt; stroke-linejoin:round; stroke-width:2; stroke-opacity:0.1; fill:none\" points=\"\n",
       "  307.593,1044.3 2352.76,1044.3 \n",
       "  \"/>\n",
       "<polyline clip-path=\"url(#clip722)\" style=\"stroke:#000000; stroke-linecap:butt; stroke-linejoin:round; stroke-width:2; stroke-opacity:0.1; fill:none\" points=\"\n",
       "  307.593,843.587 2352.76,843.587 \n",
       "  \"/>\n",
       "<polyline clip-path=\"url(#clip722)\" style=\"stroke:#000000; stroke-linecap:butt; stroke-linejoin:round; stroke-width:2; stroke-opacity:0.1; fill:none\" points=\"\n",
       "  307.593,642.878 2352.76,642.878 \n",
       "  \"/>\n",
       "<polyline clip-path=\"url(#clip722)\" style=\"stroke:#000000; stroke-linecap:butt; stroke-linejoin:round; stroke-width:2; stroke-opacity:0.1; fill:none\" points=\"\n",
       "  307.593,442.168 2352.76,442.168 \n",
       "  \"/>\n",
       "<polyline clip-path=\"url(#clip722)\" style=\"stroke:#000000; stroke-linecap:butt; stroke-linejoin:round; stroke-width:2; stroke-opacity:0.1; fill:none\" points=\"\n",
       "  307.593,241.459 2352.76,241.459 \n",
       "  \"/>\n",
       "<polyline clip-path=\"url(#clip720)\" style=\"stroke:#000000; stroke-linecap:butt; stroke-linejoin:round; stroke-width:4; stroke-opacity:1; fill:none\" points=\"\n",
       "  307.593,1486.45 307.593,47.2441 \n",
       "  \"/>\n",
       "<polyline clip-path=\"url(#clip720)\" style=\"stroke:#000000; stroke-linecap:butt; stroke-linejoin:round; stroke-width:4; stroke-opacity:1; fill:none\" points=\"\n",
       "  307.593,1445.72 326.49,1445.72 \n",
       "  \"/>\n",
       "<polyline clip-path=\"url(#clip720)\" style=\"stroke:#000000; stroke-linecap:butt; stroke-linejoin:round; stroke-width:4; stroke-opacity:1; fill:none\" points=\"\n",
       "  307.593,1245.01 326.49,1245.01 \n",
       "  \"/>\n",
       "<polyline clip-path=\"url(#clip720)\" style=\"stroke:#000000; stroke-linecap:butt; stroke-linejoin:round; stroke-width:4; stroke-opacity:1; fill:none\" points=\"\n",
       "  307.593,1044.3 326.49,1044.3 \n",
       "  \"/>\n",
       "<polyline clip-path=\"url(#clip720)\" style=\"stroke:#000000; stroke-linecap:butt; stroke-linejoin:round; stroke-width:4; stroke-opacity:1; fill:none\" points=\"\n",
       "  307.593,843.587 326.49,843.587 \n",
       "  \"/>\n",
       "<polyline clip-path=\"url(#clip720)\" style=\"stroke:#000000; stroke-linecap:butt; stroke-linejoin:round; stroke-width:4; stroke-opacity:1; fill:none\" points=\"\n",
       "  307.593,642.878 326.49,642.878 \n",
       "  \"/>\n",
       "<polyline clip-path=\"url(#clip720)\" style=\"stroke:#000000; stroke-linecap:butt; stroke-linejoin:round; stroke-width:4; stroke-opacity:1; fill:none\" points=\"\n",
       "  307.593,442.168 326.49,442.168 \n",
       "  \"/>\n",
       "<polyline clip-path=\"url(#clip720)\" style=\"stroke:#000000; stroke-linecap:butt; stroke-linejoin:round; stroke-width:4; stroke-opacity:1; fill:none\" points=\"\n",
       "  307.593,241.459 326.49,241.459 \n",
       "  \"/>\n",
       "<path clip-path=\"url(#clip720)\" d=\"M259.648 1431.51 Q256.037 1431.51 254.209 1435.08 Q252.403 1438.62 252.403 1445.75 Q252.403 1452.86 254.209 1456.42 Q256.037 1459.96 259.648 1459.96 Q263.283 1459.96 265.088 1456.42 Q266.917 1452.86 266.917 1445.75 Q266.917 1438.62 265.088 1435.08 Q263.283 1431.51 259.648 1431.51 M259.648 1427.81 Q265.459 1427.81 268.514 1432.42 Q271.593 1437 271.593 1445.75 Q271.593 1454.48 268.514 1459.08 Q265.459 1463.67 259.648 1463.67 Q253.838 1463.67 250.76 1459.08 Q247.704 1454.48 247.704 1445.75 Q247.704 1437 250.76 1432.42 Q253.838 1427.81 259.648 1427.81 Z\" fill=\"#000000\" fill-rule=\"evenodd\" fill-opacity=\"1\" /><path clip-path=\"url(#clip720)\" d=\"M57.7745 1264.8 L74.0939 1264.8 L74.0939 1268.73 L52.1495 1268.73 L52.1495 1264.8 Q54.8115 1262.04 59.3949 1257.41 Q64.0013 1252.76 65.1819 1251.42 Q67.4272 1248.9 68.3068 1247.16 Q69.2096 1245.4 69.2096 1243.71 Q69.2096 1240.96 67.2652 1239.22 Q65.3439 1237.48 62.2421 1237.48 Q60.043 1237.48 57.5893 1238.25 Q55.1588 1239.01 52.381 1240.56 L52.381 1235.84 Q55.2051 1234.71 57.6588 1234.13 Q60.1124 1233.55 62.1495 1233.55 Q67.5198 1233.55 70.7142 1236.23 Q73.9087 1238.92 73.9087 1243.41 Q73.9087 1245.54 73.0985 1247.46 Q72.3115 1249.36 70.205 1251.95 Q69.6263 1252.62 66.5245 1255.84 Q63.4226 1259.03 57.7745 1264.8 Z\" fill=\"#000000\" fill-rule=\"evenodd\" fill-opacity=\"1\" /><path clip-path=\"url(#clip720)\" d=\"M83.9086 1262.85 L88.7928 1262.85 L88.7928 1268.73 L83.9086 1268.73 L83.9086 1262.85 Z\" fill=\"#000000\" fill-rule=\"evenodd\" fill-opacity=\"1\" /><path clip-path=\"url(#clip720)\" d=\"M108.978 1237.25 Q105.367 1237.25 103.538 1240.82 Q101.733 1244.36 101.733 1251.49 Q101.733 1258.59 103.538 1262.16 Q105.367 1265.7 108.978 1265.7 Q112.612 1265.7 114.418 1262.16 Q116.246 1258.59 116.246 1251.49 Q116.246 1244.36 114.418 1240.82 Q112.612 1237.25 108.978 1237.25 M108.978 1233.55 Q114.788 1233.55 117.844 1238.16 Q120.922 1242.74 120.922 1251.49 Q120.922 1260.22 117.844 1264.82 Q114.788 1269.41 108.978 1269.41 Q103.168 1269.41 100.089 1264.82 Q97.0335 1260.22 97.0335 1251.49 Q97.0335 1242.74 100.089 1238.16 Q103.168 1233.55 108.978 1233.55 Z\" fill=\"#000000\" fill-rule=\"evenodd\" fill-opacity=\"1\" /><path clip-path=\"url(#clip720)\" d=\"M139.14 1237.25 Q135.529 1237.25 133.7 1240.82 Q131.894 1244.36 131.894 1251.49 Q131.894 1258.59 133.7 1262.16 Q135.529 1265.7 139.14 1265.7 Q142.774 1265.7 144.58 1262.16 Q146.408 1258.59 146.408 1251.49 Q146.408 1244.36 144.58 1240.82 Q142.774 1237.25 139.14 1237.25 M139.14 1233.55 Q144.95 1233.55 148.005 1238.16 Q151.084 1242.74 151.084 1251.49 Q151.084 1260.22 148.005 1264.82 Q144.95 1269.41 139.14 1269.41 Q133.33 1269.41 130.251 1264.82 Q127.195 1260.22 127.195 1251.49 Q127.195 1242.74 130.251 1238.16 Q133.33 1233.55 139.14 1233.55 Z\" fill=\"#000000\" fill-rule=\"evenodd\" fill-opacity=\"1\" /><path clip-path=\"url(#clip720)\" d=\"M187.473 1243.27 L176.894 1253.9 L187.473 1264.47 L184.718 1267.28 L174.093 1256.65 L163.468 1267.28 L160.737 1264.47 L171.292 1253.9 L160.737 1243.27 L163.468 1240.47 L174.093 1251.1 L184.718 1240.47 L187.473 1243.27 Z\" fill=\"#000000\" fill-rule=\"evenodd\" fill-opacity=\"1\" /><path clip-path=\"url(#clip720)\" d=\"M199.834 1264.8 L207.473 1264.8 L207.473 1238.43 L199.163 1240.1 L199.163 1235.84 L207.426 1234.17 L212.102 1234.17 L212.102 1264.8 L219.741 1264.8 L219.741 1268.73 L199.834 1268.73 L199.834 1264.8 Z\" fill=\"#000000\" fill-rule=\"evenodd\" fill-opacity=\"1\" /><path clip-path=\"url(#clip720)\" d=\"M239.186 1237.25 Q235.574 1237.25 233.746 1240.82 Q231.94 1244.36 231.94 1251.49 Q231.94 1258.59 233.746 1262.16 Q235.574 1265.7 239.186 1265.7 Q242.82 1265.7 244.625 1262.16 Q246.454 1258.59 246.454 1251.49 Q246.454 1244.36 244.625 1240.82 Q242.82 1237.25 239.186 1237.25 M239.186 1233.55 Q244.996 1233.55 248.051 1238.16 Q251.13 1242.74 251.13 1251.49 Q251.13 1260.22 248.051 1264.82 Q244.996 1269.41 239.186 1269.41 Q233.375 1269.41 230.297 1264.82 Q227.241 1260.22 227.241 1251.49 Q227.241 1242.74 230.297 1238.16 Q233.375 1233.55 239.186 1233.55 Z\" fill=\"#000000\" fill-rule=\"evenodd\" fill-opacity=\"1\" /><path clip-path=\"url(#clip720)\" d=\"M263.806 1216.55 L254.214 1231.54 L263.806 1231.54 L263.806 1216.55 M262.81 1213.24 L267.587 1213.24 L267.587 1231.54 L271.593 1231.54 L271.593 1234.7 L267.587 1234.7 L267.587 1241.32 L263.806 1241.32 L263.806 1234.7 L251.13 1234.7 L251.13 1231.04 L262.81 1213.24 Z\" fill=\"#000000\" fill-rule=\"evenodd\" fill-opacity=\"1\" /><path clip-path=\"url(#clip720)\" d=\"M66.5939 1037.54 L54.7884 1055.99 L66.5939 1055.99 L66.5939 1037.54 M65.367 1033.46 L71.2466 1033.46 L71.2466 1055.99 L76.1772 1055.99 L76.1772 1059.88 L71.2466 1059.88 L71.2466 1068.02 L66.5939 1068.02 L66.5939 1059.88 L50.9921 1059.88 L50.9921 1055.36 L65.367 1033.46 Z\" fill=\"#000000\" fill-rule=\"evenodd\" fill-opacity=\"1\" /><path clip-path=\"url(#clip720)\" d=\"M83.9086 1062.14 L88.7928 1062.14 L88.7928 1068.02 L83.9086 1068.02 L83.9086 1062.14 Z\" fill=\"#000000\" fill-rule=\"evenodd\" fill-opacity=\"1\" /><path clip-path=\"url(#clip720)\" d=\"M108.978 1036.54 Q105.367 1036.54 103.538 1040.11 Q101.733 1043.65 101.733 1050.78 Q101.733 1057.89 103.538 1061.45 Q105.367 1064.99 108.978 1064.99 Q112.612 1064.99 114.418 1061.45 Q116.246 1057.89 116.246 1050.78 Q116.246 1043.65 114.418 1040.11 Q112.612 1036.54 108.978 1036.54 M108.978 1032.84 Q114.788 1032.84 117.844 1037.45 Q120.922 1042.03 120.922 1050.78 Q120.922 1059.51 117.844 1064.11 Q114.788 1068.7 108.978 1068.7 Q103.168 1068.7 100.089 1064.11 Q97.0335 1059.51 97.0335 1050.78 Q97.0335 1042.03 100.089 1037.45 Q103.168 1032.84 108.978 1032.84 Z\" fill=\"#000000\" fill-rule=\"evenodd\" fill-opacity=\"1\" /><path clip-path=\"url(#clip720)\" d=\"M139.14 1036.54 Q135.529 1036.54 133.7 1040.11 Q131.894 1043.65 131.894 1050.78 Q131.894 1057.89 133.7 1061.45 Q135.529 1064.99 139.14 1064.99 Q142.774 1064.99 144.58 1061.45 Q146.408 1057.89 146.408 1050.78 Q146.408 1043.65 144.58 1040.11 Q142.774 1036.54 139.14 1036.54 M139.14 1032.84 Q144.95 1032.84 148.005 1037.45 Q151.084 1042.03 151.084 1050.78 Q151.084 1059.51 148.005 1064.11 Q144.95 1068.7 139.14 1068.7 Q133.33 1068.7 130.251 1064.11 Q127.195 1059.51 127.195 1050.78 Q127.195 1042.03 130.251 1037.45 Q133.33 1032.84 139.14 1032.84 Z\" fill=\"#000000\" fill-rule=\"evenodd\" fill-opacity=\"1\" /><path clip-path=\"url(#clip720)\" d=\"M187.473 1042.56 L176.894 1053.19 L187.473 1063.77 L184.718 1066.57 L174.093 1055.94 L163.468 1066.57 L160.737 1063.77 L171.292 1053.19 L160.737 1042.56 L163.468 1039.76 L174.093 1050.39 L184.718 1039.76 L187.473 1042.56 Z\" fill=\"#000000\" fill-rule=\"evenodd\" fill-opacity=\"1\" /><path clip-path=\"url(#clip720)\" d=\"M199.834 1064.09 L207.473 1064.09 L207.473 1037.72 L199.163 1039.39 L199.163 1035.13 L207.426 1033.46 L212.102 1033.46 L212.102 1064.09 L219.741 1064.09 L219.741 1068.02 L199.834 1068.02 L199.834 1064.09 Z\" fill=\"#000000\" fill-rule=\"evenodd\" fill-opacity=\"1\" /><path clip-path=\"url(#clip720)\" d=\"M239.186 1036.54 Q235.574 1036.54 233.746 1040.11 Q231.94 1043.65 231.94 1050.78 Q231.94 1057.89 233.746 1061.45 Q235.574 1064.99 239.186 1064.99 Q242.82 1064.99 244.625 1061.45 Q246.454 1057.89 246.454 1050.78 Q246.454 1043.65 244.625 1040.11 Q242.82 1036.54 239.186 1036.54 M239.186 1032.84 Q244.996 1032.84 248.051 1037.45 Q251.13 1042.03 251.13 1050.78 Q251.13 1059.51 248.051 1064.11 Q244.996 1068.7 239.186 1068.7 Q233.375 1068.7 230.297 1064.11 Q227.241 1059.51 227.241 1050.78 Q227.241 1042.03 230.297 1037.45 Q233.375 1032.84 239.186 1032.84 Z\" fill=\"#000000\" fill-rule=\"evenodd\" fill-opacity=\"1\" /><path clip-path=\"url(#clip720)\" d=\"M263.806 1015.84 L254.214 1030.83 L263.806 1030.83 L263.806 1015.84 M262.81 1012.53 L267.587 1012.53 L267.587 1030.83 L271.593 1030.83 L271.593 1033.99 L267.587 1033.99 L267.587 1040.61 L263.806 1040.61 L263.806 1033.99 L251.13 1033.99 L251.13 1030.33 L262.81 1012.53 Z\" fill=\"#000000\" fill-rule=\"evenodd\" fill-opacity=\"1\" /><path clip-path=\"url(#clip720)\" d=\"M64.3254 848.171 Q61.1773 848.171 59.3254 850.324 Q57.4967 852.477 57.4967 856.227 Q57.4967 859.954 59.3254 862.13 Q61.1773 864.282 64.3254 864.282 Q67.4735 864.282 69.3022 862.13 Q71.1541 859.954 71.1541 856.227 Q71.1541 852.477 69.3022 850.324 Q67.4735 848.171 64.3254 848.171 M73.6077 833.519 L73.6077 837.778 Q71.8485 836.945 70.0429 836.505 Q68.2606 836.065 66.5013 836.065 Q61.8717 836.065 59.418 839.19 Q56.9875 842.315 56.6402 848.634 Q58.006 846.621 60.0662 845.556 Q62.1263 844.468 64.6032 844.468 Q69.8115 844.468 72.8207 847.639 Q75.8531 850.787 75.8531 856.227 Q75.8531 861.551 72.705 864.769 Q69.5568 867.986 64.3254 867.986 Q58.33 867.986 55.1588 863.403 Q51.9875 858.796 51.9875 850.07 Q51.9875 841.875 55.8764 837.014 Q59.7652 832.13 66.3161 832.13 Q68.0754 832.13 69.8578 832.477 Q71.6633 832.824 73.6077 833.519 Z\" fill=\"#000000\" fill-rule=\"evenodd\" fill-opacity=\"1\" /><path clip-path=\"url(#clip720)\" d=\"M83.9086 861.435 L88.7928 861.435 L88.7928 867.315 L83.9086 867.315 L83.9086 861.435 Z\" fill=\"#000000\" fill-rule=\"evenodd\" fill-opacity=\"1\" /><path clip-path=\"url(#clip720)\" d=\"M108.978 835.834 Q105.367 835.834 103.538 839.398 Q101.733 842.94 101.733 850.07 Q101.733 857.176 103.538 860.741 Q105.367 864.282 108.978 864.282 Q112.612 864.282 114.418 860.741 Q116.246 857.176 116.246 850.07 Q116.246 842.94 114.418 839.398 Q112.612 835.834 108.978 835.834 M108.978 832.13 Q114.788 832.13 117.844 836.736 Q120.922 841.32 120.922 850.07 Q120.922 858.796 117.844 863.403 Q114.788 867.986 108.978 867.986 Q103.168 867.986 100.089 863.403 Q97.0335 858.796 97.0335 850.07 Q97.0335 841.32 100.089 836.736 Q103.168 832.13 108.978 832.13 Z\" fill=\"#000000\" fill-rule=\"evenodd\" fill-opacity=\"1\" /><path clip-path=\"url(#clip720)\" d=\"M139.14 835.834 Q135.529 835.834 133.7 839.398 Q131.894 842.94 131.894 850.07 Q131.894 857.176 133.7 860.741 Q135.529 864.282 139.14 864.282 Q142.774 864.282 144.58 860.741 Q146.408 857.176 146.408 850.07 Q146.408 842.94 144.58 839.398 Q142.774 835.834 139.14 835.834 M139.14 832.13 Q144.95 832.13 148.005 836.736 Q151.084 841.32 151.084 850.07 Q151.084 858.796 148.005 863.403 Q144.95 867.986 139.14 867.986 Q133.33 867.986 130.251 863.403 Q127.195 858.796 127.195 850.07 Q127.195 841.32 130.251 836.736 Q133.33 832.13 139.14 832.13 Z\" fill=\"#000000\" fill-rule=\"evenodd\" fill-opacity=\"1\" /><path clip-path=\"url(#clip720)\" d=\"M187.473 841.852 L176.894 852.477 L187.473 863.056 L184.718 865.857 L174.093 855.232 L163.468 865.857 L160.737 863.056 L171.292 852.477 L160.737 841.852 L163.468 839.051 L174.093 849.676 L184.718 839.051 L187.473 841.852 Z\" fill=\"#000000\" fill-rule=\"evenodd\" fill-opacity=\"1\" /><path clip-path=\"url(#clip720)\" d=\"M199.834 863.38 L207.473 863.38 L207.473 837.014 L199.163 838.681 L199.163 834.422 L207.426 832.755 L212.102 832.755 L212.102 863.38 L219.741 863.38 L219.741 867.315 L199.834 867.315 L199.834 863.38 Z\" fill=\"#000000\" fill-rule=\"evenodd\" fill-opacity=\"1\" /><path clip-path=\"url(#clip720)\" d=\"M239.186 835.834 Q235.574 835.834 233.746 839.398 Q231.94 842.94 231.94 850.07 Q231.94 857.176 233.746 860.741 Q235.574 864.282 239.186 864.282 Q242.82 864.282 244.625 860.741 Q246.454 857.176 246.454 850.07 Q246.454 842.94 244.625 839.398 Q242.82 835.834 239.186 835.834 M239.186 832.13 Q244.996 832.13 248.051 836.736 Q251.13 841.32 251.13 850.07 Q251.13 858.796 248.051 863.403 Q244.996 867.986 239.186 867.986 Q233.375 867.986 230.297 863.403 Q227.241 858.796 227.241 850.07 Q227.241 841.32 230.297 836.736 Q233.375 832.13 239.186 832.13 Z\" fill=\"#000000\" fill-rule=\"evenodd\" fill-opacity=\"1\" /><path clip-path=\"url(#clip720)\" d=\"M263.806 815.135 L254.214 830.124 L263.806 830.124 L263.806 815.135 M262.81 811.824 L267.587 811.824 L267.587 830.124 L271.593 830.124 L271.593 833.284 L267.587 833.284 L267.587 839.904 L263.806 839.904 L263.806 833.284 L251.13 833.284 L251.13 829.617 L262.81 811.824 Z\" fill=\"#000000\" fill-rule=\"evenodd\" fill-opacity=\"1\" /><path clip-path=\"url(#clip720)\" d=\"M63.7467 650.193 Q60.4134 650.193 58.4921 651.976 Q56.5939 653.758 56.5939 656.883 Q56.5939 660.008 58.4921 661.791 Q60.4134 663.573 63.7467 663.573 Q67.08 663.573 69.0013 661.791 Q70.9226 659.985 70.9226 656.883 Q70.9226 653.758 69.0013 651.976 Q67.1032 650.193 63.7467 650.193 M59.0708 648.203 Q56.0615 647.462 54.3717 645.402 Q52.7051 643.342 52.7051 640.379 Q52.7051 636.235 55.6449 633.828 Q58.6078 631.42 63.7467 631.42 Q68.9087 631.42 71.8485 633.828 Q74.7883 636.235 74.7883 640.379 Q74.7883 643.342 73.0985 645.402 Q71.4318 647.462 68.4457 648.203 Q71.8253 648.99 73.7003 651.281 Q75.5985 653.573 75.5985 656.883 Q75.5985 661.906 72.5198 664.591 Q69.4642 667.277 63.7467 667.277 Q58.0291 667.277 54.9504 664.591 Q51.8949 661.906 51.8949 656.883 Q51.8949 653.573 53.793 651.281 Q55.6912 648.99 59.0708 648.203 M57.3578 640.818 Q57.3578 643.504 59.0245 645.008 Q60.7143 646.513 63.7467 646.513 Q66.7559 646.513 68.4457 645.008 Q70.1587 643.504 70.1587 640.818 Q70.1587 638.133 68.4457 636.629 Q66.7559 635.124 63.7467 635.124 Q60.7143 635.124 59.0245 636.629 Q57.3578 638.133 57.3578 640.818 Z\" fill=\"#000000\" fill-rule=\"evenodd\" fill-opacity=\"1\" /><path clip-path=\"url(#clip720)\" d=\"M83.9086 660.726 L88.7928 660.726 L88.7928 666.605 L83.9086 666.605 L83.9086 660.726 Z\" fill=\"#000000\" fill-rule=\"evenodd\" fill-opacity=\"1\" /><path clip-path=\"url(#clip720)\" d=\"M108.978 635.124 Q105.367 635.124 103.538 638.689 Q101.733 642.231 101.733 649.36 Q101.733 656.467 103.538 660.031 Q105.367 663.573 108.978 663.573 Q112.612 663.573 114.418 660.031 Q116.246 656.467 116.246 649.36 Q116.246 642.231 114.418 638.689 Q112.612 635.124 108.978 635.124 M108.978 631.42 Q114.788 631.42 117.844 636.027 Q120.922 640.61 120.922 649.36 Q120.922 658.087 117.844 662.693 Q114.788 667.277 108.978 667.277 Q103.168 667.277 100.089 662.693 Q97.0335 658.087 97.0335 649.36 Q97.0335 640.61 100.089 636.027 Q103.168 631.42 108.978 631.42 Z\" fill=\"#000000\" fill-rule=\"evenodd\" fill-opacity=\"1\" /><path clip-path=\"url(#clip720)\" d=\"M139.14 635.124 Q135.529 635.124 133.7 638.689 Q131.894 642.231 131.894 649.36 Q131.894 656.467 133.7 660.031 Q135.529 663.573 139.14 663.573 Q142.774 663.573 144.58 660.031 Q146.408 656.467 146.408 649.36 Q146.408 642.231 144.58 638.689 Q142.774 635.124 139.14 635.124 M139.14 631.42 Q144.95 631.42 148.005 636.027 Q151.084 640.61 151.084 649.36 Q151.084 658.087 148.005 662.693 Q144.95 667.277 139.14 667.277 Q133.33 667.277 130.251 662.693 Q127.195 658.087 127.195 649.36 Q127.195 640.61 130.251 636.027 Q133.33 631.42 139.14 631.42 Z\" fill=\"#000000\" fill-rule=\"evenodd\" fill-opacity=\"1\" /><path clip-path=\"url(#clip720)\" d=\"M187.473 641.143 L176.894 651.767 L187.473 662.346 L184.718 665.147 L174.093 654.522 L163.468 665.147 L160.737 662.346 L171.292 651.767 L160.737 641.143 L163.468 638.342 L174.093 648.967 L184.718 638.342 L187.473 641.143 Z\" fill=\"#000000\" fill-rule=\"evenodd\" fill-opacity=\"1\" /><path clip-path=\"url(#clip720)\" d=\"M199.834 662.67 L207.473 662.67 L207.473 636.305 L199.163 637.971 L199.163 633.712 L207.426 632.045 L212.102 632.045 L212.102 662.67 L219.741 662.67 L219.741 666.605 L199.834 666.605 L199.834 662.67 Z\" fill=\"#000000\" fill-rule=\"evenodd\" fill-opacity=\"1\" /><path clip-path=\"url(#clip720)\" d=\"M239.186 635.124 Q235.574 635.124 233.746 638.689 Q231.94 642.231 231.94 649.36 Q231.94 656.467 233.746 660.031 Q235.574 663.573 239.186 663.573 Q242.82 663.573 244.625 660.031 Q246.454 656.467 246.454 649.36 Q246.454 642.231 244.625 638.689 Q242.82 635.124 239.186 635.124 M239.186 631.42 Q244.996 631.42 248.051 636.027 Q251.13 640.61 251.13 649.36 Q251.13 658.087 248.051 662.693 Q244.996 667.277 239.186 667.277 Q233.375 667.277 230.297 662.693 Q227.241 658.087 227.241 649.36 Q227.241 640.61 230.297 636.027 Q233.375 631.42 239.186 631.42 Z\" fill=\"#000000\" fill-rule=\"evenodd\" fill-opacity=\"1\" /><path clip-path=\"url(#clip720)\" d=\"M263.806 614.425 L254.214 629.415 L263.806 629.415 L263.806 614.425 M262.81 611.115 L267.587 611.115 L267.587 629.415 L271.593 629.415 L271.593 632.575 L267.587 632.575 L267.587 639.195 L263.806 639.195 L263.806 632.575 L251.13 632.575 L251.13 628.907 L262.81 611.115 Z\" fill=\"#000000\" fill-rule=\"evenodd\" fill-opacity=\"1\" /><path clip-path=\"url(#clip720)\" d=\"M56.8515 461.961 L64.4903 461.961 L64.4903 435.595 L56.1802 437.262 L56.1802 433.003 L64.444 431.336 L69.1199 431.336 L69.1199 461.961 L76.7588 461.961 L76.7588 465.896 L56.8515 465.896 L56.8515 461.961 Z\" fill=\"#000000\" fill-rule=\"evenodd\" fill-opacity=\"1\" /><path clip-path=\"url(#clip720)\" d=\"M86.2032 460.016 L91.0874 460.016 L91.0874 465.896 L86.2032 465.896 L86.2032 460.016 Z\" fill=\"#000000\" fill-rule=\"evenodd\" fill-opacity=\"1\" /><path clip-path=\"url(#clip720)\" d=\"M111.272 434.415 Q107.661 434.415 105.833 437.979 Q104.027 441.521 104.027 448.651 Q104.027 455.757 105.833 459.322 Q107.661 462.864 111.272 462.864 Q114.907 462.864 116.712 459.322 Q118.541 455.757 118.541 448.651 Q118.541 441.521 116.712 437.979 Q114.907 434.415 111.272 434.415 M111.272 430.711 Q117.083 430.711 120.138 435.317 Q123.217 439.901 123.217 448.651 Q123.217 457.377 120.138 461.984 Q117.083 466.567 111.272 466.567 Q105.462 466.567 102.384 461.984 Q99.3281 457.377 99.3281 448.651 Q99.3281 439.901 102.384 435.317 Q105.462 430.711 111.272 430.711 Z\" fill=\"#000000\" fill-rule=\"evenodd\" fill-opacity=\"1\" /><path clip-path=\"url(#clip720)\" d=\"M141.434 434.415 Q137.823 434.415 135.995 437.979 Q134.189 441.521 134.189 448.651 Q134.189 455.757 135.995 459.322 Q137.823 462.864 141.434 462.864 Q145.069 462.864 146.874 459.322 Q148.703 455.757 148.703 448.651 Q148.703 441.521 146.874 437.979 Q145.069 434.415 141.434 434.415 M141.434 430.711 Q147.245 430.711 150.3 435.317 Q153.379 439.901 153.379 448.651 Q153.379 457.377 150.3 461.984 Q147.245 466.567 141.434 466.567 Q135.624 466.567 132.546 461.984 Q129.49 457.377 129.49 448.651 Q129.49 439.901 132.546 435.317 Q135.624 430.711 141.434 430.711 Z\" fill=\"#000000\" fill-rule=\"evenodd\" fill-opacity=\"1\" /><path clip-path=\"url(#clip720)\" d=\"M189.767 440.433 L179.189 451.058 L189.767 461.637 L187.013 464.438 L176.388 453.813 L165.763 464.438 L163.031 461.637 L173.587 451.058 L163.031 440.433 L165.763 437.632 L176.388 448.257 L187.013 437.632 L189.767 440.433 Z\" fill=\"#000000\" fill-rule=\"evenodd\" fill-opacity=\"1\" /><path clip-path=\"url(#clip720)\" d=\"M202.128 461.961 L209.767 461.961 L209.767 435.595 L201.457 437.262 L201.457 433.003 L209.721 431.336 L214.397 431.336 L214.397 461.961 L222.036 461.961 L222.036 465.896 L202.128 465.896 L202.128 461.961 Z\" fill=\"#000000\" fill-rule=\"evenodd\" fill-opacity=\"1\" /><path clip-path=\"url(#clip720)\" d=\"M241.48 434.415 Q237.869 434.415 236.04 437.979 Q234.235 441.521 234.235 448.651 Q234.235 455.757 236.04 459.322 Q237.869 462.864 241.48 462.864 Q245.114 462.864 246.92 459.322 Q248.749 455.757 248.749 448.651 Q248.749 441.521 246.92 437.979 Q245.114 434.415 241.48 434.415 M241.48 430.711 Q247.29 430.711 250.346 435.317 Q253.424 439.901 253.424 448.651 Q253.424 457.377 250.346 461.984 Q247.29 466.567 241.48 466.567 Q235.67 466.567 232.591 461.984 Q229.536 457.377 229.536 448.651 Q229.536 439.901 232.591 435.317 Q235.67 430.711 241.48 430.711 Z\" fill=\"#000000\" fill-rule=\"evenodd\" fill-opacity=\"1\" /><path clip-path=\"url(#clip720)\" d=\"M254.609 410.405 L269.524 410.405 L269.524 413.603 L258.089 413.603 L258.089 420.486 Q258.916 420.204 259.744 420.073 Q260.571 419.922 261.399 419.922 Q266.101 419.922 268.847 422.499 Q271.593 425.076 271.593 429.477 Q271.593 434.009 268.772 436.529 Q265.95 439.031 260.816 439.031 Q259.048 439.031 257.205 438.73 Q255.38 438.429 253.424 437.827 L253.424 434.009 Q255.117 434.931 256.923 435.382 Q258.728 435.834 260.741 435.834 Q263.994 435.834 265.894 434.122 Q267.794 432.411 267.794 429.477 Q267.794 426.543 265.894 424.831 Q263.994 423.12 260.741 423.12 Q259.217 423.12 257.694 423.458 Q256.189 423.797 254.609 424.511 L254.609 410.405 Z\" fill=\"#000000\" fill-rule=\"evenodd\" fill-opacity=\"1\" /><path clip-path=\"url(#clip720)\" d=\"M56.8515 261.251 L64.4903 261.251 L64.4903 234.886 L56.1802 236.552 L56.1802 232.293 L64.444 230.626 L69.1199 230.626 L69.1199 261.251 L76.7588 261.251 L76.7588 265.186 L56.8515 265.186 L56.8515 261.251 Z\" fill=\"#000000\" fill-rule=\"evenodd\" fill-opacity=\"1\" /><path clip-path=\"url(#clip720)\" d=\"M86.2032 259.307 L91.0874 259.307 L91.0874 265.186 L86.2032 265.186 L86.2032 259.307 Z\" fill=\"#000000\" fill-rule=\"evenodd\" fill-opacity=\"1\" /><path clip-path=\"url(#clip720)\" d=\"M105.3 261.251 L121.62 261.251 L121.62 265.186 L99.6753 265.186 L99.6753 261.251 Q102.337 258.497 106.921 253.867 Q111.527 249.214 112.708 247.872 Q114.953 245.349 115.833 243.612 Q116.735 241.853 116.735 240.163 Q116.735 237.409 114.791 235.673 Q112.87 233.937 109.768 233.937 Q107.569 233.937 105.115 234.7 Q102.685 235.464 99.9068 237.015 L99.9068 232.293 Q102.731 231.159 105.185 230.58 Q107.638 230.001 109.675 230.001 Q115.046 230.001 118.24 232.687 Q121.434 235.372 121.434 239.862 Q121.434 241.992 120.624 243.913 Q119.837 245.812 117.731 248.404 Q117.152 249.075 114.05 252.293 Q110.948 255.487 105.3 261.251 Z\" fill=\"#000000\" fill-rule=\"evenodd\" fill-opacity=\"1\" /><path clip-path=\"url(#clip720)\" d=\"M141.434 233.705 Q137.823 233.705 135.995 237.27 Q134.189 240.812 134.189 247.941 Q134.189 255.048 135.995 258.612 Q137.823 262.154 141.434 262.154 Q145.069 262.154 146.874 258.612 Q148.703 255.048 148.703 247.941 Q148.703 240.812 146.874 237.27 Q145.069 233.705 141.434 233.705 M141.434 230.001 Q147.245 230.001 150.3 234.608 Q153.379 239.191 153.379 247.941 Q153.379 256.668 150.3 261.274 Q147.245 265.858 141.434 265.858 Q135.624 265.858 132.546 261.274 Q129.49 256.668 129.49 247.941 Q129.49 239.191 132.546 234.608 Q135.624 230.001 141.434 230.001 Z\" fill=\"#000000\" fill-rule=\"evenodd\" fill-opacity=\"1\" /><path clip-path=\"url(#clip720)\" d=\"M189.767 239.724 L179.189 250.349 L189.767 260.927 L187.013 263.728 L176.388 253.103 L165.763 263.728 L163.031 260.927 L173.587 250.349 L163.031 239.724 L165.763 236.923 L176.388 247.548 L187.013 236.923 L189.767 239.724 Z\" fill=\"#000000\" fill-rule=\"evenodd\" fill-opacity=\"1\" /><path clip-path=\"url(#clip720)\" d=\"M202.128 261.251 L209.767 261.251 L209.767 234.886 L201.457 236.552 L201.457 232.293 L209.721 230.626 L214.397 230.626 L214.397 261.251 L222.036 261.251 L222.036 265.186 L202.128 265.186 L202.128 261.251 Z\" fill=\"#000000\" fill-rule=\"evenodd\" fill-opacity=\"1\" /><path clip-path=\"url(#clip720)\" d=\"M241.48 233.705 Q237.869 233.705 236.04 237.27 Q234.235 240.812 234.235 247.941 Q234.235 255.048 236.04 258.612 Q237.869 262.154 241.48 262.154 Q245.114 262.154 246.92 258.612 Q248.749 255.048 248.749 247.941 Q248.749 240.812 246.92 237.27 Q245.114 233.705 241.48 233.705 M241.48 230.001 Q247.29 230.001 250.346 234.608 Q253.424 239.191 253.424 247.941 Q253.424 256.668 250.346 261.274 Q247.29 265.858 241.48 265.858 Q235.67 265.858 232.591 261.274 Q229.536 256.668 229.536 247.941 Q229.536 239.191 232.591 234.608 Q235.67 230.001 241.48 230.001 Z\" fill=\"#000000\" fill-rule=\"evenodd\" fill-opacity=\"1\" /><path clip-path=\"url(#clip720)\" d=\"M254.609 209.696 L269.524 209.696 L269.524 212.893 L258.089 212.893 L258.089 219.777 Q258.916 219.495 259.744 219.363 Q260.571 219.213 261.399 219.213 Q266.101 219.213 268.847 221.789 Q271.593 224.366 271.593 228.767 Q271.593 233.3 268.772 235.82 Q265.95 238.321 260.816 238.321 Q259.048 238.321 257.205 238.021 Q255.38 237.72 253.424 237.118 L253.424 233.3 Q255.117 234.221 256.923 234.673 Q258.728 235.124 260.741 235.124 Q263.994 235.124 265.894 233.413 Q267.794 231.701 267.794 228.767 Q267.794 225.833 265.894 224.122 Q263.994 222.41 260.741 222.41 Q259.217 222.41 257.694 222.749 Q256.189 223.087 254.609 223.802 L254.609 209.696 Z\" fill=\"#000000\" fill-rule=\"evenodd\" fill-opacity=\"1\" /><path clip-path=\"url(#clip722)\" d=\"\n",
       "M420.08 1333.24 L420.08 1445.72 L464.475 1445.72 L464.475 1333.24 L420.08 1333.24 L420.08 1333.24  Z\n",
       "  \" fill=\"#009af9\" fill-rule=\"evenodd\" fill-opacity=\"1\"/>\n",
       "<polyline clip-path=\"url(#clip722)\" style=\"stroke:#000000; stroke-linecap:butt; stroke-linejoin:round; stroke-width:4; stroke-opacity:1; fill:none\" points=\"\n",
       "  420.08,1333.24 420.08,1445.72 464.475,1445.72 464.475,1333.24 420.08,1333.24 \n",
       "  \"/>\n",
       "<path clip-path=\"url(#clip722)\" d=\"\n",
       "M464.475 1445.72 L464.475 1445.72 L508.87 1445.72 L508.87 1445.72 L464.475 1445.72 L464.475 1445.72  Z\n",
       "  \" fill=\"#009af9\" fill-rule=\"evenodd\" fill-opacity=\"1\"/>\n",
       "<polyline clip-path=\"url(#clip722)\" style=\"stroke:#000000; stroke-linecap:butt; stroke-linejoin:round; stroke-width:4; stroke-opacity:1; fill:none\" points=\"\n",
       "  464.475,1445.72 464.475,1445.72 508.87,1445.72 464.475,1445.72 \n",
       "  \"/>\n",
       "<path clip-path=\"url(#clip722)\" d=\"\n",
       "M508.87 1445.72 L508.87 1445.72 L553.265 1445.72 L553.265 1445.72 L508.87 1445.72 L508.87 1445.72  Z\n",
       "  \" fill=\"#009af9\" fill-rule=\"evenodd\" fill-opacity=\"1\"/>\n",
       "<polyline clip-path=\"url(#clip722)\" style=\"stroke:#000000; stroke-linecap:butt; stroke-linejoin:round; stroke-width:4; stroke-opacity:1; fill:none\" points=\"\n",
       "  508.87,1445.72 508.87,1445.72 553.265,1445.72 508.87,1445.72 \n",
       "  \"/>\n",
       "<path clip-path=\"url(#clip722)\" d=\"\n",
       "M553.265 1445.72 L553.265 1445.72 L597.66 1445.72 L597.66 1445.72 L553.265 1445.72 L553.265 1445.72  Z\n",
       "  \" fill=\"#009af9\" fill-rule=\"evenodd\" fill-opacity=\"1\"/>\n",
       "<polyline clip-path=\"url(#clip722)\" style=\"stroke:#000000; stroke-linecap:butt; stroke-linejoin:round; stroke-width:4; stroke-opacity:1; fill:none\" points=\"\n",
       "  553.265,1445.72 553.265,1445.72 597.66,1445.72 553.265,1445.72 \n",
       "  \"/>\n",
       "<path clip-path=\"url(#clip722)\" d=\"\n",
       "M597.66 1445.72 L597.66 1445.72 L642.055 1445.72 L642.055 1445.72 L597.66 1445.72 L597.66 1445.72  Z\n",
       "  \" fill=\"#009af9\" fill-rule=\"evenodd\" fill-opacity=\"1\"/>\n",
       "<polyline clip-path=\"url(#clip722)\" style=\"stroke:#000000; stroke-linecap:butt; stroke-linejoin:round; stroke-width:4; stroke-opacity:1; fill:none\" points=\"\n",
       "  597.66,1445.72 597.66,1445.72 642.055,1445.72 597.66,1445.72 \n",
       "  \"/>\n",
       "<path clip-path=\"url(#clip722)\" d=\"\n",
       "M642.055 1445.72 L642.055 1445.72 L686.449 1445.72 L686.449 1445.72 L642.055 1445.72 L642.055 1445.72  Z\n",
       "  \" fill=\"#009af9\" fill-rule=\"evenodd\" fill-opacity=\"1\"/>\n",
       "<polyline clip-path=\"url(#clip722)\" style=\"stroke:#000000; stroke-linecap:butt; stroke-linejoin:round; stroke-width:4; stroke-opacity:1; fill:none\" points=\"\n",
       "  642.055,1445.72 642.055,1445.72 686.449,1445.72 642.055,1445.72 \n",
       "  \"/>\n",
       "<path clip-path=\"url(#clip722)\" d=\"\n",
       "M686.449 1445.72 L686.449 1445.72 L730.844 1445.72 L730.844 1445.72 L686.449 1445.72 L686.449 1445.72  Z\n",
       "  \" fill=\"#009af9\" fill-rule=\"evenodd\" fill-opacity=\"1\"/>\n",
       "<polyline clip-path=\"url(#clip722)\" style=\"stroke:#000000; stroke-linecap:butt; stroke-linejoin:round; stroke-width:4; stroke-opacity:1; fill:none\" points=\"\n",
       "  686.449,1445.72 686.449,1445.72 730.844,1445.72 686.449,1445.72 \n",
       "  \"/>\n",
       "<path clip-path=\"url(#clip722)\" d=\"\n",
       "M730.844 1445.72 L730.844 1445.72 L775.239 1445.72 L775.239 1445.72 L730.844 1445.72 L730.844 1445.72  Z\n",
       "  \" fill=\"#009af9\" fill-rule=\"evenodd\" fill-opacity=\"1\"/>\n",
       "<polyline clip-path=\"url(#clip722)\" style=\"stroke:#000000; stroke-linecap:butt; stroke-linejoin:round; stroke-width:4; stroke-opacity:1; fill:none\" points=\"\n",
       "  730.844,1445.72 730.844,1445.72 775.239,1445.72 730.844,1445.72 \n",
       "  \"/>\n",
       "<path clip-path=\"url(#clip722)\" d=\"\n",
       "M775.239 1445.72 L775.239 1445.72 L819.634 1445.72 L819.634 1445.72 L775.239 1445.72 L775.239 1445.72  Z\n",
       "  \" fill=\"#009af9\" fill-rule=\"evenodd\" fill-opacity=\"1\"/>\n",
       "<polyline clip-path=\"url(#clip722)\" style=\"stroke:#000000; stroke-linecap:butt; stroke-linejoin:round; stroke-width:4; stroke-opacity:1; fill:none\" points=\"\n",
       "  775.239,1445.72 775.239,1445.72 819.634,1445.72 775.239,1445.72 \n",
       "  \"/>\n",
       "<path clip-path=\"url(#clip722)\" d=\"\n",
       "M819.634 1445.72 L819.634 1445.72 L864.029 1445.72 L864.029 1445.72 L819.634 1445.72 L819.634 1445.72  Z\n",
       "  \" fill=\"#009af9\" fill-rule=\"evenodd\" fill-opacity=\"1\"/>\n",
       "<polyline clip-path=\"url(#clip722)\" style=\"stroke:#000000; stroke-linecap:butt; stroke-linejoin:round; stroke-width:4; stroke-opacity:1; fill:none\" points=\"\n",
       "  819.634,1445.72 819.634,1445.72 864.029,1445.72 819.634,1445.72 \n",
       "  \"/>\n",
       "<path clip-path=\"url(#clip722)\" d=\"\n",
       "M864.029 1445.72 L864.029 1445.72 L908.423 1445.72 L908.423 1445.72 L864.029 1445.72 L864.029 1445.72  Z\n",
       "  \" fill=\"#009af9\" fill-rule=\"evenodd\" fill-opacity=\"1\"/>\n",
       "<polyline clip-path=\"url(#clip722)\" style=\"stroke:#000000; stroke-linecap:butt; stroke-linejoin:round; stroke-width:4; stroke-opacity:1; fill:none\" points=\"\n",
       "  864.029,1445.72 864.029,1445.72 908.423,1445.72 864.029,1445.72 \n",
       "  \"/>\n",
       "<path clip-path=\"url(#clip722)\" d=\"\n",
       "M908.423 1445.72 L908.423 1445.72 L952.818 1445.72 L952.818 1445.72 L908.423 1445.72 L908.423 1445.72  Z\n",
       "  \" fill=\"#009af9\" fill-rule=\"evenodd\" fill-opacity=\"1\"/>\n",
       "<polyline clip-path=\"url(#clip722)\" style=\"stroke:#000000; stroke-linecap:butt; stroke-linejoin:round; stroke-width:4; stroke-opacity:1; fill:none\" points=\"\n",
       "  908.423,1445.72 908.423,1445.72 952.818,1445.72 908.423,1445.72 \n",
       "  \"/>\n",
       "<path clip-path=\"url(#clip722)\" d=\"\n",
       "M952.818 1445.72 L952.818 1445.72 L997.213 1445.72 L997.213 1445.72 L952.818 1445.72 L952.818 1445.72  Z\n",
       "  \" fill=\"#009af9\" fill-rule=\"evenodd\" fill-opacity=\"1\"/>\n",
       "<polyline clip-path=\"url(#clip722)\" style=\"stroke:#000000; stroke-linecap:butt; stroke-linejoin:round; stroke-width:4; stroke-opacity:1; fill:none\" points=\"\n",
       "  952.818,1445.72 952.818,1445.72 997.213,1445.72 952.818,1445.72 \n",
       "  \"/>\n",
       "<path clip-path=\"url(#clip722)\" d=\"\n",
       "M997.213 1445.72 L997.213 1445.72 L1041.61 1445.72 L1041.61 1445.72 L997.213 1445.72 L997.213 1445.72  Z\n",
       "  \" fill=\"#009af9\" fill-rule=\"evenodd\" fill-opacity=\"1\"/>\n",
       "<polyline clip-path=\"url(#clip722)\" style=\"stroke:#000000; stroke-linecap:butt; stroke-linejoin:round; stroke-width:4; stroke-opacity:1; fill:none\" points=\"\n",
       "  997.213,1445.72 997.213,1445.72 1041.61,1445.72 997.213,1445.72 \n",
       "  \"/>\n",
       "<path clip-path=\"url(#clip722)\" d=\"\n",
       "M1041.61 1445.72 L1041.61 1445.72 L1086 1445.72 L1086 1445.72 L1041.61 1445.72 L1041.61 1445.72  Z\n",
       "  \" fill=\"#009af9\" fill-rule=\"evenodd\" fill-opacity=\"1\"/>\n",
       "<polyline clip-path=\"url(#clip722)\" style=\"stroke:#000000; stroke-linecap:butt; stroke-linejoin:round; stroke-width:4; stroke-opacity:1; fill:none\" points=\"\n",
       "  1041.61,1445.72 1041.61,1445.72 1086,1445.72 1041.61,1445.72 \n",
       "  \"/>\n",
       "<path clip-path=\"url(#clip722)\" d=\"\n",
       "M1086 1445.72 L1086 1445.72 L1130.4 1445.72 L1130.4 1445.72 L1086 1445.72 L1086 1445.72  Z\n",
       "  \" fill=\"#009af9\" fill-rule=\"evenodd\" fill-opacity=\"1\"/>\n",
       "<polyline clip-path=\"url(#clip722)\" style=\"stroke:#000000; stroke-linecap:butt; stroke-linejoin:round; stroke-width:4; stroke-opacity:1; fill:none\" points=\"\n",
       "  1086,1445.72 1086,1445.72 1130.4,1445.72 1086,1445.72 \n",
       "  \"/>\n",
       "<path clip-path=\"url(#clip722)\" d=\"\n",
       "M1130.4 1445.72 L1130.4 1445.72 L1174.79 1445.72 L1174.79 1445.72 L1130.4 1445.72 L1130.4 1445.72  Z\n",
       "  \" fill=\"#009af9\" fill-rule=\"evenodd\" fill-opacity=\"1\"/>\n",
       "<polyline clip-path=\"url(#clip722)\" style=\"stroke:#000000; stroke-linecap:butt; stroke-linejoin:round; stroke-width:4; stroke-opacity:1; fill:none\" points=\"\n",
       "  1130.4,1445.72 1130.4,1445.72 1174.79,1445.72 1130.4,1445.72 \n",
       "  \"/>\n",
       "<path clip-path=\"url(#clip722)\" d=\"\n",
       "M1174.79 1445.72 L1174.79 1445.72 L1219.19 1445.72 L1219.19 1445.72 L1174.79 1445.72 L1174.79 1445.72  Z\n",
       "  \" fill=\"#009af9\" fill-rule=\"evenodd\" fill-opacity=\"1\"/>\n",
       "<polyline clip-path=\"url(#clip722)\" style=\"stroke:#000000; stroke-linecap:butt; stroke-linejoin:round; stroke-width:4; stroke-opacity:1; fill:none\" points=\"\n",
       "  1174.79,1445.72 1174.79,1445.72 1219.19,1445.72 1174.79,1445.72 \n",
       "  \"/>\n",
       "<path clip-path=\"url(#clip722)\" d=\"\n",
       "M1219.19 1445.72 L1219.19 1445.72 L1263.58 1445.72 L1263.58 1445.72 L1219.19 1445.72 L1219.19 1445.72  Z\n",
       "  \" fill=\"#009af9\" fill-rule=\"evenodd\" fill-opacity=\"1\"/>\n",
       "<polyline clip-path=\"url(#clip722)\" style=\"stroke:#000000; stroke-linecap:butt; stroke-linejoin:round; stroke-width:4; stroke-opacity:1; fill:none\" points=\"\n",
       "  1219.19,1445.72 1219.19,1445.72 1263.58,1445.72 1219.19,1445.72 \n",
       "  \"/>\n",
       "<path clip-path=\"url(#clip722)\" d=\"\n",
       "M1263.58 1445.72 L1263.58 1445.72 L1307.98 1445.72 L1307.98 1445.72 L1263.58 1445.72 L1263.58 1445.72  Z\n",
       "  \" fill=\"#009af9\" fill-rule=\"evenodd\" fill-opacity=\"1\"/>\n",
       "<polyline clip-path=\"url(#clip722)\" style=\"stroke:#000000; stroke-linecap:butt; stroke-linejoin:round; stroke-width:4; stroke-opacity:1; fill:none\" points=\"\n",
       "  1263.58,1445.72 1263.58,1445.72 1307.98,1445.72 1263.58,1445.72 \n",
       "  \"/>\n",
       "<path clip-path=\"url(#clip722)\" d=\"\n",
       "M1307.98 87.9763 L1307.98 1445.72 L1352.37 1445.72 L1352.37 87.9763 L1307.98 87.9763 L1307.98 87.9763  Z\n",
       "  \" fill=\"#009af9\" fill-rule=\"evenodd\" fill-opacity=\"1\"/>\n",
       "<polyline clip-path=\"url(#clip722)\" style=\"stroke:#000000; stroke-linecap:butt; stroke-linejoin:round; stroke-width:4; stroke-opacity:1; fill:none\" points=\"\n",
       "  1307.98,87.9763 1307.98,1445.72 1352.37,1445.72 1352.37,87.9763 1307.98,87.9763 \n",
       "  \"/>\n",
       "<path clip-path=\"url(#clip722)\" d=\"\n",
       "M1352.37 1445.72 L1352.37 1445.72 L1396.77 1445.72 L1396.77 1445.72 L1352.37 1445.72 L1352.37 1445.72  Z\n",
       "  \" fill=\"#009af9\" fill-rule=\"evenodd\" fill-opacity=\"1\"/>\n",
       "<polyline clip-path=\"url(#clip722)\" style=\"stroke:#000000; stroke-linecap:butt; stroke-linejoin:round; stroke-width:4; stroke-opacity:1; fill:none\" points=\"\n",
       "  1352.37,1445.72 1352.37,1445.72 1396.77,1445.72 1352.37,1445.72 \n",
       "  \"/>\n",
       "<path clip-path=\"url(#clip722)\" d=\"\n",
       "M1396.77 1445.72 L1396.77 1445.72 L1441.16 1445.72 L1441.16 1445.72 L1396.77 1445.72 L1396.77 1445.72  Z\n",
       "  \" fill=\"#009af9\" fill-rule=\"evenodd\" fill-opacity=\"1\"/>\n",
       "<polyline clip-path=\"url(#clip722)\" style=\"stroke:#000000; stroke-linecap:butt; stroke-linejoin:round; stroke-width:4; stroke-opacity:1; fill:none\" points=\"\n",
       "  1396.77,1445.72 1396.77,1445.72 1441.16,1445.72 1396.77,1445.72 \n",
       "  \"/>\n",
       "<path clip-path=\"url(#clip722)\" d=\"\n",
       "M1441.16 1445.72 L1441.16 1445.72 L1485.56 1445.72 L1485.56 1445.72 L1441.16 1445.72 L1441.16 1445.72  Z\n",
       "  \" fill=\"#009af9\" fill-rule=\"evenodd\" fill-opacity=\"1\"/>\n",
       "<polyline clip-path=\"url(#clip722)\" style=\"stroke:#000000; stroke-linecap:butt; stroke-linejoin:round; stroke-width:4; stroke-opacity:1; fill:none\" points=\"\n",
       "  1441.16,1445.72 1441.16,1445.72 1485.56,1445.72 1441.16,1445.72 \n",
       "  \"/>\n",
       "<path clip-path=\"url(#clip722)\" d=\"\n",
       "M1485.56 1445.72 L1485.56 1445.72 L1529.95 1445.72 L1529.95 1445.72 L1485.56 1445.72 L1485.56 1445.72  Z\n",
       "  \" fill=\"#009af9\" fill-rule=\"evenodd\" fill-opacity=\"1\"/>\n",
       "<polyline clip-path=\"url(#clip722)\" style=\"stroke:#000000; stroke-linecap:butt; stroke-linejoin:round; stroke-width:4; stroke-opacity:1; fill:none\" points=\"\n",
       "  1485.56,1445.72 1485.56,1445.72 1529.95,1445.72 1485.56,1445.72 \n",
       "  \"/>\n",
       "<path clip-path=\"url(#clip722)\" d=\"\n",
       "M1529.95 1445.72 L1529.95 1445.72 L1574.35 1445.72 L1574.35 1445.72 L1529.95 1445.72 L1529.95 1445.72  Z\n",
       "  \" fill=\"#009af9\" fill-rule=\"evenodd\" fill-opacity=\"1\"/>\n",
       "<polyline clip-path=\"url(#clip722)\" style=\"stroke:#000000; stroke-linecap:butt; stroke-linejoin:round; stroke-width:4; stroke-opacity:1; fill:none\" points=\"\n",
       "  1529.95,1445.72 1529.95,1445.72 1574.35,1445.72 1529.95,1445.72 \n",
       "  \"/>\n",
       "<path clip-path=\"url(#clip722)\" d=\"\n",
       "M1574.35 1445.72 L1574.35 1445.72 L1618.74 1445.72 L1618.74 1445.72 L1574.35 1445.72 L1574.35 1445.72  Z\n",
       "  \" fill=\"#009af9\" fill-rule=\"evenodd\" fill-opacity=\"1\"/>\n",
       "<polyline clip-path=\"url(#clip722)\" style=\"stroke:#000000; stroke-linecap:butt; stroke-linejoin:round; stroke-width:4; stroke-opacity:1; fill:none\" points=\"\n",
       "  1574.35,1445.72 1574.35,1445.72 1618.74,1445.72 1574.35,1445.72 \n",
       "  \"/>\n",
       "<path clip-path=\"url(#clip722)\" d=\"\n",
       "M1618.74 1445.72 L1618.74 1445.72 L1663.14 1445.72 L1663.14 1445.72 L1618.74 1445.72 L1618.74 1445.72  Z\n",
       "  \" fill=\"#009af9\" fill-rule=\"evenodd\" fill-opacity=\"1\"/>\n",
       "<polyline clip-path=\"url(#clip722)\" style=\"stroke:#000000; stroke-linecap:butt; stroke-linejoin:round; stroke-width:4; stroke-opacity:1; fill:none\" points=\"\n",
       "  1618.74,1445.72 1618.74,1445.72 1663.14,1445.72 1618.74,1445.72 \n",
       "  \"/>\n",
       "<path clip-path=\"url(#clip722)\" d=\"\n",
       "M1663.14 1445.72 L1663.14 1445.72 L1707.53 1445.72 L1707.53 1445.72 L1663.14 1445.72 L1663.14 1445.72  Z\n",
       "  \" fill=\"#009af9\" fill-rule=\"evenodd\" fill-opacity=\"1\"/>\n",
       "<polyline clip-path=\"url(#clip722)\" style=\"stroke:#000000; stroke-linecap:butt; stroke-linejoin:round; stroke-width:4; stroke-opacity:1; fill:none\" points=\"\n",
       "  1663.14,1445.72 1663.14,1445.72 1707.53,1445.72 1663.14,1445.72 \n",
       "  \"/>\n",
       "<path clip-path=\"url(#clip722)\" d=\"\n",
       "M1707.53 1445.72 L1707.53 1445.72 L1751.93 1445.72 L1751.93 1445.72 L1707.53 1445.72 L1707.53 1445.72  Z\n",
       "  \" fill=\"#009af9\" fill-rule=\"evenodd\" fill-opacity=\"1\"/>\n",
       "<polyline clip-path=\"url(#clip722)\" style=\"stroke:#000000; stroke-linecap:butt; stroke-linejoin:round; stroke-width:4; stroke-opacity:1; fill:none\" points=\"\n",
       "  1707.53,1445.72 1707.53,1445.72 1751.93,1445.72 1707.53,1445.72 \n",
       "  \"/>\n",
       "<path clip-path=\"url(#clip722)\" d=\"\n",
       "M1751.93 1445.72 L1751.93 1445.72 L1796.32 1445.72 L1796.32 1445.72 L1751.93 1445.72 L1751.93 1445.72  Z\n",
       "  \" fill=\"#009af9\" fill-rule=\"evenodd\" fill-opacity=\"1\"/>\n",
       "<polyline clip-path=\"url(#clip722)\" style=\"stroke:#000000; stroke-linecap:butt; stroke-linejoin:round; stroke-width:4; stroke-opacity:1; fill:none\" points=\"\n",
       "  1751.93,1445.72 1751.93,1445.72 1796.32,1445.72 1751.93,1445.72 \n",
       "  \"/>\n",
       "<path clip-path=\"url(#clip722)\" d=\"\n",
       "M1796.32 1445.72 L1796.32 1445.72 L1840.71 1445.72 L1840.71 1445.72 L1796.32 1445.72 L1796.32 1445.72  Z\n",
       "  \" fill=\"#009af9\" fill-rule=\"evenodd\" fill-opacity=\"1\"/>\n",
       "<polyline clip-path=\"url(#clip722)\" style=\"stroke:#000000; stroke-linecap:butt; stroke-linejoin:round; stroke-width:4; stroke-opacity:1; fill:none\" points=\"\n",
       "  1796.32,1445.72 1796.32,1445.72 1840.71,1445.72 1796.32,1445.72 \n",
       "  \"/>\n",
       "<path clip-path=\"url(#clip722)\" d=\"\n",
       "M1840.71 1445.72 L1840.71 1445.72 L1885.11 1445.72 L1885.11 1445.72 L1840.71 1445.72 L1840.71 1445.72  Z\n",
       "  \" fill=\"#009af9\" fill-rule=\"evenodd\" fill-opacity=\"1\"/>\n",
       "<polyline clip-path=\"url(#clip722)\" style=\"stroke:#000000; stroke-linecap:butt; stroke-linejoin:round; stroke-width:4; stroke-opacity:1; fill:none\" points=\"\n",
       "  1840.71,1445.72 1840.71,1445.72 1885.11,1445.72 1840.71,1445.72 \n",
       "  \"/>\n",
       "<path clip-path=\"url(#clip722)\" d=\"\n",
       "M1885.11 1445.72 L1885.11 1445.72 L1929.5 1445.72 L1929.5 1445.72 L1885.11 1445.72 L1885.11 1445.72  Z\n",
       "  \" fill=\"#009af9\" fill-rule=\"evenodd\" fill-opacity=\"1\"/>\n",
       "<polyline clip-path=\"url(#clip722)\" style=\"stroke:#000000; stroke-linecap:butt; stroke-linejoin:round; stroke-width:4; stroke-opacity:1; fill:none\" points=\"\n",
       "  1885.11,1445.72 1885.11,1445.72 1929.5,1445.72 1885.11,1445.72 \n",
       "  \"/>\n",
       "<path clip-path=\"url(#clip722)\" d=\"\n",
       "M1929.5 1445.72 L1929.5 1445.72 L1973.9 1445.72 L1973.9 1445.72 L1929.5 1445.72 L1929.5 1445.72  Z\n",
       "  \" fill=\"#009af9\" fill-rule=\"evenodd\" fill-opacity=\"1\"/>\n",
       "<polyline clip-path=\"url(#clip722)\" style=\"stroke:#000000; stroke-linecap:butt; stroke-linejoin:round; stroke-width:4; stroke-opacity:1; fill:none\" points=\"\n",
       "  1929.5,1445.72 1929.5,1445.72 1973.9,1445.72 1929.5,1445.72 \n",
       "  \"/>\n",
       "<path clip-path=\"url(#clip722)\" d=\"\n",
       "M1973.9 1445.72 L1973.9 1445.72 L2018.29 1445.72 L2018.29 1445.72 L1973.9 1445.72 L1973.9 1445.72  Z\n",
       "  \" fill=\"#009af9\" fill-rule=\"evenodd\" fill-opacity=\"1\"/>\n",
       "<polyline clip-path=\"url(#clip722)\" style=\"stroke:#000000; stroke-linecap:butt; stroke-linejoin:round; stroke-width:4; stroke-opacity:1; fill:none\" points=\"\n",
       "  1973.9,1445.72 1973.9,1445.72 2018.29,1445.72 1973.9,1445.72 \n",
       "  \"/>\n",
       "<path clip-path=\"url(#clip722)\" d=\"\n",
       "M2018.29 1445.72 L2018.29 1445.72 L2062.69 1445.72 L2062.69 1445.72 L2018.29 1445.72 L2018.29 1445.72  Z\n",
       "  \" fill=\"#009af9\" fill-rule=\"evenodd\" fill-opacity=\"1\"/>\n",
       "<polyline clip-path=\"url(#clip722)\" style=\"stroke:#000000; stroke-linecap:butt; stroke-linejoin:round; stroke-width:4; stroke-opacity:1; fill:none\" points=\"\n",
       "  2018.29,1445.72 2018.29,1445.72 2062.69,1445.72 2018.29,1445.72 \n",
       "  \"/>\n",
       "<path clip-path=\"url(#clip722)\" d=\"\n",
       "M2062.69 1445.72 L2062.69 1445.72 L2107.08 1445.72 L2107.08 1445.72 L2062.69 1445.72 L2062.69 1445.72  Z\n",
       "  \" fill=\"#009af9\" fill-rule=\"evenodd\" fill-opacity=\"1\"/>\n",
       "<polyline clip-path=\"url(#clip722)\" style=\"stroke:#000000; stroke-linecap:butt; stroke-linejoin:round; stroke-width:4; stroke-opacity:1; fill:none\" points=\"\n",
       "  2062.69,1445.72 2062.69,1445.72 2107.08,1445.72 2062.69,1445.72 \n",
       "  \"/>\n",
       "<path clip-path=\"url(#clip722)\" d=\"\n",
       "M2107.08 1445.72 L2107.08 1445.72 L2151.48 1445.72 L2151.48 1445.72 L2107.08 1445.72 L2107.08 1445.72  Z\n",
       "  \" fill=\"#009af9\" fill-rule=\"evenodd\" fill-opacity=\"1\"/>\n",
       "<polyline clip-path=\"url(#clip722)\" style=\"stroke:#000000; stroke-linecap:butt; stroke-linejoin:round; stroke-width:4; stroke-opacity:1; fill:none\" points=\"\n",
       "  2107.08,1445.72 2107.08,1445.72 2151.48,1445.72 2107.08,1445.72 \n",
       "  \"/>\n",
       "<path clip-path=\"url(#clip722)\" d=\"\n",
       "M2151.48 1445.72 L2151.48 1445.72 L2195.87 1445.72 L2195.87 1445.72 L2151.48 1445.72 L2151.48 1445.72  Z\n",
       "  \" fill=\"#009af9\" fill-rule=\"evenodd\" fill-opacity=\"1\"/>\n",
       "<polyline clip-path=\"url(#clip722)\" style=\"stroke:#000000; stroke-linecap:butt; stroke-linejoin:round; stroke-width:4; stroke-opacity:1; fill:none\" points=\"\n",
       "  2151.48,1445.72 2151.48,1445.72 2195.87,1445.72 2151.48,1445.72 \n",
       "  \"/>\n",
       "<path clip-path=\"url(#clip722)\" d=\"\n",
       "M2195.87 1332.33 L2195.87 1445.72 L2240.27 1445.72 L2240.27 1332.33 L2195.87 1332.33 L2195.87 1332.33  Z\n",
       "  \" fill=\"#009af9\" fill-rule=\"evenodd\" fill-opacity=\"1\"/>\n",
       "<polyline clip-path=\"url(#clip722)\" style=\"stroke:#000000; stroke-linecap:butt; stroke-linejoin:round; stroke-width:4; stroke-opacity:1; fill:none\" points=\"\n",
       "  2195.87,1332.33 2195.87,1445.72 2240.27,1445.72 2240.27,1332.33 2195.87,1332.33 \n",
       "  \"/>\n",
       "<circle clip-path=\"url(#clip722)\" style=\"fill:#009af9; stroke:none; fill-opacity:0\" cx=\"442.278\" cy=\"1333.24\" r=\"2\"/>\n",
       "<circle clip-path=\"url(#clip722)\" style=\"fill:#009af9; stroke:none; fill-opacity:0\" cx=\"486.673\" cy=\"1445.72\" r=\"2\"/>\n",
       "<circle clip-path=\"url(#clip722)\" style=\"fill:#009af9; stroke:none; fill-opacity:0\" cx=\"531.067\" cy=\"1445.72\" r=\"2\"/>\n",
       "<circle clip-path=\"url(#clip722)\" style=\"fill:#009af9; stroke:none; fill-opacity:0\" cx=\"575.462\" cy=\"1445.72\" r=\"2\"/>\n",
       "<circle clip-path=\"url(#clip722)\" style=\"fill:#009af9; stroke:none; fill-opacity:0\" cx=\"619.857\" cy=\"1445.72\" r=\"2\"/>\n",
       "<circle clip-path=\"url(#clip722)\" style=\"fill:#009af9; stroke:none; fill-opacity:0\" cx=\"664.252\" cy=\"1445.72\" r=\"2\"/>\n",
       "<circle clip-path=\"url(#clip722)\" style=\"fill:#009af9; stroke:none; fill-opacity:0\" cx=\"708.647\" cy=\"1445.72\" r=\"2\"/>\n",
       "<circle clip-path=\"url(#clip722)\" style=\"fill:#009af9; stroke:none; fill-opacity:0\" cx=\"753.042\" cy=\"1445.72\" r=\"2\"/>\n",
       "<circle clip-path=\"url(#clip722)\" style=\"fill:#009af9; stroke:none; fill-opacity:0\" cx=\"797.436\" cy=\"1445.72\" r=\"2\"/>\n",
       "<circle clip-path=\"url(#clip722)\" style=\"fill:#009af9; stroke:none; fill-opacity:0\" cx=\"841.831\" cy=\"1445.72\" r=\"2\"/>\n",
       "<circle clip-path=\"url(#clip722)\" style=\"fill:#009af9; stroke:none; fill-opacity:0\" cx=\"886.226\" cy=\"1445.72\" r=\"2\"/>\n",
       "<circle clip-path=\"url(#clip722)\" style=\"fill:#009af9; stroke:none; fill-opacity:0\" cx=\"930.621\" cy=\"1445.72\" r=\"2\"/>\n",
       "<circle clip-path=\"url(#clip722)\" style=\"fill:#009af9; stroke:none; fill-opacity:0\" cx=\"975.016\" cy=\"1445.72\" r=\"2\"/>\n",
       "<circle clip-path=\"url(#clip722)\" style=\"fill:#009af9; stroke:none; fill-opacity:0\" cx=\"1019.41\" cy=\"1445.72\" r=\"2\"/>\n",
       "<circle clip-path=\"url(#clip722)\" style=\"fill:#009af9; stroke:none; fill-opacity:0\" cx=\"1063.81\" cy=\"1445.72\" r=\"2\"/>\n",
       "<circle clip-path=\"url(#clip722)\" style=\"fill:#009af9; stroke:none; fill-opacity:0\" cx=\"1108.2\" cy=\"1445.72\" r=\"2\"/>\n",
       "<circle clip-path=\"url(#clip722)\" style=\"fill:#009af9; stroke:none; fill-opacity:0\" cx=\"1152.6\" cy=\"1445.72\" r=\"2\"/>\n",
       "<circle clip-path=\"url(#clip722)\" style=\"fill:#009af9; stroke:none; fill-opacity:0\" cx=\"1196.99\" cy=\"1445.72\" r=\"2\"/>\n",
       "<circle clip-path=\"url(#clip722)\" style=\"fill:#009af9; stroke:none; fill-opacity:0\" cx=\"1241.38\" cy=\"1445.72\" r=\"2\"/>\n",
       "<circle clip-path=\"url(#clip722)\" style=\"fill:#009af9; stroke:none; fill-opacity:0\" cx=\"1285.78\" cy=\"1445.72\" r=\"2\"/>\n",
       "<circle clip-path=\"url(#clip722)\" style=\"fill:#009af9; stroke:none; fill-opacity:0\" cx=\"1330.17\" cy=\"87.9763\" r=\"2\"/>\n",
       "<circle clip-path=\"url(#clip722)\" style=\"fill:#009af9; stroke:none; fill-opacity:0\" cx=\"1374.57\" cy=\"1445.72\" r=\"2\"/>\n",
       "<circle clip-path=\"url(#clip722)\" style=\"fill:#009af9; stroke:none; fill-opacity:0\" cx=\"1418.96\" cy=\"1445.72\" r=\"2\"/>\n",
       "<circle clip-path=\"url(#clip722)\" style=\"fill:#009af9; stroke:none; fill-opacity:0\" cx=\"1463.36\" cy=\"1445.72\" r=\"2\"/>\n",
       "<circle clip-path=\"url(#clip722)\" style=\"fill:#009af9; stroke:none; fill-opacity:0\" cx=\"1507.75\" cy=\"1445.72\" r=\"2\"/>\n",
       "<circle clip-path=\"url(#clip722)\" style=\"fill:#009af9; stroke:none; fill-opacity:0\" cx=\"1552.15\" cy=\"1445.72\" r=\"2\"/>\n",
       "<circle clip-path=\"url(#clip722)\" style=\"fill:#009af9; stroke:none; fill-opacity:0\" cx=\"1596.54\" cy=\"1445.72\" r=\"2\"/>\n",
       "<circle clip-path=\"url(#clip722)\" style=\"fill:#009af9; stroke:none; fill-opacity:0\" cx=\"1640.94\" cy=\"1445.72\" r=\"2\"/>\n",
       "<circle clip-path=\"url(#clip722)\" style=\"fill:#009af9; stroke:none; fill-opacity:0\" cx=\"1685.33\" cy=\"1445.72\" r=\"2\"/>\n",
       "<circle clip-path=\"url(#clip722)\" style=\"fill:#009af9; stroke:none; fill-opacity:0\" cx=\"1729.73\" cy=\"1445.72\" r=\"2\"/>\n",
       "<circle clip-path=\"url(#clip722)\" style=\"fill:#009af9; stroke:none; fill-opacity:0\" cx=\"1774.12\" cy=\"1445.72\" r=\"2\"/>\n",
       "<circle clip-path=\"url(#clip722)\" style=\"fill:#009af9; stroke:none; fill-opacity:0\" cx=\"1818.52\" cy=\"1445.72\" r=\"2\"/>\n",
       "<circle clip-path=\"url(#clip722)\" style=\"fill:#009af9; stroke:none; fill-opacity:0\" cx=\"1862.91\" cy=\"1445.72\" r=\"2\"/>\n",
       "<circle clip-path=\"url(#clip722)\" style=\"fill:#009af9; stroke:none; fill-opacity:0\" cx=\"1907.31\" cy=\"1445.72\" r=\"2\"/>\n",
       "<circle clip-path=\"url(#clip722)\" style=\"fill:#009af9; stroke:none; fill-opacity:0\" cx=\"1951.7\" cy=\"1445.72\" r=\"2\"/>\n",
       "<circle clip-path=\"url(#clip722)\" style=\"fill:#009af9; stroke:none; fill-opacity:0\" cx=\"1996.1\" cy=\"1445.72\" r=\"2\"/>\n",
       "<circle clip-path=\"url(#clip722)\" style=\"fill:#009af9; stroke:none; fill-opacity:0\" cx=\"2040.49\" cy=\"1445.72\" r=\"2\"/>\n",
       "<circle clip-path=\"url(#clip722)\" style=\"fill:#009af9; stroke:none; fill-opacity:0\" cx=\"2084.89\" cy=\"1445.72\" r=\"2\"/>\n",
       "<circle clip-path=\"url(#clip722)\" style=\"fill:#009af9; stroke:none; fill-opacity:0\" cx=\"2129.28\" cy=\"1445.72\" r=\"2\"/>\n",
       "<circle clip-path=\"url(#clip722)\" style=\"fill:#009af9; stroke:none; fill-opacity:0\" cx=\"2173.68\" cy=\"1445.72\" r=\"2\"/>\n",
       "<circle clip-path=\"url(#clip722)\" style=\"fill:#009af9; stroke:none; fill-opacity:0\" cx=\"2218.07\" cy=\"1332.33\" r=\"2\"/>\n",
       "<path clip-path=\"url(#clip720)\" d=\"\n",
       "M2004.91 198.898 L2284.58 198.898 L2284.58 95.2176 L2004.91 95.2176  Z\n",
       "  \" fill=\"#ffffff\" fill-rule=\"evenodd\" fill-opacity=\"1\"/>\n",
       "<polyline clip-path=\"url(#clip720)\" style=\"stroke:#000000; stroke-linecap:butt; stroke-linejoin:round; stroke-width:4; stroke-opacity:1; fill:none\" points=\"\n",
       "  2004.91,198.898 2284.58,198.898 2284.58,95.2176 2004.91,95.2176 2004.91,198.898 \n",
       "  \"/>\n",
       "<path clip-path=\"url(#clip720)\" d=\"\n",
       "M2027.64 167.794 L2163.98 167.794 L2163.98 126.322 L2027.64 126.322 L2027.64 167.794  Z\n",
       "  \" fill=\"#009af9\" fill-rule=\"evenodd\" fill-opacity=\"1\"/>\n",
       "<polyline clip-path=\"url(#clip720)\" style=\"stroke:#000000; stroke-linecap:butt; stroke-linejoin:round; stroke-width:4; stroke-opacity:1; fill:none\" points=\"\n",
       "  2027.64,167.794 2163.98,167.794 2163.98,126.322 2027.64,126.322 2027.64,167.794 \n",
       "  \"/>\n",
       "<path clip-path=\"url(#clip720)\" d=\"M2200.55 166.745 Q2198.74 171.375 2197.03 172.787 Q2195.32 174.199 2192.45 174.199 L2189.04 174.199 L2189.04 170.634 L2191.54 170.634 Q2193.3 170.634 2194.27 169.8 Q2195.25 168.967 2196.43 165.865 L2197.19 163.921 L2186.71 138.412 L2191.22 138.412 L2199.32 158.689 L2207.42 138.412 L2211.94 138.412 L2200.55 166.745 Z\" fill=\"#000000\" fill-rule=\"evenodd\" fill-opacity=\"1\" /><path clip-path=\"url(#clip720)\" d=\"M2219.23 160.402 L2226.87 160.402 L2226.87 134.037 L2218.56 135.703 L2218.56 131.444 L2226.82 129.778 L2231.5 129.778 L2231.5 160.402 L2239.14 160.402 L2239.14 164.338 L2219.23 164.338 L2219.23 160.402 Z\" fill=\"#000000\" fill-rule=\"evenodd\" fill-opacity=\"1\" /></svg>\n"
      ]
     },
     "execution_count": 19,
     "metadata": {},
     "output_type": "execute_result"
    }
   ],
   "source": [
    "histogram(cns_pred .- cns_true)"
   ]
  },
  {
   "cell_type": "markdown",
   "metadata": {},
   "source": [
    "### Final optimization\n",
    "- Maximize transmission (< 95%)\n",
    "- Output energy should be 70 KeV (0.070 MeV)\n",
    "- Minimize RFQ length\n",
    "- Minimize longitudinal emittance\n",
    "- Minimize transverse emittance"
   ]
  },
  {
   "cell_type": "code",
   "execution_count": 20,
   "metadata": {},
   "outputs": [],
   "source": [
    "# optimization initialization\n",
    "# bounds of scaled DVARS\n",
    "lower_bound = repeat([-1.], 14); upper_bound = repeat([1.], 14)\n",
    "\n",
    "# smapling to instantiate acquisition function\n",
    "n_samples = 1000\n",
    "initial_samples = Surrogates.sample(n_samples, lower_bound, upper_bound, SobolSample());"
   ]
  },
  {
   "cell_type": "code",
   "execution_count": 26,
   "metadata": {},
   "outputs": [
    {
     "data": {
      "text/plain": [
       "14-element Vector{Any}:\n",
       "  11.99997329711914\n",
       "   5.0004377365112305\n",
       "  -0.09655507573353359\n",
       "   1.6999975442886353\n",
       "  -7.499828372758981\n",
       " 499.9979407787323\n",
       " 499.99658024311066\n",
       " -30.000564575195312\n",
       "  11.397639693413401\n",
       " 499.99833953380585\n",
       " 499.99743032455444\n",
       "   0.8941773979463276\n",
       "   0.38048795357933507\n",
       "   0.07499995827674866"
      ]
     },
     "execution_count": 26,
     "metadata": {},
     "output_type": "execute_result"
    }
   ],
   "source": [
    "# how to go from scaled vec to unscaled\n",
    "recorr(minmaxscale([1., -1., 1., 1., 1., 1., 1., 1., 1., 1., 1., 1., 1., 1.]; var=\"x\", inverse=true))"
   ]
  },
  {
   "cell_type": "code",
   "execution_count": 31,
   "metadata": {},
   "outputs": [
    {
     "data": {
      "text/plain": [
       "objective3 (generic function with 1 method)"
      ]
     },
     "execution_count": 31,
     "metadata": {},
     "output_type": "execute_result"
    }
   ],
   "source": [
    "function objective3(x_vec)\n",
    "    x_vec_unscaled = recorr(minmaxscale(x_vec; var=\"x\", inverse=true))\n",
    "    x_vec_unscaled_dict = Dict(\"DVAR$i\" => x_vec_unscaled[i] for i in 1:14)\n",
    "    local cellnumber\n",
    "    try\n",
    "        cellnumber = compute_cellnumber(jl_row_to_py_row(x_vec_unscaled_dict))\n",
    "    catch\n",
    "        cellnumber = 0\n",
    "    end\n",
    "    y = predict((x_vec..., cellnumber % 2))\n",
    "    target_energy_scaled = transform(y_scalers[\"OBJ2\"], 0.070)[1]\n",
    "    [-y[1], (y[2] - target_energy_scaled)^2, y[3], y[4], y[5], y[6]]\n",
    "end"
   ]
  },
  {
   "cell_type": "code",
   "execution_count": 32,
   "metadata": {},
   "outputs": [],
   "source": [
    "x3s = [sample for sample in initial_samples];\n",
    "x3s = unique(x3s)\n",
    "y3s = objective3.(x3s);"
   ]
  },
  {
   "cell_type": "code",
   "execution_count": 33,
   "metadata": {},
   "outputs": [
    {
     "data": {
      "text/plain": [
       "(::RadialBasis{Surrogates.var\"#1#2\", Int64, Vector{NTuple{14, Float64}}, Vector{Vector{Float64}}, Vector{Float64}, Vector{Float64}, Matrix{Float64}, Float64, Bool}) (generic function with 1 method)"
      ]
     },
     "execution_count": 33,
     "metadata": {},
     "output_type": "execute_result"
    }
   ],
   "source": [
    "if length(x3s) != length(unique(x3s))\n",
    "    print(\"Duplicate entries in x3\")\n",
    "end\n",
    "if length(x3s) != length(y3s)\n",
    "    print(\"Dimension mismatch between x3 and y\")\n",
    "end\n",
    "radial_basis_ego_3 = RadialBasis(x3s, y3s, repeat([-1.], 14), repeat([1.], 14))"
   ]
  },
  {
   "cell_type": "code",
   "execution_count": 34,
   "metadata": {},
   "outputs": [],
   "source": [
    "pareto_set_3, pareto_front_3 = surrogate_optimize(\n",
    "    objective3, SMB(), repeat([-1.], 14), repeat([1.], 14), radial_basis_ego_3, SobolSample();\n",
    "    maxiters = 100, n_new_look = 100\n",
    ");"
   ]
  },
  {
   "cell_type": "code",
   "execution_count": 35,
   "metadata": {},
   "outputs": [
    {
     "data": {
      "text/plain": [
       "6-element Vector{Vector{Float64}}:\n",
       " [65.96604628098488, 61.535652232991595, 91.3550082714853, 62.820375487733244, 63.00492666667322, 90.64547463857654, 59.63959954620592, 95.74853092336268, 88.6664096525752, 70.75306288067281  …  57.66532544642096, 56.31526914375835, 84.59271272498839, 55.727686107797176, 55.31216794705284, 57.200275535480465, 55.580492702733835, 55.24217728842137, 57.94789884917831, 57.84428509438439]\n",
       " [0.03084809830577903, 3.804391481784953e-5, 0.05466691949540303, 0.101087862230132, 0.021648932625725304, 0.03032721202286012, 0.5562378260858312, 0.0035805985619177774, 0.04253221462312938, 0.06636020853483345  …  0.01782326926824722, 0.09044743118987193, 0.08462585125595745, 0.18624950974466445, 0.0004079656200093314, 0.024828221118610053, 0.013020497471994233, 0.40027317743149304, 0.34837568091705257, 0.004671786204083633]\n",
       " [62.28361774522824, 131.67777453571028, 122.57323704467193, 92.51226715828616, 62.84326204227695, 162.78966063361773, 91.13094955600914, 143.71483728434293, 111.43347449729443, 75.88518694591784  …  62.67221167552423, 125.68329322881691, 92.810066709817, 59.145380927413896, 50.875828055109665, 163.71929179668723, 169.27666504730672, 55.35551981923059, 64.4295805929291, 60.80056746505891]\n",
       " [0.06295417020105751, 0.034721736832526336, 0.0641716473068998, 0.03882873141824368, 0.15544758495544675, 0.04088513436342035, 0.037818630039475026, 0.06464632206546826, 0.06929340794632735, 0.06733841093011075  …  0.05893460318524349, 0.03978357186327097, 0.07446008424132466, 0.06548457372750559, 0.08800898716620853, 0.04289705181101691, 0.03204791638047786, 0.08471482704639408, 0.08267391831029879, 0.11819723073293778]\n",
       " [0.03642188321726121, 0.025381073833125413, 0.03382260270659462, 0.025508332819353056, 0.048193133870477765, 0.02722496843237845, 0.024339583498797848, 0.03989258270191447, 0.03442187962708114, 0.02854626053437239  …  0.03940728444322361, 0.024023511705286077, 0.05135946663724437, 0.03295897750579972, 0.03456408207665749, 0.025327846676772875, 0.026131288918653954, 0.03306853036018177, 0.04577852467833397, 0.043807854212118025]\n",
       " [0.03755179904790845, 0.022134624243049454, 0.03145333134650893, 0.02449530228373385, 0.04799310255111011, 0.02483875229543577, 0.024506829542147824, 0.03895182558774988, 0.03334343030979534, 0.025366997534342788  …  0.02865471603291323, 0.022094007618372182, 0.05801093202987206, 0.025681466477073915, 0.02521986107318297, 0.022439596490493936, 0.022171772248385353, 0.027528542847288333, 0.029821106882600174, 0.03781583846569486]"
      ]
     },
     "execution_count": 35,
     "metadata": {},
     "output_type": "execute_result"
    }
   ],
   "source": [
    "obj1_3 = [inverse_transform(y_scalers[\"OBJ1\"], -item[1])[1] for item in pareto_front_3];\n",
    "dE_3 = [item[2] for item in pareto_front_3];\n",
    "obj3_3 = [inverse_transform(y_scalers[\"OBJ3\"], item[3])[1] for item in pareto_front_3];\n",
    "obj4_3 = [inverse_transform(y_scalers[\"OBJ4\"], item[4])[1] for item in pareto_front_3];\n",
    "obj5_3 = [inverse_transform(y_scalers[\"OBJ5\"], item[5])[1] for item in pareto_front_3];\n",
    "obj6_3 = [inverse_transform(y_scalers[\"OBJ6\"], item[6])[1] for item in pareto_front_3];\n",
    "\n",
    "unscaled_pareto_front_3 = [obj1_3, dE_3, obj3_3, obj4_3, obj5_3, obj6_3];"
   ]
  },
  {
   "cell_type": "code",
   "execution_count": 36,
   "metadata": {},
   "outputs": [
    {
     "data": {
      "text/plain": [
       "7"
      ]
     },
     "execution_count": 36,
     "metadata": {},
     "output_type": "execute_result"
    }
   ],
   "source": [
    "emit_cutoff = 0.04\n",
    "long_emit_mask = obj4_3 .< emit_cutoff; trans_emit_mask = obj5_3 .< emit_cutoff;\n",
    "\n",
    "\n",
    "transmission_cutoff = 90\n",
    "high_transmission_mask = obj1_3 .> 90\n",
    "\n",
    "sum(long_emit_mask .& trans_emit_mask .& high_transmission_mask)"
   ]
  },
  {
   "cell_type": "code",
   "execution_count": 37,
   "metadata": {},
   "outputs": [
    {
     "data": {
      "text/plain": [
       "7-element Vector{Int64}:\n",
       " 226\n",
       " 252\n",
       " 285\n",
       " 349\n",
       " 405\n",
       " 444\n",
       " 451"
      ]
     },
     "execution_count": 37,
     "metadata": {},
     "output_type": "execute_result"
    }
   ],
   "source": [
    "candidates = [i for i in 1:length(obj1_3)][long_emit_mask .& trans_emit_mask .& high_transmission_mask]"
   ]
  },
  {
   "cell_type": "code",
   "execution_count": 38,
   "metadata": {},
   "outputs": [],
   "source": [
    "#= test_x_transformed = minmaxscale(\n",
    "    decorr([\n",
    "        11.312972997315228, 103.74379149079323, 149.3844627470438,\n",
    "        1.4468421232886612, 1.5137411917386079, 140.85678020119667,\n",
    "        473.1951289474964, -50.19836366921663, -43.642034931217914,\n",
    "        245.1396713256836, 245.14222234487534, 1.8956206666091737,\n",
    "        -37.693693497970166, 0.06037112592457561,\n",
    "    ]);\n",
    "    var=\"x\"\n",
    ")\n",
    "\n",
    "println(predict((test_x_transformed..., 0.)))\n",
    "println(predict((test_x_transformed..., 1.))) =#"
   ]
  },
  {
   "cell_type": "code",
   "execution_count": 39,
   "metadata": {},
   "outputs": [
    {
     "name": "stdout",
     "output_type": "stream",
     "text": [
      "candidate 226\n",
      "Any[9.708263341803104, 119.10240392386913, -4.152779465061045, 1.0610006840433925, -0.7917784924983609, 188.3686705082655, 230.76381950080395, -86.58367421105504, 1.432276958975552, 382.80233627557755, 270.72520211338997, 0.5496114488365005, 0.12825709544462993, 0.05989261271679425]\n",
      "OBJ1: 94.23813843834876\n",
      "OBJ2: 0.10728190348100786\n",
      "OBJ3: 184.7110879785222\n",
      "OBJ4: 0.03913162382968155\n",
      "OBJ5: 0.02929078600225367\n",
      "OBJ6: 0.027810532591802946\n",
      " \n",
      "candidate 252\n",
      "Any[10.118412774521858, 84.29833798110485, -1.4266518134702904, 1.0772895046975464, -0.21599479337651506, 363.797188565135, 78.72649578750134, -86.11531944945455, 1.439062991116786, 324.3261600136757, 407.16776087880135, 0.3108594803284066, 0.12621982189934586, 0.0725487987838278]\n",
      "OBJ1: 96.99984313887114\n",
      "OBJ2: 0.2530183304721364\n",
      "OBJ3: 152.84750882658642\n",
      "OBJ4: 0.03897777583568955\n",
      "OBJ5: 0.027873957233091343\n",
      "OBJ6: 0.02710740161526323\n",
      " \n",
      "candidate 285\n",
      "Any[9.749278285074979, 79.55232898890972, -1.264001744353968, 1.107152342563495, -1.1197355422073862, 400.83209793269634, 330.1728388518095, -78.38746588304639, 1.5024391267109916, 37.7928963303566, 108.94331100583076, 0.509927368706835, 0.16449242739771366, 0.07247067417847575]\n",
      "OBJ1: 92.28436353491682\n",
      "OBJ2: 0.13256631065436006\n",
      "OBJ3: 167.42340048640125\n",
      "OBJ4: 0.03608071785559461\n",
      "OBJ5: 0.0256023605784781\n",
      "OBJ6: 0.024824777303216746\n",
      " \n",
      "candidate 349\n",
      "Any[9.510024449322373, 51.33994220197201, -0.6119458767481828, 1.0460692651104182, -0.20449920113593079, 148.409952506423, 485.1339572519064, -88.57418194785714, 1.4187959367860994, 54.36114627122879, 466.617732912302, 0.0941499722209521, 0.13503300817925057, 0.07469722543100943]\n",
      "OBJ1: 97.79499481223058\n",
      "OBJ2: 0.30154632453172403\n",
      "OBJ3: 177.42807472488224\n",
      "OBJ4: 0.03319123209181339\n",
      "OBJ5: 0.034991188671579104\n",
      "OBJ6: 0.0338722249401437\n",
      " \n",
      "candidate 405\n",
      "Any[9.578382688108832, 114.09272776544094, -3.4315400672327963, 1.2062426682095975, -0.786002643175052, 380.36543749272823, 346.74100874364376, -82.71974742785096, 1.4593063769221521, 184.9579399228096, 125.51133599877357, 0.31094811522563803, 0.12655050322228362, 0.07196286424368736]\n",
      "OBJ1: 96.84606586744812\n",
      "OBJ2: 0.2373908148010274\n",
      "OBJ3: 189.26432787118938\n",
      "OBJ4: 0.03883669496506197\n",
      "OBJ5: 0.035198947025919226\n",
      "OBJ6: 0.033075004275728834\n",
      " \n",
      "candidate 444\n",
      "Any[9.128927268087864, 46.13251566886902, -0.5370395619632947, 1.0430151112377644, -0.793713962076869, 425.9281220436096, 160.83639657497406, -82.92465263605118, 1.454868549398231, 199.82063472270966, 176.43364810943604, 0.36502738136589874, 0.15629034388894142, 0.07234372169477865]\n",
      "OBJ1: 95.8486565680663\n",
      "OBJ2: 0.07501530315208738\n",
      "OBJ3: 167.22144775811404\n",
      "OBJ4: 0.03722255908947356\n",
      "OBJ5: 0.0338996831845573\n",
      "OBJ6: 0.03259898172269011\n",
      " \n",
      "candidate 451\n",
      "Any[9.621106587350368, 86.20992493629456, -1.4946328421119348, 1.1407480351626873, -0.9885257904533764, 75.0710859298706, 90.66532409191132, -89.4816192984581, 1.4110339231629048, 238.80475223064423, 402.53845977783203, 0.6251295104480487, 0.1449419146533718, 0.056406302202958614]\n",
      "OBJ1: 99.11168172696327\n",
      "OBJ2: 0.4250943724859662\n",
      "OBJ3: 174.88078733049184\n",
      "OBJ4: 0.03906433648567923\n",
      "OBJ5: 0.033061393769183954\n",
      "OBJ6: 0.0327312887736337\n",
      " \n"
     ]
    }
   ],
   "source": [
    "for j in candidates\n",
    "    println(\"candidate $j\")\n",
    "    candidate_dvars = minmaxscale(pareto_set_3[j]; var=\"x\", inverse=true)\n",
    "    println(recorr(candidate_dvars))\n",
    "    for i in 1:6\n",
    "        println(\"OBJ$i: \", unscaled_pareto_front_3[i][j])\n",
    "    end\n",
    "    println(\" \")\n",
    "end"
   ]
  },
  {
   "cell_type": "code",
   "execution_count": 60,
   "metadata": {},
   "outputs": [
    {
     "ename": "LoadError",
     "evalue": "PyError ($(Expr(:escape, :(ccall(#= /Users/Josh/.julia/packages/PyCall/twYvK/src/pyfncall.jl:43 =# @pysym(:PyObject_Call), PyPtr, (PyPtr, PyPtr, PyPtr), o, pyargsptr, kw))))) <class 'ValueError'>\nValueError('x and y arrays must be equal in length along interpolation axis.')\n  File \"/Users/Josh/Desktop/research/rfq-nn/notebooks/design_optimization/./../../compute_cellnumber/compute_cellnumber.py\", line 107, in compute_cellnumber\n    m_interp = interp1d(np.array(Zet) * 0.01, m)\n  File \"/Users/Josh/.julia/conda/3/lib/python3.10/site-packages/scipy/interpolate/_interpolate.py\", line 491, in __init__\n    _Interpolator1D.__init__(self, x, y, axis=axis)\n  File \"/Users/Josh/.julia/conda/3/lib/python3.10/site-packages/scipy/interpolate/_polyint.py\", line 56, in __init__\n    self._set_yi(yi, xi=xi, axis=axis)\n  File \"/Users/Josh/.julia/conda/3/lib/python3.10/site-packages/scipy/interpolate/_polyint.py\", line 126, in _set_yi\n    raise ValueError(\"x and y arrays must be equal in length along \"\n",
     "output_type": "error",
     "traceback": [
      "PyError ($(Expr(:escape, :(ccall(#= /Users/Josh/.julia/packages/PyCall/twYvK/src/pyfncall.jl:43 =# @pysym(:PyObject_Call), PyPtr, (PyPtr, PyPtr, PyPtr), o, pyargsptr, kw))))) <class 'ValueError'>\nValueError('x and y arrays must be equal in length along interpolation axis.')\n  File \"/Users/Josh/Desktop/research/rfq-nn/notebooks/design_optimization/./../../compute_cellnumber/compute_cellnumber.py\", line 107, in compute_cellnumber\n    m_interp = interp1d(np.array(Zet) * 0.01, m)\n  File \"/Users/Josh/.julia/conda/3/lib/python3.10/site-packages/scipy/interpolate/_interpolate.py\", line 491, in __init__\n    _Interpolator1D.__init__(self, x, y, axis=axis)\n  File \"/Users/Josh/.julia/conda/3/lib/python3.10/site-packages/scipy/interpolate/_polyint.py\", line 56, in __init__\n    self._set_yi(yi, xi=xi, axis=axis)\n  File \"/Users/Josh/.julia/conda/3/lib/python3.10/site-packages/scipy/interpolate/_polyint.py\", line 126, in _set_yi\n    raise ValueError(\"x and y arrays must be equal in length along \"\n",
      "",
      "Stacktrace:",
      "  [1] pyerr_check",
      "    @ ~/.julia/packages/PyCall/twYvK/src/exception.jl:75 [inlined]",
      "  [2] pyerr_check",
      "    @ ~/.julia/packages/PyCall/twYvK/src/exception.jl:79 [inlined]",
      "  [3] _handle_error(msg::String)",
      "    @ PyCall ~/.julia/packages/PyCall/twYvK/src/exception.jl:96",
      "  [4] macro expansion",
      "    @ ~/.julia/packages/PyCall/twYvK/src/exception.jl:110 [inlined]",
      "  [5] #107",
      "    @ ~/.julia/packages/PyCall/twYvK/src/pyfncall.jl:43 [inlined]",
      "  [6] disable_sigint",
      "    @ ./c.jl:473 [inlined]",
      "  [7] __pycall!",
      "    @ ~/.julia/packages/PyCall/twYvK/src/pyfncall.jl:42 [inlined]",
      "  [8] _pycall!(ret::PyObject, o::PyObject, args::Tuple{Dict{Any, Any}}, nargs::Int64, kw::Ptr{Nothing})",
      "    @ PyCall ~/.julia/packages/PyCall/twYvK/src/pyfncall.jl:29",
      "  [9] _pycall!",
      "    @ ~/.julia/packages/PyCall/twYvK/src/pyfncall.jl:11 [inlined]",
      " [10] #_#114",
      "    @ ~/.julia/packages/PyCall/twYvK/src/pyfncall.jl:86 [inlined]",
      " [11] (::PyObject)(args::Dict{Any, Any})",
      "    @ PyCall ~/.julia/packages/PyCall/twYvK/src/pyfncall.jl:86",
      " [12] top-level scope",
      "    @ In[60]:2",
      " [13] eval",
      "    @ ./boot.jl:368 [inlined]",
      " [14] include_string(mapexpr::typeof(REPL.softscope), mod::Module, code::String, filename::String)",
      "    @ Base ./loading.jl:1428"
     ]
    }
   ],
   "source": [
    "x_451 = [9.621106587350368, 86.20992493629456, -1.4946328421119348, 1.1407480351626873, -0.9885257904533764, 75.0710859298706, 90.66532409191132, -89.4816192984581, 1.4110339231629048, 238.80475223064423, 402.53845977783203, 0.6251295104480487, 0.1449419146533718, 0.056406302202958614]\n",
    "compute_cellnumber(jl_row_to_py_row(Dict(\"DVAR$i\" => x_451[i] for i in 1:14)))\n",
    "\n"
   ]
  },
  {
   "cell_type": "code",
   "execution_count": 58,
   "metadata": {},
   "outputs": [
    {
     "data": {
      "text/plain": [
       "(99.11168172696327, 0.059405120364069454, 174.88078733049184, 0.03906433648567923, 0.033061393769183954, 0.0327312887736337)"
      ]
     },
     "execution_count": 58,
     "metadata": {},
     "output_type": "execute_result"
    }
   ],
   "source": [
    "minmaxscale(predict([pareto_set_3[451]..., 0.]); var=\"y\", inverse=true)"
   ]
  },
  {
   "cell_type": "code",
   "execution_count": 37,
   "metadata": {},
   "outputs": [
    {
     "data": {
      "text/plain": [
       "plot_pairwise_scatter (generic function with 1 method)"
      ]
     },
     "execution_count": 37,
     "metadata": {},
     "output_type": "execute_result"
    }
   ],
   "source": [
    "function plot_pairwise_scatter(vec1, vec2, vec1label, vec2label, indexes, winner_index, incl_xticks, incl_yticks)\n",
    "    loser_indexes = [i for i in indexes if i != winner_index]\n",
    "    \n",
    "    \n",
    "    scatter(\n",
    "        [vec1[i] for i in loser_indexes], [vec2[i] for i in loser_indexes];\n",
    "        xlabel=vec1label, ylabel=vec2label, legend=false, markersize=3, markerstrokewidth=0.5,\n",
    "        xformatter = incl_xticks ? :auto : Returns(\"\"), yformatter = incl_yticks ? :auto : Returns(\"\") \n",
    "    )\n",
    "    \n",
    "    scatter!([vec1[winner_index]], [vec2[winner_index]]; markershape=:star5, markersize=10, markerstrokewidth=0.5)\n",
    "end"
   ]
  },
  {
   "cell_type": "code",
   "execution_count": 38,
   "metadata": {},
   "outputs": [
    {
     "ename": "LoadError",
     "evalue": "UndefVarError: pareto_front_3 not defined",
     "output_type": "error",
     "traceback": [
      "UndefVarError: pareto_front_3 not defined",
      "",
      "Stacktrace:",
      " [1] top-level scope",
      "   @ In[38]:8",
      " [2] eval",
      "   @ ./boot.jl:368 [inlined]",
      " [3] include_string(mapexpr::typeof(REPL.softscope), mod::Module, code::String, filename::String)",
      "   @ Base ./loading.jl:1428"
     ]
    }
   ],
   "source": [
    "labels = [\n",
    "    \"Transmission [%]\",\n",
    "    \"Scaled target/output\\nenergy squared error\",\n",
    "    \"RFQ length [cm]\",\n",
    "    \"Longitudinal emittance\\n[MeV deg]\",\n",
    "    \"Transverse (radial)\\nemittance [cm mrad]\"\n",
    "]\n",
    "indexes = [i for i in 1:length(pareto_front_3)]\n",
    "\n",
    "layout = @layout([ ° _ _ _ ; ° ° _ _ ; ° ° ° _ ; ° ° ° ° ])\n",
    "\n",
    "#plot(p1, p2, p3, layout = l)\n",
    "\n",
    "plots_dict = Dict()\n",
    "\n",
    "for i in 1:5\n",
    "    for j in 1:5\n",
    "        if i < j\n",
    "            p = plot_pairwise_scatter(\n",
    "                unscaled_pareto_front_3[i], unscaled_pareto_front_3[j],\n",
    "                j==5 ? labels[i] : \"\", i==1 ? labels[j] : \"\", indexes, 138, j==5, i==1\n",
    "            )\n",
    "            if i == 1\n",
    "                xflip!(true)\n",
    "            end\n",
    "            # display(p)\n",
    "            merge!(plots_dict, Dict(\"$i$j\"=>p))\n",
    "        end\n",
    "    end\n",
    "end\n",
    "\n",
    "pareto_plot = plot(\n",
    "    [plots_dict[\"$i$j\"] for j in 1:5 for i in 1:5 if i<j]...,\n",
    "    layout = layout, widths=(1/4,1/4,1/4,1/4), size=(1000,800), dpi=500\n",
    ")\n",
    "\n",
    "# savefig(pareto_plot,\"../../img/pareto_plot.png\")"
   ]
  },
  {
   "cell_type": "markdown",
   "metadata": {},
   "source": [
    "## CHECKING OPTIMAL ANSWER FROM ABOVE"
   ]
  },
  {
   "cell_type": "code",
   "execution_count": 39,
   "metadata": {},
   "outputs": [
    {
     "ename": "LoadError",
     "evalue": "UndefVarError: deps not defined",
     "output_type": "error",
     "traceback": [
      "UndefVarError: deps not defined",
      "",
      "Stacktrace:",
      " [1] decorr(vec::Vector{Float64})",
      "   @ Main ./In[7]:32",
      " [2] top-level scope",
      "   @ In[39]:18",
      " [3] eval",
      "   @ ./boot.jl:368 [inlined]",
      " [4] include_string(mapexpr::typeof(REPL.softscope), mod::Module, code::String, filename::String)",
      "   @ Base ./loading.jl:1428"
     ]
    }
   ],
   "source": [
    "optimal_dvars = [\n",
    "    9.14601474441588,\n",
    "    64.9847204387188,\n",
    "    76.2309561819387,\n",
    "    1.5052128004608676,\n",
    "    1.7909850165139312,\n",
    "    159.3742377460003,\n",
    "    287.0468702018261,\n",
    "    -49.37874272093177,\n",
    "    -44.20807974211494,\n",
    "    446.882483959198,\n",
    "    415.69541972875595,\n",
    "    1.9007708828235987,\n",
    "    -38.63379833969139,\n",
    "    0.07181640870840056,\n",
    "]\n",
    "\n",
    "optimal_dvars_decorr = decorr(optimal_dvars);\n",
    "optimal_dvars_decorred_scaled = minmaxscale(optimal_dvars_decorr);\n",
    "optimal_predicted_objs_scaled = predict(optimal_dvars_decorred_scaled..., compute_cellnumber);\n",
    "optimal_predicted_objs = minmaxscale(optimal_predicted_objs_scaled; var=\"y\", inverse=true)"
   ]
  },
  {
   "cell_type": "code",
   "execution_count": null,
   "metadata": {},
   "outputs": [],
   "source": []
  }
 ],
 "metadata": {
  "kernelspec": {
   "display_name": "Julia 1.8.0",
   "language": "julia",
   "name": "julia-1.8"
  },
  "language_info": {
   "file_extension": ".jl",
   "mimetype": "application/julia",
   "name": "julia",
   "version": "1.8.0"
  }
 },
 "nbformat": 4,
 "nbformat_minor": 4
}
