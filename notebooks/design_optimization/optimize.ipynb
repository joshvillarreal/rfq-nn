{
 "cells": [
  {
   "cell_type": "code",
   "execution_count": 1,
   "metadata": {},
   "outputs": [
    {
     "data": {
      "text/plain": [
       "main (generic function with 1 method)"
      ]
     },
     "execution_count": 1,
     "metadata": {},
     "output_type": "execute_result"
    }
   ],
   "source": [
    "using Plots\n",
    "using Statistics\n",
    "using Surrogates\n",
    "using CSV\n",
    "using DataFrames\n",
    "using Distributions\n",
    "using Flux\n",
    "import JSON\n",
    "using MLUtils\n",
    "using Plots\n",
    "using StatsBase\n",
    "using StatsPlots\n",
    "using Tables\n",
    "\n",
    "include(\"../../scan_hyperparameters_withcellnum_functions.jl\")"
   ]
  },
  {
   "cell_type": "markdown",
   "metadata": {},
   "source": [
    "### Loading data and making cuts for proper scaling"
   ]
  },
  {
   "cell_type": "code",
   "execution_count": 2,
   "metadata": {},
   "outputs": [
    {
     "name": "stdout",
     "output_type": "stream",
     "text": [
      "Formatting data...\n",
      "Cutting Transmission to 60-100 percent...\n",
      "x_raw shape: (217293, 15)\n",
      "y_raw shape: (217293, 6)\n",
      "x_new shape: (161574, 15)\n",
      "y_new shape: (161574, 6)\n",
      "Decorrelating...\n",
      "Done!\n"
     ]
    }
   ],
   "source": [
    "target_directory = \"../../data/full_with_cellnumber/\"\n",
    "\n",
    "println(\"Formatting data...\")\n",
    "x_raw_df, y_df, cellnumber_df = getrawdata_withcellnum(target_directory)\n",
    "\n",
    "# how to process cellnumber, for now let's make it another dvar\n",
    "x_raw_df = hcat(x_raw_df, cellnumber_df)\n",
    "\n",
    "# cutting\n",
    "println(\"Cutting Transmission to 60-100 percent...\")\n",
    "lower::Float32 = 60\n",
    "upper::Float32 = 120\n",
    "x_raw_df, y_df = applycut(x_raw_df, y_df, \"OBJ1\", lower, upper; with_numcells=true)\n",
    "\n",
    "# decorrelating\n",
    "println(\"Decorrelating...\")\n",
    "x_df = decorrelatedvars(x_raw_df; with_numcells=true)\n",
    "\n",
    "x_scaled_df, x_scalers = minmaxscaledf(x_df);\n",
    "y_scaled_df, y_scalers = minmaxscaledf(y_df);\n",
    "\n",
    "println(\"Done!\")"
   ]
  },
  {
   "cell_type": "markdown",
   "metadata": {},
   "source": [
    "### Loading up previously trained model"
   ]
  },
  {
   "cell_type": "code",
   "execution_count": 3,
   "metadata": {},
   "outputs": [],
   "source": [
    "@load \"../../models/2023-05-09_09-30-08_w=100_d=5_activation=sigmoid_bs=1024_lr=0.001_dr=0.0_5.jld2\" m;"
   ]
  },
  {
   "cell_type": "markdown",
   "metadata": {},
   "source": [
    "```\n",
    "DVAR1: Bmax  [ 8.5, 12.0 ]\n",
    "DVAR2: mX1  [ 5, 140 ]\n",
    "DVAR3: mX2  [ 15, 160 ]\n",
    "DVAR4: mY1  [ 1.005, 1.7 ]\n",
    "DVAR5: mY2  [ 1.055, 1.85 ]\n",
    "DVAR6: mtau1  [ 1, 500 ]\n",
    "DVAR7: mtau2  [ 1, 500 ]\n",
    "DVAR8: PhiY1  [ -89.95, -30 ]\n",
    "DVAR9: PhiY2  [ -87.45, -25 ]\n",
    "DVAR10: Phitau1  [ 1, 500 ]\n",
    "DVAR11: Phitau2  [ 1, 500 ]\n",
    "DVAR12: mY3ref  [ 1.105, 2.0 ]\n",
    "DVAR13: PhiY3ref  [ -84.95, -20 ]\n",
    "DVAR14: Eref  [ 0.055, 0.075 ]\n",
    "```"
   ]
  },
  {
   "cell_type": "markdown",
   "metadata": {},
   "source": [
    "### Sampling for init of acquisition function"
   ]
  },
  {
   "cell_type": "code",
   "execution_count": 4,
   "metadata": {},
   "outputs": [],
   "source": [
    "# bounds of DVARS\n",
    "lower_bound = repeat([-1.], 14); upper_bound = repeat([1.], 14)\n",
    "\n",
    "# smapling to instantiate acquisition function\n",
    "n_samples = 1000\n",
    "initial_samples = Surrogates.sample(n_samples, lower_bound, upper_bound, SobolSample());"
   ]
  },
  {
   "cell_type": "code",
   "execution_count": 5,
   "metadata": {},
   "outputs": [],
   "source": [
    "# sampling of odd/even cell number\n",
    "cellnumber_samples = Float64.(rand(Bernoulli(0.5), n_samples) .* 2 .- 1);\n",
    "initial_samples_with_cellnumber = []\n",
    "for i in 1:n_samples\n",
    "    push!(initial_samples_with_cellnumber, (initial_samples[i]..., cellnumber_samples[i]))\n",
    "end"
   ]
  },
  {
   "cell_type": "code",
   "execution_count": 6,
   "metadata": {},
   "outputs": [
    {
     "data": {
      "text/plain": [
       "predict (generic function with 1 method)"
      ]
     },
     "execution_count": 6,
     "metadata": {},
     "output_type": "execute_result"
    }
   ],
   "source": [
    "# decorrelating design variables\n",
    "function getdvarprimesing(data_to_transform, dynamic_lower_bound, strict_upper_bound)\n",
    "    (data_to_transform - dynamic_lower_bound) / (strict_upper_bound - dynamic_lower_bound)\n",
    "end\n",
    "\n",
    "function decorr(vec)\n",
    "    maxes = Dict(\n",
    "        \"DVAR3\"=>160.,\n",
    "        \"DVAR5\"=>1.85,\n",
    "        \"DVAR9\"=>-25.,\n",
    "        \"DVAR12\"=>2.,\n",
    "        \"DVAR13\"=>-20.\n",
    "    )\n",
    "    etas = Dict(\n",
    "        \"DVAR3\"=>10.,\n",
    "        \"DVAR5\"=>0.05,\n",
    "        \"DVAR9\"=>2.5,\n",
    "        \"DVAR12\"=>0.05,\n",
    "        \"DVAR13\"=>2.5\n",
    "    )\n",
    "    \n",
    "    decorred_vec = []\n",
    "    \n",
    "    for i in 1:14\n",
    "        if i == 3\n",
    "            append!(decorred_vec, getdvarprimesing(vec[3], etas[\"DVAR3\"] + vec[2], maxes[\"DVAR3\"]))\n",
    "        elseif i == 5\n",
    "            append!(decorred_vec, getdvarprimesing(vec[5], etas[\"DVAR5\"] + vec[4], maxes[\"DVAR5\"]))\n",
    "        elseif i == 9\n",
    "            append!(decorred_vec, getdvarprimesing(vec[9], etas[\"DVAR9\"] + vec[8], maxes[\"DVAR9\"]))\n",
    "        elseif i == 12\n",
    "            append!(decorred_vec, getdvarprimesing(vec[12], etas[\"DVAR12\"] + vec[5], maxes[\"DVAR12\"]))\n",
    "        elseif i == 13\n",
    "            append!(decorred_vec, getdvarprimesing(vec[13], etas[\"DVAR13\"] + vec[9], maxes[\"DVAR13\"]))\n",
    "        else\n",
    "            append!(decorred_vec, vec[i])\n",
    "        end\n",
    "    end\n",
    "    \n",
    "    decorred_vec\n",
    "end\n",
    "\n",
    "function getvarsing(data_to_transform, dynamic_lower_bound, strict_upper_bound)\n",
    "    dynamic_lower_bound + data_to_transform*(strict_upper_bound - dynamic_lower_bound)\n",
    "end\n",
    "\n",
    "function recorr(vec)\n",
    "    maxes = Dict(\n",
    "        \"DVAR3\"=>160.,\n",
    "        \"DVAR5\"=>1.85,\n",
    "        \"DVAR9\"=>-25.,\n",
    "        \"DVAR12\"=>2.,\n",
    "        \"DVAR13\"=>-20.\n",
    "    )\n",
    "    etas = Dict(\n",
    "        \"DVAR3\"=>10.,\n",
    "        \"DVAR5\"=>0.05,\n",
    "        \"DVAR9\"=>2.5,\n",
    "        \"DVAR12\"=>0.05,\n",
    "        \"DVAR13\"=>2.5\n",
    "    )\n",
    "    dvarmap = Dict(\n",
    "        3=>2,\n",
    "        5=>4,\n",
    "        9=>8,\n",
    "        12=>5,\n",
    "        13=>9\n",
    "    )\n",
    "    \n",
    "    recorred_vec = []\n",
    "    \n",
    "    for i in 1:14\n",
    "        if i ∈ [3, 5, 9]\n",
    "            append!(recorred_vec, getvarsing(vec[i], etas[\"DVAR$i\"] + vec[dvarmap[i]], maxes[\"DVAR$i\"]))\n",
    "        elseif i ∈ [12, 13]\n",
    "            append!(recorred_vec, getvarsing(vec[i], etas[\"DVAR$i\"] + recorred_vec[dvarmap[i]], maxes[\"DVAR$i\"]))\n",
    "        else\n",
    "            append!(recorred_vec, vec[i])\n",
    "        end\n",
    "    end\n",
    "    \n",
    "    recorred_vec\n",
    "end\n",
    "\n",
    "function minmaxscale(vec; var=\"x\", inverse=false)\n",
    "    scaled_vec = []\n",
    "    \n",
    "    transform_fun(scaler, x) = inverse ? inverse_transform(scaler, x) : transform(scaler, x)\n",
    "    \n",
    "    if var == \"x\"\n",
    "        for i in 1:14\n",
    "            scaler = x_scalers[\"DVAR$i\"]\n",
    "            append!(scaled_vec, transform_fun(scaler, vec[i]))\n",
    "        end\n",
    "    elseif var == \"y\"\n",
    "        for i in 1:6\n",
    "            scaler = y_scalers[\"OBJ$i\"]\n",
    "            append!(scaled_vec, transform_fun(scaler, vec[i]))\n",
    "        end\n",
    "    end\n",
    "    \n",
    "    return Tuple(scaled_vec)\n",
    "end\n",
    "\n",
    "function predict(x_vec)\n",
    "    m([x for x in x_vec])'\n",
    "end"
   ]
  },
  {
   "cell_type": "code",
   "execution_count": 7,
   "metadata": {},
   "outputs": [
    {
     "name": "stdout",
     "output_type": "stream",
     "text": [
      "\u001b[1mDataFrameRow\u001b[0m\n",
      "\u001b[1m Row \u001b[0m│\u001b[1m DVAR1    \u001b[0m\u001b[1m DVAR10    \u001b[0m\u001b[1m DVAR11   \u001b[0m\u001b[1m DVAR12   \u001b[0m\u001b[1m DVAR13   \u001b[0m\u001b[1m DVAR14    \u001b[0m\u001b[1m DVAR2     \u001b[0m\u001b[1m DVAR3    \u001b[0m\u001b[1m DVAR4    \u001b[0m\u001b[1m DVAR5    \u001b[0m\u001b[1m DVAR6     \u001b[0m\u001b[1m DVAR7     \u001b[0m\u001b[1m DVAR8     \u001b[0m\u001b[1m DVAR9    \u001b[0m\u001b[1m cellnumber \u001b[0m\n",
      "\u001b[1m     \u001b[0m│\u001b[90m Any      \u001b[0m\u001b[90m Any       \u001b[0m\u001b[90m Any      \u001b[0m\u001b[90m Any      \u001b[0m\u001b[90m Any      \u001b[0m\u001b[90m Any       \u001b[0m\u001b[90m Any       \u001b[0m\u001b[90m Any      \u001b[0m\u001b[90m Any      \u001b[0m\u001b[90m Any      \u001b[0m\u001b[90m Any       \u001b[0m\u001b[90m Any       \u001b[0m\u001b[90m Any       \u001b[0m\u001b[90m Any      \u001b[0m\u001b[90m Any        \u001b[0m\n",
      "─────┼──────────────────────────────────────────────────────────────────────────────────────────────────────────────────────────────────────────────────────────────\n",
      "   1 │ 0.289202  -0.447758  0.404934  0.171099  0.357681  -0.434087  -0.313747  0.147541  0.668876  0.553479  -0.784712  -0.816006  -0.451444  0.331384  -0.53271\n",
      "(0.28920162f0, -0.44775814f0, 0.4049338f0, 0.17109923841804942, 0.3576814045090202, -0.43408716f0, -0.3137467f0, 0.1475414222175786, 0.6688763f0, 0.5534791401182384, -0.7847122f0, -0.8160064f0, -0.45144355f0, 0.3313838669893703, -0.5327103f0)\n",
      "Prediction:\n",
      "[0.5349908049382303 -0.4884269375804415 -0.49084511751330434 -0.48353242524978496 0.12568874773689745 -0.13865348439825106]\n",
      "True:\n",
      "\u001b[1mDataFrameRow\u001b[0m\n",
      "\u001b[1m Row \u001b[0m│\u001b[1m OBJ1    \u001b[0m\u001b[1m OBJ2      \u001b[0m\u001b[1m OBJ3      \u001b[0m\u001b[1m OBJ4      \u001b[0m\u001b[1m OBJ5     \u001b[0m\u001b[1m OBJ6      \u001b[0m\n",
      "\u001b[1m     \u001b[0m│\u001b[90m Any     \u001b[0m\u001b[90m Any       \u001b[0m\u001b[90m Any       \u001b[0m\u001b[90m Any       \u001b[0m\u001b[90m Any      \u001b[0m\u001b[90m Any       \u001b[0m\n",
      "─────┼───────────────────────────────────────────────────────────────\n",
      "   1 │ 0.56962  -0.495385  -0.494174  -0.463365  0.222158  -0.215965\n"
     ]
    }
   ],
   "source": [
    "# do i understand how the model predicts for a given x_vec?\n",
    "println(first(x_scaled_df))\n",
    "println(values(first(x_scaled_df)))\n",
    "\n",
    "println(\"Prediction:\")\n",
    "println(predict(values(first(x_scaled_df))))\n",
    "println(\"True:\")\n",
    "println(first(y_scaled_df))"
   ]
  },
  {
   "cell_type": "markdown",
   "metadata": {},
   "source": [
    "This means that the DVARs used as inputs to the model are out of order -- they don't run from DVAR1 to DVAR14, but instead run in alphabetical order, with cellnumber as a column appended in the end."
   ]
  },
  {
   "cell_type": "markdown",
   "metadata": {},
   "source": [
    "### Functionality to predict cellnumber"
   ]
  },
  {
   "cell_type": "code",
   "execution_count": 8,
   "metadata": {},
   "outputs": [
    {
     "name": "stderr",
     "output_type": "stream",
     "text": [
      "\u001b[32m\u001b[1m    Building\u001b[22m\u001b[39m Conda ─→ `~/.julia/scratchspaces/44cfe95a-1eb2-52ea-b672-e2afdf69b78f/e32a90da027ca45d84678b826fffd3110bb3fc90/build.log`\n",
      "\u001b[32m\u001b[1m    Building\u001b[22m\u001b[39m PyCall → `~/.julia/scratchspaces/44cfe95a-1eb2-52ea-b672-e2afdf69b78f/62f417f6ad727987c755549e9cd88c46578da562/build.log`\n"
     ]
    },
    {
     "data": {
      "text/plain": [
       "PyObject <function compute_cellnumber at 0x1d4fa2290>"
      ]
     },
     "execution_count": 8,
     "metadata": {},
     "output_type": "execute_result"
    }
   ],
   "source": [
    "ENV[\"PYTHON\"] = \"\"                                                                                                                                   \n",
    "using Pkg\n",
    "Pkg.build(\"PyCall\")\n",
    "using PyCall\n",
    "\n",
    "# Julia uses a Python that is installed to a separte location than my current anaconda3 installation.\n",
    "# the following lines make sure that the correct Python packages are installed to read in the supplemental\n",
    "# Python script that computes cell number\n",
    "\n",
    "# using Conda\n",
    "# Conda.add(\"scipy\")\n",
    "# Conda.add(\"matplotlib\")\n",
    "\n",
    "py\"\"\"\n",
    "import sys\n",
    "sys.path.insert(0, \"./../../compute_cellnumber/\")\n",
    "\"\"\"\n",
    "\n",
    "compute_cellnumber = pyimport(\"compute_cellnumber\")[\"compute_cellnumber\"]"
   ]
  },
  {
   "cell_type": "code",
   "execution_count": 9,
   "metadata": {},
   "outputs": [
    {
     "data": {
      "text/plain": [
       "jl_row_to_py_row (generic function with 1 method)"
      ]
     },
     "execution_count": 9,
     "metadata": {},
     "output_type": "execute_result"
    }
   ],
   "source": [
    "# compute_cellnumber function uses different row keys\n",
    "# this is a nice sanity check to make sure we're passing in the data through the correct slots\n",
    "dvar_to_param = Dict(\n",
    "    \"DVAR1\" => \"Bmax\",\n",
    "    \"DVAR2\" => \"mX1\",\n",
    "    \"DVAR3\" => \"mX2\",\n",
    "    \"DVAR4\" => \"mY1\",\n",
    "    \"DVAR5\" => \"mY2\",\n",
    "    \"DVAR6\" => \"mtau1\",\n",
    "    \"DVAR7\" => \"mtau2\",\n",
    "    \"DVAR8\" => \"PhiY1\",\n",
    "    \"DVAR9\" => \"PhiY2\",\n",
    "    \"DVAR10\" => \"Phitau1\",\n",
    "    \"DVAR11\" => \"Phitau2\",\n",
    "    \"DVAR12\" => \"mY3ref\",\n",
    "    \"DVAR13\" => \"PhiY3ref\",\n",
    "    \"DVAR14\" => \"Eref\",\n",
    ")\n",
    "\n",
    "function jl_row_to_py_row(jl_row)\n",
    "    pyrow = Dict()\n",
    "    \n",
    "    for i in 1:14\n",
    "        pyrow[dvar_to_param[\"DVAR$i\"]] = jl_row[\"DVAR$i\"]\n",
    "    end\n",
    "    \n",
    "    pyrow\n",
    "end"
   ]
  },
  {
   "cell_type": "code",
   "execution_count": 10,
   "metadata": {},
   "outputs": [
    {
     "data": {
      "text/html": [
       "<table class=\"data-frame\"><thead><tr><th></th><th>cellnumber</th></tr><tr><th></th><th>Int64</th></tr></thead><tbody><p>217,293 rows × 1 columns</p><tr><th>1</th><td>44</td></tr><tr><th>2</th><td>49</td></tr><tr><th>3</th><td>36</td></tr><tr><th>4</th><td>86</td></tr><tr><th>5</th><td>25</td></tr><tr><th>6</th><td>46</td></tr><tr><th>7</th><td>97</td></tr><tr><th>8</th><td>29</td></tr><tr><th>9</th><td>66</td></tr><tr><th>10</th><td>63</td></tr><tr><th>11</th><td>48</td></tr><tr><th>12</th><td>48</td></tr><tr><th>13</th><td>36</td></tr><tr><th>14</th><td>59</td></tr><tr><th>15</th><td>56</td></tr><tr><th>16</th><td>31</td></tr><tr><th>17</th><td>48</td></tr><tr><th>18</th><td>42</td></tr><tr><th>19</th><td>31</td></tr><tr><th>20</th><td>51</td></tr><tr><th>21</th><td>24</td></tr><tr><th>22</th><td>72</td></tr><tr><th>23</th><td>63</td></tr><tr><th>24</th><td>45</td></tr><tr><th>25</th><td>27</td></tr><tr><th>26</th><td>72</td></tr><tr><th>27</th><td>24</td></tr><tr><th>28</th><td>22</td></tr><tr><th>29</th><td>44</td></tr><tr><th>30</th><td>48</td></tr><tr><th>&vellip;</th><td>&vellip;</td></tr></tbody></table>"
      ],
      "text/latex": [
       "\\begin{tabular}{r|c}\n",
       "\t& cellnumber\\\\\n",
       "\t\\hline\n",
       "\t& Int64\\\\\n",
       "\t\\hline\n",
       "\t1 & 44 \\\\\n",
       "\t2 & 49 \\\\\n",
       "\t3 & 36 \\\\\n",
       "\t4 & 86 \\\\\n",
       "\t5 & 25 \\\\\n",
       "\t6 & 46 \\\\\n",
       "\t7 & 97 \\\\\n",
       "\t8 & 29 \\\\\n",
       "\t9 & 66 \\\\\n",
       "\t10 & 63 \\\\\n",
       "\t11 & 48 \\\\\n",
       "\t12 & 48 \\\\\n",
       "\t13 & 36 \\\\\n",
       "\t14 & 59 \\\\\n",
       "\t15 & 56 \\\\\n",
       "\t16 & 31 \\\\\n",
       "\t17 & 48 \\\\\n",
       "\t18 & 42 \\\\\n",
       "\t19 & 31 \\\\\n",
       "\t20 & 51 \\\\\n",
       "\t21 & 24 \\\\\n",
       "\t22 & 72 \\\\\n",
       "\t23 & 63 \\\\\n",
       "\t24 & 45 \\\\\n",
       "\t25 & 27 \\\\\n",
       "\t26 & 72 \\\\\n",
       "\t27 & 24 \\\\\n",
       "\t28 & 22 \\\\\n",
       "\t29 & 44 \\\\\n",
       "\t30 & 48 \\\\\n",
       "\t$\\dots$ & $\\dots$ \\\\\n",
       "\\end{tabular}\n"
      ],
      "text/plain": [
       "\u001b[1m217293×1 DataFrame\u001b[0m\n",
       "\u001b[1m    Row \u001b[0m│\u001b[1m cellnumber \u001b[0m\n",
       "\u001b[1m        \u001b[0m│\u001b[90m Int64      \u001b[0m\n",
       "────────┼────────────\n",
       "      1 │         44\n",
       "      2 │         49\n",
       "      3 │         36\n",
       "      4 │         86\n",
       "      5 │         25\n",
       "      6 │         46\n",
       "      7 │         97\n",
       "      8 │         29\n",
       "      9 │         66\n",
       "     10 │         63\n",
       "     11 │         48\n",
       "   ⋮    │     ⋮\n",
       " 217284 │         69\n",
       " 217285 │         67\n",
       " 217286 │         62\n",
       " 217287 │         40\n",
       " 217288 │         59\n",
       " 217289 │         35\n",
       " 217290 │         52\n",
       " 217291 │         41\n",
       " 217292 │         55\n",
       " 217293 │         56\n",
       "\u001b[36m  217272 rows omitted\u001b[0m"
      ]
     },
     "execution_count": 10,
     "metadata": {},
     "output_type": "execute_result"
    }
   ],
   "source": [
    "cellnumber_df"
   ]
  },
  {
   "cell_type": "code",
   "execution_count": 11,
   "metadata": {},
   "outputs": [
    {
     "data": {
      "text/plain": [
       "(11.272526f0, 113.67641f0, 142.83572f0, 1.3236254f0, 1.7508091f0, 26.869146f0, 52.817062f0, -37.27841f0, -34.61879f0, 93.22662f0, 467.92874f0, 1.8544296f0, -29.753065f0, 0.07108371f0, 59)"
      ]
     },
     "execution_count": 11,
     "metadata": {},
     "output_type": "execute_result"
    }
   ],
   "source": [
    "values(x_raw_df[10, :])"
   ]
  },
  {
   "cell_type": "code",
   "execution_count": 12,
   "metadata": {},
   "outputs": [
    {
     "data": {
      "text/plain": [
       "59"
      ]
     },
     "execution_count": 12,
     "metadata": {},
     "output_type": "execute_result"
    }
   ],
   "source": [
    "compute_cellnumber(jl_row_to_py_row(x_raw_df[10, :]))"
   ]
  },
  {
   "cell_type": "code",
   "execution_count": 13,
   "metadata": {},
   "outputs": [],
   "source": [
    "# sanity check\n",
    "cns_pred = []\n",
    "cns_true = []\n",
    "\n",
    "problematic_idx = []\n",
    "\n",
    "for i in 1:size(x_raw_df)[1]\n",
    "    \n",
    "    if y_df[i, \"OBJ1\"] < 50\n",
    "        continue\n",
    "    else\n",
    "\n",
    "        try\n",
    "            cn = compute_cellnumber(jl_row_to_py_row(x_raw_df[i, :]))\n",
    "            append!(cns_pred, cn)\n",
    "            append!(cns_true, x_raw_df[:, 15][i])\n",
    "        catch\n",
    "            append!(problematic_idx, i)\n",
    "            continue\n",
    "        end \n",
    "    end\n",
    "end"
   ]
  },
  {
   "cell_type": "code",
   "execution_count": 14,
   "metadata": {},
   "outputs": [
    {
     "data": {
      "text/plain": [
       "157800-element Vector{Int64}:\n",
       "  0\n",
       "  1\n",
       " -1\n",
       "  0\n",
       "  1\n",
       "  0\n",
       "  0\n",
       "  0\n",
       "  0\n",
       "  0\n",
       "  0\n",
       "  0\n",
       "  0\n",
       "  ⋮\n",
       "  0\n",
       "  0\n",
       " -1\n",
       "  0\n",
       "  0\n",
       "  0\n",
       "  0\n",
       "  0\n",
       "  0\n",
       "  0\n",
       "  0\n",
       "  0"
      ]
     },
     "execution_count": 14,
     "metadata": {},
     "output_type": "execute_result"
    }
   ],
   "source": [
    "cns_pred .- cns_true"
   ]
  },
  {
   "cell_type": "code",
   "execution_count": 15,
   "metadata": {},
   "outputs": [
    {
     "data": {
      "image/svg+xml": [
       "<?xml version=\"1.0\" encoding=\"utf-8\"?>\n",
       "<svg xmlns=\"http://www.w3.org/2000/svg\" xmlns:xlink=\"http://www.w3.org/1999/xlink\" width=\"600\" height=\"400\" viewBox=\"0 0 2400 1600\">\n",
       "<defs>\n",
       "  <clipPath id=\"clip180\">\n",
       "    <rect x=\"0\" y=\"0\" width=\"2400\" height=\"1600\"/>\n",
       "  </clipPath>\n",
       "</defs>\n",
       "<path clip-path=\"url(#clip180)\" d=\"\n",
       "M0 1600 L2400 1600 L2400 0 L0 0  Z\n",
       "  \" fill=\"#ffffff\" fill-rule=\"evenodd\" fill-opacity=\"1\"/>\n",
       "<defs>\n",
       "  <clipPath id=\"clip181\">\n",
       "    <rect x=\"480\" y=\"0\" width=\"1681\" height=\"1600\"/>\n",
       "  </clipPath>\n",
       "</defs>\n",
       "<path clip-path=\"url(#clip180)\" d=\"\n",
       "M307.593 1486.45 L2352.76 1486.45 L2352.76 47.2441 L307.593 47.2441  Z\n",
       "  \" fill=\"#ffffff\" fill-rule=\"evenodd\" fill-opacity=\"1\"/>\n",
       "<defs>\n",
       "  <clipPath id=\"clip182\">\n",
       "    <rect x=\"307\" y=\"47\" width=\"2046\" height=\"1440\"/>\n",
       "  </clipPath>\n",
       "</defs>\n",
       "<polyline clip-path=\"url(#clip182)\" style=\"stroke:#000000; stroke-linecap:butt; stroke-linejoin:round; stroke-width:2; stroke-opacity:0.1; fill:none\" points=\"\n",
       "  420.08,1486.45 420.08,47.2441 \n",
       "  \"/>\n",
       "<polyline clip-path=\"url(#clip182)\" style=\"stroke:#000000; stroke-linecap:butt; stroke-linejoin:round; stroke-width:2; stroke-opacity:0.1; fill:none\" points=\"\n",
       "  1016.86,1486.45 1016.86,47.2441 \n",
       "  \"/>\n",
       "<polyline clip-path=\"url(#clip182)\" style=\"stroke:#000000; stroke-linecap:butt; stroke-linejoin:round; stroke-width:2; stroke-opacity:0.1; fill:none\" points=\"\n",
       "  1613.65,1486.45 1613.65,47.2441 \n",
       "  \"/>\n",
       "<polyline clip-path=\"url(#clip182)\" style=\"stroke:#000000; stroke-linecap:butt; stroke-linejoin:round; stroke-width:2; stroke-opacity:0.1; fill:none\" points=\"\n",
       "  2210.43,1486.45 2210.43,47.2441 \n",
       "  \"/>\n",
       "<polyline clip-path=\"url(#clip180)\" style=\"stroke:#000000; stroke-linecap:butt; stroke-linejoin:round; stroke-width:4; stroke-opacity:1; fill:none\" points=\"\n",
       "  307.593,1486.45 2352.76,1486.45 \n",
       "  \"/>\n",
       "<polyline clip-path=\"url(#clip180)\" style=\"stroke:#000000; stroke-linecap:butt; stroke-linejoin:round; stroke-width:4; stroke-opacity:1; fill:none\" points=\"\n",
       "  420.08,1486.45 420.08,1467.55 \n",
       "  \"/>\n",
       "<polyline clip-path=\"url(#clip180)\" style=\"stroke:#000000; stroke-linecap:butt; stroke-linejoin:round; stroke-width:4; stroke-opacity:1; fill:none\" points=\"\n",
       "  1016.86,1486.45 1016.86,1467.55 \n",
       "  \"/>\n",
       "<polyline clip-path=\"url(#clip180)\" style=\"stroke:#000000; stroke-linecap:butt; stroke-linejoin:round; stroke-width:4; stroke-opacity:1; fill:none\" points=\"\n",
       "  1613.65,1486.45 1613.65,1467.55 \n",
       "  \"/>\n",
       "<polyline clip-path=\"url(#clip180)\" style=\"stroke:#000000; stroke-linecap:butt; stroke-linejoin:round; stroke-width:4; stroke-opacity:1; fill:none\" points=\"\n",
       "  2210.43,1486.45 2210.43,1467.55 \n",
       "  \"/>\n",
       "<path clip-path=\"url(#clip180)\" d=\"M389.838 1532.02 L419.513 1532.02 L419.513 1535.95 L389.838 1535.95 L389.838 1532.02 Z\" fill=\"#000000\" fill-rule=\"evenodd\" fill-opacity=\"1\" /><path clip-path=\"url(#clip180)\" d=\"M430.416 1544.91 L438.055 1544.91 L438.055 1518.55 L429.745 1520.21 L429.745 1515.95 L438.009 1514.29 L442.684 1514.29 L442.684 1544.91 L450.323 1544.91 L450.323 1548.85 L430.416 1548.85 L430.416 1544.91 Z\" fill=\"#000000\" fill-rule=\"evenodd\" fill-opacity=\"1\" /><path clip-path=\"url(#clip180)\" d=\"M1016.86 1517.37 Q1013.25 1517.37 1011.42 1520.93 Q1009.62 1524.47 1009.62 1531.6 Q1009.62 1538.71 1011.42 1542.27 Q1013.25 1545.82 1016.86 1545.82 Q1020.5 1545.82 1022.3 1542.27 Q1024.13 1538.71 1024.13 1531.6 Q1024.13 1524.47 1022.3 1520.93 Q1020.5 1517.37 1016.86 1517.37 M1016.86 1513.66 Q1022.67 1513.66 1025.73 1518.27 Q1028.81 1522.85 1028.81 1531.6 Q1028.81 1540.33 1025.73 1544.94 Q1022.67 1549.52 1016.86 1549.52 Q1011.05 1549.52 1007.97 1544.94 Q1004.92 1540.33 1004.92 1531.6 Q1004.92 1522.85 1007.97 1518.27 Q1011.05 1513.66 1016.86 1513.66 Z\" fill=\"#000000\" fill-rule=\"evenodd\" fill-opacity=\"1\" /><path clip-path=\"url(#clip180)\" d=\"M1604.03 1544.91 L1611.67 1544.91 L1611.67 1518.55 L1603.36 1520.21 L1603.36 1515.95 L1611.62 1514.29 L1616.3 1514.29 L1616.3 1544.91 L1623.94 1544.91 L1623.94 1548.85 L1604.03 1548.85 L1604.03 1544.91 Z\" fill=\"#000000\" fill-rule=\"evenodd\" fill-opacity=\"1\" /><path clip-path=\"url(#clip180)\" d=\"M2205.08 1544.91 L2221.4 1544.91 L2221.4 1548.85 L2199.46 1548.85 L2199.46 1544.91 Q2202.12 1542.16 2206.7 1537.53 Q2211.31 1532.88 2212.49 1531.53 Q2214.73 1529.01 2215.61 1527.27 Q2216.52 1525.51 2216.52 1523.82 Q2216.52 1521.07 2214.57 1519.33 Q2212.65 1517.6 2209.55 1517.6 Q2207.35 1517.6 2204.9 1518.36 Q2202.47 1519.13 2199.69 1520.68 L2199.69 1515.95 Q2202.51 1514.82 2204.97 1514.24 Q2207.42 1513.66 2209.46 1513.66 Q2214.83 1513.66 2218.02 1516.35 Q2221.22 1519.03 2221.22 1523.52 Q2221.22 1525.65 2220.41 1527.57 Q2219.62 1529.47 2217.51 1532.07 Q2216.93 1532.74 2213.83 1535.95 Q2210.73 1539.15 2205.08 1544.91 Z\" fill=\"#000000\" fill-rule=\"evenodd\" fill-opacity=\"1\" /><polyline clip-path=\"url(#clip182)\" style=\"stroke:#000000; stroke-linecap:butt; stroke-linejoin:round; stroke-width:2; stroke-opacity:0.1; fill:none\" points=\"\n",
       "  307.593,1445.72 2352.76,1445.72 \n",
       "  \"/>\n",
       "<polyline clip-path=\"url(#clip182)\" style=\"stroke:#000000; stroke-linecap:butt; stroke-linejoin:round; stroke-width:2; stroke-opacity:0.1; fill:none\" points=\"\n",
       "  307.593,1244.95 2352.76,1244.95 \n",
       "  \"/>\n",
       "<polyline clip-path=\"url(#clip182)\" style=\"stroke:#000000; stroke-linecap:butt; stroke-linejoin:round; stroke-width:2; stroke-opacity:0.1; fill:none\" points=\"\n",
       "  307.593,1044.19 2352.76,1044.19 \n",
       "  \"/>\n",
       "<polyline clip-path=\"url(#clip182)\" style=\"stroke:#000000; stroke-linecap:butt; stroke-linejoin:round; stroke-width:2; stroke-opacity:0.1; fill:none\" points=\"\n",
       "  307.593,843.423 2352.76,843.423 \n",
       "  \"/>\n",
       "<polyline clip-path=\"url(#clip182)\" style=\"stroke:#000000; stroke-linecap:butt; stroke-linejoin:round; stroke-width:2; stroke-opacity:0.1; fill:none\" points=\"\n",
       "  307.593,642.658 2352.76,642.658 \n",
       "  \"/>\n",
       "<polyline clip-path=\"url(#clip182)\" style=\"stroke:#000000; stroke-linecap:butt; stroke-linejoin:round; stroke-width:2; stroke-opacity:0.1; fill:none\" points=\"\n",
       "  307.593,441.894 2352.76,441.894 \n",
       "  \"/>\n",
       "<polyline clip-path=\"url(#clip182)\" style=\"stroke:#000000; stroke-linecap:butt; stroke-linejoin:round; stroke-width:2; stroke-opacity:0.1; fill:none\" points=\"\n",
       "  307.593,241.129 2352.76,241.129 \n",
       "  \"/>\n",
       "<polyline clip-path=\"url(#clip180)\" style=\"stroke:#000000; stroke-linecap:butt; stroke-linejoin:round; stroke-width:4; stroke-opacity:1; fill:none\" points=\"\n",
       "  307.593,1486.45 307.593,47.2441 \n",
       "  \"/>\n",
       "<polyline clip-path=\"url(#clip180)\" style=\"stroke:#000000; stroke-linecap:butt; stroke-linejoin:round; stroke-width:4; stroke-opacity:1; fill:none\" points=\"\n",
       "  307.593,1445.72 326.49,1445.72 \n",
       "  \"/>\n",
       "<polyline clip-path=\"url(#clip180)\" style=\"stroke:#000000; stroke-linecap:butt; stroke-linejoin:round; stroke-width:4; stroke-opacity:1; fill:none\" points=\"\n",
       "  307.593,1244.95 326.49,1244.95 \n",
       "  \"/>\n",
       "<polyline clip-path=\"url(#clip180)\" style=\"stroke:#000000; stroke-linecap:butt; stroke-linejoin:round; stroke-width:4; stroke-opacity:1; fill:none\" points=\"\n",
       "  307.593,1044.19 326.49,1044.19 \n",
       "  \"/>\n",
       "<polyline clip-path=\"url(#clip180)\" style=\"stroke:#000000; stroke-linecap:butt; stroke-linejoin:round; stroke-width:4; stroke-opacity:1; fill:none\" points=\"\n",
       "  307.593,843.423 326.49,843.423 \n",
       "  \"/>\n",
       "<polyline clip-path=\"url(#clip180)\" style=\"stroke:#000000; stroke-linecap:butt; stroke-linejoin:round; stroke-width:4; stroke-opacity:1; fill:none\" points=\"\n",
       "  307.593,642.658 326.49,642.658 \n",
       "  \"/>\n",
       "<polyline clip-path=\"url(#clip180)\" style=\"stroke:#000000; stroke-linecap:butt; stroke-linejoin:round; stroke-width:4; stroke-opacity:1; fill:none\" points=\"\n",
       "  307.593,441.894 326.49,441.894 \n",
       "  \"/>\n",
       "<polyline clip-path=\"url(#clip180)\" style=\"stroke:#000000; stroke-linecap:butt; stroke-linejoin:round; stroke-width:4; stroke-opacity:1; fill:none\" points=\"\n",
       "  307.593,241.129 326.49,241.129 \n",
       "  \"/>\n",
       "<path clip-path=\"url(#clip180)\" d=\"M259.648 1431.51 Q256.037 1431.51 254.209 1435.08 Q252.403 1438.62 252.403 1445.75 Q252.403 1452.86 254.209 1456.42 Q256.037 1459.96 259.648 1459.96 Q263.283 1459.96 265.088 1456.42 Q266.917 1452.86 266.917 1445.75 Q266.917 1438.62 265.088 1435.08 Q263.283 1431.51 259.648 1431.51 M259.648 1427.81 Q265.459 1427.81 268.514 1432.42 Q271.593 1437 271.593 1445.75 Q271.593 1454.48 268.514 1459.08 Q265.459 1463.67 259.648 1463.67 Q253.838 1463.67 250.76 1459.08 Q247.704 1454.48 247.704 1445.75 Q247.704 1437 250.76 1432.42 Q253.838 1427.81 259.648 1427.81 Z\" fill=\"#000000\" fill-rule=\"evenodd\" fill-opacity=\"1\" /><path clip-path=\"url(#clip180)\" d=\"M57.7745 1264.74 L74.0939 1264.74 L74.0939 1268.68 L52.1495 1268.68 L52.1495 1264.74 Q54.8115 1261.99 59.3949 1257.36 Q64.0013 1252.71 65.1819 1251.36 Q67.4272 1248.84 68.3068 1247.1 Q69.2096 1245.35 69.2096 1243.66 Q69.2096 1240.9 67.2652 1239.17 Q65.3439 1237.43 62.2421 1237.43 Q60.043 1237.43 57.5893 1238.19 Q55.1588 1238.96 52.381 1240.51 L52.381 1235.79 Q55.2051 1234.65 57.6588 1234.07 Q60.1124 1233.49 62.1495 1233.49 Q67.5198 1233.49 70.7142 1236.18 Q73.9087 1238.86 73.9087 1243.35 Q73.9087 1245.48 73.0985 1247.41 Q72.3115 1249.3 70.205 1251.9 Q69.6263 1252.57 66.5245 1255.79 Q63.4226 1258.98 57.7745 1264.74 Z\" fill=\"#000000\" fill-rule=\"evenodd\" fill-opacity=\"1\" /><path clip-path=\"url(#clip180)\" d=\"M83.9086 1262.8 L88.7928 1262.8 L88.7928 1268.68 L83.9086 1268.68 L83.9086 1262.8 Z\" fill=\"#000000\" fill-rule=\"evenodd\" fill-opacity=\"1\" /><path clip-path=\"url(#clip180)\" d=\"M108.978 1237.2 Q105.367 1237.2 103.538 1240.76 Q101.733 1244.3 101.733 1251.43 Q101.733 1258.54 103.538 1262.1 Q105.367 1265.65 108.978 1265.65 Q112.612 1265.65 114.418 1262.1 Q116.246 1258.54 116.246 1251.43 Q116.246 1244.3 114.418 1240.76 Q112.612 1237.2 108.978 1237.2 M108.978 1233.49 Q114.788 1233.49 117.844 1238.1 Q120.922 1242.68 120.922 1251.43 Q120.922 1260.16 117.844 1264.77 Q114.788 1269.35 108.978 1269.35 Q103.168 1269.35 100.089 1264.77 Q97.0335 1260.16 97.0335 1251.43 Q97.0335 1242.68 100.089 1238.1 Q103.168 1233.49 108.978 1233.49 Z\" fill=\"#000000\" fill-rule=\"evenodd\" fill-opacity=\"1\" /><path clip-path=\"url(#clip180)\" d=\"M139.14 1237.2 Q135.529 1237.2 133.7 1240.76 Q131.894 1244.3 131.894 1251.43 Q131.894 1258.54 133.7 1262.1 Q135.529 1265.65 139.14 1265.65 Q142.774 1265.65 144.58 1262.1 Q146.408 1258.54 146.408 1251.43 Q146.408 1244.3 144.58 1240.76 Q142.774 1237.2 139.14 1237.2 M139.14 1233.49 Q144.95 1233.49 148.005 1238.1 Q151.084 1242.68 151.084 1251.43 Q151.084 1260.16 148.005 1264.77 Q144.95 1269.35 139.14 1269.35 Q133.33 1269.35 130.251 1264.77 Q127.195 1260.16 127.195 1251.43 Q127.195 1242.68 130.251 1238.1 Q133.33 1233.49 139.14 1233.49 Z\" fill=\"#000000\" fill-rule=\"evenodd\" fill-opacity=\"1\" /><path clip-path=\"url(#clip180)\" d=\"M187.473 1243.22 L176.894 1253.84 L187.473 1264.42 L184.718 1267.22 L174.093 1256.6 L163.468 1267.22 L160.737 1264.42 L171.292 1253.84 L160.737 1243.22 L163.468 1240.42 L174.093 1251.04 L184.718 1240.42 L187.473 1243.22 Z\" fill=\"#000000\" fill-rule=\"evenodd\" fill-opacity=\"1\" /><path clip-path=\"url(#clip180)\" d=\"M199.834 1264.74 L207.473 1264.74 L207.473 1238.38 L199.163 1240.04 L199.163 1235.79 L207.426 1234.12 L212.102 1234.12 L212.102 1264.74 L219.741 1264.74 L219.741 1268.68 L199.834 1268.68 L199.834 1264.74 Z\" fill=\"#000000\" fill-rule=\"evenodd\" fill-opacity=\"1\" /><path clip-path=\"url(#clip180)\" d=\"M239.186 1237.2 Q235.574 1237.2 233.746 1240.76 Q231.94 1244.3 231.94 1251.43 Q231.94 1258.54 233.746 1262.1 Q235.574 1265.65 239.186 1265.65 Q242.82 1265.65 244.625 1262.1 Q246.454 1258.54 246.454 1251.43 Q246.454 1244.3 244.625 1240.76 Q242.82 1237.2 239.186 1237.2 M239.186 1233.49 Q244.996 1233.49 248.051 1238.1 Q251.13 1242.68 251.13 1251.43 Q251.13 1260.16 248.051 1264.77 Q244.996 1269.35 239.186 1269.35 Q233.375 1269.35 230.297 1264.77 Q227.241 1260.16 227.241 1251.43 Q227.241 1242.68 230.297 1238.1 Q233.375 1233.49 239.186 1233.49 Z\" fill=\"#000000\" fill-rule=\"evenodd\" fill-opacity=\"1\" /><path clip-path=\"url(#clip180)\" d=\"M263.806 1216.5 L254.214 1231.49 L263.806 1231.49 L263.806 1216.5 M262.81 1213.19 L267.587 1213.19 L267.587 1231.49 L271.593 1231.49 L271.593 1234.65 L267.587 1234.65 L267.587 1241.27 L263.806 1241.27 L263.806 1234.65 L251.13 1234.65 L251.13 1230.98 L262.81 1213.19 Z\" fill=\"#000000\" fill-rule=\"evenodd\" fill-opacity=\"1\" /><path clip-path=\"url(#clip180)\" d=\"M66.5939 1037.43 L54.7884 1055.88 L66.5939 1055.88 L66.5939 1037.43 M65.367 1033.35 L71.2466 1033.35 L71.2466 1055.88 L76.1772 1055.88 L76.1772 1059.77 L71.2466 1059.77 L71.2466 1067.91 L66.5939 1067.91 L66.5939 1059.77 L50.9921 1059.77 L50.9921 1055.25 L65.367 1033.35 Z\" fill=\"#000000\" fill-rule=\"evenodd\" fill-opacity=\"1\" /><path clip-path=\"url(#clip180)\" d=\"M83.9086 1062.03 L88.7928 1062.03 L88.7928 1067.91 L83.9086 1067.91 L83.9086 1062.03 Z\" fill=\"#000000\" fill-rule=\"evenodd\" fill-opacity=\"1\" /><path clip-path=\"url(#clip180)\" d=\"M108.978 1036.43 Q105.367 1036.43 103.538 1040 Q101.733 1043.54 101.733 1050.67 Q101.733 1057.78 103.538 1061.34 Q105.367 1064.88 108.978 1064.88 Q112.612 1064.88 114.418 1061.34 Q116.246 1057.78 116.246 1050.67 Q116.246 1043.54 114.418 1040 Q112.612 1036.43 108.978 1036.43 M108.978 1032.73 Q114.788 1032.73 117.844 1037.34 Q120.922 1041.92 120.922 1050.67 Q120.922 1059.4 117.844 1064 Q114.788 1068.59 108.978 1068.59 Q103.168 1068.59 100.089 1064 Q97.0335 1059.4 97.0335 1050.67 Q97.0335 1041.92 100.089 1037.34 Q103.168 1032.73 108.978 1032.73 Z\" fill=\"#000000\" fill-rule=\"evenodd\" fill-opacity=\"1\" /><path clip-path=\"url(#clip180)\" d=\"M139.14 1036.43 Q135.529 1036.43 133.7 1040 Q131.894 1043.54 131.894 1050.67 Q131.894 1057.78 133.7 1061.34 Q135.529 1064.88 139.14 1064.88 Q142.774 1064.88 144.58 1061.34 Q146.408 1057.78 146.408 1050.67 Q146.408 1043.54 144.58 1040 Q142.774 1036.43 139.14 1036.43 M139.14 1032.73 Q144.95 1032.73 148.005 1037.34 Q151.084 1041.92 151.084 1050.67 Q151.084 1059.4 148.005 1064 Q144.95 1068.59 139.14 1068.59 Q133.33 1068.59 130.251 1064 Q127.195 1059.4 127.195 1050.67 Q127.195 1041.92 130.251 1037.34 Q133.33 1032.73 139.14 1032.73 Z\" fill=\"#000000\" fill-rule=\"evenodd\" fill-opacity=\"1\" /><path clip-path=\"url(#clip180)\" d=\"M187.473 1042.45 L176.894 1053.08 L187.473 1063.66 L184.718 1066.46 L174.093 1055.83 L163.468 1066.46 L160.737 1063.66 L171.292 1053.08 L160.737 1042.45 L163.468 1039.65 L174.093 1050.28 L184.718 1039.65 L187.473 1042.45 Z\" fill=\"#000000\" fill-rule=\"evenodd\" fill-opacity=\"1\" /><path clip-path=\"url(#clip180)\" d=\"M199.834 1063.98 L207.473 1063.98 L207.473 1037.61 L199.163 1039.28 L199.163 1035.02 L207.426 1033.35 L212.102 1033.35 L212.102 1063.98 L219.741 1063.98 L219.741 1067.91 L199.834 1067.91 L199.834 1063.98 Z\" fill=\"#000000\" fill-rule=\"evenodd\" fill-opacity=\"1\" /><path clip-path=\"url(#clip180)\" d=\"M239.186 1036.43 Q235.574 1036.43 233.746 1040 Q231.94 1043.54 231.94 1050.67 Q231.94 1057.78 233.746 1061.34 Q235.574 1064.88 239.186 1064.88 Q242.82 1064.88 244.625 1061.34 Q246.454 1057.78 246.454 1050.67 Q246.454 1043.54 244.625 1040 Q242.82 1036.43 239.186 1036.43 M239.186 1032.73 Q244.996 1032.73 248.051 1037.34 Q251.13 1041.92 251.13 1050.67 Q251.13 1059.4 248.051 1064 Q244.996 1068.59 239.186 1068.59 Q233.375 1068.59 230.297 1064 Q227.241 1059.4 227.241 1050.67 Q227.241 1041.92 230.297 1037.34 Q233.375 1032.73 239.186 1032.73 Z\" fill=\"#000000\" fill-rule=\"evenodd\" fill-opacity=\"1\" /><path clip-path=\"url(#clip180)\" d=\"M263.806 1015.73 L254.214 1030.72 L263.806 1030.72 L263.806 1015.73 M262.81 1012.42 L267.587 1012.42 L267.587 1030.72 L271.593 1030.72 L271.593 1033.88 L267.587 1033.88 L267.587 1040.5 L263.806 1040.5 L263.806 1033.88 L251.13 1033.88 L251.13 1030.22 L262.81 1012.42 Z\" fill=\"#000000\" fill-rule=\"evenodd\" fill-opacity=\"1\" /><path clip-path=\"url(#clip180)\" d=\"M64.3254 848.007 Q61.1773 848.007 59.3254 850.159 Q57.4967 852.312 57.4967 856.062 Q57.4967 859.789 59.3254 861.965 Q61.1773 864.118 64.3254 864.118 Q67.4735 864.118 69.3022 861.965 Q71.1541 859.789 71.1541 856.062 Q71.1541 852.312 69.3022 850.159 Q67.4735 848.007 64.3254 848.007 M73.6077 833.354 L73.6077 837.613 Q71.8485 836.78 70.0429 836.34 Q68.2606 835.9 66.5013 835.9 Q61.8717 835.9 59.418 839.025 Q56.9875 842.15 56.6402 848.47 Q58.006 846.456 60.0662 845.391 Q62.1263 844.303 64.6032 844.303 Q69.8115 844.303 72.8207 847.474 Q75.8531 850.622 75.8531 856.062 Q75.8531 861.386 72.705 864.604 Q69.5568 867.821 64.3254 867.821 Q58.33 867.821 55.1588 863.238 Q51.9875 858.632 51.9875 849.905 Q51.9875 841.71 55.8764 836.849 Q59.7652 831.965 66.3161 831.965 Q68.0754 831.965 69.8578 832.312 Q71.6633 832.66 73.6077 833.354 Z\" fill=\"#000000\" fill-rule=\"evenodd\" fill-opacity=\"1\" /><path clip-path=\"url(#clip180)\" d=\"M83.9086 861.271 L88.7928 861.271 L88.7928 867.15 L83.9086 867.15 L83.9086 861.271 Z\" fill=\"#000000\" fill-rule=\"evenodd\" fill-opacity=\"1\" /><path clip-path=\"url(#clip180)\" d=\"M108.978 835.669 Q105.367 835.669 103.538 839.234 Q101.733 842.775 101.733 849.905 Q101.733 857.011 103.538 860.576 Q105.367 864.118 108.978 864.118 Q112.612 864.118 114.418 860.576 Q116.246 857.011 116.246 849.905 Q116.246 842.775 114.418 839.234 Q112.612 835.669 108.978 835.669 M108.978 831.965 Q114.788 831.965 117.844 836.572 Q120.922 841.155 120.922 849.905 Q120.922 858.632 117.844 863.238 Q114.788 867.821 108.978 867.821 Q103.168 867.821 100.089 863.238 Q97.0335 858.632 97.0335 849.905 Q97.0335 841.155 100.089 836.572 Q103.168 831.965 108.978 831.965 Z\" fill=\"#000000\" fill-rule=\"evenodd\" fill-opacity=\"1\" /><path clip-path=\"url(#clip180)\" d=\"M139.14 835.669 Q135.529 835.669 133.7 839.234 Q131.894 842.775 131.894 849.905 Q131.894 857.011 133.7 860.576 Q135.529 864.118 139.14 864.118 Q142.774 864.118 144.58 860.576 Q146.408 857.011 146.408 849.905 Q146.408 842.775 144.58 839.234 Q142.774 835.669 139.14 835.669 M139.14 831.965 Q144.95 831.965 148.005 836.572 Q151.084 841.155 151.084 849.905 Q151.084 858.632 148.005 863.238 Q144.95 867.821 139.14 867.821 Q133.33 867.821 130.251 863.238 Q127.195 858.632 127.195 849.905 Q127.195 841.155 130.251 836.572 Q133.33 831.965 139.14 831.965 Z\" fill=\"#000000\" fill-rule=\"evenodd\" fill-opacity=\"1\" /><path clip-path=\"url(#clip180)\" d=\"M187.473 841.687 L176.894 852.312 L187.473 862.891 L184.718 865.692 L174.093 855.067 L163.468 865.692 L160.737 862.891 L171.292 852.312 L160.737 841.687 L163.468 838.886 L174.093 849.511 L184.718 838.886 L187.473 841.687 Z\" fill=\"#000000\" fill-rule=\"evenodd\" fill-opacity=\"1\" /><path clip-path=\"url(#clip180)\" d=\"M199.834 863.215 L207.473 863.215 L207.473 836.849 L199.163 838.516 L199.163 834.257 L207.426 832.59 L212.102 832.59 L212.102 863.215 L219.741 863.215 L219.741 867.15 L199.834 867.15 L199.834 863.215 Z\" fill=\"#000000\" fill-rule=\"evenodd\" fill-opacity=\"1\" /><path clip-path=\"url(#clip180)\" d=\"M239.186 835.669 Q235.574 835.669 233.746 839.234 Q231.94 842.775 231.94 849.905 Q231.94 857.011 233.746 860.576 Q235.574 864.118 239.186 864.118 Q242.82 864.118 244.625 860.576 Q246.454 857.011 246.454 849.905 Q246.454 842.775 244.625 839.234 Q242.82 835.669 239.186 835.669 M239.186 831.965 Q244.996 831.965 248.051 836.572 Q251.13 841.155 251.13 849.905 Q251.13 858.632 248.051 863.238 Q244.996 867.821 239.186 867.821 Q233.375 867.821 230.297 863.238 Q227.241 858.632 227.241 849.905 Q227.241 841.155 230.297 836.572 Q233.375 831.965 239.186 831.965 Z\" fill=\"#000000\" fill-rule=\"evenodd\" fill-opacity=\"1\" /><path clip-path=\"url(#clip180)\" d=\"M263.806 814.97 L254.214 829.96 L263.806 829.96 L263.806 814.97 M262.81 811.66 L267.587 811.66 L267.587 829.96 L271.593 829.96 L271.593 833.119 L267.587 833.119 L267.587 839.74 L263.806 839.74 L263.806 833.119 L251.13 833.119 L251.13 829.452 L262.81 811.66 Z\" fill=\"#000000\" fill-rule=\"evenodd\" fill-opacity=\"1\" /><path clip-path=\"url(#clip180)\" d=\"M63.7467 649.974 Q60.4134 649.974 58.4921 651.756 Q56.5939 653.539 56.5939 656.664 Q56.5939 659.789 58.4921 661.571 Q60.4134 663.353 63.7467 663.353 Q67.08 663.353 69.0013 661.571 Q70.9226 659.765 70.9226 656.664 Q70.9226 653.539 69.0013 651.756 Q67.1032 649.974 63.7467 649.974 M59.0708 647.983 Q56.0615 647.242 54.3717 645.182 Q52.7051 643.122 52.7051 640.159 Q52.7051 636.016 55.6449 633.608 Q58.6078 631.201 63.7467 631.201 Q68.9087 631.201 71.8485 633.608 Q74.7883 636.016 74.7883 640.159 Q74.7883 643.122 73.0985 645.182 Q71.4318 647.242 68.4457 647.983 Q71.8253 648.77 73.7003 651.062 Q75.5985 653.353 75.5985 656.664 Q75.5985 661.687 72.5198 664.372 Q69.4642 667.057 63.7467 667.057 Q58.0291 667.057 54.9504 664.372 Q51.8949 661.687 51.8949 656.664 Q51.8949 653.353 53.793 651.062 Q55.6912 648.77 59.0708 647.983 M57.3578 640.599 Q57.3578 643.284 59.0245 644.789 Q60.7143 646.293 63.7467 646.293 Q66.7559 646.293 68.4457 644.789 Q70.1587 643.284 70.1587 640.599 Q70.1587 637.914 68.4457 636.409 Q66.7559 634.904 63.7467 634.904 Q60.7143 634.904 59.0245 636.409 Q57.3578 637.914 57.3578 640.599 Z\" fill=\"#000000\" fill-rule=\"evenodd\" fill-opacity=\"1\" /><path clip-path=\"url(#clip180)\" d=\"M83.9086 660.506 L88.7928 660.506 L88.7928 666.386 L83.9086 666.386 L83.9086 660.506 Z\" fill=\"#000000\" fill-rule=\"evenodd\" fill-opacity=\"1\" /><path clip-path=\"url(#clip180)\" d=\"M108.978 634.904 Q105.367 634.904 103.538 638.469 Q101.733 642.011 101.733 649.14 Q101.733 656.247 103.538 659.812 Q105.367 663.353 108.978 663.353 Q112.612 663.353 114.418 659.812 Q116.246 656.247 116.246 649.14 Q116.246 642.011 114.418 638.469 Q112.612 634.904 108.978 634.904 M108.978 631.201 Q114.788 631.201 117.844 635.807 Q120.922 640.391 120.922 649.14 Q120.922 657.867 117.844 662.474 Q114.788 667.057 108.978 667.057 Q103.168 667.057 100.089 662.474 Q97.0335 657.867 97.0335 649.14 Q97.0335 640.391 100.089 635.807 Q103.168 631.201 108.978 631.201 Z\" fill=\"#000000\" fill-rule=\"evenodd\" fill-opacity=\"1\" /><path clip-path=\"url(#clip180)\" d=\"M139.14 634.904 Q135.529 634.904 133.7 638.469 Q131.894 642.011 131.894 649.14 Q131.894 656.247 133.7 659.812 Q135.529 663.353 139.14 663.353 Q142.774 663.353 144.58 659.812 Q146.408 656.247 146.408 649.14 Q146.408 642.011 144.58 638.469 Q142.774 634.904 139.14 634.904 M139.14 631.201 Q144.95 631.201 148.005 635.807 Q151.084 640.391 151.084 649.14 Q151.084 657.867 148.005 662.474 Q144.95 667.057 139.14 667.057 Q133.33 667.057 130.251 662.474 Q127.195 657.867 127.195 649.14 Q127.195 640.391 130.251 635.807 Q133.33 631.201 139.14 631.201 Z\" fill=\"#000000\" fill-rule=\"evenodd\" fill-opacity=\"1\" /><path clip-path=\"url(#clip180)\" d=\"M187.473 640.923 L176.894 651.548 L187.473 662.127 L184.718 664.927 L174.093 654.302 L163.468 664.927 L160.737 662.127 L171.292 651.548 L160.737 640.923 L163.468 638.122 L174.093 648.747 L184.718 638.122 L187.473 640.923 Z\" fill=\"#000000\" fill-rule=\"evenodd\" fill-opacity=\"1\" /><path clip-path=\"url(#clip180)\" d=\"M199.834 662.451 L207.473 662.451 L207.473 636.085 L199.163 637.752 L199.163 633.492 L207.426 631.826 L212.102 631.826 L212.102 662.451 L219.741 662.451 L219.741 666.386 L199.834 666.386 L199.834 662.451 Z\" fill=\"#000000\" fill-rule=\"evenodd\" fill-opacity=\"1\" /><path clip-path=\"url(#clip180)\" d=\"M239.186 634.904 Q235.574 634.904 233.746 638.469 Q231.94 642.011 231.94 649.14 Q231.94 656.247 233.746 659.812 Q235.574 663.353 239.186 663.353 Q242.82 663.353 244.625 659.812 Q246.454 656.247 246.454 649.14 Q246.454 642.011 244.625 638.469 Q242.82 634.904 239.186 634.904 M239.186 631.201 Q244.996 631.201 248.051 635.807 Q251.13 640.391 251.13 649.14 Q251.13 657.867 248.051 662.474 Q244.996 667.057 239.186 667.057 Q233.375 667.057 230.297 662.474 Q227.241 657.867 227.241 649.14 Q227.241 640.391 230.297 635.807 Q233.375 631.201 239.186 631.201 Z\" fill=\"#000000\" fill-rule=\"evenodd\" fill-opacity=\"1\" /><path clip-path=\"url(#clip180)\" d=\"M263.806 614.206 L254.214 629.195 L263.806 629.195 L263.806 614.206 M262.81 610.895 L267.587 610.895 L267.587 629.195 L271.593 629.195 L271.593 632.355 L267.587 632.355 L267.587 638.975 L263.806 638.975 L263.806 632.355 L251.13 632.355 L251.13 628.688 L262.81 610.895 Z\" fill=\"#000000\" fill-rule=\"evenodd\" fill-opacity=\"1\" /><path clip-path=\"url(#clip180)\" d=\"M56.8515 461.686 L64.4903 461.686 L64.4903 435.321 L56.1802 436.987 L56.1802 432.728 L64.444 431.061 L69.1199 431.061 L69.1199 461.686 L76.7588 461.686 L76.7588 465.621 L56.8515 465.621 L56.8515 461.686 Z\" fill=\"#000000\" fill-rule=\"evenodd\" fill-opacity=\"1\" /><path clip-path=\"url(#clip180)\" d=\"M86.2032 459.742 L91.0874 459.742 L91.0874 465.621 L86.2032 465.621 L86.2032 459.742 Z\" fill=\"#000000\" fill-rule=\"evenodd\" fill-opacity=\"1\" /><path clip-path=\"url(#clip180)\" d=\"M111.272 434.14 Q107.661 434.14 105.833 437.705 Q104.027 441.247 104.027 448.376 Q104.027 455.483 105.833 459.047 Q107.661 462.589 111.272 462.589 Q114.907 462.589 116.712 459.047 Q118.541 455.483 118.541 448.376 Q118.541 441.247 116.712 437.705 Q114.907 434.14 111.272 434.14 M111.272 430.436 Q117.083 430.436 120.138 435.043 Q123.217 439.626 123.217 448.376 Q123.217 457.103 120.138 461.709 Q117.083 466.293 111.272 466.293 Q105.462 466.293 102.384 461.709 Q99.3281 457.103 99.3281 448.376 Q99.3281 439.626 102.384 435.043 Q105.462 430.436 111.272 430.436 Z\" fill=\"#000000\" fill-rule=\"evenodd\" fill-opacity=\"1\" /><path clip-path=\"url(#clip180)\" d=\"M141.434 434.14 Q137.823 434.14 135.995 437.705 Q134.189 441.247 134.189 448.376 Q134.189 455.483 135.995 459.047 Q137.823 462.589 141.434 462.589 Q145.069 462.589 146.874 459.047 Q148.703 455.483 148.703 448.376 Q148.703 441.247 146.874 437.705 Q145.069 434.14 141.434 434.14 M141.434 430.436 Q147.245 430.436 150.3 435.043 Q153.379 439.626 153.379 448.376 Q153.379 457.103 150.3 461.709 Q147.245 466.293 141.434 466.293 Q135.624 466.293 132.546 461.709 Q129.49 457.103 129.49 448.376 Q129.49 439.626 132.546 435.043 Q135.624 430.436 141.434 430.436 Z\" fill=\"#000000\" fill-rule=\"evenodd\" fill-opacity=\"1\" /><path clip-path=\"url(#clip180)\" d=\"M189.767 440.159 L179.189 450.783 L189.767 461.362 L187.013 464.163 L176.388 453.538 L165.763 464.163 L163.031 461.362 L173.587 450.783 L163.031 440.159 L165.763 437.358 L176.388 447.983 L187.013 437.358 L189.767 440.159 Z\" fill=\"#000000\" fill-rule=\"evenodd\" fill-opacity=\"1\" /><path clip-path=\"url(#clip180)\" d=\"M202.128 461.686 L209.767 461.686 L209.767 435.321 L201.457 436.987 L201.457 432.728 L209.721 431.061 L214.397 431.061 L214.397 461.686 L222.036 461.686 L222.036 465.621 L202.128 465.621 L202.128 461.686 Z\" fill=\"#000000\" fill-rule=\"evenodd\" fill-opacity=\"1\" /><path clip-path=\"url(#clip180)\" d=\"M241.48 434.14 Q237.869 434.14 236.04 437.705 Q234.235 441.247 234.235 448.376 Q234.235 455.483 236.04 459.047 Q237.869 462.589 241.48 462.589 Q245.114 462.589 246.92 459.047 Q248.749 455.483 248.749 448.376 Q248.749 441.247 246.92 437.705 Q245.114 434.14 241.48 434.14 M241.48 430.436 Q247.29 430.436 250.346 435.043 Q253.424 439.626 253.424 448.376 Q253.424 457.103 250.346 461.709 Q247.29 466.293 241.48 466.293 Q235.67 466.293 232.591 461.709 Q229.536 457.103 229.536 448.376 Q229.536 439.626 232.591 435.043 Q235.67 430.436 241.48 430.436 Z\" fill=\"#000000\" fill-rule=\"evenodd\" fill-opacity=\"1\" /><path clip-path=\"url(#clip180)\" d=\"M254.609 410.131 L269.524 410.131 L269.524 413.328 L258.089 413.328 L258.089 420.212 Q258.916 419.93 259.744 419.798 Q260.571 419.648 261.399 419.648 Q266.101 419.648 268.847 422.224 Q271.593 424.801 271.593 429.202 Q271.593 433.735 268.772 436.255 Q265.95 438.756 260.816 438.756 Q259.048 438.756 257.205 438.455 Q255.38 438.155 253.424 437.553 L253.424 433.735 Q255.117 434.656 256.923 435.108 Q258.728 435.559 260.741 435.559 Q263.994 435.559 265.894 433.848 Q267.794 432.136 267.794 429.202 Q267.794 426.268 265.894 424.557 Q263.994 422.845 260.741 422.845 Q259.217 422.845 257.694 423.184 Q256.189 423.522 254.609 424.237 L254.609 410.131 Z\" fill=\"#000000\" fill-rule=\"evenodd\" fill-opacity=\"1\" /><path clip-path=\"url(#clip180)\" d=\"M56.8515 260.922 L64.4903 260.922 L64.4903 234.556 L56.1802 236.223 L56.1802 231.964 L64.444 230.297 L69.1199 230.297 L69.1199 260.922 L76.7588 260.922 L76.7588 264.857 L56.8515 264.857 L56.8515 260.922 Z\" fill=\"#000000\" fill-rule=\"evenodd\" fill-opacity=\"1\" /><path clip-path=\"url(#clip180)\" d=\"M86.2032 258.977 L91.0874 258.977 L91.0874 264.857 L86.2032 264.857 L86.2032 258.977 Z\" fill=\"#000000\" fill-rule=\"evenodd\" fill-opacity=\"1\" /><path clip-path=\"url(#clip180)\" d=\"M105.3 260.922 L121.62 260.922 L121.62 264.857 L99.6753 264.857 L99.6753 260.922 Q102.337 258.167 106.921 253.538 Q111.527 248.885 112.708 247.542 Q114.953 245.019 115.833 243.283 Q116.735 241.524 116.735 239.834 Q116.735 237.079 114.791 235.343 Q112.87 233.607 109.768 233.607 Q107.569 233.607 105.115 234.371 Q102.685 235.135 99.9068 236.686 L99.9068 231.964 Q102.731 230.829 105.185 230.251 Q107.638 229.672 109.675 229.672 Q115.046 229.672 118.24 232.357 Q121.434 235.042 121.434 239.533 Q121.434 241.663 120.624 243.584 Q119.837 245.482 117.731 248.075 Q117.152 248.746 114.05 251.964 Q110.948 255.158 105.3 260.922 Z\" fill=\"#000000\" fill-rule=\"evenodd\" fill-opacity=\"1\" /><path clip-path=\"url(#clip180)\" d=\"M141.434 233.376 Q137.823 233.376 135.995 236.94 Q134.189 240.482 134.189 247.612 Q134.189 254.718 135.995 258.283 Q137.823 261.825 141.434 261.825 Q145.069 261.825 146.874 258.283 Q148.703 254.718 148.703 247.612 Q148.703 240.482 146.874 236.94 Q145.069 233.376 141.434 233.376 M141.434 229.672 Q147.245 229.672 150.3 234.278 Q153.379 238.862 153.379 247.612 Q153.379 256.339 150.3 260.945 Q147.245 265.528 141.434 265.528 Q135.624 265.528 132.546 260.945 Q129.49 256.339 129.49 247.612 Q129.49 238.862 132.546 234.278 Q135.624 229.672 141.434 229.672 Z\" fill=\"#000000\" fill-rule=\"evenodd\" fill-opacity=\"1\" /><path clip-path=\"url(#clip180)\" d=\"M189.767 239.394 L179.189 250.019 L189.767 260.598 L187.013 263.399 L176.388 252.774 L165.763 263.399 L163.031 260.598 L173.587 250.019 L163.031 239.394 L165.763 236.593 L176.388 247.218 L187.013 236.593 L189.767 239.394 Z\" fill=\"#000000\" fill-rule=\"evenodd\" fill-opacity=\"1\" /><path clip-path=\"url(#clip180)\" d=\"M202.128 260.922 L209.767 260.922 L209.767 234.556 L201.457 236.223 L201.457 231.964 L209.721 230.297 L214.397 230.297 L214.397 260.922 L222.036 260.922 L222.036 264.857 L202.128 264.857 L202.128 260.922 Z\" fill=\"#000000\" fill-rule=\"evenodd\" fill-opacity=\"1\" /><path clip-path=\"url(#clip180)\" d=\"M241.48 233.376 Q237.869 233.376 236.04 236.94 Q234.235 240.482 234.235 247.612 Q234.235 254.718 236.04 258.283 Q237.869 261.825 241.48 261.825 Q245.114 261.825 246.92 258.283 Q248.749 254.718 248.749 247.612 Q248.749 240.482 246.92 236.94 Q245.114 233.376 241.48 233.376 M241.48 229.672 Q247.29 229.672 250.346 234.278 Q253.424 238.862 253.424 247.612 Q253.424 256.339 250.346 260.945 Q247.29 265.528 241.48 265.528 Q235.67 265.528 232.591 260.945 Q229.536 256.339 229.536 247.612 Q229.536 238.862 232.591 234.278 Q235.67 229.672 241.48 229.672 Z\" fill=\"#000000\" fill-rule=\"evenodd\" fill-opacity=\"1\" /><path clip-path=\"url(#clip180)\" d=\"M254.609 209.367 L269.524 209.367 L269.524 212.564 L258.089 212.564 L258.089 219.448 Q258.916 219.165 259.744 219.034 Q260.571 218.883 261.399 218.883 Q266.101 218.883 268.847 221.46 Q271.593 224.037 271.593 228.438 Q271.593 232.97 268.772 235.491 Q265.95 237.992 260.816 237.992 Q259.048 237.992 257.205 237.691 Q255.38 237.39 253.424 236.788 L253.424 232.97 Q255.117 233.892 256.923 234.343 Q258.728 234.795 260.741 234.795 Q263.994 234.795 265.894 233.083 Q267.794 231.372 267.794 228.438 Q267.794 225.504 265.894 223.792 Q263.994 222.081 260.741 222.081 Q259.217 222.081 257.694 222.419 Q256.189 222.758 254.609 223.472 L254.609 209.367 Z\" fill=\"#000000\" fill-rule=\"evenodd\" fill-opacity=\"1\" /><path clip-path=\"url(#clip182)\" d=\"\n",
       "M420.08 1330.5 L420.08 1445.72 L449.92 1445.72 L449.92 1330.5 L420.08 1330.5 L420.08 1330.5  Z\n",
       "  \" fill=\"#009af9\" fill-rule=\"evenodd\" fill-opacity=\"1\"/>\n",
       "<polyline clip-path=\"url(#clip182)\" style=\"stroke:#000000; stroke-linecap:butt; stroke-linejoin:round; stroke-width:4; stroke-opacity:1; fill:none\" points=\"\n",
       "  420.08,1330.5 420.08,1445.72 449.92,1445.72 449.92,1330.5 420.08,1330.5 \n",
       "  \"/>\n",
       "<path clip-path=\"url(#clip182)\" d=\"\n",
       "M449.92 1445.72 L449.92 1445.72 L479.759 1445.72 L479.759 1445.72 L449.92 1445.72 L449.92 1445.72  Z\n",
       "  \" fill=\"#009af9\" fill-rule=\"evenodd\" fill-opacity=\"1\"/>\n",
       "<polyline clip-path=\"url(#clip182)\" style=\"stroke:#000000; stroke-linecap:butt; stroke-linejoin:round; stroke-width:4; stroke-opacity:1; fill:none\" points=\"\n",
       "  449.92,1445.72 449.92,1445.72 479.759,1445.72 449.92,1445.72 \n",
       "  \"/>\n",
       "<path clip-path=\"url(#clip182)\" d=\"\n",
       "M479.759 1445.72 L479.759 1445.72 L509.598 1445.72 L509.598 1445.72 L479.759 1445.72 L479.759 1445.72  Z\n",
       "  \" fill=\"#009af9\" fill-rule=\"evenodd\" fill-opacity=\"1\"/>\n",
       "<polyline clip-path=\"url(#clip182)\" style=\"stroke:#000000; stroke-linecap:butt; stroke-linejoin:round; stroke-width:4; stroke-opacity:1; fill:none\" points=\"\n",
       "  479.759,1445.72 479.759,1445.72 509.598,1445.72 479.759,1445.72 \n",
       "  \"/>\n",
       "<path clip-path=\"url(#clip182)\" d=\"\n",
       "M509.598 1445.72 L509.598 1445.72 L539.437 1445.72 L539.437 1445.72 L509.598 1445.72 L509.598 1445.72  Z\n",
       "  \" fill=\"#009af9\" fill-rule=\"evenodd\" fill-opacity=\"1\"/>\n",
       "<polyline clip-path=\"url(#clip182)\" style=\"stroke:#000000; stroke-linecap:butt; stroke-linejoin:round; stroke-width:4; stroke-opacity:1; fill:none\" points=\"\n",
       "  509.598,1445.72 509.598,1445.72 539.437,1445.72 509.598,1445.72 \n",
       "  \"/>\n",
       "<path clip-path=\"url(#clip182)\" d=\"\n",
       "M539.437 1445.72 L539.437 1445.72 L569.276 1445.72 L569.276 1445.72 L539.437 1445.72 L539.437 1445.72  Z\n",
       "  \" fill=\"#009af9\" fill-rule=\"evenodd\" fill-opacity=\"1\"/>\n",
       "<polyline clip-path=\"url(#clip182)\" style=\"stroke:#000000; stroke-linecap:butt; stroke-linejoin:round; stroke-width:4; stroke-opacity:1; fill:none\" points=\"\n",
       "  539.437,1445.72 539.437,1445.72 569.276,1445.72 539.437,1445.72 \n",
       "  \"/>\n",
       "<path clip-path=\"url(#clip182)\" d=\"\n",
       "M569.276 1445.72 L569.276 1445.72 L599.115 1445.72 L599.115 1445.72 L569.276 1445.72 L569.276 1445.72  Z\n",
       "  \" fill=\"#009af9\" fill-rule=\"evenodd\" fill-opacity=\"1\"/>\n",
       "<polyline clip-path=\"url(#clip182)\" style=\"stroke:#000000; stroke-linecap:butt; stroke-linejoin:round; stroke-width:4; stroke-opacity:1; fill:none\" points=\"\n",
       "  569.276,1445.72 569.276,1445.72 599.115,1445.72 569.276,1445.72 \n",
       "  \"/>\n",
       "<path clip-path=\"url(#clip182)\" d=\"\n",
       "M599.115 1445.72 L599.115 1445.72 L628.954 1445.72 L628.954 1445.72 L599.115 1445.72 L599.115 1445.72  Z\n",
       "  \" fill=\"#009af9\" fill-rule=\"evenodd\" fill-opacity=\"1\"/>\n",
       "<polyline clip-path=\"url(#clip182)\" style=\"stroke:#000000; stroke-linecap:butt; stroke-linejoin:round; stroke-width:4; stroke-opacity:1; fill:none\" points=\"\n",
       "  599.115,1445.72 599.115,1445.72 628.954,1445.72 599.115,1445.72 \n",
       "  \"/>\n",
       "<path clip-path=\"url(#clip182)\" d=\"\n",
       "M628.954 1445.72 L628.954 1445.72 L658.794 1445.72 L658.794 1445.72 L628.954 1445.72 L628.954 1445.72  Z\n",
       "  \" fill=\"#009af9\" fill-rule=\"evenodd\" fill-opacity=\"1\"/>\n",
       "<polyline clip-path=\"url(#clip182)\" style=\"stroke:#000000; stroke-linecap:butt; stroke-linejoin:round; stroke-width:4; stroke-opacity:1; fill:none\" points=\"\n",
       "  628.954,1445.72 628.954,1445.72 658.794,1445.72 628.954,1445.72 \n",
       "  \"/>\n",
       "<path clip-path=\"url(#clip182)\" d=\"\n",
       "M658.794 1445.72 L658.794 1445.72 L688.633 1445.72 L688.633 1445.72 L658.794 1445.72 L658.794 1445.72  Z\n",
       "  \" fill=\"#009af9\" fill-rule=\"evenodd\" fill-opacity=\"1\"/>\n",
       "<polyline clip-path=\"url(#clip182)\" style=\"stroke:#000000; stroke-linecap:butt; stroke-linejoin:round; stroke-width:4; stroke-opacity:1; fill:none\" points=\"\n",
       "  658.794,1445.72 658.794,1445.72 688.633,1445.72 658.794,1445.72 \n",
       "  \"/>\n",
       "<path clip-path=\"url(#clip182)\" d=\"\n",
       "M688.633 1445.72 L688.633 1445.72 L718.472 1445.72 L718.472 1445.72 L688.633 1445.72 L688.633 1445.72  Z\n",
       "  \" fill=\"#009af9\" fill-rule=\"evenodd\" fill-opacity=\"1\"/>\n",
       "<polyline clip-path=\"url(#clip182)\" style=\"stroke:#000000; stroke-linecap:butt; stroke-linejoin:round; stroke-width:4; stroke-opacity:1; fill:none\" points=\"\n",
       "  688.633,1445.72 688.633,1445.72 718.472,1445.72 688.633,1445.72 \n",
       "  \"/>\n",
       "<path clip-path=\"url(#clip182)\" d=\"\n",
       "M718.472 1445.72 L718.472 1445.72 L748.311 1445.72 L748.311 1445.72 L718.472 1445.72 L718.472 1445.72  Z\n",
       "  \" fill=\"#009af9\" fill-rule=\"evenodd\" fill-opacity=\"1\"/>\n",
       "<polyline clip-path=\"url(#clip182)\" style=\"stroke:#000000; stroke-linecap:butt; stroke-linejoin:round; stroke-width:4; stroke-opacity:1; fill:none\" points=\"\n",
       "  718.472,1445.72 718.472,1445.72 748.311,1445.72 718.472,1445.72 \n",
       "  \"/>\n",
       "<path clip-path=\"url(#clip182)\" d=\"\n",
       "M748.311 1445.72 L748.311 1445.72 L778.15 1445.72 L778.15 1445.72 L748.311 1445.72 L748.311 1445.72  Z\n",
       "  \" fill=\"#009af9\" fill-rule=\"evenodd\" fill-opacity=\"1\"/>\n",
       "<polyline clip-path=\"url(#clip182)\" style=\"stroke:#000000; stroke-linecap:butt; stroke-linejoin:round; stroke-width:4; stroke-opacity:1; fill:none\" points=\"\n",
       "  748.311,1445.72 748.311,1445.72 778.15,1445.72 748.311,1445.72 \n",
       "  \"/>\n",
       "<path clip-path=\"url(#clip182)\" d=\"\n",
       "M778.15 1445.72 L778.15 1445.72 L807.989 1445.72 L807.989 1445.72 L778.15 1445.72 L778.15 1445.72  Z\n",
       "  \" fill=\"#009af9\" fill-rule=\"evenodd\" fill-opacity=\"1\"/>\n",
       "<polyline clip-path=\"url(#clip182)\" style=\"stroke:#000000; stroke-linecap:butt; stroke-linejoin:round; stroke-width:4; stroke-opacity:1; fill:none\" points=\"\n",
       "  778.15,1445.72 778.15,1445.72 807.989,1445.72 778.15,1445.72 \n",
       "  \"/>\n",
       "<path clip-path=\"url(#clip182)\" d=\"\n",
       "M807.989 1445.72 L807.989 1445.72 L837.828 1445.72 L837.828 1445.72 L807.989 1445.72 L807.989 1445.72  Z\n",
       "  \" fill=\"#009af9\" fill-rule=\"evenodd\" fill-opacity=\"1\"/>\n",
       "<polyline clip-path=\"url(#clip182)\" style=\"stroke:#000000; stroke-linecap:butt; stroke-linejoin:round; stroke-width:4; stroke-opacity:1; fill:none\" points=\"\n",
       "  807.989,1445.72 807.989,1445.72 837.828,1445.72 807.989,1445.72 \n",
       "  \"/>\n",
       "<path clip-path=\"url(#clip182)\" d=\"\n",
       "M837.828 1445.72 L837.828 1445.72 L867.668 1445.72 L867.668 1445.72 L837.828 1445.72 L837.828 1445.72  Z\n",
       "  \" fill=\"#009af9\" fill-rule=\"evenodd\" fill-opacity=\"1\"/>\n",
       "<polyline clip-path=\"url(#clip182)\" style=\"stroke:#000000; stroke-linecap:butt; stroke-linejoin:round; stroke-width:4; stroke-opacity:1; fill:none\" points=\"\n",
       "  837.828,1445.72 837.828,1445.72 867.668,1445.72 837.828,1445.72 \n",
       "  \"/>\n",
       "<path clip-path=\"url(#clip182)\" d=\"\n",
       "M867.668 1445.72 L867.668 1445.72 L897.507 1445.72 L897.507 1445.72 L867.668 1445.72 L867.668 1445.72  Z\n",
       "  \" fill=\"#009af9\" fill-rule=\"evenodd\" fill-opacity=\"1\"/>\n",
       "<polyline clip-path=\"url(#clip182)\" style=\"stroke:#000000; stroke-linecap:butt; stroke-linejoin:round; stroke-width:4; stroke-opacity:1; fill:none\" points=\"\n",
       "  867.668,1445.72 867.668,1445.72 897.507,1445.72 867.668,1445.72 \n",
       "  \"/>\n",
       "<path clip-path=\"url(#clip182)\" d=\"\n",
       "M897.507 1445.72 L897.507 1445.72 L927.346 1445.72 L927.346 1445.72 L897.507 1445.72 L897.507 1445.72  Z\n",
       "  \" fill=\"#009af9\" fill-rule=\"evenodd\" fill-opacity=\"1\"/>\n",
       "<polyline clip-path=\"url(#clip182)\" style=\"stroke:#000000; stroke-linecap:butt; stroke-linejoin:round; stroke-width:4; stroke-opacity:1; fill:none\" points=\"\n",
       "  897.507,1445.72 897.507,1445.72 927.346,1445.72 897.507,1445.72 \n",
       "  \"/>\n",
       "<path clip-path=\"url(#clip182)\" d=\"\n",
       "M927.346 1445.72 L927.346 1445.72 L957.185 1445.72 L957.185 1445.72 L927.346 1445.72 L927.346 1445.72  Z\n",
       "  \" fill=\"#009af9\" fill-rule=\"evenodd\" fill-opacity=\"1\"/>\n",
       "<polyline clip-path=\"url(#clip182)\" style=\"stroke:#000000; stroke-linecap:butt; stroke-linejoin:round; stroke-width:4; stroke-opacity:1; fill:none\" points=\"\n",
       "  927.346,1445.72 927.346,1445.72 957.185,1445.72 927.346,1445.72 \n",
       "  \"/>\n",
       "<path clip-path=\"url(#clip182)\" d=\"\n",
       "M957.185 1445.72 L957.185 1445.72 L987.024 1445.72 L987.024 1445.72 L957.185 1445.72 L957.185 1445.72  Z\n",
       "  \" fill=\"#009af9\" fill-rule=\"evenodd\" fill-opacity=\"1\"/>\n",
       "<polyline clip-path=\"url(#clip182)\" style=\"stroke:#000000; stroke-linecap:butt; stroke-linejoin:round; stroke-width:4; stroke-opacity:1; fill:none\" points=\"\n",
       "  957.185,1445.72 957.185,1445.72 987.024,1445.72 957.185,1445.72 \n",
       "  \"/>\n",
       "<path clip-path=\"url(#clip182)\" d=\"\n",
       "M987.024 1445.72 L987.024 1445.72 L1016.86 1445.72 L1016.86 1445.72 L987.024 1445.72 L987.024 1445.72  Z\n",
       "  \" fill=\"#009af9\" fill-rule=\"evenodd\" fill-opacity=\"1\"/>\n",
       "<polyline clip-path=\"url(#clip182)\" style=\"stroke:#000000; stroke-linecap:butt; stroke-linejoin:round; stroke-width:4; stroke-opacity:1; fill:none\" points=\"\n",
       "  987.024,1445.72 987.024,1445.72 1016.86,1445.72 987.024,1445.72 \n",
       "  \"/>\n",
       "<path clip-path=\"url(#clip182)\" d=\"\n",
       "M1016.86 87.9763 L1016.86 1445.72 L1046.7 1445.72 L1046.7 87.9763 L1016.86 87.9763 L1016.86 87.9763  Z\n",
       "  \" fill=\"#009af9\" fill-rule=\"evenodd\" fill-opacity=\"1\"/>\n",
       "<polyline clip-path=\"url(#clip182)\" style=\"stroke:#000000; stroke-linecap:butt; stroke-linejoin:round; stroke-width:4; stroke-opacity:1; fill:none\" points=\"\n",
       "  1016.86,87.9763 1016.86,1445.72 1046.7,1445.72 1046.7,87.9763 1016.86,87.9763 \n",
       "  \"/>\n",
       "<path clip-path=\"url(#clip182)\" d=\"\n",
       "M1046.7 1445.72 L1046.7 1445.72 L1076.54 1445.72 L1076.54 1445.72 L1046.7 1445.72 L1046.7 1445.72  Z\n",
       "  \" fill=\"#009af9\" fill-rule=\"evenodd\" fill-opacity=\"1\"/>\n",
       "<polyline clip-path=\"url(#clip182)\" style=\"stroke:#000000; stroke-linecap:butt; stroke-linejoin:round; stroke-width:4; stroke-opacity:1; fill:none\" points=\"\n",
       "  1046.7,1445.72 1046.7,1445.72 1076.54,1445.72 1046.7,1445.72 \n",
       "  \"/>\n",
       "<path clip-path=\"url(#clip182)\" d=\"\n",
       "M1076.54 1445.72 L1076.54 1445.72 L1106.38 1445.72 L1106.38 1445.72 L1076.54 1445.72 L1076.54 1445.72  Z\n",
       "  \" fill=\"#009af9\" fill-rule=\"evenodd\" fill-opacity=\"1\"/>\n",
       "<polyline clip-path=\"url(#clip182)\" style=\"stroke:#000000; stroke-linecap:butt; stroke-linejoin:round; stroke-width:4; stroke-opacity:1; fill:none\" points=\"\n",
       "  1076.54,1445.72 1076.54,1445.72 1106.38,1445.72 1076.54,1445.72 \n",
       "  \"/>\n",
       "<path clip-path=\"url(#clip182)\" d=\"\n",
       "M1106.38 1445.72 L1106.38 1445.72 L1136.22 1445.72 L1136.22 1445.72 L1106.38 1445.72 L1106.38 1445.72  Z\n",
       "  \" fill=\"#009af9\" fill-rule=\"evenodd\" fill-opacity=\"1\"/>\n",
       "<polyline clip-path=\"url(#clip182)\" style=\"stroke:#000000; stroke-linecap:butt; stroke-linejoin:round; stroke-width:4; stroke-opacity:1; fill:none\" points=\"\n",
       "  1106.38,1445.72 1106.38,1445.72 1136.22,1445.72 1106.38,1445.72 \n",
       "  \"/>\n",
       "<path clip-path=\"url(#clip182)\" d=\"\n",
       "M1136.22 1445.72 L1136.22 1445.72 L1166.06 1445.72 L1166.06 1445.72 L1136.22 1445.72 L1136.22 1445.72  Z\n",
       "  \" fill=\"#009af9\" fill-rule=\"evenodd\" fill-opacity=\"1\"/>\n",
       "<polyline clip-path=\"url(#clip182)\" style=\"stroke:#000000; stroke-linecap:butt; stroke-linejoin:round; stroke-width:4; stroke-opacity:1; fill:none\" points=\"\n",
       "  1136.22,1445.72 1136.22,1445.72 1166.06,1445.72 1136.22,1445.72 \n",
       "  \"/>\n",
       "<path clip-path=\"url(#clip182)\" d=\"\n",
       "M1166.06 1445.72 L1166.06 1445.72 L1195.9 1445.72 L1195.9 1445.72 L1166.06 1445.72 L1166.06 1445.72  Z\n",
       "  \" fill=\"#009af9\" fill-rule=\"evenodd\" fill-opacity=\"1\"/>\n",
       "<polyline clip-path=\"url(#clip182)\" style=\"stroke:#000000; stroke-linecap:butt; stroke-linejoin:round; stroke-width:4; stroke-opacity:1; fill:none\" points=\"\n",
       "  1166.06,1445.72 1166.06,1445.72 1195.9,1445.72 1166.06,1445.72 \n",
       "  \"/>\n",
       "<path clip-path=\"url(#clip182)\" d=\"\n",
       "M1195.9 1445.72 L1195.9 1445.72 L1225.74 1445.72 L1225.74 1445.72 L1195.9 1445.72 L1195.9 1445.72  Z\n",
       "  \" fill=\"#009af9\" fill-rule=\"evenodd\" fill-opacity=\"1\"/>\n",
       "<polyline clip-path=\"url(#clip182)\" style=\"stroke:#000000; stroke-linecap:butt; stroke-linejoin:round; stroke-width:4; stroke-opacity:1; fill:none\" points=\"\n",
       "  1195.9,1445.72 1195.9,1445.72 1225.74,1445.72 1195.9,1445.72 \n",
       "  \"/>\n",
       "<path clip-path=\"url(#clip182)\" d=\"\n",
       "M1225.74 1445.72 L1225.74 1445.72 L1255.58 1445.72 L1255.58 1445.72 L1225.74 1445.72 L1225.74 1445.72  Z\n",
       "  \" fill=\"#009af9\" fill-rule=\"evenodd\" fill-opacity=\"1\"/>\n",
       "<polyline clip-path=\"url(#clip182)\" style=\"stroke:#000000; stroke-linecap:butt; stroke-linejoin:round; stroke-width:4; stroke-opacity:1; fill:none\" points=\"\n",
       "  1225.74,1445.72 1225.74,1445.72 1255.58,1445.72 1225.74,1445.72 \n",
       "  \"/>\n",
       "<path clip-path=\"url(#clip182)\" d=\"\n",
       "M1255.58 1445.72 L1255.58 1445.72 L1285.42 1445.72 L1285.42 1445.72 L1255.58 1445.72 L1255.58 1445.72  Z\n",
       "  \" fill=\"#009af9\" fill-rule=\"evenodd\" fill-opacity=\"1\"/>\n",
       "<polyline clip-path=\"url(#clip182)\" style=\"stroke:#000000; stroke-linecap:butt; stroke-linejoin:round; stroke-width:4; stroke-opacity:1; fill:none\" points=\"\n",
       "  1255.58,1445.72 1255.58,1445.72 1285.42,1445.72 1255.58,1445.72 \n",
       "  \"/>\n",
       "<path clip-path=\"url(#clip182)\" d=\"\n",
       "M1285.42 1445.72 L1285.42 1445.72 L1315.25 1445.72 L1315.25 1445.72 L1285.42 1445.72 L1285.42 1445.72  Z\n",
       "  \" fill=\"#009af9\" fill-rule=\"evenodd\" fill-opacity=\"1\"/>\n",
       "<polyline clip-path=\"url(#clip182)\" style=\"stroke:#000000; stroke-linecap:butt; stroke-linejoin:round; stroke-width:4; stroke-opacity:1; fill:none\" points=\"\n",
       "  1285.42,1445.72 1285.42,1445.72 1315.25,1445.72 1285.42,1445.72 \n",
       "  \"/>\n",
       "<path clip-path=\"url(#clip182)\" d=\"\n",
       "M1315.25 1445.72 L1315.25 1445.72 L1345.09 1445.72 L1345.09 1445.72 L1315.25 1445.72 L1315.25 1445.72  Z\n",
       "  \" fill=\"#009af9\" fill-rule=\"evenodd\" fill-opacity=\"1\"/>\n",
       "<polyline clip-path=\"url(#clip182)\" style=\"stroke:#000000; stroke-linecap:butt; stroke-linejoin:round; stroke-width:4; stroke-opacity:1; fill:none\" points=\"\n",
       "  1315.25,1445.72 1315.25,1445.72 1345.09,1445.72 1315.25,1445.72 \n",
       "  \"/>\n",
       "<path clip-path=\"url(#clip182)\" d=\"\n",
       "M1345.09 1445.72 L1345.09 1445.72 L1374.93 1445.72 L1374.93 1445.72 L1345.09 1445.72 L1345.09 1445.72  Z\n",
       "  \" fill=\"#009af9\" fill-rule=\"evenodd\" fill-opacity=\"1\"/>\n",
       "<polyline clip-path=\"url(#clip182)\" style=\"stroke:#000000; stroke-linecap:butt; stroke-linejoin:round; stroke-width:4; stroke-opacity:1; fill:none\" points=\"\n",
       "  1345.09,1445.72 1345.09,1445.72 1374.93,1445.72 1345.09,1445.72 \n",
       "  \"/>\n",
       "<path clip-path=\"url(#clip182)\" d=\"\n",
       "M1374.93 1445.72 L1374.93 1445.72 L1404.77 1445.72 L1404.77 1445.72 L1374.93 1445.72 L1374.93 1445.72  Z\n",
       "  \" fill=\"#009af9\" fill-rule=\"evenodd\" fill-opacity=\"1\"/>\n",
       "<polyline clip-path=\"url(#clip182)\" style=\"stroke:#000000; stroke-linecap:butt; stroke-linejoin:round; stroke-width:4; stroke-opacity:1; fill:none\" points=\"\n",
       "  1374.93,1445.72 1374.93,1445.72 1404.77,1445.72 1374.93,1445.72 \n",
       "  \"/>\n",
       "<path clip-path=\"url(#clip182)\" d=\"\n",
       "M1404.77 1445.72 L1404.77 1445.72 L1434.61 1445.72 L1434.61 1445.72 L1404.77 1445.72 L1404.77 1445.72  Z\n",
       "  \" fill=\"#009af9\" fill-rule=\"evenodd\" fill-opacity=\"1\"/>\n",
       "<polyline clip-path=\"url(#clip182)\" style=\"stroke:#000000; stroke-linecap:butt; stroke-linejoin:round; stroke-width:4; stroke-opacity:1; fill:none\" points=\"\n",
       "  1404.77,1445.72 1404.77,1445.72 1434.61,1445.72 1404.77,1445.72 \n",
       "  \"/>\n",
       "<path clip-path=\"url(#clip182)\" d=\"\n",
       "M1434.61 1445.72 L1434.61 1445.72 L1464.45 1445.72 L1464.45 1445.72 L1434.61 1445.72 L1434.61 1445.72  Z\n",
       "  \" fill=\"#009af9\" fill-rule=\"evenodd\" fill-opacity=\"1\"/>\n",
       "<polyline clip-path=\"url(#clip182)\" style=\"stroke:#000000; stroke-linecap:butt; stroke-linejoin:round; stroke-width:4; stroke-opacity:1; fill:none\" points=\"\n",
       "  1434.61,1445.72 1434.61,1445.72 1464.45,1445.72 1434.61,1445.72 \n",
       "  \"/>\n",
       "<path clip-path=\"url(#clip182)\" d=\"\n",
       "M1464.45 1445.72 L1464.45 1445.72 L1494.29 1445.72 L1494.29 1445.72 L1464.45 1445.72 L1464.45 1445.72  Z\n",
       "  \" fill=\"#009af9\" fill-rule=\"evenodd\" fill-opacity=\"1\"/>\n",
       "<polyline clip-path=\"url(#clip182)\" style=\"stroke:#000000; stroke-linecap:butt; stroke-linejoin:round; stroke-width:4; stroke-opacity:1; fill:none\" points=\"\n",
       "  1464.45,1445.72 1464.45,1445.72 1494.29,1445.72 1464.45,1445.72 \n",
       "  \"/>\n",
       "<path clip-path=\"url(#clip182)\" d=\"\n",
       "M1494.29 1445.72 L1494.29 1445.72 L1524.13 1445.72 L1524.13 1445.72 L1494.29 1445.72 L1494.29 1445.72  Z\n",
       "  \" fill=\"#009af9\" fill-rule=\"evenodd\" fill-opacity=\"1\"/>\n",
       "<polyline clip-path=\"url(#clip182)\" style=\"stroke:#000000; stroke-linecap:butt; stroke-linejoin:round; stroke-width:4; stroke-opacity:1; fill:none\" points=\"\n",
       "  1494.29,1445.72 1494.29,1445.72 1524.13,1445.72 1494.29,1445.72 \n",
       "  \"/>\n",
       "<path clip-path=\"url(#clip182)\" d=\"\n",
       "M1524.13 1445.72 L1524.13 1445.72 L1553.97 1445.72 L1553.97 1445.72 L1524.13 1445.72 L1524.13 1445.72  Z\n",
       "  \" fill=\"#009af9\" fill-rule=\"evenodd\" fill-opacity=\"1\"/>\n",
       "<polyline clip-path=\"url(#clip182)\" style=\"stroke:#000000; stroke-linecap:butt; stroke-linejoin:round; stroke-width:4; stroke-opacity:1; fill:none\" points=\"\n",
       "  1524.13,1445.72 1524.13,1445.72 1553.97,1445.72 1524.13,1445.72 \n",
       "  \"/>\n",
       "<path clip-path=\"url(#clip182)\" d=\"\n",
       "M1553.97 1445.72 L1553.97 1445.72 L1583.81 1445.72 L1583.81 1445.72 L1553.97 1445.72 L1553.97 1445.72  Z\n",
       "  \" fill=\"#009af9\" fill-rule=\"evenodd\" fill-opacity=\"1\"/>\n",
       "<polyline clip-path=\"url(#clip182)\" style=\"stroke:#000000; stroke-linecap:butt; stroke-linejoin:round; stroke-width:4; stroke-opacity:1; fill:none\" points=\"\n",
       "  1553.97,1445.72 1553.97,1445.72 1583.81,1445.72 1553.97,1445.72 \n",
       "  \"/>\n",
       "<path clip-path=\"url(#clip182)\" d=\"\n",
       "M1583.81 1445.72 L1583.81 1445.72 L1613.65 1445.72 L1613.65 1445.72 L1583.81 1445.72 L1583.81 1445.72  Z\n",
       "  \" fill=\"#009af9\" fill-rule=\"evenodd\" fill-opacity=\"1\"/>\n",
       "<polyline clip-path=\"url(#clip182)\" style=\"stroke:#000000; stroke-linecap:butt; stroke-linejoin:round; stroke-width:4; stroke-opacity:1; fill:none\" points=\"\n",
       "  1583.81,1445.72 1583.81,1445.72 1613.65,1445.72 1583.81,1445.72 \n",
       "  \"/>\n",
       "<path clip-path=\"url(#clip182)\" d=\"\n",
       "M1613.65 1335.01 L1613.65 1445.72 L1643.49 1445.72 L1643.49 1335.01 L1613.65 1335.01 L1613.65 1335.01  Z\n",
       "  \" fill=\"#009af9\" fill-rule=\"evenodd\" fill-opacity=\"1\"/>\n",
       "<polyline clip-path=\"url(#clip182)\" style=\"stroke:#000000; stroke-linecap:butt; stroke-linejoin:round; stroke-width:4; stroke-opacity:1; fill:none\" points=\"\n",
       "  1613.65,1335.01 1613.65,1445.72 1643.49,1445.72 1643.49,1335.01 1613.65,1335.01 \n",
       "  \"/>\n",
       "<path clip-path=\"url(#clip182)\" d=\"\n",
       "M1643.49 1445.72 L1643.49 1445.72 L1673.32 1445.72 L1673.32 1445.72 L1643.49 1445.72 L1643.49 1445.72  Z\n",
       "  \" fill=\"#009af9\" fill-rule=\"evenodd\" fill-opacity=\"1\"/>\n",
       "<polyline clip-path=\"url(#clip182)\" style=\"stroke:#000000; stroke-linecap:butt; stroke-linejoin:round; stroke-width:4; stroke-opacity:1; fill:none\" points=\"\n",
       "  1643.49,1445.72 1643.49,1445.72 1673.32,1445.72 1643.49,1445.72 \n",
       "  \"/>\n",
       "<path clip-path=\"url(#clip182)\" d=\"\n",
       "M1673.32 1445.72 L1673.32 1445.72 L1703.16 1445.72 L1703.16 1445.72 L1673.32 1445.72 L1673.32 1445.72  Z\n",
       "  \" fill=\"#009af9\" fill-rule=\"evenodd\" fill-opacity=\"1\"/>\n",
       "<polyline clip-path=\"url(#clip182)\" style=\"stroke:#000000; stroke-linecap:butt; stroke-linejoin:round; stroke-width:4; stroke-opacity:1; fill:none\" points=\"\n",
       "  1673.32,1445.72 1673.32,1445.72 1703.16,1445.72 1673.32,1445.72 \n",
       "  \"/>\n",
       "<path clip-path=\"url(#clip182)\" d=\"\n",
       "M1703.16 1445.72 L1703.16 1445.72 L1733 1445.72 L1733 1445.72 L1703.16 1445.72 L1703.16 1445.72  Z\n",
       "  \" fill=\"#009af9\" fill-rule=\"evenodd\" fill-opacity=\"1\"/>\n",
       "<polyline clip-path=\"url(#clip182)\" style=\"stroke:#000000; stroke-linecap:butt; stroke-linejoin:round; stroke-width:4; stroke-opacity:1; fill:none\" points=\"\n",
       "  1703.16,1445.72 1703.16,1445.72 1733,1445.72 1703.16,1445.72 \n",
       "  \"/>\n",
       "<path clip-path=\"url(#clip182)\" d=\"\n",
       "M1733 1445.72 L1733 1445.72 L1762.84 1445.72 L1762.84 1445.72 L1733 1445.72 L1733 1445.72  Z\n",
       "  \" fill=\"#009af9\" fill-rule=\"evenodd\" fill-opacity=\"1\"/>\n",
       "<polyline clip-path=\"url(#clip182)\" style=\"stroke:#000000; stroke-linecap:butt; stroke-linejoin:round; stroke-width:4; stroke-opacity:1; fill:none\" points=\"\n",
       "  1733,1445.72 1733,1445.72 1762.84,1445.72 1733,1445.72 \n",
       "  \"/>\n",
       "<path clip-path=\"url(#clip182)\" d=\"\n",
       "M1762.84 1445.72 L1762.84 1445.72 L1792.68 1445.72 L1792.68 1445.72 L1762.84 1445.72 L1762.84 1445.72  Z\n",
       "  \" fill=\"#009af9\" fill-rule=\"evenodd\" fill-opacity=\"1\"/>\n",
       "<polyline clip-path=\"url(#clip182)\" style=\"stroke:#000000; stroke-linecap:butt; stroke-linejoin:round; stroke-width:4; stroke-opacity:1; fill:none\" points=\"\n",
       "  1762.84,1445.72 1762.84,1445.72 1792.68,1445.72 1762.84,1445.72 \n",
       "  \"/>\n",
       "<path clip-path=\"url(#clip182)\" d=\"\n",
       "M1792.68 1445.72 L1792.68 1445.72 L1822.52 1445.72 L1822.52 1445.72 L1792.68 1445.72 L1792.68 1445.72  Z\n",
       "  \" fill=\"#009af9\" fill-rule=\"evenodd\" fill-opacity=\"1\"/>\n",
       "<polyline clip-path=\"url(#clip182)\" style=\"stroke:#000000; stroke-linecap:butt; stroke-linejoin:round; stroke-width:4; stroke-opacity:1; fill:none\" points=\"\n",
       "  1792.68,1445.72 1792.68,1445.72 1822.52,1445.72 1792.68,1445.72 \n",
       "  \"/>\n",
       "<path clip-path=\"url(#clip182)\" d=\"\n",
       "M1822.52 1445.72 L1822.52 1445.72 L1852.36 1445.72 L1852.36 1445.72 L1822.52 1445.72 L1822.52 1445.72  Z\n",
       "  \" fill=\"#009af9\" fill-rule=\"evenodd\" fill-opacity=\"1\"/>\n",
       "<polyline clip-path=\"url(#clip182)\" style=\"stroke:#000000; stroke-linecap:butt; stroke-linejoin:round; stroke-width:4; stroke-opacity:1; fill:none\" points=\"\n",
       "  1822.52,1445.72 1822.52,1445.72 1852.36,1445.72 1822.52,1445.72 \n",
       "  \"/>\n",
       "<path clip-path=\"url(#clip182)\" d=\"\n",
       "M1852.36 1445.72 L1852.36 1445.72 L1882.2 1445.72 L1882.2 1445.72 L1852.36 1445.72 L1852.36 1445.72  Z\n",
       "  \" fill=\"#009af9\" fill-rule=\"evenodd\" fill-opacity=\"1\"/>\n",
       "<polyline clip-path=\"url(#clip182)\" style=\"stroke:#000000; stroke-linecap:butt; stroke-linejoin:round; stroke-width:4; stroke-opacity:1; fill:none\" points=\"\n",
       "  1852.36,1445.72 1852.36,1445.72 1882.2,1445.72 1852.36,1445.72 \n",
       "  \"/>\n",
       "<path clip-path=\"url(#clip182)\" d=\"\n",
       "M1882.2 1445.72 L1882.2 1445.72 L1912.04 1445.72 L1912.04 1445.72 L1882.2 1445.72 L1882.2 1445.72  Z\n",
       "  \" fill=\"#009af9\" fill-rule=\"evenodd\" fill-opacity=\"1\"/>\n",
       "<polyline clip-path=\"url(#clip182)\" style=\"stroke:#000000; stroke-linecap:butt; stroke-linejoin:round; stroke-width:4; stroke-opacity:1; fill:none\" points=\"\n",
       "  1882.2,1445.72 1882.2,1445.72 1912.04,1445.72 1882.2,1445.72 \n",
       "  \"/>\n",
       "<path clip-path=\"url(#clip182)\" d=\"\n",
       "M1912.04 1445.72 L1912.04 1445.72 L1941.88 1445.72 L1941.88 1445.72 L1912.04 1445.72 L1912.04 1445.72  Z\n",
       "  \" fill=\"#009af9\" fill-rule=\"evenodd\" fill-opacity=\"1\"/>\n",
       "<polyline clip-path=\"url(#clip182)\" style=\"stroke:#000000; stroke-linecap:butt; stroke-linejoin:round; stroke-width:4; stroke-opacity:1; fill:none\" points=\"\n",
       "  1912.04,1445.72 1912.04,1445.72 1941.88,1445.72 1912.04,1445.72 \n",
       "  \"/>\n",
       "<path clip-path=\"url(#clip182)\" d=\"\n",
       "M1941.88 1445.72 L1941.88 1445.72 L1971.72 1445.72 L1971.72 1445.72 L1941.88 1445.72 L1941.88 1445.72  Z\n",
       "  \" fill=\"#009af9\" fill-rule=\"evenodd\" fill-opacity=\"1\"/>\n",
       "<polyline clip-path=\"url(#clip182)\" style=\"stroke:#000000; stroke-linecap:butt; stroke-linejoin:round; stroke-width:4; stroke-opacity:1; fill:none\" points=\"\n",
       "  1941.88,1445.72 1941.88,1445.72 1971.72,1445.72 1941.88,1445.72 \n",
       "  \"/>\n",
       "<path clip-path=\"url(#clip182)\" d=\"\n",
       "M1971.72 1445.72 L1971.72 1445.72 L2001.56 1445.72 L2001.56 1445.72 L1971.72 1445.72 L1971.72 1445.72  Z\n",
       "  \" fill=\"#009af9\" fill-rule=\"evenodd\" fill-opacity=\"1\"/>\n",
       "<polyline clip-path=\"url(#clip182)\" style=\"stroke:#000000; stroke-linecap:butt; stroke-linejoin:round; stroke-width:4; stroke-opacity:1; fill:none\" points=\"\n",
       "  1971.72,1445.72 1971.72,1445.72 2001.56,1445.72 1971.72,1445.72 \n",
       "  \"/>\n",
       "<path clip-path=\"url(#clip182)\" d=\"\n",
       "M2001.56 1445.72 L2001.56 1445.72 L2031.39 1445.72 L2031.39 1445.72 L2001.56 1445.72 L2001.56 1445.72  Z\n",
       "  \" fill=\"#009af9\" fill-rule=\"evenodd\" fill-opacity=\"1\"/>\n",
       "<polyline clip-path=\"url(#clip182)\" style=\"stroke:#000000; stroke-linecap:butt; stroke-linejoin:round; stroke-width:4; stroke-opacity:1; fill:none\" points=\"\n",
       "  2001.56,1445.72 2001.56,1445.72 2031.39,1445.72 2001.56,1445.72 \n",
       "  \"/>\n",
       "<path clip-path=\"url(#clip182)\" d=\"\n",
       "M2031.39 1445.72 L2031.39 1445.72 L2061.23 1445.72 L2061.23 1445.72 L2031.39 1445.72 L2031.39 1445.72  Z\n",
       "  \" fill=\"#009af9\" fill-rule=\"evenodd\" fill-opacity=\"1\"/>\n",
       "<polyline clip-path=\"url(#clip182)\" style=\"stroke:#000000; stroke-linecap:butt; stroke-linejoin:round; stroke-width:4; stroke-opacity:1; fill:none\" points=\"\n",
       "  2031.39,1445.72 2031.39,1445.72 2061.23,1445.72 2031.39,1445.72 \n",
       "  \"/>\n",
       "<path clip-path=\"url(#clip182)\" d=\"\n",
       "M2061.23 1445.72 L2061.23 1445.72 L2091.07 1445.72 L2091.07 1445.72 L2061.23 1445.72 L2061.23 1445.72  Z\n",
       "  \" fill=\"#009af9\" fill-rule=\"evenodd\" fill-opacity=\"1\"/>\n",
       "<polyline clip-path=\"url(#clip182)\" style=\"stroke:#000000; stroke-linecap:butt; stroke-linejoin:round; stroke-width:4; stroke-opacity:1; fill:none\" points=\"\n",
       "  2061.23,1445.72 2061.23,1445.72 2091.07,1445.72 2061.23,1445.72 \n",
       "  \"/>\n",
       "<path clip-path=\"url(#clip182)\" d=\"\n",
       "M2091.07 1445.72 L2091.07 1445.72 L2120.91 1445.72 L2120.91 1445.72 L2091.07 1445.72 L2091.07 1445.72  Z\n",
       "  \" fill=\"#009af9\" fill-rule=\"evenodd\" fill-opacity=\"1\"/>\n",
       "<polyline clip-path=\"url(#clip182)\" style=\"stroke:#000000; stroke-linecap:butt; stroke-linejoin:round; stroke-width:4; stroke-opacity:1; fill:none\" points=\"\n",
       "  2091.07,1445.72 2091.07,1445.72 2120.91,1445.72 2091.07,1445.72 \n",
       "  \"/>\n",
       "<path clip-path=\"url(#clip182)\" d=\"\n",
       "M2120.91 1445.72 L2120.91 1445.72 L2150.75 1445.72 L2150.75 1445.72 L2120.91 1445.72 L2120.91 1445.72  Z\n",
       "  \" fill=\"#009af9\" fill-rule=\"evenodd\" fill-opacity=\"1\"/>\n",
       "<polyline clip-path=\"url(#clip182)\" style=\"stroke:#000000; stroke-linecap:butt; stroke-linejoin:round; stroke-width:4; stroke-opacity:1; fill:none\" points=\"\n",
       "  2120.91,1445.72 2120.91,1445.72 2150.75,1445.72 2120.91,1445.72 \n",
       "  \"/>\n",
       "<path clip-path=\"url(#clip182)\" d=\"\n",
       "M2150.75 1445.72 L2150.75 1445.72 L2180.59 1445.72 L2180.59 1445.72 L2150.75 1445.72 L2150.75 1445.72  Z\n",
       "  \" fill=\"#009af9\" fill-rule=\"evenodd\" fill-opacity=\"1\"/>\n",
       "<polyline clip-path=\"url(#clip182)\" style=\"stroke:#000000; stroke-linecap:butt; stroke-linejoin:round; stroke-width:4; stroke-opacity:1; fill:none\" points=\"\n",
       "  2150.75,1445.72 2150.75,1445.72 2180.59,1445.72 2150.75,1445.72 \n",
       "  \"/>\n",
       "<path clip-path=\"url(#clip182)\" d=\"\n",
       "M2180.59 1445.72 L2180.59 1445.72 L2210.43 1445.72 L2210.43 1445.72 L2180.59 1445.72 L2180.59 1445.72  Z\n",
       "  \" fill=\"#009af9\" fill-rule=\"evenodd\" fill-opacity=\"1\"/>\n",
       "<polyline clip-path=\"url(#clip182)\" style=\"stroke:#000000; stroke-linecap:butt; stroke-linejoin:round; stroke-width:4; stroke-opacity:1; fill:none\" points=\"\n",
       "  2180.59,1445.72 2180.59,1445.72 2210.43,1445.72 2180.59,1445.72 \n",
       "  \"/>\n",
       "<path clip-path=\"url(#clip182)\" d=\"\n",
       "M2210.43 1445.34 L2210.43 1445.72 L2240.27 1445.72 L2240.27 1445.34 L2210.43 1445.34 L2210.43 1445.34  Z\n",
       "  \" fill=\"#009af9\" fill-rule=\"evenodd\" fill-opacity=\"1\"/>\n",
       "<polyline clip-path=\"url(#clip182)\" style=\"stroke:#000000; stroke-linecap:butt; stroke-linejoin:round; stroke-width:4; stroke-opacity:1; fill:none\" points=\"\n",
       "  2210.43,1445.34 2210.43,1445.72 2240.27,1445.72 2240.27,1445.34 2210.43,1445.34 \n",
       "  \"/>\n",
       "<circle clip-path=\"url(#clip182)\" style=\"fill:#009af9; stroke:none; fill-opacity:0\" cx=\"435\" cy=\"1330.5\" r=\"2\"/>\n",
       "<circle clip-path=\"url(#clip182)\" style=\"fill:#009af9; stroke:none; fill-opacity:0\" cx=\"464.839\" cy=\"1445.72\" r=\"2\"/>\n",
       "<circle clip-path=\"url(#clip182)\" style=\"fill:#009af9; stroke:none; fill-opacity:0\" cx=\"494.678\" cy=\"1445.72\" r=\"2\"/>\n",
       "<circle clip-path=\"url(#clip182)\" style=\"fill:#009af9; stroke:none; fill-opacity:0\" cx=\"524.517\" cy=\"1445.72\" r=\"2\"/>\n",
       "<circle clip-path=\"url(#clip182)\" style=\"fill:#009af9; stroke:none; fill-opacity:0\" cx=\"554.357\" cy=\"1445.72\" r=\"2\"/>\n",
       "<circle clip-path=\"url(#clip182)\" style=\"fill:#009af9; stroke:none; fill-opacity:0\" cx=\"584.196\" cy=\"1445.72\" r=\"2\"/>\n",
       "<circle clip-path=\"url(#clip182)\" style=\"fill:#009af9; stroke:none; fill-opacity:0\" cx=\"614.035\" cy=\"1445.72\" r=\"2\"/>\n",
       "<circle clip-path=\"url(#clip182)\" style=\"fill:#009af9; stroke:none; fill-opacity:0\" cx=\"643.874\" cy=\"1445.72\" r=\"2\"/>\n",
       "<circle clip-path=\"url(#clip182)\" style=\"fill:#009af9; stroke:none; fill-opacity:0\" cx=\"673.713\" cy=\"1445.72\" r=\"2\"/>\n",
       "<circle clip-path=\"url(#clip182)\" style=\"fill:#009af9; stroke:none; fill-opacity:0\" cx=\"703.552\" cy=\"1445.72\" r=\"2\"/>\n",
       "<circle clip-path=\"url(#clip182)\" style=\"fill:#009af9; stroke:none; fill-opacity:0\" cx=\"733.391\" cy=\"1445.72\" r=\"2\"/>\n",
       "<circle clip-path=\"url(#clip182)\" style=\"fill:#009af9; stroke:none; fill-opacity:0\" cx=\"763.231\" cy=\"1445.72\" r=\"2\"/>\n",
       "<circle clip-path=\"url(#clip182)\" style=\"fill:#009af9; stroke:none; fill-opacity:0\" cx=\"793.07\" cy=\"1445.72\" r=\"2\"/>\n",
       "<circle clip-path=\"url(#clip182)\" style=\"fill:#009af9; stroke:none; fill-opacity:0\" cx=\"822.909\" cy=\"1445.72\" r=\"2\"/>\n",
       "<circle clip-path=\"url(#clip182)\" style=\"fill:#009af9; stroke:none; fill-opacity:0\" cx=\"852.748\" cy=\"1445.72\" r=\"2\"/>\n",
       "<circle clip-path=\"url(#clip182)\" style=\"fill:#009af9; stroke:none; fill-opacity:0\" cx=\"882.587\" cy=\"1445.72\" r=\"2\"/>\n",
       "<circle clip-path=\"url(#clip182)\" style=\"fill:#009af9; stroke:none; fill-opacity:0\" cx=\"912.426\" cy=\"1445.72\" r=\"2\"/>\n",
       "<circle clip-path=\"url(#clip182)\" style=\"fill:#009af9; stroke:none; fill-opacity:0\" cx=\"942.265\" cy=\"1445.72\" r=\"2\"/>\n",
       "<circle clip-path=\"url(#clip182)\" style=\"fill:#009af9; stroke:none; fill-opacity:0\" cx=\"972.105\" cy=\"1445.72\" r=\"2\"/>\n",
       "<circle clip-path=\"url(#clip182)\" style=\"fill:#009af9; stroke:none; fill-opacity:0\" cx=\"1001.94\" cy=\"1445.72\" r=\"2\"/>\n",
       "<circle clip-path=\"url(#clip182)\" style=\"fill:#009af9; stroke:none; fill-opacity:0\" cx=\"1031.78\" cy=\"87.9763\" r=\"2\"/>\n",
       "<circle clip-path=\"url(#clip182)\" style=\"fill:#009af9; stroke:none; fill-opacity:0\" cx=\"1061.62\" cy=\"1445.72\" r=\"2\"/>\n",
       "<circle clip-path=\"url(#clip182)\" style=\"fill:#009af9; stroke:none; fill-opacity:0\" cx=\"1091.46\" cy=\"1445.72\" r=\"2\"/>\n",
       "<circle clip-path=\"url(#clip182)\" style=\"fill:#009af9; stroke:none; fill-opacity:0\" cx=\"1121.3\" cy=\"1445.72\" r=\"2\"/>\n",
       "<circle clip-path=\"url(#clip182)\" style=\"fill:#009af9; stroke:none; fill-opacity:0\" cx=\"1151.14\" cy=\"1445.72\" r=\"2\"/>\n",
       "<circle clip-path=\"url(#clip182)\" style=\"fill:#009af9; stroke:none; fill-opacity:0\" cx=\"1180.98\" cy=\"1445.72\" r=\"2\"/>\n",
       "<circle clip-path=\"url(#clip182)\" style=\"fill:#009af9; stroke:none; fill-opacity:0\" cx=\"1210.82\" cy=\"1445.72\" r=\"2\"/>\n",
       "<circle clip-path=\"url(#clip182)\" style=\"fill:#009af9; stroke:none; fill-opacity:0\" cx=\"1240.66\" cy=\"1445.72\" r=\"2\"/>\n",
       "<circle clip-path=\"url(#clip182)\" style=\"fill:#009af9; stroke:none; fill-opacity:0\" cx=\"1270.5\" cy=\"1445.72\" r=\"2\"/>\n",
       "<circle clip-path=\"url(#clip182)\" style=\"fill:#009af9; stroke:none; fill-opacity:0\" cx=\"1300.34\" cy=\"1445.72\" r=\"2\"/>\n",
       "<circle clip-path=\"url(#clip182)\" style=\"fill:#009af9; stroke:none; fill-opacity:0\" cx=\"1330.17\" cy=\"1445.72\" r=\"2\"/>\n",
       "<circle clip-path=\"url(#clip182)\" style=\"fill:#009af9; stroke:none; fill-opacity:0\" cx=\"1360.01\" cy=\"1445.72\" r=\"2\"/>\n",
       "<circle clip-path=\"url(#clip182)\" style=\"fill:#009af9; stroke:none; fill-opacity:0\" cx=\"1389.85\" cy=\"1445.72\" r=\"2\"/>\n",
       "<circle clip-path=\"url(#clip182)\" style=\"fill:#009af9; stroke:none; fill-opacity:0\" cx=\"1419.69\" cy=\"1445.72\" r=\"2\"/>\n",
       "<circle clip-path=\"url(#clip182)\" style=\"fill:#009af9; stroke:none; fill-opacity:0\" cx=\"1449.53\" cy=\"1445.72\" r=\"2\"/>\n",
       "<circle clip-path=\"url(#clip182)\" style=\"fill:#009af9; stroke:none; fill-opacity:0\" cx=\"1479.37\" cy=\"1445.72\" r=\"2\"/>\n",
       "<circle clip-path=\"url(#clip182)\" style=\"fill:#009af9; stroke:none; fill-opacity:0\" cx=\"1509.21\" cy=\"1445.72\" r=\"2\"/>\n",
       "<circle clip-path=\"url(#clip182)\" style=\"fill:#009af9; stroke:none; fill-opacity:0\" cx=\"1539.05\" cy=\"1445.72\" r=\"2\"/>\n",
       "<circle clip-path=\"url(#clip182)\" style=\"fill:#009af9; stroke:none; fill-opacity:0\" cx=\"1568.89\" cy=\"1445.72\" r=\"2\"/>\n",
       "<circle clip-path=\"url(#clip182)\" style=\"fill:#009af9; stroke:none; fill-opacity:0\" cx=\"1598.73\" cy=\"1445.72\" r=\"2\"/>\n",
       "<circle clip-path=\"url(#clip182)\" style=\"fill:#009af9; stroke:none; fill-opacity:0\" cx=\"1628.57\" cy=\"1335.01\" r=\"2\"/>\n",
       "<circle clip-path=\"url(#clip182)\" style=\"fill:#009af9; stroke:none; fill-opacity:0\" cx=\"1658.4\" cy=\"1445.72\" r=\"2\"/>\n",
       "<circle clip-path=\"url(#clip182)\" style=\"fill:#009af9; stroke:none; fill-opacity:0\" cx=\"1688.24\" cy=\"1445.72\" r=\"2\"/>\n",
       "<circle clip-path=\"url(#clip182)\" style=\"fill:#009af9; stroke:none; fill-opacity:0\" cx=\"1718.08\" cy=\"1445.72\" r=\"2\"/>\n",
       "<circle clip-path=\"url(#clip182)\" style=\"fill:#009af9; stroke:none; fill-opacity:0\" cx=\"1747.92\" cy=\"1445.72\" r=\"2\"/>\n",
       "<circle clip-path=\"url(#clip182)\" style=\"fill:#009af9; stroke:none; fill-opacity:0\" cx=\"1777.76\" cy=\"1445.72\" r=\"2\"/>\n",
       "<circle clip-path=\"url(#clip182)\" style=\"fill:#009af9; stroke:none; fill-opacity:0\" cx=\"1807.6\" cy=\"1445.72\" r=\"2\"/>\n",
       "<circle clip-path=\"url(#clip182)\" style=\"fill:#009af9; stroke:none; fill-opacity:0\" cx=\"1837.44\" cy=\"1445.72\" r=\"2\"/>\n",
       "<circle clip-path=\"url(#clip182)\" style=\"fill:#009af9; stroke:none; fill-opacity:0\" cx=\"1867.28\" cy=\"1445.72\" r=\"2\"/>\n",
       "<circle clip-path=\"url(#clip182)\" style=\"fill:#009af9; stroke:none; fill-opacity:0\" cx=\"1897.12\" cy=\"1445.72\" r=\"2\"/>\n",
       "<circle clip-path=\"url(#clip182)\" style=\"fill:#009af9; stroke:none; fill-opacity:0\" cx=\"1926.96\" cy=\"1445.72\" r=\"2\"/>\n",
       "<circle clip-path=\"url(#clip182)\" style=\"fill:#009af9; stroke:none; fill-opacity:0\" cx=\"1956.8\" cy=\"1445.72\" r=\"2\"/>\n",
       "<circle clip-path=\"url(#clip182)\" style=\"fill:#009af9; stroke:none; fill-opacity:0\" cx=\"1986.64\" cy=\"1445.72\" r=\"2\"/>\n",
       "<circle clip-path=\"url(#clip182)\" style=\"fill:#009af9; stroke:none; fill-opacity:0\" cx=\"2016.47\" cy=\"1445.72\" r=\"2\"/>\n",
       "<circle clip-path=\"url(#clip182)\" style=\"fill:#009af9; stroke:none; fill-opacity:0\" cx=\"2046.31\" cy=\"1445.72\" r=\"2\"/>\n",
       "<circle clip-path=\"url(#clip182)\" style=\"fill:#009af9; stroke:none; fill-opacity:0\" cx=\"2076.15\" cy=\"1445.72\" r=\"2\"/>\n",
       "<circle clip-path=\"url(#clip182)\" style=\"fill:#009af9; stroke:none; fill-opacity:0\" cx=\"2105.99\" cy=\"1445.72\" r=\"2\"/>\n",
       "<circle clip-path=\"url(#clip182)\" style=\"fill:#009af9; stroke:none; fill-opacity:0\" cx=\"2135.83\" cy=\"1445.72\" r=\"2\"/>\n",
       "<circle clip-path=\"url(#clip182)\" style=\"fill:#009af9; stroke:none; fill-opacity:0\" cx=\"2165.67\" cy=\"1445.72\" r=\"2\"/>\n",
       "<circle clip-path=\"url(#clip182)\" style=\"fill:#009af9; stroke:none; fill-opacity:0\" cx=\"2195.51\" cy=\"1445.72\" r=\"2\"/>\n",
       "<circle clip-path=\"url(#clip182)\" style=\"fill:#009af9; stroke:none; fill-opacity:0\" cx=\"2225.35\" cy=\"1445.34\" r=\"2\"/>\n",
       "<path clip-path=\"url(#clip180)\" d=\"\n",
       "M2004.91 198.898 L2284.58 198.898 L2284.58 95.2176 L2004.91 95.2176  Z\n",
       "  \" fill=\"#ffffff\" fill-rule=\"evenodd\" fill-opacity=\"1\"/>\n",
       "<polyline clip-path=\"url(#clip180)\" style=\"stroke:#000000; stroke-linecap:butt; stroke-linejoin:round; stroke-width:4; stroke-opacity:1; fill:none\" points=\"\n",
       "  2004.91,198.898 2284.58,198.898 2284.58,95.2176 2004.91,95.2176 2004.91,198.898 \n",
       "  \"/>\n",
       "<path clip-path=\"url(#clip180)\" d=\"\n",
       "M2027.64 167.794 L2163.98 167.794 L2163.98 126.322 L2027.64 126.322 L2027.64 167.794  Z\n",
       "  \" fill=\"#009af9\" fill-rule=\"evenodd\" fill-opacity=\"1\"/>\n",
       "<polyline clip-path=\"url(#clip180)\" style=\"stroke:#000000; stroke-linecap:butt; stroke-linejoin:round; stroke-width:4; stroke-opacity:1; fill:none\" points=\"\n",
       "  2027.64,167.794 2163.98,167.794 2163.98,126.322 2027.64,126.322 2027.64,167.794 \n",
       "  \"/>\n",
       "<path clip-path=\"url(#clip180)\" d=\"M2200.55 166.745 Q2198.74 171.375 2197.03 172.787 Q2195.32 174.199 2192.45 174.199 L2189.04 174.199 L2189.04 170.634 L2191.54 170.634 Q2193.3 170.634 2194.27 169.8 Q2195.25 168.967 2196.43 165.865 L2197.19 163.921 L2186.71 138.412 L2191.22 138.412 L2199.32 158.689 L2207.42 138.412 L2211.94 138.412 L2200.55 166.745 Z\" fill=\"#000000\" fill-rule=\"evenodd\" fill-opacity=\"1\" /><path clip-path=\"url(#clip180)\" d=\"M2219.23 160.402 L2226.87 160.402 L2226.87 134.037 L2218.56 135.703 L2218.56 131.444 L2226.82 129.778 L2231.5 129.778 L2231.5 160.402 L2239.14 160.402 L2239.14 164.338 L2219.23 164.338 L2219.23 160.402 Z\" fill=\"#000000\" fill-rule=\"evenodd\" fill-opacity=\"1\" /></svg>\n"
      ]
     },
     "execution_count": 15,
     "metadata": {},
     "output_type": "execute_result"
    }
   ],
   "source": [
    "histogram(cns_pred .- cns_true)"
   ]
  },
  {
   "cell_type": "markdown",
   "metadata": {},
   "source": [
    "### Final optimization\n",
    "- Maximize transmission (< 95%)\n",
    "- Output energy should be 70 KeV (0.070 MeV)\n",
    "- Minimize RFQ length\n",
    "- Minimize longitudinal emittance\n",
    "- Minimize transverse emittance"
   ]
  },
  {
   "cell_type": "code",
   "execution_count": 29,
   "metadata": {},
   "outputs": [
    {
     "data": {
      "text/plain": [
       "objective3 (generic function with 1 method)"
      ]
     },
     "execution_count": 29,
     "metadata": {},
     "output_type": "execute_result"
    }
   ],
   "source": [
    "function objective3(x_vec)\n",
    "    y = predict(x_vec)\n",
    "    target_energy_scaled = transform(y_scalers[\"OBJ2\"], 0.070)[1]\n",
    "    [-y[1], (y[2] - target_energy_scaled)^2, y[3], y[4], y[5], y[6]]\n",
    "end"
   ]
  },
  {
   "cell_type": "code",
   "execution_count": 30,
   "metadata": {},
   "outputs": [],
   "source": [
    "x3s = [sample for sample in initial_samples_with_cellnumber];\n",
    "x3s = unique(x3s)\n",
    "y3s = objective3.(x3s);"
   ]
  },
  {
   "cell_type": "code",
   "execution_count": 32,
   "metadata": {},
   "outputs": [
    {
     "data": {
      "text/plain": [
       "(::RadialBasis{Surrogates.var\"#1#2\", Int64, Vector{NTuple{15, Float64}}, Vector{Vector{Float64}}, Vector{Float64}, Vector{Float64}, Matrix{Float64}, Float64, Bool}) (generic function with 1 method)"
      ]
     },
     "execution_count": 32,
     "metadata": {},
     "output_type": "execute_result"
    }
   ],
   "source": [
    "if length(x3s) != length(unique(x3s))\n",
    "    print(\"Duplicate entries in x3\")\n",
    "end\n",
    "if length(x3s) != length(y3s)\n",
    "    print(\"Dimension mismatch between x3 and y\")\n",
    "end\n",
    "radial_basis_ego_3 = RadialBasis(x3s, y3s, repeat([-1.], 15), repeat([1.], 15))"
   ]
  },
  {
   "cell_type": "code",
   "execution_count": 35,
   "metadata": {},
   "outputs": [],
   "source": [
    "pareto_set_3, pareto_front_3 = surrogate_optimize(\n",
    "    objective3, SMB(), repeat([-1.], 15), repeat([1.], 15), radial_basis_ego_3, SobolSample();\n",
    "    maxiters = 100, n_new_look = 100\n",
    ");"
   ]
  },
  {
   "cell_type": "code",
   "execution_count": 36,
   "metadata": {},
   "outputs": [
    {
     "data": {
      "text/plain": [
       "6-element Vector{Vector{Float64}}:\n",
       " [63.90773682744614, 95.11441217259939, 96.00102484509253, 78.4978539172133, 65.2214162844422, 74.94593354046272, 68.68760943475563, 76.77794719654288, 55.812625647163635, 72.73669134311868  …  54.33054144506285, 57.09682906729952, 97.02513730213025, 55.953655258266835, 67.0458079807602, 57.54955260320244, 54.98440742731742, 61.45785754439095, 54.57009492883476, 58.518338893434866]\n",
       " [0.19417073157308737, 1.6312522980583302, 2.2373417092635286, 1.4948699694607173, 2.12485302304525, 1.2837304426223062, 1.2883649540256248, 0.8504104991332044, 0.36155244760090177, 0.47797529744472605  …  0.2817110047843377, 1.7295394315714017, 2.3685681959719265, 0.28152524163144316, 1.1520891861621052, 2.2483050440176204, 2.002347973583141, 2.1457874424614216, 2.352763212970679, 2.6793586564423095]\n",
       " [0.060235249562297505, 0.06265204024141866, 0.06813862999109634, 0.07302493411459171, 0.061572085727646386, 0.05714624606834008, 0.07465697899062922, 0.05991215051003009, 0.06771259508220309, 0.07265572474098092  …  0.07085479990604, 0.06088398097426988, 0.07403572639927286, 0.07674334319038537, 0.05703746585176429, 0.0664241392246194, 0.07326922665765655, 0.07339840132665916, 0.0676732742808756, 0.07487386279735073]\n",
       " [0.08726881431011568, 0.06065531906377483, 0.049280795156763424, 0.03878322228688108, 0.037889222017675306, 0.04517215155854609, 0.0361123216526279, 0.054196370070019664, 0.05188434870565201, 0.09053347504522823  …  0.0643547102500717, 0.01974342692853432, 0.056465547953523154, 0.08480989703637162, 0.08917147465061123, 0.032422188935754576, 0.018745152790021584, 0.04309870662819315, 0.03317031055337766, 0.0199810437007625]\n",
       " [0.032769294494609275, 0.039663466232400996, 0.025944679471193388, 0.024035991068840076, 0.02088823480661014, 0.023669777525711894, 0.026994611800127875, 0.024878863585954935, 0.0247206621634168, 0.026352525139768018  …  0.025467886714984247, 0.023799270038436713, 0.038614796021517434, 0.033763299820865934, 0.05917757484303621, 0.025933629204303612, 0.021463270306863146, 0.022774461084633296, 0.02035742780566675, 0.022412892602145552]\n",
       " [0.033981570724995656, 0.02973692345528296, 0.034579374186802826, 0.0317808447180475, 0.02632575749844534, 0.03390423319042188, 0.02324311150317629, 0.036395699802994466, 0.02115255300973163, 0.03148094648722429  …  0.035527967277871754, 0.029318517221502194, 0.031019937154670375, 0.025370141633986702, 0.05636908139231477, 0.024102219036517658, 0.0230403086154686, 0.023951895321752573, 0.025041325431387273, 0.025682414143968865]"
      ]
     },
     "execution_count": 36,
     "metadata": {},
     "output_type": "execute_result"
    }
   ],
   "source": [
    "obj1_3 = [inverse_transform(y_scalers[\"OBJ1\"], -item[1])[1] for item in pareto_front_3];\n",
    "dE_3 = [item[2] for item in pareto_front_3];\n",
    "obj3_3 = [inverse_transform(y_scalers[\"OBJ3\"], item[3])[1] for item in pareto_front_3];\n",
    "obj4_3 = [inverse_transform(y_scalers[\"OBJ4\"], item[4])[1] for item in pareto_front_3];\n",
    "obj5_3 = [inverse_transform(y_scalers[\"OBJ5\"], item[5])[1] for item in pareto_front_3];\n",
    "obj6_3 = [inverse_transform(y_scalers[\"OBJ6\"], item[6])[1] for item in pareto_front_3];\n",
    "\n",
    "unscaled_pareto_front_3 = [obj1_3, dE_3, obj3_3, obj4_3, obj5_3, obj6_3]"
   ]
  },
  {
   "cell_type": "code",
   "execution_count": 37,
   "metadata": {},
   "outputs": [
    {
     "data": {
      "text/plain": [
       "6"
      ]
     },
     "execution_count": 37,
     "metadata": {},
     "output_type": "execute_result"
    }
   ],
   "source": [
    "emit_cutoff = 0.04\n",
    "long_emit_mask = obj4_3 .< emit_cutoff; trans_emit_mask = obj5_3 .< emit_cutoff;\n",
    "\n",
    "\n",
    "transmission_cutoff = 90\n",
    "high_transmission_mask = obj1_3 .> 90\n",
    "\n",
    "sum(long_emit_mask .& trans_emit_mask .& high_transmission_mask)"
   ]
  },
  {
   "cell_type": "code",
   "execution_count": 38,
   "metadata": {},
   "outputs": [
    {
     "data": {
      "text/plain": [
       "6-element Vector{Int64}:\n",
       " 111\n",
       " 168\n",
       " 261\n",
       " 303\n",
       " 332\n",
       " 353"
      ]
     },
     "execution_count": 38,
     "metadata": {},
     "output_type": "execute_result"
    }
   ],
   "source": [
    "candidates = [i for i in 1:length(obj1_3)][long_emit_mask .& trans_emit_mask .& high_transmission_mask]"
   ]
  },
  {
   "cell_type": "code",
   "execution_count": 59,
   "metadata": {},
   "outputs": [
    {
     "name": "stdout",
     "output_type": "stream",
     "text": [
      "[0.7679930472923572 0.3380752670733307 -0.45640557252933145 -0.8362856137674357 -0.7435289543839798 -0.7734108778689787]\n",
      "[0.7866750186403212 0.3188235154034012 -0.4554849642937827 -0.826415742873267 -0.8345830277685841 -0.6575148567804928]\n"
     ]
    }
   ],
   "source": [
    "test_x_transformed = minmaxscale(\n",
    "    decorr([\n",
    "        11.312972997315228, 103.74379149079323, 149.3844627470438,\n",
    "        1.4468421232886612, 1.5137411917386079, 140.85678020119667,\n",
    "        473.1951289474964, -50.19836366921663, -43.642034931217914,\n",
    "        245.1396713256836, 245.14222234487534, 1.8956206666091737,\n",
    "        -37.693693497970166, 0.06037112592457561,\n",
    "    ]);\n",
    "    var=\"x\"\n",
    ")\n",
    "\n",
    "println(predict((test_x_transformed..., 0.)))\n",
    "println(predict((test_x_transformed..., 1.)))"
   ]
  },
  {
   "cell_type": "code",
   "execution_count": 39,
   "metadata": {},
   "outputs": [
    {
     "name": "stdout",
     "output_type": "stream",
     "text": [
      "candidate 111\n",
      "Any[11.312972997315228, 103.74379149079323, 149.3844627470438, 1.4468421232886612, 1.5137411917386079, 140.85678020119667, 473.1951289474964, -50.19836366921663, -43.642034931217914, 245.1396713256836, 245.14222234487534, 1.8956206666091737, -37.693693497970166, 0.06037112592457561]\n",
      "OBJ1: 95.28683161814637\n",
      "OBJ2: 2.809695989088585\n",
      "OBJ3: 0.06304837006663246\n",
      "OBJ4: 0.03855834786956841\n",
      "OBJ5: 0.024661802831386033\n",
      "OBJ6: 0.03333013285786453\n",
      " \n",
      "candidate 168\n",
      "Any[9.146016827784479, 64.984718054533, 76.2309538327026, 1.505210397299379, 1.790983624151413, 159.37423488497734, 287.04686722159386, -49.37874283641577, -44.208072484098636, 446.882479429245, 415.69542080163956, 1.9007704867739823, -38.63378069219178, 0.07181638060865225]\n",
      "OBJ1: 95.79925478867364\n",
      "OBJ2: 1.6381989708262623\n",
      "OBJ3: 0.06562014177207598\n",
      "OBJ4: 0.03444770569187049\n",
      "OBJ5: 0.028652583536487843\n",
      "OBJ6: 0.023653367517351667\n",
      " \n",
      "candidate 261\n",
      "Any[9.544203568715602, 125.43041591346264, 136.066503835052, 1.1370151804294437, 1.794641098681046, 227.35278563201427, 98.21846036612988, -61.292517084628344, -56.895034531228134, 452.9737477898598, 481.2365784943104, 1.902825253115568, -54.27672572999676, 0.06333009535228484]\n",
      "OBJ1: 91.4215332385524\n",
      "OBJ2: 1.198990699702173\n",
      "OBJ3: 0.0673340957500527\n",
      "OBJ4: 0.0347922178407194\n",
      "OBJ5: 0.032938081500117115\n",
      "OBJ6: 0.03621809898557891\n",
      " \n",
      "candidate 303\n",
      "Any[11.157458004076034, 77.97032599151134, 141.04285836967284, 1.4356435590889305, 1.5605427037644148, 153.2829668968916, 133.30399660766125, -73.93809564784169, -67.01661951023787, 441.2785125374794, 274.62356093525887, 1.8994020755277843, -60.53794672420554, 0.061611354034539545]\n",
      "OBJ1: 96.72706093126311\n",
      "OBJ2: 1.0058668668615598\n",
      "OBJ3: 0.06295983550035636\n",
      "OBJ4: 0.03929911995050303\n",
      "OBJ5: 0.03496871329779753\n",
      "OBJ6: 0.029022575911075175\n",
      " \n",
      "candidate 332\n",
      "Any[11.66330897109583, 18.381546422839165, 64.17898479553801, 1.2483221215661615, 1.4828425749530958, 471.00350515544415, 291.1889096945524, -34.36211829259992, -31.074738876837912, 404.24360090494156, 194.7072050869465, 1.5818879028100388, -28.243796378062168, 0.061533229429187486]\n",
      "OBJ1: 98.87124673142453\n",
      "OBJ2: 2.8540531486376475\n",
      "OBJ3: 0.07819670630053123\n",
      "OBJ4: 0.039885431731440955\n",
      "OBJ5: 0.036800687417015886\n",
      "OBJ6: 0.02959902647826307\n",
      " \n",
      "candidate 353\n",
      "Any[11.253159538377076, 51.076275035738945, 73.29769355747236, 1.2428925146814436, 1.387828901609222, 85.06076543033123, 388.6487325876951, -32.95705400779843, -29.532472328722342, 330.1737776398659, 112.84166982769966, 1.6329984394664039, -25.277679665064202, 0.06606445653960691]\n",
      "OBJ1: 90.54376034374172\n",
      "OBJ2: 2.223464904394245\n",
      "OBJ3: 0.06170126317578673\n",
      "OBJ4: 0.03637148279888943\n",
      "OBJ5: 0.02244051077362702\n",
      "OBJ6: 0.031448467115827855\n",
      " \n"
     ]
    }
   ],
   "source": [
    "for j in candidates\n",
    "    println(\"candidate $j\")\n",
    "    candidate_dvars = minmaxscale(pareto_set_3[j]; var=\"x\", inverse=true)\n",
    "    println(recorr(candidate_dvars))\n",
    "    for i in 1:6\n",
    "        println(\"OBJ$i: \", unscaled_pareto_front_3[i][j])\n",
    "    end\n",
    "    println(\" \")\n",
    "end"
   ]
  },
  {
   "cell_type": "markdown",
   "metadata": {},
   "source": [
    "Clearly, `138` is the winner."
   ]
  },
  {
   "cell_type": "code",
   "execution_count": 41,
   "metadata": {},
   "outputs": [
    {
     "data": {
      "text/plain": [
       "(9.14601474441588, 64.9847204387188, 0.014658961890745559)"
      ]
     },
     "execution_count": 41,
     "metadata": {},
     "output_type": "execute_result"
    }
   ],
   "source": [
    "candidate_dvars[[1, 2, 3]]"
   ]
  },
  {
   "cell_type": "code",
   "execution_count": 121,
   "metadata": {},
   "outputs": [
    {
     "data": {
      "text/plain": [
       "plot_pairwise_scatter (generic function with 3 methods)"
      ]
     },
     "execution_count": 121,
     "metadata": {},
     "output_type": "execute_result"
    }
   ],
   "source": [
    "function plot_pairwise_scatter(vec1, vec2, vec1label, vec2label, indexes, winner_index, incl_xticks, incl_yticks)\n",
    "    loser_indexes = [i for i in indexes if i != winner_index]\n",
    "    \n",
    "    \n",
    "    scatter(\n",
    "        [vec1[i] for i in loser_indexes], [vec2[i] for i in loser_indexes];\n",
    "        xlabel=vec1label, ylabel=vec2label, legend=false, markersize=3, markerstrokewidth=0.5,\n",
    "        xformatter = incl_xticks ? :auto : Returns(\"\"), yformatter = incl_yticks ? :auto : Returns(\"\") \n",
    "    )\n",
    "    \n",
    "    scatter!([vec1[winner_index]], [vec2[winner_index]]; markershape=:star5, markersize=10, markerstrokewidth=0.5)\n",
    "end"
   ]
  },
  {
   "cell_type": "code",
   "execution_count": 124,
   "metadata": {},
   "outputs": [],
   "source": [
    "labels = [\n",
    "    \"Transmission [%]\",\n",
    "    \"Scaled target/output\\nenergy squared error\",\n",
    "    \"RFQ length [cm]\",\n",
    "    \"Longitudinal emittance\\n[MeV deg]\",\n",
    "    \"Transverse (radial)\\nemittance [cm mrad]\"\n",
    "]\n",
    "indexes = [i for i in 1:length(pareto_front_3)]\n",
    "\n",
    "layout = @layout([ ° _ _ _ ; ° ° _ _ ; ° ° ° _ ; ° ° ° ° ])\n",
    "\n",
    "#plot(p1, p2, p3, layout = l)\n",
    "\n",
    "plots_dict = Dict()\n",
    "\n",
    "for i in 1:5\n",
    "    for j in 1:5\n",
    "        if i < j\n",
    "            p = plot_pairwise_scatter(\n",
    "                unscaled_pareto_front_3[i], unscaled_pareto_front_3[j],\n",
    "                j==5 ? labels[i] : \"\", i==1 ? labels[j] : \"\", indexes, 138, j==5, i==1\n",
    "            )\n",
    "            if i == 1\n",
    "                xflip!(true)\n",
    "            end\n",
    "            # display(p)\n",
    "            merge!(plots_dict, Dict(\"$i$j\"=>p))\n",
    "        end\n",
    "    end\n",
    "end\n",
    "\n",
    "pareto_plot = plot(\n",
    "    [plots_dict[\"$i$j\"] for j in 1:5 for i in 1:5 if i<j]...,\n",
    "    layout = layout, widths=(1/4,1/4,1/4,1/4), size=(1000,800), dpi=500\n",
    ")\n",
    "\n",
    "# savefig(pareto_plot,\"../../img/pareto_plot.png\")"
   ]
  },
  {
   "cell_type": "markdown",
   "metadata": {},
   "source": [
    "## CHECKING OPTIMAL ANSWER FROM ABOVE"
   ]
  },
  {
   "cell_type": "code",
   "execution_count": 30,
   "metadata": {},
   "outputs": [
    {
     "data": {
      "text/plain": [
       "(95.67445783296316, 0.06584600251118666, 147.91082243803984, 0.035490431684761965, 0.03885549528570143, 0.77829399178314)"
      ]
     },
     "execution_count": 30,
     "metadata": {},
     "output_type": "execute_result"
    }
   ],
   "source": [
    "optimal_dvars = [\n",
    "    9.14601474441588,\n",
    "    64.9847204387188,\n",
    "    76.2309561819387,\n",
    "    1.5052128004608676,\n",
    "    1.7909850165139312,\n",
    "    159.3742377460003,\n",
    "    287.0468702018261,\n",
    "    -49.37874272093177,\n",
    "    -44.20807974211494,\n",
    "    446.882483959198,\n",
    "    415.69541972875595,\n",
    "    1.9007708828235987,\n",
    "    -38.63379833969139,\n",
    "    0.07181640870840056,\n",
    "]\n",
    "\n",
    "optimal_dvars_decorr = decorr(optimal_dvars);\n",
    "optimal_dvars_decorred_scaled = minmaxscale(optimal_dvars_decorr);\n",
    "optimal_predicted_objs_scaled = predict(optimal_dvars_decorred_scaled);\n",
    "optimal_predicted_objs = minmaxscale(optimal_predicted_objs_scaled; var=\"y\", inverse=true)"
   ]
  },
  {
   "cell_type": "code",
   "execution_count": null,
   "metadata": {},
   "outputs": [],
   "source": []
  }
 ],
 "metadata": {
  "kernelspec": {
   "display_name": "Julia 1.8.0",
   "language": "julia",
   "name": "julia-1.8"
  },
  "language_info": {
   "file_extension": ".jl",
   "mimetype": "application/julia",
   "name": "julia",
   "version": "1.8.0"
  }
 },
 "nbformat": 4,
 "nbformat_minor": 4
}
