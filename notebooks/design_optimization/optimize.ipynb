{
 "cells": [
  {
   "cell_type": "code",
   "execution_count": 1,
   "metadata": {},
   "outputs": [
    {
     "data": {
      "text/plain": [
       "main (generic function with 1 method)"
      ]
     },
     "execution_count": 1,
     "metadata": {},
     "output_type": "execute_result"
    }
   ],
   "source": [
    "using Plots\n",
    "using Statistics\n",
    "using Surrogates\n",
    "using CSV\n",
    "using DataFrames\n",
    "using Distributions\n",
    "using Flux\n",
    "import JSON\n",
    "using MLUtils\n",
    "using Plots\n",
    "using StatsBase\n",
    "using StatsPlots\n",
    "using Tables\n",
    "\n",
    "include(\"../../scan_hyperparameters_withcellnum_functions.jl\")"
   ]
  },
  {
   "cell_type": "markdown",
   "metadata": {},
   "source": [
    "### Loading data and making cuts for proper scaling"
   ]
  },
  {
   "cell_type": "code",
   "execution_count": 2,
   "metadata": {},
   "outputs": [
    {
     "name": "stdout",
     "output_type": "stream",
     "text": [
      "Formatting data...\n",
      "Cutting Transmission to 60-100 percent...\n",
      "x_raw shape: (217293, 15)\n",
      "y_raw shape: (217293, 6)\n",
      "x_new shape: (161574, 15)\n",
      "y_new shape: (161574, 6)\n",
      "Decorrelating...\n",
      "Done!\n"
     ]
    }
   ],
   "source": [
    "target_directory = \"../../data/full_with_cellnumber/\"\n",
    "\n",
    "println(\"Formatting data...\")\n",
    "x_raw_df, y_df, cellnumber_df = getrawdata_withcellnum(target_directory)\n",
    "\n",
    "# how to process cellnumber, for now let's make it another dvar\n",
    "x_raw_df = hcat(x_raw_df, cellnumber_df)\n",
    "\n",
    "# cutting\n",
    "println(\"Cutting Transmission to 60-100 percent...\")\n",
    "lower::Float32 = 60\n",
    "upper::Float32 = 120\n",
    "x_raw_df, y_df = applycut(x_raw_df, y_df, \"OBJ1\", lower, upper; with_numcells=true)\n",
    "\n",
    "# decorrelating\n",
    "println(\"Decorrelating...\")\n",
    "x_df = decorrelatedvars(x_raw_df; with_numcells=true)\n",
    "\n",
    "x_scaled_df, x_scalers = minmaxscaledf(x_df);\n",
    "y_scaled_df, y_scalers = minmaxscaledf(y_df);\n",
    "\n",
    "println(\"Done!\")"
   ]
  },
  {
   "cell_type": "markdown",
   "metadata": {},
   "source": [
    "### Loading up previously trained model"
   ]
  },
  {
   "cell_type": "code",
   "execution_count": 3,
   "metadata": {},
   "outputs": [],
   "source": [
    "@load \"../../models/2023-05-09_09-30-08_w=100_d=5_activation=sigmoid_bs=1024_lr=0.001_dr=0.0_5.jld2\" m;"
   ]
  },
  {
   "cell_type": "markdown",
   "metadata": {},
   "source": [
    "```\n",
    "DVAR1: Bmax  [ 8.5, 12.0 ]\n",
    "DVAR2: mX1  [ 5, 140 ]\n",
    "DVAR3: mX2  [ 15, 160 ]\n",
    "DVAR4: mY1  [ 1.005, 1.7 ]\n",
    "DVAR5: mY2  [ 1.055, 1.85 ]\n",
    "DVAR6: mtau1  [ 1, 500 ]\n",
    "DVAR7: mtau2  [ 1, 500 ]\n",
    "DVAR8: PhiY1  [ -89.95, -30 ]\n",
    "DVAR9: PhiY2  [ -87.45, -25 ]\n",
    "DVAR10: Phitau1  [ 1, 500 ]\n",
    "DVAR11: Phitau2  [ 1, 500 ]\n",
    "DVAR12: mY3ref  [ 1.105, 2.0 ]\n",
    "DVAR13: PhiY3ref  [ -84.95, -20 ]\n",
    "DVAR14: Eref  [ 0.055, 0.075 ]\n",
    "```"
   ]
  },
  {
   "cell_type": "markdown",
   "metadata": {},
   "source": [
    "### Sampling for init of acquisition function"
   ]
  },
  {
   "cell_type": "code",
   "execution_count": 4,
   "metadata": {},
   "outputs": [],
   "source": [
    "# bounds of DVARS\n",
    "lower_bound = repeat([-1.], 14); upper_bound = repeat([1.], 14)\n",
    "\n",
    "# smapling to instantiate acquisition function\n",
    "n_samples = 1000\n",
    "initial_samples = Surrogates.sample(n_samples, lower_bound, upper_bound, SobolSample());"
   ]
  },
  {
   "cell_type": "code",
   "execution_count": 5,
   "metadata": {},
   "outputs": [],
   "source": [
    "# sampling of odd/even cell number\n",
    "cellnumber_samples = Float64.(rand(Bernoulli(0.5), n_samples) .* 2 .- 1);\n",
    "initial_samples_with_cellnumber = []\n",
    "for i in 1:n_samples\n",
    "    push!(initial_samples_with_cellnumber, (initial_samples[i]..., cellnumber_samples[i]))\n",
    "end"
   ]
  },
  {
   "cell_type": "code",
   "execution_count": 6,
   "metadata": {},
   "outputs": [
    {
     "data": {
      "text/plain": [
       "predict (generic function with 1 method)"
      ]
     },
     "execution_count": 6,
     "metadata": {},
     "output_type": "execute_result"
    }
   ],
   "source": [
    "# decorrelating design variables\n",
    "function getdvarprimesing(data_to_transform, dynamic_lower_bound, strict_upper_bound)\n",
    "    (data_to_transform - dynamic_lower_bound) / (strict_upper_bound - dynamic_lower_bound)\n",
    "end\n",
    "\n",
    "function decorr(vec)\n",
    "    maxes = Dict(\n",
    "        \"DVAR3\"=>160.,\n",
    "        \"DVAR5\"=>1.85,\n",
    "        \"DVAR9\"=>-25.,\n",
    "        \"DVAR12\"=>2.,\n",
    "        \"DVAR13\"=>-20.\n",
    "    )\n",
    "    etas = Dict(\n",
    "        \"DVAR3\"=>10.,\n",
    "        \"DVAR5\"=>0.05,\n",
    "        \"DVAR9\"=>2.5,\n",
    "        \"DVAR12\"=>0.05,\n",
    "        \"DVAR13\"=>2.5\n",
    "    )\n",
    "    \n",
    "    decorred_vec = []\n",
    "    \n",
    "    for i in 1:14\n",
    "        if i == 3\n",
    "            append!(decorred_vec, getdvarprimesing(vec[3], etas[\"DVAR3\"] + vec[2], maxes[\"DVAR3\"]))\n",
    "        elseif i == 5\n",
    "            append!(decorred_vec, getdvarprimesing(vec[5], etas[\"DVAR5\"] + vec[4], maxes[\"DVAR5\"]))\n",
    "        elseif i == 9\n",
    "            append!(decorred_vec, getdvarprimesing(vec[9], etas[\"DVAR9\"] + vec[8], maxes[\"DVAR9\"]))\n",
    "        elseif i == 12\n",
    "            append!(decorred_vec, getdvarprimesing(vec[12], etas[\"DVAR12\"] + vec[5], maxes[\"DVAR12\"]))\n",
    "        elseif i == 13\n",
    "            append!(decorred_vec, getdvarprimesing(vec[13], etas[\"DVAR13\"] + vec[9], maxes[\"DVAR13\"]))\n",
    "        else\n",
    "            append!(decorred_vec, vec[i])\n",
    "        end\n",
    "    end\n",
    "    \n",
    "    decorred_vec\n",
    "end\n",
    "\n",
    "function getvarsing(data_to_transform, dynamic_lower_bound, strict_upper_bound)\n",
    "    dynamic_lower_bound + data_to_transform*(strict_upper_bound - dynamic_lower_bound)\n",
    "end\n",
    "\n",
    "function recorr(vec)\n",
    "    maxes = Dict(\n",
    "        \"DVAR3\"=>160.,\n",
    "        \"DVAR5\"=>1.85,\n",
    "        \"DVAR9\"=>-25.,\n",
    "        \"DVAR12\"=>2.,\n",
    "        \"DVAR13\"=>-20.\n",
    "    )\n",
    "    etas = Dict(\n",
    "        \"DVAR3\"=>10.,\n",
    "        \"DVAR5\"=>0.05,\n",
    "        \"DVAR9\"=>2.5,\n",
    "        \"DVAR12\"=>0.05,\n",
    "        \"DVAR13\"=>2.5\n",
    "    )\n",
    "    dvarmap = Dict(\n",
    "        3=>2,\n",
    "        5=>4,\n",
    "        9=>8,\n",
    "        12=>5,\n",
    "        13=>9\n",
    "    )\n",
    "    \n",
    "    recorred_vec = []\n",
    "    \n",
    "    for i in 1:14\n",
    "        if i ∈ [3, 5, 9]\n",
    "            append!(recorred_vec, getvarsing(vec[i], etas[\"DVAR$i\"] + vec[dvarmap[i]], maxes[\"DVAR$i\"]))\n",
    "        elseif i ∈ [12, 13]\n",
    "            append!(recorred_vec, getvarsing(vec[i], etas[\"DVAR$i\"] + recorred_vec[dvarmap[i]], maxes[\"DVAR$i\"]))\n",
    "        else\n",
    "            append!(recorred_vec, vec[i])\n",
    "        end\n",
    "    end\n",
    "    \n",
    "    recorred_vec\n",
    "end\n",
    "\n",
    "function minmaxscale(vec; var=\"x\", inverse=false)\n",
    "    scaled_vec = []\n",
    "    \n",
    "    transform_fun(scaler, x) = inverse ? inverse_transform(scaler, x) : transform(scaler, x)\n",
    "    \n",
    "    if var == \"x\"\n",
    "        for i in 1:14\n",
    "            scaler = x_scalers[\"DVAR$i\"]\n",
    "            append!(scaled_vec, transform_fun(scaler, vec[i]))\n",
    "        end\n",
    "    elseif var == \"y\"\n",
    "        for i in 1:6\n",
    "            scaler = y_scalers[\"OBJ$i\"]\n",
    "            append!(scaled_vec, transform_fun(scaler, vec[i]))\n",
    "        end\n",
    "    end\n",
    "    \n",
    "    return Tuple(scaled_vec)\n",
    "end\n",
    "\n",
    "function predict(x_vec)\n",
    "    m([x for x in x_vec])'\n",
    "end"
   ]
  },
  {
   "cell_type": "code",
   "execution_count": 7,
   "metadata": {},
   "outputs": [
    {
     "name": "stdout",
     "output_type": "stream",
     "text": [
      "\u001b[1mDataFrameRow\u001b[0m\n",
      "\u001b[1m Row \u001b[0m│\u001b[1m DVAR1    \u001b[0m\u001b[1m DVAR10    \u001b[0m\u001b[1m DVAR11   \u001b[0m\u001b[1m DVAR12   \u001b[0m\u001b[1m DVAR13   \u001b[0m\u001b[1m DVAR14    \u001b[0m\u001b[1m DVAR2     \u001b[0m\u001b[1m DVAR3    \u001b[0m\u001b[1m DVAR4    \u001b[0m\u001b[1m DVAR5    \u001b[0m\u001b[1m DVAR6     \u001b[0m\u001b[1m DVAR7     \u001b[0m\u001b[1m DVAR8     \u001b[0m\u001b[1m DVAR9    \u001b[0m\u001b[1m cellnumber \u001b[0m\n",
      "\u001b[1m     \u001b[0m│\u001b[90m Any      \u001b[0m\u001b[90m Any       \u001b[0m\u001b[90m Any      \u001b[0m\u001b[90m Any      \u001b[0m\u001b[90m Any      \u001b[0m\u001b[90m Any       \u001b[0m\u001b[90m Any       \u001b[0m\u001b[90m Any      \u001b[0m\u001b[90m Any      \u001b[0m\u001b[90m Any      \u001b[0m\u001b[90m Any       \u001b[0m\u001b[90m Any       \u001b[0m\u001b[90m Any       \u001b[0m\u001b[90m Any      \u001b[0m\u001b[90m Any        \u001b[0m\n",
      "─────┼──────────────────────────────────────────────────────────────────────────────────────────────────────────────────────────────────────────────────────────────\n",
      "   1 │ 0.289202  -0.447758  0.404934  0.171099  0.357681  -0.434087  -0.313747  0.147541  0.668876  0.553479  -0.784712  -0.816006  -0.451444  0.331384  -0.53271\n",
      "(0.28920162f0, -0.44775814f0, 0.4049338f0, 0.17109923841804942, 0.3576814045090202, -0.43408716f0, -0.3137467f0, 0.1475414222175786, 0.6688763f0, 0.5534791401182384, -0.7847122f0, -0.8160064f0, -0.45144355f0, 0.3313838669893703, -0.5327103f0)\n",
      "Prediction:\n",
      "[0.5349908049382303 -0.4884269375804415 -0.49084511751330434 -0.48353242524978496 0.12568874773689745 -0.13865348439825106]\n",
      "True:\n",
      "\u001b[1mDataFrameRow\u001b[0m\n",
      "\u001b[1m Row \u001b[0m│\u001b[1m OBJ1    \u001b[0m\u001b[1m OBJ2      \u001b[0m\u001b[1m OBJ3      \u001b[0m\u001b[1m OBJ4      \u001b[0m\u001b[1m OBJ5     \u001b[0m\u001b[1m OBJ6      \u001b[0m\n",
      "\u001b[1m     \u001b[0m│\u001b[90m Any     \u001b[0m\u001b[90m Any       \u001b[0m\u001b[90m Any       \u001b[0m\u001b[90m Any       \u001b[0m\u001b[90m Any      \u001b[0m\u001b[90m Any       \u001b[0m\n",
      "─────┼───────────────────────────────────────────────────────────────\n",
      "   1 │ 0.56962  -0.495385  -0.494174  -0.463365  0.222158  -0.215965\n"
     ]
    }
   ],
   "source": [
    "# do i understand how the model predicts for a given x_vec?\n",
    "println(first(x_scaled_df))\n",
    "println(values(first(x_scaled_df)))\n",
    "\n",
    "println(\"Prediction:\")\n",
    "println(predict(values(first(x_scaled_df))))\n",
    "println(\"True:\")\n",
    "println(first(y_scaled_df))"
   ]
  },
  {
   "cell_type": "markdown",
   "metadata": {},
   "source": [
    "This means that the DVARs used as inputs to the model are out of order -- they don't run from DVAR1 to DVAR14, but instead run in alphabetical order, with cellnumber as a column appended in the end."
   ]
  },
  {
   "cell_type": "markdown",
   "metadata": {},
   "source": [
    "### Functionality to predict cellnumber"
   ]
  },
  {
   "cell_type": "code",
   "execution_count": 8,
   "metadata": {},
   "outputs": [
    {
     "name": "stderr",
     "output_type": "stream",
     "text": [
      "\u001b[32m\u001b[1m    Building\u001b[22m\u001b[39m Conda ─→ `~/.julia/scratchspaces/44cfe95a-1eb2-52ea-b672-e2afdf69b78f/e32a90da027ca45d84678b826fffd3110bb3fc90/build.log`\n",
      "\u001b[32m\u001b[1m    Building\u001b[22m\u001b[39m PyCall → `~/.julia/scratchspaces/44cfe95a-1eb2-52ea-b672-e2afdf69b78f/62f417f6ad727987c755549e9cd88c46578da562/build.log`\n"
     ]
    },
    {
     "data": {
      "text/plain": [
       "PyObject <function compute_cellnumber at 0x1f374e290>"
      ]
     },
     "execution_count": 8,
     "metadata": {},
     "output_type": "execute_result"
    }
   ],
   "source": [
    "ENV[\"PYTHON\"] = \"\"                                                                                                                                   \n",
    "using Pkg\n",
    "Pkg.build(\"PyCall\")\n",
    "using PyCall\n",
    "\n",
    "# Julia uses a Python that is installed to a separte location than my current anaconda3 installation.\n",
    "# the following lines make sure that the correct Python packages are installed to read in the supplemental\n",
    "# Python script that computes cell number\n",
    "\n",
    "# using Conda\n",
    "# Conda.add(\"scipy\")\n",
    "# Conda.add(\"matplotlib\")\n",
    "\n",
    "py\"\"\"\n",
    "import sys\n",
    "sys.path.insert(0, \"./../../compute_cellnumber/\")\n",
    "\"\"\"\n",
    "\n",
    "compute_cellnumber = pyimport(\"compute_cellnumber\")[\"compute_cellnumber\"]"
   ]
  },
  {
   "cell_type": "code",
   "execution_count": 9,
   "metadata": {},
   "outputs": [
    {
     "data": {
      "text/plain": [
       "jl_row_to_py_row (generic function with 1 method)"
      ]
     },
     "execution_count": 9,
     "metadata": {},
     "output_type": "execute_result"
    }
   ],
   "source": [
    "# compute_cellnumber function uses different row keys\n",
    "# this is a nice sanity check to make sure we're passing in the data through the correct slots\n",
    "dvar_to_param = Dict(\n",
    "    \"DVAR1\" => \"Bmax\",\n",
    "    \"DVAR2\" => \"mX1\",\n",
    "    \"DVAR3\" => \"mX2\",\n",
    "    \"DVAR4\" => \"mY1\",\n",
    "    \"DVAR5\" => \"mY2\",\n",
    "    \"DVAR6\" => \"mtau1\",\n",
    "    \"DVAR7\" => \"mtau2\",\n",
    "    \"DVAR8\" => \"PhiY1\",\n",
    "    \"DVAR9\" => \"PhiY2\",\n",
    "    \"DVAR10\" => \"Phitau1\",\n",
    "    \"DVAR11\" => \"Phitau2\",\n",
    "    \"DVAR12\" => \"mY3ref\",\n",
    "    \"DVAR13\" => \"PhiY3ref\",\n",
    "    \"DVAR14\" => \"Eref\",\n",
    ")\n",
    "\n",
    "function jl_row_to_py_row(jl_row)\n",
    "    pyrow = Dict()\n",
    "    \n",
    "    for i in 1:14\n",
    "        pyrow[dvar_to_param[\"DVAR$i\"]] = jl_row[\"DVAR$i\"]\n",
    "    end\n",
    "    \n",
    "    pyrow\n",
    "end"
   ]
  },
  {
   "cell_type": "code",
   "execution_count": 10,
   "metadata": {},
   "outputs": [
    {
     "data": {
      "text/html": [
       "<table class=\"data-frame\"><thead><tr><th></th><th>cellnumber</th></tr><tr><th></th><th>Int64</th></tr></thead><tbody><p>217,293 rows × 1 columns</p><tr><th>1</th><td>44</td></tr><tr><th>2</th><td>49</td></tr><tr><th>3</th><td>36</td></tr><tr><th>4</th><td>86</td></tr><tr><th>5</th><td>25</td></tr><tr><th>6</th><td>46</td></tr><tr><th>7</th><td>97</td></tr><tr><th>8</th><td>29</td></tr><tr><th>9</th><td>66</td></tr><tr><th>10</th><td>63</td></tr><tr><th>11</th><td>48</td></tr><tr><th>12</th><td>48</td></tr><tr><th>13</th><td>36</td></tr><tr><th>14</th><td>59</td></tr><tr><th>15</th><td>56</td></tr><tr><th>16</th><td>31</td></tr><tr><th>17</th><td>48</td></tr><tr><th>18</th><td>42</td></tr><tr><th>19</th><td>31</td></tr><tr><th>20</th><td>51</td></tr><tr><th>21</th><td>24</td></tr><tr><th>22</th><td>72</td></tr><tr><th>23</th><td>63</td></tr><tr><th>24</th><td>45</td></tr><tr><th>25</th><td>27</td></tr><tr><th>26</th><td>72</td></tr><tr><th>27</th><td>24</td></tr><tr><th>28</th><td>22</td></tr><tr><th>29</th><td>44</td></tr><tr><th>30</th><td>48</td></tr><tr><th>&vellip;</th><td>&vellip;</td></tr></tbody></table>"
      ],
      "text/latex": [
       "\\begin{tabular}{r|c}\n",
       "\t& cellnumber\\\\\n",
       "\t\\hline\n",
       "\t& Int64\\\\\n",
       "\t\\hline\n",
       "\t1 & 44 \\\\\n",
       "\t2 & 49 \\\\\n",
       "\t3 & 36 \\\\\n",
       "\t4 & 86 \\\\\n",
       "\t5 & 25 \\\\\n",
       "\t6 & 46 \\\\\n",
       "\t7 & 97 \\\\\n",
       "\t8 & 29 \\\\\n",
       "\t9 & 66 \\\\\n",
       "\t10 & 63 \\\\\n",
       "\t11 & 48 \\\\\n",
       "\t12 & 48 \\\\\n",
       "\t13 & 36 \\\\\n",
       "\t14 & 59 \\\\\n",
       "\t15 & 56 \\\\\n",
       "\t16 & 31 \\\\\n",
       "\t17 & 48 \\\\\n",
       "\t18 & 42 \\\\\n",
       "\t19 & 31 \\\\\n",
       "\t20 & 51 \\\\\n",
       "\t21 & 24 \\\\\n",
       "\t22 & 72 \\\\\n",
       "\t23 & 63 \\\\\n",
       "\t24 & 45 \\\\\n",
       "\t25 & 27 \\\\\n",
       "\t26 & 72 \\\\\n",
       "\t27 & 24 \\\\\n",
       "\t28 & 22 \\\\\n",
       "\t29 & 44 \\\\\n",
       "\t30 & 48 \\\\\n",
       "\t$\\dots$ & $\\dots$ \\\\\n",
       "\\end{tabular}\n"
      ],
      "text/plain": [
       "\u001b[1m217293×1 DataFrame\u001b[0m\n",
       "\u001b[1m    Row \u001b[0m│\u001b[1m cellnumber \u001b[0m\n",
       "\u001b[1m        \u001b[0m│\u001b[90m Int64      \u001b[0m\n",
       "────────┼────────────\n",
       "      1 │         44\n",
       "      2 │         49\n",
       "      3 │         36\n",
       "      4 │         86\n",
       "      5 │         25\n",
       "      6 │         46\n",
       "      7 │         97\n",
       "      8 │         29\n",
       "      9 │         66\n",
       "     10 │         63\n",
       "     11 │         48\n",
       "   ⋮    │     ⋮\n",
       " 217284 │         69\n",
       " 217285 │         67\n",
       " 217286 │         62\n",
       " 217287 │         40\n",
       " 217288 │         59\n",
       " 217289 │         35\n",
       " 217290 │         52\n",
       " 217291 │         41\n",
       " 217292 │         55\n",
       " 217293 │         56\n",
       "\u001b[36m  217272 rows omitted\u001b[0m"
      ]
     },
     "execution_count": 10,
     "metadata": {},
     "output_type": "execute_result"
    }
   ],
   "source": [
    "cellnumber_df"
   ]
  },
  {
   "cell_type": "code",
   "execution_count": 19,
   "metadata": {},
   "outputs": [
    {
     "data": {
      "text/plain": [
       "(11.272526f0, 113.67641f0, 142.83572f0, 1.3236254f0, 1.7508091f0, 26.869146f0, 52.817062f0, -37.27841f0, -34.61879f0, 93.22662f0, 467.92874f0, 1.8544296f0, -29.753065f0, 0.07108371f0, 59)"
      ]
     },
     "execution_count": 19,
     "metadata": {},
     "output_type": "execute_result"
    }
   ],
   "source": [
    "values(x_raw_df[10, :])"
   ]
  },
  {
   "cell_type": "code",
   "execution_count": 18,
   "metadata": {},
   "outputs": [
    {
     "data": {
      "text/plain": [
       "59"
      ]
     },
     "execution_count": 18,
     "metadata": {},
     "output_type": "execute_result"
    }
   ],
   "source": [
    "compute_cellnumber(jl_row_to_py_row(x_raw_df[10, :]))"
   ]
  },
  {
   "cell_type": "code",
   "execution_count": 56,
   "metadata": {},
   "outputs": [],
   "source": [
    "# sanity check\n",
    "cns_pred = []\n",
    "cns_true = []\n",
    "\n",
    "problematic_idx = []\n",
    "\n",
    "for i in 1:size(x_raw_df)[1]\n",
    "    \n",
    "    if y_df[i, \"OBJ1\"] < 50\n",
    "        continue\n",
    "    else\n",
    "        try\n",
    "            cn = compute_cellnumber(jl_row_to_py_row(x_raw_df[i, :]))\n",
    "            append!(cns_pred, cn % 2)\n",
    "            append!(cns_true, cellnumber_df[:, 1][i])\n",
    "        catch\n",
    "            append!(problematic_idx, i)\n",
    "            continue\n",
    "        end \n",
    "    end\n",
    "end"
   ]
  },
  {
   "cell_type": "code",
   "execution_count": 57,
   "metadata": {},
   "outputs": [
    {
     "data": {
      "text/plain": [
       "157800-element Vector{Int64}:\n",
       "  0\n",
       " -1\n",
       "  1\n",
       "  1\n",
       "  0\n",
       "  0\n",
       " -1\n",
       "  0\n",
       "  0\n",
       "  0\n",
       "  1\n",
       "  0\n",
       " -1\n",
       "  ⋮\n",
       "  0\n",
       "  1\n",
       "  0\n",
       "  0\n",
       "  0\n",
       "  1\n",
       " -1\n",
       "  1\n",
       "  0\n",
       "  1\n",
       "  0\n",
       " -1"
      ]
     },
     "execution_count": 57,
     "metadata": {},
     "output_type": "execute_result"
    }
   ],
   "source": [
    "cns_pred .- cns_true"
   ]
  },
  {
   "cell_type": "code",
   "execution_count": 58,
   "metadata": {},
   "outputs": [
    {
     "data": {
      "image/svg+xml": [
       "<?xml version=\"1.0\" encoding=\"utf-8\"?>\n",
       "<svg xmlns=\"http://www.w3.org/2000/svg\" xmlns:xlink=\"http://www.w3.org/1999/xlink\" width=\"600\" height=\"400\" viewBox=\"0 0 2400 1600\">\n",
       "<defs>\n",
       "  <clipPath id=\"clip970\">\n",
       "    <rect x=\"0\" y=\"0\" width=\"2400\" height=\"1600\"/>\n",
       "  </clipPath>\n",
       "</defs>\n",
       "<path clip-path=\"url(#clip970)\" d=\"\n",
       "M0 1600 L2400 1600 L2400 0 L0 0  Z\n",
       "  \" fill=\"#ffffff\" fill-rule=\"evenodd\" fill-opacity=\"1\"/>\n",
       "<defs>\n",
       "  <clipPath id=\"clip971\">\n",
       "    <rect x=\"480\" y=\"0\" width=\"1681\" height=\"1600\"/>\n",
       "  </clipPath>\n",
       "</defs>\n",
       "<path clip-path=\"url(#clip970)\" d=\"\n",
       "M277.431 1486.45 L2352.76 1486.45 L2352.76 47.2441 L277.431 47.2441  Z\n",
       "  \" fill=\"#ffffff\" fill-rule=\"evenodd\" fill-opacity=\"1\"/>\n",
       "<defs>\n",
       "  <clipPath id=\"clip972\">\n",
       "    <rect x=\"277\" y=\"47\" width=\"2076\" height=\"1440\"/>\n",
       "  </clipPath>\n",
       "</defs>\n",
       "<polyline clip-path=\"url(#clip972)\" style=\"stroke:#000000; stroke-linecap:butt; stroke-linejoin:round; stroke-width:2; stroke-opacity:0.1; fill:none\" points=\"\n",
       "  391.577,1486.45 391.577,47.2441 \n",
       "  \"/>\n",
       "<polyline clip-path=\"url(#clip972)\" style=\"stroke:#000000; stroke-linecap:butt; stroke-linejoin:round; stroke-width:2; stroke-opacity:0.1; fill:none\" points=\"\n",
       "  842.073,1486.45 842.073,47.2441 \n",
       "  \"/>\n",
       "<polyline clip-path=\"url(#clip972)\" style=\"stroke:#000000; stroke-linecap:butt; stroke-linejoin:round; stroke-width:2; stroke-opacity:0.1; fill:none\" points=\"\n",
       "  1292.57,1486.45 1292.57,47.2441 \n",
       "  \"/>\n",
       "<polyline clip-path=\"url(#clip972)\" style=\"stroke:#000000; stroke-linecap:butt; stroke-linejoin:round; stroke-width:2; stroke-opacity:0.1; fill:none\" points=\"\n",
       "  1743.06,1486.45 1743.06,47.2441 \n",
       "  \"/>\n",
       "<polyline clip-path=\"url(#clip972)\" style=\"stroke:#000000; stroke-linecap:butt; stroke-linejoin:round; stroke-width:2; stroke-opacity:0.1; fill:none\" points=\"\n",
       "  2193.56,1486.45 2193.56,47.2441 \n",
       "  \"/>\n",
       "<polyline clip-path=\"url(#clip970)\" style=\"stroke:#000000; stroke-linecap:butt; stroke-linejoin:round; stroke-width:4; stroke-opacity:1; fill:none\" points=\"\n",
       "  277.431,1486.45 2352.76,1486.45 \n",
       "  \"/>\n",
       "<polyline clip-path=\"url(#clip970)\" style=\"stroke:#000000; stroke-linecap:butt; stroke-linejoin:round; stroke-width:4; stroke-opacity:1; fill:none\" points=\"\n",
       "  391.577,1486.45 391.577,1467.55 \n",
       "  \"/>\n",
       "<polyline clip-path=\"url(#clip970)\" style=\"stroke:#000000; stroke-linecap:butt; stroke-linejoin:round; stroke-width:4; stroke-opacity:1; fill:none\" points=\"\n",
       "  842.073,1486.45 842.073,1467.55 \n",
       "  \"/>\n",
       "<polyline clip-path=\"url(#clip970)\" style=\"stroke:#000000; stroke-linecap:butt; stroke-linejoin:round; stroke-width:4; stroke-opacity:1; fill:none\" points=\"\n",
       "  1292.57,1486.45 1292.57,1467.55 \n",
       "  \"/>\n",
       "<polyline clip-path=\"url(#clip970)\" style=\"stroke:#000000; stroke-linecap:butt; stroke-linejoin:round; stroke-width:4; stroke-opacity:1; fill:none\" points=\"\n",
       "  1743.06,1486.45 1743.06,1467.55 \n",
       "  \"/>\n",
       "<polyline clip-path=\"url(#clip970)\" style=\"stroke:#000000; stroke-linecap:butt; stroke-linejoin:round; stroke-width:4; stroke-opacity:1; fill:none\" points=\"\n",
       "  2193.56,1486.45 2193.56,1467.55 \n",
       "  \"/>\n",
       "<path clip-path=\"url(#clip970)\" d=\"M338.106 1532.02 L367.781 1532.02 L367.781 1535.95 L338.106 1535.95 L338.106 1532.02 Z\" fill=\"#000000\" fill-rule=\"evenodd\" fill-opacity=\"1\" /><path clip-path=\"url(#clip970)\" d=\"M378.684 1544.91 L386.323 1544.91 L386.323 1518.55 L378.013 1520.21 L378.013 1515.95 L386.277 1514.29 L390.952 1514.29 L390.952 1544.91 L398.591 1544.91 L398.591 1548.85 L378.684 1548.85 L378.684 1544.91 Z\" fill=\"#000000\" fill-rule=\"evenodd\" fill-opacity=\"1\" /><path clip-path=\"url(#clip970)\" d=\"M408.036 1542.97 L412.92 1542.97 L412.92 1548.85 L408.036 1548.85 L408.036 1542.97 Z\" fill=\"#000000\" fill-rule=\"evenodd\" fill-opacity=\"1\" /><path clip-path=\"url(#clip970)\" d=\"M433.105 1517.37 Q429.494 1517.37 427.665 1520.93 Q425.86 1524.47 425.86 1531.6 Q425.86 1538.71 427.665 1542.27 Q429.494 1545.82 433.105 1545.82 Q436.739 1545.82 438.545 1542.27 Q440.374 1538.71 440.374 1531.6 Q440.374 1524.47 438.545 1520.93 Q436.739 1517.37 433.105 1517.37 M433.105 1513.66 Q438.915 1513.66 441.971 1518.27 Q445.049 1522.85 445.049 1531.6 Q445.049 1540.33 441.971 1544.94 Q438.915 1549.52 433.105 1549.52 Q427.295 1549.52 424.216 1544.94 Q421.161 1540.33 421.161 1531.6 Q421.161 1522.85 424.216 1518.27 Q427.295 1513.66 433.105 1513.66 Z\" fill=\"#000000\" fill-rule=\"evenodd\" fill-opacity=\"1\" /><path clip-path=\"url(#clip970)\" d=\"M789.099 1532.02 L818.775 1532.02 L818.775 1535.95 L789.099 1535.95 L789.099 1532.02 Z\" fill=\"#000000\" fill-rule=\"evenodd\" fill-opacity=\"1\" /><path clip-path=\"url(#clip970)\" d=\"M838.867 1517.37 Q835.256 1517.37 833.427 1520.93 Q831.622 1524.47 831.622 1531.6 Q831.622 1538.71 833.427 1542.27 Q835.256 1545.82 838.867 1545.82 Q842.501 1545.82 844.307 1542.27 Q846.136 1538.71 846.136 1531.6 Q846.136 1524.47 844.307 1520.93 Q842.501 1517.37 838.867 1517.37 M838.867 1513.66 Q844.677 1513.66 847.733 1518.27 Q850.811 1522.85 850.811 1531.6 Q850.811 1540.33 847.733 1544.94 Q844.677 1549.52 838.867 1549.52 Q833.057 1549.52 829.978 1544.94 Q826.923 1540.33 826.923 1531.6 Q826.923 1522.85 829.978 1518.27 Q833.057 1513.66 838.867 1513.66 Z\" fill=\"#000000\" fill-rule=\"evenodd\" fill-opacity=\"1\" /><path clip-path=\"url(#clip970)\" d=\"M859.029 1542.97 L863.913 1542.97 L863.913 1548.85 L859.029 1548.85 L859.029 1542.97 Z\" fill=\"#000000\" fill-rule=\"evenodd\" fill-opacity=\"1\" /><path clip-path=\"url(#clip970)\" d=\"M874.145 1514.29 L892.501 1514.29 L892.501 1518.22 L878.427 1518.22 L878.427 1526.7 Q879.446 1526.35 880.464 1526.19 Q881.483 1526 882.501 1526 Q888.288 1526 891.668 1529.17 Q895.047 1532.34 895.047 1537.76 Q895.047 1543.34 891.575 1546.44 Q888.103 1549.52 881.783 1549.52 Q879.608 1549.52 877.339 1549.15 Q875.094 1548.78 872.686 1548.04 L872.686 1543.34 Q874.77 1544.47 876.992 1545.03 Q879.214 1545.58 881.691 1545.58 Q885.696 1545.58 888.033 1543.48 Q890.371 1541.37 890.371 1537.76 Q890.371 1534.15 888.033 1532.04 Q885.696 1529.94 881.691 1529.94 Q879.816 1529.94 877.941 1530.35 Q876.089 1530.77 874.145 1531.65 L874.145 1514.29 Z\" fill=\"#000000\" fill-rule=\"evenodd\" fill-opacity=\"1\" /><path clip-path=\"url(#clip970)\" d=\"M1269.95 1517.37 Q1266.34 1517.37 1264.51 1520.93 Q1262.71 1524.47 1262.71 1531.6 Q1262.71 1538.71 1264.51 1542.27 Q1266.34 1545.82 1269.95 1545.82 Q1273.59 1545.82 1275.39 1542.27 Q1277.22 1538.71 1277.22 1531.6 Q1277.22 1524.47 1275.39 1520.93 Q1273.59 1517.37 1269.95 1517.37 M1269.95 1513.66 Q1275.76 1513.66 1278.82 1518.27 Q1281.9 1522.85 1281.9 1531.6 Q1281.9 1540.33 1278.82 1544.94 Q1275.76 1549.52 1269.95 1549.52 Q1264.14 1549.52 1261.06 1544.94 Q1258.01 1540.33 1258.01 1531.6 Q1258.01 1522.85 1261.06 1518.27 Q1264.14 1513.66 1269.95 1513.66 Z\" fill=\"#000000\" fill-rule=\"evenodd\" fill-opacity=\"1\" /><path clip-path=\"url(#clip970)\" d=\"M1290.11 1542.97 L1295 1542.97 L1295 1548.85 L1290.11 1548.85 L1290.11 1542.97 Z\" fill=\"#000000\" fill-rule=\"evenodd\" fill-opacity=\"1\" /><path clip-path=\"url(#clip970)\" d=\"M1315.18 1517.37 Q1311.57 1517.37 1309.74 1520.93 Q1307.94 1524.47 1307.94 1531.6 Q1307.94 1538.71 1309.74 1542.27 Q1311.57 1545.82 1315.18 1545.82 Q1318.82 1545.82 1320.62 1542.27 Q1322.45 1538.71 1322.45 1531.6 Q1322.45 1524.47 1320.62 1520.93 Q1318.82 1517.37 1315.18 1517.37 M1315.18 1513.66 Q1320.99 1513.66 1324.05 1518.27 Q1327.13 1522.85 1327.13 1531.6 Q1327.13 1540.33 1324.05 1544.94 Q1320.99 1549.52 1315.18 1549.52 Q1309.37 1549.52 1306.3 1544.94 Q1303.24 1540.33 1303.24 1531.6 Q1303.24 1522.85 1306.3 1518.27 Q1309.37 1513.66 1315.18 1513.66 Z\" fill=\"#000000\" fill-rule=\"evenodd\" fill-opacity=\"1\" /><path clip-path=\"url(#clip970)\" d=\"M1720.95 1517.37 Q1717.34 1517.37 1715.51 1520.93 Q1713.7 1524.47 1713.7 1531.6 Q1713.7 1538.71 1715.51 1542.27 Q1717.34 1545.82 1720.95 1545.82 Q1724.58 1545.82 1726.39 1542.27 Q1728.21 1538.71 1728.21 1531.6 Q1728.21 1524.47 1726.39 1520.93 Q1724.58 1517.37 1720.95 1517.37 M1720.95 1513.66 Q1726.76 1513.66 1729.81 1518.27 Q1732.89 1522.85 1732.89 1531.6 Q1732.89 1540.33 1729.81 1544.94 Q1726.76 1549.52 1720.95 1549.52 Q1715.14 1549.52 1712.06 1544.94 Q1709 1540.33 1709 1531.6 Q1709 1522.85 1712.06 1518.27 Q1715.14 1513.66 1720.95 1513.66 Z\" fill=\"#000000\" fill-rule=\"evenodd\" fill-opacity=\"1\" /><path clip-path=\"url(#clip970)\" d=\"M1741.11 1542.97 L1745.99 1542.97 L1745.99 1548.85 L1741.11 1548.85 L1741.11 1542.97 Z\" fill=\"#000000\" fill-rule=\"evenodd\" fill-opacity=\"1\" /><path clip-path=\"url(#clip970)\" d=\"M1756.22 1514.29 L1774.58 1514.29 L1774.58 1518.22 L1760.51 1518.22 L1760.51 1526.7 Q1761.52 1526.35 1762.54 1526.19 Q1763.56 1526 1764.58 1526 Q1770.37 1526 1773.75 1529.17 Q1777.13 1532.34 1777.13 1537.76 Q1777.13 1543.34 1773.65 1546.44 Q1770.18 1549.52 1763.86 1549.52 Q1761.69 1549.52 1759.42 1549.15 Q1757.17 1548.78 1754.77 1548.04 L1754.77 1543.34 Q1756.85 1544.47 1759.07 1545.03 Q1761.29 1545.58 1763.77 1545.58 Q1767.77 1545.58 1770.11 1543.48 Q1772.45 1541.37 1772.45 1537.76 Q1772.45 1534.15 1770.11 1532.04 Q1767.77 1529.94 1763.77 1529.94 Q1761.9 1529.94 1760.02 1530.35 Q1758.17 1530.77 1756.22 1531.65 L1756.22 1514.29 Z\" fill=\"#000000\" fill-rule=\"evenodd\" fill-opacity=\"1\" /><path clip-path=\"url(#clip970)\" d=\"M2160.71 1544.91 L2168.35 1544.91 L2168.35 1518.55 L2160.04 1520.21 L2160.04 1515.95 L2168.31 1514.29 L2172.98 1514.29 L2172.98 1544.91 L2180.62 1544.91 L2180.62 1548.85 L2160.71 1548.85 L2160.71 1544.91 Z\" fill=\"#000000\" fill-rule=\"evenodd\" fill-opacity=\"1\" /><path clip-path=\"url(#clip970)\" d=\"M2190.06 1542.97 L2194.95 1542.97 L2194.95 1548.85 L2190.06 1548.85 L2190.06 1542.97 Z\" fill=\"#000000\" fill-rule=\"evenodd\" fill-opacity=\"1\" /><path clip-path=\"url(#clip970)\" d=\"M2215.13 1517.37 Q2211.52 1517.37 2209.69 1520.93 Q2207.89 1524.47 2207.89 1531.6 Q2207.89 1538.71 2209.69 1542.27 Q2211.52 1545.82 2215.13 1545.82 Q2218.77 1545.82 2220.57 1542.27 Q2222.4 1538.71 2222.4 1531.6 Q2222.4 1524.47 2220.57 1520.93 Q2218.77 1517.37 2215.13 1517.37 M2215.13 1513.66 Q2220.94 1513.66 2224 1518.27 Q2227.08 1522.85 2227.08 1531.6 Q2227.08 1540.33 2224 1544.94 Q2220.94 1549.52 2215.13 1549.52 Q2209.32 1549.52 2206.24 1544.94 Q2203.19 1540.33 2203.19 1531.6 Q2203.19 1522.85 2206.24 1518.27 Q2209.32 1513.66 2215.13 1513.66 Z\" fill=\"#000000\" fill-rule=\"evenodd\" fill-opacity=\"1\" /><polyline clip-path=\"url(#clip972)\" style=\"stroke:#000000; stroke-linecap:butt; stroke-linejoin:round; stroke-width:2; stroke-opacity:0.1; fill:none\" points=\"\n",
       "  277.431,1445.72 2352.76,1445.72 \n",
       "  \"/>\n",
       "<polyline clip-path=\"url(#clip972)\" style=\"stroke:#000000; stroke-linecap:butt; stroke-linejoin:round; stroke-width:2; stroke-opacity:0.1; fill:none\" points=\"\n",
       "  277.431,1102.39 2352.76,1102.39 \n",
       "  \"/>\n",
       "<polyline clip-path=\"url(#clip972)\" style=\"stroke:#000000; stroke-linecap:butt; stroke-linejoin:round; stroke-width:2; stroke-opacity:0.1; fill:none\" points=\"\n",
       "  277.431,759.07 2352.76,759.07 \n",
       "  \"/>\n",
       "<polyline clip-path=\"url(#clip972)\" style=\"stroke:#000000; stroke-linecap:butt; stroke-linejoin:round; stroke-width:2; stroke-opacity:0.1; fill:none\" points=\"\n",
       "  277.431,415.747 2352.76,415.747 \n",
       "  \"/>\n",
       "<polyline clip-path=\"url(#clip972)\" style=\"stroke:#000000; stroke-linecap:butt; stroke-linejoin:round; stroke-width:2; stroke-opacity:0.1; fill:none\" points=\"\n",
       "  277.431,72.4237 2352.76,72.4237 \n",
       "  \"/>\n",
       "<polyline clip-path=\"url(#clip970)\" style=\"stroke:#000000; stroke-linecap:butt; stroke-linejoin:round; stroke-width:4; stroke-opacity:1; fill:none\" points=\"\n",
       "  277.431,1486.45 277.431,47.2441 \n",
       "  \"/>\n",
       "<polyline clip-path=\"url(#clip970)\" style=\"stroke:#000000; stroke-linecap:butt; stroke-linejoin:round; stroke-width:4; stroke-opacity:1; fill:none\" points=\"\n",
       "  277.431,1445.72 296.329,1445.72 \n",
       "  \"/>\n",
       "<polyline clip-path=\"url(#clip970)\" style=\"stroke:#000000; stroke-linecap:butt; stroke-linejoin:round; stroke-width:4; stroke-opacity:1; fill:none\" points=\"\n",
       "  277.431,1102.39 296.329,1102.39 \n",
       "  \"/>\n",
       "<polyline clip-path=\"url(#clip970)\" style=\"stroke:#000000; stroke-linecap:butt; stroke-linejoin:round; stroke-width:4; stroke-opacity:1; fill:none\" points=\"\n",
       "  277.431,759.07 296.329,759.07 \n",
       "  \"/>\n",
       "<polyline clip-path=\"url(#clip970)\" style=\"stroke:#000000; stroke-linecap:butt; stroke-linejoin:round; stroke-width:4; stroke-opacity:1; fill:none\" points=\"\n",
       "  277.431,415.747 296.329,415.747 \n",
       "  \"/>\n",
       "<polyline clip-path=\"url(#clip970)\" style=\"stroke:#000000; stroke-linecap:butt; stroke-linejoin:round; stroke-width:4; stroke-opacity:1; fill:none\" points=\"\n",
       "  277.431,72.4237 296.329,72.4237 \n",
       "  \"/>\n",
       "<path clip-path=\"url(#clip970)\" d=\"M229.487 1431.51 Q225.875 1431.51 224.047 1435.08 Q222.241 1438.62 222.241 1445.75 Q222.241 1452.86 224.047 1456.42 Q225.875 1459.96 229.487 1459.96 Q233.121 1459.96 234.926 1456.42 Q236.755 1452.86 236.755 1445.75 Q236.755 1438.62 234.926 1435.08 Q233.121 1431.51 229.487 1431.51 M229.487 1427.81 Q235.297 1427.81 238.352 1432.42 Q241.431 1437 241.431 1445.75 Q241.431 1454.48 238.352 1459.08 Q235.297 1463.67 229.487 1463.67 Q223.676 1463.67 220.598 1459.08 Q217.542 1454.48 217.542 1445.75 Q217.542 1437 220.598 1432.42 Q223.676 1427.81 229.487 1427.81 Z\" fill=\"#000000\" fill-rule=\"evenodd\" fill-opacity=\"1\" /><path clip-path=\"url(#clip970)\" d=\"M57.7745 1122.19 L74.0939 1122.19 L74.0939 1126.12 L52.1495 1126.12 L52.1495 1122.19 Q54.8115 1119.43 59.3949 1114.8 Q64.0013 1110.15 65.1819 1108.81 Q67.4272 1106.28 68.3068 1104.55 Q69.2096 1102.79 69.2096 1101.1 Q69.2096 1098.34 67.2652 1096.61 Q65.3439 1094.87 62.2421 1094.87 Q60.043 1094.87 57.5893 1095.63 Q55.1588 1096.4 52.381 1097.95 L52.381 1093.23 Q55.2051 1092.09 57.6588 1091.51 Q60.1124 1090.94 62.1495 1090.94 Q67.5198 1090.94 70.7142 1093.62 Q73.9087 1096.31 73.9087 1100.8 Q73.9087 1102.93 73.0985 1104.85 Q72.3115 1106.75 70.205 1109.34 Q69.6263 1110.01 66.5245 1113.23 Q63.4226 1116.42 57.7745 1122.19 Z\" fill=\"#000000\" fill-rule=\"evenodd\" fill-opacity=\"1\" /><path clip-path=\"url(#clip970)\" d=\"M83.9086 1120.24 L88.7928 1120.24 L88.7928 1126.12 L83.9086 1126.12 L83.9086 1120.24 Z\" fill=\"#000000\" fill-rule=\"evenodd\" fill-opacity=\"1\" /><path clip-path=\"url(#clip970)\" d=\"M108.978 1094.64 Q105.367 1094.64 103.538 1098.2 Q101.733 1101.75 101.733 1108.88 Q101.733 1115.98 103.538 1119.55 Q105.367 1123.09 108.978 1123.09 Q112.612 1123.09 114.418 1119.55 Q116.246 1115.98 116.246 1108.88 Q116.246 1101.75 114.418 1098.2 Q112.612 1094.64 108.978 1094.64 M108.978 1090.94 Q114.788 1090.94 117.844 1095.54 Q120.922 1100.13 120.922 1108.88 Q120.922 1117.6 117.844 1122.21 Q114.788 1126.79 108.978 1126.79 Q103.168 1126.79 100.089 1122.21 Q97.0335 1117.6 97.0335 1108.88 Q97.0335 1100.13 100.089 1095.54 Q103.168 1090.94 108.978 1090.94 Z\" fill=\"#000000\" fill-rule=\"evenodd\" fill-opacity=\"1\" /><path clip-path=\"url(#clip970)\" d=\"M157.311 1100.66 L146.732 1111.28 L157.311 1121.86 L154.556 1124.66 L143.931 1114.04 L133.306 1124.66 L130.575 1121.86 L141.131 1111.28 L130.575 1100.66 L133.306 1097.86 L143.931 1108.48 L154.556 1097.86 L157.311 1100.66 Z\" fill=\"#000000\" fill-rule=\"evenodd\" fill-opacity=\"1\" /><path clip-path=\"url(#clip970)\" d=\"M169.672 1122.19 L177.311 1122.19 L177.311 1095.82 L169.001 1097.49 L169.001 1093.23 L177.265 1091.56 L181.94 1091.56 L181.94 1122.19 L189.579 1122.19 L189.579 1126.12 L169.672 1126.12 L169.672 1122.19 Z\" fill=\"#000000\" fill-rule=\"evenodd\" fill-opacity=\"1\" /><path clip-path=\"url(#clip970)\" d=\"M209.024 1094.64 Q205.413 1094.64 203.584 1098.2 Q201.778 1101.75 201.778 1108.88 Q201.778 1115.98 203.584 1119.55 Q205.413 1123.09 209.024 1123.09 Q212.658 1123.09 214.463 1119.55 Q216.292 1115.98 216.292 1108.88 Q216.292 1101.75 214.463 1098.2 Q212.658 1094.64 209.024 1094.64 M209.024 1090.94 Q214.834 1090.94 217.889 1095.54 Q220.968 1100.13 220.968 1108.88 Q220.968 1117.6 217.889 1122.21 Q214.834 1126.79 209.024 1126.79 Q203.214 1126.79 200.135 1122.21 Q197.079 1117.6 197.079 1108.88 Q197.079 1100.13 200.135 1095.54 Q203.214 1090.94 209.024 1090.94 Z\" fill=\"#000000\" fill-rule=\"evenodd\" fill-opacity=\"1\" /><path clip-path=\"url(#clip970)\" d=\"M233.645 1073.94 L224.053 1088.93 L233.645 1088.93 L233.645 1073.94 M232.648 1070.63 L237.425 1070.63 L237.425 1088.93 L241.431 1088.93 L241.431 1092.09 L237.425 1092.09 L237.425 1098.71 L233.645 1098.71 L233.645 1092.09 L220.968 1092.09 L220.968 1088.42 L232.648 1070.63 Z\" fill=\"#000000\" fill-rule=\"evenodd\" fill-opacity=\"1\" /><path clip-path=\"url(#clip970)\" d=\"M66.5939 752.311 L54.7884 770.76 L66.5939 770.76 L66.5939 752.311 M65.367 748.237 L71.2466 748.237 L71.2466 770.76 L76.1772 770.76 L76.1772 774.649 L71.2466 774.649 L71.2466 782.797 L66.5939 782.797 L66.5939 774.649 L50.9921 774.649 L50.9921 770.135 L65.367 748.237 Z\" fill=\"#000000\" fill-rule=\"evenodd\" fill-opacity=\"1\" /><path clip-path=\"url(#clip970)\" d=\"M83.9086 776.918 L88.7928 776.918 L88.7928 782.797 L83.9086 782.797 L83.9086 776.918 Z\" fill=\"#000000\" fill-rule=\"evenodd\" fill-opacity=\"1\" /><path clip-path=\"url(#clip970)\" d=\"M108.978 751.316 Q105.367 751.316 103.538 754.881 Q101.733 758.422 101.733 765.552 Q101.733 772.658 103.538 776.223 Q105.367 779.765 108.978 779.765 Q112.612 779.765 114.418 776.223 Q116.246 772.658 116.246 765.552 Q116.246 758.422 114.418 754.881 Q112.612 751.316 108.978 751.316 M108.978 747.612 Q114.788 747.612 117.844 752.219 Q120.922 756.802 120.922 765.552 Q120.922 774.279 117.844 778.885 Q114.788 783.469 108.978 783.469 Q103.168 783.469 100.089 778.885 Q97.0335 774.279 97.0335 765.552 Q97.0335 756.802 100.089 752.219 Q103.168 747.612 108.978 747.612 Z\" fill=\"#000000\" fill-rule=\"evenodd\" fill-opacity=\"1\" /><path clip-path=\"url(#clip970)\" d=\"M157.311 757.334 L146.732 767.959 L157.311 778.538 L154.556 781.339 L143.931 770.714 L133.306 781.339 L130.575 778.538 L141.131 767.959 L130.575 757.334 L133.306 754.534 L143.931 765.159 L154.556 754.534 L157.311 757.334 Z\" fill=\"#000000\" fill-rule=\"evenodd\" fill-opacity=\"1\" /><path clip-path=\"url(#clip970)\" d=\"M169.672 778.862 L177.311 778.862 L177.311 752.497 L169.001 754.163 L169.001 749.904 L177.265 748.237 L181.94 748.237 L181.94 778.862 L189.579 778.862 L189.579 782.797 L169.672 782.797 L169.672 778.862 Z\" fill=\"#000000\" fill-rule=\"evenodd\" fill-opacity=\"1\" /><path clip-path=\"url(#clip970)\" d=\"M209.024 751.316 Q205.413 751.316 203.584 754.881 Q201.778 758.422 201.778 765.552 Q201.778 772.658 203.584 776.223 Q205.413 779.765 209.024 779.765 Q212.658 779.765 214.463 776.223 Q216.292 772.658 216.292 765.552 Q216.292 758.422 214.463 754.881 Q212.658 751.316 209.024 751.316 M209.024 747.612 Q214.834 747.612 217.889 752.219 Q220.968 756.802 220.968 765.552 Q220.968 774.279 217.889 778.885 Q214.834 783.469 209.024 783.469 Q203.214 783.469 200.135 778.885 Q197.079 774.279 197.079 765.552 Q197.079 756.802 200.135 752.219 Q203.214 747.612 209.024 747.612 Z\" fill=\"#000000\" fill-rule=\"evenodd\" fill-opacity=\"1\" /><path clip-path=\"url(#clip970)\" d=\"M233.645 730.617 L224.053 745.607 L233.645 745.607 L233.645 730.617 M232.648 727.307 L237.425 727.307 L237.425 745.607 L241.431 745.607 L241.431 748.767 L237.425 748.767 L237.425 755.387 L233.645 755.387 L233.645 748.767 L220.968 748.767 L220.968 745.099 L232.648 727.307 Z\" fill=\"#000000\" fill-rule=\"evenodd\" fill-opacity=\"1\" /><path clip-path=\"url(#clip970)\" d=\"M64.3254 420.331 Q61.1773 420.331 59.3254 422.484 Q57.4967 424.636 57.4967 428.386 Q57.4967 432.113 59.3254 434.289 Q61.1773 436.442 64.3254 436.442 Q67.4735 436.442 69.3022 434.289 Q71.1541 432.113 71.1541 428.386 Q71.1541 424.636 69.3022 422.484 Q67.4735 420.331 64.3254 420.331 M73.6077 405.678 L73.6077 409.937 Q71.8485 409.104 70.0429 408.664 Q68.2606 408.224 66.5013 408.224 Q61.8717 408.224 59.418 411.349 Q56.9875 414.474 56.6402 420.794 Q58.006 418.78 60.0662 417.715 Q62.1263 416.627 64.6032 416.627 Q69.8115 416.627 72.8207 419.799 Q75.8531 422.947 75.8531 428.386 Q75.8531 433.71 72.705 436.928 Q69.5568 440.146 64.3254 440.146 Q58.33 440.146 55.1588 435.562 Q51.9875 430.956 51.9875 422.229 Q51.9875 414.035 55.8764 409.174 Q59.7652 404.289 66.3161 404.289 Q68.0754 404.289 69.8578 404.637 Q71.6633 404.984 73.6077 405.678 Z\" fill=\"#000000\" fill-rule=\"evenodd\" fill-opacity=\"1\" /><path clip-path=\"url(#clip970)\" d=\"M83.9086 433.595 L88.7928 433.595 L88.7928 439.474 L83.9086 439.474 L83.9086 433.595 Z\" fill=\"#000000\" fill-rule=\"evenodd\" fill-opacity=\"1\" /><path clip-path=\"url(#clip970)\" d=\"M108.978 407.993 Q105.367 407.993 103.538 411.558 Q101.733 415.099 101.733 422.229 Q101.733 429.335 103.538 432.9 Q105.367 436.442 108.978 436.442 Q112.612 436.442 114.418 432.9 Q116.246 429.335 116.246 422.229 Q116.246 415.099 114.418 411.558 Q112.612 407.993 108.978 407.993 M108.978 404.289 Q114.788 404.289 117.844 408.896 Q120.922 413.479 120.922 422.229 Q120.922 430.956 117.844 435.562 Q114.788 440.146 108.978 440.146 Q103.168 440.146 100.089 435.562 Q97.0335 430.956 97.0335 422.229 Q97.0335 413.479 100.089 408.896 Q103.168 404.289 108.978 404.289 Z\" fill=\"#000000\" fill-rule=\"evenodd\" fill-opacity=\"1\" /><path clip-path=\"url(#clip970)\" d=\"M157.311 414.012 L146.732 424.636 L157.311 435.215 L154.556 438.016 L143.931 427.391 L133.306 438.016 L130.575 435.215 L141.131 424.636 L130.575 414.012 L133.306 411.211 L143.931 421.836 L154.556 411.211 L157.311 414.012 Z\" fill=\"#000000\" fill-rule=\"evenodd\" fill-opacity=\"1\" /><path clip-path=\"url(#clip970)\" d=\"M169.672 435.539 L177.311 435.539 L177.311 409.174 L169.001 410.84 L169.001 406.581 L177.265 404.914 L181.94 404.914 L181.94 435.539 L189.579 435.539 L189.579 439.474 L169.672 439.474 L169.672 435.539 Z\" fill=\"#000000\" fill-rule=\"evenodd\" fill-opacity=\"1\" /><path clip-path=\"url(#clip970)\" d=\"M209.024 407.993 Q205.413 407.993 203.584 411.558 Q201.778 415.099 201.778 422.229 Q201.778 429.335 203.584 432.9 Q205.413 436.442 209.024 436.442 Q212.658 436.442 214.463 432.9 Q216.292 429.335 216.292 422.229 Q216.292 415.099 214.463 411.558 Q212.658 407.993 209.024 407.993 M209.024 404.289 Q214.834 404.289 217.889 408.896 Q220.968 413.479 220.968 422.229 Q220.968 430.956 217.889 435.562 Q214.834 440.146 209.024 440.146 Q203.214 440.146 200.135 435.562 Q197.079 430.956 197.079 422.229 Q197.079 413.479 200.135 408.896 Q203.214 404.289 209.024 404.289 Z\" fill=\"#000000\" fill-rule=\"evenodd\" fill-opacity=\"1\" /><path clip-path=\"url(#clip970)\" d=\"M233.645 387.294 L224.053 402.284 L233.645 402.284 L233.645 387.294 M232.648 383.984 L237.425 383.984 L237.425 402.284 L241.431 402.284 L241.431 405.444 L237.425 405.444 L237.425 412.064 L233.645 412.064 L233.645 405.444 L220.968 405.444 L220.968 401.776 L232.648 383.984 Z\" fill=\"#000000\" fill-rule=\"evenodd\" fill-opacity=\"1\" /><path clip-path=\"url(#clip970)\" d=\"M63.7467 79.7394 Q60.4134 79.7394 58.4921 81.5218 Q56.5939 83.3042 56.5939 86.4292 Q56.5939 89.5542 58.4921 91.3366 Q60.4134 93.119 63.7467 93.119 Q67.08 93.119 69.0013 91.3366 Q70.9226 89.531 70.9226 86.4292 Q70.9226 83.3042 69.0013 81.5218 Q67.1032 79.7394 63.7467 79.7394 M59.0708 77.7487 Q56.0615 77.0079 54.3717 74.9478 Q52.7051 72.8876 52.7051 69.9246 Q52.7051 65.7811 55.6449 63.3737 Q58.6078 60.9663 63.7467 60.9663 Q68.9087 60.9663 71.8485 63.3737 Q74.7883 65.7811 74.7883 69.9246 Q74.7883 72.8876 73.0985 74.9478 Q71.4318 77.0079 68.4457 77.7487 Q71.8253 78.5357 73.7003 80.8274 Q75.5985 83.119 75.5985 86.4292 Q75.5985 91.4523 72.5198 94.1375 Q69.4642 96.8226 63.7467 96.8226 Q58.0291 96.8226 54.9504 94.1375 Q51.8949 91.4523 51.8949 86.4292 Q51.8949 83.119 53.793 80.8274 Q55.6912 78.5357 59.0708 77.7487 M57.3578 70.3644 Q57.3578 73.0496 59.0245 74.5542 Q60.7143 76.0589 63.7467 76.0589 Q66.7559 76.0589 68.4457 74.5542 Q70.1587 73.0496 70.1587 70.3644 Q70.1587 67.6793 68.4457 66.1747 Q66.7559 64.67 63.7467 64.67 Q60.7143 64.67 59.0245 66.1747 Q57.3578 67.6793 57.3578 70.3644 Z\" fill=\"#000000\" fill-rule=\"evenodd\" fill-opacity=\"1\" /><path clip-path=\"url(#clip970)\" d=\"M83.9086 90.2717 L88.7928 90.2717 L88.7928 96.1513 L83.9086 96.1513 L83.9086 90.2717 Z\" fill=\"#000000\" fill-rule=\"evenodd\" fill-opacity=\"1\" /><path clip-path=\"url(#clip970)\" d=\"M108.978 64.67 Q105.367 64.67 103.538 68.2348 Q101.733 71.7765 101.733 78.9061 Q101.733 86.0125 103.538 89.5773 Q105.367 93.119 108.978 93.119 Q112.612 93.119 114.418 89.5773 Q116.246 86.0125 116.246 78.9061 Q116.246 71.7765 114.418 68.2348 Q112.612 64.67 108.978 64.67 M108.978 60.9663 Q114.788 60.9663 117.844 65.5728 Q120.922 70.1561 120.922 78.9061 Q120.922 87.6329 117.844 92.2393 Q114.788 96.8226 108.978 96.8226 Q103.168 96.8226 100.089 92.2393 Q97.0335 87.6329 97.0335 78.9061 Q97.0335 70.1561 100.089 65.5728 Q103.168 60.9663 108.978 60.9663 Z\" fill=\"#000000\" fill-rule=\"evenodd\" fill-opacity=\"1\" /><path clip-path=\"url(#clip970)\" d=\"M157.311 70.6885 L146.732 81.3135 L157.311 91.8921 L154.556 94.693 L143.931 84.0681 L133.306 94.693 L130.575 91.8921 L141.131 81.3135 L130.575 70.6885 L133.306 67.8876 L143.931 78.5126 L154.556 67.8876 L157.311 70.6885 Z\" fill=\"#000000\" fill-rule=\"evenodd\" fill-opacity=\"1\" /><path clip-path=\"url(#clip970)\" d=\"M169.672 92.2162 L177.311 92.2162 L177.311 65.8506 L169.001 67.5172 L169.001 63.258 L177.265 61.5913 L181.94 61.5913 L181.94 92.2162 L189.579 92.2162 L189.579 96.1513 L169.672 96.1513 L169.672 92.2162 Z\" fill=\"#000000\" fill-rule=\"evenodd\" fill-opacity=\"1\" /><path clip-path=\"url(#clip970)\" d=\"M209.024 64.67 Q205.413 64.67 203.584 68.2348 Q201.778 71.7765 201.778 78.9061 Q201.778 86.0125 203.584 89.5773 Q205.413 93.119 209.024 93.119 Q212.658 93.119 214.463 89.5773 Q216.292 86.0125 216.292 78.9061 Q216.292 71.7765 214.463 68.2348 Q212.658 64.67 209.024 64.67 M209.024 60.9663 Q214.834 60.9663 217.889 65.5728 Q220.968 70.1561 220.968 78.9061 Q220.968 87.6329 217.889 92.2393 Q214.834 96.8226 209.024 96.8226 Q203.214 96.8226 200.135 92.2393 Q197.079 87.6329 197.079 78.9061 Q197.079 70.1561 200.135 65.5728 Q203.214 60.9663 209.024 60.9663 Z\" fill=\"#000000\" fill-rule=\"evenodd\" fill-opacity=\"1\" /><path clip-path=\"url(#clip970)\" d=\"M233.645 43.9711 L224.053 58.9609 L233.645 58.9609 L233.645 43.9711 M232.648 40.6609 L237.425 40.6609 L237.425 58.9609 L241.431 58.9609 L241.431 62.1206 L237.425 62.1206 L237.425 68.7409 L233.645 68.7409 L233.645 62.1206 L220.968 62.1206 L220.968 58.4531 L232.648 40.6609 Z\" fill=\"#000000\" fill-rule=\"evenodd\" fill-opacity=\"1\" /><path clip-path=\"url(#clip972)\" d=\"\n",
       "M391.577 770.056 L391.577 1445.72 L436.627 1445.72 L436.627 770.056 L391.577 770.056 L391.577 770.056  Z\n",
       "  \" fill=\"#009af9\" fill-rule=\"evenodd\" fill-opacity=\"1\"/>\n",
       "<polyline clip-path=\"url(#clip972)\" style=\"stroke:#000000; stroke-linecap:butt; stroke-linejoin:round; stroke-width:4; stroke-opacity:1; fill:none\" points=\"\n",
       "  391.577,770.056 391.577,1445.72 436.627,1445.72 436.627,770.056 391.577,770.056 \n",
       "  \"/>\n",
       "<path clip-path=\"url(#clip972)\" d=\"\n",
       "M436.627 1445.72 L436.627 1445.72 L481.677 1445.72 L481.677 1445.72 L436.627 1445.72 L436.627 1445.72  Z\n",
       "  \" fill=\"#009af9\" fill-rule=\"evenodd\" fill-opacity=\"1\"/>\n",
       "<polyline clip-path=\"url(#clip972)\" style=\"stroke:#000000; stroke-linecap:butt; stroke-linejoin:round; stroke-width:4; stroke-opacity:1; fill:none\" points=\"\n",
       "  436.627,1445.72 436.627,1445.72 481.677,1445.72 436.627,1445.72 \n",
       "  \"/>\n",
       "<path clip-path=\"url(#clip972)\" d=\"\n",
       "M481.677 1445.72 L481.677 1445.72 L526.726 1445.72 L526.726 1445.72 L481.677 1445.72 L481.677 1445.72  Z\n",
       "  \" fill=\"#009af9\" fill-rule=\"evenodd\" fill-opacity=\"1\"/>\n",
       "<polyline clip-path=\"url(#clip972)\" style=\"stroke:#000000; stroke-linecap:butt; stroke-linejoin:round; stroke-width:4; stroke-opacity:1; fill:none\" points=\"\n",
       "  481.677,1445.72 481.677,1445.72 526.726,1445.72 481.677,1445.72 \n",
       "  \"/>\n",
       "<path clip-path=\"url(#clip972)\" d=\"\n",
       "M526.726 1445.72 L526.726 1445.72 L571.776 1445.72 L571.776 1445.72 L526.726 1445.72 L526.726 1445.72  Z\n",
       "  \" fill=\"#009af9\" fill-rule=\"evenodd\" fill-opacity=\"1\"/>\n",
       "<polyline clip-path=\"url(#clip972)\" style=\"stroke:#000000; stroke-linecap:butt; stroke-linejoin:round; stroke-width:4; stroke-opacity:1; fill:none\" points=\"\n",
       "  526.726,1445.72 526.726,1445.72 571.776,1445.72 526.726,1445.72 \n",
       "  \"/>\n",
       "<path clip-path=\"url(#clip972)\" d=\"\n",
       "M571.776 1445.72 L571.776 1445.72 L616.825 1445.72 L616.825 1445.72 L571.776 1445.72 L571.776 1445.72  Z\n",
       "  \" fill=\"#009af9\" fill-rule=\"evenodd\" fill-opacity=\"1\"/>\n",
       "<polyline clip-path=\"url(#clip972)\" style=\"stroke:#000000; stroke-linecap:butt; stroke-linejoin:round; stroke-width:4; stroke-opacity:1; fill:none\" points=\"\n",
       "  571.776,1445.72 571.776,1445.72 616.825,1445.72 571.776,1445.72 \n",
       "  \"/>\n",
       "<path clip-path=\"url(#clip972)\" d=\"\n",
       "M616.825 1445.72 L616.825 1445.72 L661.875 1445.72 L661.875 1445.72 L616.825 1445.72 L616.825 1445.72  Z\n",
       "  \" fill=\"#009af9\" fill-rule=\"evenodd\" fill-opacity=\"1\"/>\n",
       "<polyline clip-path=\"url(#clip972)\" style=\"stroke:#000000; stroke-linecap:butt; stroke-linejoin:round; stroke-width:4; stroke-opacity:1; fill:none\" points=\"\n",
       "  616.825,1445.72 616.825,1445.72 661.875,1445.72 616.825,1445.72 \n",
       "  \"/>\n",
       "<path clip-path=\"url(#clip972)\" d=\"\n",
       "M661.875 1445.72 L661.875 1445.72 L706.924 1445.72 L706.924 1445.72 L661.875 1445.72 L661.875 1445.72  Z\n",
       "  \" fill=\"#009af9\" fill-rule=\"evenodd\" fill-opacity=\"1\"/>\n",
       "<polyline clip-path=\"url(#clip972)\" style=\"stroke:#000000; stroke-linecap:butt; stroke-linejoin:round; stroke-width:4; stroke-opacity:1; fill:none\" points=\"\n",
       "  661.875,1445.72 661.875,1445.72 706.924,1445.72 661.875,1445.72 \n",
       "  \"/>\n",
       "<path clip-path=\"url(#clip972)\" d=\"\n",
       "M706.924 1445.72 L706.924 1445.72 L751.974 1445.72 L751.974 1445.72 L706.924 1445.72 L706.924 1445.72  Z\n",
       "  \" fill=\"#009af9\" fill-rule=\"evenodd\" fill-opacity=\"1\"/>\n",
       "<polyline clip-path=\"url(#clip972)\" style=\"stroke:#000000; stroke-linecap:butt; stroke-linejoin:round; stroke-width:4; stroke-opacity:1; fill:none\" points=\"\n",
       "  706.924,1445.72 706.924,1445.72 751.974,1445.72 706.924,1445.72 \n",
       "  \"/>\n",
       "<path clip-path=\"url(#clip972)\" d=\"\n",
       "M751.974 1445.72 L751.974 1445.72 L797.024 1445.72 L797.024 1445.72 L751.974 1445.72 L751.974 1445.72  Z\n",
       "  \" fill=\"#009af9\" fill-rule=\"evenodd\" fill-opacity=\"1\"/>\n",
       "<polyline clip-path=\"url(#clip972)\" style=\"stroke:#000000; stroke-linecap:butt; stroke-linejoin:round; stroke-width:4; stroke-opacity:1; fill:none\" points=\"\n",
       "  751.974,1445.72 751.974,1445.72 797.024,1445.72 751.974,1445.72 \n",
       "  \"/>\n",
       "<path clip-path=\"url(#clip972)\" d=\"\n",
       "M797.024 1445.72 L797.024 1445.72 L842.073 1445.72 L842.073 1445.72 L797.024 1445.72 L797.024 1445.72  Z\n",
       "  \" fill=\"#009af9\" fill-rule=\"evenodd\" fill-opacity=\"1\"/>\n",
       "<polyline clip-path=\"url(#clip972)\" style=\"stroke:#000000; stroke-linecap:butt; stroke-linejoin:round; stroke-width:4; stroke-opacity:1; fill:none\" points=\"\n",
       "  797.024,1445.72 797.024,1445.72 842.073,1445.72 797.024,1445.72 \n",
       "  \"/>\n",
       "<path clip-path=\"url(#clip972)\" d=\"\n",
       "M842.073 1445.72 L842.073 1445.72 L887.123 1445.72 L887.123 1445.72 L842.073 1445.72 L842.073 1445.72  Z\n",
       "  \" fill=\"#009af9\" fill-rule=\"evenodd\" fill-opacity=\"1\"/>\n",
       "<polyline clip-path=\"url(#clip972)\" style=\"stroke:#000000; stroke-linecap:butt; stroke-linejoin:round; stroke-width:4; stroke-opacity:1; fill:none\" points=\"\n",
       "  842.073,1445.72 842.073,1445.72 887.123,1445.72 842.073,1445.72 \n",
       "  \"/>\n",
       "<path clip-path=\"url(#clip972)\" d=\"\n",
       "M887.123 1445.72 L887.123 1445.72 L932.172 1445.72 L932.172 1445.72 L887.123 1445.72 L887.123 1445.72  Z\n",
       "  \" fill=\"#009af9\" fill-rule=\"evenodd\" fill-opacity=\"1\"/>\n",
       "<polyline clip-path=\"url(#clip972)\" style=\"stroke:#000000; stroke-linecap:butt; stroke-linejoin:round; stroke-width:4; stroke-opacity:1; fill:none\" points=\"\n",
       "  887.123,1445.72 887.123,1445.72 932.172,1445.72 887.123,1445.72 \n",
       "  \"/>\n",
       "<path clip-path=\"url(#clip972)\" d=\"\n",
       "M932.172 1445.72 L932.172 1445.72 L977.222 1445.72 L977.222 1445.72 L932.172 1445.72 L932.172 1445.72  Z\n",
       "  \" fill=\"#009af9\" fill-rule=\"evenodd\" fill-opacity=\"1\"/>\n",
       "<polyline clip-path=\"url(#clip972)\" style=\"stroke:#000000; stroke-linecap:butt; stroke-linejoin:round; stroke-width:4; stroke-opacity:1; fill:none\" points=\"\n",
       "  932.172,1445.72 932.172,1445.72 977.222,1445.72 932.172,1445.72 \n",
       "  \"/>\n",
       "<path clip-path=\"url(#clip972)\" d=\"\n",
       "M977.222 1445.72 L977.222 1445.72 L1022.27 1445.72 L1022.27 1445.72 L977.222 1445.72 L977.222 1445.72  Z\n",
       "  \" fill=\"#009af9\" fill-rule=\"evenodd\" fill-opacity=\"1\"/>\n",
       "<polyline clip-path=\"url(#clip972)\" style=\"stroke:#000000; stroke-linecap:butt; stroke-linejoin:round; stroke-width:4; stroke-opacity:1; fill:none\" points=\"\n",
       "  977.222,1445.72 977.222,1445.72 1022.27,1445.72 977.222,1445.72 \n",
       "  \"/>\n",
       "<path clip-path=\"url(#clip972)\" d=\"\n",
       "M1022.27 1445.72 L1022.27 1445.72 L1067.32 1445.72 L1067.32 1445.72 L1022.27 1445.72 L1022.27 1445.72  Z\n",
       "  \" fill=\"#009af9\" fill-rule=\"evenodd\" fill-opacity=\"1\"/>\n",
       "<polyline clip-path=\"url(#clip972)\" style=\"stroke:#000000; stroke-linecap:butt; stroke-linejoin:round; stroke-width:4; stroke-opacity:1; fill:none\" points=\"\n",
       "  1022.27,1445.72 1022.27,1445.72 1067.32,1445.72 1022.27,1445.72 \n",
       "  \"/>\n",
       "<path clip-path=\"url(#clip972)\" d=\"\n",
       "M1067.32 1445.72 L1067.32 1445.72 L1112.37 1445.72 L1112.37 1445.72 L1067.32 1445.72 L1067.32 1445.72  Z\n",
       "  \" fill=\"#009af9\" fill-rule=\"evenodd\" fill-opacity=\"1\"/>\n",
       "<polyline clip-path=\"url(#clip972)\" style=\"stroke:#000000; stroke-linecap:butt; stroke-linejoin:round; stroke-width:4; stroke-opacity:1; fill:none\" points=\"\n",
       "  1067.32,1445.72 1067.32,1445.72 1112.37,1445.72 1067.32,1445.72 \n",
       "  \"/>\n",
       "<path clip-path=\"url(#clip972)\" d=\"\n",
       "M1112.37 1445.72 L1112.37 1445.72 L1157.42 1445.72 L1157.42 1445.72 L1112.37 1445.72 L1112.37 1445.72  Z\n",
       "  \" fill=\"#009af9\" fill-rule=\"evenodd\" fill-opacity=\"1\"/>\n",
       "<polyline clip-path=\"url(#clip972)\" style=\"stroke:#000000; stroke-linecap:butt; stroke-linejoin:round; stroke-width:4; stroke-opacity:1; fill:none\" points=\"\n",
       "  1112.37,1445.72 1112.37,1445.72 1157.42,1445.72 1112.37,1445.72 \n",
       "  \"/>\n",
       "<path clip-path=\"url(#clip972)\" d=\"\n",
       "M1157.42 1445.72 L1157.42 1445.72 L1202.47 1445.72 L1202.47 1445.72 L1157.42 1445.72 L1157.42 1445.72  Z\n",
       "  \" fill=\"#009af9\" fill-rule=\"evenodd\" fill-opacity=\"1\"/>\n",
       "<polyline clip-path=\"url(#clip972)\" style=\"stroke:#000000; stroke-linecap:butt; stroke-linejoin:round; stroke-width:4; stroke-opacity:1; fill:none\" points=\"\n",
       "  1157.42,1445.72 1157.42,1445.72 1202.47,1445.72 1157.42,1445.72 \n",
       "  \"/>\n",
       "<path clip-path=\"url(#clip972)\" d=\"\n",
       "M1202.47 1445.72 L1202.47 1445.72 L1247.52 1445.72 L1247.52 1445.72 L1202.47 1445.72 L1202.47 1445.72  Z\n",
       "  \" fill=\"#009af9\" fill-rule=\"evenodd\" fill-opacity=\"1\"/>\n",
       "<polyline clip-path=\"url(#clip972)\" style=\"stroke:#000000; stroke-linecap:butt; stroke-linejoin:round; stroke-width:4; stroke-opacity:1; fill:none\" points=\"\n",
       "  1202.47,1445.72 1202.47,1445.72 1247.52,1445.72 1202.47,1445.72 \n",
       "  \"/>\n",
       "<path clip-path=\"url(#clip972)\" d=\"\n",
       "M1247.52 1445.72 L1247.52 1445.72 L1292.57 1445.72 L1292.57 1445.72 L1247.52 1445.72 L1247.52 1445.72  Z\n",
       "  \" fill=\"#009af9\" fill-rule=\"evenodd\" fill-opacity=\"1\"/>\n",
       "<polyline clip-path=\"url(#clip972)\" style=\"stroke:#000000; stroke-linecap:butt; stroke-linejoin:round; stroke-width:4; stroke-opacity:1; fill:none\" points=\"\n",
       "  1247.52,1445.72 1247.52,1445.72 1292.57,1445.72 1247.52,1445.72 \n",
       "  \"/>\n",
       "<path clip-path=\"url(#clip972)\" d=\"\n",
       "M1292.57 87.9763 L1292.57 1445.72 L1337.62 1445.72 L1337.62 87.9763 L1292.57 87.9763 L1292.57 87.9763  Z\n",
       "  \" fill=\"#009af9\" fill-rule=\"evenodd\" fill-opacity=\"1\"/>\n",
       "<polyline clip-path=\"url(#clip972)\" style=\"stroke:#000000; stroke-linecap:butt; stroke-linejoin:round; stroke-width:4; stroke-opacity:1; fill:none\" points=\"\n",
       "  1292.57,87.9763 1292.57,1445.72 1337.62,1445.72 1337.62,87.9763 1292.57,87.9763 \n",
       "  \"/>\n",
       "<path clip-path=\"url(#clip972)\" d=\"\n",
       "M1337.62 1445.72 L1337.62 1445.72 L1382.67 1445.72 L1382.67 1445.72 L1337.62 1445.72 L1337.62 1445.72  Z\n",
       "  \" fill=\"#009af9\" fill-rule=\"evenodd\" fill-opacity=\"1\"/>\n",
       "<polyline clip-path=\"url(#clip972)\" style=\"stroke:#000000; stroke-linecap:butt; stroke-linejoin:round; stroke-width:4; stroke-opacity:1; fill:none\" points=\"\n",
       "  1337.62,1445.72 1337.62,1445.72 1382.67,1445.72 1337.62,1445.72 \n",
       "  \"/>\n",
       "<path clip-path=\"url(#clip972)\" d=\"\n",
       "M1382.67 1445.72 L1382.67 1445.72 L1427.72 1445.72 L1427.72 1445.72 L1382.67 1445.72 L1382.67 1445.72  Z\n",
       "  \" fill=\"#009af9\" fill-rule=\"evenodd\" fill-opacity=\"1\"/>\n",
       "<polyline clip-path=\"url(#clip972)\" style=\"stroke:#000000; stroke-linecap:butt; stroke-linejoin:round; stroke-width:4; stroke-opacity:1; fill:none\" points=\"\n",
       "  1382.67,1445.72 1382.67,1445.72 1427.72,1445.72 1382.67,1445.72 \n",
       "  \"/>\n",
       "<path clip-path=\"url(#clip972)\" d=\"\n",
       "M1427.72 1445.72 L1427.72 1445.72 L1472.77 1445.72 L1472.77 1445.72 L1427.72 1445.72 L1427.72 1445.72  Z\n",
       "  \" fill=\"#009af9\" fill-rule=\"evenodd\" fill-opacity=\"1\"/>\n",
       "<polyline clip-path=\"url(#clip972)\" style=\"stroke:#000000; stroke-linecap:butt; stroke-linejoin:round; stroke-width:4; stroke-opacity:1; fill:none\" points=\"\n",
       "  1427.72,1445.72 1427.72,1445.72 1472.77,1445.72 1427.72,1445.72 \n",
       "  \"/>\n",
       "<path clip-path=\"url(#clip972)\" d=\"\n",
       "M1472.77 1445.72 L1472.77 1445.72 L1517.82 1445.72 L1517.82 1445.72 L1472.77 1445.72 L1472.77 1445.72  Z\n",
       "  \" fill=\"#009af9\" fill-rule=\"evenodd\" fill-opacity=\"1\"/>\n",
       "<polyline clip-path=\"url(#clip972)\" style=\"stroke:#000000; stroke-linecap:butt; stroke-linejoin:round; stroke-width:4; stroke-opacity:1; fill:none\" points=\"\n",
       "  1472.77,1445.72 1472.77,1445.72 1517.82,1445.72 1472.77,1445.72 \n",
       "  \"/>\n",
       "<path clip-path=\"url(#clip972)\" d=\"\n",
       "M1517.82 1445.72 L1517.82 1445.72 L1562.87 1445.72 L1562.87 1445.72 L1517.82 1445.72 L1517.82 1445.72  Z\n",
       "  \" fill=\"#009af9\" fill-rule=\"evenodd\" fill-opacity=\"1\"/>\n",
       "<polyline clip-path=\"url(#clip972)\" style=\"stroke:#000000; stroke-linecap:butt; stroke-linejoin:round; stroke-width:4; stroke-opacity:1; fill:none\" points=\"\n",
       "  1517.82,1445.72 1517.82,1445.72 1562.87,1445.72 1517.82,1445.72 \n",
       "  \"/>\n",
       "<path clip-path=\"url(#clip972)\" d=\"\n",
       "M1562.87 1445.72 L1562.87 1445.72 L1607.92 1445.72 L1607.92 1445.72 L1562.87 1445.72 L1562.87 1445.72  Z\n",
       "  \" fill=\"#009af9\" fill-rule=\"evenodd\" fill-opacity=\"1\"/>\n",
       "<polyline clip-path=\"url(#clip972)\" style=\"stroke:#000000; stroke-linecap:butt; stroke-linejoin:round; stroke-width:4; stroke-opacity:1; fill:none\" points=\"\n",
       "  1562.87,1445.72 1562.87,1445.72 1607.92,1445.72 1562.87,1445.72 \n",
       "  \"/>\n",
       "<path clip-path=\"url(#clip972)\" d=\"\n",
       "M1607.92 1445.72 L1607.92 1445.72 L1652.97 1445.72 L1652.97 1445.72 L1607.92 1445.72 L1607.92 1445.72  Z\n",
       "  \" fill=\"#009af9\" fill-rule=\"evenodd\" fill-opacity=\"1\"/>\n",
       "<polyline clip-path=\"url(#clip972)\" style=\"stroke:#000000; stroke-linecap:butt; stroke-linejoin:round; stroke-width:4; stroke-opacity:1; fill:none\" points=\"\n",
       "  1607.92,1445.72 1607.92,1445.72 1652.97,1445.72 1607.92,1445.72 \n",
       "  \"/>\n",
       "<path clip-path=\"url(#clip972)\" d=\"\n",
       "M1652.97 1445.72 L1652.97 1445.72 L1698.01 1445.72 L1698.01 1445.72 L1652.97 1445.72 L1652.97 1445.72  Z\n",
       "  \" fill=\"#009af9\" fill-rule=\"evenodd\" fill-opacity=\"1\"/>\n",
       "<polyline clip-path=\"url(#clip972)\" style=\"stroke:#000000; stroke-linecap:butt; stroke-linejoin:round; stroke-width:4; stroke-opacity:1; fill:none\" points=\"\n",
       "  1652.97,1445.72 1652.97,1445.72 1698.01,1445.72 1652.97,1445.72 \n",
       "  \"/>\n",
       "<path clip-path=\"url(#clip972)\" d=\"\n",
       "M1698.01 1445.72 L1698.01 1445.72 L1743.06 1445.72 L1743.06 1445.72 L1698.01 1445.72 L1698.01 1445.72  Z\n",
       "  \" fill=\"#009af9\" fill-rule=\"evenodd\" fill-opacity=\"1\"/>\n",
       "<polyline clip-path=\"url(#clip972)\" style=\"stroke:#000000; stroke-linecap:butt; stroke-linejoin:round; stroke-width:4; stroke-opacity:1; fill:none\" points=\"\n",
       "  1698.01,1445.72 1698.01,1445.72 1743.06,1445.72 1698.01,1445.72 \n",
       "  \"/>\n",
       "<path clip-path=\"url(#clip972)\" d=\"\n",
       "M1743.06 1445.72 L1743.06 1445.72 L1788.11 1445.72 L1788.11 1445.72 L1743.06 1445.72 L1743.06 1445.72  Z\n",
       "  \" fill=\"#009af9\" fill-rule=\"evenodd\" fill-opacity=\"1\"/>\n",
       "<polyline clip-path=\"url(#clip972)\" style=\"stroke:#000000; stroke-linecap:butt; stroke-linejoin:round; stroke-width:4; stroke-opacity:1; fill:none\" points=\"\n",
       "  1743.06,1445.72 1743.06,1445.72 1788.11,1445.72 1743.06,1445.72 \n",
       "  \"/>\n",
       "<path clip-path=\"url(#clip972)\" d=\"\n",
       "M1788.11 1445.72 L1788.11 1445.72 L1833.16 1445.72 L1833.16 1445.72 L1788.11 1445.72 L1788.11 1445.72  Z\n",
       "  \" fill=\"#009af9\" fill-rule=\"evenodd\" fill-opacity=\"1\"/>\n",
       "<polyline clip-path=\"url(#clip972)\" style=\"stroke:#000000; stroke-linecap:butt; stroke-linejoin:round; stroke-width:4; stroke-opacity:1; fill:none\" points=\"\n",
       "  1788.11,1445.72 1788.11,1445.72 1833.16,1445.72 1788.11,1445.72 \n",
       "  \"/>\n",
       "<path clip-path=\"url(#clip972)\" d=\"\n",
       "M1833.16 1445.72 L1833.16 1445.72 L1878.21 1445.72 L1878.21 1445.72 L1833.16 1445.72 L1833.16 1445.72  Z\n",
       "  \" fill=\"#009af9\" fill-rule=\"evenodd\" fill-opacity=\"1\"/>\n",
       "<polyline clip-path=\"url(#clip972)\" style=\"stroke:#000000; stroke-linecap:butt; stroke-linejoin:round; stroke-width:4; stroke-opacity:1; fill:none\" points=\"\n",
       "  1833.16,1445.72 1833.16,1445.72 1878.21,1445.72 1833.16,1445.72 \n",
       "  \"/>\n",
       "<path clip-path=\"url(#clip972)\" d=\"\n",
       "M1878.21 1445.72 L1878.21 1445.72 L1923.26 1445.72 L1923.26 1445.72 L1878.21 1445.72 L1878.21 1445.72  Z\n",
       "  \" fill=\"#009af9\" fill-rule=\"evenodd\" fill-opacity=\"1\"/>\n",
       "<polyline clip-path=\"url(#clip972)\" style=\"stroke:#000000; stroke-linecap:butt; stroke-linejoin:round; stroke-width:4; stroke-opacity:1; fill:none\" points=\"\n",
       "  1878.21,1445.72 1878.21,1445.72 1923.26,1445.72 1878.21,1445.72 \n",
       "  \"/>\n",
       "<path clip-path=\"url(#clip972)\" d=\"\n",
       "M1923.26 1445.72 L1923.26 1445.72 L1968.31 1445.72 L1968.31 1445.72 L1923.26 1445.72 L1923.26 1445.72  Z\n",
       "  \" fill=\"#009af9\" fill-rule=\"evenodd\" fill-opacity=\"1\"/>\n",
       "<polyline clip-path=\"url(#clip972)\" style=\"stroke:#000000; stroke-linecap:butt; stroke-linejoin:round; stroke-width:4; stroke-opacity:1; fill:none\" points=\"\n",
       "  1923.26,1445.72 1923.26,1445.72 1968.31,1445.72 1923.26,1445.72 \n",
       "  \"/>\n",
       "<path clip-path=\"url(#clip972)\" d=\"\n",
       "M1968.31 1445.72 L1968.31 1445.72 L2013.36 1445.72 L2013.36 1445.72 L1968.31 1445.72 L1968.31 1445.72  Z\n",
       "  \" fill=\"#009af9\" fill-rule=\"evenodd\" fill-opacity=\"1\"/>\n",
       "<polyline clip-path=\"url(#clip972)\" style=\"stroke:#000000; stroke-linecap:butt; stroke-linejoin:round; stroke-width:4; stroke-opacity:1; fill:none\" points=\"\n",
       "  1968.31,1445.72 1968.31,1445.72 2013.36,1445.72 1968.31,1445.72 \n",
       "  \"/>\n",
       "<path clip-path=\"url(#clip972)\" d=\"\n",
       "M2013.36 1445.72 L2013.36 1445.72 L2058.41 1445.72 L2058.41 1445.72 L2013.36 1445.72 L2013.36 1445.72  Z\n",
       "  \" fill=\"#009af9\" fill-rule=\"evenodd\" fill-opacity=\"1\"/>\n",
       "<polyline clip-path=\"url(#clip972)\" style=\"stroke:#000000; stroke-linecap:butt; stroke-linejoin:round; stroke-width:4; stroke-opacity:1; fill:none\" points=\"\n",
       "  2013.36,1445.72 2013.36,1445.72 2058.41,1445.72 2013.36,1445.72 \n",
       "  \"/>\n",
       "<path clip-path=\"url(#clip972)\" d=\"\n",
       "M2058.41 1445.72 L2058.41 1445.72 L2103.46 1445.72 L2103.46 1445.72 L2058.41 1445.72 L2058.41 1445.72  Z\n",
       "  \" fill=\"#009af9\" fill-rule=\"evenodd\" fill-opacity=\"1\"/>\n",
       "<polyline clip-path=\"url(#clip972)\" style=\"stroke:#000000; stroke-linecap:butt; stroke-linejoin:round; stroke-width:4; stroke-opacity:1; fill:none\" points=\"\n",
       "  2058.41,1445.72 2058.41,1445.72 2103.46,1445.72 2058.41,1445.72 \n",
       "  \"/>\n",
       "<path clip-path=\"url(#clip972)\" d=\"\n",
       "M2103.46 1445.72 L2103.46 1445.72 L2148.51 1445.72 L2148.51 1445.72 L2103.46 1445.72 L2103.46 1445.72  Z\n",
       "  \" fill=\"#009af9\" fill-rule=\"evenodd\" fill-opacity=\"1\"/>\n",
       "<polyline clip-path=\"url(#clip972)\" style=\"stroke:#000000; stroke-linecap:butt; stroke-linejoin:round; stroke-width:4; stroke-opacity:1; fill:none\" points=\"\n",
       "  2103.46,1445.72 2103.46,1445.72 2148.51,1445.72 2103.46,1445.72 \n",
       "  \"/>\n",
       "<path clip-path=\"url(#clip972)\" d=\"\n",
       "M2148.51 1445.72 L2148.51 1445.72 L2193.56 1445.72 L2193.56 1445.72 L2148.51 1445.72 L2148.51 1445.72  Z\n",
       "  \" fill=\"#009af9\" fill-rule=\"evenodd\" fill-opacity=\"1\"/>\n",
       "<polyline clip-path=\"url(#clip972)\" style=\"stroke:#000000; stroke-linecap:butt; stroke-linejoin:round; stroke-width:4; stroke-opacity:1; fill:none\" points=\"\n",
       "  2148.51,1445.72 2148.51,1445.72 2193.56,1445.72 2148.51,1445.72 \n",
       "  \"/>\n",
       "<path clip-path=\"url(#clip972)\" d=\"\n",
       "M2193.56 770.296 L2193.56 1445.72 L2238.61 1445.72 L2238.61 770.296 L2193.56 770.296 L2193.56 770.296  Z\n",
       "  \" fill=\"#009af9\" fill-rule=\"evenodd\" fill-opacity=\"1\"/>\n",
       "<polyline clip-path=\"url(#clip972)\" style=\"stroke:#000000; stroke-linecap:butt; stroke-linejoin:round; stroke-width:4; stroke-opacity:1; fill:none\" points=\"\n",
       "  2193.56,770.296 2193.56,1445.72 2238.61,1445.72 2238.61,770.296 2193.56,770.296 \n",
       "  \"/>\n",
       "<circle clip-path=\"url(#clip972)\" style=\"fill:#009af9; stroke:none; fill-opacity:0\" cx=\"414.102\" cy=\"770.056\" r=\"2\"/>\n",
       "<circle clip-path=\"url(#clip972)\" style=\"fill:#009af9; stroke:none; fill-opacity:0\" cx=\"459.152\" cy=\"1445.72\" r=\"2\"/>\n",
       "<circle clip-path=\"url(#clip972)\" style=\"fill:#009af9; stroke:none; fill-opacity:0\" cx=\"504.201\" cy=\"1445.72\" r=\"2\"/>\n",
       "<circle clip-path=\"url(#clip972)\" style=\"fill:#009af9; stroke:none; fill-opacity:0\" cx=\"549.251\" cy=\"1445.72\" r=\"2\"/>\n",
       "<circle clip-path=\"url(#clip972)\" style=\"fill:#009af9; stroke:none; fill-opacity:0\" cx=\"594.3\" cy=\"1445.72\" r=\"2\"/>\n",
       "<circle clip-path=\"url(#clip972)\" style=\"fill:#009af9; stroke:none; fill-opacity:0\" cx=\"639.35\" cy=\"1445.72\" r=\"2\"/>\n",
       "<circle clip-path=\"url(#clip972)\" style=\"fill:#009af9; stroke:none; fill-opacity:0\" cx=\"684.4\" cy=\"1445.72\" r=\"2\"/>\n",
       "<circle clip-path=\"url(#clip972)\" style=\"fill:#009af9; stroke:none; fill-opacity:0\" cx=\"729.449\" cy=\"1445.72\" r=\"2\"/>\n",
       "<circle clip-path=\"url(#clip972)\" style=\"fill:#009af9; stroke:none; fill-opacity:0\" cx=\"774.499\" cy=\"1445.72\" r=\"2\"/>\n",
       "<circle clip-path=\"url(#clip972)\" style=\"fill:#009af9; stroke:none; fill-opacity:0\" cx=\"819.548\" cy=\"1445.72\" r=\"2\"/>\n",
       "<circle clip-path=\"url(#clip972)\" style=\"fill:#009af9; stroke:none; fill-opacity:0\" cx=\"864.598\" cy=\"1445.72\" r=\"2\"/>\n",
       "<circle clip-path=\"url(#clip972)\" style=\"fill:#009af9; stroke:none; fill-opacity:0\" cx=\"909.647\" cy=\"1445.72\" r=\"2\"/>\n",
       "<circle clip-path=\"url(#clip972)\" style=\"fill:#009af9; stroke:none; fill-opacity:0\" cx=\"954.697\" cy=\"1445.72\" r=\"2\"/>\n",
       "<circle clip-path=\"url(#clip972)\" style=\"fill:#009af9; stroke:none; fill-opacity:0\" cx=\"999.747\" cy=\"1445.72\" r=\"2\"/>\n",
       "<circle clip-path=\"url(#clip972)\" style=\"fill:#009af9; stroke:none; fill-opacity:0\" cx=\"1044.8\" cy=\"1445.72\" r=\"2\"/>\n",
       "<circle clip-path=\"url(#clip972)\" style=\"fill:#009af9; stroke:none; fill-opacity:0\" cx=\"1089.85\" cy=\"1445.72\" r=\"2\"/>\n",
       "<circle clip-path=\"url(#clip972)\" style=\"fill:#009af9; stroke:none; fill-opacity:0\" cx=\"1134.9\" cy=\"1445.72\" r=\"2\"/>\n",
       "<circle clip-path=\"url(#clip972)\" style=\"fill:#009af9; stroke:none; fill-opacity:0\" cx=\"1179.94\" cy=\"1445.72\" r=\"2\"/>\n",
       "<circle clip-path=\"url(#clip972)\" style=\"fill:#009af9; stroke:none; fill-opacity:0\" cx=\"1224.99\" cy=\"1445.72\" r=\"2\"/>\n",
       "<circle clip-path=\"url(#clip972)\" style=\"fill:#009af9; stroke:none; fill-opacity:0\" cx=\"1270.04\" cy=\"1445.72\" r=\"2\"/>\n",
       "<circle clip-path=\"url(#clip972)\" style=\"fill:#009af9; stroke:none; fill-opacity:0\" cx=\"1315.09\" cy=\"87.9763\" r=\"2\"/>\n",
       "<circle clip-path=\"url(#clip972)\" style=\"fill:#009af9; stroke:none; fill-opacity:0\" cx=\"1360.14\" cy=\"1445.72\" r=\"2\"/>\n",
       "<circle clip-path=\"url(#clip972)\" style=\"fill:#009af9; stroke:none; fill-opacity:0\" cx=\"1405.19\" cy=\"1445.72\" r=\"2\"/>\n",
       "<circle clip-path=\"url(#clip972)\" style=\"fill:#009af9; stroke:none; fill-opacity:0\" cx=\"1450.24\" cy=\"1445.72\" r=\"2\"/>\n",
       "<circle clip-path=\"url(#clip972)\" style=\"fill:#009af9; stroke:none; fill-opacity:0\" cx=\"1495.29\" cy=\"1445.72\" r=\"2\"/>\n",
       "<circle clip-path=\"url(#clip972)\" style=\"fill:#009af9; stroke:none; fill-opacity:0\" cx=\"1540.34\" cy=\"1445.72\" r=\"2\"/>\n",
       "<circle clip-path=\"url(#clip972)\" style=\"fill:#009af9; stroke:none; fill-opacity:0\" cx=\"1585.39\" cy=\"1445.72\" r=\"2\"/>\n",
       "<circle clip-path=\"url(#clip972)\" style=\"fill:#009af9; stroke:none; fill-opacity:0\" cx=\"1630.44\" cy=\"1445.72\" r=\"2\"/>\n",
       "<circle clip-path=\"url(#clip972)\" style=\"fill:#009af9; stroke:none; fill-opacity:0\" cx=\"1675.49\" cy=\"1445.72\" r=\"2\"/>\n",
       "<circle clip-path=\"url(#clip972)\" style=\"fill:#009af9; stroke:none; fill-opacity:0\" cx=\"1720.54\" cy=\"1445.72\" r=\"2\"/>\n",
       "<circle clip-path=\"url(#clip972)\" style=\"fill:#009af9; stroke:none; fill-opacity:0\" cx=\"1765.59\" cy=\"1445.72\" r=\"2\"/>\n",
       "<circle clip-path=\"url(#clip972)\" style=\"fill:#009af9; stroke:none; fill-opacity:0\" cx=\"1810.64\" cy=\"1445.72\" r=\"2\"/>\n",
       "<circle clip-path=\"url(#clip972)\" style=\"fill:#009af9; stroke:none; fill-opacity:0\" cx=\"1855.69\" cy=\"1445.72\" r=\"2\"/>\n",
       "<circle clip-path=\"url(#clip972)\" style=\"fill:#009af9; stroke:none; fill-opacity:0\" cx=\"1900.74\" cy=\"1445.72\" r=\"2\"/>\n",
       "<circle clip-path=\"url(#clip972)\" style=\"fill:#009af9; stroke:none; fill-opacity:0\" cx=\"1945.79\" cy=\"1445.72\" r=\"2\"/>\n",
       "<circle clip-path=\"url(#clip972)\" style=\"fill:#009af9; stroke:none; fill-opacity:0\" cx=\"1990.84\" cy=\"1445.72\" r=\"2\"/>\n",
       "<circle clip-path=\"url(#clip972)\" style=\"fill:#009af9; stroke:none; fill-opacity:0\" cx=\"2035.89\" cy=\"1445.72\" r=\"2\"/>\n",
       "<circle clip-path=\"url(#clip972)\" style=\"fill:#009af9; stroke:none; fill-opacity:0\" cx=\"2080.94\" cy=\"1445.72\" r=\"2\"/>\n",
       "<circle clip-path=\"url(#clip972)\" style=\"fill:#009af9; stroke:none; fill-opacity:0\" cx=\"2125.99\" cy=\"1445.72\" r=\"2\"/>\n",
       "<circle clip-path=\"url(#clip972)\" style=\"fill:#009af9; stroke:none; fill-opacity:0\" cx=\"2171.04\" cy=\"1445.72\" r=\"2\"/>\n",
       "<circle clip-path=\"url(#clip972)\" style=\"fill:#009af9; stroke:none; fill-opacity:0\" cx=\"2216.08\" cy=\"770.296\" r=\"2\"/>\n",
       "<path clip-path=\"url(#clip970)\" d=\"\n",
       "M2000.56 198.898 L2283.58 198.898 L2283.58 95.2176 L2000.56 95.2176  Z\n",
       "  \" fill=\"#ffffff\" fill-rule=\"evenodd\" fill-opacity=\"1\"/>\n",
       "<polyline clip-path=\"url(#clip970)\" style=\"stroke:#000000; stroke-linecap:butt; stroke-linejoin:round; stroke-width:4; stroke-opacity:1; fill:none\" points=\"\n",
       "  2000.56,198.898 2283.58,198.898 2283.58,95.2176 2000.56,95.2176 2000.56,198.898 \n",
       "  \"/>\n",
       "<path clip-path=\"url(#clip970)\" d=\"\n",
       "M2023.62 167.794 L2161.97 167.794 L2161.97 126.322 L2023.62 126.322 L2023.62 167.794  Z\n",
       "  \" fill=\"#009af9\" fill-rule=\"evenodd\" fill-opacity=\"1\"/>\n",
       "<polyline clip-path=\"url(#clip970)\" style=\"stroke:#000000; stroke-linecap:butt; stroke-linejoin:round; stroke-width:4; stroke-opacity:1; fill:none\" points=\"\n",
       "  2023.62,167.794 2161.97,167.794 2161.97,126.322 2023.62,126.322 2023.62,167.794 \n",
       "  \"/>\n",
       "<path clip-path=\"url(#clip970)\" d=\"M2198.87 166.745 Q2197.07 171.375 2195.35 172.787 Q2193.64 174.199 2190.77 174.199 L2187.37 174.199 L2187.37 170.634 L2189.87 170.634 Q2191.63 170.634 2192.6 169.8 Q2193.57 168.967 2194.75 165.865 L2195.52 163.921 L2185.03 138.412 L2189.54 138.412 L2197.65 158.689 L2205.75 138.412 L2210.26 138.412 L2198.87 166.745 Z\" fill=\"#000000\" fill-rule=\"evenodd\" fill-opacity=\"1\" /><path clip-path=\"url(#clip970)\" d=\"M2217.55 160.402 L2225.19 160.402 L2225.19 134.037 L2216.88 135.703 L2216.88 131.444 L2225.15 129.778 L2229.82 129.778 L2229.82 160.402 L2237.46 160.402 L2237.46 164.338 L2217.55 164.338 L2217.55 160.402 Z\" fill=\"#000000\" fill-rule=\"evenodd\" fill-opacity=\"1\" /></svg>\n"
      ]
     },
     "execution_count": 58,
     "metadata": {},
     "output_type": "execute_result"
    }
   ],
   "source": [
    "histogram(cns_pred .- cns_true)"
   ]
  },
  {
   "cell_type": "code",
   "execution_count": 40,
   "metadata": {},
   "outputs": [
    {
     "data": {
      "text/plain": [
       "0"
      ]
     },
     "execution_count": 40,
     "metadata": {},
     "output_type": "execute_result"
    }
   ],
   "source": [
    "cellnumber_df[:, 1][1]"
   ]
  },
  {
   "cell_type": "code",
   "execution_count": 35,
   "metadata": {},
   "outputs": [
    {
     "ename": "LoadError",
     "evalue": "PyError ($(Expr(:escape, :(ccall(#= /Users/Josh/.julia/packages/PyCall/twYvK/src/pyfncall.jl:43 =# @pysym(:PyObject_Call), PyPtr, (PyPtr, PyPtr, PyPtr), o, pyargsptr, kw))))) <class 'ValueError'>\nValueError(\"A value (1.820214531598487) in x_new is above the interpolation range's maximum value (1.8).\")\n  File \"/Users/Josh/Desktop/research/rfq-nn/notebooks/design_optimization/./../../compute_cellnumber/compute_cellnumber.py\", line 146, in compute_cellnumber\n    mm = m_interp(zz)\n  File \"/Users/Josh/.julia/conda/3/lib/python3.10/site-packages/scipy/interpolate/_polyint.py\", line 80, in __call__\n    y = self._evaluate(x)\n  File \"/Users/Josh/.julia/conda/3/lib/python3.10/site-packages/scipy/interpolate/_interpolate.py\", line 752, in _evaluate\n    below_bounds, above_bounds = self._check_bounds(x_new)\n  File \"/Users/Josh/.julia/conda/3/lib/python3.10/site-packages/scipy/interpolate/_interpolate.py\", line 786, in _check_bounds\n    raise ValueError(\"A value ({}) in x_new is above \"\n",
     "output_type": "error",
     "traceback": [
      "PyError ($(Expr(:escape, :(ccall(#= /Users/Josh/.julia/packages/PyCall/twYvK/src/pyfncall.jl:43 =# @pysym(:PyObject_Call), PyPtr, (PyPtr, PyPtr, PyPtr), o, pyargsptr, kw))))) <class 'ValueError'>\nValueError(\"A value (1.820214531598487) in x_new is above the interpolation range's maximum value (1.8).\")\n  File \"/Users/Josh/Desktop/research/rfq-nn/notebooks/design_optimization/./../../compute_cellnumber/compute_cellnumber.py\", line 146, in compute_cellnumber\n    mm = m_interp(zz)\n  File \"/Users/Josh/.julia/conda/3/lib/python3.10/site-packages/scipy/interpolate/_polyint.py\", line 80, in __call__\n    y = self._evaluate(x)\n  File \"/Users/Josh/.julia/conda/3/lib/python3.10/site-packages/scipy/interpolate/_interpolate.py\", line 752, in _evaluate\n    below_bounds, above_bounds = self._check_bounds(x_new)\n  File \"/Users/Josh/.julia/conda/3/lib/python3.10/site-packages/scipy/interpolate/_interpolate.py\", line 786, in _check_bounds\n    raise ValueError(\"A value ({}) in x_new is above \"\n",
      "",
      "Stacktrace:",
      "  [1] pyerr_check",
      "    @ ~/.julia/packages/PyCall/twYvK/src/exception.jl:75 [inlined]",
      "  [2] pyerr_check",
      "    @ ~/.julia/packages/PyCall/twYvK/src/exception.jl:79 [inlined]",
      "  [3] _handle_error(msg::String)",
      "    @ PyCall ~/.julia/packages/PyCall/twYvK/src/exception.jl:96",
      "  [4] macro expansion",
      "    @ ~/.julia/packages/PyCall/twYvK/src/exception.jl:110 [inlined]",
      "  [5] #107",
      "    @ ~/.julia/packages/PyCall/twYvK/src/pyfncall.jl:43 [inlined]",
      "  [6] disable_sigint",
      "    @ ./c.jl:473 [inlined]",
      "  [7] __pycall!",
      "    @ ~/.julia/packages/PyCall/twYvK/src/pyfncall.jl:42 [inlined]",
      "  [8] _pycall!(ret::PyObject, o::PyObject, args::Tuple{Dict{Any, Any}}, nargs::Int64, kw::Ptr{Nothing})",
      "    @ PyCall ~/.julia/packages/PyCall/twYvK/src/pyfncall.jl:29",
      "  [9] _pycall!",
      "    @ ~/.julia/packages/PyCall/twYvK/src/pyfncall.jl:11 [inlined]",
      " [10] #_#114",
      "    @ ~/.julia/packages/PyCall/twYvK/src/pyfncall.jl:86 [inlined]",
      " [11] (::PyObject)(args::Dict{Any, Any})",
      "    @ PyCall ~/.julia/packages/PyCall/twYvK/src/pyfncall.jl:86",
      " [12] top-level scope",
      "    @ In[35]:1",
      " [13] eval",
      "    @ ./boot.jl:368 [inlined]",
      " [14] include_string(mapexpr::typeof(REPL.softscope), mod::Module, code::String, filename::String)",
      "    @ Base ./loading.jl:1428"
     ]
    }
   ],
   "source": [
    "compute_cellnumber(jl_row_to_py_row(x_raw_df[6, :])) % 2"
   ]
  },
  {
   "cell_type": "code",
   "execution_count": 14,
   "metadata": {
    "scrolled": true
   },
   "outputs": [
    {
     "data": {
      "text/plain": [
       "44"
      ]
     },
     "execution_count": 14,
     "metadata": {},
     "output_type": "execute_result"
    }
   ],
   "source": [
    "compute_cellnumber(jl_row_to_py_row(first(x_raw_df)))"
   ]
  },
  {
   "cell_type": "markdown",
   "metadata": {},
   "source": [
    "### Final optimization\n",
    "- Maximize transmission (< 95%)\n",
    "- Output energy should be 70 KeV (0.070 MeV)\n",
    "- Minimize RFQ length\n",
    "- Minimize longitudinal emittance\n",
    "- Minimize transverse emittance"
   ]
  },
  {
   "cell_type": "code",
   "execution_count": 29,
   "metadata": {},
   "outputs": [
    {
     "data": {
      "text/plain": [
       "objective3 (generic function with 1 method)"
      ]
     },
     "execution_count": 29,
     "metadata": {},
     "output_type": "execute_result"
    }
   ],
   "source": [
    "function objective3(x_vec)\n",
    "    y = predict(x_vec)\n",
    "    target_energy_scaled = transform(y_scalers[\"OBJ2\"], 0.070)[1]\n",
    "    [-y[1], (y[2] - target_energy_scaled)^2, y[3], y[4], y[5], y[6]]\n",
    "end"
   ]
  },
  {
   "cell_type": "code",
   "execution_count": 30,
   "metadata": {},
   "outputs": [],
   "source": [
    "x3s = [sample for sample in initial_samples_with_cellnumber];\n",
    "x3s = unique(x3s)\n",
    "y3s = objective3.(x3s);"
   ]
  },
  {
   "cell_type": "code",
   "execution_count": 32,
   "metadata": {},
   "outputs": [
    {
     "data": {
      "text/plain": [
       "(::RadialBasis{Surrogates.var\"#1#2\", Int64, Vector{NTuple{15, Float64}}, Vector{Vector{Float64}}, Vector{Float64}, Vector{Float64}, Matrix{Float64}, Float64, Bool}) (generic function with 1 method)"
      ]
     },
     "execution_count": 32,
     "metadata": {},
     "output_type": "execute_result"
    }
   ],
   "source": [
    "if length(x3s) != length(unique(x3s))\n",
    "    print(\"Duplicate entries in x3\")\n",
    "end\n",
    "if length(x3s) != length(y3s)\n",
    "    print(\"Dimension mismatch between x3 and y\")\n",
    "end\n",
    "radial_basis_ego_3 = RadialBasis(x3s, y3s, repeat([-1.], 15), repeat([1.], 15))"
   ]
  },
  {
   "cell_type": "code",
   "execution_count": 35,
   "metadata": {},
   "outputs": [],
   "source": [
    "pareto_set_3, pareto_front_3 = surrogate_optimize(\n",
    "    objective3, SMB(), repeat([-1.], 15), repeat([1.], 15), radial_basis_ego_3, SobolSample();\n",
    "    maxiters = 100, n_new_look = 100\n",
    ");"
   ]
  },
  {
   "cell_type": "code",
   "execution_count": 36,
   "metadata": {},
   "outputs": [
    {
     "data": {
      "text/plain": [
       "6-element Vector{Vector{Float64}}:\n",
       " [63.90773682744614, 95.11441217259939, 96.00102484509253, 78.4978539172133, 65.2214162844422, 74.94593354046272, 68.68760943475563, 76.77794719654288, 55.812625647163635, 72.73669134311868  …  54.33054144506285, 57.09682906729952, 97.02513730213025, 55.953655258266835, 67.0458079807602, 57.54955260320244, 54.98440742731742, 61.45785754439095, 54.57009492883476, 58.518338893434866]\n",
       " [0.19417073157308737, 1.6312522980583302, 2.2373417092635286, 1.4948699694607173, 2.12485302304525, 1.2837304426223062, 1.2883649540256248, 0.8504104991332044, 0.36155244760090177, 0.47797529744472605  …  0.2817110047843377, 1.7295394315714017, 2.3685681959719265, 0.28152524163144316, 1.1520891861621052, 2.2483050440176204, 2.002347973583141, 2.1457874424614216, 2.352763212970679, 2.6793586564423095]\n",
       " [0.060235249562297505, 0.06265204024141866, 0.06813862999109634, 0.07302493411459171, 0.061572085727646386, 0.05714624606834008, 0.07465697899062922, 0.05991215051003009, 0.06771259508220309, 0.07265572474098092  …  0.07085479990604, 0.06088398097426988, 0.07403572639927286, 0.07674334319038537, 0.05703746585176429, 0.0664241392246194, 0.07326922665765655, 0.07339840132665916, 0.0676732742808756, 0.07487386279735073]\n",
       " [0.08726881431011568, 0.06065531906377483, 0.049280795156763424, 0.03878322228688108, 0.037889222017675306, 0.04517215155854609, 0.0361123216526279, 0.054196370070019664, 0.05188434870565201, 0.09053347504522823  …  0.0643547102500717, 0.01974342692853432, 0.056465547953523154, 0.08480989703637162, 0.08917147465061123, 0.032422188935754576, 0.018745152790021584, 0.04309870662819315, 0.03317031055337766, 0.0199810437007625]\n",
       " [0.032769294494609275, 0.039663466232400996, 0.025944679471193388, 0.024035991068840076, 0.02088823480661014, 0.023669777525711894, 0.026994611800127875, 0.024878863585954935, 0.0247206621634168, 0.026352525139768018  …  0.025467886714984247, 0.023799270038436713, 0.038614796021517434, 0.033763299820865934, 0.05917757484303621, 0.025933629204303612, 0.021463270306863146, 0.022774461084633296, 0.02035742780566675, 0.022412892602145552]\n",
       " [0.033981570724995656, 0.02973692345528296, 0.034579374186802826, 0.0317808447180475, 0.02632575749844534, 0.03390423319042188, 0.02324311150317629, 0.036395699802994466, 0.02115255300973163, 0.03148094648722429  …  0.035527967277871754, 0.029318517221502194, 0.031019937154670375, 0.025370141633986702, 0.05636908139231477, 0.024102219036517658, 0.0230403086154686, 0.023951895321752573, 0.025041325431387273, 0.025682414143968865]"
      ]
     },
     "execution_count": 36,
     "metadata": {},
     "output_type": "execute_result"
    }
   ],
   "source": [
    "obj1_3 = [inverse_transform(y_scalers[\"OBJ1\"], -item[1])[1] for item in pareto_front_3];\n",
    "dE_3 = [item[2] for item in pareto_front_3];\n",
    "obj3_3 = [inverse_transform(y_scalers[\"OBJ3\"], item[3])[1] for item in pareto_front_3];\n",
    "obj4_3 = [inverse_transform(y_scalers[\"OBJ4\"], item[4])[1] for item in pareto_front_3];\n",
    "obj5_3 = [inverse_transform(y_scalers[\"OBJ5\"], item[5])[1] for item in pareto_front_3];\n",
    "obj6_3 = [inverse_transform(y_scalers[\"OBJ6\"], item[6])[1] for item in pareto_front_3];\n",
    "\n",
    "unscaled_pareto_front_3 = [obj1_3, dE_3, obj3_3, obj4_3, obj5_3, obj6_3]"
   ]
  },
  {
   "cell_type": "code",
   "execution_count": 37,
   "metadata": {},
   "outputs": [
    {
     "data": {
      "text/plain": [
       "6"
      ]
     },
     "execution_count": 37,
     "metadata": {},
     "output_type": "execute_result"
    }
   ],
   "source": [
    "emit_cutoff = 0.04\n",
    "long_emit_mask = obj4_3 .< emit_cutoff; trans_emit_mask = obj5_3 .< emit_cutoff;\n",
    "\n",
    "\n",
    "transmission_cutoff = 90\n",
    "high_transmission_mask = obj1_3 .> 90\n",
    "\n",
    "sum(long_emit_mask .& trans_emit_mask .& high_transmission_mask)"
   ]
  },
  {
   "cell_type": "code",
   "execution_count": 38,
   "metadata": {},
   "outputs": [
    {
     "data": {
      "text/plain": [
       "6-element Vector{Int64}:\n",
       " 111\n",
       " 168\n",
       " 261\n",
       " 303\n",
       " 332\n",
       " 353"
      ]
     },
     "execution_count": 38,
     "metadata": {},
     "output_type": "execute_result"
    }
   ],
   "source": [
    "candidates = [i for i in 1:length(obj1_3)][long_emit_mask .& trans_emit_mask .& high_transmission_mask]"
   ]
  },
  {
   "cell_type": "code",
   "execution_count": 59,
   "metadata": {},
   "outputs": [
    {
     "name": "stdout",
     "output_type": "stream",
     "text": [
      "[0.7679930472923572 0.3380752670733307 -0.45640557252933145 -0.8362856137674357 -0.7435289543839798 -0.7734108778689787]\n",
      "[0.7866750186403212 0.3188235154034012 -0.4554849642937827 -0.826415742873267 -0.8345830277685841 -0.6575148567804928]\n"
     ]
    }
   ],
   "source": [
    "test_x_transformed = minmaxscale(\n",
    "    decorr([\n",
    "        11.312972997315228, 103.74379149079323, 149.3844627470438,\n",
    "        1.4468421232886612, 1.5137411917386079, 140.85678020119667,\n",
    "        473.1951289474964, -50.19836366921663, -43.642034931217914,\n",
    "        245.1396713256836, 245.14222234487534, 1.8956206666091737,\n",
    "        -37.693693497970166, 0.06037112592457561,\n",
    "    ]);\n",
    "    var=\"x\"\n",
    ")\n",
    "\n",
    "println(predict((test_x_transformed..., 0.)))\n",
    "println(predict((test_x_transformed..., 1.)))"
   ]
  },
  {
   "cell_type": "code",
   "execution_count": 39,
   "metadata": {},
   "outputs": [
    {
     "name": "stdout",
     "output_type": "stream",
     "text": [
      "candidate 111\n",
      "Any[11.312972997315228, 103.74379149079323, 149.3844627470438, 1.4468421232886612, 1.5137411917386079, 140.85678020119667, 473.1951289474964, -50.19836366921663, -43.642034931217914, 245.1396713256836, 245.14222234487534, 1.8956206666091737, -37.693693497970166, 0.06037112592457561]\n",
      "OBJ1: 95.28683161814637\n",
      "OBJ2: 2.809695989088585\n",
      "OBJ3: 0.06304837006663246\n",
      "OBJ4: 0.03855834786956841\n",
      "OBJ5: 0.024661802831386033\n",
      "OBJ6: 0.03333013285786453\n",
      " \n",
      "candidate 168\n",
      "Any[9.146016827784479, 64.984718054533, 76.2309538327026, 1.505210397299379, 1.790983624151413, 159.37423488497734, 287.04686722159386, -49.37874283641577, -44.208072484098636, 446.882479429245, 415.69542080163956, 1.9007704867739823, -38.63378069219178, 0.07181638060865225]\n",
      "OBJ1: 95.79925478867364\n",
      "OBJ2: 1.6381989708262623\n",
      "OBJ3: 0.06562014177207598\n",
      "OBJ4: 0.03444770569187049\n",
      "OBJ5: 0.028652583536487843\n",
      "OBJ6: 0.023653367517351667\n",
      " \n",
      "candidate 261\n",
      "Any[9.544203568715602, 125.43041591346264, 136.066503835052, 1.1370151804294437, 1.794641098681046, 227.35278563201427, 98.21846036612988, -61.292517084628344, -56.895034531228134, 452.9737477898598, 481.2365784943104, 1.902825253115568, -54.27672572999676, 0.06333009535228484]\n",
      "OBJ1: 91.4215332385524\n",
      "OBJ2: 1.198990699702173\n",
      "OBJ3: 0.0673340957500527\n",
      "OBJ4: 0.0347922178407194\n",
      "OBJ5: 0.032938081500117115\n",
      "OBJ6: 0.03621809898557891\n",
      " \n",
      "candidate 303\n",
      "Any[11.157458004076034, 77.97032599151134, 141.04285836967284, 1.4356435590889305, 1.5605427037644148, 153.2829668968916, 133.30399660766125, -73.93809564784169, -67.01661951023787, 441.2785125374794, 274.62356093525887, 1.8994020755277843, -60.53794672420554, 0.061611354034539545]\n",
      "OBJ1: 96.72706093126311\n",
      "OBJ2: 1.0058668668615598\n",
      "OBJ3: 0.06295983550035636\n",
      "OBJ4: 0.03929911995050303\n",
      "OBJ5: 0.03496871329779753\n",
      "OBJ6: 0.029022575911075175\n",
      " \n",
      "candidate 332\n",
      "Any[11.66330897109583, 18.381546422839165, 64.17898479553801, 1.2483221215661615, 1.4828425749530958, 471.00350515544415, 291.1889096945524, -34.36211829259992, -31.074738876837912, 404.24360090494156, 194.7072050869465, 1.5818879028100388, -28.243796378062168, 0.061533229429187486]\n",
      "OBJ1: 98.87124673142453\n",
      "OBJ2: 2.8540531486376475\n",
      "OBJ3: 0.07819670630053123\n",
      "OBJ4: 0.039885431731440955\n",
      "OBJ5: 0.036800687417015886\n",
      "OBJ6: 0.02959902647826307\n",
      " \n",
      "candidate 353\n",
      "Any[11.253159538377076, 51.076275035738945, 73.29769355747236, 1.2428925146814436, 1.387828901609222, 85.06076543033123, 388.6487325876951, -32.95705400779843, -29.532472328722342, 330.1737776398659, 112.84166982769966, 1.6329984394664039, -25.277679665064202, 0.06606445653960691]\n",
      "OBJ1: 90.54376034374172\n",
      "OBJ2: 2.223464904394245\n",
      "OBJ3: 0.06170126317578673\n",
      "OBJ4: 0.03637148279888943\n",
      "OBJ5: 0.02244051077362702\n",
      "OBJ6: 0.031448467115827855\n",
      " \n"
     ]
    }
   ],
   "source": [
    "for j in candidates\n",
    "    println(\"candidate $j\")\n",
    "    candidate_dvars = minmaxscale(pareto_set_3[j]; var=\"x\", inverse=true)\n",
    "    println(recorr(candidate_dvars))\n",
    "    for i in 1:6\n",
    "        println(\"OBJ$i: \", unscaled_pareto_front_3[i][j])\n",
    "    end\n",
    "    println(\" \")\n",
    "end"
   ]
  },
  {
   "cell_type": "markdown",
   "metadata": {},
   "source": [
    "Clearly, `138` is the winner."
   ]
  },
  {
   "cell_type": "code",
   "execution_count": 41,
   "metadata": {},
   "outputs": [
    {
     "data": {
      "text/plain": [
       "(9.14601474441588, 64.9847204387188, 0.014658961890745559)"
      ]
     },
     "execution_count": 41,
     "metadata": {},
     "output_type": "execute_result"
    }
   ],
   "source": [
    "candidate_dvars[[1, 2, 3]]"
   ]
  },
  {
   "cell_type": "code",
   "execution_count": 121,
   "metadata": {},
   "outputs": [
    {
     "data": {
      "text/plain": [
       "plot_pairwise_scatter (generic function with 3 methods)"
      ]
     },
     "execution_count": 121,
     "metadata": {},
     "output_type": "execute_result"
    }
   ],
   "source": [
    "function plot_pairwise_scatter(vec1, vec2, vec1label, vec2label, indexes, winner_index, incl_xticks, incl_yticks)\n",
    "    loser_indexes = [i for i in indexes if i != winner_index]\n",
    "    \n",
    "    \n",
    "    scatter(\n",
    "        [vec1[i] for i in loser_indexes], [vec2[i] for i in loser_indexes];\n",
    "        xlabel=vec1label, ylabel=vec2label, legend=false, markersize=3, markerstrokewidth=0.5,\n",
    "        xformatter = incl_xticks ? :auto : Returns(\"\"), yformatter = incl_yticks ? :auto : Returns(\"\") \n",
    "    )\n",
    "    \n",
    "    scatter!([vec1[winner_index]], [vec2[winner_index]]; markershape=:star5, markersize=10, markerstrokewidth=0.5)\n",
    "end"
   ]
  },
  {
   "cell_type": "code",
   "execution_count": 124,
   "metadata": {},
   "outputs": [],
   "source": [
    "labels = [\n",
    "    \"Transmission [%]\",\n",
    "    \"Scaled target/output\\nenergy squared error\",\n",
    "    \"RFQ length [cm]\",\n",
    "    \"Longitudinal emittance\\n[MeV deg]\",\n",
    "    \"Transverse (radial)\\nemittance [cm mrad]\"\n",
    "]\n",
    "indexes = [i for i in 1:length(pareto_front_3)]\n",
    "\n",
    "layout = @layout([ ° _ _ _ ; ° ° _ _ ; ° ° ° _ ; ° ° ° ° ])\n",
    "\n",
    "#plot(p1, p2, p3, layout = l)\n",
    "\n",
    "plots_dict = Dict()\n",
    "\n",
    "for i in 1:5\n",
    "    for j in 1:5\n",
    "        if i < j\n",
    "            p = plot_pairwise_scatter(\n",
    "                unscaled_pareto_front_3[i], unscaled_pareto_front_3[j],\n",
    "                j==5 ? labels[i] : \"\", i==1 ? labels[j] : \"\", indexes, 138, j==5, i==1\n",
    "            )\n",
    "            if i == 1\n",
    "                xflip!(true)\n",
    "            end\n",
    "            # display(p)\n",
    "            merge!(plots_dict, Dict(\"$i$j\"=>p))\n",
    "        end\n",
    "    end\n",
    "end\n",
    "\n",
    "pareto_plot = plot(\n",
    "    [plots_dict[\"$i$j\"] for j in 1:5 for i in 1:5 if i<j]...,\n",
    "    layout = layout, widths=(1/4,1/4,1/4,1/4), size=(1000,800), dpi=500\n",
    ")\n",
    "\n",
    "# savefig(pareto_plot,\"../../img/pareto_plot.png\")"
   ]
  },
  {
   "cell_type": "markdown",
   "metadata": {},
   "source": [
    "## CHECKING OPTIMAL ANSWER FROM ABOVE"
   ]
  },
  {
   "cell_type": "code",
   "execution_count": 30,
   "metadata": {},
   "outputs": [
    {
     "data": {
      "text/plain": [
       "(95.67445783296316, 0.06584600251118666, 147.91082243803984, 0.035490431684761965, 0.03885549528570143, 0.77829399178314)"
      ]
     },
     "execution_count": 30,
     "metadata": {},
     "output_type": "execute_result"
    }
   ],
   "source": [
    "optimal_dvars = [\n",
    "    9.14601474441588,\n",
    "    64.9847204387188,\n",
    "    76.2309561819387,\n",
    "    1.5052128004608676,\n",
    "    1.7909850165139312,\n",
    "    159.3742377460003,\n",
    "    287.0468702018261,\n",
    "    -49.37874272093177,\n",
    "    -44.20807974211494,\n",
    "    446.882483959198,\n",
    "    415.69541972875595,\n",
    "    1.9007708828235987,\n",
    "    -38.63379833969139,\n",
    "    0.07181640870840056,\n",
    "]\n",
    "\n",
    "optimal_dvars_decorr = decorr(optimal_dvars);\n",
    "optimal_dvars_decorred_scaled = minmaxscale(optimal_dvars_decorr);\n",
    "optimal_predicted_objs_scaled = predict(optimal_dvars_decorred_scaled);\n",
    "optimal_predicted_objs = minmaxscale(optimal_predicted_objs_scaled; var=\"y\", inverse=true)"
   ]
  },
  {
   "cell_type": "code",
   "execution_count": null,
   "metadata": {},
   "outputs": [],
   "source": []
  }
 ],
 "metadata": {
  "kernelspec": {
   "display_name": "Julia 1.8.0",
   "language": "julia",
   "name": "julia-1.8"
  },
  "language_info": {
   "file_extension": ".jl",
   "mimetype": "application/julia",
   "name": "julia",
   "version": "1.8.0"
  }
 },
 "nbformat": 4,
 "nbformat_minor": 4
}
