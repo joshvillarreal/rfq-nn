{
 "cells": [
  {
   "cell_type": "code",
   "execution_count": 1,
   "metadata": {},
   "outputs": [
    {
     "data": {
      "text/plain": [
       "main (generic function with 1 method)"
      ]
     },
     "execution_count": 1,
     "metadata": {},
     "output_type": "execute_result"
    }
   ],
   "source": [
    "using Plots\n",
    "using Statistics\n",
    "using Surrogates\n",
    "\n",
    "include(\"../../scan_hyperparameters_emi4D_functions.jl\")"
   ]
  },
  {
   "cell_type": "code",
   "execution_count": 2,
   "metadata": {},
   "outputs": [
    {
     "data": {
      "text/plain": [
       "1-element Vector{Symbol}:\n",
       " :m"
      ]
     },
     "execution_count": 2,
     "metadata": {},
     "output_type": "execute_result"
    }
   ],
   "source": [
    "@load \"../../models/2023-02-02_16-06-47_w=100_d=5_activation=sigmoid_bs=1024_lr=0.001_dr=0.0_1.jld2\" m"
   ]
  },
  {
   "cell_type": "markdown",
   "metadata": {},
   "source": [
    "```\n",
    "DVAR1: Bmax  [ 8.5, 12.0 ]\n",
    "DVAR2: mX1  [ 5, 140 ]\n",
    "DVAR3: mX2  [ 15, 160 ]\n",
    "DVAR4: mY1  [ 1.005, 1.7 ]\n",
    "DVAR5: mY2  [ 1.055, 1.85 ]\n",
    "DVAR6: mtau1  [ 1, 500 ]\n",
    "DVAR7: mtau2  [ 1, 500 ]\n",
    "DVAR8: PhiY1  [ -89.95, -30 ]\n",
    "DVAR9: PhiY2  [ -87.45, -25 ]\n",
    "DVAR10: Phitau1  [ 1, 500 ]\n",
    "DVAR11: Phitau2  [ 1, 500 ]\n",
    "DVAR12: mY3ref  [ 1.105, 2.0 ]\n",
    "DVAR13: PhiY3ref  [ -84.95, -20 ]\n",
    "DVAR14: Eref  [ 0.055, 0.075 ]\n",
    "```"
   ]
  },
  {
   "cell_type": "code",
   "execution_count": 3,
   "metadata": {},
   "outputs": [],
   "source": [
    "# bounds of DVARS\n",
    "lower_bound = [8.5, 5., 15., 1.005, 1.055, 1., 1., -89.95, -87.45, 1., 1., 1.105, -84.95, 0.055];\n",
    "upper_bound = [12., 140., 160., 1.7, 1.85, 500., 500., -30., -25., 500., 500., 2.0, -20., 0.075];\n",
    "\n",
    "# smapling to instantiate acquisition function\n",
    "n_samples = 1000\n",
    "initial_samples = Surrogates.sample(n_samples, lower_bound, upper_bound, SobolSample());"
   ]
  },
  {
   "cell_type": "code",
   "execution_count": 4,
   "metadata": {},
   "outputs": [
    {
     "data": {
      "text/plain": [
       "inverseminmaxscale (generic function with 1 method)"
      ]
     },
     "execution_count": 4,
     "metadata": {},
     "output_type": "execute_result"
    }
   ],
   "source": [
    "# scale\n",
    "function minmaxscale(qty, lb, ub)\n",
    "    2*(qty - lb)/(ub - lb) - 1\n",
    "end\n",
    "\n",
    "function inverseminmaxscale(qty_scaled, lb, ub)\n",
    "    0.5*(ub - lb)*(qty_scaled + 1) + lb\n",
    "end"
   ]
  },
  {
   "cell_type": "code",
   "execution_count": 5,
   "metadata": {},
   "outputs": [
    {
     "data": {
      "text/plain": [
       "objective (generic function with 1 method)"
      ]
     },
     "execution_count": 5,
     "metadata": {},
     "output_type": "execute_result"
    }
   ],
   "source": [
    "# predictions and objective to minimize\n",
    "function predict(x_vec)\n",
    "    y_scaled = m([x for x in x_vec])'\n",
    "end\n",
    "\n",
    "function objective(x_vec)\n",
    "    predict(x_vec)[5]\n",
    "end"
   ]
  },
  {
   "cell_type": "code",
   "execution_count": 6,
   "metadata": {},
   "outputs": [],
   "source": [
    "# samples to instantiate acquisition function\n",
    "xs = [Tuple(minmaxscale.(sample, lower_bound, upper_bound)) for sample in initial_samples];\n",
    "ys = objective.(xs);"
   ]
  },
  {
   "cell_type": "code",
   "execution_count": 7,
   "metadata": {},
   "outputs": [
    {
     "data": {
      "text/plain": [
       "(::Kriging{Vector{NTuple{14, Float64}}, Vector{Float64}, Vector{Float64}, Vector{Float64}, Vector{Float64}, Vector{Float64}, Float64, Vector{Float64}, Float64, Matrix{Float64}}) (generic function with 2 methods)"
      ]
     },
     "execution_count": 7,
     "metadata": {},
     "output_type": "execute_result"
    }
   ],
   "source": [
    "# surrogate for acquisition function\n",
    "kriging_surrogate = Kriging(xs, ys, lower_bound, upper_bound, p=repeat([1.9], 14))"
   ]
  },
  {
   "cell_type": "code",
   "execution_count": 10,
   "metadata": {},
   "outputs": [
    {
     "name": "stdout",
     "output_type": "stream",
     "text": [
      "Out of sampling points\n"
     ]
    },
    {
     "data": {
      "text/plain": [
       "((-0.294921875, 0.646484375, 0.333984375, 0.8691406249999998, -0.2675781250000001, 0.236328125, -0.330078125, -0.8417968750000001, -0.9199218750000001, -0.533203125, -0.158203125, 0.43164062499999956, 0.337890625, 0.001953125), -1.0554024456579312)"
      ]
     },
     "execution_count": 10,
     "metadata": {},
     "output_type": "execute_result"
    }
   ],
   "source": [
    "# the optimization\n",
    "optimum = surrogate_optimize(\n",
    "    objective, LCBS(), lower_bound, upper_bound, kriging_surrogate, SobolSample(), maxiters=500\n",
    ")"
   ]
  },
  {
   "cell_type": "code",
   "execution_count": 13,
   "metadata": {},
   "outputs": [
    {
     "data": {
      "text/plain": [
       "14-element Vector{Float64}:\n",
       "   9.73388671875\n",
       " 116.1376953125\n",
       " 111.7138671875\n",
       "   1.6545263671875\n",
       "   1.3461376953125\n",
       " 309.4638671875\n",
       " 168.1455078125\n",
       " -85.207861328125\n",
       " -84.949560546875\n",
       " 117.4658203125\n",
       " 211.0283203125\n",
       "   1.7456591796874998\n",
       " -41.502001953125\n",
       "   0.06501953125"
      ]
     },
     "execution_count": 13,
     "metadata": {},
     "output_type": "execute_result"
    }
   ],
   "source": [
    "inverseminmaxscale.(optimum[1], lower_bound, upper_bound)"
   ]
  },
  {
   "cell_type": "code",
   "execution_count": 14,
   "metadata": {},
   "outputs": [
    {
     "data": {
      "text/plain": [
       "1×6 adjoint(::Vector{Float64}) with eltype Float64:\n",
       " -1.02943  -0.210015  -0.362345  -0.933734  -1.0554  -0.132976"
      ]
     },
     "execution_count": 14,
     "metadata": {},
     "output_type": "execute_result"
    }
   ],
   "source": [
    "predict(optimum[1])"
   ]
  },
  {
   "cell_type": "code",
   "execution_count": null,
   "metadata": {},
   "outputs": [],
   "source": []
  }
 ],
 "metadata": {
  "kernelspec": {
   "display_name": "Julia 1.8.0",
   "language": "julia",
   "name": "julia-1.8"
  },
  "language_info": {
   "file_extension": ".jl",
   "mimetype": "application/julia",
   "name": "julia",
   "version": "1.8.0"
  }
 },
 "nbformat": 4,
 "nbformat_minor": 4
}
