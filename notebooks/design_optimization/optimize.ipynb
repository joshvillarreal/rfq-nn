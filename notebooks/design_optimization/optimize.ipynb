{
 "cells": [
  {
   "cell_type": "code",
   "execution_count": 1,
   "metadata": {},
   "outputs": [
    {
     "data": {
      "text/plain": [
       "main (generic function with 1 method)"
      ]
     },
     "execution_count": 1,
     "metadata": {},
     "output_type": "execute_result"
    }
   ],
   "source": [
    "using Plots\n",
    "using Statistics\n",
    "using Surrogates\n",
    "using CSV\n",
    "using DataFrames\n",
    "using Distributions\n",
    "using Flux\n",
    "import JSON\n",
    "using MLUtils\n",
    "using Plots\n",
    "using StatsBase\n",
    "using StatsPlots\n",
    "using Tables\n",
    "\n",
    "include(\"../../scan_hyperparameters_withcellnum_functions.jl\")"
   ]
  },
  {
   "cell_type": "markdown",
   "metadata": {},
   "source": [
    "### Loading data and making cuts for proper scaling"
   ]
  },
  {
   "cell_type": "code",
   "execution_count": 2,
   "metadata": {},
   "outputs": [
    {
     "name": "stdout",
     "output_type": "stream",
     "text": [
      "Formatting data...\n",
      "Cutting Transmission to 60-100 percent...\n",
      "x_raw shape: (217293, 15)\n",
      "y_raw shape: (217293, 6)\n",
      "x_new shape: (161574, 15)\n",
      "y_new shape: (161574, 6)\n",
      "Decorrelating...\n",
      "Done!\n"
     ]
    }
   ],
   "source": [
    "target_directory = \"../../data/full_with_cellnumber/\"\n",
    "\n",
    "println(\"Formatting data...\")\n",
    "x_raw_df, y_df, cellnumber_df = getrawdata_withcellnum(target_directory)\n",
    "\n",
    "# how to process cellnumber, for now let's make it another dvar\n",
    "x_raw_origcn_df = hcat(x_raw_df, cellnumber_df)\n",
    "x_raw_df = hcat(x_raw_df, cellnumber_df .% 2)\n",
    "\n",
    "# cutting\n",
    "println(\"Cutting Transmission to 60-100 percent...\")\n",
    "lower::Float32 = 60\n",
    "upper::Float32 = 120\n",
    "x_raw_df, y_df = applycut(x_raw_df, y_df, \"OBJ1\", lower, upper; with_numcells=true)\n",
    "\n",
    "# decorrelating\n",
    "println(\"Decorrelating...\")\n",
    "x_df = decorrelatedvars(x_raw_df; with_numcells=true)\n",
    "\n",
    "x_scaled_df, x_scalers = minmaxscaledf(x_df);\n",
    "y_scaled_df, y_scalers = minmaxscaledf(y_df);\n",
    "\n",
    "println(\"Done!\")"
   ]
  },
  {
   "cell_type": "markdown",
   "metadata": {},
   "source": [
    "A sanity check since Julia alphabetizes column names:\n",
    "\n",
    "Recall that these are the original ranges of our DVARs\n",
    "\n",
    "```\n",
    "DVAR1: Bmax  [ 8.5, 12.0 ]\n",
    "DVAR2: mX1  [ 5, 140 ]\n",
    "DVAR3: mX2  [ 15, 160 ]\n",
    "DVAR4: mY1  [ 1.005, 1.7 ]\n",
    "DVAR5: mY2  [ 1.055, 1.85 ]\n",
    "DVAR6: mtau1  [ 1, 500 ]\n",
    "DVAR7: mtau2  [ 1, 500 ]\n",
    "DVAR8: PhiY1  [ -89.95, -30 ]\n",
    "DVAR9: PhiY2  [ -87.45, -25 ]\n",
    "DVAR10: Phitau1  [ 1, 500 ]\n",
    "DVAR11: Phitau2  [ 1, 500 ]\n",
    "DVAR12: mY3ref  [ 1.105, 2.0 ]\n",
    "DVAR13: PhiY3ref  [ -84.95, -20 ]\n",
    "DVAR14: Eref  [ 0.055, 0.075 ]\n",
    "```\n",
    "\n",
    "but recall also that we decorrelate `DVAR3`, `DVAR5`, `DVAR9`, `DVAR12`, `DVAR13`. This means that their unscaled values will fall between 0 and 1."
   ]
  },
  {
   "cell_type": "code",
   "execution_count": 3,
   "metadata": {},
   "outputs": [
    {
     "data": {
      "text/plain": [
       "Dict{String, MinMaxScaler} with 15 entries:\n",
       "  \"DVAR7\"      => MinMaxScaler(1.00229, 499.997)\n",
       "  \"DVAR5\"      => MinMaxScaler(-7.45177f-8, 0.999996)\n",
       "  \"DVAR12\"     => MinMaxScaler(7.62605f-6, 0.999995)\n",
       "  \"DVAR14\"     => MinMaxScaler(0.0550001, 0.075)\n",
       "  \"DVAR2\"      => MinMaxScaler(5.00044, 139.998)\n",
       "  \"DVAR10\"     => MinMaxScaler(1.00164, 499.998)\n",
       "  \"DVAR1\"      => MinMaxScaler(8.50003, 12.0)\n",
       "  \"DVAR3\"      => MinMaxScaler(1.07697f-5, 0.999994)\n",
       "  \"DVAR6\"      => MinMaxScaler(1.00127, 499.998)\n",
       "  \"DVAR4\"      => MinMaxScaler(1.00501, 1.7)\n",
       "  \"DVAR8\"      => MinMaxScaler(-89.95, -30.0006)\n",
       "  \"DVAR13\"     => MinMaxScaler(2.18249f-5, 0.999996)\n",
       "  \"cellnumber\" => MinMaxScaler(0.0, 1.0)\n",
       "  \"DVAR11\"     => MinMaxScaler(1.0075, 499.997)\n",
       "  \"DVAR9\"      => MinMaxScaler(3.582f-7, 0.999969)"
      ]
     },
     "execution_count": 3,
     "metadata": {},
     "output_type": "execute_result"
    }
   ],
   "source": [
    "x_scalers # looks good"
   ]
  },
  {
   "cell_type": "code",
   "execution_count": 4,
   "metadata": {},
   "outputs": [
    {
     "name": "stdout",
     "output_type": "stream",
     "text": [
      "[\"DVAR1\", \"DVAR2\", \"DVAR3\", \"DVAR4\", \"DVAR5\", \"DVAR6\", \"DVAR7\", \"DVAR8\", \"DVAR9\", \"DVAR10\", \"DVAR11\", \"DVAR12\", \"DVAR13\", \"DVAR14\", \"cellnumber\"]\n",
      "[\"DVAR1\", \"DVAR2\", \"DVAR3\", \"DVAR4\", \"DVAR5\", \"DVAR6\", \"DVAR7\", \"DVAR8\", \"DVAR9\", \"DVAR10\", \"DVAR11\", \"DVAR12\", \"DVAR13\", \"DVAR14\", \"cellnumber\"]\n"
     ]
    }
   ],
   "source": [
    "println(names(x_df))\n",
    "println(names(x_scaled_df))"
   ]
  },
  {
   "cell_type": "code",
   "execution_count": 5,
   "metadata": {},
   "outputs": [],
   "source": [
    "@assert names(x_df) == names(x_scaled_df)"
   ]
  },
  {
   "cell_type": "code",
   "execution_count": 6,
   "metadata": {},
   "outputs": [
    {
     "data": {
      "text/plain": [
       "decorrelate_single (generic function with 1 method)"
      ]
     },
     "execution_count": 6,
     "metadata": {},
     "output_type": "execute_result"
    }
   ],
   "source": [
    "function decorrelate_single(data_to_transform, dynamic_lower_bound, strict_upper_bound; inverse=false)\n",
    "    if inverse\n",
    "        dynamic_lower_bound + data_to_transform*(strict_upper_bound - dynamic_lower_bound)\n",
    "    else\n",
    "        (data_to_transform - dynamic_lower_bound) / (strict_upper_bound - dynamic_lower_bound)\n",
    "    end\n",
    "end"
   ]
  },
  {
   "cell_type": "code",
   "execution_count": 7,
   "metadata": {},
   "outputs": [
    {
     "data": {
      "text/plain": [
       "minmaxscale (generic function with 1 method)"
      ]
     },
     "execution_count": 7,
     "metadata": {},
     "output_type": "execute_result"
    }
   ],
   "source": [
    "function decorr(vec)\n",
    "    # we are only decorrelating unscaled vectors, which means that these vectors have their DVARs in\n",
    "    # quasi-numerical order DVAR1, ... DVAR14, cellnumber\n",
    "    maxes = Dict(\n",
    "        \"DVAR3\"=>160.,\n",
    "        \"DVAR5\"=>1.85,\n",
    "        \"DVAR9\"=>-25.,\n",
    "        \"DVAR12\"=>2.,\n",
    "        \"DVAR13\"=>-20.\n",
    "    )\n",
    "    etas = Dict(\n",
    "        \"DVAR3\"=>10.,\n",
    "        \"DVAR5\"=>0.05,\n",
    "        \"DVAR9\"=>2.5,\n",
    "        \"DVAR12\"=>0.05,\n",
    "        \"DVAR13\"=>2.5\n",
    "    )\n",
    "    dvarmap = Dict(\n",
    "        3=>2, # DVAR3prime ∼ Uniform(DVAR2prime + δ3, u3) \n",
    "        5=>4,\n",
    "        9=>8,\n",
    "        12=>5,\n",
    "        13=>9\n",
    "    )\n",
    "    \n",
    "    decorred_vec = []\n",
    "    \n",
    "    for i in 1:15\n",
    "        dvar = (i == 15) ? \"cellnumber\" : \"DVAR$i\"\n",
    "        # transform?\n",
    "        if dvar ∈ keys(maxes)\n",
    "            dependent_dvar = deps[dvar]\n",
    "            append!(decorred_vec, getdvarprimesing(vec[i], etas[dvar] + vec[dvarmap[i]], maxes[dvar])) \n",
    "        else\n",
    "            append!(decorred_vec, vec[i])\n",
    "        end\n",
    "    end\n",
    "    decorred_vec\n",
    "end\n",
    "\n",
    "function recorr(vec, scaled_dvar_to_vecidx, vecidx_to_scaled_dvar)\n",
    "    # we are only recorrelating scaled vectors, which means that these vectors have their DVARs in\n",
    "    # quasi-alphabetical order DVAR1, DVAR10, ... DVAR2, ... DVAR9, cellnumber\n",
    "    maxes = Dict(\n",
    "        \"DVAR3\"=>160.,\n",
    "        \"DVAR5\"=>1.85,\n",
    "        \"DVAR9\"=>-25.,\n",
    "        \"DVAR12\"=>2.,\n",
    "        \"DVAR13\"=>-20.\n",
    "    )\n",
    "    etas = Dict(\n",
    "        \"DVAR3\"=>10.,\n",
    "        \"DVAR5\"=>0.05,\n",
    "        \"DVAR9\"=>2.5,\n",
    "        \"DVAR12\"=>0.05,\n",
    "        \"DVAR13\"=>2.5\n",
    "    )\n",
    "    dvarmap = Dict(\n",
    "        3=>2,\n",
    "        5=>4,\n",
    "        9=>8,\n",
    "        12=>5,\n",
    "        13=>9\n",
    "    )\n",
    "    \n",
    "    recorred_vec = []\n",
    "    \n",
    "    for i in 1:14\n",
    "        if i ∈ [3, 5, 9]\n",
    "            append!(recorred_vec, getvarsing(vec[i], etas[\"DVAR$i\"] + vec[dvarmap[i]], maxes[\"DVAR$i\"]))\n",
    "        elseif i ∈ [12, 13]\n",
    "            append!(recorred_vec, getvarsing(vec[i], etas[\"DVAR$i\"] + recorred_vec[dvarmap[i]], maxes[\"DVAR$i\"]))\n",
    "        else\n",
    "            append!(recorred_vec, vec[i])\n",
    "        end\n",
    "    end\n",
    "    \n",
    "    recorred_vec\n",
    "end\n",
    "\n",
    "function minmaxscale(vec; var=\"x\", inverse=false)\n",
    "    outvec = []\n",
    "    \n",
    "    transform_fun(scaler, x) = inverse ? inverse_transform(scaler, x) : transform(scaler, x)\n",
    "    \n",
    "    if var == \"x\"\n",
    "        for i in 1:14\n",
    "            scaler = x_scalers[\"DVAR$i\"]\n",
    "            append!(outvec, transform_fun(scaler, vec[i]))\n",
    "        end\n",
    "    elseif var == \"y\"\n",
    "        for i in 1:6\n",
    "            scaler = y_scalers[\"OBJ$i\"]\n",
    "            append!(outvec, transform_fun(scaler, vec[i]))\n",
    "        end\n",
    "    end\n",
    "    \n",
    "    return Tuple(outvec)\n",
    "end"
   ]
  },
  {
   "cell_type": "code",
   "execution_count": 8,
   "metadata": {},
   "outputs": [
    {
     "ename": "LoadError",
     "evalue": "UndefVarError: m not defined",
     "output_type": "error",
     "traceback": [
      "UndefVarError: m not defined",
      "",
      "Stacktrace:",
      " [1] top-level scope",
      "   @ In[8]:1",
      " [2] eval",
      "   @ ./boot.jl:368 [inlined]",
      " [3] include_string(mapexpr::typeof(REPL.softscope), mod::Module, code::String, filename::String)",
      "   @ Base ./loading.jl:1428"
     ]
    }
   ],
   "source": [
    "m(Float32.(Matrix(x_scaled_df))')'"
   ]
  },
  {
   "cell_type": "code",
   "execution_count": 9,
   "metadata": {},
   "outputs": [
    {
     "ename": "LoadError",
     "evalue": "UndefVarError: m not defined",
     "output_type": "error",
     "traceback": [
      "UndefVarError: m not defined",
      "",
      "Stacktrace:",
      " [1] top-level scope",
      "   @ In[9]:1",
      " [2] eval",
      "   @ ./boot.jl:368 [inlined]",
      " [3] include_string(mapexpr::typeof(REPL.softscope), mod::Module, code::String, filename::String)",
      "   @ Base ./loading.jl:1428"
     ]
    }
   ],
   "source": [
    "m(x_scaled_df)"
   ]
  },
  {
   "cell_type": "markdown",
   "metadata": {},
   "source": [
    "### Loading up model and prediction functionality"
   ]
  },
  {
   "cell_type": "code",
   "execution_count": 10,
   "metadata": {},
   "outputs": [
    {
     "name": "stderr",
     "output_type": "stream",
     "text": [
      "┌ Warning: some parameters could not be resolved for type Dense{Main.#73#76{var\"#31#35\"},Matrix{Float32},Vector{Float32}}; reconstructing\n",
      "└ @ JLD2 /Users/Josh/.julia/packages/JLD2/r5t7Q/src/data/reconstructing_datatypes.jl:485\n"
     ]
    },
    {
     "data": {
      "text/plain": [
       "predict (generic function with 1 method)"
      ]
     },
     "execution_count": 10,
     "metadata": {},
     "output_type": "execute_result"
    }
   ],
   "source": [
    "@load \"../../models/2023-06-08_17-40-47_w=100_d=5_activation=sigmoid_bs=1024_lr=0.001_dr=0.0_2.jld2\" m;\n",
    "\n",
    "function predict(x_vec)\n",
    "    m([x_vec...]')'\n",
    "end"
   ]
  },
  {
   "cell_type": "code",
   "execution_count": 11,
   "metadata": {},
   "outputs": [
    {
     "ename": "LoadError",
     "evalue": "MethodError: objects of type JLD2.ReconstructedTypes.var\"##Dense{Main.#73#76{var\\\"#31#35\\\"},Matrix{Float32},Vector{Float32}}#321\" are not callable",
     "output_type": "error",
     "traceback": [
      "MethodError: objects of type JLD2.ReconstructedTypes.var\"##Dense{Main.#73#76{var\\\"#31#35\\\"},Matrix{Float32},Vector{Float32}}#321\" are not callable",
      "",
      "Stacktrace:",
      " [1] macro expansion",
      "   @ ~/.julia/packages/Flux/EXOFx/src/layers/basic.jl:53 [inlined]",
      " [2] _applychain(layers::Tuple{JLD2.ReconstructedTypes.var\"##Dense{Main.#73#76{var\\\"#31#35\\\"},Matrix{Float32},Vector{Float32}}#321\", Dropout{Float32, Colon, Random.TaskLocalRNG}}, x::Vector{Float64})",
      "   @ Flux ~/.julia/packages/Flux/EXOFx/src/layers/basic.jl:53",
      " [3] (::Chain{Tuple{JLD2.ReconstructedTypes.var\"##Dense{Main.#73#76{var\\\"#31#35\\\"},Matrix{Float32},Vector{Float32}}#321\", Dropout{Float32, Colon, Random.TaskLocalRNG}}})(x::Vector{Float64})",
      "   @ Flux ~/.julia/packages/Flux/EXOFx/src/layers/basic.jl:51",
      " [4] macro expansion",
      "   @ ~/.julia/packages/Flux/EXOFx/src/layers/basic.jl:53 [inlined]",
      " [5] _applychain(layers::Tuple{Dense{var\"#71#74\"{var\"#31#35\"}, Matrix{Float32}, Vector{Float32}}, Chain{Tuple{JLD2.ReconstructedTypes.var\"##Dense{Main.#73#76{var\\\"#31#35\\\"},Matrix{Float32},Vector{Float32}}#321\", Dropout{Float32, Colon, Random.TaskLocalRNG}}}, Chain{Tuple{JLD2.ReconstructedTypes.var\"##Dense{Main.#73#76{var\\\"#31#35\\\"},Matrix{Float32},Vector{Float32}}#321\", Dropout{Float32, Colon, Random.TaskLocalRNG}}}, Chain{Tuple{JLD2.ReconstructedTypes.var\"##Dense{Main.#73#76{var\\\"#31#35\\\"},Matrix{Float32},Vector{Float32}}#321\", Dropout{Float32, Colon, Random.TaskLocalRNG}}}, Chain{Tuple{JLD2.ReconstructedTypes.var\"##Dense{Main.#73#76{var\\\"#31#35\\\"},Matrix{Float32},Vector{Float32}}#321\", Dropout{Float32, Colon, Random.TaskLocalRNG}}}, Chain{Tuple{JLD2.ReconstructedTypes.var\"##Dense{Main.#73#76{var\\\"#31#35\\\"},Matrix{Float32},Vector{Float32}}#321\", Dropout{Float32, Colon, Random.TaskLocalRNG}}}, Dense{typeof(identity), Matrix{Float32}, Vector{Float32}}}, x::Vector{Float64})",
      "   @ Flux ~/.julia/packages/Flux/EXOFx/src/layers/basic.jl:53",
      " [6] (::Chain{Tuple{Dense{var\"#71#74\"{var\"#31#35\"}, Matrix{Float32}, Vector{Float32}}, Chain{Tuple{JLD2.ReconstructedTypes.var\"##Dense{Main.#73#76{var\\\"#31#35\\\"},Matrix{Float32},Vector{Float32}}#321\", Dropout{Float32, Colon, Random.TaskLocalRNG}}}, Chain{Tuple{JLD2.ReconstructedTypes.var\"##Dense{Main.#73#76{var\\\"#31#35\\\"},Matrix{Float32},Vector{Float32}}#321\", Dropout{Float32, Colon, Random.TaskLocalRNG}}}, Chain{Tuple{JLD2.ReconstructedTypes.var\"##Dense{Main.#73#76{var\\\"#31#35\\\"},Matrix{Float32},Vector{Float32}}#321\", Dropout{Float32, Colon, Random.TaskLocalRNG}}}, Chain{Tuple{JLD2.ReconstructedTypes.var\"##Dense{Main.#73#76{var\\\"#31#35\\\"},Matrix{Float32},Vector{Float32}}#321\", Dropout{Float32, Colon, Random.TaskLocalRNG}}}, Chain{Tuple{JLD2.ReconstructedTypes.var\"##Dense{Main.#73#76{var\\\"#31#35\\\"},Matrix{Float32},Vector{Float32}}#321\", Dropout{Float32, Colon, Random.TaskLocalRNG}}}, Dense{typeof(identity), Matrix{Float32}, Vector{Float32}}}})(x::Vector{Float64})",
      "   @ Flux ~/.julia/packages/Flux/EXOFx/src/layers/basic.jl:51",
      " [7] top-level scope",
      "   @ In[11]:1",
      " [8] eval",
      "   @ ./boot.jl:368 [inlined]",
      " [9] include_string(mapexpr::typeof(REPL.softscope), mod::Module, code::String, filename::String)",
      "   @ Base ./loading.jl:1428"
     ]
    }
   ],
   "source": [
    "m(repeat([1.], 15))"
   ]
  },
  {
   "cell_type": "code",
   "execution_count": 12,
   "metadata": {},
   "outputs": [
    {
     "ename": "LoadError",
     "evalue": "MethodError: objects of type JLD2.ReconstructedTypes.var\"##Dense{Main.#73#76{var\\\"#31#35\\\"},Matrix{Float32},Vector{Float32}}#321\" are not callable",
     "output_type": "error",
     "traceback": [
      "MethodError: objects of type JLD2.ReconstructedTypes.var\"##Dense{Main.#73#76{var\\\"#31#35\\\"},Matrix{Float32},Vector{Float32}}#321\" are not callable",
      "",
      "Stacktrace:",
      " [1] macro expansion",
      "   @ ~/.julia/packages/Flux/EXOFx/src/layers/basic.jl:53 [inlined]",
      " [2] _applychain(layers::Tuple{JLD2.ReconstructedTypes.var\"##Dense{Main.#73#76{var\\\"#31#35\\\"},Matrix{Float32},Vector{Float32}}#321\", Dropout{Float32, Colon, Random.TaskLocalRNG}}, x::Vector{Float64})",
      "   @ Flux ~/.julia/packages/Flux/EXOFx/src/layers/basic.jl:53",
      " [3] (::Chain{Tuple{JLD2.ReconstructedTypes.var\"##Dense{Main.#73#76{var\\\"#31#35\\\"},Matrix{Float32},Vector{Float32}}#321\", Dropout{Float32, Colon, Random.TaskLocalRNG}}})(x::Vector{Float64})",
      "   @ Flux ~/.julia/packages/Flux/EXOFx/src/layers/basic.jl:51",
      " [4] macro expansion",
      "   @ ~/.julia/packages/Flux/EXOFx/src/layers/basic.jl:53 [inlined]",
      " [5] _applychain(layers::Tuple{Dense{var\"#71#74\"{var\"#31#35\"}, Matrix{Float32}, Vector{Float32}}, Chain{Tuple{JLD2.ReconstructedTypes.var\"##Dense{Main.#73#76{var\\\"#31#35\\\"},Matrix{Float32},Vector{Float32}}#321\", Dropout{Float32, Colon, Random.TaskLocalRNG}}}, Chain{Tuple{JLD2.ReconstructedTypes.var\"##Dense{Main.#73#76{var\\\"#31#35\\\"},Matrix{Float32},Vector{Float32}}#321\", Dropout{Float32, Colon, Random.TaskLocalRNG}}}, Chain{Tuple{JLD2.ReconstructedTypes.var\"##Dense{Main.#73#76{var\\\"#31#35\\\"},Matrix{Float32},Vector{Float32}}#321\", Dropout{Float32, Colon, Random.TaskLocalRNG}}}, Chain{Tuple{JLD2.ReconstructedTypes.var\"##Dense{Main.#73#76{var\\\"#31#35\\\"},Matrix{Float32},Vector{Float32}}#321\", Dropout{Float32, Colon, Random.TaskLocalRNG}}}, Chain{Tuple{JLD2.ReconstructedTypes.var\"##Dense{Main.#73#76{var\\\"#31#35\\\"},Matrix{Float32},Vector{Float32}}#321\", Dropout{Float32, Colon, Random.TaskLocalRNG}}}, Dense{typeof(identity), Matrix{Float32}, Vector{Float32}}}, x::Vector{Float64})",
      "   @ Flux ~/.julia/packages/Flux/EXOFx/src/layers/basic.jl:53",
      " [6] (::Chain{Tuple{Dense{var\"#71#74\"{var\"#31#35\"}, Matrix{Float32}, Vector{Float32}}, Chain{Tuple{JLD2.ReconstructedTypes.var\"##Dense{Main.#73#76{var\\\"#31#35\\\"},Matrix{Float32},Vector{Float32}}#321\", Dropout{Float32, Colon, Random.TaskLocalRNG}}}, Chain{Tuple{JLD2.ReconstructedTypes.var\"##Dense{Main.#73#76{var\\\"#31#35\\\"},Matrix{Float32},Vector{Float32}}#321\", Dropout{Float32, Colon, Random.TaskLocalRNG}}}, Chain{Tuple{JLD2.ReconstructedTypes.var\"##Dense{Main.#73#76{var\\\"#31#35\\\"},Matrix{Float32},Vector{Float32}}#321\", Dropout{Float32, Colon, Random.TaskLocalRNG}}}, Chain{Tuple{JLD2.ReconstructedTypes.var\"##Dense{Main.#73#76{var\\\"#31#35\\\"},Matrix{Float32},Vector{Float32}}#321\", Dropout{Float32, Colon, Random.TaskLocalRNG}}}, Chain{Tuple{JLD2.ReconstructedTypes.var\"##Dense{Main.#73#76{var\\\"#31#35\\\"},Matrix{Float32},Vector{Float32}}#321\", Dropout{Float32, Colon, Random.TaskLocalRNG}}}, Dense{typeof(identity), Matrix{Float32}, Vector{Float32}}}})(x::Vector{Float64})",
      "   @ Flux ~/.julia/packages/Flux/EXOFx/src/layers/basic.jl:51",
      " [7] top-level scope",
      "   @ In[12]:1",
      " [8] eval",
      "   @ ./boot.jl:368 [inlined]",
      " [9] include_string(mapexpr::typeof(REPL.softscope), mod::Module, code::String, filename::String)",
      "   @ Base ./loading.jl:1428"
     ]
    }
   ],
   "source": [
    "m([values(first(x_scaled_df))...])"
   ]
  },
  {
   "cell_type": "code",
   "execution_count": 13,
   "metadata": {},
   "outputs": [
    {
     "data": {
      "text/plain": [
       "15-element Vector{Float64}:\n",
       "  0.28920161724090576\n",
       " -0.31374669075012207\n",
       "  0.1475414222175786\n",
       "  0.6688762903213501\n",
       "  0.5534791401182384\n",
       " -0.7847121953964233\n",
       " -0.8160064220428467\n",
       " -0.45144355297088623\n",
       "  0.3313838669893703\n",
       " -0.44775813817977905\n",
       "  0.4049338102340698\n",
       "  0.17109923841804942\n",
       "  0.3576814045090202\n",
       " -0.4340871572494507\n",
       " -1.0"
      ]
     },
     "execution_count": 13,
     "metadata": {},
     "output_type": "execute_result"
    }
   ],
   "source": [
    "[values(first(x_scaled_df))...]"
   ]
  },
  {
   "cell_type": "code",
   "execution_count": 14,
   "metadata": {},
   "outputs": [
    {
     "name": "stdout",
     "output_type": "stream",
     "text": [
      "(0.28920162f0, -0.3137467f0, 0.1475414222175786, 0.6688763f0, 0.5534791401182384, -0.7847122f0, -0.8160064f0, -0.45144355f0, 0.3313838669893703, -0.44775814f0, 0.4049338f0, 0.17109923841804942, 0.3576814045090202, -0.43408716f0, -1.0f0)\n",
      "Prediction:\n"
     ]
    },
    {
     "ename": "LoadError",
     "evalue": "DimensionMismatch: matrix A has dimensions (100,15), matrix B has dimensions (1,15)",
     "output_type": "error",
     "traceback": [
      "DimensionMismatch: matrix A has dimensions (100,15), matrix B has dimensions (1,15)",
      "",
      "Stacktrace:",
      "  [1] _generic_matmatmul!(C::Matrix{Float64}, tA::Char, tB::Char, A::Matrix{Float32}, B::Vector{Float64}, _add::LinearAlgebra.MulAddMul{true, true, Bool, Bool})",
      "    @ LinearAlgebra /Applications/Julia-1.8.app/Contents/Resources/julia/share/julia/stdlib/v1.8/LinearAlgebra/src/matmul.jl:856",
      "  [2] generic_matmatmul!",
      "    @ /Applications/Julia-1.8.app/Contents/Resources/julia/share/julia/stdlib/v1.8/LinearAlgebra/src/matmul.jl:847 [inlined]",
      "  [3] mul!",
      "    @ /Applications/Julia-1.8.app/Contents/Resources/julia/share/julia/stdlib/v1.8/LinearAlgebra/src/matmul.jl:453 [inlined]",
      "  [4] mul!",
      "    @ /Applications/Julia-1.8.app/Contents/Resources/julia/share/julia/stdlib/v1.8/LinearAlgebra/src/matmul.jl:276 [inlined]",
      "  [5] *",
      "    @ /Applications/Julia-1.8.app/Contents/Resources/julia/share/julia/stdlib/v1.8/LinearAlgebra/src/matmul.jl:141 [inlined]",
      "  [6] (::Dense{var\"#71#74\"{var\"#31#35\"}, Matrix{Float32}, Vector{Float32}})(x::Adjoint{Float64, Vector{Float64}})",
      "    @ Flux ~/.julia/packages/Flux/EXOFx/src/layers/basic.jl:172",
      "  [7] macro expansion",
      "    @ ~/.julia/packages/Flux/EXOFx/src/layers/basic.jl:53 [inlined]",
      "  [8] _applychain(layers::Tuple{Dense{var\"#71#74\"{var\"#31#35\"}, Matrix{Float32}, Vector{Float32}}, Chain{Tuple{JLD2.ReconstructedTypes.var\"##Dense{Main.#73#76{var\\\"#31#35\\\"},Matrix{Float32},Vector{Float32}}#321\", Dropout{Float32, Colon, Random.TaskLocalRNG}}}, Chain{Tuple{JLD2.ReconstructedTypes.var\"##Dense{Main.#73#76{var\\\"#31#35\\\"},Matrix{Float32},Vector{Float32}}#321\", Dropout{Float32, Colon, Random.TaskLocalRNG}}}, Chain{Tuple{JLD2.ReconstructedTypes.var\"##Dense{Main.#73#76{var\\\"#31#35\\\"},Matrix{Float32},Vector{Float32}}#321\", Dropout{Float32, Colon, Random.TaskLocalRNG}}}, Chain{Tuple{JLD2.ReconstructedTypes.var\"##Dense{Main.#73#76{var\\\"#31#35\\\"},Matrix{Float32},Vector{Float32}}#321\", Dropout{Float32, Colon, Random.TaskLocalRNG}}}, Chain{Tuple{JLD2.ReconstructedTypes.var\"##Dense{Main.#73#76{var\\\"#31#35\\\"},Matrix{Float32},Vector{Float32}}#321\", Dropout{Float32, Colon, Random.TaskLocalRNG}}}, Dense{typeof(identity), Matrix{Float32}, Vector{Float32}}}, x::Adjoint{Float64, Vector{Float64}})",
      "    @ Flux ~/.julia/packages/Flux/EXOFx/src/layers/basic.jl:53",
      "  [9] (::Chain{Tuple{Dense{var\"#71#74\"{var\"#31#35\"}, Matrix{Float32}, Vector{Float32}}, Chain{Tuple{JLD2.ReconstructedTypes.var\"##Dense{Main.#73#76{var\\\"#31#35\\\"},Matrix{Float32},Vector{Float32}}#321\", Dropout{Float32, Colon, Random.TaskLocalRNG}}}, Chain{Tuple{JLD2.ReconstructedTypes.var\"##Dense{Main.#73#76{var\\\"#31#35\\\"},Matrix{Float32},Vector{Float32}}#321\", Dropout{Float32, Colon, Random.TaskLocalRNG}}}, Chain{Tuple{JLD2.ReconstructedTypes.var\"##Dense{Main.#73#76{var\\\"#31#35\\\"},Matrix{Float32},Vector{Float32}}#321\", Dropout{Float32, Colon, Random.TaskLocalRNG}}}, Chain{Tuple{JLD2.ReconstructedTypes.var\"##Dense{Main.#73#76{var\\\"#31#35\\\"},Matrix{Float32},Vector{Float32}}#321\", Dropout{Float32, Colon, Random.TaskLocalRNG}}}, Chain{Tuple{JLD2.ReconstructedTypes.var\"##Dense{Main.#73#76{var\\\"#31#35\\\"},Matrix{Float32},Vector{Float32}}#321\", Dropout{Float32, Colon, Random.TaskLocalRNG}}}, Dense{typeof(identity), Matrix{Float32}, Vector{Float32}}}})(x::Adjoint{Float64, Vector{Float64}})",
      "    @ Flux ~/.julia/packages/Flux/EXOFx/src/layers/basic.jl:51",
      " [10] predict(x_vec::Tuple{Float32, Float32, Float64, Float32, Float64, Float32, Float32, Float32, Float64, Float32, Float32, Float64, Float64, Float32, Float32})",
      "    @ Main ./In[10]:4",
      " [11] top-level scope",
      "    @ In[14]:5",
      " [12] eval",
      "    @ ./boot.jl:368 [inlined]",
      " [13] include_string(mapexpr::typeof(REPL.softscope), mod::Module, code::String, filename::String)",
      "    @ Base ./loading.jl:1428"
     ]
    }
   ],
   "source": [
    "# do i understand how the model predicts for a given x_vec?\n",
    "println(values(first(x_scaled_df)))\n",
    "\n",
    "println(\"Prediction:\")\n",
    "println(predict(values(first(x_scaled_df))))\n",
    "println(\"True:\")\n",
    "println(first(y_scaled_df))"
   ]
  },
  {
   "cell_type": "markdown",
   "metadata": {},
   "source": [
    "### Functionality to predict cellnumber"
   ]
  },
  {
   "cell_type": "code",
   "execution_count": 15,
   "metadata": {},
   "outputs": [
    {
     "name": "stderr",
     "output_type": "stream",
     "text": [
      "\u001b[32m\u001b[1m    Building\u001b[22m\u001b[39m Conda ─→ `~/.julia/scratchspaces/44cfe95a-1eb2-52ea-b672-e2afdf69b78f/e32a90da027ca45d84678b826fffd3110bb3fc90/build.log`\n",
      "\u001b[32m\u001b[1m    Building\u001b[22m\u001b[39m PyCall → `~/.julia/scratchspaces/44cfe95a-1eb2-52ea-b672-e2afdf69b78f/62f417f6ad727987c755549e9cd88c46578da562/build.log`\n"
     ]
    },
    {
     "data": {
      "text/plain": [
       "PyObject <function compute_cellnumber at 0x206e2e290>"
      ]
     },
     "execution_count": 15,
     "metadata": {},
     "output_type": "execute_result"
    }
   ],
   "source": [
    "ENV[\"PYTHON\"] = \"\"                                                                                                                                   \n",
    "using Pkg\n",
    "Pkg.build(\"PyCall\")\n",
    "using PyCall\n",
    "\n",
    "# Julia uses a Python that is installed to a separte location than my current anaconda3 installation.\n",
    "# the following lines make sure that the correct Python packages are installed to read in the supplemental\n",
    "# Python script that computes cell number\n",
    "\n",
    "# using Conda\n",
    "# Conda.add(\"scipy\")\n",
    "# Conda.add(\"matplotlib\")\n",
    "\n",
    "py\"\"\"\n",
    "import sys\n",
    "sys.path.insert(0, \"./../../compute_cellnumber/\")\n",
    "\"\"\"\n",
    "\n",
    "compute_cellnumber = pyimport(\"compute_cellnumber\")[\"compute_cellnumber\"]"
   ]
  },
  {
   "cell_type": "code",
   "execution_count": 16,
   "metadata": {},
   "outputs": [
    {
     "data": {
      "text/plain": [
       "jl_row_to_py_row (generic function with 1 method)"
      ]
     },
     "execution_count": 16,
     "metadata": {},
     "output_type": "execute_result"
    }
   ],
   "source": [
    "# compute_cellnumber function uses different row keys\n",
    "# this is a nice sanity check to make sure we're passing in the data through the correct slots\n",
    "dvar_to_param = Dict(\n",
    "    \"DVAR1\" => \"Bmax\",\n",
    "    \"DVAR2\" => \"mX1\",\n",
    "    \"DVAR3\" => \"mX2\",\n",
    "    \"DVAR4\" => \"mY1\",\n",
    "    \"DVAR5\" => \"mY2\",\n",
    "    \"DVAR6\" => \"mtau1\",\n",
    "    \"DVAR7\" => \"mtau2\",\n",
    "    \"DVAR8\" => \"PhiY1\",\n",
    "    \"DVAR9\" => \"PhiY2\",\n",
    "    \"DVAR10\" => \"Phitau1\",\n",
    "    \"DVAR11\" => \"Phitau2\",\n",
    "    \"DVAR12\" => \"mY3ref\",\n",
    "    \"DVAR13\" => \"PhiY3ref\",\n",
    "    \"DVAR14\" => \"Eref\",\n",
    ")\n",
    "\n",
    "function jl_row_to_py_row(jl_row)\n",
    "    pyrow = Dict()\n",
    "    \n",
    "    for i in 1:14\n",
    "        pyrow[dvar_to_param[\"DVAR$i\"]] = jl_row[\"DVAR$i\"]\n",
    "    end\n",
    "    \n",
    "    pyrow\n",
    "end"
   ]
  },
  {
   "cell_type": "code",
   "execution_count": 17,
   "metadata": {},
   "outputs": [
    {
     "data": {
      "text/plain": [
       "(11.272526f0, 113.67641f0, 142.83572f0, 1.3236254f0, 1.7508091f0, 26.869146f0, 52.817062f0, -37.27841f0, -34.61879f0, 93.22662f0, 467.92874f0, 1.8544296f0, -29.753065f0, 0.07108371f0, 1)"
      ]
     },
     "execution_count": 17,
     "metadata": {},
     "output_type": "execute_result"
    }
   ],
   "source": [
    "values(x_raw_df[10, :])"
   ]
  },
  {
   "cell_type": "code",
   "execution_count": 18,
   "metadata": {},
   "outputs": [
    {
     "data": {
      "text/plain": [
       "59"
      ]
     },
     "execution_count": 18,
     "metadata": {},
     "output_type": "execute_result"
    }
   ],
   "source": [
    "compute_cellnumber(jl_row_to_py_row(x_raw_df[10, :]))"
   ]
  },
  {
   "cell_type": "code",
   "execution_count": null,
   "metadata": {},
   "outputs": [],
   "source": [
    "# sanity check\n",
    "cns_pred = []\n",
    "cns_true = []\n",
    "\n",
    "problematic_idx = []\n",
    "\n",
    "for i in 1:size(x_raw_df)[1]\n",
    "    \n",
    "    if y_df[i, \"OBJ1\"] < 50\n",
    "        continue\n",
    "    else\n",
    "\n",
    "        try\n",
    "            cn = compute_cellnumber(jl_row_to_py_row(x_raw_df[i, :]))\n",
    "            append!(cns_pred, cn)\n",
    "            append!(cns_true, x_raw_df[:, 15][i])\n",
    "        catch\n",
    "            append!(problematic_idx, i)\n",
    "            continue\n",
    "        end \n",
    "    end\n",
    "end"
   ]
  },
  {
   "cell_type": "code",
   "execution_count": 20,
   "metadata": {},
   "outputs": [
    {
     "data": {
      "text/plain": [
       "120141-element Vector{Int64}:\n",
       " 44\n",
       " 49\n",
       " 35\n",
       " 24\n",
       " 47\n",
       " 62\n",
       " 48\n",
       " 48\n",
       " 58\n",
       " 56\n",
       " 30\n",
       " 48\n",
       " 42\n",
       "  ⋮\n",
       " 40\n",
       " 54\n",
       " 36\n",
       " 26\n",
       " 68\n",
       " 54\n",
       " 61\n",
       " 34\n",
       " 60\n",
       " 56\n",
       " 52\n",
       " 34"
      ]
     },
     "execution_count": 20,
     "metadata": {},
     "output_type": "execute_result"
    }
   ],
   "source": [
    "cns_pred .- cns_true"
   ]
  },
  {
   "cell_type": "code",
   "execution_count": 21,
   "metadata": {},
   "outputs": [
    {
     "data": {
      "image/svg+xml": [
       "<?xml version=\"1.0\" encoding=\"utf-8\"?>\n",
       "<svg xmlns=\"http://www.w3.org/2000/svg\" xmlns:xlink=\"http://www.w3.org/1999/xlink\" width=\"600\" height=\"400\" viewBox=\"0 0 2400 1600\">\n",
       "<defs>\n",
       "  <clipPath id=\"clip090\">\n",
       "    <rect x=\"0\" y=\"0\" width=\"2400\" height=\"1600\"/>\n",
       "  </clipPath>\n",
       "</defs>\n",
       "<path clip-path=\"url(#clip090)\" d=\"\n",
       "M0 1600 L2400 1600 L2400 0 L0 0  Z\n",
       "  \" fill=\"#ffffff\" fill-rule=\"evenodd\" fill-opacity=\"1\"/>\n",
       "<defs>\n",
       "  <clipPath id=\"clip091\">\n",
       "    <rect x=\"480\" y=\"0\" width=\"1681\" height=\"1600\"/>\n",
       "  </clipPath>\n",
       "</defs>\n",
       "<path clip-path=\"url(#clip090)\" d=\"\n",
       "M202.177 1486.45 L2352.76 1486.45 L2352.76 47.2441 L202.177 47.2441  Z\n",
       "  \" fill=\"#ffffff\" fill-rule=\"evenodd\" fill-opacity=\"1\"/>\n",
       "<defs>\n",
       "  <clipPath id=\"clip092\">\n",
       "    <rect x=\"202\" y=\"47\" width=\"2152\" height=\"1440\"/>\n",
       "  </clipPath>\n",
       "</defs>\n",
       "<polyline clip-path=\"url(#clip092)\" style=\"stroke:#000000; stroke-linecap:butt; stroke-linejoin:round; stroke-width:2; stroke-opacity:0.1; fill:none\" points=\"\n",
       "  389.643,1486.45 389.643,47.2441 \n",
       "  \"/>\n",
       "<polyline clip-path=\"url(#clip092)\" style=\"stroke:#000000; stroke-linecap:butt; stroke-linejoin:round; stroke-width:2; stroke-opacity:0.1; fill:none\" points=\"\n",
       "  850.85,1486.45 850.85,47.2441 \n",
       "  \"/>\n",
       "<polyline clip-path=\"url(#clip092)\" style=\"stroke:#000000; stroke-linecap:butt; stroke-linejoin:round; stroke-width:2; stroke-opacity:0.1; fill:none\" points=\"\n",
       "  1312.06,1486.45 1312.06,47.2441 \n",
       "  \"/>\n",
       "<polyline clip-path=\"url(#clip092)\" style=\"stroke:#000000; stroke-linecap:butt; stroke-linejoin:round; stroke-width:2; stroke-opacity:0.1; fill:none\" points=\"\n",
       "  1773.26,1486.45 1773.26,47.2441 \n",
       "  \"/>\n",
       "<polyline clip-path=\"url(#clip092)\" style=\"stroke:#000000; stroke-linecap:butt; stroke-linejoin:round; stroke-width:2; stroke-opacity:0.1; fill:none\" points=\"\n",
       "  2234.47,1486.45 2234.47,47.2441 \n",
       "  \"/>\n",
       "<polyline clip-path=\"url(#clip090)\" style=\"stroke:#000000; stroke-linecap:butt; stroke-linejoin:round; stroke-width:4; stroke-opacity:1; fill:none\" points=\"\n",
       "  202.177,1486.45 2352.76,1486.45 \n",
       "  \"/>\n",
       "<polyline clip-path=\"url(#clip090)\" style=\"stroke:#000000; stroke-linecap:butt; stroke-linejoin:round; stroke-width:4; stroke-opacity:1; fill:none\" points=\"\n",
       "  389.643,1486.45 389.643,1467.55 \n",
       "  \"/>\n",
       "<polyline clip-path=\"url(#clip090)\" style=\"stroke:#000000; stroke-linecap:butt; stroke-linejoin:round; stroke-width:4; stroke-opacity:1; fill:none\" points=\"\n",
       "  850.85,1486.45 850.85,1467.55 \n",
       "  \"/>\n",
       "<polyline clip-path=\"url(#clip090)\" style=\"stroke:#000000; stroke-linecap:butt; stroke-linejoin:round; stroke-width:4; stroke-opacity:1; fill:none\" points=\"\n",
       "  1312.06,1486.45 1312.06,1467.55 \n",
       "  \"/>\n",
       "<polyline clip-path=\"url(#clip090)\" style=\"stroke:#000000; stroke-linecap:butt; stroke-linejoin:round; stroke-width:4; stroke-opacity:1; fill:none\" points=\"\n",
       "  1773.26,1486.45 1773.26,1467.55 \n",
       "  \"/>\n",
       "<polyline clip-path=\"url(#clip090)\" style=\"stroke:#000000; stroke-linecap:butt; stroke-linejoin:round; stroke-width:4; stroke-opacity:1; fill:none\" points=\"\n",
       "  2234.47,1486.45 2234.47,1467.55 \n",
       "  \"/>\n",
       "<path clip-path=\"url(#clip090)\" d=\"M368.417 1544.91 L384.736 1544.91 L384.736 1548.85 L362.792 1548.85 L362.792 1544.91 Q365.454 1542.16 370.037 1537.53 Q374.643 1532.88 375.824 1531.53 Q378.069 1529.01 378.949 1527.27 Q379.852 1525.51 379.852 1523.82 Q379.852 1521.07 377.907 1519.33 Q375.986 1517.6 372.884 1517.6 Q370.685 1517.6 368.231 1518.36 Q365.801 1519.13 363.023 1520.68 L363.023 1515.95 Q365.847 1514.82 368.301 1514.24 Q370.755 1513.66 372.792 1513.66 Q378.162 1513.66 381.356 1516.35 Q384.551 1519.03 384.551 1523.52 Q384.551 1525.65 383.741 1527.57 Q382.954 1529.47 380.847 1532.07 Q380.268 1532.74 377.167 1535.95 Q374.065 1539.15 368.417 1544.91 Z\" fill=\"#000000\" fill-rule=\"evenodd\" fill-opacity=\"1\" /><path clip-path=\"url(#clip090)\" d=\"M404.551 1517.37 Q400.94 1517.37 399.111 1520.93 Q397.305 1524.47 397.305 1531.6 Q397.305 1538.71 399.111 1542.27 Q400.94 1545.82 404.551 1545.82 Q408.185 1545.82 409.99 1542.27 Q411.819 1538.71 411.819 1531.6 Q411.819 1524.47 409.99 1520.93 Q408.185 1517.37 404.551 1517.37 M404.551 1513.66 Q410.361 1513.66 413.416 1518.27 Q416.495 1522.85 416.495 1531.6 Q416.495 1540.33 413.416 1544.94 Q410.361 1549.52 404.551 1549.52 Q398.741 1549.52 395.662 1544.94 Q392.606 1540.33 392.606 1531.6 Q392.606 1522.85 395.662 1518.27 Q398.741 1513.66 404.551 1513.66 Z\" fill=\"#000000\" fill-rule=\"evenodd\" fill-opacity=\"1\" /><path clip-path=\"url(#clip090)\" d=\"M839.021 1518.36 L827.216 1536.81 L839.021 1536.81 L839.021 1518.36 M837.795 1514.29 L843.674 1514.29 L843.674 1536.81 L848.605 1536.81 L848.605 1540.7 L843.674 1540.7 L843.674 1548.85 L839.021 1548.85 L839.021 1540.7 L823.42 1540.7 L823.42 1536.19 L837.795 1514.29 Z\" fill=\"#000000\" fill-rule=\"evenodd\" fill-opacity=\"1\" /><path clip-path=\"url(#clip090)\" d=\"M866.336 1517.37 Q862.725 1517.37 860.896 1520.93 Q859.091 1524.47 859.091 1531.6 Q859.091 1538.71 860.896 1542.27 Q862.725 1545.82 866.336 1545.82 Q869.97 1545.82 871.776 1542.27 Q873.605 1538.71 873.605 1531.6 Q873.605 1524.47 871.776 1520.93 Q869.97 1517.37 866.336 1517.37 M866.336 1513.66 Q872.146 1513.66 875.202 1518.27 Q878.281 1522.85 878.281 1531.6 Q878.281 1540.33 875.202 1544.94 Q872.146 1549.52 866.336 1549.52 Q860.526 1549.52 857.447 1544.94 Q854.392 1540.33 854.392 1531.6 Q854.392 1522.85 857.447 1518.27 Q860.526 1513.66 866.336 1513.66 Z\" fill=\"#000000\" fill-rule=\"evenodd\" fill-opacity=\"1\" /><path clip-path=\"url(#clip090)\" d=\"M1297.46 1529.7 Q1294.31 1529.7 1292.46 1531.86 Q1290.63 1534.01 1290.63 1537.76 Q1290.63 1541.49 1292.46 1543.66 Q1294.31 1545.82 1297.46 1545.82 Q1300.61 1545.82 1302.44 1543.66 Q1304.29 1541.49 1304.29 1537.76 Q1304.29 1534.01 1302.44 1531.86 Q1300.61 1529.7 1297.46 1529.7 M1306.74 1515.05 L1306.74 1519.31 Q1304.99 1518.48 1303.18 1518.04 Q1301.4 1517.6 1299.64 1517.6 Q1295.01 1517.6 1292.55 1520.72 Q1290.12 1523.85 1289.78 1530.17 Q1291.14 1528.15 1293.2 1527.09 Q1295.26 1526 1297.74 1526 Q1302.95 1526 1305.96 1529.17 Q1308.99 1532.32 1308.99 1537.76 Q1308.99 1543.08 1305.84 1546.3 Q1302.69 1549.52 1297.46 1549.52 Q1291.47 1549.52 1288.3 1544.94 Q1285.12 1540.33 1285.12 1531.6 Q1285.12 1523.41 1289.01 1518.55 Q1292.9 1513.66 1299.45 1513.66 Q1301.21 1513.66 1302.99 1514.01 Q1304.8 1514.36 1306.74 1515.05 Z\" fill=\"#000000\" fill-rule=\"evenodd\" fill-opacity=\"1\" /><path clip-path=\"url(#clip090)\" d=\"M1327.05 1517.37 Q1323.43 1517.37 1321.61 1520.93 Q1319.8 1524.47 1319.8 1531.6 Q1319.8 1538.71 1321.61 1542.27 Q1323.43 1545.82 1327.05 1545.82 Q1330.68 1545.82 1332.48 1542.27 Q1334.31 1538.71 1334.31 1531.6 Q1334.31 1524.47 1332.48 1520.93 Q1330.68 1517.37 1327.05 1517.37 M1327.05 1513.66 Q1332.86 1513.66 1335.91 1518.27 Q1338.99 1522.85 1338.99 1531.6 Q1338.99 1540.33 1335.91 1544.94 Q1332.86 1549.52 1327.05 1549.52 Q1321.23 1549.52 1318.16 1544.94 Q1315.1 1540.33 1315.1 1531.6 Q1315.1 1522.85 1318.16 1518.27 Q1321.23 1513.66 1327.05 1513.66 Z\" fill=\"#000000\" fill-rule=\"evenodd\" fill-opacity=\"1\" /><path clip-path=\"url(#clip090)\" d=\"M1758.14 1532.44 Q1754.8 1532.44 1752.88 1534.22 Q1750.98 1536 1750.98 1539.13 Q1750.98 1542.25 1752.88 1544.03 Q1754.8 1545.82 1758.14 1545.82 Q1761.47 1545.82 1763.39 1544.03 Q1765.31 1542.23 1765.31 1539.13 Q1765.31 1536 1763.39 1534.22 Q1761.49 1532.44 1758.14 1532.44 M1753.46 1530.45 Q1750.45 1529.7 1748.76 1527.64 Q1747.09 1525.58 1747.09 1522.62 Q1747.09 1518.48 1750.03 1516.07 Q1753 1513.66 1758.14 1513.66 Q1763.3 1513.66 1766.24 1516.07 Q1769.18 1518.48 1769.18 1522.62 Q1769.18 1525.58 1767.49 1527.64 Q1765.82 1529.7 1762.84 1530.45 Q1766.21 1531.23 1768.09 1533.52 Q1769.99 1535.82 1769.99 1539.13 Q1769.99 1544.15 1766.91 1546.83 Q1763.85 1549.52 1758.14 1549.52 Q1752.42 1549.52 1749.34 1546.83 Q1746.28 1544.15 1746.28 1539.13 Q1746.28 1535.82 1748.18 1533.52 Q1750.08 1531.23 1753.46 1530.45 M1751.75 1523.06 Q1751.75 1525.75 1753.41 1527.25 Q1755.1 1528.76 1758.14 1528.76 Q1761.15 1528.76 1762.84 1527.25 Q1764.55 1525.75 1764.55 1523.06 Q1764.55 1520.38 1762.84 1518.87 Q1761.15 1517.37 1758.14 1517.37 Q1755.1 1517.37 1753.41 1518.87 Q1751.75 1520.38 1751.75 1523.06 Z\" fill=\"#000000\" fill-rule=\"evenodd\" fill-opacity=\"1\" /><path clip-path=\"url(#clip090)\" d=\"M1788.3 1517.37 Q1784.69 1517.37 1782.86 1520.93 Q1781.05 1524.47 1781.05 1531.6 Q1781.05 1538.71 1782.86 1542.27 Q1784.69 1545.82 1788.3 1545.82 Q1791.93 1545.82 1793.74 1542.27 Q1795.57 1538.71 1795.57 1531.6 Q1795.57 1524.47 1793.74 1520.93 Q1791.93 1517.37 1788.3 1517.37 M1788.3 1513.66 Q1794.11 1513.66 1797.16 1518.27 Q1800.24 1522.85 1800.24 1531.6 Q1800.24 1540.33 1797.16 1544.94 Q1794.11 1549.52 1788.3 1549.52 Q1782.49 1549.52 1779.41 1544.94 Q1776.35 1540.33 1776.35 1531.6 Q1776.35 1522.85 1779.41 1518.27 Q1782.49 1513.66 1788.3 1513.66 Z\" fill=\"#000000\" fill-rule=\"evenodd\" fill-opacity=\"1\" /><path clip-path=\"url(#clip090)\" d=\"M2194.08 1544.91 L2201.72 1544.91 L2201.72 1518.55 L2193.41 1520.21 L2193.41 1515.95 L2201.67 1514.29 L2206.35 1514.29 L2206.35 1544.91 L2213.98 1544.91 L2213.98 1548.85 L2194.08 1548.85 L2194.08 1544.91 Z\" fill=\"#000000\" fill-rule=\"evenodd\" fill-opacity=\"1\" /><path clip-path=\"url(#clip090)\" d=\"M2233.43 1517.37 Q2229.82 1517.37 2227.99 1520.93 Q2226.18 1524.47 2226.18 1531.6 Q2226.18 1538.71 2227.99 1542.27 Q2229.82 1545.82 2233.43 1545.82 Q2237.06 1545.82 2238.87 1542.27 Q2240.7 1538.71 2240.7 1531.6 Q2240.7 1524.47 2238.87 1520.93 Q2237.06 1517.37 2233.43 1517.37 M2233.43 1513.66 Q2239.24 1513.66 2242.29 1518.27 Q2245.37 1522.85 2245.37 1531.6 Q2245.37 1540.33 2242.29 1544.94 Q2239.24 1549.52 2233.43 1549.52 Q2227.62 1549.52 2224.54 1544.94 Q2221.48 1540.33 2221.48 1531.6 Q2221.48 1522.85 2224.54 1518.27 Q2227.62 1513.66 2233.43 1513.66 Z\" fill=\"#000000\" fill-rule=\"evenodd\" fill-opacity=\"1\" /><path clip-path=\"url(#clip090)\" d=\"M2263.59 1517.37 Q2259.98 1517.37 2258.15 1520.93 Q2256.35 1524.47 2256.35 1531.6 Q2256.35 1538.71 2258.15 1542.27 Q2259.98 1545.82 2263.59 1545.82 Q2267.22 1545.82 2269.03 1542.27 Q2270.86 1538.71 2270.86 1531.6 Q2270.86 1524.47 2269.03 1520.93 Q2267.22 1517.37 2263.59 1517.37 M2263.59 1513.66 Q2269.4 1513.66 2272.46 1518.27 Q2275.53 1522.85 2275.53 1531.6 Q2275.53 1540.33 2272.46 1544.94 Q2269.4 1549.52 2263.59 1549.52 Q2257.78 1549.52 2254.7 1544.94 Q2251.65 1540.33 2251.65 1531.6 Q2251.65 1522.85 2254.7 1518.27 Q2257.78 1513.66 2263.59 1513.66 Z\" fill=\"#000000\" fill-rule=\"evenodd\" fill-opacity=\"1\" /><polyline clip-path=\"url(#clip092)\" style=\"stroke:#000000; stroke-linecap:butt; stroke-linejoin:round; stroke-width:2; stroke-opacity:0.1; fill:none\" points=\"\n",
       "  202.177,1445.72 2352.76,1445.72 \n",
       "  \"/>\n",
       "<polyline clip-path=\"url(#clip092)\" style=\"stroke:#000000; stroke-linecap:butt; stroke-linejoin:round; stroke-width:2; stroke-opacity:0.1; fill:none\" points=\"\n",
       "  202.177,1158.55 2352.76,1158.55 \n",
       "  \"/>\n",
       "<polyline clip-path=\"url(#clip092)\" style=\"stroke:#000000; stroke-linecap:butt; stroke-linejoin:round; stroke-width:2; stroke-opacity:0.1; fill:none\" points=\"\n",
       "  202.177,871.376 2352.76,871.376 \n",
       "  \"/>\n",
       "<polyline clip-path=\"url(#clip092)\" style=\"stroke:#000000; stroke-linecap:butt; stroke-linejoin:round; stroke-width:2; stroke-opacity:0.1; fill:none\" points=\"\n",
       "  202.177,584.206 2352.76,584.206 \n",
       "  \"/>\n",
       "<polyline clip-path=\"url(#clip092)\" style=\"stroke:#000000; stroke-linecap:butt; stroke-linejoin:round; stroke-width:2; stroke-opacity:0.1; fill:none\" points=\"\n",
       "  202.177,297.036 2352.76,297.036 \n",
       "  \"/>\n",
       "<polyline clip-path=\"url(#clip090)\" style=\"stroke:#000000; stroke-linecap:butt; stroke-linejoin:round; stroke-width:4; stroke-opacity:1; fill:none\" points=\"\n",
       "  202.177,1486.45 202.177,47.2441 \n",
       "  \"/>\n",
       "<polyline clip-path=\"url(#clip090)\" style=\"stroke:#000000; stroke-linecap:butt; stroke-linejoin:round; stroke-width:4; stroke-opacity:1; fill:none\" points=\"\n",
       "  202.177,1445.72 221.074,1445.72 \n",
       "  \"/>\n",
       "<polyline clip-path=\"url(#clip090)\" style=\"stroke:#000000; stroke-linecap:butt; stroke-linejoin:round; stroke-width:4; stroke-opacity:1; fill:none\" points=\"\n",
       "  202.177,1158.55 221.074,1158.55 \n",
       "  \"/>\n",
       "<polyline clip-path=\"url(#clip090)\" style=\"stroke:#000000; stroke-linecap:butt; stroke-linejoin:round; stroke-width:4; stroke-opacity:1; fill:none\" points=\"\n",
       "  202.177,871.376 221.074,871.376 \n",
       "  \"/>\n",
       "<polyline clip-path=\"url(#clip090)\" style=\"stroke:#000000; stroke-linecap:butt; stroke-linejoin:round; stroke-width:4; stroke-opacity:1; fill:none\" points=\"\n",
       "  202.177,584.206 221.074,584.206 \n",
       "  \"/>\n",
       "<polyline clip-path=\"url(#clip090)\" style=\"stroke:#000000; stroke-linecap:butt; stroke-linejoin:round; stroke-width:4; stroke-opacity:1; fill:none\" points=\"\n",
       "  202.177,297.036 221.074,297.036 \n",
       "  \"/>\n",
       "<path clip-path=\"url(#clip090)\" d=\"M154.232 1431.51 Q150.621 1431.51 148.793 1435.08 Q146.987 1438.62 146.987 1445.75 Q146.987 1452.86 148.793 1456.42 Q150.621 1459.96 154.232 1459.96 Q157.867 1459.96 159.672 1456.42 Q161.501 1452.86 161.501 1445.75 Q161.501 1438.62 159.672 1435.08 Q157.867 1431.51 154.232 1431.51 M154.232 1427.81 Q160.042 1427.81 163.098 1432.42 Q166.177 1437 166.177 1445.75 Q166.177 1454.48 163.098 1459.08 Q160.042 1463.67 154.232 1463.67 Q148.422 1463.67 145.343 1459.08 Q142.288 1454.48 142.288 1445.75 Q142.288 1437 145.343 1432.42 Q148.422 1427.81 154.232 1427.81 Z\" fill=\"#000000\" fill-rule=\"evenodd\" fill-opacity=\"1\" /><path clip-path=\"url(#clip090)\" d=\"M54.5569 1171.89 L62.1958 1171.89 L62.1958 1145.53 L53.8856 1147.19 L53.8856 1142.93 L62.1495 1141.27 L66.8254 1141.27 L66.8254 1171.89 L74.4642 1171.89 L74.4642 1175.83 L54.5569 1175.83 L54.5569 1171.89 Z\" fill=\"#000000\" fill-rule=\"evenodd\" fill-opacity=\"1\" /><path clip-path=\"url(#clip090)\" d=\"M93.9086 1144.34 Q90.2975 1144.34 88.4688 1147.91 Q86.6632 1151.45 86.6632 1158.58 Q86.6632 1165.69 88.4688 1169.25 Q90.2975 1172.79 93.9086 1172.79 Q97.5428 1172.79 99.3483 1169.25 Q101.177 1165.69 101.177 1158.58 Q101.177 1151.45 99.3483 1147.91 Q97.5428 1144.34 93.9086 1144.34 M93.9086 1140.64 Q99.7187 1140.64 102.774 1145.25 Q105.853 1149.83 105.853 1158.58 Q105.853 1167.31 102.774 1171.91 Q99.7187 1176.5 93.9086 1176.5 Q88.0984 1176.5 85.0197 1171.91 Q81.9642 1167.31 81.9642 1158.58 Q81.9642 1149.83 85.0197 1145.25 Q88.0984 1140.64 93.9086 1140.64 Z\" fill=\"#000000\" fill-rule=\"evenodd\" fill-opacity=\"1\" /><path clip-path=\"url(#clip090)\" d=\"M124.07 1144.34 Q120.459 1144.34 118.631 1147.91 Q116.825 1151.45 116.825 1158.58 Q116.825 1165.69 118.631 1169.25 Q120.459 1172.79 124.07 1172.79 Q127.705 1172.79 129.51 1169.25 Q131.339 1165.69 131.339 1158.58 Q131.339 1151.45 129.51 1147.91 Q127.705 1144.34 124.07 1144.34 M124.07 1140.64 Q129.881 1140.64 132.936 1145.25 Q136.015 1149.83 136.015 1158.58 Q136.015 1167.31 132.936 1171.91 Q129.881 1176.5 124.07 1176.5 Q118.26 1176.5 115.182 1171.91 Q112.126 1167.31 112.126 1158.58 Q112.126 1149.83 115.182 1145.25 Q118.26 1140.64 124.07 1140.64 Z\" fill=\"#000000\" fill-rule=\"evenodd\" fill-opacity=\"1\" /><path clip-path=\"url(#clip090)\" d=\"M154.232 1144.34 Q150.621 1144.34 148.793 1147.91 Q146.987 1151.45 146.987 1158.58 Q146.987 1165.69 148.793 1169.25 Q150.621 1172.79 154.232 1172.79 Q157.867 1172.79 159.672 1169.25 Q161.501 1165.69 161.501 1158.58 Q161.501 1151.45 159.672 1147.91 Q157.867 1144.34 154.232 1144.34 M154.232 1140.64 Q160.042 1140.64 163.098 1145.25 Q166.177 1149.83 166.177 1158.58 Q166.177 1167.31 163.098 1171.91 Q160.042 1176.5 154.232 1176.5 Q148.422 1176.5 145.343 1171.91 Q142.288 1167.31 142.288 1158.58 Q142.288 1149.83 145.343 1145.25 Q148.422 1140.64 154.232 1140.64 Z\" fill=\"#000000\" fill-rule=\"evenodd\" fill-opacity=\"1\" /><path clip-path=\"url(#clip090)\" d=\"M57.7745 884.721 L74.0939 884.721 L74.0939 888.656 L52.1495 888.656 L52.1495 884.721 Q54.8115 881.966 59.3949 877.336 Q64.0013 872.684 65.1819 871.341 Q67.4272 868.818 68.3068 867.082 Q69.2096 865.323 69.2096 863.633 Q69.2096 860.878 67.2652 859.142 Q65.3439 857.406 62.2421 857.406 Q60.043 857.406 57.5893 858.17 Q55.1588 858.934 52.381 860.485 L52.381 855.762 Q55.2051 854.628 57.6588 854.05 Q60.1124 853.471 62.1495 853.471 Q67.5198 853.471 70.7142 856.156 Q73.9087 858.841 73.9087 863.332 Q73.9087 865.462 73.0985 867.383 Q72.3115 869.281 70.205 871.874 Q69.6263 872.545 66.5245 875.762 Q63.4226 878.957 57.7745 884.721 Z\" fill=\"#000000\" fill-rule=\"evenodd\" fill-opacity=\"1\" /><path clip-path=\"url(#clip090)\" d=\"M93.9086 857.175 Q90.2975 857.175 88.4688 860.739 Q86.6632 864.281 86.6632 871.411 Q86.6632 878.517 88.4688 882.082 Q90.2975 885.623 93.9086 885.623 Q97.5428 885.623 99.3483 882.082 Q101.177 878.517 101.177 871.411 Q101.177 864.281 99.3483 860.739 Q97.5428 857.175 93.9086 857.175 M93.9086 853.471 Q99.7187 853.471 102.774 858.077 Q105.853 862.661 105.853 871.411 Q105.853 880.137 102.774 884.744 Q99.7187 889.327 93.9086 889.327 Q88.0984 889.327 85.0197 884.744 Q81.9642 880.137 81.9642 871.411 Q81.9642 862.661 85.0197 858.077 Q88.0984 853.471 93.9086 853.471 Z\" fill=\"#000000\" fill-rule=\"evenodd\" fill-opacity=\"1\" /><path clip-path=\"url(#clip090)\" d=\"M124.07 857.175 Q120.459 857.175 118.631 860.739 Q116.825 864.281 116.825 871.411 Q116.825 878.517 118.631 882.082 Q120.459 885.623 124.07 885.623 Q127.705 885.623 129.51 882.082 Q131.339 878.517 131.339 871.411 Q131.339 864.281 129.51 860.739 Q127.705 857.175 124.07 857.175 M124.07 853.471 Q129.881 853.471 132.936 858.077 Q136.015 862.661 136.015 871.411 Q136.015 880.137 132.936 884.744 Q129.881 889.327 124.07 889.327 Q118.26 889.327 115.182 884.744 Q112.126 880.137 112.126 871.411 Q112.126 862.661 115.182 858.077 Q118.26 853.471 124.07 853.471 Z\" fill=\"#000000\" fill-rule=\"evenodd\" fill-opacity=\"1\" /><path clip-path=\"url(#clip090)\" d=\"M154.232 857.175 Q150.621 857.175 148.793 860.739 Q146.987 864.281 146.987 871.411 Q146.987 878.517 148.793 882.082 Q150.621 885.623 154.232 885.623 Q157.867 885.623 159.672 882.082 Q161.501 878.517 161.501 871.411 Q161.501 864.281 159.672 860.739 Q157.867 857.175 154.232 857.175 M154.232 853.471 Q160.042 853.471 163.098 858.077 Q166.177 862.661 166.177 871.411 Q166.177 880.137 163.098 884.744 Q160.042 889.327 154.232 889.327 Q148.422 889.327 145.343 884.744 Q142.288 880.137 142.288 871.411 Q142.288 862.661 145.343 858.077 Q148.422 853.471 154.232 853.471 Z\" fill=\"#000000\" fill-rule=\"evenodd\" fill-opacity=\"1\" /><path clip-path=\"url(#clip090)\" d=\"M67.9133 582.852 Q71.2698 583.569 73.1448 585.838 Q75.0429 588.106 75.0429 591.44 Q75.0429 596.555 71.5244 599.356 Q68.0059 602.157 61.5245 602.157 Q59.3486 602.157 57.0338 601.717 Q54.7421 601.301 52.2884 600.444 L52.2884 595.93 Q54.2328 597.065 56.5477 597.643 Q58.8625 598.222 61.3856 598.222 Q65.7837 598.222 68.0754 596.486 Q70.3902 594.75 70.3902 591.44 Q70.3902 588.384 68.2374 586.671 Q66.1078 584.935 62.2884 584.935 L58.2606 584.935 L58.2606 581.093 L62.4735 581.093 Q65.9226 581.093 67.7513 579.727 Q69.58 578.338 69.58 575.745 Q69.58 573.083 67.6819 571.671 Q65.8069 570.236 62.2884 570.236 Q60.3671 570.236 58.168 570.653 Q55.969 571.069 53.3301 571.949 L53.3301 567.782 Q55.9921 567.042 58.3069 566.671 Q60.6449 566.301 62.705 566.301 Q68.0291 566.301 71.1309 568.731 Q74.2327 571.139 74.2327 575.259 Q74.2327 578.13 72.5892 580.12 Q70.9457 582.088 67.9133 582.852 Z\" fill=\"#000000\" fill-rule=\"evenodd\" fill-opacity=\"1\" /><path clip-path=\"url(#clip090)\" d=\"M93.9086 570.005 Q90.2975 570.005 88.4688 573.569 Q86.6632 577.111 86.6632 584.241 Q86.6632 591.347 88.4688 594.912 Q90.2975 598.454 93.9086 598.454 Q97.5428 598.454 99.3483 594.912 Q101.177 591.347 101.177 584.241 Q101.177 577.111 99.3483 573.569 Q97.5428 570.005 93.9086 570.005 M93.9086 566.301 Q99.7187 566.301 102.774 570.907 Q105.853 575.491 105.853 584.241 Q105.853 592.967 102.774 597.574 Q99.7187 602.157 93.9086 602.157 Q88.0984 602.157 85.0197 597.574 Q81.9642 592.967 81.9642 584.241 Q81.9642 575.491 85.0197 570.907 Q88.0984 566.301 93.9086 566.301 Z\" fill=\"#000000\" fill-rule=\"evenodd\" fill-opacity=\"1\" /><path clip-path=\"url(#clip090)\" d=\"M124.07 570.005 Q120.459 570.005 118.631 573.569 Q116.825 577.111 116.825 584.241 Q116.825 591.347 118.631 594.912 Q120.459 598.454 124.07 598.454 Q127.705 598.454 129.51 594.912 Q131.339 591.347 131.339 584.241 Q131.339 577.111 129.51 573.569 Q127.705 570.005 124.07 570.005 M124.07 566.301 Q129.881 566.301 132.936 570.907 Q136.015 575.491 136.015 584.241 Q136.015 592.967 132.936 597.574 Q129.881 602.157 124.07 602.157 Q118.26 602.157 115.182 597.574 Q112.126 592.967 112.126 584.241 Q112.126 575.491 115.182 570.907 Q118.26 566.301 124.07 566.301 Z\" fill=\"#000000\" fill-rule=\"evenodd\" fill-opacity=\"1\" /><path clip-path=\"url(#clip090)\" d=\"M154.232 570.005 Q150.621 570.005 148.793 573.569 Q146.987 577.111 146.987 584.241 Q146.987 591.347 148.793 594.912 Q150.621 598.454 154.232 598.454 Q157.867 598.454 159.672 594.912 Q161.501 591.347 161.501 584.241 Q161.501 577.111 159.672 573.569 Q157.867 570.005 154.232 570.005 M154.232 566.301 Q160.042 566.301 163.098 570.907 Q166.177 575.491 166.177 584.241 Q166.177 592.967 163.098 597.574 Q160.042 602.157 154.232 602.157 Q148.422 602.157 145.343 597.574 Q142.288 592.967 142.288 584.241 Q142.288 575.491 145.343 570.907 Q148.422 566.301 154.232 566.301 Z\" fill=\"#000000\" fill-rule=\"evenodd\" fill-opacity=\"1\" /><path clip-path=\"url(#clip090)\" d=\"M66.5939 283.83 L54.7884 302.279 L66.5939 302.279 L66.5939 283.83 M65.367 279.756 L71.2466 279.756 L71.2466 302.279 L76.1772 302.279 L76.1772 306.168 L71.2466 306.168 L71.2466 314.316 L66.5939 314.316 L66.5939 306.168 L50.9921 306.168 L50.9921 301.654 L65.367 279.756 Z\" fill=\"#000000\" fill-rule=\"evenodd\" fill-opacity=\"1\" /><path clip-path=\"url(#clip090)\" d=\"M93.9086 282.835 Q90.2975 282.835 88.4688 286.399 Q86.6632 289.941 86.6632 297.071 Q86.6632 304.177 88.4688 307.742 Q90.2975 311.284 93.9086 311.284 Q97.5428 311.284 99.3483 307.742 Q101.177 304.177 101.177 297.071 Q101.177 289.941 99.3483 286.399 Q97.5428 282.835 93.9086 282.835 M93.9086 279.131 Q99.7187 279.131 102.774 283.737 Q105.853 288.321 105.853 297.071 Q105.853 305.798 102.774 310.404 Q99.7187 314.987 93.9086 314.987 Q88.0984 314.987 85.0197 310.404 Q81.9642 305.798 81.9642 297.071 Q81.9642 288.321 85.0197 283.737 Q88.0984 279.131 93.9086 279.131 Z\" fill=\"#000000\" fill-rule=\"evenodd\" fill-opacity=\"1\" /><path clip-path=\"url(#clip090)\" d=\"M124.07 282.835 Q120.459 282.835 118.631 286.399 Q116.825 289.941 116.825 297.071 Q116.825 304.177 118.631 307.742 Q120.459 311.284 124.07 311.284 Q127.705 311.284 129.51 307.742 Q131.339 304.177 131.339 297.071 Q131.339 289.941 129.51 286.399 Q127.705 282.835 124.07 282.835 M124.07 279.131 Q129.881 279.131 132.936 283.737 Q136.015 288.321 136.015 297.071 Q136.015 305.798 132.936 310.404 Q129.881 314.987 124.07 314.987 Q118.26 314.987 115.182 310.404 Q112.126 305.798 112.126 297.071 Q112.126 288.321 115.182 283.737 Q118.26 279.131 124.07 279.131 Z\" fill=\"#000000\" fill-rule=\"evenodd\" fill-opacity=\"1\" /><path clip-path=\"url(#clip090)\" d=\"M154.232 282.835 Q150.621 282.835 148.793 286.399 Q146.987 289.941 146.987 297.071 Q146.987 304.177 148.793 307.742 Q150.621 311.284 154.232 311.284 Q157.867 311.284 159.672 307.742 Q161.501 304.177 161.501 297.071 Q161.501 289.941 159.672 286.399 Q157.867 282.835 154.232 282.835 M154.232 279.131 Q160.042 279.131 163.098 283.737 Q166.177 288.321 166.177 297.071 Q166.177 305.798 163.098 310.404 Q160.042 314.987 154.232 314.987 Q148.422 314.987 145.343 310.404 Q142.288 305.798 142.288 297.071 Q142.288 288.321 145.343 283.737 Q148.422 279.131 154.232 279.131 Z\" fill=\"#000000\" fill-rule=\"evenodd\" fill-opacity=\"1\" /><path clip-path=\"url(#clip092)\" d=\"\n",
       "M320.462 1445.43 L320.462 1445.72 L343.523 1445.72 L343.523 1445.43 L320.462 1445.43 L320.462 1445.43  Z\n",
       "  \" fill=\"#009af9\" fill-rule=\"evenodd\" fill-opacity=\"1\"/>\n",
       "<polyline clip-path=\"url(#clip092)\" style=\"stroke:#000000; stroke-linecap:butt; stroke-linejoin:round; stroke-width:4; stroke-opacity:1; fill:none\" points=\"\n",
       "  320.462,1445.43 320.462,1445.72 343.523,1445.72 343.523,1445.43 320.462,1445.43 \n",
       "  \"/>\n",
       "<path clip-path=\"url(#clip092)\" d=\"\n",
       "M343.523 1443.71 L343.523 1445.72 L366.583 1445.72 L366.583 1443.71 L343.523 1443.71 L343.523 1443.71  Z\n",
       "  \" fill=\"#009af9\" fill-rule=\"evenodd\" fill-opacity=\"1\"/>\n",
       "<polyline clip-path=\"url(#clip092)\" style=\"stroke:#000000; stroke-linecap:butt; stroke-linejoin:round; stroke-width:4; stroke-opacity:1; fill:none\" points=\"\n",
       "  343.523,1443.71 343.523,1445.72 366.583,1445.72 366.583,1443.71 343.523,1443.71 \n",
       "  \"/>\n",
       "<path clip-path=\"url(#clip092)\" d=\"\n",
       "M366.583 1443.99 L366.583 1445.72 L389.643 1445.72 L389.643 1443.99 L366.583 1443.99 L366.583 1443.99  Z\n",
       "  \" fill=\"#009af9\" fill-rule=\"evenodd\" fill-opacity=\"1\"/>\n",
       "<polyline clip-path=\"url(#clip092)\" style=\"stroke:#000000; stroke-linecap:butt; stroke-linejoin:round; stroke-width:4; stroke-opacity:1; fill:none\" points=\"\n",
       "  366.583,1443.99 366.583,1445.72 389.643,1445.72 389.643,1443.99 366.583,1443.99 \n",
       "  \"/>\n",
       "<path clip-path=\"url(#clip092)\" d=\"\n",
       "M389.643 1436.81 L389.643 1445.72 L412.704 1445.72 L412.704 1436.81 L389.643 1436.81 L389.643 1436.81  Z\n",
       "  \" fill=\"#009af9\" fill-rule=\"evenodd\" fill-opacity=\"1\"/>\n",
       "<polyline clip-path=\"url(#clip092)\" style=\"stroke:#000000; stroke-linecap:butt; stroke-linejoin:round; stroke-width:4; stroke-opacity:1; fill:none\" points=\"\n",
       "  389.643,1436.81 389.643,1445.72 412.704,1445.72 412.704,1436.81 389.643,1436.81 \n",
       "  \"/>\n",
       "<path clip-path=\"url(#clip092)\" d=\"\n",
       "M412.704 1435.66 L412.704 1445.72 L435.764 1445.72 L435.764 1435.66 L412.704 1435.66 L412.704 1435.66  Z\n",
       "  \" fill=\"#009af9\" fill-rule=\"evenodd\" fill-opacity=\"1\"/>\n",
       "<polyline clip-path=\"url(#clip092)\" style=\"stroke:#000000; stroke-linecap:butt; stroke-linejoin:round; stroke-width:4; stroke-opacity:1; fill:none\" points=\"\n",
       "  412.704,1435.66 412.704,1445.72 435.764,1445.72 435.764,1435.66 412.704,1435.66 \n",
       "  \"/>\n",
       "<path clip-path=\"url(#clip092)\" d=\"\n",
       "M435.764 1367.89 L435.764 1445.72 L458.824 1445.72 L458.824 1367.89 L435.764 1367.89 L435.764 1367.89  Z\n",
       "  \" fill=\"#009af9\" fill-rule=\"evenodd\" fill-opacity=\"1\"/>\n",
       "<polyline clip-path=\"url(#clip092)\" style=\"stroke:#000000; stroke-linecap:butt; stroke-linejoin:round; stroke-width:4; stroke-opacity:1; fill:none\" points=\"\n",
       "  435.764,1367.89 435.764,1445.72 458.824,1445.72 458.824,1367.89 435.764,1367.89 \n",
       "  \"/>\n",
       "<path clip-path=\"url(#clip092)\" d=\"\n",
       "M458.824 1416.14 L458.824 1445.72 L481.885 1445.72 L481.885 1416.14 L458.824 1416.14 L458.824 1416.14  Z\n",
       "  \" fill=\"#009af9\" fill-rule=\"evenodd\" fill-opacity=\"1\"/>\n",
       "<polyline clip-path=\"url(#clip092)\" style=\"stroke:#000000; stroke-linecap:butt; stroke-linejoin:round; stroke-width:4; stroke-opacity:1; fill:none\" points=\"\n",
       "  458.824,1416.14 458.824,1445.72 481.885,1445.72 481.885,1416.14 458.824,1416.14 \n",
       "  \"/>\n",
       "<path clip-path=\"url(#clip092)\" d=\"\n",
       "M481.885 1224.31 L481.885 1445.72 L504.945 1445.72 L504.945 1224.31 L481.885 1224.31 L481.885 1224.31  Z\n",
       "  \" fill=\"#009af9\" fill-rule=\"evenodd\" fill-opacity=\"1\"/>\n",
       "<polyline clip-path=\"url(#clip092)\" style=\"stroke:#000000; stroke-linecap:butt; stroke-linejoin:round; stroke-width:4; stroke-opacity:1; fill:none\" points=\"\n",
       "  481.885,1224.31 481.885,1445.72 504.945,1445.72 504.945,1224.31 481.885,1224.31 \n",
       "  \"/>\n",
       "<path clip-path=\"url(#clip092)\" d=\"\n",
       "M504.945 1383.4 L504.945 1445.72 L528.005 1445.72 L528.005 1383.4 L504.945 1383.4 L504.945 1383.4  Z\n",
       "  \" fill=\"#009af9\" fill-rule=\"evenodd\" fill-opacity=\"1\"/>\n",
       "<polyline clip-path=\"url(#clip092)\" style=\"stroke:#000000; stroke-linecap:butt; stroke-linejoin:round; stroke-width:4; stroke-opacity:1; fill:none\" points=\"\n",
       "  504.945,1383.4 504.945,1445.72 528.005,1445.72 528.005,1383.4 504.945,1383.4 \n",
       "  \"/>\n",
       "<path clip-path=\"url(#clip092)\" d=\"\n",
       "M528.005 1052.58 L528.005 1445.72 L551.066 1445.72 L551.066 1052.58 L528.005 1052.58 L528.005 1052.58  Z\n",
       "  \" fill=\"#009af9\" fill-rule=\"evenodd\" fill-opacity=\"1\"/>\n",
       "<polyline clip-path=\"url(#clip092)\" style=\"stroke:#000000; stroke-linecap:butt; stroke-linejoin:round; stroke-width:4; stroke-opacity:1; fill:none\" points=\"\n",
       "  528.005,1052.58 528.005,1445.72 551.066,1445.72 551.066,1052.58 528.005,1052.58 \n",
       "  \"/>\n",
       "<path clip-path=\"url(#clip092)\" d=\"\n",
       "M551.066 1352.96 L551.066 1445.72 L574.126 1445.72 L574.126 1352.96 L551.066 1352.96 L551.066 1352.96  Z\n",
       "  \" fill=\"#009af9\" fill-rule=\"evenodd\" fill-opacity=\"1\"/>\n",
       "<polyline clip-path=\"url(#clip092)\" style=\"stroke:#000000; stroke-linecap:butt; stroke-linejoin:round; stroke-width:4; stroke-opacity:1; fill:none\" points=\"\n",
       "  551.066,1352.96 551.066,1445.72 574.126,1445.72 574.126,1352.96 551.066,1352.96 \n",
       "  \"/>\n",
       "<path clip-path=\"url(#clip092)\" d=\"\n",
       "M574.126 894.062 L574.126 1445.72 L597.186 1445.72 L597.186 894.062 L574.126 894.062 L574.126 894.062  Z\n",
       "  \" fill=\"#009af9\" fill-rule=\"evenodd\" fill-opacity=\"1\"/>\n",
       "<polyline clip-path=\"url(#clip092)\" style=\"stroke:#000000; stroke-linecap:butt; stroke-linejoin:round; stroke-width:4; stroke-opacity:1; fill:none\" points=\"\n",
       "  574.126,894.062 574.126,1445.72 597.186,1445.72 597.186,894.062 574.126,894.062 \n",
       "  \"/>\n",
       "<path clip-path=\"url(#clip092)\" d=\"\n",
       "M597.186 1328.55 L597.186 1445.72 L620.247 1445.72 L620.247 1328.55 L597.186 1328.55 L597.186 1328.55  Z\n",
       "  \" fill=\"#009af9\" fill-rule=\"evenodd\" fill-opacity=\"1\"/>\n",
       "<polyline clip-path=\"url(#clip092)\" style=\"stroke:#000000; stroke-linecap:butt; stroke-linejoin:round; stroke-width:4; stroke-opacity:1; fill:none\" points=\"\n",
       "  597.186,1328.55 597.186,1445.72 620.247,1445.72 620.247,1328.55 597.186,1328.55 \n",
       "  \"/>\n",
       "<path clip-path=\"url(#clip092)\" d=\"\n",
       "M620.247 772.302 L620.247 1445.72 L643.307 1445.72 L643.307 772.302 L620.247 772.302 L620.247 772.302  Z\n",
       "  \" fill=\"#009af9\" fill-rule=\"evenodd\" fill-opacity=\"1\"/>\n",
       "<polyline clip-path=\"url(#clip092)\" style=\"stroke:#000000; stroke-linecap:butt; stroke-linejoin:round; stroke-width:4; stroke-opacity:1; fill:none\" points=\"\n",
       "  620.247,772.302 620.247,1445.72 643.307,1445.72 643.307,772.302 620.247,772.302 \n",
       "  \"/>\n",
       "<path clip-path=\"url(#clip092)\" d=\"\n",
       "M643.307 1322.52 L643.307 1445.72 L666.367 1445.72 L666.367 1322.52 L643.307 1322.52 L643.307 1322.52  Z\n",
       "  \" fill=\"#009af9\" fill-rule=\"evenodd\" fill-opacity=\"1\"/>\n",
       "<polyline clip-path=\"url(#clip092)\" style=\"stroke:#000000; stroke-linecap:butt; stroke-linejoin:round; stroke-width:4; stroke-opacity:1; fill:none\" points=\"\n",
       "  643.307,1322.52 643.307,1445.72 666.367,1445.72 666.367,1322.52 643.307,1322.52 \n",
       "  \"/>\n",
       "<path clip-path=\"url(#clip092)\" d=\"\n",
       "M666.367 640.491 L666.367 1445.72 L689.428 1445.72 L689.428 640.491 L666.367 640.491 L666.367 640.491  Z\n",
       "  \" fill=\"#009af9\" fill-rule=\"evenodd\" fill-opacity=\"1\"/>\n",
       "<polyline clip-path=\"url(#clip092)\" style=\"stroke:#000000; stroke-linecap:butt; stroke-linejoin:round; stroke-width:4; stroke-opacity:1; fill:none\" points=\"\n",
       "  666.367,640.491 666.367,1445.72 689.428,1445.72 689.428,640.491 666.367,640.491 \n",
       "  \"/>\n",
       "<path clip-path=\"url(#clip092)\" d=\"\n",
       "M689.428 1298.97 L689.428 1445.72 L712.488 1445.72 L712.488 1298.97 L689.428 1298.97 L689.428 1298.97  Z\n",
       "  \" fill=\"#009af9\" fill-rule=\"evenodd\" fill-opacity=\"1\"/>\n",
       "<polyline clip-path=\"url(#clip092)\" style=\"stroke:#000000; stroke-linecap:butt; stroke-linejoin:round; stroke-width:4; stroke-opacity:1; fill:none\" points=\"\n",
       "  689.428,1298.97 689.428,1445.72 712.488,1445.72 712.488,1298.97 689.428,1298.97 \n",
       "  \"/>\n",
       "<path clip-path=\"url(#clip092)\" d=\"\n",
       "M712.488 549.458 L712.488 1445.72 L735.548 1445.72 L735.548 549.458 L712.488 549.458 L712.488 549.458  Z\n",
       "  \" fill=\"#009af9\" fill-rule=\"evenodd\" fill-opacity=\"1\"/>\n",
       "<polyline clip-path=\"url(#clip092)\" style=\"stroke:#000000; stroke-linecap:butt; stroke-linejoin:round; stroke-width:4; stroke-opacity:1; fill:none\" points=\"\n",
       "  712.488,549.458 712.488,1445.72 735.548,1445.72 735.548,549.458 712.488,549.458 \n",
       "  \"/>\n",
       "<path clip-path=\"url(#clip092)\" d=\"\n",
       "M735.548 1301.27 L735.548 1445.72 L758.609 1445.72 L758.609 1301.27 L735.548 1301.27 L735.548 1301.27  Z\n",
       "  \" fill=\"#009af9\" fill-rule=\"evenodd\" fill-opacity=\"1\"/>\n",
       "<polyline clip-path=\"url(#clip092)\" style=\"stroke:#000000; stroke-linecap:butt; stroke-linejoin:round; stroke-width:4; stroke-opacity:1; fill:none\" points=\"\n",
       "  735.548,1301.27 735.548,1445.72 758.609,1445.72 758.609,1301.27 735.548,1301.27 \n",
       "  \"/>\n",
       "<path clip-path=\"url(#clip092)\" d=\"\n",
       "M758.609 461.584 L758.609 1445.72 L781.669 1445.72 L781.669 461.584 L758.609 461.584 L758.609 461.584  Z\n",
       "  \" fill=\"#009af9\" fill-rule=\"evenodd\" fill-opacity=\"1\"/>\n",
       "<polyline clip-path=\"url(#clip092)\" style=\"stroke:#000000; stroke-linecap:butt; stroke-linejoin:round; stroke-width:4; stroke-opacity:1; fill:none\" points=\"\n",
       "  758.609,461.584 758.609,1445.72 781.669,1445.72 781.669,461.584 758.609,461.584 \n",
       "  \"/>\n",
       "<path clip-path=\"url(#clip092)\" d=\"\n",
       "M781.669 1286.34 L781.669 1445.72 L804.729 1445.72 L804.729 1286.34 L781.669 1286.34 L781.669 1286.34  Z\n",
       "  \" fill=\"#009af9\" fill-rule=\"evenodd\" fill-opacity=\"1\"/>\n",
       "<polyline clip-path=\"url(#clip092)\" style=\"stroke:#000000; stroke-linecap:butt; stroke-linejoin:round; stroke-width:4; stroke-opacity:1; fill:none\" points=\"\n",
       "  781.669,1286.34 781.669,1445.72 804.729,1445.72 804.729,1286.34 781.669,1286.34 \n",
       "  \"/>\n",
       "<path clip-path=\"url(#clip092)\" d=\"\n",
       "M804.729 392.089 L804.729 1445.72 L827.79 1445.72 L827.79 392.089 L804.729 392.089 L804.729 392.089  Z\n",
       "  \" fill=\"#009af9\" fill-rule=\"evenodd\" fill-opacity=\"1\"/>\n",
       "<polyline clip-path=\"url(#clip092)\" style=\"stroke:#000000; stroke-linecap:butt; stroke-linejoin:round; stroke-width:4; stroke-opacity:1; fill:none\" points=\"\n",
       "  804.729,392.089 804.729,1445.72 827.79,1445.72 827.79,392.089 804.729,392.089 \n",
       "  \"/>\n",
       "<path clip-path=\"url(#clip092)\" d=\"\n",
       "M827.79 1278.58 L827.79 1445.72 L850.85 1445.72 L850.85 1278.58 L827.79 1278.58 L827.79 1278.58  Z\n",
       "  \" fill=\"#009af9\" fill-rule=\"evenodd\" fill-opacity=\"1\"/>\n",
       "<polyline clip-path=\"url(#clip092)\" style=\"stroke:#000000; stroke-linecap:butt; stroke-linejoin:round; stroke-width:4; stroke-opacity:1; fill:none\" points=\"\n",
       "  827.79,1278.58 827.79,1445.72 850.85,1445.72 850.85,1278.58 827.79,1278.58 \n",
       "  \"/>\n",
       "<path clip-path=\"url(#clip092)\" d=\"\n",
       "M850.85 348.439 L850.85 1445.72 L873.91 1445.72 L873.91 348.439 L850.85 348.439 L850.85 348.439  Z\n",
       "  \" fill=\"#009af9\" fill-rule=\"evenodd\" fill-opacity=\"1\"/>\n",
       "<polyline clip-path=\"url(#clip092)\" style=\"stroke:#000000; stroke-linecap:butt; stroke-linejoin:round; stroke-width:4; stroke-opacity:1; fill:none\" points=\"\n",
       "  850.85,348.439 850.85,1445.72 873.91,1445.72 873.91,348.439 850.85,348.439 \n",
       "  \"/>\n",
       "<path clip-path=\"url(#clip092)\" d=\"\n",
       "M873.91 1289.78 L873.91 1445.72 L896.971 1445.72 L896.971 1289.78 L873.91 1289.78 L873.91 1289.78  Z\n",
       "  \" fill=\"#009af9\" fill-rule=\"evenodd\" fill-opacity=\"1\"/>\n",
       "<polyline clip-path=\"url(#clip092)\" style=\"stroke:#000000; stroke-linecap:butt; stroke-linejoin:round; stroke-width:4; stroke-opacity:1; fill:none\" points=\"\n",
       "  873.91,1289.78 873.91,1445.72 896.971,1445.72 896.971,1289.78 873.91,1289.78 \n",
       "  \"/>\n",
       "<path clip-path=\"url(#clip092)\" d=\"\n",
       "M896.971 274.637 L896.971 1445.72 L920.031 1445.72 L920.031 274.637 L896.971 274.637 L896.971 274.637  Z\n",
       "  \" fill=\"#009af9\" fill-rule=\"evenodd\" fill-opacity=\"1\"/>\n",
       "<polyline clip-path=\"url(#clip092)\" style=\"stroke:#000000; stroke-linecap:butt; stroke-linejoin:round; stroke-width:4; stroke-opacity:1; fill:none\" points=\"\n",
       "  896.971,274.637 896.971,1445.72 920.031,1445.72 920.031,274.637 896.971,274.637 \n",
       "  \"/>\n",
       "<path clip-path=\"url(#clip092)\" d=\"\n",
       "M920.031 1271.12 L920.031 1445.72 L943.091 1445.72 L943.091 1271.12 L920.031 1271.12 L920.031 1271.12  Z\n",
       "  \" fill=\"#009af9\" fill-rule=\"evenodd\" fill-opacity=\"1\"/>\n",
       "<polyline clip-path=\"url(#clip092)\" style=\"stroke:#000000; stroke-linecap:butt; stroke-linejoin:round; stroke-width:4; stroke-opacity:1; fill:none\" points=\"\n",
       "  920.031,1271.12 920.031,1445.72 943.091,1445.72 943.091,1271.12 920.031,1271.12 \n",
       "  \"/>\n",
       "<path clip-path=\"url(#clip092)\" d=\"\n",
       "M943.091 208.875 L943.091 1445.72 L966.152 1445.72 L966.152 208.875 L943.091 208.875 L943.091 208.875  Z\n",
       "  \" fill=\"#009af9\" fill-rule=\"evenodd\" fill-opacity=\"1\"/>\n",
       "<polyline clip-path=\"url(#clip092)\" style=\"stroke:#000000; stroke-linecap:butt; stroke-linejoin:round; stroke-width:4; stroke-opacity:1; fill:none\" points=\"\n",
       "  943.091,208.875 943.091,1445.72 966.152,1445.72 966.152,208.875 943.091,208.875 \n",
       "  \"/>\n",
       "<path clip-path=\"url(#clip092)\" d=\"\n",
       "M966.152 1248.14 L966.152 1445.72 L989.212 1445.72 L989.212 1248.14 L966.152 1248.14 L966.152 1248.14  Z\n",
       "  \" fill=\"#009af9\" fill-rule=\"evenodd\" fill-opacity=\"1\"/>\n",
       "<polyline clip-path=\"url(#clip092)\" style=\"stroke:#000000; stroke-linecap:butt; stroke-linejoin:round; stroke-width:4; stroke-opacity:1; fill:none\" points=\"\n",
       "  966.152,1248.14 966.152,1445.72 989.212,1445.72 989.212,1248.14 966.152,1248.14 \n",
       "  \"/>\n",
       "<path clip-path=\"url(#clip092)\" d=\"\n",
       "M989.212 126.744 L989.212 1445.72 L1012.27 1445.72 L1012.27 126.744 L989.212 126.744 L989.212 126.744  Z\n",
       "  \" fill=\"#009af9\" fill-rule=\"evenodd\" fill-opacity=\"1\"/>\n",
       "<polyline clip-path=\"url(#clip092)\" style=\"stroke:#000000; stroke-linecap:butt; stroke-linejoin:round; stroke-width:4; stroke-opacity:1; fill:none\" points=\"\n",
       "  989.212,126.744 989.212,1445.72 1012.27,1445.72 1012.27,126.744 989.212,126.744 \n",
       "  \"/>\n",
       "<path clip-path=\"url(#clip092)\" d=\"\n",
       "M1012.27 1264.51 L1012.27 1445.72 L1035.33 1445.72 L1035.33 1264.51 L1012.27 1264.51 L1012.27 1264.51  Z\n",
       "  \" fill=\"#009af9\" fill-rule=\"evenodd\" fill-opacity=\"1\"/>\n",
       "<polyline clip-path=\"url(#clip092)\" style=\"stroke:#000000; stroke-linecap:butt; stroke-linejoin:round; stroke-width:4; stroke-opacity:1; fill:none\" points=\"\n",
       "  1012.27,1264.51 1012.27,1445.72 1035.33,1445.72 1035.33,1264.51 1012.27,1264.51 \n",
       "  \"/>\n",
       "<path clip-path=\"url(#clip092)\" d=\"\n",
       "M1035.33 113.247 L1035.33 1445.72 L1058.39 1445.72 L1058.39 113.247 L1035.33 113.247 L1035.33 113.247  Z\n",
       "  \" fill=\"#009af9\" fill-rule=\"evenodd\" fill-opacity=\"1\"/>\n",
       "<polyline clip-path=\"url(#clip092)\" style=\"stroke:#000000; stroke-linecap:butt; stroke-linejoin:round; stroke-width:4; stroke-opacity:1; fill:none\" points=\"\n",
       "  1035.33,113.247 1035.33,1445.72 1058.39,1445.72 1058.39,113.247 1035.33,113.247 \n",
       "  \"/>\n",
       "<path clip-path=\"url(#clip092)\" d=\"\n",
       "M1058.39 1247.28 L1058.39 1445.72 L1081.45 1445.72 L1081.45 1247.28 L1058.39 1247.28 L1058.39 1247.28  Z\n",
       "  \" fill=\"#009af9\" fill-rule=\"evenodd\" fill-opacity=\"1\"/>\n",
       "<polyline clip-path=\"url(#clip092)\" style=\"stroke:#000000; stroke-linecap:butt; stroke-linejoin:round; stroke-width:4; stroke-opacity:1; fill:none\" points=\"\n",
       "  1058.39,1247.28 1058.39,1445.72 1081.45,1445.72 1081.45,1247.28 1058.39,1247.28 \n",
       "  \"/>\n",
       "<path clip-path=\"url(#clip092)\" d=\"\n",
       "M1081.45 99.4631 L1081.45 1445.72 L1104.51 1445.72 L1104.51 99.4631 L1081.45 99.4631 L1081.45 99.4631  Z\n",
       "  \" fill=\"#009af9\" fill-rule=\"evenodd\" fill-opacity=\"1\"/>\n",
       "<polyline clip-path=\"url(#clip092)\" style=\"stroke:#000000; stroke-linecap:butt; stroke-linejoin:round; stroke-width:4; stroke-opacity:1; fill:none\" points=\"\n",
       "  1081.45,99.4631 1081.45,1445.72 1104.51,1445.72 1104.51,99.4631 1081.45,99.4631 \n",
       "  \"/>\n",
       "<path clip-path=\"url(#clip092)\" d=\"\n",
       "M1104.51 1244.12 L1104.51 1445.72 L1127.57 1445.72 L1127.57 1244.12 L1104.51 1244.12 L1104.51 1244.12  Z\n",
       "  \" fill=\"#009af9\" fill-rule=\"evenodd\" fill-opacity=\"1\"/>\n",
       "<polyline clip-path=\"url(#clip092)\" style=\"stroke:#000000; stroke-linecap:butt; stroke-linejoin:round; stroke-width:4; stroke-opacity:1; fill:none\" points=\"\n",
       "  1104.51,1244.12 1104.51,1445.72 1127.57,1445.72 1127.57,1244.12 1104.51,1244.12 \n",
       "  \"/>\n",
       "<path clip-path=\"url(#clip092)\" d=\"\n",
       "M1127.57 87.9763 L1127.57 1445.72 L1150.63 1445.72 L1150.63 87.9763 L1127.57 87.9763 L1127.57 87.9763  Z\n",
       "  \" fill=\"#009af9\" fill-rule=\"evenodd\" fill-opacity=\"1\"/>\n",
       "<polyline clip-path=\"url(#clip092)\" style=\"stroke:#000000; stroke-linecap:butt; stroke-linejoin:round; stroke-width:4; stroke-opacity:1; fill:none\" points=\"\n",
       "  1127.57,87.9763 1127.57,1445.72 1150.63,1445.72 1150.63,87.9763 1127.57,87.9763 \n",
       "  \"/>\n",
       "<path clip-path=\"url(#clip092)\" d=\"\n",
       "M1150.63 1250.15 L1150.63 1445.72 L1173.69 1445.72 L1173.69 1250.15 L1150.63 1250.15 L1150.63 1250.15  Z\n",
       "  \" fill=\"#009af9\" fill-rule=\"evenodd\" fill-opacity=\"1\"/>\n",
       "<polyline clip-path=\"url(#clip092)\" style=\"stroke:#000000; stroke-linecap:butt; stroke-linejoin:round; stroke-width:4; stroke-opacity:1; fill:none\" points=\"\n",
       "  1150.63,1250.15 1150.63,1445.72 1173.69,1445.72 1173.69,1250.15 1150.63,1250.15 \n",
       "  \"/>\n",
       "<path clip-path=\"url(#clip092)\" d=\"\n",
       "M1173.69 97.7401 L1173.69 1445.72 L1196.76 1445.72 L1196.76 97.7401 L1173.69 97.7401 L1173.69 97.7401  Z\n",
       "  \" fill=\"#009af9\" fill-rule=\"evenodd\" fill-opacity=\"1\"/>\n",
       "<polyline clip-path=\"url(#clip092)\" style=\"stroke:#000000; stroke-linecap:butt; stroke-linejoin:round; stroke-width:4; stroke-opacity:1; fill:none\" points=\"\n",
       "  1173.69,97.7401 1173.69,1445.72 1196.76,1445.72 1196.76,97.7401 1173.69,97.7401 \n",
       "  \"/>\n",
       "<path clip-path=\"url(#clip092)\" d=\"\n",
       "M1196.76 1230.34 L1196.76 1445.72 L1219.82 1445.72 L1219.82 1230.34 L1196.76 1230.34 L1196.76 1230.34  Z\n",
       "  \" fill=\"#009af9\" fill-rule=\"evenodd\" fill-opacity=\"1\"/>\n",
       "<polyline clip-path=\"url(#clip092)\" style=\"stroke:#000000; stroke-linecap:butt; stroke-linejoin:round; stroke-width:4; stroke-opacity:1; fill:none\" points=\"\n",
       "  1196.76,1230.34 1196.76,1445.72 1219.82,1445.72 1219.82,1230.34 1196.76,1230.34 \n",
       "  \"/>\n",
       "<path clip-path=\"url(#clip092)\" d=\"\n",
       "M1219.82 163.502 L1219.82 1445.72 L1242.88 1445.72 L1242.88 163.502 L1219.82 163.502 L1219.82 163.502  Z\n",
       "  \" fill=\"#009af9\" fill-rule=\"evenodd\" fill-opacity=\"1\"/>\n",
       "<polyline clip-path=\"url(#clip092)\" style=\"stroke:#000000; stroke-linecap:butt; stroke-linejoin:round; stroke-width:4; stroke-opacity:1; fill:none\" points=\"\n",
       "  1219.82,163.502 1219.82,1445.72 1242.88,1445.72 1242.88,163.502 1219.82,163.502 \n",
       "  \"/>\n",
       "<path clip-path=\"url(#clip092)\" d=\"\n",
       "M1242.88 1239.81 L1242.88 1445.72 L1265.94 1445.72 L1265.94 1239.81 L1242.88 1239.81 L1242.88 1239.81  Z\n",
       "  \" fill=\"#009af9\" fill-rule=\"evenodd\" fill-opacity=\"1\"/>\n",
       "<polyline clip-path=\"url(#clip092)\" style=\"stroke:#000000; stroke-linecap:butt; stroke-linejoin:round; stroke-width:4; stroke-opacity:1; fill:none\" points=\"\n",
       "  1242.88,1239.81 1242.88,1445.72 1265.94,1445.72 1265.94,1239.81 1242.88,1239.81 \n",
       "  \"/>\n",
       "<path clip-path=\"url(#clip092)\" d=\"\n",
       "M1265.94 205.716 L1265.94 1445.72 L1289 1445.72 L1289 205.716 L1265.94 205.716 L1265.94 205.716  Z\n",
       "  \" fill=\"#009af9\" fill-rule=\"evenodd\" fill-opacity=\"1\"/>\n",
       "<polyline clip-path=\"url(#clip092)\" style=\"stroke:#000000; stroke-linecap:butt; stroke-linejoin:round; stroke-width:4; stroke-opacity:1; fill:none\" points=\"\n",
       "  1265.94,205.716 1265.94,1445.72 1289,1445.72 1289,205.716 1265.94,205.716 \n",
       "  \"/>\n",
       "<path clip-path=\"url(#clip092)\" d=\"\n",
       "M1289 1240.1 L1289 1445.72 L1312.06 1445.72 L1312.06 1240.1 L1289 1240.1 L1289 1240.1  Z\n",
       "  \" fill=\"#009af9\" fill-rule=\"evenodd\" fill-opacity=\"1\"/>\n",
       "<polyline clip-path=\"url(#clip092)\" style=\"stroke:#000000; stroke-linecap:butt; stroke-linejoin:round; stroke-width:4; stroke-opacity:1; fill:none\" points=\"\n",
       "  1289,1240.1 1289,1445.72 1312.06,1445.72 1312.06,1240.1 1289,1240.1 \n",
       "  \"/>\n",
       "<path clip-path=\"url(#clip092)\" d=\"\n",
       "M1312.06 292.154 L1312.06 1445.72 L1335.12 1445.72 L1335.12 292.154 L1312.06 292.154 L1312.06 292.154  Z\n",
       "  \" fill=\"#009af9\" fill-rule=\"evenodd\" fill-opacity=\"1\"/>\n",
       "<polyline clip-path=\"url(#clip092)\" style=\"stroke:#000000; stroke-linecap:butt; stroke-linejoin:round; stroke-width:4; stroke-opacity:1; fill:none\" points=\"\n",
       "  1312.06,292.154 1312.06,1445.72 1335.12,1445.72 1335.12,292.154 1312.06,292.154 \n",
       "  \"/>\n",
       "<path clip-path=\"url(#clip092)\" d=\"\n",
       "M1335.12 1246.13 L1335.12 1445.72 L1358.18 1445.72 L1358.18 1246.13 L1335.12 1246.13 L1335.12 1246.13  Z\n",
       "  \" fill=\"#009af9\" fill-rule=\"evenodd\" fill-opacity=\"1\"/>\n",
       "<polyline clip-path=\"url(#clip092)\" style=\"stroke:#000000; stroke-linecap:butt; stroke-linejoin:round; stroke-width:4; stroke-opacity:1; fill:none\" points=\"\n",
       "  1335.12,1246.13 1335.12,1445.72 1358.18,1445.72 1358.18,1246.13 1335.12,1246.13 \n",
       "  \"/>\n",
       "<path clip-path=\"url(#clip092)\" d=\"\n",
       "M1358.18 361.075 L1358.18 1445.72 L1381.24 1445.72 L1381.24 361.075 L1358.18 361.075 L1358.18 361.075  Z\n",
       "  \" fill=\"#009af9\" fill-rule=\"evenodd\" fill-opacity=\"1\"/>\n",
       "<polyline clip-path=\"url(#clip092)\" style=\"stroke:#000000; stroke-linecap:butt; stroke-linejoin:round; stroke-width:4; stroke-opacity:1; fill:none\" points=\"\n",
       "  1358.18,361.075 1358.18,1445.72 1381.24,1445.72 1381.24,361.075 1358.18,361.075 \n",
       "  \"/>\n",
       "<path clip-path=\"url(#clip092)\" d=\"\n",
       "M1381.24 1258.48 L1381.24 1445.72 L1404.3 1445.72 L1404.3 1258.48 L1381.24 1258.48 L1381.24 1258.48  Z\n",
       "  \" fill=\"#009af9\" fill-rule=\"evenodd\" fill-opacity=\"1\"/>\n",
       "<polyline clip-path=\"url(#clip092)\" style=\"stroke:#000000; stroke-linecap:butt; stroke-linejoin:round; stroke-width:4; stroke-opacity:1; fill:none\" points=\"\n",
       "  1381.24,1258.48 1381.24,1445.72 1404.3,1445.72 1404.3,1258.48 1381.24,1258.48 \n",
       "  \"/>\n",
       "<path clip-path=\"url(#clip092)\" d=\"\n",
       "M1404.3 448.662 L1404.3 1445.72 L1427.36 1445.72 L1427.36 448.662 L1404.3 448.662 L1404.3 448.662  Z\n",
       "  \" fill=\"#009af9\" fill-rule=\"evenodd\" fill-opacity=\"1\"/>\n",
       "<polyline clip-path=\"url(#clip092)\" style=\"stroke:#000000; stroke-linecap:butt; stroke-linejoin:round; stroke-width:4; stroke-opacity:1; fill:none\" points=\"\n",
       "  1404.3,448.662 1404.3,1445.72 1427.36,1445.72 1427.36,448.662 1404.3,448.662 \n",
       "  \"/>\n",
       "<path clip-path=\"url(#clip092)\" d=\"\n",
       "M1427.36 1260.49 L1427.36 1445.72 L1450.42 1445.72 L1450.42 1260.49 L1427.36 1260.49 L1427.36 1260.49  Z\n",
       "  \" fill=\"#009af9\" fill-rule=\"evenodd\" fill-opacity=\"1\"/>\n",
       "<polyline clip-path=\"url(#clip092)\" style=\"stroke:#000000; stroke-linecap:butt; stroke-linejoin:round; stroke-width:4; stroke-opacity:1; fill:none\" points=\"\n",
       "  1427.36,1260.49 1427.36,1445.72 1450.42,1445.72 1450.42,1260.49 1427.36,1260.49 \n",
       "  \"/>\n",
       "<path clip-path=\"url(#clip092)\" d=\"\n",
       "M1450.42 488.865 L1450.42 1445.72 L1473.48 1445.72 L1473.48 488.865 L1450.42 488.865 L1450.42 488.865  Z\n",
       "  \" fill=\"#009af9\" fill-rule=\"evenodd\" fill-opacity=\"1\"/>\n",
       "<polyline clip-path=\"url(#clip092)\" style=\"stroke:#000000; stroke-linecap:butt; stroke-linejoin:round; stroke-width:4; stroke-opacity:1; fill:none\" points=\"\n",
       "  1450.42,488.865 1450.42,1445.72 1473.48,1445.72 1473.48,488.865 1450.42,488.865 \n",
       "  \"/>\n",
       "<path clip-path=\"url(#clip092)\" d=\"\n",
       "M1473.48 1273.41 L1473.48 1445.72 L1496.54 1445.72 L1496.54 1273.41 L1473.48 1273.41 L1473.48 1273.41  Z\n",
       "  \" fill=\"#009af9\" fill-rule=\"evenodd\" fill-opacity=\"1\"/>\n",
       "<polyline clip-path=\"url(#clip092)\" style=\"stroke:#000000; stroke-linecap:butt; stroke-linejoin:round; stroke-width:4; stroke-opacity:1; fill:none\" points=\"\n",
       "  1473.48,1273.41 1473.48,1445.72 1496.54,1445.72 1496.54,1273.41 1473.48,1273.41 \n",
       "  \"/>\n",
       "<path clip-path=\"url(#clip092)\" d=\"\n",
       "M1496.54 558.073 L1496.54 1445.72 L1519.6 1445.72 L1519.6 558.073 L1496.54 558.073 L1496.54 558.073  Z\n",
       "  \" fill=\"#009af9\" fill-rule=\"evenodd\" fill-opacity=\"1\"/>\n",
       "<polyline clip-path=\"url(#clip092)\" style=\"stroke:#000000; stroke-linecap:butt; stroke-linejoin:round; stroke-width:4; stroke-opacity:1; fill:none\" points=\"\n",
       "  1496.54,558.073 1496.54,1445.72 1519.6,1445.72 1519.6,558.073 1496.54,558.073 \n",
       "  \"/>\n",
       "<path clip-path=\"url(#clip092)\" d=\"\n",
       "M1519.6 1278.3 L1519.6 1445.72 L1542.66 1445.72 L1542.66 1278.3 L1519.6 1278.3 L1519.6 1278.3  Z\n",
       "  \" fill=\"#009af9\" fill-rule=\"evenodd\" fill-opacity=\"1\"/>\n",
       "<polyline clip-path=\"url(#clip092)\" style=\"stroke:#000000; stroke-linecap:butt; stroke-linejoin:round; stroke-width:4; stroke-opacity:1; fill:none\" points=\"\n",
       "  1519.6,1278.3 1519.6,1445.72 1542.66,1445.72 1542.66,1278.3 1519.6,1278.3 \n",
       "  \"/>\n",
       "<path clip-path=\"url(#clip092)\" d=\"\n",
       "M1542.66 573.006 L1542.66 1445.72 L1565.72 1445.72 L1565.72 573.006 L1542.66 573.006 L1542.66 573.006  Z\n",
       "  \" fill=\"#009af9\" fill-rule=\"evenodd\" fill-opacity=\"1\"/>\n",
       "<polyline clip-path=\"url(#clip092)\" style=\"stroke:#000000; stroke-linecap:butt; stroke-linejoin:round; stroke-width:4; stroke-opacity:1; fill:none\" points=\"\n",
       "  1542.66,573.006 1542.66,1445.72 1565.72,1445.72 1565.72,573.006 1542.66,573.006 \n",
       "  \"/>\n",
       "<path clip-path=\"url(#clip092)\" d=\"\n",
       "M1565.72 1289.78 L1565.72 1445.72 L1588.78 1445.72 L1588.78 1289.78 L1565.72 1289.78 L1565.72 1289.78  Z\n",
       "  \" fill=\"#009af9\" fill-rule=\"evenodd\" fill-opacity=\"1\"/>\n",
       "<polyline clip-path=\"url(#clip092)\" style=\"stroke:#000000; stroke-linecap:butt; stroke-linejoin:round; stroke-width:4; stroke-opacity:1; fill:none\" points=\"\n",
       "  1565.72,1289.78 1565.72,1445.72 1588.78,1445.72 1588.78,1289.78 1565.72,1289.78 \n",
       "  \"/>\n",
       "<path clip-path=\"url(#clip092)\" d=\"\n",
       "M1588.78 636.758 L1588.78 1445.72 L1611.84 1445.72 L1611.84 636.758 L1588.78 636.758 L1588.78 636.758  Z\n",
       "  \" fill=\"#009af9\" fill-rule=\"evenodd\" fill-opacity=\"1\"/>\n",
       "<polyline clip-path=\"url(#clip092)\" style=\"stroke:#000000; stroke-linecap:butt; stroke-linejoin:round; stroke-width:4; stroke-opacity:1; fill:none\" points=\"\n",
       "  1588.78,636.758 1588.78,1445.72 1611.84,1445.72 1611.84,636.758 1588.78,636.758 \n",
       "  \"/>\n",
       "<path clip-path=\"url(#clip092)\" d=\"\n",
       "M1611.84 1310.46 L1611.84 1445.72 L1634.9 1445.72 L1634.9 1310.46 L1611.84 1310.46 L1611.84 1310.46  Z\n",
       "  \" fill=\"#009af9\" fill-rule=\"evenodd\" fill-opacity=\"1\"/>\n",
       "<polyline clip-path=\"url(#clip092)\" style=\"stroke:#000000; stroke-linecap:butt; stroke-linejoin:round; stroke-width:4; stroke-opacity:1; fill:none\" points=\"\n",
       "  1611.84,1310.46 1611.84,1445.72 1634.9,1445.72 1634.9,1310.46 1611.84,1310.46 \n",
       "  \"/>\n",
       "<path clip-path=\"url(#clip092)\" d=\"\n",
       "M1634.9 729.227 L1634.9 1445.72 L1657.96 1445.72 L1657.96 729.227 L1634.9 729.227 L1634.9 729.227  Z\n",
       "  \" fill=\"#009af9\" fill-rule=\"evenodd\" fill-opacity=\"1\"/>\n",
       "<polyline clip-path=\"url(#clip092)\" style=\"stroke:#000000; stroke-linecap:butt; stroke-linejoin:round; stroke-width:4; stroke-opacity:1; fill:none\" points=\"\n",
       "  1634.9,729.227 1634.9,1445.72 1657.96,1445.72 1657.96,729.227 1634.9,729.227 \n",
       "  \"/>\n",
       "<path clip-path=\"url(#clip092)\" d=\"\n",
       "M1657.96 1323.38 L1657.96 1445.72 L1681.02 1445.72 L1681.02 1323.38 L1657.96 1323.38 L1657.96 1323.38  Z\n",
       "  \" fill=\"#009af9\" fill-rule=\"evenodd\" fill-opacity=\"1\"/>\n",
       "<polyline clip-path=\"url(#clip092)\" style=\"stroke:#000000; stroke-linecap:butt; stroke-linejoin:round; stroke-width:4; stroke-opacity:1; fill:none\" points=\"\n",
       "  1657.96,1323.38 1657.96,1445.72 1681.02,1445.72 1681.02,1323.38 1657.96,1323.38 \n",
       "  \"/>\n",
       "<path clip-path=\"url(#clip092)\" d=\"\n",
       "M1681.02 780.63 L1681.02 1445.72 L1704.08 1445.72 L1704.08 780.63 L1681.02 780.63 L1681.02 780.63  Z\n",
       "  \" fill=\"#009af9\" fill-rule=\"evenodd\" fill-opacity=\"1\"/>\n",
       "<polyline clip-path=\"url(#clip092)\" style=\"stroke:#000000; stroke-linecap:butt; stroke-linejoin:round; stroke-width:4; stroke-opacity:1; fill:none\" points=\"\n",
       "  1681.02,780.63 1681.02,1445.72 1704.08,1445.72 1704.08,780.63 1681.02,780.63 \n",
       "  \"/>\n",
       "<path clip-path=\"url(#clip092)\" d=\"\n",
       "M1704.08 1324.53 L1704.08 1445.72 L1727.14 1445.72 L1727.14 1324.53 L1704.08 1324.53 L1704.08 1324.53  Z\n",
       "  \" fill=\"#009af9\" fill-rule=\"evenodd\" fill-opacity=\"1\"/>\n",
       "<polyline clip-path=\"url(#clip092)\" style=\"stroke:#000000; stroke-linecap:butt; stroke-linejoin:round; stroke-width:4; stroke-opacity:1; fill:none\" points=\"\n",
       "  1704.08,1324.53 1704.08,1445.72 1727.14,1445.72 1727.14,1324.53 1704.08,1324.53 \n",
       "  \"/>\n",
       "<path clip-path=\"url(#clip092)\" d=\"\n",
       "M1727.14 836.341 L1727.14 1445.72 L1750.2 1445.72 L1750.2 836.341 L1727.14 836.341 L1727.14 836.341  Z\n",
       "  \" fill=\"#009af9\" fill-rule=\"evenodd\" fill-opacity=\"1\"/>\n",
       "<polyline clip-path=\"url(#clip092)\" style=\"stroke:#000000; stroke-linecap:butt; stroke-linejoin:round; stroke-width:4; stroke-opacity:1; fill:none\" points=\"\n",
       "  1727.14,836.341 1727.14,1445.72 1750.2,1445.72 1750.2,836.341 1727.14,836.341 \n",
       "  \"/>\n",
       "<path clip-path=\"url(#clip092)\" d=\"\n",
       "M1750.2 1344.92 L1750.2 1445.72 L1773.26 1445.72 L1773.26 1344.92 L1750.2 1344.92 L1750.2 1344.92  Z\n",
       "  \" fill=\"#009af9\" fill-rule=\"evenodd\" fill-opacity=\"1\"/>\n",
       "<polyline clip-path=\"url(#clip092)\" style=\"stroke:#000000; stroke-linecap:butt; stroke-linejoin:round; stroke-width:4; stroke-opacity:1; fill:none\" points=\"\n",
       "  1750.2,1344.92 1750.2,1445.72 1773.26,1445.72 1773.26,1344.92 1750.2,1344.92 \n",
       "  \"/>\n",
       "<path clip-path=\"url(#clip092)\" d=\"\n",
       "M1773.26 912.154 L1773.26 1445.72 L1796.32 1445.72 L1796.32 912.154 L1773.26 912.154 L1773.26 912.154  Z\n",
       "  \" fill=\"#009af9\" fill-rule=\"evenodd\" fill-opacity=\"1\"/>\n",
       "<polyline clip-path=\"url(#clip092)\" style=\"stroke:#000000; stroke-linecap:butt; stroke-linejoin:round; stroke-width:4; stroke-opacity:1; fill:none\" points=\"\n",
       "  1773.26,912.154 1773.26,1445.72 1796.32,1445.72 1796.32,912.154 1773.26,912.154 \n",
       "  \"/>\n",
       "<path clip-path=\"url(#clip092)\" d=\"\n",
       "M1796.32 1353.53 L1796.32 1445.72 L1819.38 1445.72 L1819.38 1353.53 L1796.32 1353.53 L1796.32 1353.53  Z\n",
       "  \" fill=\"#009af9\" fill-rule=\"evenodd\" fill-opacity=\"1\"/>\n",
       "<polyline clip-path=\"url(#clip092)\" style=\"stroke:#000000; stroke-linecap:butt; stroke-linejoin:round; stroke-width:4; stroke-opacity:1; fill:none\" points=\"\n",
       "  1796.32,1353.53 1796.32,1445.72 1819.38,1445.72 1819.38,1353.53 1796.32,1353.53 \n",
       "  \"/>\n",
       "<path clip-path=\"url(#clip092)\" d=\"\n",
       "M1819.38 964.419 L1819.38 1445.72 L1842.44 1445.72 L1842.44 964.419 L1819.38 964.419 L1819.38 964.419  Z\n",
       "  \" fill=\"#009af9\" fill-rule=\"evenodd\" fill-opacity=\"1\"/>\n",
       "<polyline clip-path=\"url(#clip092)\" style=\"stroke:#000000; stroke-linecap:butt; stroke-linejoin:round; stroke-width:4; stroke-opacity:1; fill:none\" points=\"\n",
       "  1819.38,964.419 1819.38,1445.72 1842.44,1445.72 1842.44,964.419 1819.38,964.419 \n",
       "  \"/>\n",
       "<path clip-path=\"url(#clip092)\" d=\"\n",
       "M1842.44 1364.73 L1842.44 1445.72 L1865.5 1445.72 L1865.5 1364.73 L1842.44 1364.73 L1842.44 1364.73  Z\n",
       "  \" fill=\"#009af9\" fill-rule=\"evenodd\" fill-opacity=\"1\"/>\n",
       "<polyline clip-path=\"url(#clip092)\" style=\"stroke:#000000; stroke-linecap:butt; stroke-linejoin:round; stroke-width:4; stroke-opacity:1; fill:none\" points=\"\n",
       "  1842.44,1364.73 1842.44,1445.72 1865.5,1445.72 1865.5,1364.73 1842.44,1364.73 \n",
       "  \"/>\n",
       "<path clip-path=\"url(#clip092)\" d=\"\n",
       "M1865.5 1024.72 L1865.5 1445.72 L1888.57 1445.72 L1888.57 1024.72 L1865.5 1024.72 L1865.5 1024.72  Z\n",
       "  \" fill=\"#009af9\" fill-rule=\"evenodd\" fill-opacity=\"1\"/>\n",
       "<polyline clip-path=\"url(#clip092)\" style=\"stroke:#000000; stroke-linecap:butt; stroke-linejoin:round; stroke-width:4; stroke-opacity:1; fill:none\" points=\"\n",
       "  1865.5,1024.72 1865.5,1445.72 1888.57,1445.72 1888.57,1024.72 1865.5,1024.72 \n",
       "  \"/>\n",
       "<path clip-path=\"url(#clip092)\" d=\"\n",
       "M1888.57 1387.13 L1888.57 1445.72 L1911.63 1445.72 L1911.63 1387.13 L1888.57 1387.13 L1888.57 1387.13  Z\n",
       "  \" fill=\"#009af9\" fill-rule=\"evenodd\" fill-opacity=\"1\"/>\n",
       "<polyline clip-path=\"url(#clip092)\" style=\"stroke:#000000; stroke-linecap:butt; stroke-linejoin:round; stroke-width:4; stroke-opacity:1; fill:none\" points=\"\n",
       "  1888.57,1387.13 1888.57,1445.72 1911.63,1445.72 1911.63,1387.13 1888.57,1387.13 \n",
       "  \"/>\n",
       "<path clip-path=\"url(#clip092)\" d=\"\n",
       "M1911.63 1096.52 L1911.63 1445.72 L1934.69 1445.72 L1934.69 1096.52 L1911.63 1096.52 L1911.63 1096.52  Z\n",
       "  \" fill=\"#009af9\" fill-rule=\"evenodd\" fill-opacity=\"1\"/>\n",
       "<polyline clip-path=\"url(#clip092)\" style=\"stroke:#000000; stroke-linecap:butt; stroke-linejoin:round; stroke-width:4; stroke-opacity:1; fill:none\" points=\"\n",
       "  1911.63,1096.52 1911.63,1445.72 1934.69,1445.72 1934.69,1096.52 1911.63,1096.52 \n",
       "  \"/>\n",
       "<path clip-path=\"url(#clip092)\" d=\"\n",
       "M1934.69 1392.88 L1934.69 1445.72 L1957.75 1445.72 L1957.75 1392.88 L1934.69 1392.88 L1934.69 1392.88  Z\n",
       "  \" fill=\"#009af9\" fill-rule=\"evenodd\" fill-opacity=\"1\"/>\n",
       "<polyline clip-path=\"url(#clip092)\" style=\"stroke:#000000; stroke-linecap:butt; stroke-linejoin:round; stroke-width:4; stroke-opacity:1; fill:none\" points=\"\n",
       "  1934.69,1392.88 1934.69,1445.72 1957.75,1445.72 1957.75,1392.88 1934.69,1392.88 \n",
       "  \"/>\n",
       "<path clip-path=\"url(#clip092)\" d=\"\n",
       "M1957.75 1179.22 L1957.75 1445.72 L1980.81 1445.72 L1980.81 1179.22 L1957.75 1179.22 L1957.75 1179.22  Z\n",
       "  \" fill=\"#009af9\" fill-rule=\"evenodd\" fill-opacity=\"1\"/>\n",
       "<polyline clip-path=\"url(#clip092)\" style=\"stroke:#000000; stroke-linecap:butt; stroke-linejoin:round; stroke-width:4; stroke-opacity:1; fill:none\" points=\"\n",
       "  1957.75,1179.22 1957.75,1445.72 1980.81,1445.72 1980.81,1179.22 1957.75,1179.22 \n",
       "  \"/>\n",
       "<path clip-path=\"url(#clip092)\" d=\"\n",
       "M1980.81 1405.22 L1980.81 1445.72 L2003.87 1445.72 L2003.87 1405.22 L1980.81 1405.22 L1980.81 1405.22  Z\n",
       "  \" fill=\"#009af9\" fill-rule=\"evenodd\" fill-opacity=\"1\"/>\n",
       "<polyline clip-path=\"url(#clip092)\" style=\"stroke:#000000; stroke-linecap:butt; stroke-linejoin:round; stroke-width:4; stroke-opacity:1; fill:none\" points=\"\n",
       "  1980.81,1405.22 1980.81,1445.72 2003.87,1445.72 2003.87,1405.22 1980.81,1405.22 \n",
       "  \"/>\n",
       "<path clip-path=\"url(#clip092)\" d=\"\n",
       "M2003.87 1257.62 L2003.87 1445.72 L2026.93 1445.72 L2026.93 1257.62 L2003.87 1257.62 L2003.87 1257.62  Z\n",
       "  \" fill=\"#009af9\" fill-rule=\"evenodd\" fill-opacity=\"1\"/>\n",
       "<polyline clip-path=\"url(#clip092)\" style=\"stroke:#000000; stroke-linecap:butt; stroke-linejoin:round; stroke-width:4; stroke-opacity:1; fill:none\" points=\"\n",
       "  2003.87,1257.62 2003.87,1445.72 2026.93,1445.72 2026.93,1257.62 2003.87,1257.62 \n",
       "  \"/>\n",
       "<path clip-path=\"url(#clip092)\" d=\"\n",
       "M2026.93 1418.72 L2026.93 1445.72 L2049.99 1445.72 L2049.99 1418.72 L2026.93 1418.72 L2026.93 1418.72  Z\n",
       "  \" fill=\"#009af9\" fill-rule=\"evenodd\" fill-opacity=\"1\"/>\n",
       "<polyline clip-path=\"url(#clip092)\" style=\"stroke:#000000; stroke-linecap:butt; stroke-linejoin:round; stroke-width:4; stroke-opacity:1; fill:none\" points=\"\n",
       "  2026.93,1418.72 2026.93,1445.72 2049.99,1445.72 2049.99,1418.72 2026.93,1418.72 \n",
       "  \"/>\n",
       "<path clip-path=\"url(#clip092)\" d=\"\n",
       "M2049.99 1325.97 L2049.99 1445.72 L2073.05 1445.72 L2073.05 1325.97 L2049.99 1325.97 L2049.99 1325.97  Z\n",
       "  \" fill=\"#009af9\" fill-rule=\"evenodd\" fill-opacity=\"1\"/>\n",
       "<polyline clip-path=\"url(#clip092)\" style=\"stroke:#000000; stroke-linecap:butt; stroke-linejoin:round; stroke-width:4; stroke-opacity:1; fill:none\" points=\"\n",
       "  2049.99,1325.97 2049.99,1445.72 2073.05,1445.72 2073.05,1325.97 2049.99,1325.97 \n",
       "  \"/>\n",
       "<path clip-path=\"url(#clip092)\" d=\"\n",
       "M2073.05 1431.36 L2073.05 1445.72 L2096.11 1445.72 L2096.11 1431.36 L2073.05 1431.36 L2073.05 1431.36  Z\n",
       "  \" fill=\"#009af9\" fill-rule=\"evenodd\" fill-opacity=\"1\"/>\n",
       "<polyline clip-path=\"url(#clip092)\" style=\"stroke:#000000; stroke-linecap:butt; stroke-linejoin:round; stroke-width:4; stroke-opacity:1; fill:none\" points=\"\n",
       "  2073.05,1431.36 2073.05,1445.72 2096.11,1445.72 2096.11,1431.36 2073.05,1431.36 \n",
       "  \"/>\n",
       "<path clip-path=\"url(#clip092)\" d=\"\n",
       "M2096.11 1386.27 L2096.11 1445.72 L2119.17 1445.72 L2119.17 1386.27 L2096.11 1386.27 L2096.11 1386.27  Z\n",
       "  \" fill=\"#009af9\" fill-rule=\"evenodd\" fill-opacity=\"1\"/>\n",
       "<polyline clip-path=\"url(#clip092)\" style=\"stroke:#000000; stroke-linecap:butt; stroke-linejoin:round; stroke-width:4; stroke-opacity:1; fill:none\" points=\"\n",
       "  2096.11,1386.27 2096.11,1445.72 2119.17,1445.72 2119.17,1386.27 2096.11,1386.27 \n",
       "  \"/>\n",
       "<path clip-path=\"url(#clip092)\" d=\"\n",
       "M2119.17 1434.23 L2119.17 1445.72 L2142.23 1445.72 L2142.23 1434.23 L2119.17 1434.23 L2119.17 1434.23  Z\n",
       "  \" fill=\"#009af9\" fill-rule=\"evenodd\" fill-opacity=\"1\"/>\n",
       "<polyline clip-path=\"url(#clip092)\" style=\"stroke:#000000; stroke-linecap:butt; stroke-linejoin:round; stroke-width:4; stroke-opacity:1; fill:none\" points=\"\n",
       "  2119.17,1434.23 2119.17,1445.72 2142.23,1445.72 2142.23,1434.23 2119.17,1434.23 \n",
       "  \"/>\n",
       "<path clip-path=\"url(#clip092)\" d=\"\n",
       "M2142.23 1429.35 L2142.23 1445.72 L2165.29 1445.72 L2165.29 1429.35 L2142.23 1429.35 L2142.23 1429.35  Z\n",
       "  \" fill=\"#009af9\" fill-rule=\"evenodd\" fill-opacity=\"1\"/>\n",
       "<polyline clip-path=\"url(#clip092)\" style=\"stroke:#000000; stroke-linecap:butt; stroke-linejoin:round; stroke-width:4; stroke-opacity:1; fill:none\" points=\"\n",
       "  2142.23,1429.35 2142.23,1445.72 2165.29,1445.72 2165.29,1429.35 2142.23,1429.35 \n",
       "  \"/>\n",
       "<path clip-path=\"url(#clip092)\" d=\"\n",
       "M2165.29 1443.71 L2165.29 1445.72 L2188.35 1445.72 L2188.35 1443.71 L2165.29 1443.71 L2165.29 1443.71  Z\n",
       "  \" fill=\"#009af9\" fill-rule=\"evenodd\" fill-opacity=\"1\"/>\n",
       "<polyline clip-path=\"url(#clip092)\" style=\"stroke:#000000; stroke-linecap:butt; stroke-linejoin:round; stroke-width:4; stroke-opacity:1; fill:none\" points=\"\n",
       "  2165.29,1443.71 2165.29,1445.72 2188.35,1445.72 2188.35,1443.71 2165.29,1443.71 \n",
       "  \"/>\n",
       "<path clip-path=\"url(#clip092)\" d=\"\n",
       "M2188.35 1444.85 L2188.35 1445.72 L2211.41 1445.72 L2211.41 1444.85 L2188.35 1444.85 L2188.35 1444.85  Z\n",
       "  \" fill=\"#009af9\" fill-rule=\"evenodd\" fill-opacity=\"1\"/>\n",
       "<polyline clip-path=\"url(#clip092)\" style=\"stroke:#000000; stroke-linecap:butt; stroke-linejoin:round; stroke-width:4; stroke-opacity:1; fill:none\" points=\"\n",
       "  2188.35,1444.85 2188.35,1445.72 2211.41,1445.72 2211.41,1444.85 2188.35,1444.85 \n",
       "  \"/>\n",
       "<path clip-path=\"url(#clip092)\" d=\"\n",
       "M2211.41 1445.43 L2211.41 1445.72 L2234.47 1445.72 L2234.47 1445.43 L2211.41 1445.43 L2211.41 1445.43  Z\n",
       "  \" fill=\"#009af9\" fill-rule=\"evenodd\" fill-opacity=\"1\"/>\n",
       "<polyline clip-path=\"url(#clip092)\" style=\"stroke:#000000; stroke-linecap:butt; stroke-linejoin:round; stroke-width:4; stroke-opacity:1; fill:none\" points=\"\n",
       "  2211.41,1445.43 2211.41,1445.72 2234.47,1445.72 2234.47,1445.43 2211.41,1445.43 \n",
       "  \"/>\n",
       "<circle clip-path=\"url(#clip092)\" style=\"fill:#009af9; stroke:none; fill-opacity:0\" cx=\"331.993\" cy=\"1445.43\" r=\"2\"/>\n",
       "<circle clip-path=\"url(#clip092)\" style=\"fill:#009af9; stroke:none; fill-opacity:0\" cx=\"355.053\" cy=\"1443.71\" r=\"2\"/>\n",
       "<circle clip-path=\"url(#clip092)\" style=\"fill:#009af9; stroke:none; fill-opacity:0\" cx=\"378.113\" cy=\"1443.99\" r=\"2\"/>\n",
       "<circle clip-path=\"url(#clip092)\" style=\"fill:#009af9; stroke:none; fill-opacity:0\" cx=\"401.174\" cy=\"1436.81\" r=\"2\"/>\n",
       "<circle clip-path=\"url(#clip092)\" style=\"fill:#009af9; stroke:none; fill-opacity:0\" cx=\"424.234\" cy=\"1435.66\" r=\"2\"/>\n",
       "<circle clip-path=\"url(#clip092)\" style=\"fill:#009af9; stroke:none; fill-opacity:0\" cx=\"447.294\" cy=\"1367.89\" r=\"2\"/>\n",
       "<circle clip-path=\"url(#clip092)\" style=\"fill:#009af9; stroke:none; fill-opacity:0\" cx=\"470.355\" cy=\"1416.14\" r=\"2\"/>\n",
       "<circle clip-path=\"url(#clip092)\" style=\"fill:#009af9; stroke:none; fill-opacity:0\" cx=\"493.415\" cy=\"1224.31\" r=\"2\"/>\n",
       "<circle clip-path=\"url(#clip092)\" style=\"fill:#009af9; stroke:none; fill-opacity:0\" cx=\"516.475\" cy=\"1383.4\" r=\"2\"/>\n",
       "<circle clip-path=\"url(#clip092)\" style=\"fill:#009af9; stroke:none; fill-opacity:0\" cx=\"539.536\" cy=\"1052.58\" r=\"2\"/>\n",
       "<circle clip-path=\"url(#clip092)\" style=\"fill:#009af9; stroke:none; fill-opacity:0\" cx=\"562.596\" cy=\"1352.96\" r=\"2\"/>\n",
       "<circle clip-path=\"url(#clip092)\" style=\"fill:#009af9; stroke:none; fill-opacity:0\" cx=\"585.656\" cy=\"894.062\" r=\"2\"/>\n",
       "<circle clip-path=\"url(#clip092)\" style=\"fill:#009af9; stroke:none; fill-opacity:0\" cx=\"608.717\" cy=\"1328.55\" r=\"2\"/>\n",
       "<circle clip-path=\"url(#clip092)\" style=\"fill:#009af9; stroke:none; fill-opacity:0\" cx=\"631.777\" cy=\"772.302\" r=\"2\"/>\n",
       "<circle clip-path=\"url(#clip092)\" style=\"fill:#009af9; stroke:none; fill-opacity:0\" cx=\"654.837\" cy=\"1322.52\" r=\"2\"/>\n",
       "<circle clip-path=\"url(#clip092)\" style=\"fill:#009af9; stroke:none; fill-opacity:0\" cx=\"677.898\" cy=\"640.491\" r=\"2\"/>\n",
       "<circle clip-path=\"url(#clip092)\" style=\"fill:#009af9; stroke:none; fill-opacity:0\" cx=\"700.958\" cy=\"1298.97\" r=\"2\"/>\n",
       "<circle clip-path=\"url(#clip092)\" style=\"fill:#009af9; stroke:none; fill-opacity:0\" cx=\"724.018\" cy=\"549.458\" r=\"2\"/>\n",
       "<circle clip-path=\"url(#clip092)\" style=\"fill:#009af9; stroke:none; fill-opacity:0\" cx=\"747.079\" cy=\"1301.27\" r=\"2\"/>\n",
       "<circle clip-path=\"url(#clip092)\" style=\"fill:#009af9; stroke:none; fill-opacity:0\" cx=\"770.139\" cy=\"461.584\" r=\"2\"/>\n",
       "<circle clip-path=\"url(#clip092)\" style=\"fill:#009af9; stroke:none; fill-opacity:0\" cx=\"793.199\" cy=\"1286.34\" r=\"2\"/>\n",
       "<circle clip-path=\"url(#clip092)\" style=\"fill:#009af9; stroke:none; fill-opacity:0\" cx=\"816.26\" cy=\"392.089\" r=\"2\"/>\n",
       "<circle clip-path=\"url(#clip092)\" style=\"fill:#009af9; stroke:none; fill-opacity:0\" cx=\"839.32\" cy=\"1278.58\" r=\"2\"/>\n",
       "<circle clip-path=\"url(#clip092)\" style=\"fill:#009af9; stroke:none; fill-opacity:0\" cx=\"862.38\" cy=\"348.439\" r=\"2\"/>\n",
       "<circle clip-path=\"url(#clip092)\" style=\"fill:#009af9; stroke:none; fill-opacity:0\" cx=\"885.441\" cy=\"1289.78\" r=\"2\"/>\n",
       "<circle clip-path=\"url(#clip092)\" style=\"fill:#009af9; stroke:none; fill-opacity:0\" cx=\"908.501\" cy=\"274.637\" r=\"2\"/>\n",
       "<circle clip-path=\"url(#clip092)\" style=\"fill:#009af9; stroke:none; fill-opacity:0\" cx=\"931.561\" cy=\"1271.12\" r=\"2\"/>\n",
       "<circle clip-path=\"url(#clip092)\" style=\"fill:#009af9; stroke:none; fill-opacity:0\" cx=\"954.622\" cy=\"208.875\" r=\"2\"/>\n",
       "<circle clip-path=\"url(#clip092)\" style=\"fill:#009af9; stroke:none; fill-opacity:0\" cx=\"977.682\" cy=\"1248.14\" r=\"2\"/>\n",
       "<circle clip-path=\"url(#clip092)\" style=\"fill:#009af9; stroke:none; fill-opacity:0\" cx=\"1000.74\" cy=\"126.744\" r=\"2\"/>\n",
       "<circle clip-path=\"url(#clip092)\" style=\"fill:#009af9; stroke:none; fill-opacity:0\" cx=\"1023.8\" cy=\"1264.51\" r=\"2\"/>\n",
       "<circle clip-path=\"url(#clip092)\" style=\"fill:#009af9; stroke:none; fill-opacity:0\" cx=\"1046.86\" cy=\"113.247\" r=\"2\"/>\n",
       "<circle clip-path=\"url(#clip092)\" style=\"fill:#009af9; stroke:none; fill-opacity:0\" cx=\"1069.92\" cy=\"1247.28\" r=\"2\"/>\n",
       "<circle clip-path=\"url(#clip092)\" style=\"fill:#009af9; stroke:none; fill-opacity:0\" cx=\"1092.98\" cy=\"99.4631\" r=\"2\"/>\n",
       "<circle clip-path=\"url(#clip092)\" style=\"fill:#009af9; stroke:none; fill-opacity:0\" cx=\"1116.04\" cy=\"1244.12\" r=\"2\"/>\n",
       "<circle clip-path=\"url(#clip092)\" style=\"fill:#009af9; stroke:none; fill-opacity:0\" cx=\"1139.1\" cy=\"87.9763\" r=\"2\"/>\n",
       "<circle clip-path=\"url(#clip092)\" style=\"fill:#009af9; stroke:none; fill-opacity:0\" cx=\"1162.16\" cy=\"1250.15\" r=\"2\"/>\n",
       "<circle clip-path=\"url(#clip092)\" style=\"fill:#009af9; stroke:none; fill-opacity:0\" cx=\"1185.22\" cy=\"97.7401\" r=\"2\"/>\n",
       "<circle clip-path=\"url(#clip092)\" style=\"fill:#009af9; stroke:none; fill-opacity:0\" cx=\"1208.29\" cy=\"1230.34\" r=\"2\"/>\n",
       "<circle clip-path=\"url(#clip092)\" style=\"fill:#009af9; stroke:none; fill-opacity:0\" cx=\"1231.35\" cy=\"163.502\" r=\"2\"/>\n",
       "<circle clip-path=\"url(#clip092)\" style=\"fill:#009af9; stroke:none; fill-opacity:0\" cx=\"1254.41\" cy=\"1239.81\" r=\"2\"/>\n",
       "<circle clip-path=\"url(#clip092)\" style=\"fill:#009af9; stroke:none; fill-opacity:0\" cx=\"1277.47\" cy=\"205.716\" r=\"2\"/>\n",
       "<circle clip-path=\"url(#clip092)\" style=\"fill:#009af9; stroke:none; fill-opacity:0\" cx=\"1300.53\" cy=\"1240.1\" r=\"2\"/>\n",
       "<circle clip-path=\"url(#clip092)\" style=\"fill:#009af9; stroke:none; fill-opacity:0\" cx=\"1323.59\" cy=\"292.154\" r=\"2\"/>\n",
       "<circle clip-path=\"url(#clip092)\" style=\"fill:#009af9; stroke:none; fill-opacity:0\" cx=\"1346.65\" cy=\"1246.13\" r=\"2\"/>\n",
       "<circle clip-path=\"url(#clip092)\" style=\"fill:#009af9; stroke:none; fill-opacity:0\" cx=\"1369.71\" cy=\"361.075\" r=\"2\"/>\n",
       "<circle clip-path=\"url(#clip092)\" style=\"fill:#009af9; stroke:none; fill-opacity:0\" cx=\"1392.77\" cy=\"1258.48\" r=\"2\"/>\n",
       "<circle clip-path=\"url(#clip092)\" style=\"fill:#009af9; stroke:none; fill-opacity:0\" cx=\"1415.83\" cy=\"448.662\" r=\"2\"/>\n",
       "<circle clip-path=\"url(#clip092)\" style=\"fill:#009af9; stroke:none; fill-opacity:0\" cx=\"1438.89\" cy=\"1260.49\" r=\"2\"/>\n",
       "<circle clip-path=\"url(#clip092)\" style=\"fill:#009af9; stroke:none; fill-opacity:0\" cx=\"1461.95\" cy=\"488.865\" r=\"2\"/>\n",
       "<circle clip-path=\"url(#clip092)\" style=\"fill:#009af9; stroke:none; fill-opacity:0\" cx=\"1485.01\" cy=\"1273.41\" r=\"2\"/>\n",
       "<circle clip-path=\"url(#clip092)\" style=\"fill:#009af9; stroke:none; fill-opacity:0\" cx=\"1508.07\" cy=\"558.073\" r=\"2\"/>\n",
       "<circle clip-path=\"url(#clip092)\" style=\"fill:#009af9; stroke:none; fill-opacity:0\" cx=\"1531.13\" cy=\"1278.3\" r=\"2\"/>\n",
       "<circle clip-path=\"url(#clip092)\" style=\"fill:#009af9; stroke:none; fill-opacity:0\" cx=\"1554.19\" cy=\"573.006\" r=\"2\"/>\n",
       "<circle clip-path=\"url(#clip092)\" style=\"fill:#009af9; stroke:none; fill-opacity:0\" cx=\"1577.25\" cy=\"1289.78\" r=\"2\"/>\n",
       "<circle clip-path=\"url(#clip092)\" style=\"fill:#009af9; stroke:none; fill-opacity:0\" cx=\"1600.31\" cy=\"636.758\" r=\"2\"/>\n",
       "<circle clip-path=\"url(#clip092)\" style=\"fill:#009af9; stroke:none; fill-opacity:0\" cx=\"1623.37\" cy=\"1310.46\" r=\"2\"/>\n",
       "<circle clip-path=\"url(#clip092)\" style=\"fill:#009af9; stroke:none; fill-opacity:0\" cx=\"1646.43\" cy=\"729.227\" r=\"2\"/>\n",
       "<circle clip-path=\"url(#clip092)\" style=\"fill:#009af9; stroke:none; fill-opacity:0\" cx=\"1669.49\" cy=\"1323.38\" r=\"2\"/>\n",
       "<circle clip-path=\"url(#clip092)\" style=\"fill:#009af9; stroke:none; fill-opacity:0\" cx=\"1692.55\" cy=\"780.63\" r=\"2\"/>\n",
       "<circle clip-path=\"url(#clip092)\" style=\"fill:#009af9; stroke:none; fill-opacity:0\" cx=\"1715.61\" cy=\"1324.53\" r=\"2\"/>\n",
       "<circle clip-path=\"url(#clip092)\" style=\"fill:#009af9; stroke:none; fill-opacity:0\" cx=\"1738.67\" cy=\"836.341\" r=\"2\"/>\n",
       "<circle clip-path=\"url(#clip092)\" style=\"fill:#009af9; stroke:none; fill-opacity:0\" cx=\"1761.73\" cy=\"1344.92\" r=\"2\"/>\n",
       "<circle clip-path=\"url(#clip092)\" style=\"fill:#009af9; stroke:none; fill-opacity:0\" cx=\"1784.79\" cy=\"912.154\" r=\"2\"/>\n",
       "<circle clip-path=\"url(#clip092)\" style=\"fill:#009af9; stroke:none; fill-opacity:0\" cx=\"1807.85\" cy=\"1353.53\" r=\"2\"/>\n",
       "<circle clip-path=\"url(#clip092)\" style=\"fill:#009af9; stroke:none; fill-opacity:0\" cx=\"1830.91\" cy=\"964.419\" r=\"2\"/>\n",
       "<circle clip-path=\"url(#clip092)\" style=\"fill:#009af9; stroke:none; fill-opacity:0\" cx=\"1853.97\" cy=\"1364.73\" r=\"2\"/>\n",
       "<circle clip-path=\"url(#clip092)\" style=\"fill:#009af9; stroke:none; fill-opacity:0\" cx=\"1877.04\" cy=\"1024.72\" r=\"2\"/>\n",
       "<circle clip-path=\"url(#clip092)\" style=\"fill:#009af9; stroke:none; fill-opacity:0\" cx=\"1900.1\" cy=\"1387.13\" r=\"2\"/>\n",
       "<circle clip-path=\"url(#clip092)\" style=\"fill:#009af9; stroke:none; fill-opacity:0\" cx=\"1923.16\" cy=\"1096.52\" r=\"2\"/>\n",
       "<circle clip-path=\"url(#clip092)\" style=\"fill:#009af9; stroke:none; fill-opacity:0\" cx=\"1946.22\" cy=\"1392.88\" r=\"2\"/>\n",
       "<circle clip-path=\"url(#clip092)\" style=\"fill:#009af9; stroke:none; fill-opacity:0\" cx=\"1969.28\" cy=\"1179.22\" r=\"2\"/>\n",
       "<circle clip-path=\"url(#clip092)\" style=\"fill:#009af9; stroke:none; fill-opacity:0\" cx=\"1992.34\" cy=\"1405.22\" r=\"2\"/>\n",
       "<circle clip-path=\"url(#clip092)\" style=\"fill:#009af9; stroke:none; fill-opacity:0\" cx=\"2015.4\" cy=\"1257.62\" r=\"2\"/>\n",
       "<circle clip-path=\"url(#clip092)\" style=\"fill:#009af9; stroke:none; fill-opacity:0\" cx=\"2038.46\" cy=\"1418.72\" r=\"2\"/>\n",
       "<circle clip-path=\"url(#clip092)\" style=\"fill:#009af9; stroke:none; fill-opacity:0\" cx=\"2061.52\" cy=\"1325.97\" r=\"2\"/>\n",
       "<circle clip-path=\"url(#clip092)\" style=\"fill:#009af9; stroke:none; fill-opacity:0\" cx=\"2084.58\" cy=\"1431.36\" r=\"2\"/>\n",
       "<circle clip-path=\"url(#clip092)\" style=\"fill:#009af9; stroke:none; fill-opacity:0\" cx=\"2107.64\" cy=\"1386.27\" r=\"2\"/>\n",
       "<circle clip-path=\"url(#clip092)\" style=\"fill:#009af9; stroke:none; fill-opacity:0\" cx=\"2130.7\" cy=\"1434.23\" r=\"2\"/>\n",
       "<circle clip-path=\"url(#clip092)\" style=\"fill:#009af9; stroke:none; fill-opacity:0\" cx=\"2153.76\" cy=\"1429.35\" r=\"2\"/>\n",
       "<circle clip-path=\"url(#clip092)\" style=\"fill:#009af9; stroke:none; fill-opacity:0\" cx=\"2176.82\" cy=\"1443.71\" r=\"2\"/>\n",
       "<circle clip-path=\"url(#clip092)\" style=\"fill:#009af9; stroke:none; fill-opacity:0\" cx=\"2199.88\" cy=\"1444.85\" r=\"2\"/>\n",
       "<circle clip-path=\"url(#clip092)\" style=\"fill:#009af9; stroke:none; fill-opacity:0\" cx=\"2222.94\" cy=\"1445.43\" r=\"2\"/>\n",
       "<path clip-path=\"url(#clip090)\" d=\"\n",
       "M1989.69 198.898 L2281.07 198.898 L2281.07 95.2176 L1989.69 95.2176  Z\n",
       "  \" fill=\"#ffffff\" fill-rule=\"evenodd\" fill-opacity=\"1\"/>\n",
       "<polyline clip-path=\"url(#clip090)\" style=\"stroke:#000000; stroke-linecap:butt; stroke-linejoin:round; stroke-width:4; stroke-opacity:1; fill:none\" points=\"\n",
       "  1989.69,198.898 2281.07,198.898 2281.07,95.2176 1989.69,95.2176 1989.69,198.898 \n",
       "  \"/>\n",
       "<path clip-path=\"url(#clip090)\" d=\"\n",
       "M2013.58 167.794 L2156.95 167.794 L2156.95 126.322 L2013.58 126.322 L2013.58 167.794  Z\n",
       "  \" fill=\"#009af9\" fill-rule=\"evenodd\" fill-opacity=\"1\"/>\n",
       "<polyline clip-path=\"url(#clip090)\" style=\"stroke:#000000; stroke-linecap:butt; stroke-linejoin:round; stroke-width:4; stroke-opacity:1; fill:none\" points=\"\n",
       "  2013.58,167.794 2156.95,167.794 2156.95,126.322 2013.58,126.322 2013.58,167.794 \n",
       "  \"/>\n",
       "<path clip-path=\"url(#clip090)\" d=\"M2194.69 166.745 Q2192.89 171.375 2191.17 172.787 Q2189.46 174.199 2186.59 174.199 L2183.19 174.199 L2183.19 170.634 L2185.69 170.634 Q2187.45 170.634 2188.42 169.8 Q2189.39 168.967 2190.57 165.865 L2191.34 163.921 L2180.85 138.412 L2185.36 138.412 L2193.46 158.689 L2201.57 138.412 L2206.08 138.412 L2194.69 166.745 Z\" fill=\"#000000\" fill-rule=\"evenodd\" fill-opacity=\"1\" /><path clip-path=\"url(#clip090)\" d=\"M2213.37 160.402 L2221.01 160.402 L2221.01 134.037 L2212.7 135.703 L2212.7 131.444 L2220.96 129.778 L2225.64 129.778 L2225.64 160.402 L2233.28 160.402 L2233.28 164.338 L2213.37 164.338 L2213.37 160.402 Z\" fill=\"#000000\" fill-rule=\"evenodd\" fill-opacity=\"1\" /></svg>\n"
      ]
     },
     "execution_count": 21,
     "metadata": {},
     "output_type": "execute_result"
    }
   ],
   "source": [
    "histogram(cns_pred .- cns_true)"
   ]
  },
  {
   "cell_type": "markdown",
   "metadata": {},
   "source": [
    "### Final optimization\n",
    "- Maximize transmission (< 95%)\n",
    "- Output energy should be 70 KeV (0.070 MeV)\n",
    "- Minimize RFQ length\n",
    "- Minimize longitudinal emittance\n",
    "- Minimize transverse emittance"
   ]
  },
  {
   "cell_type": "code",
   "execution_count": 22,
   "metadata": {},
   "outputs": [],
   "source": [
    "# optimization initialization\n",
    "# bounds of scaled DVARS\n",
    "lower_bound = repeat([-1.], 14); upper_bound = repeat([1.], 14)\n",
    "\n",
    "# smapling to instantiate acquisition function\n",
    "n_samples = 1000\n",
    "initial_samples = Surrogates.sample(n_samples, lower_bound, upper_bound, SobolSample());"
   ]
  },
  {
   "cell_type": "code",
   "execution_count": 23,
   "metadata": {},
   "outputs": [
    {
     "ename": "LoadError",
     "evalue": "MethodError: no method matching recorr(::NTuple{14, Float64})\n\u001b[0mClosest candidates are:\n\u001b[0m  recorr(::Any, \u001b[91m::Any\u001b[39m, \u001b[91m::Any\u001b[39m) at In[7]:41",
     "output_type": "error",
     "traceback": [
      "MethodError: no method matching recorr(::NTuple{14, Float64})\n\u001b[0mClosest candidates are:\n\u001b[0m  recorr(::Any, \u001b[91m::Any\u001b[39m, \u001b[91m::Any\u001b[39m) at In[7]:41",
      "",
      "Stacktrace:",
      " [1] top-level scope",
      "   @ In[23]:2",
      " [2] eval",
      "   @ ./boot.jl:368 [inlined]",
      " [3] include_string(mapexpr::typeof(REPL.softscope), mod::Module, code::String, filename::String)",
      "   @ Base ./loading.jl:1428"
     ]
    }
   ],
   "source": [
    "# how to go from scaled vec to unscaled\n",
    "recorr(minmaxscale([1., -1., 1., 1., 1., 1., 1., 1., 1., 1., 1., 1., 1., 1.]; var=\"x\", inverse=true))"
   ]
  },
  {
   "cell_type": "code",
   "execution_count": 24,
   "metadata": {},
   "outputs": [
    {
     "data": {
      "text/plain": [
       "objective3 (generic function with 1 method)"
      ]
     },
     "execution_count": 24,
     "metadata": {},
     "output_type": "execute_result"
    }
   ],
   "source": [
    "function objective3(x_vec)\n",
    "    x_vec_unscaled = recorr(minmaxscale(x_vec; var=\"x\", inverse=true))\n",
    "    x_vec_unscaled_dict = Dict(\"DVAR$i\" => x_vec_unscaled[i] for i in 1:14)\n",
    "    local cellnumber\n",
    "    try\n",
    "        cellnumber = compute_cellnumber(jl_row_to_py_row(x_vec_unscaled_dict))\n",
    "    catch\n",
    "        cellnumber = 0\n",
    "    end\n",
    "    y = predict((x_vec..., cellnumber % 2))\n",
    "    target_energy_scaled = transform(y_scalers[\"OBJ2\"], 0.070)[1]\n",
    "    [-y[1], (y[3] - target_energy_scaled)^2, y[2], y[4], y[5], y[6]]\n",
    "end"
   ]
  },
  {
   "cell_type": "code",
   "execution_count": 25,
   "metadata": {},
   "outputs": [
    {
     "ename": "LoadError",
     "evalue": "MethodError: no method matching recorr(::NTuple{14, Float64})\n\u001b[0mClosest candidates are:\n\u001b[0m  recorr(::Any, \u001b[91m::Any\u001b[39m, \u001b[91m::Any\u001b[39m) at In[7]:41",
     "output_type": "error",
     "traceback": [
      "MethodError: no method matching recorr(::NTuple{14, Float64})\n\u001b[0mClosest candidates are:\n\u001b[0m  recorr(::Any, \u001b[91m::Any\u001b[39m, \u001b[91m::Any\u001b[39m) at In[7]:41",
      "",
      "Stacktrace:",
      " [1] objective3(x_vec::NTuple{14, Float64})",
      "   @ Main ./In[24]:2",
      " [2] _broadcast_getindex_evalf",
      "   @ ./broadcast.jl:670 [inlined]",
      " [3] _broadcast_getindex",
      "   @ ./broadcast.jl:643 [inlined]",
      " [4] getindex",
      "   @ ./broadcast.jl:597 [inlined]",
      " [5] copy",
      "   @ ./broadcast.jl:899 [inlined]",
      " [6] materialize(bc::Base.Broadcast.Broadcasted{Base.Broadcast.DefaultArrayStyle{1}, Nothing, typeof(objective3), Tuple{Vector{NTuple{14, Float64}}}})",
      "   @ Base.Broadcast ./broadcast.jl:860",
      " [7] top-level scope",
      "   @ In[25]:3",
      " [8] eval",
      "   @ ./boot.jl:368 [inlined]",
      " [9] include_string(mapexpr::typeof(REPL.softscope), mod::Module, code::String, filename::String)",
      "   @ Base ./loading.jl:1428"
     ]
    }
   ],
   "source": [
    "x3s = [sample for sample in initial_samples];\n",
    "x3s = unique(x3s)\n",
    "y3s = objective3.(x3s);"
   ]
  },
  {
   "cell_type": "code",
   "execution_count": 26,
   "metadata": {},
   "outputs": [
    {
     "ename": "LoadError",
     "evalue": "UndefVarError: y3s not defined",
     "output_type": "error",
     "traceback": [
      "UndefVarError: y3s not defined",
      "",
      "Stacktrace:",
      " [1] top-level scope",
      "   @ In[26]:4",
      " [2] eval",
      "   @ ./boot.jl:368 [inlined]",
      " [3] include_string(mapexpr::typeof(REPL.softscope), mod::Module, code::String, filename::String)",
      "   @ Base ./loading.jl:1428"
     ]
    }
   ],
   "source": [
    "if length(x3s) != length(unique(x3s))\n",
    "    print(\"Duplicate entries in x3\")\n",
    "end\n",
    "if length(x3s) != length(y3s)\n",
    "    print(\"Dimension mismatch between x3 and y\")\n",
    "end\n",
    "radial_basis_ego_3 = RadialBasis(x3s, y3s, repeat([-1.], 14), repeat([1.], 14))"
   ]
  },
  {
   "cell_type": "code",
   "execution_count": 27,
   "metadata": {},
   "outputs": [
    {
     "ename": "LoadError",
     "evalue": "UndefVarError: radial_basis_ego_3 not defined",
     "output_type": "error",
     "traceback": [
      "UndefVarError: radial_basis_ego_3 not defined",
      "",
      "Stacktrace:",
      " [1] top-level scope",
      "   @ In[27]:1",
      " [2] eval",
      "   @ ./boot.jl:368 [inlined]",
      " [3] include_string(mapexpr::typeof(REPL.softscope), mod::Module, code::String, filename::String)",
      "   @ Base ./loading.jl:1428"
     ]
    }
   ],
   "source": [
    "pareto_set_3, pareto_front_3 = surrogate_optimize(\n",
    "    objective3, SMB(), repeat([-1.], 14), repeat([1.], 14), radial_basis_ego_3, SobolSample();\n",
    "    maxiters = 100, n_new_look = 100\n",
    ");"
   ]
  },
  {
   "cell_type": "code",
   "execution_count": 28,
   "metadata": {},
   "outputs": [
    {
     "ename": "LoadError",
     "evalue": "UndefVarError: pareto_front_3 not defined",
     "output_type": "error",
     "traceback": [
      "UndefVarError: pareto_front_3 not defined",
      "",
      "Stacktrace:",
      " [1] top-level scope",
      "   @ In[28]:1",
      " [2] eval",
      "   @ ./boot.jl:368 [inlined]",
      " [3] include_string(mapexpr::typeof(REPL.softscope), mod::Module, code::String, filename::String)",
      "   @ Base ./loading.jl:1428"
     ]
    }
   ],
   "source": [
    "obj1_3 = [inverse_transform(y_scalers[\"OBJ1\"], -item[1])[1] for item in pareto_front_3];\n",
    "dE_3 = [item[2] for item in pareto_front_3];\n",
    "obj3_3 = [inverse_transform(y_scalers[\"OBJ3\"], item[3])[1] for item in pareto_front_3];\n",
    "obj4_3 = [inverse_transform(y_scalers[\"OBJ4\"], item[4])[1] for item in pareto_front_3];\n",
    "obj5_3 = [inverse_transform(y_scalers[\"OBJ5\"], item[5])[1] for item in pareto_front_3];\n",
    "obj6_3 = [inverse_transform(y_scalers[\"OBJ6\"], item[6])[1] for item in pareto_front_3];\n",
    "\n",
    "unscaled_pareto_front_3 = [obj1_3, dE_3, obj3_3, obj4_3, obj5_3, obj6_3]"
   ]
  },
  {
   "cell_type": "code",
   "execution_count": 29,
   "metadata": {},
   "outputs": [
    {
     "ename": "LoadError",
     "evalue": "UndefVarError: obj4_3 not defined",
     "output_type": "error",
     "traceback": [
      "UndefVarError: obj4_3 not defined",
      "",
      "Stacktrace:",
      " [1] top-level scope",
      "   @ In[29]:2",
      " [2] eval",
      "   @ ./boot.jl:368 [inlined]",
      " [3] include_string(mapexpr::typeof(REPL.softscope), mod::Module, code::String, filename::String)",
      "   @ Base ./loading.jl:1428"
     ]
    }
   ],
   "source": [
    "emit_cutoff = 0.04\n",
    "long_emit_mask = obj4_3 .< emit_cutoff; trans_emit_mask = obj5_3 .< emit_cutoff;\n",
    "\n",
    "\n",
    "transmission_cutoff = 90\n",
    "high_transmission_mask = obj1_3 .> 90\n",
    "\n",
    "sum(long_emit_mask .& trans_emit_mask .& high_transmission_mask)"
   ]
  },
  {
   "cell_type": "code",
   "execution_count": 30,
   "metadata": {},
   "outputs": [
    {
     "ename": "LoadError",
     "evalue": "UndefVarError: obj1_3 not defined",
     "output_type": "error",
     "traceback": [
      "UndefVarError: obj1_3 not defined",
      "",
      "Stacktrace:",
      " [1] top-level scope",
      "   @ In[30]:1",
      " [2] eval",
      "   @ ./boot.jl:368 [inlined]",
      " [3] include_string(mapexpr::typeof(REPL.softscope), mod::Module, code::String, filename::String)",
      "   @ Base ./loading.jl:1428"
     ]
    }
   ],
   "source": [
    "candidates = [i for i in 1:length(obj1_3)][long_emit_mask .& trans_emit_mask .& high_transmission_mask]"
   ]
  },
  {
   "cell_type": "code",
   "execution_count": 31,
   "metadata": {},
   "outputs": [
    {
     "ename": "LoadError",
     "evalue": "UndefVarError: deps not defined",
     "output_type": "error",
     "traceback": [
      "UndefVarError: deps not defined",
      "",
      "Stacktrace:",
      " [1] decorr(vec::Vector{Float64})",
      "   @ Main ./In[7]:32",
      " [2] top-level scope",
      "   @ In[31]:1",
      " [3] eval",
      "   @ ./boot.jl:368 [inlined]",
      " [4] include_string(mapexpr::typeof(REPL.softscope), mod::Module, code::String, filename::String)",
      "   @ Base ./loading.jl:1428"
     ]
    }
   ],
   "source": [
    "test_x_transformed = minmaxscale(\n",
    "    decorr([\n",
    "        11.312972997315228, 103.74379149079323, 149.3844627470438,\n",
    "        1.4468421232886612, 1.5137411917386079, 140.85678020119667,\n",
    "        473.1951289474964, -50.19836366921663, -43.642034931217914,\n",
    "        245.1396713256836, 245.14222234487534, 1.8956206666091737,\n",
    "        -37.693693497970166, 0.06037112592457561,\n",
    "    ]);\n",
    "    var=\"x\"\n",
    ")\n",
    "\n",
    "println(predict((test_x_transformed..., 0.)))\n",
    "println(predict((test_x_transformed..., 1.)))"
   ]
  },
  {
   "cell_type": "code",
   "execution_count": 32,
   "metadata": {},
   "outputs": [
    {
     "ename": "LoadError",
     "evalue": "UndefVarError: candidates not defined",
     "output_type": "error",
     "traceback": [
      "UndefVarError: candidates not defined",
      "",
      "Stacktrace:",
      " [1] top-level scope",
      "   @ ./In[32]:1",
      " [2] eval",
      "   @ ./boot.jl:368 [inlined]",
      " [3] include_string(mapexpr::typeof(REPL.softscope), mod::Module, code::String, filename::String)",
      "   @ Base ./loading.jl:1428"
     ]
    }
   ],
   "source": [
    "for j in candidates\n",
    "    println(\"candidate $j\")\n",
    "    candidate_dvars = minmaxscale(pareto_set_3[j]; var=\"x\", inverse=true)\n",
    "    println(recorr(candidate_dvars))\n",
    "    for i in 1:6\n",
    "        println(\"OBJ$i: \", unscaled_pareto_front_3[i][j])\n",
    "    end\n",
    "    println(\" \")\n",
    "end"
   ]
  },
  {
   "cell_type": "markdown",
   "metadata": {},
   "source": [
    "Clearly, `138` is the winner."
   ]
  },
  {
   "cell_type": "code",
   "execution_count": 33,
   "metadata": {},
   "outputs": [
    {
     "ename": "LoadError",
     "evalue": "UndefVarError: candidate_dvars not defined",
     "output_type": "error",
     "traceback": [
      "UndefVarError: candidate_dvars not defined",
      "",
      "Stacktrace:",
      " [1] top-level scope",
      "   @ In[33]:1",
      " [2] eval",
      "   @ ./boot.jl:368 [inlined]",
      " [3] include_string(mapexpr::typeof(REPL.softscope), mod::Module, code::String, filename::String)",
      "   @ Base ./loading.jl:1428"
     ]
    }
   ],
   "source": [
    "candidate_dvars[[1, 2, 3]]"
   ]
  },
  {
   "cell_type": "code",
   "execution_count": 34,
   "metadata": {},
   "outputs": [
    {
     "data": {
      "text/plain": [
       "plot_pairwise_scatter (generic function with 1 method)"
      ]
     },
     "execution_count": 34,
     "metadata": {},
     "output_type": "execute_result"
    }
   ],
   "source": [
    "function plot_pairwise_scatter(vec1, vec2, vec1label, vec2label, indexes, winner_index, incl_xticks, incl_yticks)\n",
    "    loser_indexes = [i for i in indexes if i != winner_index]\n",
    "    \n",
    "    \n",
    "    scatter(\n",
    "        [vec1[i] for i in loser_indexes], [vec2[i] for i in loser_indexes];\n",
    "        xlabel=vec1label, ylabel=vec2label, legend=false, markersize=3, markerstrokewidth=0.5,\n",
    "        xformatter = incl_xticks ? :auto : Returns(\"\"), yformatter = incl_yticks ? :auto : Returns(\"\") \n",
    "    )\n",
    "    \n",
    "    scatter!([vec1[winner_index]], [vec2[winner_index]]; markershape=:star5, markersize=10, markerstrokewidth=0.5)\n",
    "end"
   ]
  },
  {
   "cell_type": "code",
   "execution_count": 35,
   "metadata": {},
   "outputs": [
    {
     "ename": "LoadError",
     "evalue": "UndefVarError: pareto_front_3 not defined",
     "output_type": "error",
     "traceback": [
      "UndefVarError: pareto_front_3 not defined",
      "",
      "Stacktrace:",
      " [1] top-level scope",
      "   @ In[35]:8",
      " [2] eval",
      "   @ ./boot.jl:368 [inlined]",
      " [3] include_string(mapexpr::typeof(REPL.softscope), mod::Module, code::String, filename::String)",
      "   @ Base ./loading.jl:1428"
     ]
    }
   ],
   "source": [
    "labels = [\n",
    "    \"Transmission [%]\",\n",
    "    \"Scaled target/output\\nenergy squared error\",\n",
    "    \"RFQ length [cm]\",\n",
    "    \"Longitudinal emittance\\n[MeV deg]\",\n",
    "    \"Transverse (radial)\\nemittance [cm mrad]\"\n",
    "]\n",
    "indexes = [i for i in 1:length(pareto_front_3)]\n",
    "\n",
    "layout = @layout([ ° _ _ _ ; ° ° _ _ ; ° ° ° _ ; ° ° ° ° ])\n",
    "\n",
    "#plot(p1, p2, p3, layout = l)\n",
    "\n",
    "plots_dict = Dict()\n",
    "\n",
    "for i in 1:5\n",
    "    for j in 1:5\n",
    "        if i < j\n",
    "            p = plot_pairwise_scatter(\n",
    "                unscaled_pareto_front_3[i], unscaled_pareto_front_3[j],\n",
    "                j==5 ? labels[i] : \"\", i==1 ? labels[j] : \"\", indexes, 138, j==5, i==1\n",
    "            )\n",
    "            if i == 1\n",
    "                xflip!(true)\n",
    "            end\n",
    "            # display(p)\n",
    "            merge!(plots_dict, Dict(\"$i$j\"=>p))\n",
    "        end\n",
    "    end\n",
    "end\n",
    "\n",
    "pareto_plot = plot(\n",
    "    [plots_dict[\"$i$j\"] for j in 1:5 for i in 1:5 if i<j]...,\n",
    "    layout = layout, widths=(1/4,1/4,1/4,1/4), size=(1000,800), dpi=500\n",
    ")\n",
    "\n",
    "# savefig(pareto_plot,\"../../img/pareto_plot.png\")"
   ]
  },
  {
   "cell_type": "markdown",
   "metadata": {},
   "source": [
    "## CHECKING OPTIMAL ANSWER FROM ABOVE"
   ]
  },
  {
   "cell_type": "code",
   "execution_count": 36,
   "metadata": {},
   "outputs": [
    {
     "ename": "LoadError",
     "evalue": "UndefVarError: deps not defined",
     "output_type": "error",
     "traceback": [
      "UndefVarError: deps not defined",
      "",
      "Stacktrace:",
      " [1] decorr(vec::Vector{Float64})",
      "   @ Main ./In[7]:32",
      " [2] top-level scope",
      "   @ In[36]:18",
      " [3] eval",
      "   @ ./boot.jl:368 [inlined]",
      " [4] include_string(mapexpr::typeof(REPL.softscope), mod::Module, code::String, filename::String)",
      "   @ Base ./loading.jl:1428"
     ]
    }
   ],
   "source": [
    "optimal_dvars = [\n",
    "    9.14601474441588,\n",
    "    64.9847204387188,\n",
    "    76.2309561819387,\n",
    "    1.5052128004608676,\n",
    "    1.7909850165139312,\n",
    "    159.3742377460003,\n",
    "    287.0468702018261,\n",
    "    -49.37874272093177,\n",
    "    -44.20807974211494,\n",
    "    446.882483959198,\n",
    "    415.69541972875595,\n",
    "    1.9007708828235987,\n",
    "    -38.63379833969139,\n",
    "    0.07181640870840056,\n",
    "]\n",
    "\n",
    "optimal_dvars_decorr = decorr(optimal_dvars);\n",
    "optimal_dvars_decorred_scaled = minmaxscale(optimal_dvars_decorr);\n",
    "optimal_predicted_objs_scaled = predict(optimal_dvars_decorred_scaled..., compute_cellnumber);\n",
    "optimal_predicted_objs = minmaxscale(optimal_predicted_objs_scaled; var=\"y\", inverse=true)"
   ]
  },
  {
   "cell_type": "code",
   "execution_count": null,
   "metadata": {},
   "outputs": [],
   "source": []
  }
 ],
 "metadata": {
  "kernelspec": {
   "display_name": "Julia 1.8.0",
   "language": "julia",
   "name": "julia-1.8"
  },
  "language_info": {
   "file_extension": ".jl",
   "mimetype": "application/julia",
   "name": "julia",
   "version": "1.8.0"
  }
 },
 "nbformat": 4,
 "nbformat_minor": 4
}
