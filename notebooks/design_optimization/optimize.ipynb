{
 "cells": [
  {
   "cell_type": "code",
   "execution_count": 1,
   "metadata": {},
   "outputs": [
    {
     "name": "stdout",
     "output_type": "stream",
     "text": [
      "Passed N Threads == N GPU sanity check!\n",
      "Gathering arguments...\n"
     ]
    },
    {
     "ename": "LoadError",
     "evalue": "LoadError: ArgParseError(\"too many arguments\")\nin expression starting at /Users/Josh/Desktop/research/rfq-nn/scan_hyperparameters_emi4D_functions.jl:353",
     "output_type": "error",
     "traceback": [
      "LoadError: ArgParseError(\"too many arguments\")\nin expression starting at /Users/Josh/Desktop/research/rfq-nn/scan_hyperparameters_emi4D_functions.jl:353",
      "",
      "Stacktrace:",
      "  [1] argparse_error(x::Any)",
      "    @ ArgParse ~/.julia/packages/ArgParse/bylyV/src/parsing.jl:9",
      "  [2] parse_arg!(state::ArgParse.ParserState, settings::ArgParseSettings)",
      "    @ ArgParse ~/.julia/packages/ArgParse/bylyV/src/parsing.jl:918",
      "  [3] parse_args_unhandled(args_list::Vector, settings::ArgParseSettings, truncated_shopts::Bool)",
      "    @ ArgParse ~/.julia/packages/ArgParse/bylyV/src/parsing.jl:632",
      "  [4] parse_args_unhandled(args_list::Vector, settings::ArgParseSettings)",
      "    @ ArgParse ~/.julia/packages/ArgParse/bylyV/src/parsing.jl:595",
      "  [5] parse_args(args_list::Vector, settings::ArgParseSettings; as_symbols::Bool)",
      "    @ ArgParse ~/.julia/packages/ArgParse/bylyV/src/parsing.jl:469",
      "  [6] parse_args(args_list::Vector, settings::ArgParseSettings)",
      "    @ ArgParse ~/.julia/packages/ArgParse/bylyV/src/parsing.jl:465",
      "  [7] parse_args(settings::ArgParseSettings; kw::Base.Pairs{Symbol, V, Tuple{Vararg{Symbol, N}}, NamedTuple{names, T}} where {V, N, names, T<:Tuple{Vararg{Any, N}}})",
      "    @ ArgParse ~/.julia/packages/ArgParse/bylyV/src/parsing.jl:421",
      "  [8] parse_args(settings::ArgParseSettings)",
      "    @ ArgParse ~/.julia/packages/ArgParse/bylyV/src/parsing.jl:421",
      "  [9] parse_commandline()",
      "    @ Main ~/Desktop/research/rfq-nn/scan_hyperparameters_emi4D_functions.jl:102",
      " [10] top-level scope",
      "    @ ~/Desktop/research/rfq-nn/scan_hyperparameters_emi4D_functions.jl:353",
      " [11] include(fname::String)",
      "    @ Base.MainInclude ./client.jl:476",
      " [12] top-level scope",
      "    @ In[1]:14",
      " [13] eval",
      "    @ ./boot.jl:368 [inlined]",
      " [14] include_string(mapexpr::typeof(REPL.softscope), mod::Module, code::String, filename::String)",
      "    @ Base ./loading.jl:1428"
     ]
    }
   ],
   "source": [
    "using Plots\n",
    "using Statistics\n",
    "using Surrogates\n",
    "using CSV\n",
    "using DataFrames\n",
    "using Flux\n",
    "import JSON\n",
    "using MLUtils\n",
    "using Plots\n",
    "using StatsBase\n",
    "using StatsPlots\n",
    "using Tables\n",
    "\n",
    "include(\"../../scan_hyperparameters_emi4D_functions.jl\")"
   ]
  },
  {
   "cell_type": "markdown",
   "metadata": {},
   "source": [
    "### Loading data and making cuts for proper scaling"
   ]
  },
  {
   "cell_type": "code",
   "execution_count": 3,
   "metadata": {},
   "outputs": [
    {
     "name": "stdout",
     "output_type": "stream",
     "text": [
      "Formatting data...\n",
      "Cutting Transmission to 60-100 percent...\n",
      "x_raw shape: (217293, 14)\n",
      "y_raw shape: (217293, 6)\n",
      "x_new shape: (161574, 14)\n",
      "y_new shape: (161574, 6)\n",
      "Decorrelating...\n",
      "Done!\n"
     ]
    }
   ],
   "source": [
    "target_directory = \"../../data/full_opt_15KeV/\"\n",
    "\n",
    "println(\"Formatting data...\")\n",
    "x_raw_df, y_df = getrawdata(target_directory)\n",
    "\n",
    "# cutting\n",
    "println(\"Cutting Transmission to 60-100 percent...\")\n",
    "lower::Float32 = 60\n",
    "upper::Float32 = 120\n",
    "x_raw_df, y_df = applycut(x_raw_df, y_df, \"OBJ1\", lower, upper)\n",
    "\n",
    "# decorrelating\n",
    "println(\"Decorrelating...\")\n",
    "x_df = decorrelatedvars(x_raw_df)\n",
    "\n",
    "#= Replace OBJ5 and 6 with polar form\n",
    "y_df = DataFrame(\n",
    "    \"OBJ1\"=>y_df[:, \"OBJ1\"],\n",
    "    \"OBJ2\"=>y_df[:, \"OBJ2\"],\n",
    "    \"OBJ3\"=>y_df[:, \"OBJ3\"],\n",
    "    \"OBJ4\"=>y_df[:, \"OBJ4\"],\n",
    "    \"OBJ5\"=>(sqrt.(y_df[:, \"OBJ5\"].^2.0 .+ y_df[:, \"OBJ6\"].^2.0)),\n",
    "    \"OBJ6\"=>(atan.(y_df[:, \"OBJ6\"], y_df[:, \"OBJ5\"])) \n",
    ") =#\n",
    "\n",
    "# modify obj5 and obj6\n",
    "emits = hcat(y_df[:, \"OBJ5\"], y_df[:, \"OBJ6\"]);\n",
    "\n",
    "y_df = DataFrame(\n",
    "    \"OBJ1\"=>y_df[:, \"OBJ1\"],\n",
    "    \"OBJ2\"=>y_df[:, \"OBJ2\"],\n",
    "    \"OBJ3\"=>y_df[:, \"OBJ3\"],\n",
    "    \"OBJ4\"=>y_df[:, \"OBJ4\"],\n",
    "    \"OBJ5\"=>[maximum(emit) for emit in eachrow(emits)],\n",
    "    \"OBJ6\"=>[minimum(emit) for emit in eachrow(emits)],\n",
    ")\n",
    "\n",
    "x_scaled_df, x_scalers = minmaxscaledf(x_df);\n",
    "y_scaled_df, y_scalers = minmaxscaledf(y_df);\n",
    "\n",
    "println(\"Done!\")"
   ]
  },
  {
   "cell_type": "markdown",
   "metadata": {},
   "source": [
    "### Loading up previously trained model"
   ]
  },
  {
   "cell_type": "code",
   "execution_count": 4,
   "metadata": {},
   "outputs": [],
   "source": [
    "@load \"../../models/2023-04-10_11-56-25_w=100_d=5_activation=sigmoid_bs=1024_lr=0.001_dr=0.0_1.jld2\" m;"
   ]
  },
  {
   "cell_type": "markdown",
   "metadata": {},
   "source": [
    "```\n",
    "DVAR1: Bmax  [ 8.5, 12.0 ]\n",
    "DVAR2: mX1  [ 5, 140 ]\n",
    "DVAR3: mX2  [ 15, 160 ]\n",
    "DVAR4: mY1  [ 1.005, 1.7 ]\n",
    "DVAR5: mY2  [ 1.055, 1.85 ]\n",
    "DVAR6: mtau1  [ 1, 500 ]\n",
    "DVAR7: mtau2  [ 1, 500 ]\n",
    "DVAR8: PhiY1  [ -89.95, -30 ]\n",
    "DVAR9: PhiY2  [ -87.45, -25 ]\n",
    "DVAR10: Phitau1  [ 1, 500 ]\n",
    "DVAR11: Phitau2  [ 1, 500 ]\n",
    "DVAR12: mY3ref  [ 1.105, 2.0 ]\n",
    "DVAR13: PhiY3ref  [ -84.95, -20 ]\n",
    "DVAR14: Eref  [ 0.055, 0.075 ]\n",
    "```"
   ]
  },
  {
   "cell_type": "markdown",
   "metadata": {},
   "source": [
    "### Sampling for init of acquisition function"
   ]
  },
  {
   "cell_type": "code",
   "execution_count": 5,
   "metadata": {},
   "outputs": [],
   "source": [
    "# bounds of DVARS\n",
    "lower_bound = repeat([-1.], 14); upper_bound = repeat([1.], 14)\n",
    "\n",
    "# smapling to instantiate acquisition function\n",
    "n_samples = 1000\n",
    "initial_samples = Surrogates.sample(n_samples, lower_bound, upper_bound, SobolSample());"
   ]
  },
  {
   "cell_type": "code",
   "execution_count": 6,
   "metadata": {},
   "outputs": [
    {
     "data": {
      "text/plain": [
       "predict (generic function with 1 method)"
      ]
     },
     "execution_count": 6,
     "metadata": {},
     "output_type": "execute_result"
    }
   ],
   "source": [
    "# decorrelating design variables\n",
    "function getdvarprimesing(data_to_transform, dynamic_lower_bound, strict_upper_bound)\n",
    "    (data_to_transform - dynamic_lower_bound) / (strict_upper_bound - dynamic_lower_bound)\n",
    "end\n",
    "\n",
    "function decorr(vec)\n",
    "    maxes = Dict(\n",
    "        \"DVAR3\"=>160.,\n",
    "        \"DVAR5\"=>1.85,\n",
    "        \"DVAR9\"=>-25.,\n",
    "        \"DVAR12\"=>2.,\n",
    "        \"DVAR13\"=>-20.\n",
    "    )\n",
    "    etas = Dict(\n",
    "        \"DVAR3\"=>10.,\n",
    "        \"DVAR5\"=>0.05,\n",
    "        \"DVAR9\"=>2.5,\n",
    "        \"DVAR12\"=>0.05,\n",
    "        \"DVAR13\"=>2.5\n",
    "    )\n",
    "    \n",
    "    decorred_vec = []\n",
    "    \n",
    "    for i in 1:14\n",
    "        if i == 3\n",
    "            append!(decorred_vec, getdvarprimesing(vec[3], etas[\"DVAR3\"] + vec[2], maxes[\"DVAR3\"]))\n",
    "        elseif i == 5\n",
    "            append!(decorred_vec, getdvarprimesing(vec[5], etas[\"DVAR5\"] + vec[4], maxes[\"DVAR5\"]))\n",
    "        elseif i == 9\n",
    "            append!(decorred_vec, getdvarprimesing(vec[9], etas[\"DVAR9\"] + vec[8], maxes[\"DVAR9\"]))\n",
    "        elseif i == 12\n",
    "            append!(decorred_vec, getdvarprimesing(vec[12], etas[\"DVAR12\"] + vec[5], maxes[\"DVAR12\"]))\n",
    "        elseif i == 13\n",
    "            append!(decorred_vec, getdvarprimesing(vec[13], etas[\"DVAR13\"] + vec[9], maxes[\"DVAR13\"]))\n",
    "        else\n",
    "            append!(decorred_vec, vec[i])\n",
    "        end\n",
    "    end\n",
    "    \n",
    "    decorred_vec\n",
    "end\n",
    "\n",
    "function getvarsing(data_to_transform, dynamic_lower_bound, strict_upper_bound)\n",
    "    dynamic_lower_bound + data_to_transform*(strict_upper_bound - dynamic_lower_bound)\n",
    "end\n",
    "\n",
    "function recorr(vec)\n",
    "    maxes = Dict(\n",
    "        \"DVAR3\"=>160.,\n",
    "        \"DVAR5\"=>1.85,\n",
    "        \"DVAR9\"=>-25.,\n",
    "        \"DVAR12\"=>2.,\n",
    "        \"DVAR13\"=>-20.\n",
    "    )\n",
    "    etas = Dict(\n",
    "        \"DVAR3\"=>10.,\n",
    "        \"DVAR5\"=>0.05,\n",
    "        \"DVAR9\"=>2.5,\n",
    "        \"DVAR12\"=>0.05,\n",
    "        \"DVAR13\"=>2.5\n",
    "    )\n",
    "    dvarmap = Dict(\n",
    "        3=>2,\n",
    "        5=>4,\n",
    "        9=>8,\n",
    "        12=>5,\n",
    "        13=>9\n",
    "    )\n",
    "    \n",
    "    recorred_vec = []\n",
    "    \n",
    "    for i in 1:14\n",
    "        if i ∈ [3, 5, 9]\n",
    "            append!(recorred_vec, getvarsing(vec[i], etas[\"DVAR$i\"] + vec[dvarmap[i]], maxes[\"DVAR$i\"]))\n",
    "        elseif i ∈ [12, 13]\n",
    "            append!(recorred_vec, getvarsing(vec[i], etas[\"DVAR$i\"] + recorred_vec[dvarmap[i]], maxes[\"DVAR$i\"]))\n",
    "        else\n",
    "            append!(recorred_vec, vec[i])\n",
    "        end\n",
    "    end\n",
    "    \n",
    "    recorred_vec\n",
    "end\n",
    "\n",
    "function minmaxscale(vec; var=\"x\", inverse=false)\n",
    "    scaled_vec = []\n",
    "    \n",
    "    transform_fun(scaler, x) = inverse ? inverse_transform(scaler, x) : transform(scaler, x)\n",
    "    \n",
    "    if var == \"x\"\n",
    "        for i in 1:14\n",
    "            scaler = x_scalers[\"DVAR$i\"]\n",
    "            append!(scaled_vec, transform_fun(scaler, vec[i]))\n",
    "        end\n",
    "    elseif var == \"y\"\n",
    "        for i in 1:6\n",
    "            scaler = y_scalers[\"OBJ$i\"]\n",
    "            append!(scaled_vec, transform_fun(scaler, vec[i]))\n",
    "        end\n",
    "    end\n",
    "    \n",
    "    return Tuple(scaled_vec)\n",
    "end\n",
    "\n",
    "function predict(x_vec)\n",
    "    m([x for x in x_vec])'\n",
    "end"
   ]
  },
  {
   "cell_type": "markdown",
   "metadata": {},
   "source": [
    "### Minimize emittance"
   ]
  },
  {
   "cell_type": "code",
   "execution_count": 7,
   "metadata": {},
   "outputs": [
    {
     "data": {
      "text/plain": [
       "objective (generic function with 1 method)"
      ]
     },
     "execution_count": 7,
     "metadata": {},
     "output_type": "execute_result"
    }
   ],
   "source": [
    "function objective(x_vec)\n",
    "    predict(x_vec)[5]\n",
    "end"
   ]
  },
  {
   "cell_type": "code",
   "execution_count": 8,
   "metadata": {},
   "outputs": [],
   "source": [
    "# samples to instantiate acquisition function\n",
    "xs = [sample for sample in initial_samples]\n",
    "xs = unique(xs)\n",
    "ys = objective.(xs);"
   ]
  },
  {
   "cell_type": "code",
   "execution_count": 9,
   "metadata": {},
   "outputs": [
    {
     "data": {
      "text/plain": [
       "(::Kriging{Vector{NTuple{14, Float64}}, Vector{Float64}, Vector{Float64}, Vector{Float64}, Vector{Float64}, Vector{Float64}, Float64, Vector{Float64}, Float64, Matrix{Float64}}) (generic function with 2 methods)"
      ]
     },
     "execution_count": 9,
     "metadata": {},
     "output_type": "execute_result"
    }
   ],
   "source": [
    "# surrogate for acquisition function\n",
    "kriging_surrogate = Kriging(xs, ys, lower_bound, upper_bound, p=repeat([1.9], 14))"
   ]
  },
  {
   "cell_type": "code",
   "execution_count": 10,
   "metadata": {},
   "outputs": [
    {
     "name": "stdout",
     "output_type": "stream",
     "text": [
      "Out of sampling points\n"
     ]
    },
    {
     "data": {
      "text/plain": [
       "((-0.294921875, 0.646484375, 0.333984375, 0.869140625, -0.267578125, 0.236328125, -0.330078125, -0.841796875, -0.919921875, -0.533203125, -0.158203125, 0.431640625, 0.337890625, 0.001953125), -1.0554024456579314)"
      ]
     },
     "execution_count": 10,
     "metadata": {},
     "output_type": "execute_result"
    }
   ],
   "source": [
    "# the optimization\n",
    "optimum = surrogate_optimize(\n",
    "    objective, LCBS(), lower_bound, upper_bound, kriging_surrogate, SobolSample(), maxiters=500\n",
    ")"
   ]
  },
  {
   "cell_type": "markdown",
   "metadata": {},
   "source": [
    "### Maximize transmission, minimize emittance."
   ]
  },
  {
   "cell_type": "code",
   "execution_count": 11,
   "metadata": {},
   "outputs": [
    {
     "data": {
      "text/plain": [
       "objective2 (generic function with 1 method)"
      ]
     },
     "execution_count": 11,
     "metadata": {},
     "output_type": "execute_result"
    }
   ],
   "source": [
    "function objective2(x_vec)\n",
    "    y = predict(x_vec)\n",
    "    [-y[1], y[5]]\n",
    "end"
   ]
  },
  {
   "cell_type": "code",
   "execution_count": 12,
   "metadata": {},
   "outputs": [],
   "source": [
    "x2s = [sample for sample in initial_samples];\n",
    "x2s = unique(x2s)\n",
    "y2s = objective2.(x2s);"
   ]
  },
  {
   "cell_type": "code",
   "execution_count": 13,
   "metadata": {},
   "outputs": [
    {
     "name": "stdout",
     "output_type": "stream",
     "text": [
      "1000\n",
      "1000\n"
     ]
    },
    {
     "data": {
      "text/plain": [
       "(::RadialBasis{Surrogates.var\"#1#2\", Int64, Vector{NTuple{14, Float64}}, Vector{Vector{Float64}}, Vector{Float64}, Vector{Float64}, Matrix{Float64}, Float64, Bool}) (generic function with 1 method)"
      ]
     },
     "execution_count": 13,
     "metadata": {},
     "output_type": "execute_result"
    }
   ],
   "source": [
    "println(length(x2s))\n",
    "println(length(y2s))\n",
    "if length(x2s) != length(unique(x2s))\n",
    "    print(\"Duplicate entries in x2\")\n",
    "end\n",
    "if length(x2s) != length(y2s)\n",
    "    print(\"Dimension mismatch between x2 and y\")\n",
    "end\n",
    "radial_basis_ego = RadialBasis(x2s, y2s, lower_bound, upper_bound)"
   ]
  },
  {
   "cell_type": "code",
   "execution_count": 14,
   "metadata": {},
   "outputs": [],
   "source": [
    "pareto_set, pareto_front = surrogate_optimize(\n",
    "    objective2, SMB(), lower_bound, upper_bound, radial_basis_ego, SobolSample();\n",
    "    maxiters = 100, n_new_look = 100\n",
    ");"
   ]
  },
  {
   "cell_type": "code",
   "execution_count": 15,
   "metadata": {},
   "outputs": [
    {
     "data": {
      "text/plain": [
       "16-element Vector{Any}:\n",
       " [-0.8396873197236295, -0.6795768461677891]\n",
       " [0.6480605326687222, -0.9152154770065499]\n",
       " [-0.8063016624285139, -0.767749217573348]\n",
       " [-0.9758630484149978, -0.48722809730894573]\n",
       " [1.0294251535162648, -1.0554024456579314]\n",
       " [0.09757574324446286, -0.898369042498101]\n",
       " [-0.37495762673700594, -0.8305515362002414]\n",
       " [-0.32944077967424984, -0.8567375031486737]\n",
       " [0.9124888696267727, -0.9268261466780641]\n",
       " [-0.9431107909901867, -0.5871693049495221]\n",
       " [-0.9526317500274281, -0.552892119583789]\n",
       " [-0.0216365067173129, -0.8576998558687293]\n",
       " [-0.4522163290233413, -0.8150082713636072]\n",
       " [-0.8160355937256967, -0.743192480242534]\n",
       " [-0.5583861489618449, -0.7832775547251787]\n",
       " [0.9478578342889223, -1.055339164475894]"
      ]
     },
     "execution_count": 15,
     "metadata": {},
     "output_type": "execute_result"
    }
   ],
   "source": [
    "pareto_front"
   ]
  },
  {
   "cell_type": "code",
   "execution_count": 16,
   "metadata": {},
   "outputs": [
    {
     "data": {
      "text/plain": [
       "16-element Vector{Float64}:\n",
       " 0.042927353746839446\n",
       " 0.03204540583666572\n",
       " 0.03885549528570144\n",
       " 0.051810146259334035\n",
       " 0.02557147885313414\n",
       " 0.03282338533069247\n",
       " 0.035955242650964225\n",
       " 0.034745957368257946\n",
       " 0.03150921742766879\n",
       " 0.04719479515262699\n",
       " 0.04877773825635139\n",
       " 0.03470151528279181\n",
       " 0.03667304090715094\n",
       " 0.03998954166649454\n",
       " 0.038138386399877613\n",
       " 0.025574401219998072"
      ]
     },
     "execution_count": 16,
     "metadata": {},
     "output_type": "execute_result"
    }
   ],
   "source": [
    "obj1 = [inverse_transform(y_scalers[\"OBJ1\"], -item[1])[1] for item in pareto_front]\n",
    "obj5 = [inverse_transform(y_scalers[\"OBJ5\"], item[2])[1] for item in pareto_front]"
   ]
  },
  {
   "cell_type": "code",
   "execution_count": 17,
   "metadata": {},
   "outputs": [
    {
     "data": {
      "image/svg+xml": [
       "<?xml version=\"1.0\" encoding=\"utf-8\"?>\n",
       "<svg xmlns=\"http://www.w3.org/2000/svg\" xmlns:xlink=\"http://www.w3.org/1999/xlink\" width=\"600\" height=\"400\" viewBox=\"0 0 2400 1600\">\n",
       "<defs>\n",
       "  <clipPath id=\"clip110\">\n",
       "    <rect x=\"0\" y=\"0\" width=\"2400\" height=\"1600\"/>\n",
       "  </clipPath>\n",
       "</defs>\n",
       "<path clip-path=\"url(#clip110)\" d=\"\n",
       "M0 1600 L2400 1600 L2400 0 L0 0  Z\n",
       "  \" fill=\"#ffffff\" fill-rule=\"evenodd\" fill-opacity=\"1\"/>\n",
       "<defs>\n",
       "  <clipPath id=\"clip111\">\n",
       "    <rect x=\"480\" y=\"0\" width=\"1681\" height=\"1600\"/>\n",
       "  </clipPath>\n",
       "</defs>\n",
       "<path clip-path=\"url(#clip110)\" d=\"\n",
       "M279.704 1423.18 L2352.76 1423.18 L2352.76 47.2441 L279.704 47.2441  Z\n",
       "  \" fill=\"#ffffff\" fill-rule=\"evenodd\" fill-opacity=\"1\"/>\n",
       "<defs>\n",
       "  <clipPath id=\"clip112\">\n",
       "    <rect x=\"279\" y=\"47\" width=\"2074\" height=\"1377\"/>\n",
       "  </clipPath>\n",
       "</defs>\n",
       "<polyline clip-path=\"url(#clip112)\" style=\"stroke:#000000; stroke-linecap:butt; stroke-linejoin:round; stroke-width:2; stroke-opacity:0.1; fill:none\" points=\"\n",
       "  2265.39,1423.18 2265.39,47.2441 \n",
       "  \"/>\n",
       "<polyline clip-path=\"url(#clip112)\" style=\"stroke:#000000; stroke-linecap:butt; stroke-linejoin:round; stroke-width:2; stroke-opacity:0.1; fill:none\" points=\"\n",
       "  1771.58,1423.18 1771.58,47.2441 \n",
       "  \"/>\n",
       "<polyline clip-path=\"url(#clip112)\" style=\"stroke:#000000; stroke-linecap:butt; stroke-linejoin:round; stroke-width:2; stroke-opacity:0.1; fill:none\" points=\"\n",
       "  1277.77,1423.18 1277.77,47.2441 \n",
       "  \"/>\n",
       "<polyline clip-path=\"url(#clip112)\" style=\"stroke:#000000; stroke-linecap:butt; stroke-linejoin:round; stroke-width:2; stroke-opacity:0.1; fill:none\" points=\"\n",
       "  783.955,1423.18 783.955,47.2441 \n",
       "  \"/>\n",
       "<polyline clip-path=\"url(#clip112)\" style=\"stroke:#000000; stroke-linecap:butt; stroke-linejoin:round; stroke-width:2; stroke-opacity:0.1; fill:none\" points=\"\n",
       "  290.144,1423.18 290.144,47.2441 \n",
       "  \"/>\n",
       "<polyline clip-path=\"url(#clip110)\" style=\"stroke:#000000; stroke-linecap:butt; stroke-linejoin:round; stroke-width:4; stroke-opacity:1; fill:none\" points=\"\n",
       "  2352.76,1423.18 279.704,1423.18 \n",
       "  \"/>\n",
       "<polyline clip-path=\"url(#clip110)\" style=\"stroke:#000000; stroke-linecap:butt; stroke-linejoin:round; stroke-width:4; stroke-opacity:1; fill:none\" points=\"\n",
       "  2265.39,1423.18 2265.39,1404.28 \n",
       "  \"/>\n",
       "<polyline clip-path=\"url(#clip110)\" style=\"stroke:#000000; stroke-linecap:butt; stroke-linejoin:round; stroke-width:4; stroke-opacity:1; fill:none\" points=\"\n",
       "  1771.58,1423.18 1771.58,1404.28 \n",
       "  \"/>\n",
       "<polyline clip-path=\"url(#clip110)\" style=\"stroke:#000000; stroke-linecap:butt; stroke-linejoin:round; stroke-width:4; stroke-opacity:1; fill:none\" points=\"\n",
       "  1277.77,1423.18 1277.77,1404.28 \n",
       "  \"/>\n",
       "<polyline clip-path=\"url(#clip110)\" style=\"stroke:#000000; stroke-linecap:butt; stroke-linejoin:round; stroke-width:4; stroke-opacity:1; fill:none\" points=\"\n",
       "  783.955,1423.18 783.955,1404.28 \n",
       "  \"/>\n",
       "<polyline clip-path=\"url(#clip110)\" style=\"stroke:#000000; stroke-linecap:butt; stroke-linejoin:round; stroke-width:4; stroke-opacity:1; fill:none\" points=\"\n",
       "  290.144,1423.18 290.144,1404.28 \n",
       "  \"/>\n",
       "<path clip-path=\"url(#clip110)\" d=\"M2250.79 1466.44 Q2247.64 1466.44 2245.79 1468.59 Q2243.96 1470.74 2243.96 1474.49 Q2243.96 1478.22 2245.79 1480.39 Q2247.64 1482.55 2250.79 1482.55 Q2253.94 1482.55 2255.77 1480.39 Q2257.62 1478.22 2257.62 1474.49 Q2257.62 1470.74 2255.77 1468.59 Q2253.94 1466.44 2250.79 1466.44 M2260.07 1451.78 L2260.07 1456.04 Q2258.32 1455.21 2256.51 1454.77 Q2254.73 1454.33 2252.97 1454.33 Q2248.34 1454.33 2245.88 1457.45 Q2243.45 1460.58 2243.11 1466.9 Q2244.47 1464.89 2246.53 1463.82 Q2248.59 1462.73 2251.07 1462.73 Q2256.28 1462.73 2259.29 1465.9 Q2262.32 1469.05 2262.32 1474.49 Q2262.32 1479.82 2259.17 1483.03 Q2256.02 1486.25 2250.79 1486.25 Q2244.8 1486.25 2241.63 1481.67 Q2238.45 1477.06 2238.45 1468.33 Q2238.45 1460.14 2242.34 1455.28 Q2246.23 1450.39 2252.78 1450.39 Q2254.54 1450.39 2256.32 1450.74 Q2258.13 1451.09 2260.07 1451.78 Z\" fill=\"#000000\" fill-rule=\"evenodd\" fill-opacity=\"1\" /><path clip-path=\"url(#clip110)\" d=\"M2280.38 1454.1 Q2276.76 1454.1 2274.94 1457.66 Q2273.13 1461.2 2273.13 1468.33 Q2273.13 1475.44 2274.94 1479.01 Q2276.76 1482.55 2280.38 1482.55 Q2284.01 1482.55 2285.82 1479.01 Q2287.64 1475.44 2287.64 1468.33 Q2287.64 1461.2 2285.82 1457.66 Q2284.01 1454.1 2280.38 1454.1 M2280.38 1450.39 Q2286.19 1450.39 2289.24 1455 Q2292.32 1459.58 2292.32 1468.33 Q2292.32 1477.06 2289.24 1481.67 Q2286.19 1486.25 2280.38 1486.25 Q2274.57 1486.25 2271.49 1481.67 Q2268.43 1477.06 2268.43 1468.33 Q2268.43 1459.58 2271.49 1455 Q2274.57 1450.39 2280.38 1450.39 Z\" fill=\"#000000\" fill-rule=\"evenodd\" fill-opacity=\"1\" /><path clip-path=\"url(#clip110)\" d=\"M1744.93 1451.02 L1767.16 1451.02 L1767.16 1453.01 L1754.61 1485.58 L1749.72 1485.58 L1761.53 1454.96 L1744.93 1454.96 L1744.93 1451.02 Z\" fill=\"#000000\" fill-rule=\"evenodd\" fill-opacity=\"1\" /><path clip-path=\"url(#clip110)\" d=\"M1786.28 1454.1 Q1782.66 1454.1 1780.84 1457.66 Q1779.03 1461.2 1779.03 1468.33 Q1779.03 1475.44 1780.84 1479.01 Q1782.66 1482.55 1786.28 1482.55 Q1789.91 1482.55 1791.72 1479.01 Q1793.54 1475.44 1793.54 1468.33 Q1793.54 1461.2 1791.72 1457.66 Q1789.91 1454.1 1786.28 1454.1 M1786.28 1450.39 Q1792.09 1450.39 1795.14 1455 Q1798.22 1459.58 1798.22 1468.33 Q1798.22 1477.06 1795.14 1481.67 Q1792.09 1486.25 1786.28 1486.25 Q1780.47 1486.25 1777.39 1481.67 Q1774.33 1477.06 1774.33 1468.33 Q1774.33 1459.58 1777.39 1455 Q1780.47 1450.39 1786.28 1450.39 Z\" fill=\"#000000\" fill-rule=\"evenodd\" fill-opacity=\"1\" /><path clip-path=\"url(#clip110)\" d=\"M1262.64 1469.17 Q1259.31 1469.17 1257.38 1470.95 Q1255.49 1472.73 1255.49 1475.86 Q1255.49 1478.98 1257.38 1480.77 Q1259.31 1482.55 1262.64 1482.55 Q1265.97 1482.55 1267.89 1480.77 Q1269.81 1478.96 1269.81 1475.86 Q1269.81 1472.73 1267.89 1470.95 Q1265.99 1469.17 1262.64 1469.17 M1257.96 1467.18 Q1254.95 1466.44 1253.26 1464.38 Q1251.6 1462.32 1251.6 1459.35 Q1251.6 1455.21 1254.54 1452.8 Q1257.5 1450.39 1262.64 1450.39 Q1267.8 1450.39 1270.74 1452.8 Q1273.68 1455.21 1273.68 1459.35 Q1273.68 1462.32 1271.99 1464.38 Q1270.32 1466.44 1267.34 1467.18 Q1270.72 1467.96 1272.59 1470.26 Q1274.49 1472.55 1274.49 1475.86 Q1274.49 1480.88 1271.41 1483.57 Q1268.36 1486.25 1262.64 1486.25 Q1256.92 1486.25 1253.84 1483.57 Q1250.79 1480.88 1250.79 1475.86 Q1250.79 1472.55 1252.68 1470.26 Q1254.58 1467.96 1257.96 1467.18 M1256.25 1459.79 Q1256.25 1462.48 1257.92 1463.98 Q1259.61 1465.49 1262.64 1465.49 Q1265.65 1465.49 1267.34 1463.98 Q1269.05 1462.48 1269.05 1459.79 Q1269.05 1457.11 1267.34 1455.6 Q1265.65 1454.1 1262.64 1454.1 Q1259.61 1454.1 1257.92 1455.6 Q1256.25 1457.11 1256.25 1459.79 Z\" fill=\"#000000\" fill-rule=\"evenodd\" fill-opacity=\"1\" /><path clip-path=\"url(#clip110)\" d=\"M1292.8 1454.1 Q1289.19 1454.1 1287.36 1457.66 Q1285.56 1461.2 1285.56 1468.33 Q1285.56 1475.44 1287.36 1479.01 Q1289.19 1482.55 1292.8 1482.55 Q1296.43 1482.55 1298.24 1479.01 Q1300.07 1475.44 1300.07 1468.33 Q1300.07 1461.2 1298.24 1457.66 Q1296.43 1454.1 1292.8 1454.1 M1292.8 1450.39 Q1298.61 1450.39 1301.67 1455 Q1304.74 1459.58 1304.74 1468.33 Q1304.74 1477.06 1301.67 1481.67 Q1298.61 1486.25 1292.8 1486.25 Q1286.99 1486.25 1283.91 1481.67 Q1280.86 1477.06 1280.86 1468.33 Q1280.86 1459.58 1283.91 1455 Q1286.99 1450.39 1292.8 1450.39 Z\" fill=\"#000000\" fill-rule=\"evenodd\" fill-opacity=\"1\" /><path clip-path=\"url(#clip110)\" d=\"M759.083 1484.86 L759.083 1480.6 Q760.842 1481.44 762.647 1481.88 Q764.453 1482.32 766.189 1482.32 Q770.819 1482.32 773.249 1479.21 Q775.703 1476.09 776.05 1469.75 Q774.707 1471.74 772.647 1472.8 Q770.587 1473.87 768.087 1473.87 Q762.902 1473.87 759.87 1470.74 Q756.86 1467.59 756.86 1462.15 Q756.86 1456.83 760.008 1453.61 Q763.157 1450.39 768.388 1450.39 Q774.383 1450.39 777.532 1455 Q780.703 1459.58 780.703 1468.33 Q780.703 1476.51 776.814 1481.39 Q772.948 1486.25 766.397 1486.25 Q764.638 1486.25 762.833 1485.9 Q761.027 1485.56 759.083 1484.86 M768.388 1470.21 Q771.536 1470.21 773.365 1468.06 Q775.217 1465.9 775.217 1462.15 Q775.217 1458.43 773.365 1456.27 Q771.536 1454.1 768.388 1454.1 Q765.24 1454.1 763.388 1456.27 Q761.559 1458.43 761.559 1462.15 Q761.559 1465.9 763.388 1468.06 Q765.24 1470.21 768.388 1470.21 Z\" fill=\"#000000\" fill-rule=\"evenodd\" fill-opacity=\"1\" /><path clip-path=\"url(#clip110)\" d=\"M799.105 1454.1 Q795.494 1454.1 793.666 1457.66 Q791.86 1461.2 791.86 1468.33 Q791.86 1475.44 793.666 1479.01 Q795.494 1482.55 799.105 1482.55 Q802.74 1482.55 804.545 1479.01 Q806.374 1475.44 806.374 1468.33 Q806.374 1461.2 804.545 1457.66 Q802.74 1454.1 799.105 1454.1 M799.105 1450.39 Q804.916 1450.39 807.971 1455 Q811.05 1459.58 811.05 1468.33 Q811.05 1477.06 807.971 1481.67 Q804.916 1486.25 799.105 1486.25 Q793.295 1486.25 790.217 1481.67 Q787.161 1477.06 787.161 1468.33 Q787.161 1459.58 790.217 1455 Q793.295 1450.39 799.105 1450.39 Z\" fill=\"#000000\" fill-rule=\"evenodd\" fill-opacity=\"1\" /><path clip-path=\"url(#clip110)\" d=\"M249.751 1481.64 L257.39 1481.64 L257.39 1455.28 L249.08 1456.95 L249.08 1452.69 L257.344 1451.02 L262.02 1451.02 L262.02 1481.64 L269.658 1481.64 L269.658 1485.58 L249.751 1485.58 L249.751 1481.64 Z\" fill=\"#000000\" fill-rule=\"evenodd\" fill-opacity=\"1\" /><path clip-path=\"url(#clip110)\" d=\"M289.103 1454.1 Q285.492 1454.1 283.663 1457.66 Q281.857 1461.2 281.857 1468.33 Q281.857 1475.44 283.663 1479.01 Q285.492 1482.55 289.103 1482.55 Q292.737 1482.55 294.543 1479.01 Q296.371 1475.44 296.371 1468.33 Q296.371 1461.2 294.543 1457.66 Q292.737 1454.1 289.103 1454.1 M289.103 1450.39 Q294.913 1450.39 297.969 1455 Q301.047 1459.58 301.047 1468.33 Q301.047 1477.06 297.969 1481.67 Q294.913 1486.25 289.103 1486.25 Q283.293 1486.25 280.214 1481.67 Q277.158 1477.06 277.158 1468.33 Q277.158 1459.58 280.214 1455 Q283.293 1450.39 289.103 1450.39 Z\" fill=\"#000000\" fill-rule=\"evenodd\" fill-opacity=\"1\" /><path clip-path=\"url(#clip110)\" d=\"M319.265 1454.1 Q315.654 1454.1 313.825 1457.66 Q312.019 1461.2 312.019 1468.33 Q312.019 1475.44 313.825 1479.01 Q315.654 1482.55 319.265 1482.55 Q322.899 1482.55 324.704 1479.01 Q326.533 1475.44 326.533 1468.33 Q326.533 1461.2 324.704 1457.66 Q322.899 1454.1 319.265 1454.1 M319.265 1450.39 Q325.075 1450.39 328.13 1455 Q331.209 1459.58 331.209 1468.33 Q331.209 1477.06 328.13 1481.67 Q325.075 1486.25 319.265 1486.25 Q313.455 1486.25 310.376 1481.67 Q307.32 1477.06 307.32 1468.33 Q307.32 1459.58 310.376 1455 Q313.455 1450.39 319.265 1450.39 Z\" fill=\"#000000\" fill-rule=\"evenodd\" fill-opacity=\"1\" /><path clip-path=\"url(#clip110)\" d=\"M927.683 1536.5 Q922.972 1536.5 920.235 1540.19 Q917.498 1543.85 917.498 1550.25 Q917.498 1556.65 920.203 1560.34 Q922.941 1564 927.683 1564 Q932.362 1564 935.099 1560.31 Q937.836 1556.62 937.836 1550.25 Q937.836 1543.92 935.099 1540.23 Q932.362 1536.5 927.683 1536.5 M927.683 1531.54 Q935.322 1531.54 939.682 1536.5 Q944.043 1541.47 944.043 1550.25 Q944.043 1559 939.682 1564 Q935.322 1568.97 927.683 1568.97 Q920.012 1568.97 915.652 1564 Q911.323 1559 911.323 1550.25 Q911.323 1541.47 915.652 1536.5 Q920.012 1531.54 927.683 1531.54 Z\" fill=\"#000000\" fill-rule=\"evenodd\" fill-opacity=\"1\" /><path clip-path=\"url(#clip110)\" d=\"M979.341 1550.25 Q979.341 1543.79 976.667 1540.13 Q974.025 1536.44 969.378 1536.44 Q964.732 1536.44 962.058 1540.13 Q959.416 1543.79 959.416 1550.25 Q959.416 1556.71 962.058 1560.4 Q964.732 1564.07 969.378 1564.07 Q974.025 1564.07 976.667 1560.4 Q979.341 1556.71 979.341 1550.25 M959.416 1537.81 Q961.262 1534.62 964.063 1533.1 Q966.896 1531.54 970.811 1531.54 Q977.304 1531.54 981.346 1536.69 Q985.42 1541.85 985.42 1550.25 Q985.42 1558.65 981.346 1563.81 Q977.304 1568.97 970.811 1568.97 Q966.896 1568.97 964.063 1567.44 Q961.262 1565.88 959.416 1562.7 L959.416 1568.04 L953.528 1568.04 L953.528 1518.52 L959.416 1518.52 L959.416 1537.81 Z\" fill=\"#000000\" fill-rule=\"evenodd\" fill-opacity=\"1\" /><path clip-path=\"url(#clip110)\" d=\"M995.128 1532.4 L1000.98 1532.4 L1000.98 1568.68 Q1000.98 1575.49 998.374 1578.55 Q995.796 1581.6 990.035 1581.6 L987.807 1581.6 L987.807 1576.64 L989.367 1576.64 Q992.709 1576.64 993.918 1575.08 Q995.128 1573.55 995.128 1568.68 L995.128 1532.4 M995.128 1518.52 L1000.98 1518.52 L1000.98 1525.93 L995.128 1525.93 L995.128 1518.52 Z\" fill=\"#000000\" fill-rule=\"evenodd\" fill-opacity=\"1\" /><path clip-path=\"url(#clip110)\" d=\"M1043.73 1548.76 L1043.73 1551.62 L1016.8 1551.62 Q1017.18 1557.67 1020.43 1560.85 Q1023.71 1564 1029.53 1564 Q1032.91 1564 1036.06 1563.17 Q1039.24 1562.35 1042.36 1560.69 L1042.36 1566.23 Q1039.21 1567.57 1035.9 1568.27 Q1032.59 1568.97 1029.18 1568.97 Q1020.65 1568.97 1015.66 1564 Q1010.69 1559.04 1010.69 1550.57 Q1010.69 1541.82 1015.4 1536.69 Q1020.14 1531.54 1028.17 1531.54 Q1035.36 1531.54 1039.53 1536.18 Q1043.73 1540.8 1043.73 1548.76 M1037.87 1547.04 Q1037.81 1542.23 1035.17 1539.37 Q1032.56 1536.5 1028.23 1536.5 Q1023.33 1536.5 1020.37 1539.27 Q1017.44 1542.04 1016.99 1547.07 L1037.87 1547.04 Z\" fill=\"#000000\" fill-rule=\"evenodd\" fill-opacity=\"1\" /><path clip-path=\"url(#clip110)\" d=\"M1079 1533.76 L1079 1539.24 Q1076.51 1537.87 1074 1537.2 Q1071.52 1536.5 1068.97 1536.5 Q1063.27 1536.5 1060.12 1540.13 Q1056.97 1543.73 1056.97 1550.25 Q1056.97 1556.78 1060.12 1560.4 Q1063.27 1564 1068.97 1564 Q1071.52 1564 1074 1563.33 Q1076.51 1562.63 1079 1561.26 L1079 1566.68 Q1076.55 1567.82 1073.9 1568.39 Q1071.29 1568.97 1068.33 1568.97 Q1060.28 1568.97 1055.54 1563.91 Q1050.8 1558.85 1050.8 1550.25 Q1050.8 1541.53 1055.57 1536.53 Q1060.38 1531.54 1068.72 1531.54 Q1071.42 1531.54 1074 1532.11 Q1076.58 1532.65 1079 1533.76 Z\" fill=\"#000000\" fill-rule=\"evenodd\" fill-opacity=\"1\" /><path clip-path=\"url(#clip110)\" d=\"M1094.97 1522.27 L1094.97 1532.4 L1107.04 1532.4 L1107.04 1536.95 L1094.97 1536.95 L1094.97 1556.3 Q1094.97 1560.66 1096.15 1561.9 Q1097.36 1563.14 1101.02 1563.14 L1107.04 1563.14 L1107.04 1568.04 L1101.02 1568.04 Q1094.24 1568.04 1091.66 1565.53 Q1089.09 1562.98 1089.09 1556.3 L1089.09 1536.95 L1084.79 1536.95 L1084.79 1532.4 L1089.09 1532.4 L1089.09 1522.27 L1094.97 1522.27 Z\" fill=\"#000000\" fill-rule=\"evenodd\" fill-opacity=\"1\" /><path clip-path=\"url(#clip110)\" d=\"M1114.74 1532.4 L1120.6 1532.4 L1120.6 1568.04 L1114.74 1568.04 L1114.74 1532.4 M1114.74 1518.52 L1120.6 1518.52 L1120.6 1525.93 L1114.74 1525.93 L1114.74 1518.52 Z\" fill=\"#000000\" fill-rule=\"evenodd\" fill-opacity=\"1\" /><path clip-path=\"url(#clip110)\" d=\"M1128.65 1532.4 L1134.86 1532.4 L1145.99 1562.31 L1157.13 1532.4 L1163.34 1532.4 L1149.97 1568.04 L1142.02 1568.04 L1128.65 1532.4 Z\" fill=\"#000000\" fill-rule=\"evenodd\" fill-opacity=\"1\" /><path clip-path=\"url(#clip110)\" d=\"M1201.92 1548.76 L1201.92 1551.62 L1174.99 1551.62 Q1175.37 1557.67 1178.62 1560.85 Q1181.9 1564 1187.72 1564 Q1191.1 1564 1194.25 1563.17 Q1197.43 1562.35 1200.55 1560.69 L1200.55 1566.23 Q1197.4 1567.57 1194.09 1568.27 Q1190.78 1568.97 1187.37 1568.97 Q1178.84 1568.97 1173.84 1564 Q1168.88 1559.04 1168.88 1550.57 Q1168.88 1541.82 1173.59 1536.69 Q1178.33 1531.54 1186.35 1531.54 Q1193.55 1531.54 1197.72 1536.18 Q1201.92 1540.8 1201.92 1548.76 M1196.06 1547.04 Q1196 1542.23 1193.36 1539.37 Q1190.75 1536.5 1186.42 1536.5 Q1181.52 1536.5 1178.56 1539.27 Q1175.63 1542.04 1175.18 1547.07 L1196.06 1547.04 Z\" fill=\"#000000\" fill-rule=\"evenodd\" fill-opacity=\"1\" /><path clip-path=\"url(#clip110)\" d=\"M1234.19 1562.63 L1244.7 1562.63 L1244.7 1526.38 L1233.27 1528.67 L1233.27 1522.82 L1244.63 1520.52 L1251.06 1520.52 L1251.06 1562.63 L1261.56 1562.63 L1261.56 1568.04 L1234.19 1568.04 L1234.19 1562.63 Z\" fill=\"#000000\" fill-rule=\"evenodd\" fill-opacity=\"1\" /><path clip-path=\"url(#clip110)\" d=\"M1275.22 1559.96 L1281.93 1559.96 L1281.93 1568.04 L1275.22 1568.04 L1275.22 1559.96 M1275.22 1534.34 L1281.93 1534.34 L1281.93 1542.42 L1275.22 1542.42 L1275.22 1534.34 Z\" fill=\"#000000\" fill-rule=\"evenodd\" fill-opacity=\"1\" /><path clip-path=\"url(#clip110)\" d=\"M1322.2 1522.27 L1322.2 1532.4 L1334.26 1532.4 L1334.26 1536.95 L1322.2 1536.95 L1322.2 1556.3 Q1322.2 1560.66 1323.38 1561.9 Q1324.58 1563.14 1328.25 1563.14 L1334.26 1563.14 L1334.26 1568.04 L1328.25 1568.04 Q1321.47 1568.04 1318.89 1565.53 Q1316.31 1562.98 1316.31 1556.3 L1316.31 1536.95 L1312.01 1536.95 L1312.01 1532.4 L1316.31 1532.4 L1316.31 1522.27 L1322.2 1522.27 Z\" fill=\"#000000\" fill-rule=\"evenodd\" fill-opacity=\"1\" /><path clip-path=\"url(#clip110)\" d=\"M1362.62 1537.87 Q1361.63 1537.3 1360.46 1537.04 Q1359.31 1536.76 1357.91 1536.76 Q1352.94 1536.76 1350.27 1540 Q1347.63 1543.22 1347.63 1549.27 L1347.63 1568.04 L1341.74 1568.04 L1341.74 1532.4 L1347.63 1532.4 L1347.63 1537.93 Q1349.47 1534.69 1352.43 1533.13 Q1355.39 1531.54 1359.63 1531.54 Q1360.23 1531.54 1360.96 1531.63 Q1361.7 1531.7 1362.59 1531.85 L1362.62 1537.87 Z\" fill=\"#000000\" fill-rule=\"evenodd\" fill-opacity=\"1\" /><path clip-path=\"url(#clip110)\" d=\"M1384.96 1550.12 Q1377.87 1550.12 1375.13 1551.75 Q1372.39 1553.37 1372.39 1557.29 Q1372.39 1560.4 1374.43 1562.25 Q1376.5 1564.07 1380.03 1564.07 Q1384.9 1564.07 1387.83 1560.63 Q1390.79 1557.16 1390.79 1551.43 L1390.79 1550.12 L1384.96 1550.12 M1396.64 1547.71 L1396.64 1568.04 L1390.79 1568.04 L1390.79 1562.63 Q1388.78 1565.88 1385.79 1567.44 Q1382.8 1568.97 1378.47 1568.97 Q1373 1568.97 1369.75 1565.91 Q1366.53 1562.82 1366.53 1557.67 Q1366.53 1551.65 1370.55 1548.6 Q1374.59 1545.54 1382.58 1545.54 L1390.79 1545.54 L1390.79 1544.97 Q1390.79 1540.93 1388.11 1538.73 Q1385.47 1536.5 1380.67 1536.5 Q1377.61 1536.5 1374.71 1537.23 Q1371.82 1537.97 1369.14 1539.43 L1369.14 1534.02 Q1372.36 1532.78 1375.38 1532.17 Q1378.41 1531.54 1381.27 1531.54 Q1389.01 1531.54 1392.83 1535.55 Q1396.64 1539.56 1396.64 1547.71 Z\" fill=\"#000000\" fill-rule=\"evenodd\" fill-opacity=\"1\" /><path clip-path=\"url(#clip110)\" d=\"M1438.34 1546.53 L1438.34 1568.04 L1432.48 1568.04 L1432.48 1546.72 Q1432.48 1541.66 1430.51 1539.14 Q1428.54 1536.63 1424.59 1536.63 Q1419.85 1536.63 1417.11 1539.65 Q1414.37 1542.68 1414.37 1547.9 L1414.37 1568.04 L1408.48 1568.04 L1408.48 1532.4 L1414.37 1532.4 L1414.37 1537.93 Q1416.47 1534.72 1419.31 1533.13 Q1422.17 1531.54 1425.9 1531.54 Q1432.04 1531.54 1435.19 1535.36 Q1438.34 1539.14 1438.34 1546.53 Z\" fill=\"#000000\" fill-rule=\"evenodd\" fill-opacity=\"1\" /><path clip-path=\"url(#clip110)\" d=\"M1472.75 1533.45 L1472.75 1538.98 Q1470.26 1537.71 1467.59 1537.07 Q1464.92 1536.44 1462.05 1536.44 Q1457.69 1536.44 1455.5 1537.77 Q1453.33 1539.11 1453.33 1541.79 Q1453.33 1543.82 1454.89 1545 Q1456.45 1546.15 1461.16 1547.2 L1463.17 1547.64 Q1469.4 1548.98 1472.01 1551.43 Q1474.66 1553.85 1474.66 1558.21 Q1474.66 1563.17 1470.71 1566.07 Q1466.79 1568.97 1459.92 1568.97 Q1457.06 1568.97 1453.94 1568.39 Q1450.85 1567.85 1447.41 1566.74 L1447.41 1560.69 Q1450.66 1562.38 1453.81 1563.24 Q1456.96 1564.07 1460.05 1564.07 Q1464.18 1564.07 1466.41 1562.66 Q1468.64 1561.23 1468.64 1558.65 Q1468.64 1556.27 1467.02 1554.99 Q1465.43 1553.72 1459.98 1552.54 L1457.95 1552.07 Q1452.5 1550.92 1450.08 1548.56 Q1447.67 1546.18 1447.67 1542.04 Q1447.67 1537.01 1451.23 1534.27 Q1454.8 1531.54 1461.35 1531.54 Q1464.6 1531.54 1467.46 1532.01 Q1470.33 1532.49 1472.75 1533.45 Z\" fill=\"#000000\" fill-rule=\"evenodd\" fill-opacity=\"1\" /><path clip-path=\"url(#clip110)\" d=\"M1511.74 1539.24 Q1513.93 1535.29 1516.99 1533.41 Q1520.04 1531.54 1524.18 1531.54 Q1529.75 1531.54 1532.78 1535.45 Q1535.8 1539.33 1535.8 1546.53 L1535.8 1568.04 L1529.91 1568.04 L1529.91 1546.72 Q1529.91 1541.59 1528.1 1539.11 Q1526.28 1536.63 1522.56 1536.63 Q1518.01 1536.63 1515.37 1539.65 Q1512.72 1542.68 1512.72 1547.9 L1512.72 1568.04 L1506.84 1568.04 L1506.84 1546.72 Q1506.84 1541.56 1505.02 1539.11 Q1503.21 1536.63 1499.42 1536.63 Q1494.93 1536.63 1492.29 1539.68 Q1489.65 1542.71 1489.65 1547.9 L1489.65 1568.04 L1483.76 1568.04 L1483.76 1532.4 L1489.65 1532.4 L1489.65 1537.93 Q1491.65 1534.66 1494.45 1533.1 Q1497.25 1531.54 1501.11 1531.54 Q1504.99 1531.54 1507.69 1533.51 Q1510.43 1535.48 1511.74 1539.24 Z\" fill=\"#000000\" fill-rule=\"evenodd\" fill-opacity=\"1\" /><path clip-path=\"url(#clip110)\" d=\"M1547.48 1532.4 L1553.34 1532.4 L1553.34 1568.04 L1547.48 1568.04 L1547.48 1532.4 M1547.48 1518.52 L1553.34 1518.52 L1553.34 1525.93 L1547.48 1525.93 L1547.48 1518.52 Z\" fill=\"#000000\" fill-rule=\"evenodd\" fill-opacity=\"1\" /><path clip-path=\"url(#clip110)\" d=\"M1588.32 1533.45 L1588.32 1538.98 Q1585.83 1537.71 1583.16 1537.07 Q1580.49 1536.44 1577.62 1536.44 Q1573.26 1536.44 1571.07 1537.77 Q1568.9 1539.11 1568.9 1541.79 Q1568.9 1543.82 1570.46 1545 Q1572.02 1546.15 1576.73 1547.2 L1578.74 1547.64 Q1584.97 1548.98 1587.58 1551.43 Q1590.23 1553.85 1590.23 1558.21 Q1590.23 1563.17 1586.28 1566.07 Q1582.36 1568.97 1575.49 1568.97 Q1572.62 1568.97 1569.51 1568.39 Q1566.42 1567.85 1562.98 1566.74 L1562.98 1560.69 Q1566.23 1562.38 1569.38 1563.24 Q1572.53 1564.07 1575.62 1564.07 Q1579.75 1564.07 1581.98 1562.66 Q1584.21 1561.23 1584.21 1558.65 Q1584.21 1556.27 1582.59 1554.99 Q1581 1553.72 1575.55 1552.54 L1573.52 1552.07 Q1568.07 1550.92 1565.65 1548.56 Q1563.24 1546.18 1563.24 1542.04 Q1563.24 1537.01 1566.8 1534.27 Q1570.36 1531.54 1576.92 1531.54 Q1580.17 1531.54 1583.03 1532.01 Q1585.9 1532.49 1588.32 1533.45 Z\" fill=\"#000000\" fill-rule=\"evenodd\" fill-opacity=\"1\" /><path clip-path=\"url(#clip110)\" d=\"M1622.28 1533.45 L1622.28 1538.98 Q1619.79 1537.71 1617.12 1537.07 Q1614.45 1536.44 1611.58 1536.44 Q1607.22 1536.44 1605.03 1537.77 Q1602.86 1539.11 1602.86 1541.79 Q1602.86 1543.82 1604.42 1545 Q1605.98 1546.15 1610.69 1547.2 L1612.7 1547.64 Q1618.94 1548.98 1621.55 1551.43 Q1624.19 1553.85 1624.19 1558.21 Q1624.19 1563.17 1620.24 1566.07 Q1616.33 1568.97 1609.45 1568.97 Q1606.59 1568.97 1603.47 1568.39 Q1600.38 1567.85 1596.94 1566.74 L1596.94 1560.69 Q1600.19 1562.38 1603.34 1563.24 Q1606.49 1564.07 1609.58 1564.07 Q1613.72 1564.07 1615.94 1562.66 Q1618.17 1561.23 1618.17 1558.65 Q1618.17 1556.27 1616.55 1554.99 Q1614.96 1553.72 1609.51 1552.54 L1607.48 1552.07 Q1602.03 1550.92 1599.62 1548.56 Q1597.2 1546.18 1597.2 1542.04 Q1597.2 1537.01 1600.76 1534.27 Q1604.33 1531.54 1610.88 1531.54 Q1614.13 1531.54 1616.99 1532.01 Q1619.86 1532.49 1622.28 1533.45 Z\" fill=\"#000000\" fill-rule=\"evenodd\" fill-opacity=\"1\" /><path clip-path=\"url(#clip110)\" d=\"M1633.51 1532.4 L1639.37 1532.4 L1639.37 1568.04 L1633.51 1568.04 L1633.51 1532.4 M1633.51 1518.52 L1639.37 1518.52 L1639.37 1525.93 L1633.51 1525.93 L1633.51 1518.52 Z\" fill=\"#000000\" fill-rule=\"evenodd\" fill-opacity=\"1\" /><path clip-path=\"url(#clip110)\" d=\"M1665.44 1536.5 Q1660.73 1536.5 1657.99 1540.19 Q1655.25 1543.85 1655.25 1550.25 Q1655.25 1556.65 1657.96 1560.34 Q1660.69 1564 1665.44 1564 Q1670.12 1564 1672.85 1560.31 Q1675.59 1556.62 1675.59 1550.25 Q1675.59 1543.92 1672.85 1540.23 Q1670.12 1536.5 1665.44 1536.5 M1665.44 1531.54 Q1673.08 1531.54 1677.44 1536.5 Q1681.8 1541.47 1681.8 1550.25 Q1681.8 1559 1677.44 1564 Q1673.08 1568.97 1665.44 1568.97 Q1657.77 1568.97 1653.41 1564 Q1649.08 1559 1649.08 1550.25 Q1649.08 1541.47 1653.41 1536.5 Q1657.77 1531.54 1665.44 1531.54 Z\" fill=\"#000000\" fill-rule=\"evenodd\" fill-opacity=\"1\" /><path clip-path=\"url(#clip110)\" d=\"M1721.14 1546.53 L1721.14 1568.04 L1715.28 1568.04 L1715.28 1546.72 Q1715.28 1541.66 1713.31 1539.14 Q1711.33 1536.63 1707.39 1536.63 Q1702.64 1536.63 1699.91 1539.65 Q1697.17 1542.68 1697.17 1547.9 L1697.17 1568.04 L1691.28 1568.04 L1691.28 1532.4 L1697.17 1532.4 L1697.17 1537.93 Q1699.27 1534.72 1702.1 1533.13 Q1704.97 1531.54 1708.69 1531.54 Q1714.83 1531.54 1717.99 1535.36 Q1721.14 1539.14 1721.14 1546.53 Z\" fill=\"#000000\" fill-rule=\"evenodd\" fill-opacity=\"1\" /><polyline clip-path=\"url(#clip112)\" style=\"stroke:#000000; stroke-linecap:butt; stroke-linejoin:round; stroke-width:2; stroke-opacity:0.1; fill:none\" points=\"\n",
       "  2352.76,1412.51 279.704,1412.51 \n",
       "  \"/>\n",
       "<polyline clip-path=\"url(#clip112)\" style=\"stroke:#000000; stroke-linecap:butt; stroke-linejoin:round; stroke-width:2; stroke-opacity:0.1; fill:none\" points=\"\n",
       "  2352.76,1165.15 279.704,1165.15 \n",
       "  \"/>\n",
       "<polyline clip-path=\"url(#clip112)\" style=\"stroke:#000000; stroke-linecap:butt; stroke-linejoin:round; stroke-width:2; stroke-opacity:0.1; fill:none\" points=\"\n",
       "  2352.76,917.8 279.704,917.8 \n",
       "  \"/>\n",
       "<polyline clip-path=\"url(#clip112)\" style=\"stroke:#000000; stroke-linecap:butt; stroke-linejoin:round; stroke-width:2; stroke-opacity:0.1; fill:none\" points=\"\n",
       "  2352.76,670.445 279.704,670.445 \n",
       "  \"/>\n",
       "<polyline clip-path=\"url(#clip112)\" style=\"stroke:#000000; stroke-linecap:butt; stroke-linejoin:round; stroke-width:2; stroke-opacity:0.1; fill:none\" points=\"\n",
       "  2352.76,423.09 279.704,423.09 \n",
       "  \"/>\n",
       "<polyline clip-path=\"url(#clip112)\" style=\"stroke:#000000; stroke-linecap:butt; stroke-linejoin:round; stroke-width:2; stroke-opacity:0.1; fill:none\" points=\"\n",
       "  2352.76,175.735 279.704,175.735 \n",
       "  \"/>\n",
       "<polyline clip-path=\"url(#clip110)\" style=\"stroke:#000000; stroke-linecap:butt; stroke-linejoin:round; stroke-width:4; stroke-opacity:1; fill:none\" points=\"\n",
       "  279.704,1423.18 279.704,47.2441 \n",
       "  \"/>\n",
       "<polyline clip-path=\"url(#clip110)\" style=\"stroke:#000000; stroke-linecap:butt; stroke-linejoin:round; stroke-width:4; stroke-opacity:1; fill:none\" points=\"\n",
       "  279.704,1412.51 298.602,1412.51 \n",
       "  \"/>\n",
       "<polyline clip-path=\"url(#clip110)\" style=\"stroke:#000000; stroke-linecap:butt; stroke-linejoin:round; stroke-width:4; stroke-opacity:1; fill:none\" points=\"\n",
       "  279.704,1165.15 298.602,1165.15 \n",
       "  \"/>\n",
       "<polyline clip-path=\"url(#clip110)\" style=\"stroke:#000000; stroke-linecap:butt; stroke-linejoin:round; stroke-width:4; stroke-opacity:1; fill:none\" points=\"\n",
       "  279.704,917.8 298.602,917.8 \n",
       "  \"/>\n",
       "<polyline clip-path=\"url(#clip110)\" style=\"stroke:#000000; stroke-linecap:butt; stroke-linejoin:round; stroke-width:4; stroke-opacity:1; fill:none\" points=\"\n",
       "  279.704,670.445 298.602,670.445 \n",
       "  \"/>\n",
       "<polyline clip-path=\"url(#clip110)\" style=\"stroke:#000000; stroke-linecap:butt; stroke-linejoin:round; stroke-width:4; stroke-opacity:1; fill:none\" points=\"\n",
       "  279.704,423.09 298.602,423.09 \n",
       "  \"/>\n",
       "<polyline clip-path=\"url(#clip110)\" style=\"stroke:#000000; stroke-linecap:butt; stroke-linejoin:round; stroke-width:4; stroke-opacity:1; fill:none\" points=\"\n",
       "  279.704,175.735 298.602,175.735 \n",
       "  \"/>\n",
       "<path clip-path=\"url(#clip110)\" d=\"M127.2 1398.31 Q123.589 1398.31 121.76 1401.87 Q119.955 1405.42 119.955 1412.54 Q119.955 1419.65 121.76 1423.22 Q123.589 1426.76 127.2 1426.76 Q130.834 1426.76 132.64 1423.22 Q134.468 1419.65 134.468 1412.54 Q134.468 1405.42 132.64 1401.87 Q130.834 1398.31 127.2 1398.31 M127.2 1394.6 Q133.01 1394.6 136.066 1399.21 Q139.144 1403.79 139.144 1412.54 Q139.144 1421.27 136.066 1425.88 Q133.01 1430.46 127.2 1430.46 Q121.39 1430.46 118.311 1425.88 Q115.256 1421.27 115.256 1412.54 Q115.256 1403.79 118.311 1399.21 Q121.39 1394.6 127.2 1394.6 Z\" fill=\"#000000\" fill-rule=\"evenodd\" fill-opacity=\"1\" /><path clip-path=\"url(#clip110)\" d=\"M147.362 1423.91 L152.246 1423.91 L152.246 1429.79 L147.362 1429.79 L147.362 1423.91 Z\" fill=\"#000000\" fill-rule=\"evenodd\" fill-opacity=\"1\" /><path clip-path=\"url(#clip110)\" d=\"M172.431 1398.31 Q168.82 1398.31 166.991 1401.87 Q165.186 1405.42 165.186 1412.54 Q165.186 1419.65 166.991 1423.22 Q168.82 1426.76 172.431 1426.76 Q176.065 1426.76 177.871 1423.22 Q179.7 1419.65 179.7 1412.54 Q179.7 1405.42 177.871 1401.87 Q176.065 1398.31 172.431 1398.31 M172.431 1394.6 Q178.241 1394.6 181.297 1399.21 Q184.376 1403.79 184.376 1412.54 Q184.376 1421.27 181.297 1425.88 Q178.241 1430.46 172.431 1430.46 Q166.621 1430.46 163.542 1425.88 Q160.487 1421.27 160.487 1412.54 Q160.487 1403.79 163.542 1399.21 Q166.621 1394.6 172.431 1394.6 Z\" fill=\"#000000\" fill-rule=\"evenodd\" fill-opacity=\"1\" /><path clip-path=\"url(#clip110)\" d=\"M196.621 1425.85 L212.94 1425.85 L212.94 1429.79 L190.996 1429.79 L190.996 1425.85 Q193.658 1423.1 198.241 1418.47 Q202.848 1413.82 204.028 1412.48 Q206.274 1409.95 207.153 1408.22 Q208.056 1406.46 208.056 1404.77 Q208.056 1402.01 206.112 1400.28 Q204.19 1398.54 201.088 1398.54 Q198.889 1398.54 196.436 1399.3 Q194.005 1400.07 191.227 1401.62 L191.227 1396.9 Q194.051 1395.76 196.505 1395.18 Q198.959 1394.6 200.996 1394.6 Q206.366 1394.6 209.561 1397.29 Q212.755 1399.98 212.755 1404.47 Q212.755 1406.6 211.945 1408.52 Q211.158 1410.41 209.051 1413.01 Q208.473 1413.68 205.371 1416.9 Q202.269 1420.09 196.621 1425.85 Z\" fill=\"#000000\" fill-rule=\"evenodd\" fill-opacity=\"1\" /><path clip-path=\"url(#clip110)\" d=\"M222.801 1395.23 L241.158 1395.23 L241.158 1399.17 L227.084 1399.17 L227.084 1407.64 Q228.102 1407.29 229.121 1407.13 Q230.139 1406.94 231.158 1406.94 Q236.945 1406.94 240.324 1410.11 Q243.704 1413.29 243.704 1418.7 Q243.704 1424.28 240.232 1427.38 Q236.76 1430.46 230.44 1430.46 Q228.264 1430.46 225.996 1430.09 Q223.75 1429.72 221.343 1428.98 L221.343 1424.28 Q223.426 1425.41 225.648 1425.97 Q227.871 1426.53 230.347 1426.53 Q234.352 1426.53 236.69 1424.42 Q239.028 1422.31 239.028 1418.7 Q239.028 1415.09 236.69 1412.98 Q234.352 1410.88 230.347 1410.88 Q228.473 1410.88 226.598 1411.29 Q224.746 1411.71 222.801 1412.59 L222.801 1395.23 Z\" fill=\"#000000\" fill-rule=\"evenodd\" fill-opacity=\"1\" /><path clip-path=\"url(#clip110)\" d=\"M126.205 1150.95 Q122.593 1150.95 120.765 1154.52 Q118.959 1158.06 118.959 1165.19 Q118.959 1172.3 120.765 1175.86 Q122.593 1179.4 126.205 1179.4 Q129.839 1179.4 131.644 1175.86 Q133.473 1172.3 133.473 1165.19 Q133.473 1158.06 131.644 1154.52 Q129.839 1150.95 126.205 1150.95 M126.205 1147.25 Q132.015 1147.25 135.07 1151.86 Q138.149 1156.44 138.149 1165.19 Q138.149 1173.92 135.07 1178.52 Q132.015 1183.11 126.205 1183.11 Q120.394 1183.11 117.316 1178.52 Q114.26 1173.92 114.26 1165.19 Q114.26 1156.44 117.316 1151.86 Q120.394 1147.25 126.205 1147.25 Z\" fill=\"#000000\" fill-rule=\"evenodd\" fill-opacity=\"1\" /><path clip-path=\"url(#clip110)\" d=\"M146.366 1176.56 L151.251 1176.56 L151.251 1182.43 L146.366 1182.43 L146.366 1176.56 Z\" fill=\"#000000\" fill-rule=\"evenodd\" fill-opacity=\"1\" /><path clip-path=\"url(#clip110)\" d=\"M171.436 1150.95 Q167.825 1150.95 165.996 1154.52 Q164.19 1158.06 164.19 1165.19 Q164.19 1172.3 165.996 1175.86 Q167.825 1179.4 171.436 1179.4 Q175.07 1179.4 176.876 1175.86 Q178.704 1172.3 178.704 1165.19 Q178.704 1158.06 176.876 1154.52 Q175.07 1150.95 171.436 1150.95 M171.436 1147.25 Q177.246 1147.25 180.301 1151.86 Q183.38 1156.44 183.38 1165.19 Q183.38 1173.92 180.301 1178.52 Q177.246 1183.11 171.436 1183.11 Q165.626 1183.11 162.547 1178.52 Q159.491 1173.92 159.491 1165.19 Q159.491 1156.44 162.547 1151.86 Q165.626 1147.25 171.436 1147.25 Z\" fill=\"#000000\" fill-rule=\"evenodd\" fill-opacity=\"1\" /><path clip-path=\"url(#clip110)\" d=\"M205.764 1163.8 Q209.121 1164.52 210.996 1166.79 Q212.894 1169.06 212.894 1172.39 Q212.894 1177.5 209.375 1180.31 Q205.857 1183.11 199.375 1183.11 Q197.2 1183.11 194.885 1182.67 Q192.593 1182.25 190.139 1181.39 L190.139 1176.88 Q192.084 1178.01 194.399 1178.59 Q196.713 1179.17 199.237 1179.17 Q203.635 1179.17 205.926 1177.44 Q208.241 1175.7 208.241 1172.39 Q208.241 1169.33 206.088 1167.62 Q203.959 1165.88 200.139 1165.88 L196.112 1165.88 L196.112 1162.04 L200.325 1162.04 Q203.774 1162.04 205.602 1160.68 Q207.431 1159.29 207.431 1156.69 Q207.431 1154.03 205.533 1152.62 Q203.658 1151.19 200.139 1151.19 Q198.218 1151.19 196.019 1151.6 Q193.82 1152.02 191.181 1152.9 L191.181 1148.73 Q193.843 1147.99 196.158 1147.62 Q198.496 1147.25 200.556 1147.25 Q205.88 1147.25 208.982 1149.68 Q212.084 1152.09 212.084 1156.21 Q212.084 1159.08 210.44 1161.07 Q208.797 1163.04 205.764 1163.8 Z\" fill=\"#000000\" fill-rule=\"evenodd\" fill-opacity=\"1\" /><path clip-path=\"url(#clip110)\" d=\"M231.76 1150.95 Q228.148 1150.95 226.32 1154.52 Q224.514 1158.06 224.514 1165.19 Q224.514 1172.3 226.32 1175.86 Q228.148 1179.4 231.76 1179.4 Q235.394 1179.4 237.199 1175.86 Q239.028 1172.3 239.028 1165.19 Q239.028 1158.06 237.199 1154.52 Q235.394 1150.95 231.76 1150.95 M231.76 1147.25 Q237.57 1147.25 240.625 1151.86 Q243.704 1156.44 243.704 1165.19 Q243.704 1173.92 240.625 1178.52 Q237.57 1183.11 231.76 1183.11 Q225.949 1183.11 222.871 1178.52 Q219.815 1173.92 219.815 1165.19 Q219.815 1156.44 222.871 1151.86 Q225.949 1147.25 231.76 1147.25 Z\" fill=\"#000000\" fill-rule=\"evenodd\" fill-opacity=\"1\" /><path clip-path=\"url(#clip110)\" d=\"M127.2 903.599 Q123.589 903.599 121.76 907.164 Q119.955 910.705 119.955 917.835 Q119.955 924.941 121.76 928.506 Q123.589 932.048 127.2 932.048 Q130.834 932.048 132.64 928.506 Q134.468 924.941 134.468 917.835 Q134.468 910.705 132.64 907.164 Q130.834 903.599 127.2 903.599 M127.2 899.895 Q133.01 899.895 136.066 904.502 Q139.144 909.085 139.144 917.835 Q139.144 926.562 136.066 931.168 Q133.01 935.751 127.2 935.751 Q121.39 935.751 118.311 931.168 Q115.256 926.562 115.256 917.835 Q115.256 909.085 118.311 904.502 Q121.39 899.895 127.2 899.895 Z\" fill=\"#000000\" fill-rule=\"evenodd\" fill-opacity=\"1\" /><path clip-path=\"url(#clip110)\" d=\"M147.362 929.2 L152.246 929.2 L152.246 935.08 L147.362 935.08 L147.362 929.2 Z\" fill=\"#000000\" fill-rule=\"evenodd\" fill-opacity=\"1\" /><path clip-path=\"url(#clip110)\" d=\"M172.431 903.599 Q168.82 903.599 166.991 907.164 Q165.186 910.705 165.186 917.835 Q165.186 924.941 166.991 928.506 Q168.82 932.048 172.431 932.048 Q176.065 932.048 177.871 928.506 Q179.7 924.941 179.7 917.835 Q179.7 910.705 177.871 907.164 Q176.065 903.599 172.431 903.599 M172.431 899.895 Q178.241 899.895 181.297 904.502 Q184.376 909.085 184.376 917.835 Q184.376 926.562 181.297 931.168 Q178.241 935.751 172.431 935.751 Q166.621 935.751 163.542 931.168 Q160.487 926.562 160.487 917.835 Q160.487 909.085 163.542 904.502 Q166.621 899.895 172.431 899.895 Z\" fill=\"#000000\" fill-rule=\"evenodd\" fill-opacity=\"1\" /><path clip-path=\"url(#clip110)\" d=\"M206.76 916.446 Q210.116 917.164 211.991 919.432 Q213.889 921.701 213.889 925.034 Q213.889 930.15 210.371 932.95 Q206.852 935.751 200.371 935.751 Q198.195 935.751 195.88 935.312 Q193.588 934.895 191.135 934.038 L191.135 929.525 Q193.079 930.659 195.394 931.238 Q197.709 931.816 200.232 931.816 Q204.63 931.816 206.922 930.08 Q209.237 928.344 209.237 925.034 Q209.237 921.978 207.084 920.265 Q204.954 918.529 201.135 918.529 L197.107 918.529 L197.107 914.687 L201.32 914.687 Q204.769 914.687 206.598 913.321 Q208.426 911.932 208.426 909.339 Q208.426 906.677 206.528 905.265 Q204.653 903.83 201.135 903.83 Q199.213 903.83 197.014 904.247 Q194.815 904.664 192.176 905.543 L192.176 901.377 Q194.838 900.636 197.153 900.265 Q199.491 899.895 201.551 899.895 Q206.875 899.895 209.977 902.326 Q213.079 904.733 213.079 908.853 Q213.079 911.724 211.436 913.714 Q209.792 915.682 206.76 916.446 Z\" fill=\"#000000\" fill-rule=\"evenodd\" fill-opacity=\"1\" /><path clip-path=\"url(#clip110)\" d=\"M222.801 900.52 L241.158 900.52 L241.158 904.455 L227.084 904.455 L227.084 912.927 Q228.102 912.58 229.121 912.418 Q230.139 912.233 231.158 912.233 Q236.945 912.233 240.324 915.404 Q243.704 918.576 243.704 923.992 Q243.704 929.571 240.232 932.673 Q236.76 935.751 230.44 935.751 Q228.264 935.751 225.996 935.381 Q223.75 935.011 221.343 934.27 L221.343 929.571 Q223.426 930.705 225.648 931.261 Q227.871 931.816 230.347 931.816 Q234.352 931.816 236.69 929.71 Q239.028 927.603 239.028 923.992 Q239.028 920.381 236.69 918.275 Q234.352 916.168 230.347 916.168 Q228.473 916.168 226.598 916.585 Q224.746 917.001 222.801 917.881 L222.801 900.52 Z\" fill=\"#000000\" fill-rule=\"evenodd\" fill-opacity=\"1\" /><path clip-path=\"url(#clip110)\" d=\"M126.205 656.244 Q122.593 656.244 120.765 659.809 Q118.959 663.35 118.959 670.48 Q118.959 677.586 120.765 681.151 Q122.593 684.693 126.205 684.693 Q129.839 684.693 131.644 681.151 Q133.473 677.586 133.473 670.48 Q133.473 663.35 131.644 659.809 Q129.839 656.244 126.205 656.244 M126.205 652.54 Q132.015 652.54 135.07 657.147 Q138.149 661.73 138.149 670.48 Q138.149 679.207 135.07 683.813 Q132.015 688.396 126.205 688.396 Q120.394 688.396 117.316 683.813 Q114.26 679.207 114.26 670.48 Q114.26 661.73 117.316 657.147 Q120.394 652.54 126.205 652.54 Z\" fill=\"#000000\" fill-rule=\"evenodd\" fill-opacity=\"1\" /><path clip-path=\"url(#clip110)\" d=\"M146.366 681.846 L151.251 681.846 L151.251 687.725 L146.366 687.725 L146.366 681.846 Z\" fill=\"#000000\" fill-rule=\"evenodd\" fill-opacity=\"1\" /><path clip-path=\"url(#clip110)\" d=\"M171.436 656.244 Q167.825 656.244 165.996 659.809 Q164.19 663.35 164.19 670.48 Q164.19 677.586 165.996 681.151 Q167.825 684.693 171.436 684.693 Q175.07 684.693 176.876 681.151 Q178.704 677.586 178.704 670.48 Q178.704 663.35 176.876 659.809 Q175.07 656.244 171.436 656.244 M171.436 652.54 Q177.246 652.54 180.301 657.147 Q183.38 661.73 183.38 670.48 Q183.38 679.207 180.301 683.813 Q177.246 688.396 171.436 688.396 Q165.626 688.396 162.547 683.813 Q159.491 679.207 159.491 670.48 Q159.491 661.73 162.547 657.147 Q165.626 652.54 171.436 652.54 Z\" fill=\"#000000\" fill-rule=\"evenodd\" fill-opacity=\"1\" /><path clip-path=\"url(#clip110)\" d=\"M204.445 657.239 L192.639 675.688 L204.445 675.688 L204.445 657.239 M203.218 653.165 L209.098 653.165 L209.098 675.688 L214.028 675.688 L214.028 679.577 L209.098 679.577 L209.098 687.725 L204.445 687.725 L204.445 679.577 L188.843 679.577 L188.843 675.063 L203.218 653.165 Z\" fill=\"#000000\" fill-rule=\"evenodd\" fill-opacity=\"1\" /><path clip-path=\"url(#clip110)\" d=\"M231.76 656.244 Q228.148 656.244 226.32 659.809 Q224.514 663.35 224.514 670.48 Q224.514 677.586 226.32 681.151 Q228.148 684.693 231.76 684.693 Q235.394 684.693 237.199 681.151 Q239.028 677.586 239.028 670.48 Q239.028 663.35 237.199 659.809 Q235.394 656.244 231.76 656.244 M231.76 652.54 Q237.57 652.54 240.625 657.147 Q243.704 661.73 243.704 670.48 Q243.704 679.207 240.625 683.813 Q237.57 688.396 231.76 688.396 Q225.949 688.396 222.871 683.813 Q219.815 679.207 219.815 670.48 Q219.815 661.73 222.871 657.147 Q225.949 652.54 231.76 652.54 Z\" fill=\"#000000\" fill-rule=\"evenodd\" fill-opacity=\"1\" /><path clip-path=\"url(#clip110)\" d=\"M127.2 408.889 Q123.589 408.889 121.76 412.454 Q119.955 415.995 119.955 423.125 Q119.955 430.231 121.76 433.796 Q123.589 437.338 127.2 437.338 Q130.834 437.338 132.64 433.796 Q134.468 430.231 134.468 423.125 Q134.468 415.995 132.64 412.454 Q130.834 408.889 127.2 408.889 M127.2 405.185 Q133.01 405.185 136.066 409.792 Q139.144 414.375 139.144 423.125 Q139.144 431.852 136.066 436.458 Q133.01 441.042 127.2 441.042 Q121.39 441.042 118.311 436.458 Q115.256 431.852 115.256 423.125 Q115.256 414.375 118.311 409.792 Q121.39 405.185 127.2 405.185 Z\" fill=\"#000000\" fill-rule=\"evenodd\" fill-opacity=\"1\" /><path clip-path=\"url(#clip110)\" d=\"M147.362 434.491 L152.246 434.491 L152.246 440.37 L147.362 440.37 L147.362 434.491 Z\" fill=\"#000000\" fill-rule=\"evenodd\" fill-opacity=\"1\" /><path clip-path=\"url(#clip110)\" d=\"M172.431 408.889 Q168.82 408.889 166.991 412.454 Q165.186 415.995 165.186 423.125 Q165.186 430.231 166.991 433.796 Q168.82 437.338 172.431 437.338 Q176.065 437.338 177.871 433.796 Q179.7 430.231 179.7 423.125 Q179.7 415.995 177.871 412.454 Q176.065 408.889 172.431 408.889 M172.431 405.185 Q178.241 405.185 181.297 409.792 Q184.376 414.375 184.376 423.125 Q184.376 431.852 181.297 436.458 Q178.241 441.042 172.431 441.042 Q166.621 441.042 163.542 436.458 Q160.487 431.852 160.487 423.125 Q160.487 414.375 163.542 409.792 Q166.621 405.185 172.431 405.185 Z\" fill=\"#000000\" fill-rule=\"evenodd\" fill-opacity=\"1\" /><path clip-path=\"url(#clip110)\" d=\"M205.44 409.884 L193.635 428.333 L205.44 428.333 L205.44 409.884 M204.213 405.81 L210.093 405.81 L210.093 428.333 L215.024 428.333 L215.024 432.222 L210.093 432.222 L210.093 440.37 L205.44 440.37 L205.44 432.222 L189.838 432.222 L189.838 427.708 L204.213 405.81 Z\" fill=\"#000000\" fill-rule=\"evenodd\" fill-opacity=\"1\" /><path clip-path=\"url(#clip110)\" d=\"M222.801 405.81 L241.158 405.81 L241.158 409.745 L227.084 409.745 L227.084 418.218 Q228.102 417.87 229.121 417.708 Q230.139 417.523 231.158 417.523 Q236.945 417.523 240.324 420.694 Q243.704 423.866 243.704 429.282 Q243.704 434.861 240.232 437.963 Q236.76 441.042 230.44 441.042 Q228.264 441.042 225.996 440.671 Q223.75 440.301 221.343 439.56 L221.343 434.861 Q223.426 435.995 225.648 436.551 Q227.871 437.106 230.347 437.106 Q234.352 437.106 236.69 435 Q239.028 432.893 239.028 429.282 Q239.028 425.671 236.69 423.565 Q234.352 421.458 230.347 421.458 Q228.473 421.458 226.598 421.875 Q224.746 422.292 222.801 423.171 L222.801 405.81 Z\" fill=\"#000000\" fill-rule=\"evenodd\" fill-opacity=\"1\" /><path clip-path=\"url(#clip110)\" d=\"M126.205 161.534 Q122.593 161.534 120.765 165.099 Q118.959 168.641 118.959 175.77 Q118.959 182.877 120.765 186.441 Q122.593 189.983 126.205 189.983 Q129.839 189.983 131.644 186.441 Q133.473 182.877 133.473 175.77 Q133.473 168.641 131.644 165.099 Q129.839 161.534 126.205 161.534 M126.205 157.83 Q132.015 157.83 135.07 162.437 Q138.149 167.02 138.149 175.77 Q138.149 184.497 135.07 189.103 Q132.015 193.687 126.205 193.687 Q120.394 193.687 117.316 189.103 Q114.26 184.497 114.26 175.77 Q114.26 167.02 117.316 162.437 Q120.394 157.83 126.205 157.83 Z\" fill=\"#000000\" fill-rule=\"evenodd\" fill-opacity=\"1\" /><path clip-path=\"url(#clip110)\" d=\"M146.366 187.136 L151.251 187.136 L151.251 193.015 L146.366 193.015 L146.366 187.136 Z\" fill=\"#000000\" fill-rule=\"evenodd\" fill-opacity=\"1\" /><path clip-path=\"url(#clip110)\" d=\"M171.436 161.534 Q167.825 161.534 165.996 165.099 Q164.19 168.641 164.19 175.77 Q164.19 182.877 165.996 186.441 Q167.825 189.983 171.436 189.983 Q175.07 189.983 176.876 186.441 Q178.704 182.877 178.704 175.77 Q178.704 168.641 176.876 165.099 Q175.07 161.534 171.436 161.534 M171.436 157.83 Q177.246 157.83 180.301 162.437 Q183.38 167.02 183.38 175.77 Q183.38 184.497 180.301 189.103 Q177.246 193.687 171.436 193.687 Q165.626 193.687 162.547 189.103 Q159.491 184.497 159.491 175.77 Q159.491 167.02 162.547 162.437 Q165.626 157.83 171.436 157.83 Z\" fill=\"#000000\" fill-rule=\"evenodd\" fill-opacity=\"1\" /><path clip-path=\"url(#clip110)\" d=\"M191.644 158.455 L210 158.455 L210 162.391 L195.926 162.391 L195.926 170.863 Q196.945 170.516 197.963 170.353 Q198.982 170.168 200 170.168 Q205.787 170.168 209.167 173.34 Q212.547 176.511 212.547 181.927 Q212.547 187.506 209.074 190.608 Q205.602 193.687 199.283 193.687 Q197.107 193.687 194.838 193.316 Q192.593 192.946 190.186 192.205 L190.186 187.506 Q192.269 188.64 194.491 189.196 Q196.713 189.752 199.19 189.752 Q203.195 189.752 205.533 187.645 Q207.871 185.539 207.871 181.927 Q207.871 178.316 205.533 176.21 Q203.195 174.103 199.19 174.103 Q197.315 174.103 195.44 174.52 Q193.588 174.937 191.644 175.816 L191.644 158.455 Z\" fill=\"#000000\" fill-rule=\"evenodd\" fill-opacity=\"1\" /><path clip-path=\"url(#clip110)\" d=\"M231.76 161.534 Q228.148 161.534 226.32 165.099 Q224.514 168.641 224.514 175.77 Q224.514 182.877 226.32 186.441 Q228.148 189.983 231.76 189.983 Q235.394 189.983 237.199 186.441 Q239.028 182.877 239.028 175.77 Q239.028 168.641 237.199 165.099 Q235.394 161.534 231.76 161.534 M231.76 157.83 Q237.57 157.83 240.625 162.437 Q243.704 167.02 243.704 175.77 Q243.704 184.497 240.625 189.103 Q237.57 193.687 231.76 193.687 Q225.949 193.687 222.871 189.103 Q219.815 184.497 219.815 175.77 Q219.815 167.02 222.871 162.437 Q225.949 157.83 231.76 157.83 Z\" fill=\"#000000\" fill-rule=\"evenodd\" fill-opacity=\"1\" /><path clip-path=\"url(#clip110)\" d=\"M32.4621 1081.6 Q32.4621 1086.31 36.1542 1089.05 Q39.8145 1091.79 46.212 1091.79 Q52.6095 1091.79 56.3017 1089.08 Q59.9619 1086.34 59.9619 1081.6 Q59.9619 1076.92 56.2698 1074.19 Q52.5777 1071.45 46.212 1071.45 Q39.8781 1071.45 36.186 1074.19 Q32.4621 1076.92 32.4621 1081.6 M27.4968 1081.6 Q27.4968 1073.96 32.4621 1069.6 Q37.4273 1065.24 46.212 1065.24 Q54.9649 1065.24 59.9619 1069.6 Q64.9272 1073.96 64.9272 1081.6 Q64.9272 1089.27 59.9619 1093.63 Q54.9649 1097.96 46.212 1097.96 Q37.4273 1097.96 32.4621 1093.63 Q27.4968 1089.27 27.4968 1081.6 Z\" fill=\"#000000\" fill-rule=\"evenodd\" fill-opacity=\"1\" /><path clip-path=\"url(#clip110)\" d=\"M46.212 1029.94 Q39.7508 1029.94 36.0905 1032.62 Q32.3984 1035.26 32.3984 1039.91 Q32.3984 1044.55 36.0905 1047.23 Q39.7508 1049.87 46.212 1049.87 Q52.6732 1049.87 56.3653 1047.23 Q60.0256 1044.55 60.0256 1039.91 Q60.0256 1035.26 56.3653 1032.62 Q52.6732 1029.94 46.212 1029.94 M33.7671 1049.87 Q30.5842 1048.02 29.0564 1045.22 Q27.4968 1042.39 27.4968 1038.47 Q27.4968 1031.98 32.6531 1027.94 Q37.8093 1023.86 46.212 1023.86 Q54.6147 1023.86 59.771 1027.94 Q64.9272 1031.98 64.9272 1038.47 Q64.9272 1042.39 63.3994 1045.22 Q61.8398 1048.02 58.657 1049.87 L64.0042 1049.87 L64.0042 1055.76 L14.479 1055.76 L14.479 1049.87 L33.7671 1049.87 Z\" fill=\"#000000\" fill-rule=\"evenodd\" fill-opacity=\"1\" /><path clip-path=\"url(#clip110)\" d=\"M28.3562 1014.16 L28.3562 1008.3 L64.6407 1008.3 Q71.452 1008.3 74.5076 1010.91 Q77.5631 1013.49 77.5631 1019.25 L77.5631 1021.48 L72.5979 1021.48 L72.5979 1019.92 Q72.5979 1016.58 71.0383 1015.37 Q69.5105 1014.16 64.6407 1014.16 L28.3562 1014.16 M14.479 1014.16 L14.479 1008.3 L21.895 1008.3 L21.895 1014.16 L14.479 1014.16 Z\" fill=\"#000000\" fill-rule=\"evenodd\" fill-opacity=\"1\" /><path clip-path=\"url(#clip110)\" d=\"M44.7161 965.555 L47.5806 965.555 L47.5806 992.482 Q53.6281 992.1 56.8109 988.854 Q59.9619 985.575 59.9619 979.751 Q59.9619 976.377 59.1344 973.226 Q58.3069 970.043 56.6518 966.924 L62.1899 966.924 Q63.5267 970.075 64.227 973.385 Q64.9272 976.695 64.9272 980.101 Q64.9272 988.631 59.9619 993.628 Q54.9967 998.593 46.5303 998.593 Q37.7774 998.593 32.6531 993.882 Q27.4968 989.14 27.4968 981.119 Q27.4968 973.926 32.1438 969.756 Q36.7589 965.555 44.7161 965.555 M42.9973 971.412 Q38.1912 971.475 35.3266 974.117 Q32.4621 976.727 32.4621 981.056 Q32.4621 985.957 35.2312 988.917 Q38.0002 991.845 43.0292 992.291 L42.9973 971.412 Z\" fill=\"#000000\" fill-rule=\"evenodd\" fill-opacity=\"1\" /><path clip-path=\"url(#clip110)\" d=\"M29.7248 930.289 L35.1993 930.289 Q33.8307 932.772 33.1623 935.286 Q32.4621 937.769 32.4621 940.315 Q32.4621 946.012 36.0905 949.163 Q39.6872 952.314 46.212 952.314 Q52.7369 952.314 56.3653 949.163 Q59.9619 946.012 59.9619 940.315 Q59.9619 937.769 59.2935 935.286 Q58.5933 932.772 57.2247 930.289 L62.6355 930.289 Q63.7814 932.74 64.3543 935.382 Q64.9272 937.992 64.9272 940.952 Q64.9272 949.004 59.8664 953.747 Q54.8057 958.489 46.212 958.489 Q37.491 958.489 32.4939 953.715 Q27.4968 948.909 27.4968 940.57 Q27.4968 937.864 28.0697 935.286 Q28.6108 932.708 29.7248 930.289 Z\" fill=\"#000000\" fill-rule=\"evenodd\" fill-opacity=\"1\" /><path clip-path=\"url(#clip110)\" d=\"M18.2347 914.311 L28.3562 914.311 L28.3562 902.248 L32.9077 902.248 L32.9077 914.311 L52.2594 914.311 Q56.6199 914.311 57.8613 913.133 Q59.1026 911.924 59.1026 908.264 L59.1026 902.248 L64.0042 902.248 L64.0042 908.264 Q64.0042 915.043 61.4897 917.621 Q58.9434 920.199 52.2594 920.199 L32.9077 920.199 L32.9077 924.496 L28.3562 924.496 L28.3562 920.199 L18.2347 920.199 L18.2347 914.311 Z\" fill=\"#000000\" fill-rule=\"evenodd\" fill-opacity=\"1\" /><path clip-path=\"url(#clip110)\" d=\"M28.3562 894.546 L28.3562 888.689 L64.0042 888.689 L64.0042 894.546 L28.3562 894.546 M14.479 894.546 L14.479 888.689 L21.895 888.689 L21.895 894.546 L14.479 894.546 Z\" fill=\"#000000\" fill-rule=\"evenodd\" fill-opacity=\"1\" /><path clip-path=\"url(#clip110)\" d=\"M28.3562 880.637 L28.3562 874.43 L58.275 863.29 L28.3562 852.15 L28.3562 845.943 L64.0042 859.311 L64.0042 867.269 L28.3562 880.637 Z\" fill=\"#000000\" fill-rule=\"evenodd\" fill-opacity=\"1\" /><path clip-path=\"url(#clip110)\" d=\"M44.7161 807.367 L47.5806 807.367 L47.5806 834.294 Q53.6281 833.912 56.8109 830.666 Q59.9619 827.387 59.9619 821.563 Q59.9619 818.189 59.1344 815.038 Q58.3069 811.855 56.6518 808.736 L62.1899 808.736 Q63.5267 811.887 64.227 815.197 Q64.9272 818.507 64.9272 821.913 Q64.9272 830.443 59.9619 835.44 Q54.9967 840.405 46.5303 840.405 Q37.7774 840.405 32.6531 835.695 Q27.4968 830.952 27.4968 822.931 Q27.4968 815.738 32.1438 811.569 Q36.7589 807.367 44.7161 807.367 M42.9973 813.224 Q38.1912 813.287 35.3266 815.929 Q32.4621 818.539 32.4621 822.868 Q32.4621 827.769 35.2312 830.729 Q38.0002 833.658 43.0292 834.103 L42.9973 813.224 Z\" fill=\"#000000\" fill-rule=\"evenodd\" fill-opacity=\"1\" /><path clip-path=\"url(#clip110)\" d=\"M16.4842 776.143 L16.4842 750.903 L21.895 750.903 L21.895 770.255 L33.5443 770.255 Q33.0668 768.855 32.844 767.454 Q32.5894 766.054 32.5894 764.653 Q32.5894 756.696 36.9499 752.049 Q41.3104 747.402 48.7583 747.402 Q56.429 747.402 60.694 752.177 Q64.9272 756.951 64.9272 765.64 Q64.9272 768.632 64.4179 771.751 Q63.9087 774.838 62.8902 778.149 L56.429 778.149 Q57.9886 775.284 58.7524 772.229 Q59.5163 769.173 59.5163 765.767 Q59.5163 760.261 56.6199 757.046 Q53.7235 753.832 48.7583 753.832 Q43.793 753.832 40.8966 757.046 Q38.0002 760.261 38.0002 765.767 Q38.0002 768.345 38.5732 770.924 Q39.1461 773.47 40.3556 776.143 L16.4842 776.143 Z\" fill=\"#000000\" fill-rule=\"evenodd\" fill-opacity=\"1\" /><path clip-path=\"url(#clip110)\" d=\"M55.9197 734.066 L55.9197 727.35 L64.0042 727.35 L64.0042 734.066 L55.9197 734.066 M30.2977 734.066 L30.2977 727.35 L38.3822 727.35 L38.3822 734.066 L30.2977 734.066 Z\" fill=\"#000000\" fill-rule=\"evenodd\" fill-opacity=\"1\" /><path clip-path=\"url(#clip110)\" d=\"M44.7161 662.388 L47.5806 662.388 L47.5806 689.315 Q53.6281 688.933 56.8109 685.687 Q59.9619 682.408 59.9619 676.584 Q59.9619 673.21 59.1344 670.059 Q58.3069 666.876 56.6518 663.757 L62.1899 663.757 Q63.5267 666.908 64.227 670.218 Q64.9272 673.528 64.9272 676.934 Q64.9272 685.464 59.9619 690.461 Q54.9967 695.426 46.5303 695.426 Q37.7774 695.426 32.6531 690.716 Q27.4968 685.973 27.4968 677.952 Q27.4968 670.759 32.1438 666.59 Q36.7589 662.388 44.7161 662.388 M42.9973 668.245 Q38.1912 668.308 35.3266 670.95 Q32.4621 673.56 32.4621 677.889 Q32.4621 682.79 35.2312 685.75 Q38.0002 688.679 43.0292 689.124 L42.9973 668.245 Z\" fill=\"#000000\" fill-rule=\"evenodd\" fill-opacity=\"1\" /><path clip-path=\"url(#clip110)\" d=\"M35.1993 625.022 Q31.2526 622.825 29.3747 619.77 Q27.4968 616.714 27.4968 612.577 Q27.4968 607.007 31.4117 603.983 Q35.2948 600.959 42.4881 600.959 L64.0042 600.959 L64.0042 606.847 L42.679 606.847 Q37.5546 606.847 35.072 608.662 Q32.5894 610.476 32.5894 614.2 Q32.5894 618.751 35.6131 621.393 Q38.6368 624.035 43.8567 624.035 L64.0042 624.035 L64.0042 629.923 L42.679 629.923 Q37.5228 629.923 35.072 631.737 Q32.5894 633.552 32.5894 637.339 Q32.5894 641.827 35.6449 644.469 Q38.6686 647.111 43.8567 647.111 L64.0042 647.111 L64.0042 652.999 L28.3562 652.999 L28.3562 647.111 L33.8944 647.111 Q30.616 645.105 29.0564 642.304 Q27.4968 639.504 27.4968 635.652 Q27.4968 631.769 29.4702 629.064 Q31.4436 626.327 35.1993 625.022 Z\" fill=\"#000000\" fill-rule=\"evenodd\" fill-opacity=\"1\" /><path clip-path=\"url(#clip110)\" d=\"M28.3562 589.278 L28.3562 583.422 L64.0042 583.422 L64.0042 589.278 L28.3562 589.278 M14.479 589.278 L14.479 583.422 L21.895 583.422 L21.895 589.278 L14.479 589.278 Z\" fill=\"#000000\" fill-rule=\"evenodd\" fill-opacity=\"1\" /><path clip-path=\"url(#clip110)\" d=\"M18.2347 565.375 L28.3562 565.375 L28.3562 553.312 L32.9077 553.312 L32.9077 565.375 L52.2594 565.375 Q56.6199 565.375 57.8613 564.197 Q59.1026 562.988 59.1026 559.327 L59.1026 553.312 L64.0042 553.312 L64.0042 559.327 Q64.0042 566.107 61.4897 568.685 Q58.9434 571.263 52.2594 571.263 L32.9077 571.263 L32.9077 575.56 L28.3562 575.56 L28.3562 571.263 L18.2347 571.263 L18.2347 565.375 Z\" fill=\"#000000\" fill-rule=\"evenodd\" fill-opacity=\"1\" /><path clip-path=\"url(#clip110)\" d=\"M18.2347 539.817 L28.3562 539.817 L28.3562 527.754 L32.9077 527.754 L32.9077 539.817 L52.2594 539.817 Q56.6199 539.817 57.8613 538.639 Q59.1026 537.429 59.1026 533.769 L59.1026 527.754 L64.0042 527.754 L64.0042 533.769 Q64.0042 540.549 61.4897 543.127 Q58.9434 545.705 52.2594 545.705 L32.9077 545.705 L32.9077 550.002 L28.3562 550.002 L28.3562 545.705 L18.2347 545.705 L18.2347 539.817 Z\" fill=\"#000000\" fill-rule=\"evenodd\" fill-opacity=\"1\" /><path clip-path=\"url(#clip110)\" d=\"M46.0847 503.85 Q46.0847 510.948 47.7079 513.685 Q49.3312 516.423 53.2461 516.423 Q56.3653 516.423 58.2114 514.386 Q60.0256 512.317 60.0256 508.784 Q60.0256 503.914 56.5881 500.986 Q53.1188 498.026 47.3897 498.026 L46.0847 498.026 L46.0847 503.85 M43.6657 492.169 L64.0042 492.169 L64.0042 498.026 L58.5933 498.026 Q61.8398 500.031 63.3994 503.023 Q64.9272 506.015 64.9272 510.343 Q64.9272 515.818 61.8716 519.064 Q58.7843 522.279 53.6281 522.279 Q47.6125 522.279 44.5569 518.269 Q41.5014 514.226 41.5014 506.238 L41.5014 498.026 L40.9285 498.026 Q36.8862 498.026 34.6901 500.699 Q32.4621 503.341 32.4621 508.147 Q32.4621 511.203 33.1941 514.099 Q33.9262 516.996 35.3903 519.669 L29.9795 519.669 Q28.7381 516.454 28.1334 513.431 Q27.4968 510.407 27.4968 507.542 Q27.4968 499.808 31.5072 495.989 Q35.5176 492.169 43.6657 492.169 Z\" fill=\"#000000\" fill-rule=\"evenodd\" fill-opacity=\"1\" /><path clip-path=\"url(#clip110)\" d=\"M42.4881 450.474 L64.0042 450.474 L64.0042 456.33 L42.679 456.33 Q37.6183 456.33 35.1038 458.304 Q32.5894 460.277 32.5894 464.224 Q32.5894 468.966 35.6131 471.704 Q38.6368 474.441 43.8567 474.441 L64.0042 474.441 L64.0042 480.329 L28.3562 480.329 L28.3562 474.441 L33.8944 474.441 Q30.6797 472.34 29.0883 469.507 Q27.4968 466.643 27.4968 462.919 Q27.4968 456.776 31.3163 453.625 Q35.1038 450.474 42.4881 450.474 Z\" fill=\"#000000\" fill-rule=\"evenodd\" fill-opacity=\"1\" /><path clip-path=\"url(#clip110)\" d=\"M29.7248 413.139 L35.1993 413.139 Q33.8307 415.622 33.1623 418.136 Q32.4621 420.619 32.4621 423.165 Q32.4621 428.862 36.0905 432.013 Q39.6872 435.164 46.212 435.164 Q52.7369 435.164 56.3653 432.013 Q59.9619 428.862 59.9619 423.165 Q59.9619 420.619 59.2935 418.136 Q58.5933 415.622 57.2247 413.139 L62.6355 413.139 Q63.7814 415.59 64.3543 418.232 Q64.9272 420.842 64.9272 423.802 Q64.9272 431.854 59.8664 436.597 Q54.8057 441.339 46.212 441.339 Q37.491 441.339 32.4939 436.565 Q27.4968 431.759 27.4968 423.42 Q27.4968 420.714 28.0697 418.136 Q28.6108 415.558 29.7248 413.139 Z\" fill=\"#000000\" fill-rule=\"evenodd\" fill-opacity=\"1\" /><path clip-path=\"url(#clip110)\" d=\"M44.7161 372.462 L47.5806 372.462 L47.5806 399.389 Q53.6281 399.007 56.8109 395.761 Q59.9619 392.482 59.9619 386.658 Q59.9619 383.284 59.1344 380.133 Q58.3069 376.95 56.6518 373.831 L62.1899 373.831 Q63.5267 376.982 64.227 380.292 Q64.9272 383.602 64.9272 387.008 Q64.9272 395.538 59.9619 400.535 Q54.9967 405.5 46.5303 405.5 Q37.7774 405.5 32.6531 400.79 Q27.4968 396.047 27.4968 388.026 Q27.4968 380.833 32.1438 376.664 Q36.7589 372.462 44.7161 372.462 M42.9973 378.319 Q38.1912 378.382 35.3266 381.024 Q32.4621 383.634 32.4621 387.963 Q32.4621 392.864 35.2312 395.824 Q38.0002 398.753 43.0292 399.198 L42.9973 378.319 Z\" fill=\"#000000\" fill-rule=\"evenodd\" fill-opacity=\"1\" /><circle clip-path=\"url(#clip112)\" cx=\"471.184\" cy=\"525.626\" r=\"14.4\" fill=\"#009af9\" fill-rule=\"evenodd\" fill-opacity=\"1\" stroke=\"#000000\" stroke-opacity=\"1\" stroke-width=\"3.2\"/>\n",
       "<circle clip-path=\"url(#clip112)\" cx=\"1922.15\" cy=\"1063.97\" r=\"14.4\" fill=\"#009af9\" fill-rule=\"evenodd\" fill-opacity=\"1\" stroke=\"#000000\" stroke-opacity=\"1\" stroke-width=\"3.2\"/>\n",
       "<circle clip-path=\"url(#clip112)\" cx=\"503.744\" cy=\"727.065\" r=\"14.4\" fill=\"#009af9\" fill-rule=\"evenodd\" fill-opacity=\"1\" stroke=\"#000000\" stroke-opacity=\"1\" stroke-width=\"3.2\"/>\n",
       "<circle clip-path=\"url(#clip112)\" cx=\"338.375\" cy=\"86.1857\" r=\"14.4\" fill=\"#009af9\" fill-rule=\"evenodd\" fill-opacity=\"1\" stroke=\"#000000\" stroke-opacity=\"1\" stroke-width=\"3.2\"/>\n",
       "<circle clip-path=\"url(#clip112)\" cx=\"2294.08\" cy=\"1384.24\" r=\"14.4\" fill=\"#009af9\" fill-rule=\"evenodd\" fill-opacity=\"1\" stroke=\"#000000\" stroke-opacity=\"1\" stroke-width=\"3.2\"/>\n",
       "<circle clip-path=\"url(#clip112)\" cx=\"1385.27\" cy=\"1025.48\" r=\"14.4\" fill=\"#009af9\" fill-rule=\"evenodd\" fill-opacity=\"1\" stroke=\"#000000\" stroke-opacity=\"1\" stroke-width=\"3.2\"/>\n",
       "<circle clip-path=\"url(#clip112)\" cx=\"924.424\" cy=\"870.543\" r=\"14.4\" fill=\"#009af9\" fill-rule=\"evenodd\" fill-opacity=\"1\" stroke=\"#000000\" stroke-opacity=\"1\" stroke-width=\"3.2\"/>\n",
       "<circle clip-path=\"url(#clip112)\" cx=\"968.815\" cy=\"930.368\" r=\"14.4\" fill=\"#009af9\" fill-rule=\"evenodd\" fill-opacity=\"1\" stroke=\"#000000\" stroke-opacity=\"1\" stroke-width=\"3.2\"/>\n",
       "<circle clip-path=\"url(#clip112)\" cx=\"2180.04\" cy=\"1090.49\" r=\"14.4\" fill=\"#009af9\" fill-rule=\"evenodd\" fill-opacity=\"1\" stroke=\"#000000\" stroke-opacity=\"1\" stroke-width=\"3.2\"/>\n",
       "<circle clip-path=\"url(#clip112)\" cx=\"370.318\" cy=\"314.512\" r=\"14.4\" fill=\"#009af9\" fill-rule=\"evenodd\" fill-opacity=\"1\" stroke=\"#000000\" stroke-opacity=\"1\" stroke-width=\"3.2\"/>\n",
       "<circle clip-path=\"url(#clip112)\" cx=\"361.032\" cy=\"236.202\" r=\"14.4\" fill=\"#009af9\" fill-rule=\"evenodd\" fill-opacity=\"1\" stroke=\"#000000\" stroke-opacity=\"1\" stroke-width=\"3.2\"/>\n",
       "<circle clip-path=\"url(#clip112)\" cx=\"1269.01\" cy=\"932.566\" r=\"14.4\" fill=\"#009af9\" fill-rule=\"evenodd\" fill-opacity=\"1\" stroke=\"#000000\" stroke-opacity=\"1\" stroke-width=\"3.2\"/>\n",
       "<circle clip-path=\"url(#clip112)\" cx=\"849.075\" cy=\"835.033\" r=\"14.4\" fill=\"#009af9\" fill-rule=\"evenodd\" fill-opacity=\"1\" stroke=\"#000000\" stroke-opacity=\"1\" stroke-width=\"3.2\"/>\n",
       "<circle clip-path=\"url(#clip112)\" cx=\"494.251\" cy=\"670.963\" r=\"14.4\" fill=\"#009af9\" fill-rule=\"evenodd\" fill-opacity=\"1\" stroke=\"#000000\" stroke-opacity=\"1\" stroke-width=\"3.2\"/>\n",
       "<circle clip-path=\"url(#clip112)\" cx=\"745.53\" cy=\"762.541\" r=\"14.4\" fill=\"#009af9\" fill-rule=\"evenodd\" fill-opacity=\"1\" stroke=\"#000000\" stroke-opacity=\"1\" stroke-width=\"3.2\"/>\n",
       "<circle clip-path=\"url(#clip112)\" cx=\"2214.53\" cy=\"1384.09\" r=\"14.4\" fill=\"#009af9\" fill-rule=\"evenodd\" fill-opacity=\"1\" stroke=\"#000000\" stroke-opacity=\"1\" stroke-width=\"3.2\"/>\n",
       "<path clip-path=\"url(#clip110)\" d=\"\n",
       "M2000.88 196.789 L2283.65 196.789 L2283.65 93.1086 L2000.88 93.1086  Z\n",
       "  \" fill=\"#ffffff\" fill-rule=\"evenodd\" fill-opacity=\"1\"/>\n",
       "<polyline clip-path=\"url(#clip110)\" style=\"stroke:#000000; stroke-linecap:butt; stroke-linejoin:round; stroke-width:4; stroke-opacity:1; fill:none\" points=\"\n",
       "  2000.88,196.789 2283.65,196.789 2283.65,93.1086 2000.88,93.1086 2000.88,196.789 \n",
       "  \"/>\n",
       "<circle clip-path=\"url(#clip110)\" cx=\"2093.02\" cy=\"144.949\" r=\"23.04\" fill=\"#009af9\" fill-rule=\"evenodd\" fill-opacity=\"1\" stroke=\"#000000\" stroke-opacity=\"1\" stroke-width=\"5.12\"/>\n",
       "<path clip-path=\"url(#clip110)\" d=\"M2199 164.636 Q2197.19 169.266 2195.48 170.678 Q2193.77 172.09 2190.9 172.09 L2187.49 172.09 L2187.49 168.525 L2189.99 168.525 Q2191.75 168.525 2192.73 167.692 Q2193.7 166.858 2194.88 163.756 L2195.64 161.812 L2185.16 136.303 L2189.67 136.303 L2197.77 156.581 L2205.87 136.303 L2210.39 136.303 L2199 164.636 Z\" fill=\"#000000\" fill-rule=\"evenodd\" fill-opacity=\"1\" /><path clip-path=\"url(#clip110)\" d=\"M2217.68 158.293 L2225.32 158.293 L2225.32 131.928 L2217.01 133.595 L2217.01 129.335 L2225.27 127.669 L2229.95 127.669 L2229.95 158.293 L2237.59 158.293 L2237.59 162.229 L2217.68 162.229 L2217.68 158.293 Z\" fill=\"#000000\" fill-rule=\"evenodd\" fill-opacity=\"1\" /></svg>\n"
      ]
     },
     "execution_count": 17,
     "metadata": {},
     "output_type": "execute_result"
    }
   ],
   "source": [
    "scatter(obj1, obj5; xlabel=\"objective 1: transmission\", ylabel=\"objective 5: emittance\")\n",
    "xflip!(true)"
   ]
  },
  {
   "cell_type": "markdown",
   "metadata": {},
   "source": [
    "### Final optimization\n",
    "- Maximize transmission (< 95%)\n",
    "- Output energy should be 70 KeV (0.070 MeV)\n",
    "- Minimize RFQ length\n",
    "- Minimize longitudinal emittance\n",
    "- Minimize transverse emittance"
   ]
  },
  {
   "cell_type": "code",
   "execution_count": 7,
   "metadata": {},
   "outputs": [
    {
     "data": {
      "text/plain": [
       "objective3 (generic function with 1 method)"
      ]
     },
     "execution_count": 7,
     "metadata": {},
     "output_type": "execute_result"
    }
   ],
   "source": [
    "function objective3(x_vec)\n",
    "    y = predict(x_vec)\n",
    "    target_energy_scaled = transform(y_scalers[\"OBJ2\"], 0.070)[1]\n",
    "    [-y[1], (y[2] - target_energy_scaled)^2, y[3], y[4], y[5], y[6]]\n",
    "end"
   ]
  },
  {
   "cell_type": "code",
   "execution_count": 8,
   "metadata": {},
   "outputs": [],
   "source": [
    "x3s = [sample for sample in initial_samples];\n",
    "x3s = unique(x3s)\n",
    "y3s = objective3.(x3s);"
   ]
  },
  {
   "cell_type": "code",
   "execution_count": 9,
   "metadata": {},
   "outputs": [
    {
     "data": {
      "text/plain": [
       "(::RadialBasis{Surrogates.var\"#1#2\", Int64, Vector{NTuple{14, Float64}}, Vector{Vector{Float64}}, Vector{Float64}, Vector{Float64}, Matrix{Float64}, Float64, Bool}) (generic function with 1 method)"
      ]
     },
     "execution_count": 9,
     "metadata": {},
     "output_type": "execute_result"
    }
   ],
   "source": [
    "if length(x3s) != length(unique(x3s))\n",
    "    print(\"Duplicate entries in x3\")\n",
    "end\n",
    "if length(x3s) != length(y3s)\n",
    "    print(\"Dimension mismatch between x3 and y\")\n",
    "end\n",
    "radial_basis_ego_3 = RadialBasis(x3s, y3s, lower_bound, upper_bound)"
   ]
  },
  {
   "cell_type": "code",
   "execution_count": 10,
   "metadata": {},
   "outputs": [],
   "source": [
    "pareto_set_3, pareto_front_3 = surrogate_optimize(\n",
    "    objective3, SMB(), lower_bound, upper_bound, radial_basis_ego_3, SobolSample();\n",
    "    maxiters = 100, n_new_look = 100\n",
    ");"
   ]
  },
  {
   "cell_type": "code",
   "execution_count": 15,
   "metadata": {},
   "outputs": [
    {
     "data": {
      "text/plain": [
       "6-element Vector{Vector{Float64}}:\n",
       " [92.62628290090527, 63.07773852951512, 53.788307526625175, 95.95826096796748, 80.79769651294059, 78.14406468398832, 68.23247215435386, 61.32276542849349, 55.96844161304543, 72.6636445793578  …  70.57095990927778, 56.885030455928586, 57.10371327651937, 54.562635659705236, 85.08884895732804, 58.19650078933194, 53.813747069518975, 59.67035282622424, 63.515437343590484, 70.81588724537482]\n",
       " [0.0036360375853054954, 0.3268188907443441, 0.0004950586767723036, 0.01319153515838029, 0.16246618764856968, 0.020528466695318028, 0.06972641511321026, 0.0001248589104607662, 0.013638782251654146, 0.013744614915107561  …  0.3836166457962696, 0.07812157335080128, 0.04594174574982605, 0.15659138281783544, 0.213617573415125, 0.06987804225162081, 0.23356249705778098, 0.005006226233290857, 0.007894134214443366, 0.4532465223271124]\n",
       " [166.89533645846177, 51.48015657039094, 121.24748684535668, 173.5288171954873, 88.93462044297489, 142.30766826502077, 129.75813273824014, 132.9575668397971, 68.9041715467593, 79.5205826382376  …  60.673172715556916, 58.59722883604478, 167.63384541189828, 111.41610055332534, 78.96156038035112, 167.9047538335752, 143.33444676268257, 79.87106206864922, 75.31719975773225, 56.44087365552754]\n",
       " [0.040141880710934164, 0.08309956374292486, 0.039877417357587236, 0.04647068747366334, 0.08085162662592782, 0.03908950463455663, 0.03735639585058924, 0.034693682095667575, 0.05013050778410276, 0.08766971095887659  …  0.06652699815932803, 0.07745185076748301, 0.029610576282311698, 0.03566857121398575, 0.0767056348814836, 0.029229653487967126, 0.033059904638579926, 0.08800380407334524, 0.05264379400451527, 0.12949177900188708]\n",
       " [0.050710958650222154, 0.03621141172824276, 0.024721637193223622, 0.03465249533526595, 0.0503913458916246, 0.03257492184956438, 0.026965794799844255, 0.028247797464124952, 0.026402527329783276, 0.03248057796964071  …  0.03951567890047504, 0.03583675218611662, 0.025217080369143715, 0.03271598918250994, 0.056971388124567666, 0.0289506472791422, 0.024167550794857988, 0.04957428570635809, 0.05336532623659607, 0.04841486240814523]\n",
       " [0.044335499066864265, 0.031753218105877876, 0.019070853096964838, 0.026881036534768386, 0.04692069545770079, 0.023834083816446718, 0.02375706286967686, 0.022660990093900713, 0.022770060781371292, 0.02630384487790354  …  0.03593783688661528, 0.026804729168728468, 0.02208687938926803, 0.022752482823514646, 0.04749671592648595, 0.023276026387596713, 0.020772850643652342, 0.035244723363778485, 0.05141960982052385, 0.03923058311610867]"
      ]
     },
     "execution_count": 15,
     "metadata": {},
     "output_type": "execute_result"
    }
   ],
   "source": [
    "obj1_3 = [inverse_transform(y_scalers[\"OBJ1\"], -item[1])[1] for item in pareto_front_3];\n",
    "dE_3 = [item[2] for item in pareto_front_3];\n",
    "obj3_3 = [inverse_transform(y_scalers[\"OBJ3\"], item[3])[1] for item in pareto_front_3];\n",
    "obj4_3 = [inverse_transform(y_scalers[\"OBJ4\"], item[4])[1] for item in pareto_front_3];\n",
    "obj5_3 = [inverse_transform(y_scalers[\"OBJ5\"], item[5])[1] for item in pareto_front_3];\n",
    "obj6_3 = [inverse_transform(y_scalers[\"OBJ6\"], item[6])[1] for item in pareto_front_3];\n",
    "\n",
    "unscaled_pareto_front_3 = [obj1_3, dE_3, obj3_3, obj4_3, obj5_3, obj6_3]"
   ]
  },
  {
   "cell_type": "code",
   "execution_count": 16,
   "metadata": {},
   "outputs": [
    {
     "data": {
      "text/plain": [
       "8"
      ]
     },
     "execution_count": 16,
     "metadata": {},
     "output_type": "execute_result"
    }
   ],
   "source": [
    "emit_cutoff = 0.04\n",
    "long_emit_mask = obj4_3 .< emit_cutoff; trans_emit_mask = obj5_3 .< emit_cutoff;\n",
    "\n",
    "\n",
    "transmission_cutoff = 90\n",
    "high_transmission_mask = obj1_3 .> 90\n",
    "\n",
    "sum(long_emit_mask .& trans_emit_mask .& high_transmission_mask)"
   ]
  },
  {
   "cell_type": "code",
   "execution_count": 17,
   "metadata": {},
   "outputs": [
    {
     "data": {
      "text/plain": [
       "8-element Vector{Int64}:\n",
       " 111\n",
       " 173\n",
       " 188\n",
       " 253\n",
       " 301\n",
       " 326\n",
       " 427\n",
       " 459"
      ]
     },
     "execution_count": 17,
     "metadata": {},
     "output_type": "execute_result"
    }
   ],
   "source": [
    "candidates = [i for i in 1:length(obj1_3)][long_emit_mask .& trans_emit_mask .& high_transmission_mask]"
   ]
  },
  {
   "cell_type": "code",
   "execution_count": 19,
   "metadata": {},
   "outputs": [
    {
     "name": "stdout",
     "output_type": "stream",
     "text": [
      "candidate 111\n",
      "Any[11.312970323488116, 103.74379387497902, 149.3844632942009, 1.4468444964149967, 1.5137434508318173, 140.85678306221962, 473.19513192772865, -50.198363710194826, -43.642042370082365, 245.1396758556366, 245.14222127199173, 1.8956221811010057, -37.69371108684824, 0.06037109433236765]\n",
      "OBJ1: 94.79876573842469\n",
      "OBJ2: 0.17501622242697612\n",
      "OBJ3: 193.25768612868725\n",
      "OBJ4: 0.03858259125407443\n",
      "OBJ5: 0.0341736188594608\n",
      "OBJ6: 0.026246556505827648\n",
      " \n",
      "candidate 173\n",
      "Any[9.14601474441588, 64.9847204387188, 76.2309561819387, 1.5052128004608676, 1.7909850165139312, 159.3742377460003, 287.0468702018261, -49.37874272093177, -44.20807974211494, 446.882483959198, 415.69541972875595, 1.9007708828235987, -38.63379833969139, 0.07181640870840056]\n",
      "OBJ1: 94.58276360004898\n",
      "OBJ2: 0.06372045925088275\n",
      "OBJ3: 147.07616211377461\n",
      "OBJ4: 0.03351893707102554\n",
      "OBJ5: 0.027653176211403615\n",
      "OBJ6: 0.02315885975402657\n",
      " \n",
      "candidate 188\n",
      "Any[9.638193929567933, 92.40610572695732, 132.9467267730292, 1.3640429488150403, 1.5106856988976276, 338.7011673152447, 466.37294432520866, -48.442033018916845, -39.131991097078725, 485.86660146713257, 127.21686691045761, 1.8974646983034384, -30.378560747272065, 0.0571289063009317]\n",
      "OBJ1: 90.94618709732792\n",
      "OBJ2: 0.013611862707362227\n",
      "OBJ3: 180.18800554614168\n",
      "OBJ4: 0.037317465308139834\n",
      "OBJ5: 0.03218449291319067\n",
      "OBJ6: 0.027497242174523484\n",
      " \n",
      "candidate 253\n",
      "Any[9.544201376847923, 125.43041829764843, 136.06650615751303, 1.137017394124996, 1.7946436511515476, 227.35278849303722, 98.21846334636211, -61.29251924343407, -56.89504833399721, 452.9737523198128, 481.2365774214268, 1.9028263846349518, -54.276755025742204, 0.06333007919238298]\n",
      "OBJ1: 94.20724295468762\n",
      "OBJ2: 0.03624667916847791\n",
      "OBJ3: 129.226033229721\n",
      "OBJ4: 0.033503841969574163\n",
      "OBJ5: 0.03885977199664087\n",
      "OBJ6: 0.03520604859399661\n",
      " \n",
      "candidate 301\n",
      "Any[11.1574553726241, 77.97032837569714, 141.04285899715518, 1.4356459264527075, 1.5605448203222283, 153.28296975791454, 133.3039995878935, -73.93810022063553, -67.01663949113924, 441.2785170674324, 274.62355986237526, 1.8994033913878994, -60.53798708516738, 0.0616113289106579]\n",
      "OBJ1: 97.63954703813062\n",
      "OBJ2: 0.14979277938101765\n",
      "OBJ3: 114.10654525514\n",
      "OBJ4: 0.038925036243598846\n",
      "OBJ5: 0.03553934425732308\n",
      "OBJ6: 0.028030582586715418\n",
      " \n",
      "candidate 326\n",
      "Any[11.663306201808155, 18.381548807024956, 64.17898653127565, 1.248324392538052, 1.4828447359175163, 471.0035080164671, 291.18891267478466, -34.36211531050503, -31.074738554130068, 404.24360543489456, 194.70720401406288, 1.5818867349744217, -28.24380010378175, 0.06153320389785222]\n",
      "OBJ1: 97.84705810685492\n",
      "OBJ2: 0.27819582748058674\n",
      "OBJ3: 192.47028214421718\n",
      "OBJ4: 0.03841512375343271\n",
      "OBJ5: 0.03578988728704652\n",
      "OBJ6: 0.027527146296817358\n",
      " \n",
      "candidate 427\n",
      "Any[8.70339526887983, 12.844538316130638, 40.057130322848494, 1.3799924272461794, 1.6566078347935353, 255.6162719577551, 221.99243842065334, -67.73239844478667, -60.69460608239569, 60.20876842737198, 250.25881722569466, 1.8136214045689854, -51.42412249195036, 0.05696289064871962]\n",
      "OBJ1: 93.35508334840941\n",
      "OBJ2: 0.012099605778850562\n",
      "OBJ3: 183.9211023210505\n",
      "OBJ4: 0.03530620859340167\n",
      "OBJ5: 0.03256936916046595\n",
      "OBJ6: 0.025944928537144776\n",
      " \n",
      "candidate 459\n",
      "Any[9.933843231759965, 9.680532321333885, 64.69588443568071, 1.515732669213321, 1.6502632982457235, 407.6543209403753, 366.23297630250454, -57.896946573629975, -47.456581719666744, 313.6055322289467, 215.1735878288746, 1.7088981650314223, -41.507548568117436, 0.05993164113533567]\n",
      "OBJ1: 96.56689826503639\n",
      "OBJ2: 0.06718787958269516\n",
      "OBJ3: 186.92393004590394\n",
      "OBJ4: 0.03898940432535555\n",
      "OBJ5: 0.039721516826624656\n",
      "OBJ6: 0.03312670716701961\n",
      " \n"
     ]
    }
   ],
   "source": [
    "for j in candidates\n",
    "    println(\"candidate $j\")\n",
    "    candidate_dvars = minmaxscale(pareto_set_3[j]; var=\"x\", inverse=true)\n",
    "    println(recorr(candidate_dvars))\n",
    "    for i in 1:6\n",
    "        println(\"OBJ$i: \", unscaled_pareto_front_3[i][j])\n",
    "    end\n",
    "    println(\" \")\n",
    "end"
   ]
  },
  {
   "cell_type": "markdown",
   "metadata": {},
   "source": [
    "Clearly, `138` is the winner."
   ]
  },
  {
   "cell_type": "code",
   "execution_count": 41,
   "metadata": {},
   "outputs": [
    {
     "data": {
      "text/plain": [
       "(9.14601474441588, 64.9847204387188, 0.014658961890745559)"
      ]
     },
     "execution_count": 41,
     "metadata": {},
     "output_type": "execute_result"
    }
   ],
   "source": [
    "candidate_dvars[[1, 2, 3]]"
   ]
  },
  {
   "cell_type": "code",
   "execution_count": 121,
   "metadata": {},
   "outputs": [
    {
     "data": {
      "text/plain": [
       "plot_pairwise_scatter (generic function with 3 methods)"
      ]
     },
     "execution_count": 121,
     "metadata": {},
     "output_type": "execute_result"
    }
   ],
   "source": [
    "function plot_pairwise_scatter(vec1, vec2, vec1label, vec2label, indexes, winner_index, incl_xticks, incl_yticks)\n",
    "    loser_indexes = [i for i in indexes if i != winner_index]\n",
    "    \n",
    "    \n",
    "    scatter(\n",
    "        [vec1[i] for i in loser_indexes], [vec2[i] for i in loser_indexes];\n",
    "        xlabel=vec1label, ylabel=vec2label, legend=false, markersize=3, markerstrokewidth=0.5,\n",
    "        xformatter = incl_xticks ? :auto : Returns(\"\"), yformatter = incl_yticks ? :auto : Returns(\"\") \n",
    "    )\n",
    "    \n",
    "    scatter!([vec1[winner_index]], [vec2[winner_index]]; markershape=:star5, markersize=10, markerstrokewidth=0.5)\n",
    "end"
   ]
  },
  {
   "cell_type": "code",
   "execution_count": 124,
   "metadata": {},
   "outputs": [],
   "source": [
    "labels = [\n",
    "    \"Transmission [%]\",\n",
    "    \"Scaled target/output\\nenergy squared error\",\n",
    "    \"RFQ length [cm]\",\n",
    "    \"Longitudinal emittance\\n[MeV deg]\",\n",
    "    \"Transverse (radial)\\nemittance [cm mrad]\"\n",
    "]\n",
    "indexes = [i for i in 1:length(pareto_front_3)]\n",
    "\n",
    "layout = @layout([ ° _ _ _ ; ° ° _ _ ; ° ° ° _ ; ° ° ° ° ])\n",
    "\n",
    "#plot(p1, p2, p3, layout = l)\n",
    "\n",
    "plots_dict = Dict()\n",
    "\n",
    "for i in 1:5\n",
    "    for j in 1:5\n",
    "        if i < j\n",
    "            p = plot_pairwise_scatter(\n",
    "                unscaled_pareto_front_3[i], unscaled_pareto_front_3[j],\n",
    "                j==5 ? labels[i] : \"\", i==1 ? labels[j] : \"\", indexes, 138, j==5, i==1\n",
    "            )\n",
    "            if i == 1\n",
    "                xflip!(true)\n",
    "            end\n",
    "            # display(p)\n",
    "            merge!(plots_dict, Dict(\"$i$j\"=>p))\n",
    "        end\n",
    "    end\n",
    "end\n",
    "\n",
    "pareto_plot = plot(\n",
    "    [plots_dict[\"$i$j\"] for j in 1:5 for i in 1:5 if i<j]...,\n",
    "    layout = layout, widths=(1/4,1/4,1/4,1/4), size=(1000,800), dpi=500\n",
    ")\n",
    "\n",
    "# savefig(pareto_plot,\"../../img/pareto_plot.png\")"
   ]
  },
  {
   "cell_type": "markdown",
   "metadata": {},
   "source": [
    "## CHECKING OPTIMAL ANSWER FROM ABOVE"
   ]
  },
  {
   "cell_type": "code",
   "execution_count": 30,
   "metadata": {},
   "outputs": [
    {
     "data": {
      "text/plain": [
       "(95.67445783296316, 0.06584600251118666, 147.91082243803984, 0.035490431684761965, 0.03885549528570143, 0.77829399178314)"
      ]
     },
     "execution_count": 30,
     "metadata": {},
     "output_type": "execute_result"
    }
   ],
   "source": [
    "optimal_dvars = [\n",
    "    9.14601474441588,\n",
    "    64.9847204387188,\n",
    "    76.2309561819387,\n",
    "    1.5052128004608676,\n",
    "    1.7909850165139312,\n",
    "    159.3742377460003,\n",
    "    287.0468702018261,\n",
    "    -49.37874272093177,\n",
    "    -44.20807974211494,\n",
    "    446.882483959198,\n",
    "    415.69541972875595,\n",
    "    1.9007708828235987,\n",
    "    -38.63379833969139,\n",
    "    0.07181640870840056,\n",
    "]\n",
    "\n",
    "optimal_dvars_decorr = decorr(optimal_dvars);\n",
    "optimal_dvars_decorred_scaled = minmaxscale(optimal_dvars_decorr);\n",
    "optimal_predicted_objs_scaled = predict(optimal_dvars_decorred_scaled);\n",
    "optimal_predicted_objs = minmaxscale(optimal_predicted_objs_scaled; var=\"y\", inverse=true)"
   ]
  },
  {
   "cell_type": "code",
   "execution_count": null,
   "metadata": {},
   "outputs": [],
   "source": []
  }
 ],
 "metadata": {
  "kernelspec": {
   "display_name": "Julia 1.8.0",
   "language": "julia",
   "name": "julia-1.8"
  },
  "language_info": {
   "file_extension": ".jl",
   "mimetype": "application/julia",
   "name": "julia",
   "version": "1.8.0"
  }
 },
 "nbformat": 4,
 "nbformat_minor": 4
}
