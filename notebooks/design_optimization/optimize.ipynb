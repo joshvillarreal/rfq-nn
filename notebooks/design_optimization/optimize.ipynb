{
 "cells": [
  {
   "cell_type": "code",
   "execution_count": 1,
   "metadata": {},
   "outputs": [
    {
     "data": {
      "text/plain": [
       "main (generic function with 1 method)"
      ]
     },
     "execution_count": 1,
     "metadata": {},
     "output_type": "execute_result"
    }
   ],
   "source": [
    "using Plots\n",
    "using Statistics\n",
    "using Surrogates\n",
    "using CSV\n",
    "using DataFrames\n",
    "using Distributions\n",
    "using Flux\n",
    "import JSON\n",
    "using MLUtils\n",
    "using Plots\n",
    "using StatsBase\n",
    "using StatsPlots\n",
    "using Tables\n",
    "\n",
    "include(\"../../scan_hyperparameters_withcellnum_functions.jl\")"
   ]
  },
  {
   "cell_type": "markdown",
   "metadata": {},
   "source": [
    "### Loading data and making cuts for proper scaling"
   ]
  },
  {
   "cell_type": "code",
   "execution_count": 2,
   "metadata": {},
   "outputs": [
    {
     "name": "stdout",
     "output_type": "stream",
     "text": [
      "Formatting data...\n",
      "Decorrelating...\n",
      "Done!\n"
     ]
    }
   ],
   "source": [
    "target_directory = \"../../data/full_with_cellnumber/\"\n",
    "\n",
    "println(\"Formatting data...\")\n",
    "x_raw_df, y_df, cellnumber_df = getrawdata_withcellnum(target_directory)\n",
    "\n",
    "# how to process cellnumber, for now let's make it another dvar\n",
    "x_raw_origcn_df = hcat(x_raw_df, cellnumber_df)\n",
    "x_raw_df = hcat(x_raw_df, cellnumber_df .% 2)\n",
    "\n",
    "# cutting\n",
    "#= println(\"Cutting Transmission to 60-100 percent...\")\n",
    "lower::Float32 = 60\n",
    "upper::Float32 = 120\n",
    "x_raw_df, y_df = applycut(x_raw_df, y_df, \"OBJ1\", lower, upper; with_numcells=true) =#\n",
    "\n",
    "# decorrelating\n",
    "println(\"Decorrelating...\")\n",
    "x_df = decorrelatedvars(x_raw_df; with_numcells=true)\n",
    "\n",
    "x_scaled_df, x_scalers = minmaxscaledf(x_df);\n",
    "y_scaled_df, y_scalers = minmaxscaledf(y_df);\n",
    "\n",
    "println(\"Done!\")"
   ]
  },
  {
   "cell_type": "code",
   "execution_count": 3,
   "metadata": {},
   "outputs": [
    {
     "data": {
      "text/plain": [
       "Dict{String, MinMaxScaler} with 6 entries:\n",
       "  \"OBJ4\" => MinMaxScaler(0.00582, 1.34901)\n",
       "  \"OBJ6\" => MinMaxScaler(0.00697, 0.10912)\n",
       "  \"OBJ2\" => MinMaxScaler(0.0542, 0.087)\n",
       "  \"OBJ3\" => MinMaxScaler(35.05, 386.37)\n",
       "  \"OBJ5\" => MinMaxScaler(0.00731, 0.10398)\n",
       "  \"OBJ1\" => MinMaxScaler(1.53, 99.5)"
      ]
     },
     "execution_count": 3,
     "metadata": {},
     "output_type": "execute_result"
    }
   ],
   "source": [
    "y_scalers"
   ]
  },
  {
   "cell_type": "markdown",
   "metadata": {},
   "source": [
    "A sanity check since Julia alphabetizes column names:\n",
    "\n",
    "Recall that these are the original ranges of our DVARs\n",
    "\n",
    "```\n",
    "DVAR1: Bmax  [ 8.5, 12.0 ]\n",
    "DVAR2: mX1  [ 5, 140 ]\n",
    "DVAR3: mX2  [ 15, 160 ]\n",
    "DVAR4: mY1  [ 1.005, 1.7 ]\n",
    "DVAR5: mY2  [ 1.055, 1.85 ]\n",
    "DVAR6: mtau1  [ 1, 500 ]\n",
    "DVAR7: mtau2  [ 1, 500 ]\n",
    "DVAR8: PhiY1  [ -89.95, -30 ]\n",
    "DVAR9: PhiY2  [ -87.45, -25 ]\n",
    "DVAR10: Phitau1  [ 1, 500 ]\n",
    "DVAR11: Phitau2  [ 1, 500 ]\n",
    "DVAR12: mY3ref  [ 1.105, 2.0 ]\n",
    "DVAR13: PhiY3ref  [ -84.95, -20 ]\n",
    "DVAR14: Eref  [ 0.055, 0.075 ]\n",
    "```\n",
    "\n",
    "but recall also that we decorrelate `DVAR3`, `DVAR5`, `DVAR9`, `DVAR12`, `DVAR13`. This means that their unscaled values will fall between 0 and 1."
   ]
  },
  {
   "cell_type": "code",
   "execution_count": 4,
   "metadata": {},
   "outputs": [
    {
     "data": {
      "text/plain": [
       "Dict{String, MinMaxScaler} with 15 entries:\n",
       "  \"DVAR7\"      => MinMaxScaler(1.00229, 499.997)\n",
       "  \"DVAR5\"      => MinMaxScaler(-7.45177f-8, 0.999996)\n",
       "  \"DVAR12\"     => MinMaxScaler(7.62605f-6, 0.999995)\n",
       "  \"DVAR14\"     => MinMaxScaler(0.0550001, 0.075)\n",
       "  \"DVAR2\"      => MinMaxScaler(5.00044, 139.998)\n",
       "  \"DVAR10\"     => MinMaxScaler(1.00164, 499.998)\n",
       "  \"DVAR1\"      => MinMaxScaler(8.50002, 12.0)\n",
       "  \"DVAR3\"      => MinMaxScaler(1.07697f-5, 0.999996)\n",
       "  \"DVAR6\"      => MinMaxScaler(1.00127, 499.998)\n",
       "  \"DVAR4\"      => MinMaxScaler(1.005, 1.7)\n",
       "  \"DVAR8\"      => MinMaxScaler(-89.95, -30.0006)\n",
       "  \"DVAR13\"     => MinMaxScaler(2.18249f-5, 0.999996)\n",
       "  \"cellnumber\" => MinMaxScaler(0.0, 1.0)\n",
       "  \"DVAR11\"     => MinMaxScaler(1.00553, 499.997)\n",
       "  \"DVAR9\"      => MinMaxScaler(3.582f-7, 0.999995)"
      ]
     },
     "execution_count": 4,
     "metadata": {},
     "output_type": "execute_result"
    }
   ],
   "source": [
    "x_scalers # looks good"
   ]
  },
  {
   "cell_type": "code",
   "execution_count": 5,
   "metadata": {},
   "outputs": [
    {
     "name": "stdout",
     "output_type": "stream",
     "text": [
      "[\"DVAR1\", \"DVAR2\", \"DVAR3\", \"DVAR4\", \"DVAR5\", \"DVAR6\", \"DVAR7\", \"DVAR8\", \"DVAR9\", \"DVAR10\", \"DVAR11\", \"DVAR12\", \"DVAR13\", \"DVAR14\", \"cellnumber\"]\n",
      "[\"DVAR1\", \"DVAR2\", \"DVAR3\", \"DVAR4\", \"DVAR5\", \"DVAR6\", \"DVAR7\", \"DVAR8\", \"DVAR9\", \"DVAR10\", \"DVAR11\", \"DVAR12\", \"DVAR13\", \"DVAR14\", \"cellnumber\"]\n"
     ]
    }
   ],
   "source": [
    "println(names(x_df))\n",
    "println(names(x_scaled_df))"
   ]
  },
  {
   "cell_type": "code",
   "execution_count": 6,
   "metadata": {},
   "outputs": [],
   "source": [
    "@assert names(x_df) == names(x_scaled_df)"
   ]
  },
  {
   "cell_type": "code",
   "execution_count": 7,
   "metadata": {},
   "outputs": [
    {
     "data": {
      "text/plain": [
       "decorrelate_single (generic function with 1 method)"
      ]
     },
     "execution_count": 7,
     "metadata": {},
     "output_type": "execute_result"
    }
   ],
   "source": [
    "function decorrelate_single(data_to_transform, dynamic_lower_bound, strict_upper_bound; inverse=false)\n",
    "    if inverse\n",
    "        dynamic_lower_bound + data_to_transform*(strict_upper_bound - dynamic_lower_bound)\n",
    "    else\n",
    "        (data_to_transform - dynamic_lower_bound) / (strict_upper_bound - dynamic_lower_bound)\n",
    "    end\n",
    "end"
   ]
  },
  {
   "cell_type": "code",
   "execution_count": 8,
   "metadata": {},
   "outputs": [
    {
     "data": {
      "text/plain": [
       "minmaxscale (generic function with 1 method)"
      ]
     },
     "execution_count": 8,
     "metadata": {},
     "output_type": "execute_result"
    }
   ],
   "source": [
    "function decorr(vec)\n",
    "    # we are only decorrelating unscaled vectors, which means that these vectors have their DVARs in\n",
    "    # quasi-numerical order DVAR1, ... DVAR14, cellnumber\n",
    "    maxes = Dict(\n",
    "        \"DVAR3\"=>160.,\n",
    "        \"DVAR5\"=>1.85,\n",
    "        \"DVAR9\"=>-25.,\n",
    "        \"DVAR12\"=>2.,\n",
    "        \"DVAR13\"=>-20.\n",
    "    )\n",
    "    etas = Dict(\n",
    "        \"DVAR3\"=>10.,\n",
    "        \"DVAR5\"=>0.05,\n",
    "        \"DVAR9\"=>2.5,\n",
    "        \"DVAR12\"=>0.05,\n",
    "        \"DVAR13\"=>2.5\n",
    "    )\n",
    "    dvarmap = Dict(\n",
    "        3=>2, # DVAR3prime ∼ Uniform(DVAR2prime + δ3, u3) \n",
    "        5=>4,\n",
    "        9=>8,\n",
    "        12=>5,\n",
    "        13=>9\n",
    "    )\n",
    "    \n",
    "    decorred_vec = []\n",
    "    \n",
    "    for i in 1:15\n",
    "        dvar = (i == 15) ? \"cellnumber\" : \"DVAR$i\"\n",
    "        # transform?\n",
    "        if dvar ∈ keys(maxes)\n",
    "            dependent_dvar = deps[dvar]\n",
    "            append!(decorred_vec, getdvarprimesing(vec[i], etas[dvar] + vec[dvarmap[i]], maxes[dvar])) \n",
    "        else\n",
    "            append!(decorred_vec, vec[i])\n",
    "        end\n",
    "    end\n",
    "    decorred_vec\n",
    "end\n",
    "\n",
    "function recorr(vec)\n",
    "    # we are only recorrelating scaled vectors, which means that these vectors have their DVARs in\n",
    "    # quasi-alphabetical order DVAR1, DVAR10, ... DVAR2, ... DVAR9, cellnumber\n",
    "    maxes = Dict(\n",
    "        \"DVAR3\"=>160.,\n",
    "        \"DVAR5\"=>1.85,\n",
    "        \"DVAR9\"=>-25.,\n",
    "        \"DVAR12\"=>2.,\n",
    "        \"DVAR13\"=>-20.\n",
    "    )\n",
    "    etas = Dict(\n",
    "        \"DVAR3\"=>10.,\n",
    "        \"DVAR5\"=>0.05,\n",
    "        \"DVAR9\"=>2.5,\n",
    "        \"DVAR12\"=>0.05,\n",
    "        \"DVAR13\"=>2.5\n",
    "    )\n",
    "    dvarmap = Dict(\n",
    "        3=>2,\n",
    "        5=>4,\n",
    "        9=>8,\n",
    "        12=>5,\n",
    "        13=>9\n",
    "    )\n",
    "    \n",
    "    recorred_vec = []\n",
    "    \n",
    "    for i in 1:14\n",
    "        if i ∈ [3, 5, 9]\n",
    "            append!(\n",
    "                recorred_vec, decorrelate_single(vec[i], etas[\"DVAR$i\"] + vec[dvarmap[i]], maxes[\"DVAR$i\"]; inverse=true)\n",
    "            )\n",
    "        elseif i ∈ [12, 13]\n",
    "            append!(\n",
    "                recorred_vec,\n",
    "                decorrelate_single(\n",
    "                    vec[i], etas[\"DVAR$i\"] + recorred_vec[dvarmap[i]], maxes[\"DVAR$i\"]; inverse=true\n",
    "                )\n",
    "            )\n",
    "        else\n",
    "            append!(recorred_vec, vec[i])\n",
    "        end\n",
    "    end\n",
    "    \n",
    "    recorred_vec\n",
    "end\n",
    "\n",
    "function minmaxscale(vec; var=\"x\", inverse=false)\n",
    "    outvec = []\n",
    "    \n",
    "    transform_fun(scaler, x) = inverse ? inverse_transform(scaler, x) : transform(scaler, x)\n",
    "    \n",
    "    if var == \"x\"\n",
    "        for i in 1:14\n",
    "            scaler = x_scalers[\"DVAR$i\"]\n",
    "            append!(outvec, transform_fun(scaler, vec[i]))\n",
    "        end\n",
    "    elseif var == \"y\"\n",
    "        for i in 1:6\n",
    "            scaler = y_scalers[\"OBJ$i\"]\n",
    "            append!(outvec, transform_fun(scaler, vec[i]))\n",
    "        end\n",
    "    end\n",
    "    \n",
    "    return Tuple(outvec)\n",
    "end"
   ]
  },
  {
   "cell_type": "markdown",
   "metadata": {},
   "source": [
    "### Loading Model"
   ]
  },
  {
   "cell_type": "code",
   "execution_count": 9,
   "metadata": {},
   "outputs": [
    {
     "data": {
      "text/plain": [
       "model_id_to_nn (generic function with 1 method)"
      ]
     },
     "execution_count": 9,
     "metadata": {},
     "output_type": "execute_result"
    }
   ],
   "source": [
    "function model_id_to_nn(model_id, x_dim, y_dim)\n",
    "    model_params = Dict()\n",
    "    \n",
    "    for substring in split(model_id, \"_\")\n",
    "        if occursin(\"-\", substring)\n",
    "            continue\n",
    "        elseif occursin(\"w=\", substring)\n",
    "            model_params[\"width\"] = parse(Int, last(split(substring, \"=\")))\n",
    "        elseif occursin(\"d=\", substring)\n",
    "            model_params[\"depth\"] = parse(Int, last(split(substring, \"=\")))\n",
    "        elseif occursin(\"activation=\", substring)\n",
    "            activation_function_string = last(split(substring, \"=\"))\n",
    "            model_params[\"activation\"] = parseactivationfunctions([activation_function_string])[1]\n",
    "        elseif occursin(\"dr=\", substring)\n",
    "            model_params[\"dropout_rate\"] = parse(Float32, last(split(substring, \"=\")))\n",
    "        end\n",
    "    end\n",
    "    \n",
    "    neuralnetworkwithdropout(\n",
    "        x_dim, y_dim, model_params[\"width\"], model_params[\"depth\"],\n",
    "        model_params[\"dropout_rate\"], model_params[\"activation\"]\n",
    "    )\n",
    "end"
   ]
  },
  {
   "cell_type": "code",
   "execution_count": 10,
   "metadata": {},
   "outputs": [],
   "source": [
    "model_id = \"2023-06-16_19-27-42_w=100_d=6_activation=sigmoid_bs=1024_lr=0.001_dr=0.0_1\"\n",
    "model_state = JLD2.load(\"../../models/$model_id.jld2\", \"model_state\");\n",
    "m = model_id_to_nn(model_id, size(x_df)[2], size(y_df)[2]);\n",
    "Flux.loadmodel!(m, model_state);\n",
    "\n",
    "#@load \"../../models/2023-06-08_18-19-09_w=100_d=5_activation=sigmoid_bs=1024_lr=0.001_dr=0.0_1.jld2\" m; old way"
   ]
  },
  {
   "cell_type": "code",
   "execution_count": 11,
   "metadata": {},
   "outputs": [
    {
     "data": {
      "text/plain": [
       "predict (generic function with 1 method)"
      ]
     },
     "execution_count": 11,
     "metadata": {},
     "output_type": "execute_result"
    }
   ],
   "source": [
    "function predict(x_vec)\n",
    "    m([x_vec...])'\n",
    "end"
   ]
  },
  {
   "cell_type": "code",
   "execution_count": 12,
   "metadata": {},
   "outputs": [
    {
     "name": "stdout",
     "output_type": "stream",
     "text": [
      "(0.28919423f0, -0.3137467f0, 0.1475386862263235, 0.6688788f0, 0.5534791401182384, -0.7847122f0, -0.8160064f0, -0.45144355f0, 0.33135014022087317, -0.44775814f0, 0.4049362f0, 0.17109923841804942, 0.3576814045090202, -0.43408716f0, -1.0f0)\n",
      "Prediction:\n"
     ]
    },
    {
     "name": "stderr",
     "output_type": "stream",
     "text": [
      "\u001b[33m\u001b[1m┌ \u001b[22m\u001b[39m\u001b[33m\u001b[1mWarning: \u001b[22m\u001b[39mLayer with Float32 parameters got Float64 input.\n",
      "\u001b[33m\u001b[1m│ \u001b[22m\u001b[39m  The input will be converted, but any earlier layers may be very slow.\n",
      "\u001b[33m\u001b[1m│ \u001b[22m\u001b[39m  layer = Dense(15 => 100, #69)  \u001b[90m# 1_600 parameters\u001b[39m\n",
      "\u001b[33m\u001b[1m│ \u001b[22m\u001b[39m  summary(x) = \"15-element Vector{Float64}\"\n",
      "\u001b[33m\u001b[1m└ \u001b[22m\u001b[39m\u001b[90m@ Flux ~/.julia/packages/Flux/EHgZm/src/layers/stateless.jl:60\u001b[39m\n"
     ]
    },
    {
     "name": "stdout",
     "output_type": "stream",
     "text": [
      "Float32[0.8280521 -0.47372794 -0.63120365 -0.8962653 0.23376288 -0.08396596]\n",
      "True:\n",
      "\u001b[1mDataFrameRow\u001b[0m\n",
      "\u001b[1m Row \u001b[0m│\u001b[1m OBJ1     \u001b[0m\u001b[1m OBJ2 \u001b[0m\u001b[1m OBJ3      \u001b[0m\u001b[1m OBJ4      \u001b[0m\u001b[1m OBJ5     \u001b[0m\u001b[1m OBJ6       \u001b[0m\n",
      "     │\u001b[90m Any      \u001b[0m\u001b[90m Any  \u001b[0m\u001b[90m Any       \u001b[0m\u001b[90m Any       \u001b[0m\u001b[90m Any      \u001b[0m\u001b[90m Any        \u001b[0m\n",
      "─────┼────────────────────────────────────────────────────────────\n",
      "   1 │ 0.826478  -0.5  -0.634009  -0.894922  0.304231  -0.0885951\n"
     ]
    }
   ],
   "source": [
    "# do i understand how the model predicts for a given x_vec?\n",
    "println(values(first(x_scaled_df)))\n",
    "\n",
    "println(\"Prediction:\")\n",
    "println(predict(values(first(x_scaled_df))))\n",
    "println(\"True:\")\n",
    "println(first(y_scaled_df))"
   ]
  },
  {
   "cell_type": "markdown",
   "metadata": {},
   "source": [
    "### Functionality to predict cellnumber"
   ]
  },
  {
   "cell_type": "code",
   "execution_count": 13,
   "metadata": {},
   "outputs": [
    {
     "name": "stderr",
     "output_type": "stream",
     "text": [
      "\u001b[32m\u001b[1m    Building\u001b[22m\u001b[39m Conda ─→ `~/.julia/scratchspaces/44cfe95a-1eb2-52ea-b672-e2afdf69b78f/915ebe6f0e7302693bdd8eac985797dba1d25662/build.log`\n",
      "\u001b[32m\u001b[1m    Building\u001b[22m\u001b[39m PyCall → `~/.julia/scratchspaces/44cfe95a-1eb2-52ea-b672-e2afdf69b78f/62f417f6ad727987c755549e9cd88c46578da562/build.log`\n"
     ]
    },
    {
     "data": {
      "text/plain": [
       "PyObject <function compute_cellnumber at 0x1df402290>"
      ]
     },
     "execution_count": 13,
     "metadata": {},
     "output_type": "execute_result"
    }
   ],
   "source": [
    "ENV[\"PYTHON\"] = \"\"                                                                                                                                   \n",
    "using Pkg\n",
    "Pkg.build(\"PyCall\")\n",
    "using PyCall\n",
    "\n",
    "# Julia uses a Python that is installed to a separte location than my current anaconda3 installation.\n",
    "# the following lines make sure that the correct Python packages are installed to read in the supplemental\n",
    "# Python script that computes cell number\n",
    "\n",
    "# using Conda\n",
    "# Conda.add(\"scipy\")\n",
    "# Conda.add(\"matplotlib\")\n",
    "\n",
    "py\"\"\"\n",
    "import sys\n",
    "sys.path.insert(0, \"./../../compute_cellnumber/\")\n",
    "\"\"\"\n",
    "\n",
    "compute_cellnumber = pyimport(\"compute_cellnumber\")[\"compute_cellnumber\"]"
   ]
  },
  {
   "cell_type": "code",
   "execution_count": 14,
   "metadata": {},
   "outputs": [
    {
     "data": {
      "text/plain": [
       "jl_row_to_py_row (generic function with 1 method)"
      ]
     },
     "execution_count": 14,
     "metadata": {},
     "output_type": "execute_result"
    }
   ],
   "source": [
    "# compute_cellnumber function uses different row keys\n",
    "# this is a nice sanity check to make sure we're passing in the data through the correct slots\n",
    "dvar_to_param = Dict(\n",
    "    \"DVAR1\" => \"Bmax\",\n",
    "    \"DVAR2\" => \"mX1\",\n",
    "    \"DVAR3\" => \"mX2\",\n",
    "    \"DVAR4\" => \"mY1\",\n",
    "    \"DVAR5\" => \"mY2\",\n",
    "    \"DVAR6\" => \"mtau1\",\n",
    "    \"DVAR7\" => \"mtau2\",\n",
    "    \"DVAR8\" => \"PhiY1\",\n",
    "    \"DVAR9\" => \"PhiY2\",\n",
    "    \"DVAR10\" => \"Phitau1\",\n",
    "    \"DVAR11\" => \"Phitau2\",\n",
    "    \"DVAR12\" => \"mY3ref\",\n",
    "    \"DVAR13\" => \"PhiY3ref\",\n",
    "    \"DVAR14\" => \"Eref\",\n",
    ")\n",
    "\n",
    "function jl_row_to_py_row(jl_row)\n",
    "    pyrow = Dict()\n",
    "    \n",
    "    for i in 1:14\n",
    "        pyrow[dvar_to_param[\"DVAR$i\"]] = jl_row[\"DVAR$i\"]\n",
    "    end\n",
    "    \n",
    "    pyrow\n",
    "end"
   ]
  },
  {
   "cell_type": "code",
   "execution_count": 39,
   "metadata": {},
   "outputs": [
    {
     "data": {
      "text/plain": [
       "72"
      ]
     },
     "execution_count": 39,
     "metadata": {},
     "output_type": "execute_result"
    }
   ],
   "source": [
    "testvec = [9.128926075994968, 46.13251566886902, 92.64902221358545, 1.0430100401863456, 1.4655896249619453,\n",
    "         425.9281220436096, 160.83639657497406, -82.92465263605118, -68.73355992420066, 199.82063472270966,\n",
    "         176.43237686157227, 1.6404787387120148, -56.480409869979695, 0.07234372169477865]\n",
    "\n",
    "compute_cellnumber(jl_row_to_py_row(Dict(\"DVAR$i\" => testvec[i] for i in 1:14)))"
   ]
  },
  {
   "cell_type": "code",
   "execution_count": 15,
   "metadata": {},
   "outputs": [
    {
     "data": {
      "text/plain": [
       "(11.181179f0, 132.81548f0, 158.4179f0, 1.6692148f0, 1.7696925f0, 475.04153f0, 402.1113f0, -60.956318f0, -48.767296f0, 410.49042f0, 20.040588f0, 1.8951204f0, -40.988632f0, 0.070214f0, 1)"
      ]
     },
     "execution_count": 15,
     "metadata": {},
     "output_type": "execute_result"
    }
   ],
   "source": [
    "values(x_raw_df[10, :])"
   ]
  },
  {
   "cell_type": "code",
   "execution_count": 16,
   "metadata": {},
   "outputs": [
    {
     "data": {
      "image/svg+xml": [
       "<?xml version=\"1.0\" encoding=\"utf-8\"?>\n",
       "<svg xmlns=\"http://www.w3.org/2000/svg\" xmlns:xlink=\"http://www.w3.org/1999/xlink\" width=\"600\" height=\"400\" viewBox=\"0 0 2400 1600\">\n",
       "<defs>\n",
       "  <clipPath id=\"clip420\">\n",
       "    <rect x=\"0\" y=\"0\" width=\"2400\" height=\"1600\"/>\n",
       "  </clipPath>\n",
       "</defs>\n",
       "<path clip-path=\"url(#clip420)\" d=\"M0 1600 L2400 1600 L2400 0 L0 0  Z\" fill=\"#ffffff\" fill-rule=\"evenodd\" fill-opacity=\"1\"/>\n",
       "<defs>\n",
       "  <clipPath id=\"clip421\">\n",
       "    <rect x=\"480\" y=\"0\" width=\"1681\" height=\"1600\"/>\n",
       "  </clipPath>\n",
       "</defs>\n",
       "<path clip-path=\"url(#clip420)\" d=\"M306.25 1486.45 L2352.76 1486.45 L2352.76 47.2441 L306.25 47.2441  Z\" fill=\"#ffffff\" fill-rule=\"evenodd\" fill-opacity=\"1\"/>\n",
       "<defs>\n",
       "  <clipPath id=\"clip422\">\n",
       "    <rect x=\"306\" y=\"47\" width=\"2048\" height=\"1440\"/>\n",
       "  </clipPath>\n",
       "</defs>\n",
       "<polyline clip-path=\"url(#clip422)\" style=\"stroke:#000000; stroke-linecap:round; stroke-linejoin:round; stroke-width:2; stroke-opacity:0.1; fill:none\" points=\"418.812,1486.45 418.812,47.2441 \"/>\n",
       "<polyline clip-path=\"url(#clip422)\" style=\"stroke:#000000; stroke-linecap:round; stroke-linejoin:round; stroke-width:2; stroke-opacity:0.1; fill:none\" points=\"863.051,1486.45 863.051,47.2441 \"/>\n",
       "<polyline clip-path=\"url(#clip422)\" style=\"stroke:#000000; stroke-linecap:round; stroke-linejoin:round; stroke-width:2; stroke-opacity:0.1; fill:none\" points=\"1307.29,1486.45 1307.29,47.2441 \"/>\n",
       "<polyline clip-path=\"url(#clip422)\" style=\"stroke:#000000; stroke-linecap:round; stroke-linejoin:round; stroke-width:2; stroke-opacity:0.1; fill:none\" points=\"1751.53,1486.45 1751.53,47.2441 \"/>\n",
       "<polyline clip-path=\"url(#clip422)\" style=\"stroke:#000000; stroke-linecap:round; stroke-linejoin:round; stroke-width:2; stroke-opacity:0.1; fill:none\" points=\"2195.77,1486.45 2195.77,47.2441 \"/>\n",
       "<polyline clip-path=\"url(#clip420)\" style=\"stroke:#000000; stroke-linecap:round; stroke-linejoin:round; stroke-width:4; stroke-opacity:1; fill:none\" points=\"306.25,1486.45 2352.76,1486.45 \"/>\n",
       "<polyline clip-path=\"url(#clip420)\" style=\"stroke:#000000; stroke-linecap:round; stroke-linejoin:round; stroke-width:4; stroke-opacity:1; fill:none\" points=\"418.812,1486.45 418.812,1467.55 \"/>\n",
       "<polyline clip-path=\"url(#clip420)\" style=\"stroke:#000000; stroke-linecap:round; stroke-linejoin:round; stroke-width:4; stroke-opacity:1; fill:none\" points=\"863.051,1486.45 863.051,1467.55 \"/>\n",
       "<polyline clip-path=\"url(#clip420)\" style=\"stroke:#000000; stroke-linecap:round; stroke-linejoin:round; stroke-width:4; stroke-opacity:1; fill:none\" points=\"1307.29,1486.45 1307.29,1467.55 \"/>\n",
       "<polyline clip-path=\"url(#clip420)\" style=\"stroke:#000000; stroke-linecap:round; stroke-linejoin:round; stroke-width:4; stroke-opacity:1; fill:none\" points=\"1751.53,1486.45 1751.53,1467.55 \"/>\n",
       "<polyline clip-path=\"url(#clip420)\" style=\"stroke:#000000; stroke-linecap:round; stroke-linejoin:round; stroke-width:4; stroke-opacity:1; fill:none\" points=\"2195.77,1486.45 2195.77,1467.55 \"/>\n",
       "<path clip-path=\"url(#clip420)\" d=\"M365.34 1532.02 L395.015 1532.02 L395.015 1535.95 L365.34 1535.95 L365.34 1532.02 Z\" fill=\"#000000\" fill-rule=\"nonzero\" fill-opacity=\"1\" /><path clip-path=\"url(#clip420)\" d=\"M405.918 1544.91 L413.557 1544.91 L413.557 1518.55 L405.247 1520.21 L405.247 1515.95 L413.511 1514.29 L418.187 1514.29 L418.187 1544.91 L425.826 1544.91 L425.826 1548.85 L405.918 1548.85 L405.918 1544.91 Z\" fill=\"#000000\" fill-rule=\"nonzero\" fill-opacity=\"1\" /><path clip-path=\"url(#clip420)\" d=\"M435.27 1542.97 L440.154 1542.97 L440.154 1548.85 L435.27 1548.85 L435.27 1542.97 Z\" fill=\"#000000\" fill-rule=\"nonzero\" fill-opacity=\"1\" /><path clip-path=\"url(#clip420)\" d=\"M460.339 1517.37 Q456.728 1517.37 454.899 1520.93 Q453.094 1524.47 453.094 1531.6 Q453.094 1538.71 454.899 1542.27 Q456.728 1545.82 460.339 1545.82 Q463.973 1545.82 465.779 1542.27 Q467.608 1538.71 467.608 1531.6 Q467.608 1524.47 465.779 1520.93 Q463.973 1517.37 460.339 1517.37 M460.339 1513.66 Q466.149 1513.66 469.205 1518.27 Q472.284 1522.85 472.284 1531.6 Q472.284 1540.33 469.205 1544.94 Q466.149 1549.52 460.339 1549.52 Q454.529 1549.52 451.45 1544.94 Q448.395 1540.33 448.395 1531.6 Q448.395 1522.85 451.45 1518.27 Q454.529 1513.66 460.339 1513.66 Z\" fill=\"#000000\" fill-rule=\"nonzero\" fill-opacity=\"1\" /><path clip-path=\"url(#clip420)\" d=\"M810.077 1532.02 L839.753 1532.02 L839.753 1535.95 L810.077 1535.95 L810.077 1532.02 Z\" fill=\"#000000\" fill-rule=\"nonzero\" fill-opacity=\"1\" /><path clip-path=\"url(#clip420)\" d=\"M859.845 1517.37 Q856.234 1517.37 854.406 1520.93 Q852.6 1524.47 852.6 1531.6 Q852.6 1538.71 854.406 1542.27 Q856.234 1545.82 859.845 1545.82 Q863.48 1545.82 865.285 1542.27 Q867.114 1538.71 867.114 1531.6 Q867.114 1524.47 865.285 1520.93 Q863.48 1517.37 859.845 1517.37 M859.845 1513.66 Q865.656 1513.66 868.711 1518.27 Q871.79 1522.85 871.79 1531.6 Q871.79 1540.33 868.711 1544.94 Q865.656 1549.52 859.845 1549.52 Q854.035 1549.52 850.957 1544.94 Q847.901 1540.33 847.901 1531.6 Q847.901 1522.85 850.957 1518.27 Q854.035 1513.66 859.845 1513.66 Z\" fill=\"#000000\" fill-rule=\"nonzero\" fill-opacity=\"1\" /><path clip-path=\"url(#clip420)\" d=\"M880.007 1542.97 L884.892 1542.97 L884.892 1548.85 L880.007 1548.85 L880.007 1542.97 Z\" fill=\"#000000\" fill-rule=\"nonzero\" fill-opacity=\"1\" /><path clip-path=\"url(#clip420)\" d=\"M895.123 1514.29 L913.479 1514.29 L913.479 1518.22 L899.405 1518.22 L899.405 1526.7 Q900.424 1526.35 901.442 1526.19 Q902.461 1526 903.479 1526 Q909.266 1526 912.646 1529.17 Q916.026 1532.34 916.026 1537.76 Q916.026 1543.34 912.553 1546.44 Q909.081 1549.52 902.762 1549.52 Q900.586 1549.52 898.317 1549.15 Q896.072 1548.78 893.665 1548.04 L893.665 1543.34 Q895.748 1544.47 897.97 1545.03 Q900.192 1545.58 902.669 1545.58 Q906.674 1545.58 909.012 1543.48 Q911.35 1541.37 911.35 1537.76 Q911.35 1534.15 909.012 1532.04 Q906.674 1529.94 902.669 1529.94 Q900.794 1529.94 898.919 1530.35 Q897.067 1530.77 895.123 1531.65 L895.123 1514.29 Z\" fill=\"#000000\" fill-rule=\"nonzero\" fill-opacity=\"1\" /><path clip-path=\"url(#clip420)\" d=\"M1284.68 1517.37 Q1281.06 1517.37 1279.24 1520.93 Q1277.43 1524.47 1277.43 1531.6 Q1277.43 1538.71 1279.24 1542.27 Q1281.06 1545.82 1284.68 1545.82 Q1288.31 1545.82 1290.12 1542.27 Q1291.94 1538.71 1291.94 1531.6 Q1291.94 1524.47 1290.12 1520.93 Q1288.31 1517.37 1284.68 1517.37 M1284.68 1513.66 Q1290.49 1513.66 1293.54 1518.27 Q1296.62 1522.85 1296.62 1531.6 Q1296.62 1540.33 1293.54 1544.94 Q1290.49 1549.52 1284.68 1549.52 Q1278.87 1549.52 1275.79 1544.94 Q1272.73 1540.33 1272.73 1531.6 Q1272.73 1522.85 1275.79 1518.27 Q1278.87 1513.66 1284.68 1513.66 Z\" fill=\"#000000\" fill-rule=\"nonzero\" fill-opacity=\"1\" /><path clip-path=\"url(#clip420)\" d=\"M1304.84 1542.97 L1309.72 1542.97 L1309.72 1548.85 L1304.84 1548.85 L1304.84 1542.97 Z\" fill=\"#000000\" fill-rule=\"nonzero\" fill-opacity=\"1\" /><path clip-path=\"url(#clip420)\" d=\"M1329.91 1517.37 Q1326.3 1517.37 1324.47 1520.93 Q1322.66 1524.47 1322.66 1531.6 Q1322.66 1538.71 1324.47 1542.27 Q1326.3 1545.82 1329.91 1545.82 Q1333.54 1545.82 1335.35 1542.27 Q1337.18 1538.71 1337.18 1531.6 Q1337.18 1524.47 1335.35 1520.93 Q1333.54 1517.37 1329.91 1517.37 M1329.91 1513.66 Q1335.72 1513.66 1338.77 1518.27 Q1341.85 1522.85 1341.85 1531.6 Q1341.85 1540.33 1338.77 1544.94 Q1335.72 1549.52 1329.91 1549.52 Q1324.1 1549.52 1321.02 1544.94 Q1317.96 1540.33 1317.96 1531.6 Q1317.96 1522.85 1321.02 1518.27 Q1324.1 1513.66 1329.91 1513.66 Z\" fill=\"#000000\" fill-rule=\"nonzero\" fill-opacity=\"1\" /><path clip-path=\"url(#clip420)\" d=\"M1729.41 1517.37 Q1725.8 1517.37 1723.97 1520.93 Q1722.17 1524.47 1722.17 1531.6 Q1722.17 1538.71 1723.97 1542.27 Q1725.8 1545.82 1729.41 1545.82 Q1733.05 1545.82 1734.85 1542.27 Q1736.68 1538.71 1736.68 1531.6 Q1736.68 1524.47 1734.85 1520.93 Q1733.05 1517.37 1729.41 1517.37 M1729.41 1513.66 Q1735.22 1513.66 1738.28 1518.27 Q1741.36 1522.85 1741.36 1531.6 Q1741.36 1540.33 1738.28 1544.94 Q1735.22 1549.52 1729.41 1549.52 Q1723.6 1549.52 1720.52 1544.94 Q1717.47 1540.33 1717.47 1531.6 Q1717.47 1522.85 1720.52 1518.27 Q1723.6 1513.66 1729.41 1513.66 Z\" fill=\"#000000\" fill-rule=\"nonzero\" fill-opacity=\"1\" /><path clip-path=\"url(#clip420)\" d=\"M1749.57 1542.97 L1754.46 1542.97 L1754.46 1548.85 L1749.57 1548.85 L1749.57 1542.97 Z\" fill=\"#000000\" fill-rule=\"nonzero\" fill-opacity=\"1\" /><path clip-path=\"url(#clip420)\" d=\"M1764.69 1514.29 L1783.05 1514.29 L1783.05 1518.22 L1768.97 1518.22 L1768.97 1526.7 Q1769.99 1526.35 1771.01 1526.19 Q1772.03 1526 1773.05 1526 Q1778.83 1526 1782.21 1529.17 Q1785.59 1532.34 1785.59 1537.76 Q1785.59 1543.34 1782.12 1546.44 Q1778.65 1549.52 1772.33 1549.52 Q1770.15 1549.52 1767.88 1549.15 Q1765.64 1548.78 1763.23 1548.04 L1763.23 1543.34 Q1765.32 1544.47 1767.54 1545.03 Q1769.76 1545.58 1772.24 1545.58 Q1776.24 1545.58 1778.58 1543.48 Q1780.92 1541.37 1780.92 1537.76 Q1780.92 1534.15 1778.58 1532.04 Q1776.24 1529.94 1772.24 1529.94 Q1770.36 1529.94 1768.49 1530.35 Q1766.63 1530.77 1764.69 1531.65 L1764.69 1514.29 Z\" fill=\"#000000\" fill-rule=\"nonzero\" fill-opacity=\"1\" /><path clip-path=\"url(#clip420)\" d=\"M2162.92 1544.91 L2170.56 1544.91 L2170.56 1518.55 L2162.25 1520.21 L2162.25 1515.95 L2170.52 1514.29 L2175.19 1514.29 L2175.19 1544.91 L2182.83 1544.91 L2182.83 1548.85 L2162.92 1548.85 L2162.92 1544.91 Z\" fill=\"#000000\" fill-rule=\"nonzero\" fill-opacity=\"1\" /><path clip-path=\"url(#clip420)\" d=\"M2192.28 1542.97 L2197.16 1542.97 L2197.16 1548.85 L2192.28 1548.85 L2192.28 1542.97 Z\" fill=\"#000000\" fill-rule=\"nonzero\" fill-opacity=\"1\" /><path clip-path=\"url(#clip420)\" d=\"M2217.34 1517.37 Q2213.73 1517.37 2211.9 1520.93 Q2210.1 1524.47 2210.1 1531.6 Q2210.1 1538.71 2211.9 1542.27 Q2213.73 1545.82 2217.34 1545.82 Q2220.98 1545.82 2222.78 1542.27 Q2224.61 1538.71 2224.61 1531.6 Q2224.61 1524.47 2222.78 1520.93 Q2220.98 1517.37 2217.34 1517.37 M2217.34 1513.66 Q2223.15 1513.66 2226.21 1518.27 Q2229.29 1522.85 2229.29 1531.6 Q2229.29 1540.33 2226.21 1544.94 Q2223.15 1549.52 2217.34 1549.52 Q2211.53 1549.52 2208.46 1544.94 Q2205.4 1540.33 2205.4 1531.6 Q2205.4 1522.85 2208.46 1518.27 Q2211.53 1513.66 2217.34 1513.66 Z\" fill=\"#000000\" fill-rule=\"nonzero\" fill-opacity=\"1\" /><polyline clip-path=\"url(#clip422)\" style=\"stroke:#000000; stroke-linecap:round; stroke-linejoin:round; stroke-width:2; stroke-opacity:0.1; fill:none\" points=\"306.25,1445.72 2352.76,1445.72 \"/>\n",
       "<polyline clip-path=\"url(#clip422)\" style=\"stroke:#000000; stroke-linecap:round; stroke-linejoin:round; stroke-width:2; stroke-opacity:0.1; fill:none\" points=\"306.25,993.217 2352.76,993.217 \"/>\n",
       "<polyline clip-path=\"url(#clip422)\" style=\"stroke:#000000; stroke-linecap:round; stroke-linejoin:round; stroke-width:2; stroke-opacity:0.1; fill:none\" points=\"306.25,540.719 2352.76,540.719 \"/>\n",
       "<polyline clip-path=\"url(#clip422)\" style=\"stroke:#000000; stroke-linecap:round; stroke-linejoin:round; stroke-width:2; stroke-opacity:0.1; fill:none\" points=\"306.25,88.2206 2352.76,88.2206 \"/>\n",
       "<polyline clip-path=\"url(#clip420)\" style=\"stroke:#000000; stroke-linecap:round; stroke-linejoin:round; stroke-width:4; stroke-opacity:1; fill:none\" points=\"306.25,1486.45 306.25,47.2441 \"/>\n",
       "<polyline clip-path=\"url(#clip420)\" style=\"stroke:#000000; stroke-linecap:round; stroke-linejoin:round; stroke-width:4; stroke-opacity:1; fill:none\" points=\"306.25,1445.72 325.148,1445.72 \"/>\n",
       "<polyline clip-path=\"url(#clip420)\" style=\"stroke:#000000; stroke-linecap:round; stroke-linejoin:round; stroke-width:4; stroke-opacity:1; fill:none\" points=\"306.25,993.217 325.148,993.217 \"/>\n",
       "<polyline clip-path=\"url(#clip420)\" style=\"stroke:#000000; stroke-linecap:round; stroke-linejoin:round; stroke-width:4; stroke-opacity:1; fill:none\" points=\"306.25,540.719 325.148,540.719 \"/>\n",
       "<polyline clip-path=\"url(#clip420)\" style=\"stroke:#000000; stroke-linecap:round; stroke-linejoin:round; stroke-width:4; stroke-opacity:1; fill:none\" points=\"306.25,88.2206 325.148,88.2206 \"/>\n",
       "<path clip-path=\"url(#clip420)\" d=\"M258.306 1431.51 Q254.695 1431.51 252.866 1435.08 Q251.06 1438.62 251.06 1445.75 Q251.06 1452.86 252.866 1456.42 Q254.695 1459.96 258.306 1459.96 Q261.94 1459.96 263.746 1456.42 Q265.574 1452.86 265.574 1445.75 Q265.574 1438.62 263.746 1435.08 Q261.94 1431.51 258.306 1431.51 M258.306 1427.81 Q264.116 1427.81 267.172 1432.42 Q270.25 1437 270.25 1445.75 Q270.25 1454.48 267.172 1459.08 Q264.116 1463.67 258.306 1463.67 Q252.496 1463.67 249.417 1459.08 Q246.361 1454.48 246.361 1445.75 Q246.361 1437 249.417 1432.42 Q252.496 1427.81 258.306 1427.81 Z\" fill=\"#000000\" fill-rule=\"nonzero\" fill-opacity=\"1\" /><path clip-path=\"url(#clip420)\" d=\"M52.4505 982.385 L70.8068 982.385 L70.8068 986.32 L56.7328 986.32 L56.7328 994.792 Q57.7513 994.445 58.7699 994.283 Q59.7884 994.098 60.8069 994.098 Q66.5939 994.098 69.9735 997.269 Q73.3531 1000.44 73.3531 1005.86 Q73.3531 1011.44 69.8809 1014.54 Q66.4087 1017.62 60.0893 1017.62 Q57.9134 1017.62 55.6449 1017.25 Q53.3995 1016.88 50.9921 1016.13 L50.9921 1011.44 Q53.0754 1012.57 55.2977 1013.13 Q57.5199 1013.68 59.9967 1013.68 Q64.0013 1013.68 66.3393 1011.57 Q68.6772 1009.47 68.6772 1005.86 Q68.6772 1002.25 66.3393 1000.14 Q64.0013 998.033 59.9967 998.033 Q58.1217 998.033 56.2467 998.45 Q54.3949 998.866 52.4505 999.746 L52.4505 982.385 Z\" fill=\"#000000\" fill-rule=\"nonzero\" fill-opacity=\"1\" /><path clip-path=\"url(#clip420)\" d=\"M82.566 1011.07 L87.4503 1011.07 L87.4503 1016.94 L82.566 1016.94 L82.566 1011.07 Z\" fill=\"#000000\" fill-rule=\"nonzero\" fill-opacity=\"1\" /><path clip-path=\"url(#clip420)\" d=\"M107.635 985.464 Q104.024 985.464 102.196 989.028 Q100.39 992.57 100.39 999.7 Q100.39 1006.81 102.196 1010.37 Q104.024 1013.91 107.635 1013.91 Q111.27 1013.91 113.075 1010.37 Q114.904 1006.81 114.904 999.7 Q114.904 992.57 113.075 989.028 Q111.27 985.464 107.635 985.464 M107.635 981.76 Q113.445 981.76 116.501 986.366 Q119.58 990.95 119.58 999.7 Q119.58 1008.43 116.501 1013.03 Q113.445 1017.62 107.635 1017.62 Q101.825 1017.62 98.7465 1013.03 Q95.691 1008.43 95.691 999.7 Q95.691 990.95 98.7465 986.366 Q101.825 981.76 107.635 981.76 Z\" fill=\"#000000\" fill-rule=\"nonzero\" fill-opacity=\"1\" /><path clip-path=\"url(#clip420)\" d=\"M137.797 985.464 Q134.186 985.464 132.357 989.028 Q130.552 992.57 130.552 999.7 Q130.552 1006.81 132.357 1010.37 Q134.186 1013.91 137.797 1013.91 Q141.431 1013.91 143.237 1010.37 Q145.066 1006.81 145.066 999.7 Q145.066 992.57 143.237 989.028 Q141.431 985.464 137.797 985.464 M137.797 981.76 Q143.607 981.76 146.663 986.366 Q149.742 990.95 149.742 999.7 Q149.742 1008.43 146.663 1013.03 Q143.607 1017.62 137.797 1017.62 Q131.987 1017.62 128.908 1013.03 Q125.853 1008.43 125.853 999.7 Q125.853 990.95 128.908 986.366 Q131.987 981.76 137.797 981.76 Z\" fill=\"#000000\" fill-rule=\"nonzero\" fill-opacity=\"1\" /><path clip-path=\"url(#clip420)\" d=\"M186.13 991.482 L175.552 1002.11 L186.13 1012.69 L183.376 1015.49 L172.751 1004.86 L162.126 1015.49 L159.394 1012.69 L169.95 1002.11 L159.394 991.482 L162.126 988.681 L172.751 999.306 L183.376 988.681 L186.13 991.482 Z\" fill=\"#000000\" fill-rule=\"nonzero\" fill-opacity=\"1\" /><path clip-path=\"url(#clip420)\" d=\"M198.491 1013.01 L206.13 1013.01 L206.13 986.644 L197.82 988.311 L197.82 984.052 L206.084 982.385 L210.76 982.385 L210.76 1013.01 L218.399 1013.01 L218.399 1016.94 L198.491 1016.94 L198.491 1013.01 Z\" fill=\"#000000\" fill-rule=\"nonzero\" fill-opacity=\"1\" /><path clip-path=\"url(#clip420)\" d=\"M237.843 985.464 Q234.232 985.464 232.403 989.028 Q230.598 992.57 230.598 999.7 Q230.598 1006.81 232.403 1010.37 Q234.232 1013.91 237.843 1013.91 Q241.477 1013.91 243.283 1010.37 Q245.111 1006.81 245.111 999.7 Q245.111 992.57 243.283 989.028 Q241.477 985.464 237.843 985.464 M237.843 981.76 Q243.653 981.76 246.709 986.366 Q249.787 990.95 249.787 999.7 Q249.787 1008.43 246.709 1013.03 Q243.653 1017.62 237.843 1017.62 Q232.033 1017.62 228.954 1013.03 Q225.899 1008.43 225.899 999.7 Q225.899 990.95 228.954 986.366 Q232.033 981.76 237.843 981.76 Z\" fill=\"#000000\" fill-rule=\"nonzero\" fill-opacity=\"1\" /><path clip-path=\"url(#clip420)\" d=\"M262.464 964.765 L252.872 979.754 L262.464 979.754 L262.464 964.765 M261.467 961.455 L266.244 961.455 L266.244 979.754 L270.25 979.754 L270.25 982.914 L266.244 982.914 L266.244 989.535 L262.464 989.535 L262.464 982.914 L249.787 982.914 L249.787 979.247 L261.467 961.455 Z\" fill=\"#000000\" fill-rule=\"nonzero\" fill-opacity=\"1\" /><path clip-path=\"url(#clip420)\" d=\"M55.5089 560.511 L63.1477 560.511 L63.1477 534.146 L54.8376 535.812 L54.8376 531.553 L63.1014 529.887 L67.7773 529.887 L67.7773 560.511 L75.4162 560.511 L75.4162 564.447 L55.5089 564.447 L55.5089 560.511 Z\" fill=\"#000000\" fill-rule=\"nonzero\" fill-opacity=\"1\" /><path clip-path=\"url(#clip420)\" d=\"M84.8606 558.567 L89.7448 558.567 L89.7448 564.447 L84.8606 564.447 L84.8606 558.567 Z\" fill=\"#000000\" fill-rule=\"nonzero\" fill-opacity=\"1\" /><path clip-path=\"url(#clip420)\" d=\"M109.93 532.965 Q106.319 532.965 104.49 536.53 Q102.685 540.072 102.685 547.201 Q102.685 554.308 104.49 557.873 Q106.319 561.414 109.93 561.414 Q113.564 561.414 115.37 557.873 Q117.198 554.308 117.198 547.201 Q117.198 540.072 115.37 536.53 Q113.564 532.965 109.93 532.965 M109.93 529.262 Q115.74 529.262 118.796 533.868 Q121.874 538.451 121.874 547.201 Q121.874 555.928 118.796 560.535 Q115.74 565.118 109.93 565.118 Q104.12 565.118 101.041 560.535 Q97.9855 555.928 97.9855 547.201 Q97.9855 538.451 101.041 533.868 Q104.12 529.262 109.93 529.262 Z\" fill=\"#000000\" fill-rule=\"nonzero\" fill-opacity=\"1\" /><path clip-path=\"url(#clip420)\" d=\"M140.092 532.965 Q136.481 532.965 134.652 536.53 Q132.846 540.072 132.846 547.201 Q132.846 554.308 134.652 557.873 Q136.481 561.414 140.092 561.414 Q143.726 561.414 145.532 557.873 Q147.36 554.308 147.36 547.201 Q147.36 540.072 145.532 536.53 Q143.726 532.965 140.092 532.965 M140.092 529.262 Q145.902 529.262 148.957 533.868 Q152.036 538.451 152.036 547.201 Q152.036 555.928 148.957 560.535 Q145.902 565.118 140.092 565.118 Q134.282 565.118 131.203 560.535 Q128.147 555.928 128.147 547.201 Q128.147 538.451 131.203 533.868 Q134.282 529.262 140.092 529.262 Z\" fill=\"#000000\" fill-rule=\"nonzero\" fill-opacity=\"1\" /><path clip-path=\"url(#clip420)\" d=\"M188.425 538.984 L177.846 549.609 L188.425 560.187 L185.67 562.988 L175.045 552.363 L164.42 562.988 L161.689 560.187 L172.244 549.609 L161.689 538.984 L164.42 536.183 L175.045 546.808 L185.67 536.183 L188.425 538.984 Z\" fill=\"#000000\" fill-rule=\"nonzero\" fill-opacity=\"1\" /><path clip-path=\"url(#clip420)\" d=\"M200.786 560.511 L208.425 560.511 L208.425 534.146 L200.115 535.812 L200.115 531.553 L208.378 529.887 L213.054 529.887 L213.054 560.511 L220.693 560.511 L220.693 564.447 L200.786 564.447 L200.786 560.511 Z\" fill=\"#000000\" fill-rule=\"nonzero\" fill-opacity=\"1\" /><path clip-path=\"url(#clip420)\" d=\"M240.138 532.965 Q236.526 532.965 234.698 536.53 Q232.892 540.072 232.892 547.201 Q232.892 554.308 234.698 557.873 Q236.526 561.414 240.138 561.414 Q243.772 561.414 245.577 557.873 Q247.406 554.308 247.406 547.201 Q247.406 540.072 245.577 536.53 Q243.772 532.965 240.138 532.965 M240.138 529.262 Q245.948 529.262 249.003 533.868 Q252.082 538.451 252.082 547.201 Q252.082 555.928 249.003 560.535 Q245.948 565.118 240.138 565.118 Q234.327 565.118 231.249 560.535 Q228.193 555.928 228.193 547.201 Q228.193 538.451 231.249 533.868 Q234.327 529.262 240.138 529.262 Z\" fill=\"#000000\" fill-rule=\"nonzero\" fill-opacity=\"1\" /><path clip-path=\"url(#clip420)\" d=\"M253.267 508.956 L268.181 508.956 L268.181 512.154 L256.746 512.154 L256.746 519.037 Q257.574 518.755 258.401 518.623 Q259.229 518.473 260.056 518.473 Q264.758 518.473 267.504 521.05 Q270.25 523.626 270.25 528.027 Q270.25 532.56 267.429 535.08 Q264.608 537.582 259.473 537.582 Q257.705 537.582 255.862 537.281 Q254.038 536.98 252.082 536.378 L252.082 532.56 Q253.775 533.482 255.58 533.933 Q257.386 534.384 259.398 534.384 Q262.652 534.384 264.551 532.673 Q266.451 530.961 266.451 528.027 Q266.451 525.093 264.551 523.382 Q262.652 521.67 259.398 521.67 Q257.875 521.67 256.351 522.009 Q254.847 522.347 253.267 523.062 L253.267 508.956 Z\" fill=\"#000000\" fill-rule=\"nonzero\" fill-opacity=\"1\" /><path clip-path=\"url(#clip420)\" d=\"M55.5089 108.013 L63.1477 108.013 L63.1477 81.6475 L54.8376 83.3141 L54.8376 79.0549 L63.1014 77.3882 L67.7773 77.3882 L67.7773 108.013 L75.4162 108.013 L75.4162 111.948 L55.5089 111.948 L55.5089 108.013 Z\" fill=\"#000000\" fill-rule=\"nonzero\" fill-opacity=\"1\" /><path clip-path=\"url(#clip420)\" d=\"M84.8606 106.069 L89.7448 106.069 L89.7448 111.948 L84.8606 111.948 L84.8606 106.069 Z\" fill=\"#000000\" fill-rule=\"nonzero\" fill-opacity=\"1\" /><path clip-path=\"url(#clip420)\" d=\"M99.9762 77.3882 L118.333 77.3882 L118.333 81.3234 L104.259 81.3234 L104.259 89.7956 Q105.277 89.4483 106.296 89.2863 Q107.314 89.1011 108.333 89.1011 Q114.12 89.1011 117.499 92.2724 Q120.879 95.4437 120.879 100.86 Q120.879 106.439 117.407 109.541 Q113.934 112.62 107.615 112.62 Q105.439 112.62 103.171 112.249 Q100.925 111.879 98.5179 111.138 L98.5179 106.439 Q100.601 107.573 102.823 108.129 Q105.046 108.684 107.522 108.684 Q111.527 108.684 113.865 106.578 Q116.203 104.471 116.203 100.86 Q116.203 97.2492 113.865 95.1428 Q111.527 93.0363 107.522 93.0363 Q105.648 93.0363 103.773 93.453 Q101.921 93.8696 99.9762 94.7492 L99.9762 77.3882 Z\" fill=\"#000000\" fill-rule=\"nonzero\" fill-opacity=\"1\" /><path clip-path=\"url(#clip420)\" d=\"M140.092 80.4669 Q136.481 80.4669 134.652 84.0317 Q132.846 87.5734 132.846 94.7029 Q132.846 101.809 134.652 105.374 Q136.481 108.916 140.092 108.916 Q143.726 108.916 145.532 105.374 Q147.36 101.809 147.36 94.7029 Q147.36 87.5734 145.532 84.0317 Q143.726 80.4669 140.092 80.4669 M140.092 76.7632 Q145.902 76.7632 148.957 81.3697 Q152.036 85.953 152.036 94.7029 Q152.036 103.43 148.957 108.036 Q145.902 112.62 140.092 112.62 Q134.282 112.62 131.203 108.036 Q128.147 103.43 128.147 94.7029 Q128.147 85.953 131.203 81.3697 Q134.282 76.7632 140.092 76.7632 Z\" fill=\"#000000\" fill-rule=\"nonzero\" fill-opacity=\"1\" /><path clip-path=\"url(#clip420)\" d=\"M188.425 86.4854 L177.846 97.1103 L188.425 107.689 L185.67 110.49 L175.045 99.865 L164.42 110.49 L161.689 107.689 L172.244 97.1103 L161.689 86.4854 L164.42 83.6845 L175.045 94.3094 L185.67 83.6845 L188.425 86.4854 Z\" fill=\"#000000\" fill-rule=\"nonzero\" fill-opacity=\"1\" /><path clip-path=\"url(#clip420)\" d=\"M200.786 108.013 L208.425 108.013 L208.425 81.6475 L200.115 83.3141 L200.115 79.0549 L208.378 77.3882 L213.054 77.3882 L213.054 108.013 L220.693 108.013 L220.693 111.948 L200.786 111.948 L200.786 108.013 Z\" fill=\"#000000\" fill-rule=\"nonzero\" fill-opacity=\"1\" /><path clip-path=\"url(#clip420)\" d=\"M240.138 80.4669 Q236.526 80.4669 234.698 84.0317 Q232.892 87.5734 232.892 94.7029 Q232.892 101.809 234.698 105.374 Q236.526 108.916 240.138 108.916 Q243.772 108.916 245.577 105.374 Q247.406 101.809 247.406 94.7029 Q247.406 87.5734 245.577 84.0317 Q243.772 80.4669 240.138 80.4669 M240.138 76.7632 Q245.948 76.7632 249.003 81.3697 Q252.082 85.953 252.082 94.7029 Q252.082 103.43 249.003 108.036 Q245.948 112.62 240.138 112.62 Q234.327 112.62 231.249 108.036 Q228.193 103.43 228.193 94.7029 Q228.193 85.953 231.249 81.3697 Q234.327 76.7632 240.138 76.7632 Z\" fill=\"#000000\" fill-rule=\"nonzero\" fill-opacity=\"1\" /><path clip-path=\"url(#clip420)\" d=\"M253.267 56.4578 L268.181 56.4578 L268.181 59.6551 L256.746 59.6551 L256.746 66.5388 Q257.574 66.2567 258.401 66.125 Q259.229 65.9746 260.056 65.9746 Q264.758 65.9746 267.504 68.5512 Q270.25 71.1279 270.25 75.5289 Q270.25 80.0616 267.429 82.5818 Q264.608 85.0833 259.473 85.0833 Q257.705 85.0833 255.862 84.7823 Q254.038 84.4814 252.082 83.8796 L252.082 80.0616 Q253.775 80.9832 255.58 81.4345 Q257.386 81.8859 259.398 81.8859 Q262.652 81.8859 264.551 80.1744 Q266.451 78.4629 266.451 75.5289 Q266.451 72.5949 264.551 70.8834 Q262.652 69.1719 259.398 69.1719 Q257.875 69.1719 256.351 69.5104 Q254.847 69.849 253.267 70.5637 L253.267 56.4578 Z\" fill=\"#000000\" fill-rule=\"nonzero\" fill-opacity=\"1\" /><path clip-path=\"url(#clip422)\" d=\"M418.812 1326.63 L418.812 1445.72 L463.236 1445.72 L463.236 1326.63 L418.812 1326.63 L418.812 1326.63  Z\" fill=\"#009af9\" fill-rule=\"evenodd\" fill-opacity=\"1\"/>\n",
       "<polyline clip-path=\"url(#clip422)\" style=\"stroke:#000000; stroke-linecap:round; stroke-linejoin:round; stroke-width:4; stroke-opacity:1; fill:none\" points=\"418.812,1326.63 418.812,1445.72 463.236,1445.72 463.236,1326.63 418.812,1326.63 \"/>\n",
       "<path clip-path=\"url(#clip422)\" d=\"M463.236 1445.72 L463.236 1445.72 L507.66 1445.72 L507.66 1445.72 L463.236 1445.72 L463.236 1445.72  Z\" fill=\"#009af9\" fill-rule=\"evenodd\" fill-opacity=\"1\"/>\n",
       "<polyline clip-path=\"url(#clip422)\" style=\"stroke:#000000; stroke-linecap:round; stroke-linejoin:round; stroke-width:4; stroke-opacity:1; fill:none\" points=\"463.236,1445.72 463.236,1445.72 507.66,1445.72 463.236,1445.72 \"/>\n",
       "<path clip-path=\"url(#clip422)\" d=\"M507.66 1445.72 L507.66 1445.72 L552.084 1445.72 L552.084 1445.72 L507.66 1445.72 L507.66 1445.72  Z\" fill=\"#009af9\" fill-rule=\"evenodd\" fill-opacity=\"1\"/>\n",
       "<polyline clip-path=\"url(#clip422)\" style=\"stroke:#000000; stroke-linecap:round; stroke-linejoin:round; stroke-width:4; stroke-opacity:1; fill:none\" points=\"507.66,1445.72 507.66,1445.72 552.084,1445.72 507.66,1445.72 \"/>\n",
       "<path clip-path=\"url(#clip422)\" d=\"M552.084 1445.72 L552.084 1445.72 L596.508 1445.72 L596.508 1445.72 L552.084 1445.72 L552.084 1445.72  Z\" fill=\"#009af9\" fill-rule=\"evenodd\" fill-opacity=\"1\"/>\n",
       "<polyline clip-path=\"url(#clip422)\" style=\"stroke:#000000; stroke-linecap:round; stroke-linejoin:round; stroke-width:4; stroke-opacity:1; fill:none\" points=\"552.084,1445.72 552.084,1445.72 596.508,1445.72 552.084,1445.72 \"/>\n",
       "<path clip-path=\"url(#clip422)\" d=\"M596.508 1445.72 L596.508 1445.72 L640.932 1445.72 L640.932 1445.72 L596.508 1445.72 L596.508 1445.72  Z\" fill=\"#009af9\" fill-rule=\"evenodd\" fill-opacity=\"1\"/>\n",
       "<polyline clip-path=\"url(#clip422)\" style=\"stroke:#000000; stroke-linecap:round; stroke-linejoin:round; stroke-width:4; stroke-opacity:1; fill:none\" points=\"596.508,1445.72 596.508,1445.72 640.932,1445.72 596.508,1445.72 \"/>\n",
       "<path clip-path=\"url(#clip422)\" d=\"M640.932 1445.72 L640.932 1445.72 L685.355 1445.72 L685.355 1445.72 L640.932 1445.72 L640.932 1445.72  Z\" fill=\"#009af9\" fill-rule=\"evenodd\" fill-opacity=\"1\"/>\n",
       "<polyline clip-path=\"url(#clip422)\" style=\"stroke:#000000; stroke-linecap:round; stroke-linejoin:round; stroke-width:4; stroke-opacity:1; fill:none\" points=\"640.932,1445.72 640.932,1445.72 685.355,1445.72 640.932,1445.72 \"/>\n",
       "<path clip-path=\"url(#clip422)\" d=\"M685.355 1445.72 L685.355 1445.72 L729.779 1445.72 L729.779 1445.72 L685.355 1445.72 L685.355 1445.72  Z\" fill=\"#009af9\" fill-rule=\"evenodd\" fill-opacity=\"1\"/>\n",
       "<polyline clip-path=\"url(#clip422)\" style=\"stroke:#000000; stroke-linecap:round; stroke-linejoin:round; stroke-width:4; stroke-opacity:1; fill:none\" points=\"685.355,1445.72 685.355,1445.72 729.779,1445.72 685.355,1445.72 \"/>\n",
       "<path clip-path=\"url(#clip422)\" d=\"M729.779 1445.72 L729.779 1445.72 L774.203 1445.72 L774.203 1445.72 L729.779 1445.72 L729.779 1445.72  Z\" fill=\"#009af9\" fill-rule=\"evenodd\" fill-opacity=\"1\"/>\n",
       "<polyline clip-path=\"url(#clip422)\" style=\"stroke:#000000; stroke-linecap:round; stroke-linejoin:round; stroke-width:4; stroke-opacity:1; fill:none\" points=\"729.779,1445.72 729.779,1445.72 774.203,1445.72 729.779,1445.72 \"/>\n",
       "<path clip-path=\"url(#clip422)\" d=\"M774.203 1445.72 L774.203 1445.72 L818.627 1445.72 L818.627 1445.72 L774.203 1445.72 L774.203 1445.72  Z\" fill=\"#009af9\" fill-rule=\"evenodd\" fill-opacity=\"1\"/>\n",
       "<polyline clip-path=\"url(#clip422)\" style=\"stroke:#000000; stroke-linecap:round; stroke-linejoin:round; stroke-width:4; stroke-opacity:1; fill:none\" points=\"774.203,1445.72 774.203,1445.72 818.627,1445.72 774.203,1445.72 \"/>\n",
       "<path clip-path=\"url(#clip422)\" d=\"M818.627 1445.72 L818.627 1445.72 L863.051 1445.72 L863.051 1445.72 L818.627 1445.72 L818.627 1445.72  Z\" fill=\"#009af9\" fill-rule=\"evenodd\" fill-opacity=\"1\"/>\n",
       "<polyline clip-path=\"url(#clip422)\" style=\"stroke:#000000; stroke-linecap:round; stroke-linejoin:round; stroke-width:4; stroke-opacity:1; fill:none\" points=\"818.627,1445.72 818.627,1445.72 863.051,1445.72 818.627,1445.72 \"/>\n",
       "<path clip-path=\"url(#clip422)\" d=\"M863.051 1445.72 L863.051 1445.72 L907.475 1445.72 L907.475 1445.72 L863.051 1445.72 L863.051 1445.72  Z\" fill=\"#009af9\" fill-rule=\"evenodd\" fill-opacity=\"1\"/>\n",
       "<polyline clip-path=\"url(#clip422)\" style=\"stroke:#000000; stroke-linecap:round; stroke-linejoin:round; stroke-width:4; stroke-opacity:1; fill:none\" points=\"863.051,1445.72 863.051,1445.72 907.475,1445.72 863.051,1445.72 \"/>\n",
       "<path clip-path=\"url(#clip422)\" d=\"M907.475 1445.72 L907.475 1445.72 L951.899 1445.72 L951.899 1445.72 L907.475 1445.72 L907.475 1445.72  Z\" fill=\"#009af9\" fill-rule=\"evenodd\" fill-opacity=\"1\"/>\n",
       "<polyline clip-path=\"url(#clip422)\" style=\"stroke:#000000; stroke-linecap:round; stroke-linejoin:round; stroke-width:4; stroke-opacity:1; fill:none\" points=\"907.475,1445.72 907.475,1445.72 951.899,1445.72 907.475,1445.72 \"/>\n",
       "<path clip-path=\"url(#clip422)\" d=\"M951.899 1445.72 L951.899 1445.72 L996.323 1445.72 L996.323 1445.72 L951.899 1445.72 L951.899 1445.72  Z\" fill=\"#009af9\" fill-rule=\"evenodd\" fill-opacity=\"1\"/>\n",
       "<polyline clip-path=\"url(#clip422)\" style=\"stroke:#000000; stroke-linecap:round; stroke-linejoin:round; stroke-width:4; stroke-opacity:1; fill:none\" points=\"951.899,1445.72 951.899,1445.72 996.323,1445.72 951.899,1445.72 \"/>\n",
       "<path clip-path=\"url(#clip422)\" d=\"M996.323 1445.72 L996.323 1445.72 L1040.75 1445.72 L1040.75 1445.72 L996.323 1445.72 L996.323 1445.72  Z\" fill=\"#009af9\" fill-rule=\"evenodd\" fill-opacity=\"1\"/>\n",
       "<polyline clip-path=\"url(#clip422)\" style=\"stroke:#000000; stroke-linecap:round; stroke-linejoin:round; stroke-width:4; stroke-opacity:1; fill:none\" points=\"996.323,1445.72 996.323,1445.72 1040.75,1445.72 996.323,1445.72 \"/>\n",
       "<path clip-path=\"url(#clip422)\" d=\"M1040.75 1445.72 L1040.75 1445.72 L1085.17 1445.72 L1085.17 1445.72 L1040.75 1445.72 L1040.75 1445.72  Z\" fill=\"#009af9\" fill-rule=\"evenodd\" fill-opacity=\"1\"/>\n",
       "<polyline clip-path=\"url(#clip422)\" style=\"stroke:#000000; stroke-linecap:round; stroke-linejoin:round; stroke-width:4; stroke-opacity:1; fill:none\" points=\"1040.75,1445.72 1040.75,1445.72 1085.17,1445.72 1040.75,1445.72 \"/>\n",
       "<path clip-path=\"url(#clip422)\" d=\"M1085.17 1445.72 L1085.17 1445.72 L1129.6 1445.72 L1129.6 1445.72 L1085.17 1445.72 L1085.17 1445.72  Z\" fill=\"#009af9\" fill-rule=\"evenodd\" fill-opacity=\"1\"/>\n",
       "<polyline clip-path=\"url(#clip422)\" style=\"stroke:#000000; stroke-linecap:round; stroke-linejoin:round; stroke-width:4; stroke-opacity:1; fill:none\" points=\"1085.17,1445.72 1085.17,1445.72 1129.6,1445.72 1085.17,1445.72 \"/>\n",
       "<path clip-path=\"url(#clip422)\" d=\"M1129.6 1445.72 L1129.6 1445.72 L1174.02 1445.72 L1174.02 1445.72 L1129.6 1445.72 L1129.6 1445.72  Z\" fill=\"#009af9\" fill-rule=\"evenodd\" fill-opacity=\"1\"/>\n",
       "<polyline clip-path=\"url(#clip422)\" style=\"stroke:#000000; stroke-linecap:round; stroke-linejoin:round; stroke-width:4; stroke-opacity:1; fill:none\" points=\"1129.6,1445.72 1129.6,1445.72 1174.02,1445.72 1129.6,1445.72 \"/>\n",
       "<path clip-path=\"url(#clip422)\" d=\"M1174.02 1445.72 L1174.02 1445.72 L1218.44 1445.72 L1218.44 1445.72 L1174.02 1445.72 L1174.02 1445.72  Z\" fill=\"#009af9\" fill-rule=\"evenodd\" fill-opacity=\"1\"/>\n",
       "<polyline clip-path=\"url(#clip422)\" style=\"stroke:#000000; stroke-linecap:round; stroke-linejoin:round; stroke-width:4; stroke-opacity:1; fill:none\" points=\"1174.02,1445.72 1174.02,1445.72 1218.44,1445.72 1174.02,1445.72 \"/>\n",
       "<path clip-path=\"url(#clip422)\" d=\"M1218.44 1445.72 L1218.44 1445.72 L1262.87 1445.72 L1262.87 1445.72 L1218.44 1445.72 L1218.44 1445.72  Z\" fill=\"#009af9\" fill-rule=\"evenodd\" fill-opacity=\"1\"/>\n",
       "<polyline clip-path=\"url(#clip422)\" style=\"stroke:#000000; stroke-linecap:round; stroke-linejoin:round; stroke-width:4; stroke-opacity:1; fill:none\" points=\"1218.44,1445.72 1218.44,1445.72 1262.87,1445.72 1218.44,1445.72 \"/>\n",
       "<path clip-path=\"url(#clip422)\" d=\"M1262.87 1445.72 L1262.87 1445.72 L1307.29 1445.72 L1307.29 1445.72 L1262.87 1445.72 L1262.87 1445.72  Z\" fill=\"#009af9\" fill-rule=\"evenodd\" fill-opacity=\"1\"/>\n",
       "<polyline clip-path=\"url(#clip422)\" style=\"stroke:#000000; stroke-linecap:round; stroke-linejoin:round; stroke-width:4; stroke-opacity:1; fill:none\" points=\"1262.87,1445.72 1262.87,1445.72 1307.29,1445.72 1262.87,1445.72 \"/>\n",
       "<path clip-path=\"url(#clip422)\" d=\"M1307.29 87.9763 L1307.29 1445.72 L1351.72 1445.72 L1351.72 87.9763 L1307.29 87.9763 L1307.29 87.9763  Z\" fill=\"#009af9\" fill-rule=\"evenodd\" fill-opacity=\"1\"/>\n",
       "<polyline clip-path=\"url(#clip422)\" style=\"stroke:#000000; stroke-linecap:round; stroke-linejoin:round; stroke-width:4; stroke-opacity:1; fill:none\" points=\"1307.29,87.9763 1307.29,1445.72 1351.72,1445.72 1351.72,87.9763 1307.29,87.9763 \"/>\n",
       "<path clip-path=\"url(#clip422)\" d=\"M1351.72 1445.72 L1351.72 1445.72 L1396.14 1445.72 L1396.14 1445.72 L1351.72 1445.72 L1351.72 1445.72  Z\" fill=\"#009af9\" fill-rule=\"evenodd\" fill-opacity=\"1\"/>\n",
       "<polyline clip-path=\"url(#clip422)\" style=\"stroke:#000000; stroke-linecap:round; stroke-linejoin:round; stroke-width:4; stroke-opacity:1; fill:none\" points=\"1351.72,1445.72 1351.72,1445.72 1396.14,1445.72 1351.72,1445.72 \"/>\n",
       "<path clip-path=\"url(#clip422)\" d=\"M1396.14 1445.72 L1396.14 1445.72 L1440.56 1445.72 L1440.56 1445.72 L1396.14 1445.72 L1396.14 1445.72  Z\" fill=\"#009af9\" fill-rule=\"evenodd\" fill-opacity=\"1\"/>\n",
       "<polyline clip-path=\"url(#clip422)\" style=\"stroke:#000000; stroke-linecap:round; stroke-linejoin:round; stroke-width:4; stroke-opacity:1; fill:none\" points=\"1396.14,1445.72 1396.14,1445.72 1440.56,1445.72 1396.14,1445.72 \"/>\n",
       "<path clip-path=\"url(#clip422)\" d=\"M1440.56 1445.72 L1440.56 1445.72 L1484.99 1445.72 L1484.99 1445.72 L1440.56 1445.72 L1440.56 1445.72  Z\" fill=\"#009af9\" fill-rule=\"evenodd\" fill-opacity=\"1\"/>\n",
       "<polyline clip-path=\"url(#clip422)\" style=\"stroke:#000000; stroke-linecap:round; stroke-linejoin:round; stroke-width:4; stroke-opacity:1; fill:none\" points=\"1440.56,1445.72 1440.56,1445.72 1484.99,1445.72 1440.56,1445.72 \"/>\n",
       "<path clip-path=\"url(#clip422)\" d=\"M1484.99 1445.72 L1484.99 1445.72 L1529.41 1445.72 L1529.41 1445.72 L1484.99 1445.72 L1484.99 1445.72  Z\" fill=\"#009af9\" fill-rule=\"evenodd\" fill-opacity=\"1\"/>\n",
       "<polyline clip-path=\"url(#clip422)\" style=\"stroke:#000000; stroke-linecap:round; stroke-linejoin:round; stroke-width:4; stroke-opacity:1; fill:none\" points=\"1484.99,1445.72 1484.99,1445.72 1529.41,1445.72 1484.99,1445.72 \"/>\n",
       "<path clip-path=\"url(#clip422)\" d=\"M1529.41 1445.72 L1529.41 1445.72 L1573.83 1445.72 L1573.83 1445.72 L1529.41 1445.72 L1529.41 1445.72  Z\" fill=\"#009af9\" fill-rule=\"evenodd\" fill-opacity=\"1\"/>\n",
       "<polyline clip-path=\"url(#clip422)\" style=\"stroke:#000000; stroke-linecap:round; stroke-linejoin:round; stroke-width:4; stroke-opacity:1; fill:none\" points=\"1529.41,1445.72 1529.41,1445.72 1573.83,1445.72 1529.41,1445.72 \"/>\n",
       "<path clip-path=\"url(#clip422)\" d=\"M1573.83 1445.72 L1573.83 1445.72 L1618.26 1445.72 L1618.26 1445.72 L1573.83 1445.72 L1573.83 1445.72  Z\" fill=\"#009af9\" fill-rule=\"evenodd\" fill-opacity=\"1\"/>\n",
       "<polyline clip-path=\"url(#clip422)\" style=\"stroke:#000000; stroke-linecap:round; stroke-linejoin:round; stroke-width:4; stroke-opacity:1; fill:none\" points=\"1573.83,1445.72 1573.83,1445.72 1618.26,1445.72 1573.83,1445.72 \"/>\n",
       "<path clip-path=\"url(#clip422)\" d=\"M1618.26 1445.72 L1618.26 1445.72 L1662.68 1445.72 L1662.68 1445.72 L1618.26 1445.72 L1618.26 1445.72  Z\" fill=\"#009af9\" fill-rule=\"evenodd\" fill-opacity=\"1\"/>\n",
       "<polyline clip-path=\"url(#clip422)\" style=\"stroke:#000000; stroke-linecap:round; stroke-linejoin:round; stroke-width:4; stroke-opacity:1; fill:none\" points=\"1618.26,1445.72 1618.26,1445.72 1662.68,1445.72 1618.26,1445.72 \"/>\n",
       "<path clip-path=\"url(#clip422)\" d=\"M1662.68 1445.72 L1662.68 1445.72 L1707.11 1445.72 L1707.11 1445.72 L1662.68 1445.72 L1662.68 1445.72  Z\" fill=\"#009af9\" fill-rule=\"evenodd\" fill-opacity=\"1\"/>\n",
       "<polyline clip-path=\"url(#clip422)\" style=\"stroke:#000000; stroke-linecap:round; stroke-linejoin:round; stroke-width:4; stroke-opacity:1; fill:none\" points=\"1662.68,1445.72 1662.68,1445.72 1707.11,1445.72 1662.68,1445.72 \"/>\n",
       "<path clip-path=\"url(#clip422)\" d=\"M1707.11 1445.72 L1707.11 1445.72 L1751.53 1445.72 L1751.53 1445.72 L1707.11 1445.72 L1707.11 1445.72  Z\" fill=\"#009af9\" fill-rule=\"evenodd\" fill-opacity=\"1\"/>\n",
       "<polyline clip-path=\"url(#clip422)\" style=\"stroke:#000000; stroke-linecap:round; stroke-linejoin:round; stroke-width:4; stroke-opacity:1; fill:none\" points=\"1707.11,1445.72 1707.11,1445.72 1751.53,1445.72 1707.11,1445.72 \"/>\n",
       "<path clip-path=\"url(#clip422)\" d=\"M1751.53 1445.72 L1751.53 1445.72 L1795.95 1445.72 L1795.95 1445.72 L1751.53 1445.72 L1751.53 1445.72  Z\" fill=\"#009af9\" fill-rule=\"evenodd\" fill-opacity=\"1\"/>\n",
       "<polyline clip-path=\"url(#clip422)\" style=\"stroke:#000000; stroke-linecap:round; stroke-linejoin:round; stroke-width:4; stroke-opacity:1; fill:none\" points=\"1751.53,1445.72 1751.53,1445.72 1795.95,1445.72 1751.53,1445.72 \"/>\n",
       "<path clip-path=\"url(#clip422)\" d=\"M1795.95 1445.72 L1795.95 1445.72 L1840.38 1445.72 L1840.38 1445.72 L1795.95 1445.72 L1795.95 1445.72  Z\" fill=\"#009af9\" fill-rule=\"evenodd\" fill-opacity=\"1\"/>\n",
       "<polyline clip-path=\"url(#clip422)\" style=\"stroke:#000000; stroke-linecap:round; stroke-linejoin:round; stroke-width:4; stroke-opacity:1; fill:none\" points=\"1795.95,1445.72 1795.95,1445.72 1840.38,1445.72 1795.95,1445.72 \"/>\n",
       "<path clip-path=\"url(#clip422)\" d=\"M1840.38 1445.72 L1840.38 1445.72 L1884.8 1445.72 L1884.8 1445.72 L1840.38 1445.72 L1840.38 1445.72  Z\" fill=\"#009af9\" fill-rule=\"evenodd\" fill-opacity=\"1\"/>\n",
       "<polyline clip-path=\"url(#clip422)\" style=\"stroke:#000000; stroke-linecap:round; stroke-linejoin:round; stroke-width:4; stroke-opacity:1; fill:none\" points=\"1840.38,1445.72 1840.38,1445.72 1884.8,1445.72 1840.38,1445.72 \"/>\n",
       "<path clip-path=\"url(#clip422)\" d=\"M1884.8 1445.72 L1884.8 1445.72 L1929.23 1445.72 L1929.23 1445.72 L1884.8 1445.72 L1884.8 1445.72  Z\" fill=\"#009af9\" fill-rule=\"evenodd\" fill-opacity=\"1\"/>\n",
       "<polyline clip-path=\"url(#clip422)\" style=\"stroke:#000000; stroke-linecap:round; stroke-linejoin:round; stroke-width:4; stroke-opacity:1; fill:none\" points=\"1884.8,1445.72 1884.8,1445.72 1929.23,1445.72 1884.8,1445.72 \"/>\n",
       "<path clip-path=\"url(#clip422)\" d=\"M1929.23 1445.72 L1929.23 1445.72 L1973.65 1445.72 L1973.65 1445.72 L1929.23 1445.72 L1929.23 1445.72  Z\" fill=\"#009af9\" fill-rule=\"evenodd\" fill-opacity=\"1\"/>\n",
       "<polyline clip-path=\"url(#clip422)\" style=\"stroke:#000000; stroke-linecap:round; stroke-linejoin:round; stroke-width:4; stroke-opacity:1; fill:none\" points=\"1929.23,1445.72 1929.23,1445.72 1973.65,1445.72 1929.23,1445.72 \"/>\n",
       "<path clip-path=\"url(#clip422)\" d=\"M1973.65 1445.72 L1973.65 1445.72 L2018.07 1445.72 L2018.07 1445.72 L1973.65 1445.72 L1973.65 1445.72  Z\" fill=\"#009af9\" fill-rule=\"evenodd\" fill-opacity=\"1\"/>\n",
       "<polyline clip-path=\"url(#clip422)\" style=\"stroke:#000000; stroke-linecap:round; stroke-linejoin:round; stroke-width:4; stroke-opacity:1; fill:none\" points=\"1973.65,1445.72 1973.65,1445.72 2018.07,1445.72 1973.65,1445.72 \"/>\n",
       "<path clip-path=\"url(#clip422)\" d=\"M2018.07 1445.72 L2018.07 1445.72 L2062.5 1445.72 L2062.5 1445.72 L2018.07 1445.72 L2018.07 1445.72  Z\" fill=\"#009af9\" fill-rule=\"evenodd\" fill-opacity=\"1\"/>\n",
       "<polyline clip-path=\"url(#clip422)\" style=\"stroke:#000000; stroke-linecap:round; stroke-linejoin:round; stroke-width:4; stroke-opacity:1; fill:none\" points=\"2018.07,1445.72 2018.07,1445.72 2062.5,1445.72 2018.07,1445.72 \"/>\n",
       "<path clip-path=\"url(#clip422)\" d=\"M2062.5 1445.72 L2062.5 1445.72 L2106.92 1445.72 L2106.92 1445.72 L2062.5 1445.72 L2062.5 1445.72  Z\" fill=\"#009af9\" fill-rule=\"evenodd\" fill-opacity=\"1\"/>\n",
       "<polyline clip-path=\"url(#clip422)\" style=\"stroke:#000000; stroke-linecap:round; stroke-linejoin:round; stroke-width:4; stroke-opacity:1; fill:none\" points=\"2062.5,1445.72 2062.5,1445.72 2106.92,1445.72 2062.5,1445.72 \"/>\n",
       "<path clip-path=\"url(#clip422)\" d=\"M2106.92 1445.72 L2106.92 1445.72 L2151.35 1445.72 L2151.35 1445.72 L2106.92 1445.72 L2106.92 1445.72  Z\" fill=\"#009af9\" fill-rule=\"evenodd\" fill-opacity=\"1\"/>\n",
       "<polyline clip-path=\"url(#clip422)\" style=\"stroke:#000000; stroke-linecap:round; stroke-linejoin:round; stroke-width:4; stroke-opacity:1; fill:none\" points=\"2106.92,1445.72 2106.92,1445.72 2151.35,1445.72 2106.92,1445.72 \"/>\n",
       "<path clip-path=\"url(#clip422)\" d=\"M2151.35 1445.72 L2151.35 1445.72 L2195.77 1445.72 L2195.77 1445.72 L2151.35 1445.72 L2151.35 1445.72  Z\" fill=\"#009af9\" fill-rule=\"evenodd\" fill-opacity=\"1\"/>\n",
       "<polyline clip-path=\"url(#clip422)\" style=\"stroke:#000000; stroke-linecap:round; stroke-linejoin:round; stroke-width:4; stroke-opacity:1; fill:none\" points=\"2151.35,1445.72 2151.35,1445.72 2195.77,1445.72 2151.35,1445.72 \"/>\n",
       "<path clip-path=\"url(#clip422)\" d=\"M2195.77 1325.12 L2195.77 1445.72 L2240.19 1445.72 L2240.19 1325.12 L2195.77 1325.12 L2195.77 1325.12  Z\" fill=\"#009af9\" fill-rule=\"evenodd\" fill-opacity=\"1\"/>\n",
       "<polyline clip-path=\"url(#clip422)\" style=\"stroke:#000000; stroke-linecap:round; stroke-linejoin:round; stroke-width:4; stroke-opacity:1; fill:none\" points=\"2195.77,1325.12 2195.77,1445.72 2240.19,1445.72 2240.19,1325.12 2195.77,1325.12 \"/>\n",
       "<circle clip-path=\"url(#clip422)\" style=\"fill:#009af9; stroke:none; fill-opacity:0\" cx=\"441.024\" cy=\"1326.63\" r=\"2\"/>\n",
       "<circle clip-path=\"url(#clip422)\" style=\"fill:#009af9; stroke:none; fill-opacity:0\" cx=\"485.448\" cy=\"1445.72\" r=\"2\"/>\n",
       "<circle clip-path=\"url(#clip422)\" style=\"fill:#009af9; stroke:none; fill-opacity:0\" cx=\"529.872\" cy=\"1445.72\" r=\"2\"/>\n",
       "<circle clip-path=\"url(#clip422)\" style=\"fill:#009af9; stroke:none; fill-opacity:0\" cx=\"574.296\" cy=\"1445.72\" r=\"2\"/>\n",
       "<circle clip-path=\"url(#clip422)\" style=\"fill:#009af9; stroke:none; fill-opacity:0\" cx=\"618.72\" cy=\"1445.72\" r=\"2\"/>\n",
       "<circle clip-path=\"url(#clip422)\" style=\"fill:#009af9; stroke:none; fill-opacity:0\" cx=\"663.144\" cy=\"1445.72\" r=\"2\"/>\n",
       "<circle clip-path=\"url(#clip422)\" style=\"fill:#009af9; stroke:none; fill-opacity:0\" cx=\"707.567\" cy=\"1445.72\" r=\"2\"/>\n",
       "<circle clip-path=\"url(#clip422)\" style=\"fill:#009af9; stroke:none; fill-opacity:0\" cx=\"751.991\" cy=\"1445.72\" r=\"2\"/>\n",
       "<circle clip-path=\"url(#clip422)\" style=\"fill:#009af9; stroke:none; fill-opacity:0\" cx=\"796.415\" cy=\"1445.72\" r=\"2\"/>\n",
       "<circle clip-path=\"url(#clip422)\" style=\"fill:#009af9; stroke:none; fill-opacity:0\" cx=\"840.839\" cy=\"1445.72\" r=\"2\"/>\n",
       "<circle clip-path=\"url(#clip422)\" style=\"fill:#009af9; stroke:none; fill-opacity:0\" cx=\"885.263\" cy=\"1445.72\" r=\"2\"/>\n",
       "<circle clip-path=\"url(#clip422)\" style=\"fill:#009af9; stroke:none; fill-opacity:0\" cx=\"929.687\" cy=\"1445.72\" r=\"2\"/>\n",
       "<circle clip-path=\"url(#clip422)\" style=\"fill:#009af9; stroke:none; fill-opacity:0\" cx=\"974.111\" cy=\"1445.72\" r=\"2\"/>\n",
       "<circle clip-path=\"url(#clip422)\" style=\"fill:#009af9; stroke:none; fill-opacity:0\" cx=\"1018.54\" cy=\"1445.72\" r=\"2\"/>\n",
       "<circle clip-path=\"url(#clip422)\" style=\"fill:#009af9; stroke:none; fill-opacity:0\" cx=\"1062.96\" cy=\"1445.72\" r=\"2\"/>\n",
       "<circle clip-path=\"url(#clip422)\" style=\"fill:#009af9; stroke:none; fill-opacity:0\" cx=\"1107.38\" cy=\"1445.72\" r=\"2\"/>\n",
       "<circle clip-path=\"url(#clip422)\" style=\"fill:#009af9; stroke:none; fill-opacity:0\" cx=\"1151.81\" cy=\"1445.72\" r=\"2\"/>\n",
       "<circle clip-path=\"url(#clip422)\" style=\"fill:#009af9; stroke:none; fill-opacity:0\" cx=\"1196.23\" cy=\"1445.72\" r=\"2\"/>\n",
       "<circle clip-path=\"url(#clip422)\" style=\"fill:#009af9; stroke:none; fill-opacity:0\" cx=\"1240.66\" cy=\"1445.72\" r=\"2\"/>\n",
       "<circle clip-path=\"url(#clip422)\" style=\"fill:#009af9; stroke:none; fill-opacity:0\" cx=\"1285.08\" cy=\"1445.72\" r=\"2\"/>\n",
       "<circle clip-path=\"url(#clip422)\" style=\"fill:#009af9; stroke:none; fill-opacity:0\" cx=\"1329.5\" cy=\"87.9763\" r=\"2\"/>\n",
       "<circle clip-path=\"url(#clip422)\" style=\"fill:#009af9; stroke:none; fill-opacity:0\" cx=\"1373.93\" cy=\"1445.72\" r=\"2\"/>\n",
       "<circle clip-path=\"url(#clip422)\" style=\"fill:#009af9; stroke:none; fill-opacity:0\" cx=\"1418.35\" cy=\"1445.72\" r=\"2\"/>\n",
       "<circle clip-path=\"url(#clip422)\" style=\"fill:#009af9; stroke:none; fill-opacity:0\" cx=\"1462.77\" cy=\"1445.72\" r=\"2\"/>\n",
       "<circle clip-path=\"url(#clip422)\" style=\"fill:#009af9; stroke:none; fill-opacity:0\" cx=\"1507.2\" cy=\"1445.72\" r=\"2\"/>\n",
       "<circle clip-path=\"url(#clip422)\" style=\"fill:#009af9; stroke:none; fill-opacity:0\" cx=\"1551.62\" cy=\"1445.72\" r=\"2\"/>\n",
       "<circle clip-path=\"url(#clip422)\" style=\"fill:#009af9; stroke:none; fill-opacity:0\" cx=\"1596.05\" cy=\"1445.72\" r=\"2\"/>\n",
       "<circle clip-path=\"url(#clip422)\" style=\"fill:#009af9; stroke:none; fill-opacity:0\" cx=\"1640.47\" cy=\"1445.72\" r=\"2\"/>\n",
       "<circle clip-path=\"url(#clip422)\" style=\"fill:#009af9; stroke:none; fill-opacity:0\" cx=\"1684.89\" cy=\"1445.72\" r=\"2\"/>\n",
       "<circle clip-path=\"url(#clip422)\" style=\"fill:#009af9; stroke:none; fill-opacity:0\" cx=\"1729.32\" cy=\"1445.72\" r=\"2\"/>\n",
       "<circle clip-path=\"url(#clip422)\" style=\"fill:#009af9; stroke:none; fill-opacity:0\" cx=\"1773.74\" cy=\"1445.72\" r=\"2\"/>\n",
       "<circle clip-path=\"url(#clip422)\" style=\"fill:#009af9; stroke:none; fill-opacity:0\" cx=\"1818.17\" cy=\"1445.72\" r=\"2\"/>\n",
       "<circle clip-path=\"url(#clip422)\" style=\"fill:#009af9; stroke:none; fill-opacity:0\" cx=\"1862.59\" cy=\"1445.72\" r=\"2\"/>\n",
       "<circle clip-path=\"url(#clip422)\" style=\"fill:#009af9; stroke:none; fill-opacity:0\" cx=\"1907.01\" cy=\"1445.72\" r=\"2\"/>\n",
       "<circle clip-path=\"url(#clip422)\" style=\"fill:#009af9; stroke:none; fill-opacity:0\" cx=\"1951.44\" cy=\"1445.72\" r=\"2\"/>\n",
       "<circle clip-path=\"url(#clip422)\" style=\"fill:#009af9; stroke:none; fill-opacity:0\" cx=\"1995.86\" cy=\"1445.72\" r=\"2\"/>\n",
       "<circle clip-path=\"url(#clip422)\" style=\"fill:#009af9; stroke:none; fill-opacity:0\" cx=\"2040.29\" cy=\"1445.72\" r=\"2\"/>\n",
       "<circle clip-path=\"url(#clip422)\" style=\"fill:#009af9; stroke:none; fill-opacity:0\" cx=\"2084.71\" cy=\"1445.72\" r=\"2\"/>\n",
       "<circle clip-path=\"url(#clip422)\" style=\"fill:#009af9; stroke:none; fill-opacity:0\" cx=\"2129.13\" cy=\"1445.72\" r=\"2\"/>\n",
       "<circle clip-path=\"url(#clip422)\" style=\"fill:#009af9; stroke:none; fill-opacity:0\" cx=\"2173.56\" cy=\"1445.72\" r=\"2\"/>\n",
       "<circle clip-path=\"url(#clip422)\" style=\"fill:#009af9; stroke:none; fill-opacity:0\" cx=\"2217.98\" cy=\"1325.12\" r=\"2\"/>\n",
       "<path clip-path=\"url(#clip420)\" d=\"M2027.46 198.898 L2284.54 198.898 L2284.54 95.2176 L2027.46 95.2176  Z\" fill=\"#ffffff\" fill-rule=\"evenodd\" fill-opacity=\"1\"/>\n",
       "<polyline clip-path=\"url(#clip420)\" style=\"stroke:#000000; stroke-linecap:round; stroke-linejoin:round; stroke-width:4; stroke-opacity:1; fill:none\" points=\"2027.46,198.898 2284.54,198.898 2284.54,95.2176 2027.46,95.2176 2027.46,198.898 \"/>\n",
       "<path clip-path=\"url(#clip420)\" d=\"M2050.2 167.794 L2186.63 167.794 L2186.63 126.322 L2050.2 126.322 L2050.2 167.794  Z\" fill=\"#009af9\" fill-rule=\"evenodd\" fill-opacity=\"1\"/>\n",
       "<polyline clip-path=\"url(#clip420)\" style=\"stroke:#000000; stroke-linecap:round; stroke-linejoin:round; stroke-width:4; stroke-opacity:1; fill:none\" points=\"2050.2,167.794 2186.63,167.794 2186.63,126.322 2050.2,126.322 2050.2,167.794 \"/>\n",
       "<path clip-path=\"url(#clip420)\" d=\"M2223.21 166.745 Q2221.41 171.375 2219.69 172.787 Q2217.98 174.199 2215.11 174.199 L2211.71 174.199 L2211.71 170.634 L2214.21 170.634 Q2215.97 170.634 2216.94 169.8 Q2217.91 168.967 2219.09 165.865 L2219.86 163.921 L2209.37 138.412 L2213.88 138.412 L2221.99 158.689 L2230.09 138.412 L2234.6 138.412 L2223.21 166.745 Z\" fill=\"#000000\" fill-rule=\"nonzero\" fill-opacity=\"1\" /><path clip-path=\"url(#clip420)\" d=\"M2241.89 160.402 L2249.53 160.402 L2249.53 134.037 L2241.22 135.703 L2241.22 131.444 L2249.49 129.778 L2254.16 129.778 L2254.16 160.402 L2261.8 160.402 L2261.8 164.338 L2241.89 164.338 L2241.89 160.402 Z\" fill=\"#000000\" fill-rule=\"nonzero\" fill-opacity=\"1\" /></svg>\n"
      ]
     },
     "execution_count": 16,
     "metadata": {},
     "output_type": "execute_result"
    }
   ],
   "source": [
    "# sanity check\n",
    "cns_pred = []\n",
    "cns_true = []\n",
    "\n",
    "problematic_idx = []\n",
    "\n",
    "for i in 1:size(x_raw_df)[1]\n",
    "    \n",
    "    if y_df[i, \"OBJ1\"] < 50\n",
    "        continue\n",
    "    else\n",
    "\n",
    "        try\n",
    "            cn = compute_cellnumber(jl_row_to_py_row(x_raw_df[i, :])) % 2\n",
    "            append!(cns_pred, cn)\n",
    "            append!(cns_true, x_raw_df[:, 15][i])\n",
    "        catch\n",
    "            append!(problematic_idx, i)\n",
    "            continue\n",
    "        end \n",
    "    end\n",
    "end\n",
    "\n",
    "histogram(cns_pred .- cns_true)"
   ]
  },
  {
   "cell_type": "code",
   "execution_count": 36,
   "metadata": {},
   "outputs": [
    {
     "data": {
      "text/plain": [
       "0.8499535442349528"
      ]
     },
     "execution_count": 36,
     "metadata": {},
     "output_type": "execute_result"
    }
   ],
   "source": [
    "sum(cns_pred .- cns_true .== 0) / length(cns_true)"
   ]
  },
  {
   "cell_type": "markdown",
   "metadata": {},
   "source": [
    "### Final optimization\n",
    "- Maximize transmission (< 95%)\n",
    "- Output energy should be 70 KeV (0.070 MeV)\n",
    "- Minimize RFQ length\n",
    "- Minimize longitudinal emittance\n",
    "- Minimize transverse emittance"
   ]
  },
  {
   "cell_type": "code",
   "execution_count": 17,
   "metadata": {},
   "outputs": [],
   "source": [
    "# optimization initialization\n",
    "# bounds of scaled DVARS\n",
    "lower_bound = repeat([-1.], 14); upper_bound = repeat([1.], 14)\n",
    "\n",
    "# smapling to instantiate acquisition function\n",
    "n_samples = 1000\n",
    "initial_samples = Surrogates.sample(n_samples, lower_bound, upper_bound, SobolSample());"
   ]
  },
  {
   "cell_type": "code",
   "execution_count": 18,
   "metadata": {},
   "outputs": [
    {
     "data": {
      "text/plain": [
       "objective3 (generic function with 1 method)"
      ]
     },
     "execution_count": 18,
     "metadata": {},
     "output_type": "execute_result"
    }
   ],
   "source": [
    "function objective3(x_vec)\n",
    "    x_vec_unscaled = recorr(minmaxscale(x_vec; var=\"x\", inverse=true))\n",
    "    x_vec_unscaled_dict = Dict(\"DVAR$i\" => x_vec_unscaled[i] for i in 1:14)\n",
    "    local cellnumber\n",
    "    try\n",
    "        cellnumber = compute_cellnumber(jl_row_to_py_row(x_vec_unscaled_dict))\n",
    "    catch\n",
    "        cellnumber = 0\n",
    "    end\n",
    "    y = predict((x_vec..., (cellnumber % 2)*2 - 1.))\n",
    "    target_energy_scaled = transform(y_scalers[\"OBJ2\"], 0.07)[1]\n",
    "    [-y[1], (y[2] - target_energy_scaled)^2, y[3], y[4], y[5], y[6]]\n",
    "end"
   ]
  },
  {
   "cell_type": "code",
   "execution_count": 19,
   "metadata": {},
   "outputs": [],
   "source": [
    "x3s = [sample for sample in initial_samples];\n",
    "x3s = unique(x3s)\n",
    "y3s = objective3.(x3s);"
   ]
  },
  {
   "cell_type": "code",
   "execution_count": 20,
   "metadata": {},
   "outputs": [
    {
     "data": {
      "text/plain": [
       "(::RadialBasis{Surrogates.var\"#1#2\", Int64, Vector{NTuple{14, Float64}}, Vector{Vector{Float64}}, Vector{Float64}, Vector{Float64}, Matrix{Float64}, Float64, Bool}) (generic function with 1 method)"
      ]
     },
     "execution_count": 20,
     "metadata": {},
     "output_type": "execute_result"
    }
   ],
   "source": [
    "if length(x3s) != length(unique(x3s))\n",
    "    print(\"Duplicate entries in x3\")\n",
    "end\n",
    "if length(x3s) != length(y3s)\n",
    "    print(\"Dimension mismatch between x3 and y\")\n",
    "end\n",
    "radial_basis_ego_3 = RadialBasis(x3s, y3s, repeat([-1.], 14), repeat([1.], 14))"
   ]
  },
  {
   "cell_type": "code",
   "execution_count": 21,
   "metadata": {},
   "outputs": [
    {
     "ename": "LoadError",
     "evalue": "SingularException(1024)",
     "output_type": "error",
     "traceback": [
      "SingularException(1024)",
      "",
      "Stacktrace:",
      "  [1] checknonsingular",
      "    @ /Applications/Julia-1.8.app/Contents/Resources/julia/share/julia/stdlib/v1.8/LinearAlgebra/src/factorization.jl:19 [inlined]",
      "  [2] checknonsingular",
      "    @ /Applications/Julia-1.8.app/Contents/Resources/julia/share/julia/stdlib/v1.8/LinearAlgebra/src/factorization.jl:21 [inlined]",
      "  [3] #lu!#172",
      "    @ /Applications/Julia-1.8.app/Contents/Resources/julia/share/julia/stdlib/v1.8/LinearAlgebra/src/lu.jl:82 [inlined]",
      "  [4] lu!(A::Symmetric{Float64, Matrix{Float64}}, pivot::RowMaximum; check::Bool)",
      "    @ LinearAlgebra /Applications/Julia-1.8.app/Contents/Resources/julia/share/julia/stdlib/v1.8/LinearAlgebra/src/lu.jl:91",
      "  [5] #lu#179",
      "    @ /Applications/Julia-1.8.app/Contents/Resources/julia/share/julia/stdlib/v1.8/LinearAlgebra/src/lu.jl:279 [inlined]",
      "  [6] lu (repeats 2 times)",
      "    @ /Applications/Julia-1.8.app/Contents/Resources/julia/share/julia/stdlib/v1.8/LinearAlgebra/src/lu.jl:278 [inlined]",
      "  [7] \\",
      "    @ /Applications/Julia-1.8.app/Contents/Resources/julia/share/julia/stdlib/v1.8/LinearAlgebra/src/symmetric.jl:628 [inlined]",
      "  [8] _calc_coeffs(x::Vector{NTuple{14, Float64}}, y::Vector{Vector{Float64}}, lb::Vector{Float64}, ub::Vector{Float64}, phi::Function, q::Int64, scale_factor::Float64, sparse::Bool)",
      "    @ Surrogates ~/.julia/packages/Surrogates/ScUIq/src/Radials.jl:53",
      "  [9] add_point!(rad::RadialBasis{Surrogates.var\"#1#2\", Int64, Vector{NTuple{14, Float64}}, Vector{Vector{Float64}}, Vector{Float64}, Vector{Float64}, Matrix{Float64}, Float64, Bool}, new_x::NTuple{14, Float64}, new_y::Vector{Float64})",
      "    @ Surrogates ~/.julia/packages/Surrogates/ScUIq/src/Radials.jl:234",
      " [10] surrogate_optimize(obj::typeof(objective3), smb::SMB, lb::Vector{Float64}, ub::Vector{Float64}, surrSMBND::RadialBasis{Surrogates.var\"#1#2\", Int64, Vector{NTuple{14, Float64}}, Vector{Vector{Float64}}, Vector{Float64}, Vector{Float64}, Matrix{Float64}, Float64, Bool}, sample_type::SobolSample; maxiters::Int64, n_new_look::Int64)",
      "    @ Surrogates ~/.julia/packages/Surrogates/ScUIq/src/Optimization.jl:1545",
      " [11] top-level scope",
      "    @ In[21]:1"
     ]
    }
   ],
   "source": [
    "pareto_set_3, pareto_front_3 = surrogate_optimize(\n",
    "    objective3, SMB(), repeat([-1.], 14), repeat([1.], 14), radial_basis_ego_3, SobolSample();\n",
    "    maxiters = 100, n_new_look = 100\n",
    ");"
   ]
  },
  {
   "cell_type": "code",
   "execution_count": 22,
   "metadata": {},
   "outputs": [
    {
     "ename": "LoadError",
     "evalue": "UndefVarError: pareto_front_3 not defined",
     "output_type": "error",
     "traceback": [
      "UndefVarError: pareto_front_3 not defined",
      "",
      "Stacktrace:",
      " [1] top-level scope",
      "   @ In[22]:1"
     ]
    }
   ],
   "source": [
    "obj1_3 = [inverse_transform(y_scalers[\"OBJ1\"], -item[1])[1] for item in pareto_front_3];\n",
    "dE_3 = [item[2] for item in pareto_front_3];\n",
    "obj3_3 = [inverse_transform(y_scalers[\"OBJ3\"], item[3])[1] for item in pareto_front_3];\n",
    "obj4_3 = [inverse_transform(y_scalers[\"OBJ4\"], item[4])[1] for item in pareto_front_3];\n",
    "obj5_3 = [inverse_transform(y_scalers[\"OBJ5\"], item[5])[1] for item in pareto_front_3];\n",
    "obj6_3 = [inverse_transform(y_scalers[\"OBJ6\"], item[6])[1] for item in pareto_front_3];\n",
    "\n",
    "unscaled_pareto_front_3 = [obj1_3, dE_3, obj3_3, obj4_3, obj5_3, obj6_3];"
   ]
  },
  {
   "cell_type": "code",
   "execution_count": 23,
   "metadata": {},
   "outputs": [
    {
     "ename": "LoadError",
     "evalue": "UndefVarError: obj4_3 not defined",
     "output_type": "error",
     "traceback": [
      "UndefVarError: obj4_3 not defined",
      "",
      "Stacktrace:",
      " [1] top-level scope",
      "   @ In[23]:2"
     ]
    }
   ],
   "source": [
    "emit_cutoff = 0.04\n",
    "long_emit_mask = obj4_3 .< emit_cutoff; x_emit_mask = obj5_3 .< emit_cutoff; y_emit_mask = obj6_3 .< emit_cutoff;\n",
    "\n",
    "\n",
    "transmission_cutoff = 90\n",
    "high_transmission_mask = obj1_3 .> transmission_cutoff\n",
    "\n",
    "sum(long_emit_mask .& x_emit_mask .& y_emit_mask .& high_transmission_mask)"
   ]
  },
  {
   "cell_type": "code",
   "execution_count": 24,
   "metadata": {},
   "outputs": [
    {
     "ename": "LoadError",
     "evalue": "UndefVarError: obj1_3 not defined",
     "output_type": "error",
     "traceback": [
      "UndefVarError: obj1_3 not defined",
      "",
      "Stacktrace:",
      " [1] top-level scope",
      "   @ In[24]:1"
     ]
    }
   ],
   "source": [
    "candidates = [i for i in 1:length(obj1_3)][long_emit_mask .& x_emit_mask .& y_emit_mask .& high_transmission_mask]"
   ]
  },
  {
   "cell_type": "code",
   "execution_count": 25,
   "metadata": {},
   "outputs": [
    {
     "ename": "LoadError",
     "evalue": "UndefVarError: candidates not defined",
     "output_type": "error",
     "traceback": [
      "UndefVarError: candidates not defined",
      "",
      "Stacktrace:",
      " [1] top-level scope",
      "   @ In[25]:1"
     ]
    }
   ],
   "source": [
    "for j in candidates\n",
    "    println(\"candidate $j\")\n",
    "    # println(pareto_set_3[j])\n",
    "    candidate_dvars = minmaxscale(pareto_set_3[j]; var=\"x\", inverse=true)\n",
    "    println(recorr(candidate_dvars))\n",
    "    #= for i in 1:6\n",
    "        # println(\"OBJ$i: \", unscaled_pareto_front_3[i][j])\n",
    "    end =#\n",
    "    local cellnumber\n",
    "    try\n",
    "        cellnumber = compute_cellnumber(jl_row_to_py_row(Dict(\"DVAR$i\" => recorr(candidate_dvars)[i] for i in 1:14)))\n",
    "    catch\n",
    "        cellnumber = 0\n",
    "    end\n",
    "    println(minmaxscale(predict([pareto_set_3[j]..., (cellnumber % 2)*2 - 1]); var=\"y\", inverse=true))\n",
    "    println(\" \")\n",
    "end"
   ]
  },
  {
   "cell_type": "code",
   "execution_count": 26,
   "metadata": {},
   "outputs": [
    {
     "ename": "LoadError",
     "evalue": "UndefVarError: pareto_set_3 not defined",
     "output_type": "error",
     "traceback": [
      "UndefVarError: pareto_set_3 not defined",
      "",
      "Stacktrace:",
      " [1] top-level scope",
      "   @ In[26]:1"
     ]
    }
   ],
   "source": [
    "pareto_set_3[514]"
   ]
  },
  {
   "cell_type": "code",
   "execution_count": 27,
   "metadata": {},
   "outputs": [
    {
     "ename": "LoadError",
     "evalue": "UndefVarError: pareto_set_3 not defined",
     "output_type": "error",
     "traceback": [
      "UndefVarError: pareto_set_3 not defined",
      "",
      "Stacktrace:",
      " [1] top-level scope",
      "   @ In[27]:1"
     ]
    }
   ],
   "source": [
    "testvec = pareto_set_3[514]\n",
    "println(minmaxscale(predict([testvec..., -1.]); var=\"y\", inverse=true))\n",
    "println(minmaxscale(predict([testvec..., 0.]); var=\"y\", inverse=true))\n",
    "println(minmaxscale(predict([testvec..., 1.]); var=\"y\", inverse=true))"
   ]
  },
  {
   "cell_type": "markdown",
   "metadata": {},
   "source": [
    "#### An example\n",
    "\n",
    "Earlier, I found the Pareto-optimal point\n",
    "```\n",
    "Any[9.621106587350368, 86.20992493629456, 151.5276411426766, 1.1407480351626873, 1.5461247062188697, 75.0710859298706, 90.66532409191132, -89.4816192984581, -57.44439364510753, 238.80475223064423, 402.53845977783203, 1.9589797589290225, -39.38285545256423, 0.056406302202958614]\n",
    "```\n",
    "Which is an RFQ with 87 cells. I predicted that this point would have the following OBJs\n",
    "```\n",
    "(99.11168172696327, 0.059405120364069454, 174.88078733049184, 0.03906433648567923, 0.033061393769183954, 0.0327312887736337)\n",
    "```\n",
    "The true values from PARMTEQM:\n",
    "```\n",
    "(97.72, 0.06190, 177.80, 0.07492, 0.04185, 0.04140)\n",
    "```\n",
    "With 87 cells. YAY!"
   ]
  },
  {
   "cell_type": "code",
   "execution_count": 28,
   "metadata": {},
   "outputs": [
    {
     "data": {
      "text/plain": [
       "plot_pairwise_scatter (generic function with 1 method)"
      ]
     },
     "execution_count": 28,
     "metadata": {},
     "output_type": "execute_result"
    }
   ],
   "source": [
    "function plot_pairwise_scatter(vec1, vec2, vec1label, vec2label, indexes, winner_index, incl_xticks, incl_yticks)\n",
    "    loser_indexes = [i for i in indexes if i != winner_index]\n",
    "    \n",
    "    \n",
    "    scatter(\n",
    "        [vec1[i] for i in loser_indexes], [vec2[i] for i in loser_indexes];\n",
    "        xlabel=vec1label, ylabel=vec2label, legend=false, markersize=3, markerstrokewidth=0.5,\n",
    "        xformatter = incl_xticks ? :auto : Returns(\"\"), yformatter = incl_yticks ? :auto : Returns(\"\") \n",
    "    )\n",
    "    \n",
    "    scatter!([vec1[winner_index]], [vec2[winner_index]]; markershape=:star5, markersize=10, markerstrokewidth=0.5)\n",
    "end"
   ]
  },
  {
   "cell_type": "code",
   "execution_count": 29,
   "metadata": {},
   "outputs": [
    {
     "ename": "LoadError",
     "evalue": "UndefVarError: pareto_front_3 not defined",
     "output_type": "error",
     "traceback": [
      "UndefVarError: pareto_front_3 not defined",
      "",
      "Stacktrace:",
      " [1] top-level scope",
      "   @ In[29]:11"
     ]
    }
   ],
   "source": [
    "winner_index = 514\n",
    "\n",
    "labels = [\n",
    "    \"Transmission [%]\",\n",
    "    \"Scaled energy\\nsquared error\",\n",
    "    \"RFQ length [cm]\",\n",
    "    \"Longitudinal emit.\\n[MeV deg]\",\n",
    "    \"x-emit. [cm mrad]\",\n",
    "    \"y-emit. [cm mrad]\"\n",
    "]\n",
    "indexes = [i for i in 1:length(pareto_front_3)]\n",
    "\n",
    "layout = @layout([ ° _ _ _ _ ; ° ° _ _ _ ; ° ° ° _ _ ; ° ° ° ° _ ; ° ° ° ° ° ])\n",
    "\n",
    "#plot(p1, p2, p3, layout = l)\n",
    "\n",
    "plots_dict = Dict()\n",
    "\n",
    "for i in 1:(length(labels) - 1)\n",
    "    for j in 1:length(labels)\n",
    "        if i < j\n",
    "            p = plot_pairwise_scatter(\n",
    "                unscaled_pareto_front_3[i], unscaled_pareto_front_3[j],\n",
    "                j==length(labels) ? labels[i] : \"\", i==1 ? (\"\\n\" * labels[j]) : \"\", indexes, winner_index,\n",
    "                j==length(labels), i==1\n",
    "            )\n",
    "            if i == 1\n",
    "                xflip!(true)\n",
    "            end\n",
    "            # display(p)\n",
    "            merge!(plots_dict, Dict(\"$i$j\"=>p))\n",
    "        end\n",
    "    end\n",
    "end\n",
    "    \n",
    "pareto_plot = plot(\n",
    "    [plots_dict[\"$i$j\"] for j in 1:length(labels) for i in 1:length(labels) if i<j]...,\n",
    "    layout = layout, widths=(1/4,1/4,1/4,1/4), size=(1200,900), dpi=500\n",
    ")"
   ]
  },
  {
   "cell_type": "code",
   "execution_count": 30,
   "metadata": {},
   "outputs": [],
   "source": [
    "# savefig(pareto_plot,\"../../img/pareto_plot.png\")"
   ]
  },
  {
   "cell_type": "code",
   "execution_count": null,
   "metadata": {},
   "outputs": [],
   "source": []
  }
 ],
 "metadata": {
  "kernelspec": {
   "display_name": "Julia 1.8.0",
   "language": "julia",
   "name": "julia-1.8"
  },
  "language_info": {
   "file_extension": ".jl",
   "mimetype": "application/julia",
   "name": "julia",
   "version": "1.8.0"
  }
 },
 "nbformat": 4,
 "nbformat_minor": 4
}
