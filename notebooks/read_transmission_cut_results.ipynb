{
 "cells": [
  {
   "cell_type": "code",
   "execution_count": 4,
   "id": "481fe100",
   "metadata": {},
   "outputs": [
    {
     "name": "stdout",
     "output_type": "stream",
     "text": [
      "\n",
      "../results/2022-11-09_18-57-50_results.json\n",
      "OBJ1 Original MAPE = 0.017, New MAPE, Best Fold = 0.009, Average = 0.009 +- 0.0003\n",
      "OBJ2 Original MAPE = 0.018, New MAPE, Best Fold = 0.018, Average = 0.018 +- 0.0001\n",
      "OBJ3 Original MAPE = 0.013, New MAPE, Best Fold = 0.012, Average = 0.013 +- 0.0004\n",
      "OBJ4 Original MAPE = 0.048, New MAPE, Best Fold = 0.041, Average = 0.042 +- 0.0008\n",
      "OBJ5 Original MAPE = 0.117, New MAPE, Best Fold = 0.115, Average = 0.116 +- 0.0009\n",
      "OBJ6 Original MAPE = 0.115, New MAPE, Best Fold = 0.113, Average = 0.115 +- 0.0013\n",
      "\n",
      "../results/2022-11-10_14-14-31_results.json\n",
      "OBJ1 Original MAPE = 0.017, New MAPE, Best Fold = 0.011, Average = 0.012 +- 0.0003\n",
      "OBJ2 Original MAPE = 0.018, New MAPE, Best Fold = 0.018, Average = 0.018 +- 0.0001\n",
      "OBJ3 Original MAPE = 0.013, New MAPE, Best Fold = 0.016, Average = 0.016 +- 0.0009\n",
      "OBJ4 Original MAPE = 0.048, New MAPE, Best Fold = 0.053, Average = 0.053 +- 0.0009\n",
      "OBJ5 Original MAPE = 0.117, New MAPE, Best Fold = 0.125, Average = 0.126 +- 0.0013\n",
      "OBJ6 Original MAPE = 0.115, New MAPE, Best Fold = 0.125, Average = 0.126 +- 0.0015\n",
      "\n",
      "../results/2022-11-10_22-22-13_results.json\n",
      "OBJ1 Original MAPE = 0.017, New MAPE, Best Fold = 0.009, Average = 0.009 +- 0.0004\n",
      "OBJ2 Original MAPE = 0.018, New MAPE, Best Fold = 0.018, Average = 0.018 +- 0.0001\n",
      "OBJ3 Original MAPE = 0.013, New MAPE, Best Fold = 0.012, Average = 0.012 +- 0.0003\n",
      "OBJ4 Original MAPE = 0.048, New MAPE, Best Fold = 0.043, Average = 0.044 +- 0.0002\n",
      "OBJ5 Original MAPE = 0.117, New MAPE, Best Fold = 0.115, Average = 0.117 +- 0.0013\n",
      "\n",
      "../results/2022-11-11_13-38-23_results.json\n",
      "OBJ1 Original MAPE = 0.017, New MAPE, Best Fold = 0.009, Average = 0.009 +- 0.0002\n",
      "OBJ2 Original MAPE = 0.018, New MAPE, Best Fold = 0.018, Average = 0.018 +- 0.0001\n",
      "OBJ3 Original MAPE = 0.013, New MAPE, Best Fold = 0.011, Average = 0.011 +- 0.0001\n",
      "OBJ4 Original MAPE = 0.048, New MAPE, Best Fold = 0.044, Average = 0.045 +- 0.0012\n",
      "\n",
      "../results/2022-11-11_15-49-29_results.json\n",
      "OBJ1 Original MAPE = 0.017, New MAPE, Best Fold = 0.008, Average = 0.008 +- 0.0001\n",
      "OBJ2 Original MAPE = 0.018, New MAPE, Best Fold = 0.018, Average = 0.018 +- 0.0\n",
      "OBJ3 Original MAPE = 0.013, New MAPE, Best Fold = 0.012, Average = 0.012 +- 0.0001\n",
      "OBJ4 Original MAPE = 0.048, New MAPE, Best Fold = 0.04, Average = 0.041 +- 0.0016\n",
      "OBJ5 Original MAPE = 0.117, New MAPE, Best Fold = 0.114, Average = 0.116 +- 0.0013\n",
      "OBJ6 Original MAPE = 0.115, New MAPE, Best Fold = 0.115, Average = 0.116 +- 0.0012\n"
     ]
    }
   ],
   "source": [
    "import json\n",
    "import numpy as np\n",
    "import matplotlib.pyplot as plt\n",
    "import pandas as pd\n",
    "\n",
    "best_mapes = {\n",
    "    'OBJ1': 0.017,\n",
    "    'OBJ2': 0.018,\n",
    "    'OBJ3': 0.013,\n",
    "    'OBJ4': 0.048,\n",
    "    'OBJ5': 0.117,\n",
    "    'OBJ6': 0.115,\n",
    "}\n",
    "\n",
    "res_fns = [r'../results/2022-11-09_18-57-50_results.json',  # Transm. 50% cut, Sigmoid\n",
    "           r'../results/2022-11-10_14-14-31_results.json',  # Transm. 50% cut, ReLU\n",
    "           r'../results/2022-11-10_22-22-13_results.json',  # Transm. 50% cut, Sigmoid, no OBJ 6\n",
    "           r'../results/2022-11-11_13-38-23_results.json',  # Transm. 50% cut, Sigmoid, no OBJ 5 & 6\n",
    "           r'../results/2022-11-11_15-49-29_results.json']  # Transm. 60% cut, Sigmoid\n",
    "\n",
    "for res_fn in res_fns:\n",
    "    with open(res_fn) as f:\n",
    "        data = json.load(f)[0]\n",
    "        configs = data['configs']\n",
    "\n",
    "    n_obj = len(data['results']['by_response'])\n",
    "    print()\n",
    "    print(res_fn)\n",
    "\n",
    "    for i in range(1, n_obj+1):\n",
    "        obj_results = data['results']['by_response'][f'OBJ{i}']\n",
    "        mape_val = obj_results['mape_val']\n",
    "        # print(f'OBJ{i},', \"Original MAPE:\", best_mapes[f'OBJ{i}'],\n",
    "        #       \", New Net Best fold: \", np.round(min(mape_val),3))\n",
    "        print(r\"OBJ{} Original MAPE = {}, New MAPE, Best Fold = {}, \"\n",
    "              r\"Average = {} +- {}\".format(i,\n",
    "                                           best_mapes[f'OBJ{i}'],\n",
    "                                           np.round(min(mape_val), 3),\n",
    "                                           np.round(np.mean(mape_val), 3),\n",
    "                                           np.round(np.std(mape_val), 4)))"
   ]
  },
  {
   "cell_type": "code",
   "execution_count": null,
   "id": "116f4525",
   "metadata": {},
   "outputs": [],
   "source": []
  }
 ],
 "metadata": {
  "kernelspec": {
   "display_name": "Python 3 (ipykernel)",
   "language": "python",
   "name": "python3"
  },
  "language_info": {
   "codemirror_mode": {
    "name": "ipython",
    "version": 3
   },
   "file_extension": ".py",
   "mimetype": "text/x-python",
   "name": "python",
   "nbconvert_exporter": "python",
   "pygments_lexer": "ipython3",
   "version": "3.9.12"
  }
 },
 "nbformat": 4,
 "nbformat_minor": 5
}
