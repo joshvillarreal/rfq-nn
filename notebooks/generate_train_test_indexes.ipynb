{
 "cells": [
  {
   "cell_type": "code",
   "execution_count": 3,
   "metadata": {},
   "outputs": [
    {
     "name": "stderr",
     "output_type": "stream",
     "text": [
      "\u001b[32m\u001b[1m  Activating\u001b[22m\u001b[39m project at `~/Desktop/research/rfq-nn`\n",
      "\u001b[33m\u001b[1m┌ \u001b[22m\u001b[39m\u001b[33m\u001b[1mWarning: \u001b[22m\u001b[39mThe active manifest file has dependencies that were resolved with a different julia version (1.9.1). Unexpected behavior may occur.\n",
      "\u001b[33m\u001b[1m└ \u001b[22m\u001b[39m\u001b[90m@ ~/Desktop/research/rfq-nn/Manifest.toml:0\u001b[39m\n"
     ]
    }
   ],
   "source": [
    "using Pkg\n",
    "Pkg.activate(\"../.\")\n",
    "Pkg.instantiate()"
   ]
  },
  {
   "cell_type": "code",
   "execution_count": 2,
   "metadata": {},
   "outputs": [
    {
     "data": {
      "text/plain": [
       "generatemodelid (generic function with 1 method)"
      ]
     },
     "execution_count": 2,
     "metadata": {},
     "output_type": "execute_result"
    }
   ],
   "source": [
    "include(\"../scan_hyperparameters_withcellnum_functions.jl\")\n",
    "include(\"../helpers_temp.jl\")"
   ]
  },
  {
   "cell_type": "code",
   "execution_count": 17,
   "metadata": {},
   "outputs": [
    {
     "name": "stdout",
     "output_type": "stream",
     "text": [
      "Decorrelating...\n",
      "Done!\n"
     ]
    }
   ],
   "source": [
    "target_directory = \"../data/full_with_cellnumber/\"\n",
    "\n",
    "x_raw_df, y_df, cellnumber_df = getrawdata_withcellnum(target_directory)\n",
    "x_raw_df = hcat(x_raw_df, cellnumber_df .% 2)\n",
    "\n",
    "println(\"Done!\")"
   ]
  },
  {
   "cell_type": "code",
   "execution_count": 32,
   "metadata": {},
   "outputs": [],
   "source": [
    "path = \"../indexes\"\n",
    "train_idx_df = CSV.File(\"$path/train_indexes.csv\"; header=0) |> DataFrame\n",
    "test_idx_df = CSV.File(\"$path/test_indexes.csv\"; header=0) |> DataFrame\n",
    "train_idx = vec(Matrix(train_idx_df));\n",
    "test_idx = vec(Matrix(test_idx_df));"
   ]
  },
  {
   "cell_type": "code",
   "execution_count": 45,
   "metadata": {},
   "outputs": [],
   "source": [
    "@assert length(train_idx) + length(test_idx) <= size(x_df)[1]"
   ]
  },
  {
   "cell_type": "code",
   "execution_count": 46,
   "metadata": {},
   "outputs": [],
   "source": [
    "# mask for transmission\n",
    "transmission_mask = findall(x -> 60 <= x <= 120, y_df[:, \"OBJ1\"]);"
   ]
  },
  {
   "cell_type": "code",
   "execution_count": 74,
   "metadata": {},
   "outputs": [],
   "source": [
    "# new train and test indexes\n",
    "train_idx_with_cut = intersect(train_idx, transmission_mask);\n",
    "test_idx_with_cut = intersect(test_idx, transmission_mask);"
   ]
  },
  {
   "cell_type": "code",
   "execution_count": 76,
   "metadata": {},
   "outputs": [],
   "source": [
    "# sanity checking\n",
    "@assert all([idx ∈ train_idx for idx in train_idx_with_cut])\n",
    "@assert all([idx ∈ test_idx for idx in test_idx_with_cut])\n",
    "\n",
    "@assert all([idx ∈ transmission_mask for idx in train_idx_with_cut])\n",
    "@assert all([idx ∈ transmission_mask for idx in test_idx_with_cut])"
   ]
  },
  {
   "cell_type": "code",
   "execution_count": 77,
   "metadata": {},
   "outputs": [
    {
     "data": {
      "text/plain": [
       "0.799067277717749"
      ]
     },
     "execution_count": 77,
     "metadata": {},
     "output_type": "execute_result"
    }
   ],
   "source": [
    "length(train_idx_with_cut) / (length(train_idx_with_cut) + length(test_idx_with_cut))"
   ]
  },
  {
   "cell_type": "markdown",
   "metadata": {},
   "source": [
    "Still at 80% train / 20% test split. Nice!"
   ]
  },
  {
   "cell_type": "code",
   "execution_count": 78,
   "metadata": {},
   "outputs": [
    {
     "data": {
      "text/plain": [
       "128677"
      ]
     },
     "execution_count": 78,
     "metadata": {},
     "output_type": "execute_result"
    }
   ],
   "source": [
    "length(train_idx_with_cut)"
   ]
  },
  {
   "cell_type": "code",
   "execution_count": 79,
   "metadata": {},
   "outputs": [
    {
     "data": {
      "text/plain": [
       "\"../indexes/transmission_above_60/test_indexes.csv\""
      ]
     },
     "execution_count": 79,
     "metadata": {},
     "output_type": "execute_result"
    }
   ],
   "source": [
    "CSV.write(\n",
    "    \"$path/transmission_above_60/train_indexes.csv\",\n",
    "    DataFrame(Dict(\"col1\" => train_idx_with_cut)); writeheader=false\n",
    ")\n",
    "\n",
    "CSV.write(\n",
    "    \"$path/transmission_above_60/test_indexes.csv\",\n",
    "    DataFrame(Dict(\"col1\" => test_idx_with_cut)); writeheader=false\n",
    ")"
   ]
  },
  {
   "cell_type": "code",
   "execution_count": null,
   "metadata": {},
   "outputs": [],
   "source": []
  }
 ],
 "metadata": {
  "kernelspec": {
   "display_name": "Julia 1.8.0",
   "language": "julia",
   "name": "julia-1.8"
  },
  "language_info": {
   "file_extension": ".jl",
   "mimetype": "application/julia",
   "name": "julia",
   "version": "1.8.0"
  }
 },
 "nbformat": 4,
 "nbformat_minor": 4
}
