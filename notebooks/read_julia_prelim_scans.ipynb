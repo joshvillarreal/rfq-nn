{
 "cells": [
  {
   "cell_type": "code",
   "execution_count": 1,
   "metadata": {},
   "outputs": [],
   "source": [
    "import json\n",
    "import numpy as np\n",
    "import pandas as pd\n",
    "import matplotlib.pyplot as plt"
   ]
  },
  {
   "cell_type": "code",
   "execution_count": 2,
   "metadata": {},
   "outputs": [],
   "source": [
    "d4d5d6_results_files = [\n",
    "    '../results/2022-12-07_17-57-13_results.json',\n",
    "    '../results/2022-12-05_05-30-50_results.json',\n",
    "    '../results/2022-12-05_13-13-35_results.json',\n",
    "]"
   ]
  },
  {
   "cell_type": "code",
   "execution_count": 3,
   "metadata": {},
   "outputs": [
    {
     "data": {
      "text/plain": [
       "9"
      ]
     },
     "execution_count": 3,
     "metadata": {},
     "output_type": "execute_result"
    }
   ],
   "source": [
    "# read in results\n",
    "results = []\n",
    "for filename in d4d5d6_results_files:\n",
    "    with open(filename) as f:\n",
    "        data = json.load(f)\n",
    "        results.append(data[0])\n",
    "        results.append(data[1])\n",
    "        results.append(data[2])\n",
    "        \n",
    "len(results)"
   ]
  },
  {
   "cell_type": "code",
   "execution_count": 4,
   "metadata": {},
   "outputs": [
    {
     "name": "stdout",
     "output_type": "stream",
     "text": [
      "{'depth': 4, 'optimizer': 'ADAM', 'n_folds': 5, 'dropout_rate': 0.0, 'loss_function': 'mse', 'learning_rate': 0.001, 'n_epochs': 2500, 'width': 50, 'activation_function': 'sigmoid', 'batchsize': 1024}\n",
      "{'depth': 4, 'optimizer': 'ADAM', 'n_folds': 5, 'dropout_rate': 0.0, 'loss_function': 'mse', 'learning_rate': 0.001, 'n_epochs': 2500, 'width': 75, 'activation_function': 'sigmoid', 'batchsize': 1024}\n",
      "{'depth': 4, 'optimizer': 'ADAM', 'n_folds': 5, 'dropout_rate': 0.0, 'loss_function': 'mse', 'learning_rate': 0.001, 'n_epochs': 2500, 'width': 100, 'activation_function': 'sigmoid', 'batchsize': 1024}\n",
      "{'depth': 5, 'optimizer': 'ADAM', 'n_folds': 5, 'dropout_rate': 0.0, 'loss_function': 'mse', 'learning_rate': 0.001, 'n_epochs': 2500, 'width': 50, 'activation_function': 'sigmoid', 'batchsize': 1024}\n",
      "{'depth': 5, 'optimizer': 'ADAM', 'n_folds': 5, 'dropout_rate': 0.0, 'loss_function': 'mse', 'learning_rate': 0.001, 'n_epochs': 2500, 'width': 75, 'activation_function': 'sigmoid', 'batchsize': 1024}\n",
      "{'depth': 5, 'optimizer': 'ADAM', 'n_folds': 5, 'dropout_rate': 0.0, 'loss_function': 'mse', 'learning_rate': 0.001, 'n_epochs': 2500, 'width': 100, 'activation_function': 'sigmoid', 'batchsize': 1024}\n",
      "{'depth': 6, 'optimizer': 'ADAM', 'n_folds': 5, 'dropout_rate': 0.0, 'loss_function': 'mse', 'learning_rate': 0.001, 'n_epochs': 2500, 'width': 50, 'activation_function': 'sigmoid', 'batchsize': 1024}\n",
      "{'depth': 6, 'optimizer': 'ADAM', 'n_folds': 5, 'dropout_rate': 0.0, 'loss_function': 'mse', 'learning_rate': 0.001, 'n_epochs': 2500, 'width': 75, 'activation_function': 'sigmoid', 'batchsize': 1024}\n",
      "{'depth': 6, 'optimizer': 'ADAM', 'n_folds': 5, 'dropout_rate': 0.0, 'loss_function': 'mse', 'learning_rate': 0.001, 'n_epochs': 2500, 'width': 100, 'activation_function': 'sigmoid', 'batchsize': 1024}\n"
     ]
    }
   ],
   "source": [
    "for result in results:\n",
    "    print(result['configs'])"
   ]
  },
  {
   "cell_type": "code",
   "execution_count": 5,
   "metadata": {},
   "outputs": [
    {
     "name": "stdout",
     "output_type": "stream",
     "text": [
      "depth 4, width 50\n",
      "val r2: $ 0.9801 \\pm 0.000101$\n",
      "depth 4, width 75\n",
      "val r2: $ 0.9807 \\pm 0.000219$\n",
      "depth 4, width 100\n",
      "val r2: $ 0.9799 \\pm 0.000167$\n",
      "depth 5, width 50\n",
      "val r2: $ 0.9802 \\pm 0.000193$\n",
      "depth 5, width 75\n",
      "val r2: $ 0.9808 \\pm 0.000132$\n",
      "depth 5, width 100\n",
      "val r2: $ 0.9792 \\pm 0.000219$\n",
      "depth 6, width 50\n",
      "val r2: $ 0.9805 \\pm 0.000263$\n",
      "depth 6, width 75\n",
      "val r2: $ 0.9809 \\pm 0.000175$\n",
      "depth 6, width 100\n",
      "val r2: $ 0.9787 \\pm 0.000265$\n"
     ]
    }
   ],
   "source": [
    "# aggregate r^2 scores\n",
    "for result in results:\n",
    "    print(f\"depth {result['configs']['depth']}, width {result['configs']['width']}\")\n",
    "    total_r2s = result['results']['total']['r2score_val']\n",
    "    print('val r2: $', '{0:.4}'.format(np.mean(total_r2s)) + ' \\\\pm {0:.3}'.format(np.std(total_r2s)) + '$')"
   ]
  },
  {
   "cell_type": "code",
   "execution_count": 6,
   "metadata": {},
   "outputs": [
    {
     "data": {
      "text/plain": [
       "dict_keys(['r2score_train', 'adj_r2score_train', 'mae_train', 'mse_train', 'mae_val', 'mape_train', 'r2score_val', 'mse_val', 'adj_r2score_val', 'mape_val'])"
      ]
     },
     "execution_count": 6,
     "metadata": {},
     "output_type": "execute_result"
    }
   ],
   "source": [
    "results[0]['results']['by_response']['OBJ1'].keys()"
   ]
  },
  {
   "cell_type": "code",
   "execution_count": 7,
   "metadata": {},
   "outputs": [],
   "source": [
    "# mapes by objective\n",
    "def get_mapes_by_objective(results, obj_string, val=True):\n",
    "    output = {}\n",
    "    for result in results:\n",
    "        depth = result['configs']['depth']; width = result['configs']['width']\n",
    "        mapes = result['results']['by_response'][obj_string]['mape_val']\n",
    "        output[f'{depth}_{width}'] = mapes\n",
    "    return output\n",
    "\n",
    "def print_mapes_by_objective(results, obj_string, val=True):\n",
    "    print(obj_string)\n",
    "    for result in results:\n",
    "        conf = f\"depth {result['configs']['depth']}, width {result['configs']['width']}\"\n",
    "        mapes = result['results']['by_response'][obj_string]['mape_val']\n",
    "        print(\n",
    "            conf,\n",
    "            f\"{'val' if val else 'train'} mape $\",\n",
    "            '{0:.4}'.format(np.mean(mapes)) + ' \\\\pm {0:.3}'.format(np.std(mapes)) + '$'\n",
    "        )\n",
    "        \n",
    "def print_mape_table_by_objective(results, obj_string, val=True):\n",
    "    mapes_dict = get_mapes_by_objective(results, obj_string, val=val)\n",
    "    print(f'% {obj_string}')\n",
    "    print('''\n",
    "        \\\\begin{table*}[htp!]\n",
    "        \\centering\n",
    "        \\\\begin{tabular}{|c |c c c|} \n",
    "        \\hline\n",
    "        & Depth 4 & Depth 5 & Depth 6 \\\\\\\\\n",
    "        \\hline\n",
    "    '''\n",
    "    )\n",
    "    for width in [50, 75, 100]:\n",
    "        total_string = f'Width {width} & '\n",
    "        for depth in [4, 5, 6]:\n",
    "            mapes = mapes_dict[f'{depth}_{width}']\n",
    "            total_string += '$' + '{0:.4}'.format(np.mean(mapes)) + ' \\\\pm' + f'{np.std(mapes):.5f}' + ' $ &'\n",
    "        total_string = total_string[:-1]\n",
    "        total_string += '\\\\\\\\'\n",
    "        print(total_string)\n",
    "    suffix = '''\\\\hline\n",
    "        \\end{tabular}\n",
    "        \\caption{\\label{tab:valmape -'''\n",
    "    suffix += obj_string\n",
    "    suffix += '''}Validation set $R^2$ scores for \\\\texttt{OBJ4} (longitudinal emittance).}\n",
    "        \\end{table*}'''\n",
    "    print(suffix)"
   ]
  },
  {
   "cell_type": "code",
   "execution_count": 8,
   "metadata": {},
   "outputs": [
    {
     "name": "stdout",
     "output_type": "stream",
     "text": [
      "% OBJ1\n",
      "\n",
      "        \\begin{table*}[htp!]\n",
      "        \\centering\n",
      "        \\begin{tabular}{|c |c c c|} \n",
      "        \\hline\n",
      "        & Depth 4 & Depth 5 & Depth 6 \\\\\n",
      "        \\hline\n",
      "    \n",
      "Width 50 & $0.01858 \\pm0.00057 $ &$0.01838 \\pm0.00031 $ &$0.01822 \\pm0.00073 $ \\\\\n",
      "Width 75 & $0.01618 \\pm0.00083 $ &$0.01606 \\pm0.00040 $ &$0.01562 \\pm0.00062 $ \\\\\n",
      "Width 100 & $0.01588 \\pm0.00025 $ &$0.01653 \\pm0.00054 $ &$0.0171 \\pm0.00061 $ \\\\\n",
      "\\hline\n",
      "        \\end{tabular}\n",
      "        \\caption{\\label{tab:valmape -OBJ1}Validation set $R^2$ scores for \\texttt{OBJ4} (longitudinal emittance).}\n",
      "        \\end{table*}\n",
      "% OBJ2\n",
      "\n",
      "        \\begin{table*}[htp!]\n",
      "        \\centering\n",
      "        \\begin{tabular}{|c |c c c|} \n",
      "        \\hline\n",
      "        & Depth 4 & Depth 5 & Depth 6 \\\\\n",
      "        \\hline\n",
      "    \n",
      "Width 50 & $0.01806 \\pm0.00007 $ &$0.01814 \\pm0.00008 $ &$0.01806 \\pm0.00008 $ \\\\\n",
      "Width 75 & $0.0181 \\pm0.00007 $ &$0.01806 \\pm0.00005 $ &$0.0181 \\pm0.00003 $ \\\\\n",
      "Width 100 & $0.01816 \\pm0.00005 $ &$0.01823 \\pm0.00006 $ &$0.01829 \\pm0.00010 $ \\\\\n",
      "\\hline\n",
      "        \\end{tabular}\n",
      "        \\caption{\\label{tab:valmape -OBJ2}Validation set $R^2$ scores for \\texttt{OBJ4} (longitudinal emittance).}\n",
      "        \\end{table*}\n",
      "% OBJ3\n",
      "\n",
      "        \\begin{table*}[htp!]\n",
      "        \\centering\n",
      "        \\begin{tabular}{|c |c c c|} \n",
      "        \\hline\n",
      "        & Depth 4 & Depth 5 & Depth 6 \\\\\n",
      "        \\hline\n",
      "    \n",
      "Width 50 & $0.01455 \\pm0.00046 $ &$0.01409 \\pm0.00026 $ &$0.01429 \\pm0.00036 $ \\\\\n",
      "Width 75 & $0.01344 \\pm0.00031 $ &$0.01324 \\pm0.00027 $ &$0.01371 \\pm0.00048 $ \\\\\n",
      "Width 100 & $0.01432 \\pm0.00021 $ &$0.01497 \\pm0.00028 $ &$0.01541 \\pm0.00029 $ \\\\\n",
      "\\hline\n",
      "        \\end{tabular}\n",
      "        \\caption{\\label{tab:valmape -OBJ3}Validation set $R^2$ scores for \\texttt{OBJ4} (longitudinal emittance).}\n",
      "        \\end{table*}\n",
      "% OBJ4\n",
      "\n",
      "        \\begin{table*}[htp!]\n",
      "        \\centering\n",
      "        \\begin{tabular}{|c |c c c|} \n",
      "        \\hline\n",
      "        & Depth 4 & Depth 5 & Depth 6 \\\\\n",
      "        \\hline\n",
      "    \n",
      "Width 50 & $0.08783 \\pm0.00204 $ &$0.08362 \\pm0.00149 $ &$0.0845 \\pm0.00212 $ \\\\\n",
      "Width 75 & $0.07657 \\pm0.00274 $ &$0.07595 \\pm0.00126 $ &$0.07344 \\pm0.00143 $ \\\\\n",
      "Width 100 & $0.07564 \\pm0.00171 $ &$0.07689 \\pm0.00160 $ &$0.07901 \\pm0.00344 $ \\\\\n",
      "\\hline\n",
      "        \\end{tabular}\n",
      "        \\caption{\\label{tab:valmape -OBJ4}Validation set $R^2$ scores for \\texttt{OBJ4} (longitudinal emittance).}\n",
      "        \\end{table*}\n",
      "% OBJ5\n",
      "\n",
      "        \\begin{table*}[htp!]\n",
      "        \\centering\n",
      "        \\begin{tabular}{|c |c c c|} \n",
      "        \\hline\n",
      "        & Depth 4 & Depth 5 & Depth 6 \\\\\n",
      "        \\hline\n",
      "    \n",
      "Width 50 & $0.1178 \\pm0.00171 $ &$0.1186 \\pm0.00083 $ &$0.1174 \\pm0.00178 $ \\\\\n",
      "Width 75 & $0.1161 \\pm0.00181 $ &$0.1165 \\pm0.00089 $ &$0.1156 \\pm0.00179 $ \\\\\n",
      "Width 100 & $0.1183 \\pm0.00125 $ &$0.1174 \\pm0.00117 $ &$0.1184 \\pm0.00170 $ \\\\\n",
      "\\hline\n",
      "        \\end{tabular}\n",
      "        \\caption{\\label{tab:valmape -OBJ5}Validation set $R^2$ scores for \\texttt{OBJ4} (longitudinal emittance).}\n",
      "        \\end{table*}\n",
      "% OBJ6\n",
      "\n",
      "        \\begin{table*}[htp!]\n",
      "        \\centering\n",
      "        \\begin{tabular}{|c |c c c|} \n",
      "        \\hline\n",
      "        & Depth 4 & Depth 5 & Depth 6 \\\\\n",
      "        \\hline\n",
      "    \n",
      "Width 50 & $0.1159 \\pm0.00061 $ &$0.1167 \\pm0.00194 $ &$0.1162 \\pm0.00110 $ \\\\\n",
      "Width 75 & $0.1167 \\pm0.00239 $ &$0.1175 \\pm0.00151 $ &$0.114 \\pm0.00066 $ \\\\\n",
      "Width 100 & $0.1161 \\pm0.00096 $ &$0.116 \\pm0.00085 $ &$0.1175 \\pm0.00146 $ \\\\\n",
      "\\hline\n",
      "        \\end{tabular}\n",
      "        \\caption{\\label{tab:valmape -OBJ6}Validation set $R^2$ scores for \\texttt{OBJ4} (longitudinal emittance).}\n",
      "        \\end{table*}\n"
     ]
    }
   ],
   "source": [
    "for i in range(1, 7):\n",
    "    print_mape_table_by_objective(results, f'OBJ{i}')"
   ]
  },
  {
   "cell_type": "code",
   "execution_count": 9,
   "metadata": {},
   "outputs": [
    {
     "name": "stdout",
     "output_type": "stream",
     "text": [
      "OBJ1\n",
      "depth 4, width 50 val mape $ 0.01858 \\pm 0.000574$\n",
      "depth 4, width 75 val mape $ 0.01618 \\pm 0.000827$\n",
      "depth 4, width 100 val mape $ 0.01588 \\pm 0.00025$\n",
      "depth 5, width 50 val mape $ 0.01838 \\pm 0.00031$\n",
      "depth 5, width 75 val mape $ 0.01606 \\pm 0.000401$\n",
      "depth 5, width 100 val mape $ 0.01653 \\pm 0.000536$\n",
      "depth 6, width 50 val mape $ 0.01822 \\pm 0.000734$\n",
      "depth 6, width 75 val mape $ 0.01562 \\pm 0.000618$\n",
      "depth 6, width 100 val mape $ 0.0171 \\pm 0.000608$\n",
      " \n",
      "OBJ2\n",
      "depth 4, width 50 val mape $ 0.01806 \\pm 6.97e-05$\n",
      "depth 4, width 75 val mape $ 0.0181 \\pm 6.95e-05$\n",
      "depth 4, width 100 val mape $ 0.01816 \\pm 4.88e-05$\n",
      "depth 5, width 50 val mape $ 0.01814 \\pm 8.2e-05$\n",
      "depth 5, width 75 val mape $ 0.01806 \\pm 5.07e-05$\n",
      "depth 5, width 100 val mape $ 0.01823 \\pm 6.3e-05$\n",
      "depth 6, width 50 val mape $ 0.01806 \\pm 7.55e-05$\n",
      "depth 6, width 75 val mape $ 0.0181 \\pm 3.1e-05$\n",
      "depth 6, width 100 val mape $ 0.01829 \\pm 9.58e-05$\n",
      " \n",
      "OBJ3\n",
      "depth 4, width 50 val mape $ 0.01455 \\pm 0.000458$\n",
      "depth 4, width 75 val mape $ 0.01344 \\pm 0.000306$\n",
      "depth 4, width 100 val mape $ 0.01432 \\pm 0.000211$\n",
      "depth 5, width 50 val mape $ 0.01409 \\pm 0.000261$\n",
      "depth 5, width 75 val mape $ 0.01324 \\pm 0.000273$\n",
      "depth 5, width 100 val mape $ 0.01497 \\pm 0.000277$\n",
      "depth 6, width 50 val mape $ 0.01429 \\pm 0.000359$\n",
      "depth 6, width 75 val mape $ 0.01371 \\pm 0.000484$\n",
      "depth 6, width 100 val mape $ 0.01541 \\pm 0.00029$\n",
      " \n",
      "OBJ4\n",
      "depth 4, width 50 val mape $ 0.08783 \\pm 0.00204$\n",
      "depth 4, width 75 val mape $ 0.07657 \\pm 0.00274$\n",
      "depth 4, width 100 val mape $ 0.07564 \\pm 0.00171$\n",
      "depth 5, width 50 val mape $ 0.08362 \\pm 0.00149$\n",
      "depth 5, width 75 val mape $ 0.07595 \\pm 0.00126$\n",
      "depth 5, width 100 val mape $ 0.07689 \\pm 0.0016$\n",
      "depth 6, width 50 val mape $ 0.0845 \\pm 0.00212$\n",
      "depth 6, width 75 val mape $ 0.07344 \\pm 0.00143$\n",
      "depth 6, width 100 val mape $ 0.07901 \\pm 0.00344$\n",
      " \n",
      "OBJ5\n",
      "depth 4, width 50 val mape $ 0.1178 \\pm 0.00171$\n",
      "depth 4, width 75 val mape $ 0.1161 \\pm 0.00181$\n",
      "depth 4, width 100 val mape $ 0.1183 \\pm 0.00125$\n",
      "depth 5, width 50 val mape $ 0.1186 \\pm 0.000833$\n",
      "depth 5, width 75 val mape $ 0.1165 \\pm 0.000891$\n",
      "depth 5, width 100 val mape $ 0.1174 \\pm 0.00117$\n",
      "depth 6, width 50 val mape $ 0.1174 \\pm 0.00178$\n",
      "depth 6, width 75 val mape $ 0.1156 \\pm 0.00179$\n",
      "depth 6, width 100 val mape $ 0.1184 \\pm 0.0017$\n",
      " \n",
      "OBJ6\n",
      "depth 4, width 50 val mape $ 0.1159 \\pm 0.000613$\n",
      "depth 4, width 75 val mape $ 0.1167 \\pm 0.00239$\n",
      "depth 4, width 100 val mape $ 0.1161 \\pm 0.000965$\n",
      "depth 5, width 50 val mape $ 0.1167 \\pm 0.00194$\n",
      "depth 5, width 75 val mape $ 0.1175 \\pm 0.00151$\n",
      "depth 5, width 100 val mape $ 0.116 \\pm 0.00085$\n",
      "depth 6, width 50 val mape $ 0.1162 \\pm 0.0011$\n",
      "depth 6, width 75 val mape $ 0.114 \\pm 0.000664$\n",
      "depth 6, width 100 val mape $ 0.1175 \\pm 0.00146$\n",
      " \n"
     ]
    }
   ],
   "source": [
    "for i in range(1, 7):\n",
    "    print_mapes_by_objective(results, f'OBJ{i}')\n",
    "    print(' ')"
   ]
  },
  {
   "cell_type": "code",
   "execution_count": 117,
   "metadata": {},
   "outputs": [
    {
     "data": {
      "image/png": "[encoded data removed]",
      "text/plain": [
       "<Figure size 720x288 with 2 Axes>"
      ]
     },
     "metadata": {
      "needs_background": "light"
     },
     "output_type": "display_data"
    }
   ],
   "source": [
    "# plotting training histories\n",
    "def get_training_losses(results):\n",
    "    output = {}\n",
    "    for result in results:\n",
    "        depth = result['configs']['depth']; width = result['configs']['width']\n",
    "        losses = result['results']['total']['training_losses']\n",
    "        output[f'{depth}_{width}'] = losses\n",
    "    return output\n",
    "\n",
    "def get_color(depth, width, depths=[4, 5, 6], widths=[50, 75, 100], alpha_adjust=.3, err=False):\n",
    "    lavender = (120, 94, 240)\n",
    "    magenta = (220, 38, 127)\n",
    "    orange = (254, 97, 0)\n",
    "    gold = (255, 176, 0)\n",
    "    \n",
    "    colors = [lavender, magenta, orange, gold]\n",
    "    \n",
    "    if depth not in depths or width not in widths:\n",
    "        raise(NotImplementedError)\n",
    "    else:\n",
    "        didx = depths.index(depth); widx = widths.index(width)\n",
    "        color = tuple(comp/255 for comp in colors[widx])\n",
    "        alpha = (0.9 - alpha_adjust*didx)*(0.1 if err else 1.)\n",
    "    return (*color, alpha)\n",
    "\n",
    "\n",
    "\n",
    "depths = [4, 5, 6]; widths = [50, 75, 100];\n",
    "\n",
    "fig, ax = plt.subplots(1, 1, figsize=(10,4))\n",
    "\n",
    "all_training_losses = get_training_losses(results)\n",
    "epochs = np.arange(1, 2501)\n",
    "\n",
    "for depth in depths:\n",
    "    for width in widths:\n",
    "        training_losses = all_training_losses[f'{depth}_{width}']\n",
    "        ax.plot(np.mean(training_losses, axis=0), color=get_color(depth, width))\n",
    "        ax.errorbar(\n",
    "            epochs, np.mean(training_losses, axis=0),\n",
    "            yerr=np.std(training_losses, axis=0), color=get_color(depth, width, err=True), alpha=0.01)\n",
    "\n",
    "ax.set_ylim([0.5, 0.8])\n",
    "ax.set_xlabel('Epochs')\n",
    "ax.set_ylabel('Mean Squared Error (MSE)')\n",
    "        \n",
    "l, b, h, w = .15, .3, .2, .2\n",
    "ax2 = fig.add_axes([l, b, w, h])\n",
    "ax2.imshow(\n",
    "    np.array([[get_color(depth, width) for depth in depths] for width in widths])\n",
    ")\n",
    "ax2.set_xlabel('Depth')\n",
    "ax2.set_ylabel('Width')\n",
    "ax2.set_xticks([0., 1., 2.])\n",
    "ax2.set_yticks([0., 1., 2.])\n",
    "ax2.set_xticklabels(depths)\n",
    "ax2.set_yticklabels(widths)\n",
    "\n",
    "plt.savefig(\"../img/dec7_hyperparamscan_traininglosses.png\", dpi=500)\n",
    "plt.show()"
   ]
  },
  {
   "cell_type": "code",
   "execution_count": 74,
   "metadata": {},
   "outputs": [
    {
     "data": {
      "text/plain": [
       "array([[[120. ,  94. , 240. ,   0.8],\n",
       "        [220. ,  38. , 127. ,   0.8],\n",
       "        [254. ,  97. ,   0. ,   0.8]],\n",
       "\n",
       "       [[120. ,  94. , 240. ,   0.7],\n",
       "        [220. ,  38. , 127. ,   0.7],\n",
       "        [254. ,  97. ,   0. ,   0.7]],\n",
       "\n",
       "       [[120. ,  94. , 240. ,   0.6],\n",
       "        [220. ,  38. , 127. ,   0.6],\n",
       "        [254. ,  97. ,   0. ,   0.6]]])"
      ]
     },
     "execution_count": 74,
     "metadata": {},
     "output_type": "execute_result"
    }
   ],
   "source": [
    "np.array([[get_color(depth, width) for depth in depths] for width in widths])"
   ]
  },
  {
   "cell_type": "code",
   "execution_count": 25,
   "metadata": {},
   "outputs": [
    {
     "data": {
      "text/plain": [
       "(0.553375, 0.21945, 0.353875)"
      ]
     },
     "execution_count": 25,
     "metadata": {},
     "output_type": "execute_result"
    }
   ],
   "source": [
    "get_color(4, 50)"
   ]
  },
  {
   "cell_type": "code",
   "execution_count": null,
   "metadata": {},
   "outputs": [],
   "source": []
  }
 ],
 "metadata": {
  "kernelspec": {
   "display_name": "Python 3 (ipykernel)",
   "language": "python",
   "name": "python3"
  },
  "language_info": {
   "codemirror_mode": {
    "name": "ipython",
    "version": 3
   },
   "file_extension": ".py",
   "mimetype": "text/x-python",
   "name": "python",
   "nbconvert_exporter": "python",
   "pygments_lexer": "ipython3",
   "version": "3.8.3"
  }
 },
 "nbformat": 4,
 "nbformat_minor": 5
}
