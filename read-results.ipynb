{
 "cells": [
  {
   "cell_type": "code",
   "execution_count": 1,
   "metadata": {},
   "outputs": [],
   "source": [
    "import numpy as np\n",
    "import pandas as pd\n",
    "import json"
   ]
  },
  {
   "cell_type": "code",
   "execution_count": 5,
   "metadata": {},
   "outputs": [],
   "source": [
    "with open('results-copy.json') as json_file:\n",
    "    results_dict = json.load(json_file)"
   ]
  },
  {
   "cell_type": "code",
   "execution_count": 37,
   "metadata": {},
   "outputs": [
    {
     "data": {
      "image/png": "[encoded data removed]",
      "text/plain": [
       "<Figure size 432x288 with 1 Axes>"
      ]
     },
     "metadata": {
      "needs_background": "light"
     },
     "output_type": "display_data"
    }
   ],
   "source": [
    "import matplotlib.pyplot as plt\n",
    "\n",
    "# plot mae\n",
    "train_metric = 'mae_train'\n",
    "test_metric = 'mae_val'\n",
    "\n",
    "plt.errorbar(\n",
    "    x=range(1, 7),\n",
    "    y=np.mean([results_dict['results']['by_response'][f'OBJ{i+1}'][train_metric] for i in range(6)], axis=1),\n",
    "    yerr=np.std([results_dict['results']['by_response'][f'OBJ{i+1}'][train_metric] for i in range(6)], axis=1),\n",
    "    fmt='o', label='train'\n",
    ")\n",
    "plt.errorbar(\n",
    "    x=range(1, 7),\n",
    "    y=np.mean([results_dict['results']['by_response'][f'OBJ{i+1}'][test_metric] for i in range(6)], axis=1),\n",
    "    yerr=np.std([results_dict['results']['by_response'][f'OBJ{i+1}'][test_metric] for i in range(6)], axis=1),\n",
    "    fmt='o', label='validation'\n",
    ")\n",
    "\n",
    "plt.legend()\n",
    "plt.xlabel('Response')\n",
    "plt.ylabel('MAE')\n",
    "\n",
    "plt.show()"
   ]
  },
  {
   "cell_type": "code",
   "execution_count": 38,
   "metadata": {},
   "outputs": [
    {
     "data": {
      "text/plain": [
       "array([4.00652740e-04, 1.95824873e-04, 1.58824185e-04, 8.61563375e-05,\n",
       "       2.25944780e-04, 3.70401561e-04])"
      ]
     },
     "execution_count": 38,
     "metadata": {},
     "output_type": "execute_result"
    }
   ],
   "source": [
    "np.std([results_dict['results']['by_response'][f'OBJ{i+1}'][test_metric] for i in range(6)], axis=1)"
   ]
  },
  {
   "cell_type": "code",
   "execution_count": 42,
   "metadata": {},
   "outputs": [
    {
     "data": {
      "text/plain": [
       "{'depth': 5,\n",
       " 'optimizer': 'ADAM',\n",
       " 'n_folds': 5,\n",
       " 'loss_function': 'mse',\n",
       " 'n_epochs': 2500,\n",
       " 'width': 77,\n",
       " 'batchsize': 1024}"
      ]
     },
     "execution_count": 42,
     "metadata": {},
     "output_type": "execute_result"
    }
   ],
   "source": [
    "results_dict['configs']"
   ]
  },
  {
   "cell_type": "code",
   "execution_count": null,
   "metadata": {},
   "outputs": [],
   "source": []
  }
 ],
 "metadata": {
  "kernelspec": {
   "display_name": "Python 3 (ipykernel)",
   "language": "python",
   "name": "python3"
  },
  "language_info": {
   "codemirror_mode": {
    "name": "ipython",
    "version": 3
   },
   "file_extension": ".py",
   "mimetype": "text/x-python",
   "name": "python",
   "nbconvert_exporter": "python",
   "pygments_lexer": "ipython3",
   "version": "3.8.3"
  }
 },
 "nbformat": 4,
 "nbformat_minor": 4
}
