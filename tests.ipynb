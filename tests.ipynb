{
 "cells": [
  {
   "cell_type": "code",
   "execution_count": 68,
   "metadata": {},
   "outputs": [
    {
     "data": {
      "text/plain": [
       "stratifyarchitecturedimension (generic function with 2 methods)"
      ]
     },
     "execution_count": 68,
     "metadata": {},
     "output_type": "execute_result"
    }
   ],
   "source": [
    "function stratifyarchitecturedimension(specified_min::Int, specified_max::Int, n::Int=5)\n",
    "    if specified_min >= specified_max\n",
    "        return [specified_min]\n",
    "    else\n",
    "        stepsize = (specified_max - specified_min) / (n - 1)\n",
    "        result = []\n",
    "        for i in 1:n-1\n",
    "            push!(result, Int(floor(specified_min + stepsize * (i-1))))\n",
    "        end\n",
    "        push!(result, specified_max)\n",
    "        return unique(result)\n",
    "    end\n",
    "end"
   ]
  },
  {
   "cell_type": "code",
   "execution_count": 69,
   "metadata": {},
   "outputs": [
    {
     "data": {
      "text/plain": [
       "5-element Vector{Any}:\n",
       "  6\n",
       "  7\n",
       "  8\n",
       "  9\n",
       " 10"
      ]
     },
     "execution_count": 69,
     "metadata": {},
     "output_type": "execute_result"
    }
   ],
   "source": [
    "width_range = [6, 10]\n",
    "width_steps = 6\n",
    "stratifyarchitecturedimension(width_range[1], width_range[2], width_steps)"
   ]
  },
  {
   "cell_type": "code",
   "execution_count": null,
   "metadata": {},
   "outputs": [],
   "source": []
  }
 ],
 "metadata": {
  "kernelspec": {
   "display_name": "Julia 1.8.0",
   "language": "julia",
   "name": "julia-1.8"
  },
  "language_info": {
   "file_extension": ".jl",
   "mimetype": "application/julia",
   "name": "julia",
   "version": "1.8.0"
  }
 },
 "nbformat": 4,
 "nbformat_minor": 4
}
